{
 "cells": [
  {
   "cell_type": "code",
   "execution_count": 211,
   "metadata": {},
   "outputs": [
    {
     "data": {
      "text/plain": [
       "(270, 12)"
      ]
     },
     "execution_count": 211,
     "metadata": {},
     "output_type": "execute_result"
    }
   ],
   "source": [
    "import numpy as np\n",
    "import os\n",
    "import json\n",
    "import pandas as pd\n",
    "import re\n",
    "from nltk.corpus import stopwords\n",
    "from nltk.tokenize import word_tokenize\n",
    "import contractions\n",
    "import plotly.io as pio\n",
    "import plotly.graph_objs as go\n",
    "import seaborn as sns\n",
    "pio.renderers.default = \"plotly_mimetype+notebook_connected\"\n",
    "\n",
    "# Load JSON data\n",
    "def read_json_data(folder_path):\n",
    "    data_list = []\n",
    "    for file in os.listdir(folder_path):\n",
    "        with open(os.path.join(folder_path, file), 'r') as f:\n",
    "            json_data = json.load(f)\n",
    "            jobs_results = json_data['jobs_results']\n",
    "            data_list.extend(jobs_results)\n",
    "    df = pd.DataFrame(data_list)\n",
    "    return df\n",
    "\n",
    "df_dc_da = read_json_data('../2023-04-14-job-search-location-DC/data_analysis')\n",
    "df_dc_ds = read_json_data('../2023-04-14-job-search-location-DC/data_science')\n",
    "df_dc_ml = read_json_data('../2023-04-14-job-search-location-DC/machine_learning')\n",
    "\n",
    "df_us_da = read_json_data('../2023-04-14-job-search-location-USA/data_analysis')\n",
    "df_us_ds = read_json_data('../2023-04-14-job-search-location-USA/data_science')\n",
    "df_us_ml = read_json_data('../2023-04-14-job-search-location-USA/machine_learning')\n",
    "\n",
    "# format each df accordingly\n",
    "df_dc_da['job_type']='data_analysis'\n",
    "df_dc_ds['job_type']='data_science'\n",
    "df_dc_ml['job_type']='machine_learning'\n",
    "df_us_da['job_type']='data_analysis'\n",
    "df_us_ds['job_type']='data_science'\n",
    "df_us_ml['job_type']='machine_learning'\n",
    "\n",
    "df_dc_da['location_overall']='DC'\n",
    "df_dc_ds['location_overall']='DC'\n",
    "df_dc_ml['location_overall']='DC'\n",
    "df_us_da['location_overall']='USA'\n",
    "df_us_ds['location_overall']='USA'\n",
    "df_us_ml['location_overall']='USA'\n",
    "\n",
    "# df_us_da= df_us_da[~df_us_da['location'].str.contains('DC')]\n",
    "# df_us_ds= df_us_ds[~df_us_ds['location'].str.contains('DC')]\n",
    "# df_us_ml= df_us_ml[~df_us_ml['location'].str.contains('DC')]\n",
    "\n",
    "\n",
    "# concat dfs\n",
    "df = pd.concat([df_dc_da,df_dc_ds,df_dc_ml,df_us_da,df_us_ds,df_us_ml],axis=0)\n",
    "df.head()\n",
    "\n",
    "df.shape"
   ]
  },
  {
   "cell_type": "code",
   "execution_count": 176,
   "metadata": {},
   "outputs": [],
   "source": [
    "# extract qualifiations, responsibilities and benefits where possible\n",
    "qualifications = []\n",
    "responsibilities = []\n",
    "benefits = []\n",
    "for row in df['job_highlights']:\n",
    "    qual = []\n",
    "    res = []\n",
    "    ben = []\n",
    "    for dictionary in row:\n",
    "        if 'title' in dictionary:\n",
    "            if dictionary['title'] == 'Qualifications':\n",
    "                qual += dictionary['items']\n",
    "            elif dictionary['title'] == 'Responsibilities':\n",
    "                res += dictionary['items']\n",
    "            elif dictionary['title'] == 'Benefits':\n",
    "                ben += dictionary['items']\n",
    "    qualifications.append(qual)\n",
    "    responsibilities.append(res)\n",
    "    benefits.append(ben)\n",
    "\n",
    "\n",
    "schedule_types = []\n",
    "remote_booleans = []\n",
    "for row in df['detected_extensions']:\n",
    "    if 'schedule_type' in row:\n",
    "        schedule_types.append(row['schedule_type'])\n",
    "    else:\n",
    "        schedule_types.append(None) \n",
    "    if 'work_from_home' in row:\n",
    "        remote_booleans.append(row['work_from_home'])\n",
    "    else:\n",
    "        remote_booleans.append(None)\n",
    "\n",
    "\n",
    "# create two new columns\n",
    "df['qualification'] = qualifications\n",
    "df['responsibility'] = responsibilities\n",
    "df['benefits'] = benefits\n",
    "df['schedule_type'] = schedule_types\n",
    "df['remote_status'] = remote_booleans\n",
    "\n",
    "\n",
    "# Define a function to clean the text\n",
    "def clean_text(text):\n",
    "    text = ' '.join(text)\n",
    "    text = contractions.fix(text)\n",
    "    # Remove all the special characters\n",
    "    text = re.sub(r'[^\\w\\s]', '', text)\n",
    "    text = text.lower()\n",
    "    words = word_tokenize(text)\n",
    "    words = [word for word in words if word not in stopwords.words('english')]\n",
    "    text = ' '.join(words)\n",
    "    return text\n",
    "\n",
    "# Apply the function to the \"responsibilities\" column\n",
    "df['responsibility_n'] = df['responsibility'].apply(clean_text)\n",
    "df['qualification_n'] = df['qualification'].apply(clean_text)\n",
    "df['benefits_n'] = df['benefits'].apply(clean_text)\n",
    "\n",
    "df.head()\n",
    "\n",
    "def word_count(df, column):\n",
    "    job_types = df['job_type'].unique()\n",
    "    results = []\n",
    "    # loop through each job type\n",
    "    for job_type in job_types:\n",
    "        job_df = df[df['job_type'] == job_type]\n",
    "        word_count_dict = {}\n",
    "        # loop through each row in the job dataframe\n",
    "        for index, row in job_df.iterrows():\n",
    "            words = row[column].split()\n",
    "            # loop through each word and add it to the dictionary\n",
    "            for word in words:\n",
    "                if word not in word_count_dict:\n",
    "                    word_count_dict[word] = 1\n",
    "                else:\n",
    "                    word_count_dict[word] += 1\n",
    "        # loop through the dictionary and add the results to the list\n",
    "        for word, count in word_count_dict.items():\n",
    "            results.append({'job_type': job_type, 'word': word, 'frequency': count})\n",
    "    \n",
    "    # create a new dataframe from the results list and return it\n",
    "    return pd.DataFrame(results)\n",
    "\n",
    "df_word_count_res = word_count(df, 'responsibility_n')\n",
    "df_word_count_qual = word_count(df, 'qualification_n')\n"
   ]
  },
  {
   "cell_type": "code",
   "execution_count": 199,
   "metadata": {},
   "outputs": [
    {
     "name": "stderr",
     "output_type": "stream",
     "text": [
      "/var/folders/79/jdv69xcs22z7cyxln5rsbzzh0000gn/T/ipykernel_11963/3886497485.py:29: FutureWarning:\n",
      "\n",
      "In a future version of pandas all arguments of StringMethods.split except for the argument 'pat' will be keyword-only.\n",
      "\n"
     ]
    },
    {
     "data": {
      "application/vnd.plotly.v1+json": {
       "config": {
        "plotlyServerURL": "https://plot.ly"
       },
       "data": [
        {
         "boxpoints": "outliers",
         "customdata": [
          "The Lancet",
          "Booz Allen Hamilton",
          "Leidos",
          "Leidos",
          "Howard Hughes Medical Institute (HHMI)",
          "NTT DATA  Services",
          "Cargill",
          "Tendo Systems",
          "WEX",
          "Atmosfy, Inc",
          "Life.Church",
          "Robert Half",
          "ICF",
          "Invitae",
          "Nordstrom",
          "Scratch Financial, Inc.",
          "State of Oklahoma"
         ],
         "hovertemplate": "Company: %{customdata}<br>Average Dollar Amount: %{y}<br><extra></extra>",
         "line": {
          "color": "#99CAFF"
         },
         "marker": {
          "color": "#99CAFF"
         },
         "name": "Data Analysis",
         "type": "box",
         "y": [
          142.5,
          95.5,
          120,
          181.5,
          114.5,
          115.5,
          59.5,
          120,
          113,
          75,
          160,
          102.5,
          78,
          85.5,
          129,
          100,
          65
         ]
        },
        {
         "boxpoints": "outliers",
         "customdata": [
          "Booz Allen Hamilton",
          "Gryphon Scientific",
          "Booz Allen Hamilton",
          "Booz Allen Hamilton",
          "Booz Allen Hamilton",
          "ICF",
          "SRI International",
          "Cogent Security Consulting",
          "SAIC",
          "ClearanceJobs",
          "ManTech International",
          "Booz Allen Hamilton",
          "Gryphon Scientific",
          "ManTech International",
          "Booz Allen Hamilton",
          "Blend360",
          "LandOLakes",
          "Sam's Club",
          "ISSAC LLC",
          "Cottonwood Financial",
          "Reddit",
          "Booz Allen Hamilton",
          "Colgate-Palmolive Company",
          "Caterpillar",
          "Dave Inc.",
          "CoreLogic",
          "Curriculum Associates",
          "SPECTRUM",
          "Cottonwood Financial",
          "Peraton",
          "Reddit",
          "MCKESSON",
          "Northwestern Mutual",
          "Trustees of University of Pennsylvania",
          "Parsons Corporation"
         ],
         "hovertemplate": "Company: %{customdata}<br>Average Dollar Amount: %{y}<br><extra></extra>",
         "line": {
          "color": "#A4CCB6"
         },
         "marker": {
          "color": "#A4CCB6"
         },
         "name": "Data Science ",
         "type": "box",
         "y": [
          119.5,
          62.5,
          152.5,
          152.5,
          119.5,
          148.5,
          113,
          150,
          350,
          119.5,
          125,
          119.5,
          62.5,
          163.5,
          119.5,
          122.5,
          124,
          152,
          112.5,
          121,
          229,
          119.5,
          117.5,
          114,
          220,
          135,
          179.5,
          136.5,
          121,
          86,
          229,
          156,
          173.5,
          96.5,
          111.5
         ]
        },
        {
         "boxpoints": "outliers",
         "customdata": [
          "Booz Allen Hamilton",
          "Booking.com",
          "Peraton",
          "Scale AI",
          "Deloitte",
          "Simplebet",
          "Fable",
          "Chime",
          "Genentech",
          "Apple",
          "Snap Inc.",
          "DoorDash",
          "Curai",
          "Tala",
          "Meetup",
          "Apple",
          "Warner Bros. Discovery",
          "L3Harris",
          "Expedia Group",
          "Genentech",
          "Apple",
          "Facebook",
          "Dropbox",
          "DoorDash",
          "Tala",
          "Chime",
          "2100 NVIDIA USA",
          "ServiceTitan",
          "JR Software Solutions",
          "Booz Allen Hamilton",
          "Lockheed Martin",
          "GSK",
          "Lawrence Livermore National Laboratory",
          "Expedia Group",
          "Genentech",
          "Warner Bros. Discovery",
          "Google"
         ],
         "hovertemplate": "Company: %{customdata}<br>Average Dollar Amount: %{y}<br><extra></extra>",
         "line": {
          "color": "#AECE6D"
         },
         "marker": {
          "color": "#AECE6D"
         },
         "name": "Machine Learning",
         "type": "box",
         "y": [
          152.5,
          236,
          145.5,
          225.5,
          122.5,
          150,
          150,
          199.5,
          196,
          186,
          265.5,
          245,
          175,
          192.5,
          105,
          186,
          133.5,
          90,
          205,
          196,
          286,
          207,
          324.5,
          245,
          192.5,
          199.5,
          207,
          222,
          130,
          152.5,
          159,
          174,
          117,
          205,
          196,
          133.5,
          257
         ]
        }
       ],
       "layout": {
        "font": {
         "color": "white",
         "size": 16
        },
        "height": 500,
        "paper_bgcolor": "#272b2e",
        "template": {
         "data": {
          "bar": [
           {
            "error_x": {
             "color": "#2a3f5f"
            },
            "error_y": {
             "color": "#2a3f5f"
            },
            "marker": {
             "line": {
              "color": "#E5ECF6",
              "width": 0.5
             },
             "pattern": {
              "fillmode": "overlay",
              "size": 10,
              "solidity": 0.2
             }
            },
            "type": "bar"
           }
          ],
          "barpolar": [
           {
            "marker": {
             "line": {
              "color": "#E5ECF6",
              "width": 0.5
             },
             "pattern": {
              "fillmode": "overlay",
              "size": 10,
              "solidity": 0.2
             }
            },
            "type": "barpolar"
           }
          ],
          "carpet": [
           {
            "aaxis": {
             "endlinecolor": "#2a3f5f",
             "gridcolor": "white",
             "linecolor": "white",
             "minorgridcolor": "white",
             "startlinecolor": "#2a3f5f"
            },
            "baxis": {
             "endlinecolor": "#2a3f5f",
             "gridcolor": "white",
             "linecolor": "white",
             "minorgridcolor": "white",
             "startlinecolor": "#2a3f5f"
            },
            "type": "carpet"
           }
          ],
          "choropleth": [
           {
            "colorbar": {
             "outlinewidth": 0,
             "ticks": ""
            },
            "type": "choropleth"
           }
          ],
          "contour": [
           {
            "colorbar": {
             "outlinewidth": 0,
             "ticks": ""
            },
            "colorscale": [
             [
              0,
              "#0d0887"
             ],
             [
              0.1111111111111111,
              "#46039f"
             ],
             [
              0.2222222222222222,
              "#7201a8"
             ],
             [
              0.3333333333333333,
              "#9c179e"
             ],
             [
              0.4444444444444444,
              "#bd3786"
             ],
             [
              0.5555555555555556,
              "#d8576b"
             ],
             [
              0.6666666666666666,
              "#ed7953"
             ],
             [
              0.7777777777777778,
              "#fb9f3a"
             ],
             [
              0.8888888888888888,
              "#fdca26"
             ],
             [
              1,
              "#f0f921"
             ]
            ],
            "type": "contour"
           }
          ],
          "contourcarpet": [
           {
            "colorbar": {
             "outlinewidth": 0,
             "ticks": ""
            },
            "type": "contourcarpet"
           }
          ],
          "heatmap": [
           {
            "colorbar": {
             "outlinewidth": 0,
             "ticks": ""
            },
            "colorscale": [
             [
              0,
              "#0d0887"
             ],
             [
              0.1111111111111111,
              "#46039f"
             ],
             [
              0.2222222222222222,
              "#7201a8"
             ],
             [
              0.3333333333333333,
              "#9c179e"
             ],
             [
              0.4444444444444444,
              "#bd3786"
             ],
             [
              0.5555555555555556,
              "#d8576b"
             ],
             [
              0.6666666666666666,
              "#ed7953"
             ],
             [
              0.7777777777777778,
              "#fb9f3a"
             ],
             [
              0.8888888888888888,
              "#fdca26"
             ],
             [
              1,
              "#f0f921"
             ]
            ],
            "type": "heatmap"
           }
          ],
          "heatmapgl": [
           {
            "colorbar": {
             "outlinewidth": 0,
             "ticks": ""
            },
            "colorscale": [
             [
              0,
              "#0d0887"
             ],
             [
              0.1111111111111111,
              "#46039f"
             ],
             [
              0.2222222222222222,
              "#7201a8"
             ],
             [
              0.3333333333333333,
              "#9c179e"
             ],
             [
              0.4444444444444444,
              "#bd3786"
             ],
             [
              0.5555555555555556,
              "#d8576b"
             ],
             [
              0.6666666666666666,
              "#ed7953"
             ],
             [
              0.7777777777777778,
              "#fb9f3a"
             ],
             [
              0.8888888888888888,
              "#fdca26"
             ],
             [
              1,
              "#f0f921"
             ]
            ],
            "type": "heatmapgl"
           }
          ],
          "histogram": [
           {
            "marker": {
             "pattern": {
              "fillmode": "overlay",
              "size": 10,
              "solidity": 0.2
             }
            },
            "type": "histogram"
           }
          ],
          "histogram2d": [
           {
            "colorbar": {
             "outlinewidth": 0,
             "ticks": ""
            },
            "colorscale": [
             [
              0,
              "#0d0887"
             ],
             [
              0.1111111111111111,
              "#46039f"
             ],
             [
              0.2222222222222222,
              "#7201a8"
             ],
             [
              0.3333333333333333,
              "#9c179e"
             ],
             [
              0.4444444444444444,
              "#bd3786"
             ],
             [
              0.5555555555555556,
              "#d8576b"
             ],
             [
              0.6666666666666666,
              "#ed7953"
             ],
             [
              0.7777777777777778,
              "#fb9f3a"
             ],
             [
              0.8888888888888888,
              "#fdca26"
             ],
             [
              1,
              "#f0f921"
             ]
            ],
            "type": "histogram2d"
           }
          ],
          "histogram2dcontour": [
           {
            "colorbar": {
             "outlinewidth": 0,
             "ticks": ""
            },
            "colorscale": [
             [
              0,
              "#0d0887"
             ],
             [
              0.1111111111111111,
              "#46039f"
             ],
             [
              0.2222222222222222,
              "#7201a8"
             ],
             [
              0.3333333333333333,
              "#9c179e"
             ],
             [
              0.4444444444444444,
              "#bd3786"
             ],
             [
              0.5555555555555556,
              "#d8576b"
             ],
             [
              0.6666666666666666,
              "#ed7953"
             ],
             [
              0.7777777777777778,
              "#fb9f3a"
             ],
             [
              0.8888888888888888,
              "#fdca26"
             ],
             [
              1,
              "#f0f921"
             ]
            ],
            "type": "histogram2dcontour"
           }
          ],
          "mesh3d": [
           {
            "colorbar": {
             "outlinewidth": 0,
             "ticks": ""
            },
            "type": "mesh3d"
           }
          ],
          "parcoords": [
           {
            "line": {
             "colorbar": {
              "outlinewidth": 0,
              "ticks": ""
             }
            },
            "type": "parcoords"
           }
          ],
          "pie": [
           {
            "automargin": true,
            "type": "pie"
           }
          ],
          "scatter": [
           {
            "fillpattern": {
             "fillmode": "overlay",
             "size": 10,
             "solidity": 0.2
            },
            "type": "scatter"
           }
          ],
          "scatter3d": [
           {
            "line": {
             "colorbar": {
              "outlinewidth": 0,
              "ticks": ""
             }
            },
            "marker": {
             "colorbar": {
              "outlinewidth": 0,
              "ticks": ""
             }
            },
            "type": "scatter3d"
           }
          ],
          "scattercarpet": [
           {
            "marker": {
             "colorbar": {
              "outlinewidth": 0,
              "ticks": ""
             }
            },
            "type": "scattercarpet"
           }
          ],
          "scattergeo": [
           {
            "marker": {
             "colorbar": {
              "outlinewidth": 0,
              "ticks": ""
             }
            },
            "type": "scattergeo"
           }
          ],
          "scattergl": [
           {
            "marker": {
             "colorbar": {
              "outlinewidth": 0,
              "ticks": ""
             }
            },
            "type": "scattergl"
           }
          ],
          "scattermapbox": [
           {
            "marker": {
             "colorbar": {
              "outlinewidth": 0,
              "ticks": ""
             }
            },
            "type": "scattermapbox"
           }
          ],
          "scatterpolar": [
           {
            "marker": {
             "colorbar": {
              "outlinewidth": 0,
              "ticks": ""
             }
            },
            "type": "scatterpolar"
           }
          ],
          "scatterpolargl": [
           {
            "marker": {
             "colorbar": {
              "outlinewidth": 0,
              "ticks": ""
             }
            },
            "type": "scatterpolargl"
           }
          ],
          "scatterternary": [
           {
            "marker": {
             "colorbar": {
              "outlinewidth": 0,
              "ticks": ""
             }
            },
            "type": "scatterternary"
           }
          ],
          "surface": [
           {
            "colorbar": {
             "outlinewidth": 0,
             "ticks": ""
            },
            "colorscale": [
             [
              0,
              "#0d0887"
             ],
             [
              0.1111111111111111,
              "#46039f"
             ],
             [
              0.2222222222222222,
              "#7201a8"
             ],
             [
              0.3333333333333333,
              "#9c179e"
             ],
             [
              0.4444444444444444,
              "#bd3786"
             ],
             [
              0.5555555555555556,
              "#d8576b"
             ],
             [
              0.6666666666666666,
              "#ed7953"
             ],
             [
              0.7777777777777778,
              "#fb9f3a"
             ],
             [
              0.8888888888888888,
              "#fdca26"
             ],
             [
              1,
              "#f0f921"
             ]
            ],
            "type": "surface"
           }
          ],
          "table": [
           {
            "cells": {
             "fill": {
              "color": "#EBF0F8"
             },
             "line": {
              "color": "white"
             }
            },
            "header": {
             "fill": {
              "color": "#C8D4E3"
             },
             "line": {
              "color": "white"
             }
            },
            "type": "table"
           }
          ]
         },
         "layout": {
          "annotationdefaults": {
           "arrowcolor": "#2a3f5f",
           "arrowhead": 0,
           "arrowwidth": 1
          },
          "autotypenumbers": "strict",
          "coloraxis": {
           "colorbar": {
            "outlinewidth": 0,
            "ticks": ""
           }
          },
          "colorscale": {
           "diverging": [
            [
             0,
             "#8e0152"
            ],
            [
             0.1,
             "#c51b7d"
            ],
            [
             0.2,
             "#de77ae"
            ],
            [
             0.3,
             "#f1b6da"
            ],
            [
             0.4,
             "#fde0ef"
            ],
            [
             0.5,
             "#f7f7f7"
            ],
            [
             0.6,
             "#e6f5d0"
            ],
            [
             0.7,
             "#b8e186"
            ],
            [
             0.8,
             "#7fbc41"
            ],
            [
             0.9,
             "#4d9221"
            ],
            [
             1,
             "#276419"
            ]
           ],
           "sequential": [
            [
             0,
             "#0d0887"
            ],
            [
             0.1111111111111111,
             "#46039f"
            ],
            [
             0.2222222222222222,
             "#7201a8"
            ],
            [
             0.3333333333333333,
             "#9c179e"
            ],
            [
             0.4444444444444444,
             "#bd3786"
            ],
            [
             0.5555555555555556,
             "#d8576b"
            ],
            [
             0.6666666666666666,
             "#ed7953"
            ],
            [
             0.7777777777777778,
             "#fb9f3a"
            ],
            [
             0.8888888888888888,
             "#fdca26"
            ],
            [
             1,
             "#f0f921"
            ]
           ],
           "sequentialminus": [
            [
             0,
             "#0d0887"
            ],
            [
             0.1111111111111111,
             "#46039f"
            ],
            [
             0.2222222222222222,
             "#7201a8"
            ],
            [
             0.3333333333333333,
             "#9c179e"
            ],
            [
             0.4444444444444444,
             "#bd3786"
            ],
            [
             0.5555555555555556,
             "#d8576b"
            ],
            [
             0.6666666666666666,
             "#ed7953"
            ],
            [
             0.7777777777777778,
             "#fb9f3a"
            ],
            [
             0.8888888888888888,
             "#fdca26"
            ],
            [
             1,
             "#f0f921"
            ]
           ]
          },
          "colorway": [
           "#636efa",
           "#EF553B",
           "#00cc96",
           "#ab63fa",
           "#FFA15A",
           "#19d3f3",
           "#FF6692",
           "#B6E880",
           "#FF97FF",
           "#FECB52"
          ],
          "font": {
           "color": "#2a3f5f"
          },
          "geo": {
           "bgcolor": "white",
           "lakecolor": "white",
           "landcolor": "#E5ECF6",
           "showlakes": true,
           "showland": true,
           "subunitcolor": "white"
          },
          "hoverlabel": {
           "align": "left"
          },
          "hovermode": "closest",
          "mapbox": {
           "style": "light"
          },
          "paper_bgcolor": "white",
          "plot_bgcolor": "#E5ECF6",
          "polar": {
           "angularaxis": {
            "gridcolor": "white",
            "linecolor": "white",
            "ticks": ""
           },
           "bgcolor": "#E5ECF6",
           "radialaxis": {
            "gridcolor": "white",
            "linecolor": "white",
            "ticks": ""
           }
          },
          "scene": {
           "xaxis": {
            "backgroundcolor": "#E5ECF6",
            "gridcolor": "white",
            "gridwidth": 2,
            "linecolor": "white",
            "showbackground": true,
            "ticks": "",
            "zerolinecolor": "white"
           },
           "yaxis": {
            "backgroundcolor": "#E5ECF6",
            "gridcolor": "white",
            "gridwidth": 2,
            "linecolor": "white",
            "showbackground": true,
            "ticks": "",
            "zerolinecolor": "white"
           },
           "zaxis": {
            "backgroundcolor": "#E5ECF6",
            "gridcolor": "white",
            "gridwidth": 2,
            "linecolor": "white",
            "showbackground": true,
            "ticks": "",
            "zerolinecolor": "white"
           }
          },
          "shapedefaults": {
           "line": {
            "color": "#2a3f5f"
           }
          },
          "ternary": {
           "aaxis": {
            "gridcolor": "white",
            "linecolor": "white",
            "ticks": ""
           },
           "baxis": {
            "gridcolor": "white",
            "linecolor": "white",
            "ticks": ""
           },
           "bgcolor": "#E5ECF6",
           "caxis": {
            "gridcolor": "white",
            "linecolor": "white",
            "ticks": ""
           }
          },
          "title": {
           "x": 0.05
          },
          "xaxis": {
           "automargin": true,
           "gridcolor": "white",
           "linecolor": "white",
           "ticks": "",
           "title": {
            "standoff": 15
           },
           "zerolinecolor": "white",
           "zerolinewidth": 2
          },
          "yaxis": {
           "automargin": true,
           "gridcolor": "white",
           "linecolor": "white",
           "ticks": "",
           "title": {
            "standoff": 15
           },
           "zerolinecolor": "white",
           "zerolinewidth": 2
          }
         }
        },
        "title": {
         "text": "Distribution of Salary Among Job Types"
        },
        "width": 800,
        "xaxis": {
         "title": {
          "text": "Job Type"
         }
        },
        "yaxis": {
         "range": [
          0,
          375
         ],
         "title": {
          "text": "Salary (dollars)"
         }
        }
       }
      },
      "text/html": [
       "<div>                            <div id=\"9dfb2ba9-9c78-4a09-948b-2c215d1776e0\" class=\"plotly-graph-div\" style=\"height:500px; width:800px;\"></div>            <script type=\"text/javascript\">                require([\"plotly\"], function(Plotly) {                    window.PLOTLYENV=window.PLOTLYENV || {};                                    if (document.getElementById(\"9dfb2ba9-9c78-4a09-948b-2c215d1776e0\")) {                    Plotly.newPlot(                        \"9dfb2ba9-9c78-4a09-948b-2c215d1776e0\",                        [{\"boxpoints\":\"outliers\",\"customdata\":[\"The Lancet\",\"Booz Allen Hamilton\",\"Leidos\",\"Leidos\",\"Howard Hughes Medical Institute (HHMI)\",\"NTT DATA  Services\",\"Cargill\",\"Tendo Systems\",\"WEX\",\"Atmosfy, Inc\",\"Life.Church\",\"Robert Half\",\"ICF\",\"Invitae\",\"Nordstrom\",\"Scratch Financial, Inc.\",\"State of Oklahoma\"],\"hovertemplate\":\"Company: %{customdata}<br>Average Dollar Amount: %{y}<br><extra></extra>\",\"line\":{\"color\":\"#99CAFF\"},\"marker\":{\"color\":\"#99CAFF\"},\"name\":\"Data Analysis\",\"y\":[142.5,95.5,120.0,181.5,114.5,115.5,59.5,120.0,113.0,75.0,160.0,102.5,78.0,85.5,129.0,100.0,65.0],\"type\":\"box\"},{\"boxpoints\":\"outliers\",\"customdata\":[\"Booz Allen Hamilton\",\"Gryphon Scientific\",\"Booz Allen Hamilton\",\"Booz Allen Hamilton\",\"Booz Allen Hamilton\",\"ICF\",\"SRI International\",\"Cogent Security Consulting\",\"SAIC\",\"ClearanceJobs\",\"ManTech International\",\"Booz Allen Hamilton\",\"Gryphon Scientific\",\"ManTech International\",\"Booz Allen Hamilton\",\"Blend360\",\"LandOLakes\",\"Sam's Club\",\"ISSAC LLC\",\"Cottonwood Financial\",\"Reddit\",\"Booz Allen Hamilton\",\"Colgate-Palmolive Company\",\"Caterpillar\",\"Dave Inc.\",\"CoreLogic\",\"Curriculum Associates\",\"SPECTRUM\",\"Cottonwood Financial\",\"Peraton\",\"Reddit\",\"MCKESSON\",\"Northwestern Mutual\",\"Trustees of University of Pennsylvania\",\"Parsons Corporation\"],\"hovertemplate\":\"Company: %{customdata}<br>Average Dollar Amount: %{y}<br><extra></extra>\",\"line\":{\"color\":\"#A4CCB6\"},\"marker\":{\"color\":\"#A4CCB6\"},\"name\":\"Data Science \",\"y\":[119.5,62.5,152.5,152.5,119.5,148.5,113.0,150.0,350.0,119.5,125.0,119.5,62.5,163.5,119.5,122.5,124.0,152.0,112.5,121.0,229.0,119.5,117.5,114.0,220.0,135.0,179.5,136.5,121.0,86.0,229.0,156.0,173.5,96.5,111.5],\"type\":\"box\"},{\"boxpoints\":\"outliers\",\"customdata\":[\"Booz Allen Hamilton\",\"Booking.com\",\"Peraton\",\"Scale AI\",\"Deloitte\",\"Simplebet\",\"Fable\",\"Chime\",\"Genentech\",\"Apple\",\"Snap Inc.\",\"DoorDash\",\"Curai\",\"Tala\",\"Meetup\",\"Apple\",\"Warner Bros. Discovery\",\"L3Harris\",\"Expedia Group\",\"Genentech\",\"Apple\",\"Facebook\",\"Dropbox\",\"DoorDash\",\"Tala\",\"Chime\",\"2100 NVIDIA USA\",\"ServiceTitan\",\"JR Software Solutions\",\"Booz Allen Hamilton\",\"Lockheed Martin\",\"GSK\",\"Lawrence Livermore National Laboratory\",\"Expedia Group\",\"Genentech\",\"Warner Bros. Discovery\",\"Google\"],\"hovertemplate\":\"Company: %{customdata}<br>Average Dollar Amount: %{y}<br><extra></extra>\",\"line\":{\"color\":\"#AECE6D\"},\"marker\":{\"color\":\"#AECE6D\"},\"name\":\"Machine Learning\",\"y\":[152.5,236.0,145.5,225.5,122.5,150.0,150.0,199.5,196.0,186.0,265.5,245.0,175.0,192.5,105.0,186.0,133.5,90.0,205.0,196.0,286.0,207.0,324.5,245.0,192.5,199.5,207.0,222.0,130.0,152.5,159.0,174.0,117.0,205.0,196.0,133.5,257.0],\"type\":\"box\"}],                        {\"template\":{\"data\":{\"histogram2dcontour\":[{\"type\":\"histogram2dcontour\",\"colorbar\":{\"outlinewidth\":0,\"ticks\":\"\"},\"colorscale\":[[0.0,\"#0d0887\"],[0.1111111111111111,\"#46039f\"],[0.2222222222222222,\"#7201a8\"],[0.3333333333333333,\"#9c179e\"],[0.4444444444444444,\"#bd3786\"],[0.5555555555555556,\"#d8576b\"],[0.6666666666666666,\"#ed7953\"],[0.7777777777777778,\"#fb9f3a\"],[0.8888888888888888,\"#fdca26\"],[1.0,\"#f0f921\"]]}],\"choropleth\":[{\"type\":\"choropleth\",\"colorbar\":{\"outlinewidth\":0,\"ticks\":\"\"}}],\"histogram2d\":[{\"type\":\"histogram2d\",\"colorbar\":{\"outlinewidth\":0,\"ticks\":\"\"},\"colorscale\":[[0.0,\"#0d0887\"],[0.1111111111111111,\"#46039f\"],[0.2222222222222222,\"#7201a8\"],[0.3333333333333333,\"#9c179e\"],[0.4444444444444444,\"#bd3786\"],[0.5555555555555556,\"#d8576b\"],[0.6666666666666666,\"#ed7953\"],[0.7777777777777778,\"#fb9f3a\"],[0.8888888888888888,\"#fdca26\"],[1.0,\"#f0f921\"]]}],\"heatmap\":[{\"type\":\"heatmap\",\"colorbar\":{\"outlinewidth\":0,\"ticks\":\"\"},\"colorscale\":[[0.0,\"#0d0887\"],[0.1111111111111111,\"#46039f\"],[0.2222222222222222,\"#7201a8\"],[0.3333333333333333,\"#9c179e\"],[0.4444444444444444,\"#bd3786\"],[0.5555555555555556,\"#d8576b\"],[0.6666666666666666,\"#ed7953\"],[0.7777777777777778,\"#fb9f3a\"],[0.8888888888888888,\"#fdca26\"],[1.0,\"#f0f921\"]]}],\"heatmapgl\":[{\"type\":\"heatmapgl\",\"colorbar\":{\"outlinewidth\":0,\"ticks\":\"\"},\"colorscale\":[[0.0,\"#0d0887\"],[0.1111111111111111,\"#46039f\"],[0.2222222222222222,\"#7201a8\"],[0.3333333333333333,\"#9c179e\"],[0.4444444444444444,\"#bd3786\"],[0.5555555555555556,\"#d8576b\"],[0.6666666666666666,\"#ed7953\"],[0.7777777777777778,\"#fb9f3a\"],[0.8888888888888888,\"#fdca26\"],[1.0,\"#f0f921\"]]}],\"contourcarpet\":[{\"type\":\"contourcarpet\",\"colorbar\":{\"outlinewidth\":0,\"ticks\":\"\"}}],\"contour\":[{\"type\":\"contour\",\"colorbar\":{\"outlinewidth\":0,\"ticks\":\"\"},\"colorscale\":[[0.0,\"#0d0887\"],[0.1111111111111111,\"#46039f\"],[0.2222222222222222,\"#7201a8\"],[0.3333333333333333,\"#9c179e\"],[0.4444444444444444,\"#bd3786\"],[0.5555555555555556,\"#d8576b\"],[0.6666666666666666,\"#ed7953\"],[0.7777777777777778,\"#fb9f3a\"],[0.8888888888888888,\"#fdca26\"],[1.0,\"#f0f921\"]]}],\"surface\":[{\"type\":\"surface\",\"colorbar\":{\"outlinewidth\":0,\"ticks\":\"\"},\"colorscale\":[[0.0,\"#0d0887\"],[0.1111111111111111,\"#46039f\"],[0.2222222222222222,\"#7201a8\"],[0.3333333333333333,\"#9c179e\"],[0.4444444444444444,\"#bd3786\"],[0.5555555555555556,\"#d8576b\"],[0.6666666666666666,\"#ed7953\"],[0.7777777777777778,\"#fb9f3a\"],[0.8888888888888888,\"#fdca26\"],[1.0,\"#f0f921\"]]}],\"mesh3d\":[{\"type\":\"mesh3d\",\"colorbar\":{\"outlinewidth\":0,\"ticks\":\"\"}}],\"scatter\":[{\"fillpattern\":{\"fillmode\":\"overlay\",\"size\":10,\"solidity\":0.2},\"type\":\"scatter\"}],\"parcoords\":[{\"type\":\"parcoords\",\"line\":{\"colorbar\":{\"outlinewidth\":0,\"ticks\":\"\"}}}],\"scatterpolargl\":[{\"type\":\"scatterpolargl\",\"marker\":{\"colorbar\":{\"outlinewidth\":0,\"ticks\":\"\"}}}],\"bar\":[{\"error_x\":{\"color\":\"#2a3f5f\"},\"error_y\":{\"color\":\"#2a3f5f\"},\"marker\":{\"line\":{\"color\":\"#E5ECF6\",\"width\":0.5},\"pattern\":{\"fillmode\":\"overlay\",\"size\":10,\"solidity\":0.2}},\"type\":\"bar\"}],\"scattergeo\":[{\"type\":\"scattergeo\",\"marker\":{\"colorbar\":{\"outlinewidth\":0,\"ticks\":\"\"}}}],\"scatterpolar\":[{\"type\":\"scatterpolar\",\"marker\":{\"colorbar\":{\"outlinewidth\":0,\"ticks\":\"\"}}}],\"histogram\":[{\"marker\":{\"pattern\":{\"fillmode\":\"overlay\",\"size\":10,\"solidity\":0.2}},\"type\":\"histogram\"}],\"scattergl\":[{\"type\":\"scattergl\",\"marker\":{\"colorbar\":{\"outlinewidth\":0,\"ticks\":\"\"}}}],\"scatter3d\":[{\"type\":\"scatter3d\",\"line\":{\"colorbar\":{\"outlinewidth\":0,\"ticks\":\"\"}},\"marker\":{\"colorbar\":{\"outlinewidth\":0,\"ticks\":\"\"}}}],\"scattermapbox\":[{\"type\":\"scattermapbox\",\"marker\":{\"colorbar\":{\"outlinewidth\":0,\"ticks\":\"\"}}}],\"scatterternary\":[{\"type\":\"scatterternary\",\"marker\":{\"colorbar\":{\"outlinewidth\":0,\"ticks\":\"\"}}}],\"scattercarpet\":[{\"type\":\"scattercarpet\",\"marker\":{\"colorbar\":{\"outlinewidth\":0,\"ticks\":\"\"}}}],\"carpet\":[{\"aaxis\":{\"endlinecolor\":\"#2a3f5f\",\"gridcolor\":\"white\",\"linecolor\":\"white\",\"minorgridcolor\":\"white\",\"startlinecolor\":\"#2a3f5f\"},\"baxis\":{\"endlinecolor\":\"#2a3f5f\",\"gridcolor\":\"white\",\"linecolor\":\"white\",\"minorgridcolor\":\"white\",\"startlinecolor\":\"#2a3f5f\"},\"type\":\"carpet\"}],\"table\":[{\"cells\":{\"fill\":{\"color\":\"#EBF0F8\"},\"line\":{\"color\":\"white\"}},\"header\":{\"fill\":{\"color\":\"#C8D4E3\"},\"line\":{\"color\":\"white\"}},\"type\":\"table\"}],\"barpolar\":[{\"marker\":{\"line\":{\"color\":\"#E5ECF6\",\"width\":0.5},\"pattern\":{\"fillmode\":\"overlay\",\"size\":10,\"solidity\":0.2}},\"type\":\"barpolar\"}],\"pie\":[{\"automargin\":true,\"type\":\"pie\"}]},\"layout\":{\"autotypenumbers\":\"strict\",\"colorway\":[\"#636efa\",\"#EF553B\",\"#00cc96\",\"#ab63fa\",\"#FFA15A\",\"#19d3f3\",\"#FF6692\",\"#B6E880\",\"#FF97FF\",\"#FECB52\"],\"font\":{\"color\":\"#2a3f5f\"},\"hovermode\":\"closest\",\"hoverlabel\":{\"align\":\"left\"},\"paper_bgcolor\":\"white\",\"plot_bgcolor\":\"#E5ECF6\",\"polar\":{\"bgcolor\":\"#E5ECF6\",\"angularaxis\":{\"gridcolor\":\"white\",\"linecolor\":\"white\",\"ticks\":\"\"},\"radialaxis\":{\"gridcolor\":\"white\",\"linecolor\":\"white\",\"ticks\":\"\"}},\"ternary\":{\"bgcolor\":\"#E5ECF6\",\"aaxis\":{\"gridcolor\":\"white\",\"linecolor\":\"white\",\"ticks\":\"\"},\"baxis\":{\"gridcolor\":\"white\",\"linecolor\":\"white\",\"ticks\":\"\"},\"caxis\":{\"gridcolor\":\"white\",\"linecolor\":\"white\",\"ticks\":\"\"}},\"coloraxis\":{\"colorbar\":{\"outlinewidth\":0,\"ticks\":\"\"}},\"colorscale\":{\"sequential\":[[0.0,\"#0d0887\"],[0.1111111111111111,\"#46039f\"],[0.2222222222222222,\"#7201a8\"],[0.3333333333333333,\"#9c179e\"],[0.4444444444444444,\"#bd3786\"],[0.5555555555555556,\"#d8576b\"],[0.6666666666666666,\"#ed7953\"],[0.7777777777777778,\"#fb9f3a\"],[0.8888888888888888,\"#fdca26\"],[1.0,\"#f0f921\"]],\"sequentialminus\":[[0.0,\"#0d0887\"],[0.1111111111111111,\"#46039f\"],[0.2222222222222222,\"#7201a8\"],[0.3333333333333333,\"#9c179e\"],[0.4444444444444444,\"#bd3786\"],[0.5555555555555556,\"#d8576b\"],[0.6666666666666666,\"#ed7953\"],[0.7777777777777778,\"#fb9f3a\"],[0.8888888888888888,\"#fdca26\"],[1.0,\"#f0f921\"]],\"diverging\":[[0,\"#8e0152\"],[0.1,\"#c51b7d\"],[0.2,\"#de77ae\"],[0.3,\"#f1b6da\"],[0.4,\"#fde0ef\"],[0.5,\"#f7f7f7\"],[0.6,\"#e6f5d0\"],[0.7,\"#b8e186\"],[0.8,\"#7fbc41\"],[0.9,\"#4d9221\"],[1,\"#276419\"]]},\"xaxis\":{\"gridcolor\":\"white\",\"linecolor\":\"white\",\"ticks\":\"\",\"title\":{\"standoff\":15},\"zerolinecolor\":\"white\",\"automargin\":true,\"zerolinewidth\":2},\"yaxis\":{\"gridcolor\":\"white\",\"linecolor\":\"white\",\"ticks\":\"\",\"title\":{\"standoff\":15},\"zerolinecolor\":\"white\",\"automargin\":true,\"zerolinewidth\":2},\"scene\":{\"xaxis\":{\"backgroundcolor\":\"#E5ECF6\",\"gridcolor\":\"white\",\"linecolor\":\"white\",\"showbackground\":true,\"ticks\":\"\",\"zerolinecolor\":\"white\",\"gridwidth\":2},\"yaxis\":{\"backgroundcolor\":\"#E5ECF6\",\"gridcolor\":\"white\",\"linecolor\":\"white\",\"showbackground\":true,\"ticks\":\"\",\"zerolinecolor\":\"white\",\"gridwidth\":2},\"zaxis\":{\"backgroundcolor\":\"#E5ECF6\",\"gridcolor\":\"white\",\"linecolor\":\"white\",\"showbackground\":true,\"ticks\":\"\",\"zerolinecolor\":\"white\",\"gridwidth\":2}},\"shapedefaults\":{\"line\":{\"color\":\"#2a3f5f\"}},\"annotationdefaults\":{\"arrowcolor\":\"#2a3f5f\",\"arrowhead\":0,\"arrowwidth\":1},\"geo\":{\"bgcolor\":\"white\",\"landcolor\":\"#E5ECF6\",\"subunitcolor\":\"white\",\"showland\":true,\"showlakes\":true,\"lakecolor\":\"white\"},\"title\":{\"x\":0.05},\"mapbox\":{\"style\":\"light\"}}},\"font\":{\"size\":16,\"color\":\"white\"},\"yaxis\":{\"title\":{\"text\":\"Salary (dollars)\"},\"range\":[0,375]},\"xaxis\":{\"title\":{\"text\":\"Job Type\"}},\"title\":{\"text\":\"Distribution of Salary Among Job Types\"},\"width\":800,\"height\":500,\"paper_bgcolor\":\"#272b2e\"},                        {\"responsive\": true}                    ).then(function(){\n",
       "                            \n",
       "var gd = document.getElementById('9dfb2ba9-9c78-4a09-948b-2c215d1776e0');\n",
       "var x = new MutationObserver(function (mutations, observer) {{\n",
       "        var display = window.getComputedStyle(gd).display;\n",
       "        if (!display || display === 'none') {{\n",
       "            console.log([gd, 'removed!']);\n",
       "            Plotly.purge(gd);\n",
       "            observer.disconnect();\n",
       "        }}\n",
       "}});\n",
       "\n",
       "// Listen for the removal of the full notebook cells\n",
       "var notebookContainer = gd.closest('#notebook-container');\n",
       "if (notebookContainer) {{\n",
       "    x.observe(notebookContainer, {childList: true});\n",
       "}}\n",
       "\n",
       "// Listen for the clearing of the current output cell\n",
       "var outputEl = gd.closest('.output');\n",
       "if (outputEl) {{\n",
       "    x.observe(outputEl, {childList: true});\n",
       "}}\n",
       "\n",
       "                        })                };                });            </script>        </div>"
      ]
     },
     "metadata": {},
     "output_type": "display_data"
    }
   ],
   "source": [
    "def clean_text(text):\n",
    "    # Convert the list of strings to a single string\n",
    "    text = ' '.join(text)\n",
    "    # text = text.replace(',', '')\n",
    "    return text\n",
    "\n",
    "df['benefits_n'] = df['benefits'].apply(clean_text)\n",
    "\n",
    "import re\n",
    "\n",
    "def extract_dollar_amount(text):\n",
    "    return re.findall(r'\\$\\d+(?:\\.\\d+)?', text)\n",
    "    \n",
    "df['dollar_amount'] = df['benefits_n'].apply(extract_dollar_amount)\n",
    "df['dollar_amount'] = df['dollar_amount'].apply(clean_text)\n",
    "df_dollar = df[['job_type','dollar_amount','schedule_type','title','location_overall','company_name','location']]\n",
    "df_dollar = df_dollar[df_dollar['dollar_amount'].str.contains('\\$')]\n",
    "df_dollar['dollar_amount']= df_dollar['dollar_amount'].replace('$89 $169 $89 $147 $89 $147 $89 $169 $89 $147 $89 $169','$89 $169')\n",
    "df_dollar['dollar_amount']= df_dollar['dollar_amount'].replace('$276 $325 $373 $248 $292 $336 $221 $260 $299','$276 $373')\n",
    "df_dollar['dollar_amount']= df_dollar['dollar_amount'].replace('$230 $219 $196 $28','$196 $335')\n",
    "df_dollar['dollar_amount']= df_dollar['dollar_amount'].replace('$20 $182 $262','$182 $262')\n",
    "df_dollar['dollar_amount']= df_dollar['dollar_amount'].replace('$100 $193 $116 $218','$100 $218')\n",
    "df_dollar['dollar_amount']= df_dollar['dollar_amount'].replace('$78 $120 $162','$78 $162')\n",
    "df_dollar['dollar_amount']= df_dollar['dollar_amount'].replace('$118 $182 $245','$118 $245')\n",
    "df_dollar['dollar_amount']= df_dollar['dollar_amount'].replace('$87 $109 $142','$87 $142')\n",
    "\n",
    "df_dollar = df_dollar[~df_dollar['dollar_amount'].isin(['$3 $20','$6 $12','$15','$5250','$55.00','$8 $14','$500'])]\n",
    "\n",
    "df_dollar[['min_dollar_amount','max_dollar_amount']] = df_dollar['dollar_amount'].str.split(' ', 1, expand=True)\n",
    "\n",
    "df_dollar['min_dollar_amount'] = df_dollar['min_dollar_amount'].replace('[\\$,]', '', regex=True).astype(float)\n",
    "df_dollar['max_dollar_amount'] = df_dollar['max_dollar_amount'].replace('[\\$,]', '', regex=True).astype(float)\n",
    "\n",
    "df_dollar['avg_dollar_amount'] = (df_dollar['min_dollar_amount'] + df_dollar['max_dollar_amount'].fillna(df_dollar['min_dollar_amount'])) / 2\n",
    "\n",
    "df_dollar = df_dollar[['job_type','avg_dollar_amount','location_overall','company_name','location']]\n",
    "#df_dollar.to_csv('df_dollar.csv')\n",
    "\n",
    "df_dollar_da = df_dollar[df_dollar['job_type']=='data_analysis']\n",
    "df_dollar_ds = df_dollar[df_dollar['job_type']=='data_science']\n",
    "df_dollar_ml = df_dollar[df_dollar['job_type']=='machine_learning']\n",
    "\n",
    "import plotly.graph_objects as go\n",
    "\n",
    "fig = go.Figure()\n",
    "fig.add_trace(go.Box(\n",
    "    y=df_dollar_da['avg_dollar_amount'],\n",
    "    name=\"Data Analysis\",\n",
    "    boxpoints='outliers',\n",
    "    marker_color='#99CAFF',\n",
    "    line_color='#99CAFF',\n",
    "    hovertemplate='Company: %{customdata}<br>' +\n",
    "                  'Average Dollar Amount: %{y}<br>' +\n",
    "                  '<extra></extra>',\n",
    "    customdata=df_dollar_da['company_name'].tolist()\n",
    "))\n",
    "\n",
    "fig.add_trace(go.Box(\n",
    "    y=df_dollar_ds['avg_dollar_amount'],\n",
    "    name=\"Data Science \",\n",
    "    boxpoints='outliers',\n",
    "    marker_color='#A4CCB6',\n",
    "    line_color='#A4CCB6',\n",
    "    hovertemplate='Company: %{customdata}<br>' +\n",
    "                  'Average Dollar Amount: %{y}<br>' +\n",
    "                  '<extra></extra>',\n",
    "    customdata=df_dollar_ds['company_name'].tolist()\n",
    ")) \n",
    "\n",
    "fig.add_trace(go.Box(\n",
    "    y=df_dollar_ml['avg_dollar_amount'],\n",
    "    name=\"Machine Learning\",\n",
    "    boxpoints='outliers',\n",
    "    marker_color='#AECE6D',\n",
    "    line_color='#AECE6D',\n",
    "    hovertemplate='Company: %{customdata}<br>' +\n",
    "                  'Average Dollar Amount: %{y}<br>' +\n",
    "                  '<extra></extra>',\n",
    "    customdata=df_dollar_ml['company_name'].tolist()\n",
    ")) \n",
    "\n",
    "\n",
    "\n",
    "fig.update_layout(yaxis_title='Salary (dollars)',\n",
    "    xaxis_title='Job Type',\n",
    "    title='Distribution of Salary Among Job Types',\n",
    "    width=800,\n",
    "    height=500,\n",
    "    paper_bgcolor = \"#272b2e\",\n",
    "    font=dict(size = 16, color = 'white')\n",
    ")\n",
    "fig.update_yaxes(range=[0, 375])\n",
    "\n",
    "fig.show()\n",
    "fig.write_html('../images/boxplot1.html')"
   ]
  },
  {
   "cell_type": "code",
   "execution_count": 208,
   "metadata": {},
   "outputs": [
    {
     "data": {
      "application/vnd.plotly.v1+json": {
       "config": {
        "plotlyServerURL": "https://plot.ly"
       },
       "data": [
        {
         "boxpoints": "outliers",
         "customdata": [
          "The Lancet",
          "Booz Allen Hamilton",
          "Leidos",
          "Leidos",
          "Howard Hughes Medical Institute (HHMI)",
          "NTT DATA  Services",
          "Cargill",
          "Tendo Systems",
          "WEX",
          "Atmosfy, Inc",
          "Life.Church",
          "Robert Half",
          "ICF",
          "Invitae",
          "Nordstrom",
          "Scratch Financial, Inc.",
          "State of Oklahoma"
         ],
         "hovertemplate": "Company: %{customdata}<br>Average Dollar Amount: %{y}<br><extra></extra>",
         "line": {
          "color": "#99CAFF"
         },
         "marker": {
          "color": "#99CAFF"
         },
         "name": "Data Analysis",
         "type": "box",
         "x": [
          "USA",
          "USA",
          "USA",
          "USA",
          "USA",
          "USA",
          "DC",
          "DC",
          "DC",
          "DC",
          "DC",
          "DC"
         ],
         "y": [
          142.5,
          95.5,
          120,
          181.5,
          114.5,
          115.5,
          59.5,
          120,
          113,
          75,
          160,
          102.5,
          78,
          85.5,
          129,
          100,
          65
         ]
        },
        {
         "boxpoints": "outliers",
         "customdata": [
          "Booz Allen Hamilton",
          "Gryphon Scientific",
          "Booz Allen Hamilton",
          "Booz Allen Hamilton",
          "Booz Allen Hamilton",
          "ICF",
          "SRI International",
          "Cogent Security Consulting",
          "SAIC",
          "ClearanceJobs",
          "ManTech International",
          "Booz Allen Hamilton",
          "Gryphon Scientific",
          "ManTech International",
          "Booz Allen Hamilton",
          "Blend360",
          "LandOLakes",
          "Sam's Club",
          "ISSAC LLC",
          "Cottonwood Financial",
          "Reddit",
          "Booz Allen Hamilton",
          "Colgate-Palmolive Company",
          "Caterpillar",
          "Dave Inc.",
          "CoreLogic",
          "Curriculum Associates",
          "SPECTRUM",
          "Cottonwood Financial",
          "Peraton",
          "Reddit",
          "MCKESSON",
          "Northwestern Mutual",
          "Trustees of University of Pennsylvania",
          "Parsons Corporation"
         ],
         "hovertemplate": "Company: %{customdata}<br>Average Dollar Amount: %{y}<br><extra></extra>",
         "line": {
          "color": "#A4CCB6"
         },
         "marker": {
          "color": "#A4CCB6"
         },
         "name": "Data Science",
         "type": "box",
         "x": [
          "USA",
          "USA",
          "USA",
          "USA",
          "USA",
          "USA",
          "DC",
          "DC",
          "DC",
          "DC",
          "DC",
          "DC"
         ],
         "y": [
          119.5,
          62.5,
          152.5,
          152.5,
          119.5,
          148.5,
          113,
          150,
          350,
          119.5,
          125,
          119.5,
          62.5,
          163.5,
          119.5,
          122.5,
          124,
          152,
          112.5,
          121,
          229,
          119.5,
          117.5,
          114,
          220,
          135,
          179.5,
          136.5,
          121,
          86,
          229,
          156,
          173.5,
          96.5,
          111.5
         ]
        },
        {
         "boxpoints": "outliers",
         "customdata": [
          "Booz Allen Hamilton",
          "Booking.com",
          "Peraton",
          "Scale AI",
          "Deloitte",
          "Simplebet",
          "Fable",
          "Chime",
          "Genentech",
          "Apple",
          "Snap Inc.",
          "DoorDash",
          "Curai",
          "Tala",
          "Meetup",
          "Apple",
          "Warner Bros. Discovery",
          "L3Harris",
          "Expedia Group",
          "Genentech",
          "Apple",
          "Facebook",
          "Dropbox",
          "DoorDash",
          "Tala",
          "Chime",
          "2100 NVIDIA USA",
          "ServiceTitan",
          "JR Software Solutions",
          "Booz Allen Hamilton",
          "Lockheed Martin",
          "GSK",
          "Lawrence Livermore National Laboratory",
          "Expedia Group",
          "Genentech",
          "Warner Bros. Discovery",
          "Google"
         ],
         "hovertemplate": "Company: %{customdata}<br>Average Dollar Amount: %{y}<br><extra></extra>",
         "line": {
          "color": "#AECE6D"
         },
         "marker": {
          "color": "#AECE6D"
         },
         "name": "Machine Learning",
         "type": "box",
         "x": [
          "USA",
          "USA",
          "USA",
          "USA",
          "USA",
          "USA",
          "DC",
          "DC",
          "DC",
          "DC",
          "DC",
          "DC"
         ],
         "y": [
          152.5,
          236,
          145.5,
          225.5,
          122.5,
          150,
          150,
          199.5,
          196,
          186,
          265.5,
          245,
          175,
          192.5,
          105,
          186,
          133.5,
          90,
          205,
          196,
          286,
          207,
          324.5,
          245,
          192.5,
          199.5,
          207,
          222,
          130,
          152.5,
          159,
          174,
          117,
          205,
          196,
          133.5,
          257
         ]
        }
       ],
       "layout": {
        "boxmode": "group",
        "font": {
         "color": "white",
         "size": 16
        },
        "height": 500,
        "paper_bgcolor": "#272b2e",
        "template": {
         "data": {
          "bar": [
           {
            "error_x": {
             "color": "#2a3f5f"
            },
            "error_y": {
             "color": "#2a3f5f"
            },
            "marker": {
             "line": {
              "color": "#E5ECF6",
              "width": 0.5
             },
             "pattern": {
              "fillmode": "overlay",
              "size": 10,
              "solidity": 0.2
             }
            },
            "type": "bar"
           }
          ],
          "barpolar": [
           {
            "marker": {
             "line": {
              "color": "#E5ECF6",
              "width": 0.5
             },
             "pattern": {
              "fillmode": "overlay",
              "size": 10,
              "solidity": 0.2
             }
            },
            "type": "barpolar"
           }
          ],
          "carpet": [
           {
            "aaxis": {
             "endlinecolor": "#2a3f5f",
             "gridcolor": "white",
             "linecolor": "white",
             "minorgridcolor": "white",
             "startlinecolor": "#2a3f5f"
            },
            "baxis": {
             "endlinecolor": "#2a3f5f",
             "gridcolor": "white",
             "linecolor": "white",
             "minorgridcolor": "white",
             "startlinecolor": "#2a3f5f"
            },
            "type": "carpet"
           }
          ],
          "choropleth": [
           {
            "colorbar": {
             "outlinewidth": 0,
             "ticks": ""
            },
            "type": "choropleth"
           }
          ],
          "contour": [
           {
            "colorbar": {
             "outlinewidth": 0,
             "ticks": ""
            },
            "colorscale": [
             [
              0,
              "#0d0887"
             ],
             [
              0.1111111111111111,
              "#46039f"
             ],
             [
              0.2222222222222222,
              "#7201a8"
             ],
             [
              0.3333333333333333,
              "#9c179e"
             ],
             [
              0.4444444444444444,
              "#bd3786"
             ],
             [
              0.5555555555555556,
              "#d8576b"
             ],
             [
              0.6666666666666666,
              "#ed7953"
             ],
             [
              0.7777777777777778,
              "#fb9f3a"
             ],
             [
              0.8888888888888888,
              "#fdca26"
             ],
             [
              1,
              "#f0f921"
             ]
            ],
            "type": "contour"
           }
          ],
          "contourcarpet": [
           {
            "colorbar": {
             "outlinewidth": 0,
             "ticks": ""
            },
            "type": "contourcarpet"
           }
          ],
          "heatmap": [
           {
            "colorbar": {
             "outlinewidth": 0,
             "ticks": ""
            },
            "colorscale": [
             [
              0,
              "#0d0887"
             ],
             [
              0.1111111111111111,
              "#46039f"
             ],
             [
              0.2222222222222222,
              "#7201a8"
             ],
             [
              0.3333333333333333,
              "#9c179e"
             ],
             [
              0.4444444444444444,
              "#bd3786"
             ],
             [
              0.5555555555555556,
              "#d8576b"
             ],
             [
              0.6666666666666666,
              "#ed7953"
             ],
             [
              0.7777777777777778,
              "#fb9f3a"
             ],
             [
              0.8888888888888888,
              "#fdca26"
             ],
             [
              1,
              "#f0f921"
             ]
            ],
            "type": "heatmap"
           }
          ],
          "heatmapgl": [
           {
            "colorbar": {
             "outlinewidth": 0,
             "ticks": ""
            },
            "colorscale": [
             [
              0,
              "#0d0887"
             ],
             [
              0.1111111111111111,
              "#46039f"
             ],
             [
              0.2222222222222222,
              "#7201a8"
             ],
             [
              0.3333333333333333,
              "#9c179e"
             ],
             [
              0.4444444444444444,
              "#bd3786"
             ],
             [
              0.5555555555555556,
              "#d8576b"
             ],
             [
              0.6666666666666666,
              "#ed7953"
             ],
             [
              0.7777777777777778,
              "#fb9f3a"
             ],
             [
              0.8888888888888888,
              "#fdca26"
             ],
             [
              1,
              "#f0f921"
             ]
            ],
            "type": "heatmapgl"
           }
          ],
          "histogram": [
           {
            "marker": {
             "pattern": {
              "fillmode": "overlay",
              "size": 10,
              "solidity": 0.2
             }
            },
            "type": "histogram"
           }
          ],
          "histogram2d": [
           {
            "colorbar": {
             "outlinewidth": 0,
             "ticks": ""
            },
            "colorscale": [
             [
              0,
              "#0d0887"
             ],
             [
              0.1111111111111111,
              "#46039f"
             ],
             [
              0.2222222222222222,
              "#7201a8"
             ],
             [
              0.3333333333333333,
              "#9c179e"
             ],
             [
              0.4444444444444444,
              "#bd3786"
             ],
             [
              0.5555555555555556,
              "#d8576b"
             ],
             [
              0.6666666666666666,
              "#ed7953"
             ],
             [
              0.7777777777777778,
              "#fb9f3a"
             ],
             [
              0.8888888888888888,
              "#fdca26"
             ],
             [
              1,
              "#f0f921"
             ]
            ],
            "type": "histogram2d"
           }
          ],
          "histogram2dcontour": [
           {
            "colorbar": {
             "outlinewidth": 0,
             "ticks": ""
            },
            "colorscale": [
             [
              0,
              "#0d0887"
             ],
             [
              0.1111111111111111,
              "#46039f"
             ],
             [
              0.2222222222222222,
              "#7201a8"
             ],
             [
              0.3333333333333333,
              "#9c179e"
             ],
             [
              0.4444444444444444,
              "#bd3786"
             ],
             [
              0.5555555555555556,
              "#d8576b"
             ],
             [
              0.6666666666666666,
              "#ed7953"
             ],
             [
              0.7777777777777778,
              "#fb9f3a"
             ],
             [
              0.8888888888888888,
              "#fdca26"
             ],
             [
              1,
              "#f0f921"
             ]
            ],
            "type": "histogram2dcontour"
           }
          ],
          "mesh3d": [
           {
            "colorbar": {
             "outlinewidth": 0,
             "ticks": ""
            },
            "type": "mesh3d"
           }
          ],
          "parcoords": [
           {
            "line": {
             "colorbar": {
              "outlinewidth": 0,
              "ticks": ""
             }
            },
            "type": "parcoords"
           }
          ],
          "pie": [
           {
            "automargin": true,
            "type": "pie"
           }
          ],
          "scatter": [
           {
            "fillpattern": {
             "fillmode": "overlay",
             "size": 10,
             "solidity": 0.2
            },
            "type": "scatter"
           }
          ],
          "scatter3d": [
           {
            "line": {
             "colorbar": {
              "outlinewidth": 0,
              "ticks": ""
             }
            },
            "marker": {
             "colorbar": {
              "outlinewidth": 0,
              "ticks": ""
             }
            },
            "type": "scatter3d"
           }
          ],
          "scattercarpet": [
           {
            "marker": {
             "colorbar": {
              "outlinewidth": 0,
              "ticks": ""
             }
            },
            "type": "scattercarpet"
           }
          ],
          "scattergeo": [
           {
            "marker": {
             "colorbar": {
              "outlinewidth": 0,
              "ticks": ""
             }
            },
            "type": "scattergeo"
           }
          ],
          "scattergl": [
           {
            "marker": {
             "colorbar": {
              "outlinewidth": 0,
              "ticks": ""
             }
            },
            "type": "scattergl"
           }
          ],
          "scattermapbox": [
           {
            "marker": {
             "colorbar": {
              "outlinewidth": 0,
              "ticks": ""
             }
            },
            "type": "scattermapbox"
           }
          ],
          "scatterpolar": [
           {
            "marker": {
             "colorbar": {
              "outlinewidth": 0,
              "ticks": ""
             }
            },
            "type": "scatterpolar"
           }
          ],
          "scatterpolargl": [
           {
            "marker": {
             "colorbar": {
              "outlinewidth": 0,
              "ticks": ""
             }
            },
            "type": "scatterpolargl"
           }
          ],
          "scatterternary": [
           {
            "marker": {
             "colorbar": {
              "outlinewidth": 0,
              "ticks": ""
             }
            },
            "type": "scatterternary"
           }
          ],
          "surface": [
           {
            "colorbar": {
             "outlinewidth": 0,
             "ticks": ""
            },
            "colorscale": [
             [
              0,
              "#0d0887"
             ],
             [
              0.1111111111111111,
              "#46039f"
             ],
             [
              0.2222222222222222,
              "#7201a8"
             ],
             [
              0.3333333333333333,
              "#9c179e"
             ],
             [
              0.4444444444444444,
              "#bd3786"
             ],
             [
              0.5555555555555556,
              "#d8576b"
             ],
             [
              0.6666666666666666,
              "#ed7953"
             ],
             [
              0.7777777777777778,
              "#fb9f3a"
             ],
             [
              0.8888888888888888,
              "#fdca26"
             ],
             [
              1,
              "#f0f921"
             ]
            ],
            "type": "surface"
           }
          ],
          "table": [
           {
            "cells": {
             "fill": {
              "color": "#EBF0F8"
             },
             "line": {
              "color": "white"
             }
            },
            "header": {
             "fill": {
              "color": "#C8D4E3"
             },
             "line": {
              "color": "white"
             }
            },
            "type": "table"
           }
          ]
         },
         "layout": {
          "annotationdefaults": {
           "arrowcolor": "#2a3f5f",
           "arrowhead": 0,
           "arrowwidth": 1
          },
          "autotypenumbers": "strict",
          "coloraxis": {
           "colorbar": {
            "outlinewidth": 0,
            "ticks": ""
           }
          },
          "colorscale": {
           "diverging": [
            [
             0,
             "#8e0152"
            ],
            [
             0.1,
             "#c51b7d"
            ],
            [
             0.2,
             "#de77ae"
            ],
            [
             0.3,
             "#f1b6da"
            ],
            [
             0.4,
             "#fde0ef"
            ],
            [
             0.5,
             "#f7f7f7"
            ],
            [
             0.6,
             "#e6f5d0"
            ],
            [
             0.7,
             "#b8e186"
            ],
            [
             0.8,
             "#7fbc41"
            ],
            [
             0.9,
             "#4d9221"
            ],
            [
             1,
             "#276419"
            ]
           ],
           "sequential": [
            [
             0,
             "#0d0887"
            ],
            [
             0.1111111111111111,
             "#46039f"
            ],
            [
             0.2222222222222222,
             "#7201a8"
            ],
            [
             0.3333333333333333,
             "#9c179e"
            ],
            [
             0.4444444444444444,
             "#bd3786"
            ],
            [
             0.5555555555555556,
             "#d8576b"
            ],
            [
             0.6666666666666666,
             "#ed7953"
            ],
            [
             0.7777777777777778,
             "#fb9f3a"
            ],
            [
             0.8888888888888888,
             "#fdca26"
            ],
            [
             1,
             "#f0f921"
            ]
           ],
           "sequentialminus": [
            [
             0,
             "#0d0887"
            ],
            [
             0.1111111111111111,
             "#46039f"
            ],
            [
             0.2222222222222222,
             "#7201a8"
            ],
            [
             0.3333333333333333,
             "#9c179e"
            ],
            [
             0.4444444444444444,
             "#bd3786"
            ],
            [
             0.5555555555555556,
             "#d8576b"
            ],
            [
             0.6666666666666666,
             "#ed7953"
            ],
            [
             0.7777777777777778,
             "#fb9f3a"
            ],
            [
             0.8888888888888888,
             "#fdca26"
            ],
            [
             1,
             "#f0f921"
            ]
           ]
          },
          "colorway": [
           "#636efa",
           "#EF553B",
           "#00cc96",
           "#ab63fa",
           "#FFA15A",
           "#19d3f3",
           "#FF6692",
           "#B6E880",
           "#FF97FF",
           "#FECB52"
          ],
          "font": {
           "color": "#2a3f5f"
          },
          "geo": {
           "bgcolor": "white",
           "lakecolor": "white",
           "landcolor": "#E5ECF6",
           "showlakes": true,
           "showland": true,
           "subunitcolor": "white"
          },
          "hoverlabel": {
           "align": "left"
          },
          "hovermode": "closest",
          "mapbox": {
           "style": "light"
          },
          "paper_bgcolor": "white",
          "plot_bgcolor": "#E5ECF6",
          "polar": {
           "angularaxis": {
            "gridcolor": "white",
            "linecolor": "white",
            "ticks": ""
           },
           "bgcolor": "#E5ECF6",
           "radialaxis": {
            "gridcolor": "white",
            "linecolor": "white",
            "ticks": ""
           }
          },
          "scene": {
           "xaxis": {
            "backgroundcolor": "#E5ECF6",
            "gridcolor": "white",
            "gridwidth": 2,
            "linecolor": "white",
            "showbackground": true,
            "ticks": "",
            "zerolinecolor": "white"
           },
           "yaxis": {
            "backgroundcolor": "#E5ECF6",
            "gridcolor": "white",
            "gridwidth": 2,
            "linecolor": "white",
            "showbackground": true,
            "ticks": "",
            "zerolinecolor": "white"
           },
           "zaxis": {
            "backgroundcolor": "#E5ECF6",
            "gridcolor": "white",
            "gridwidth": 2,
            "linecolor": "white",
            "showbackground": true,
            "ticks": "",
            "zerolinecolor": "white"
           }
          },
          "shapedefaults": {
           "line": {
            "color": "#2a3f5f"
           }
          },
          "ternary": {
           "aaxis": {
            "gridcolor": "white",
            "linecolor": "white",
            "ticks": ""
           },
           "baxis": {
            "gridcolor": "white",
            "linecolor": "white",
            "ticks": ""
           },
           "bgcolor": "#E5ECF6",
           "caxis": {
            "gridcolor": "white",
            "linecolor": "white",
            "ticks": ""
           }
          },
          "title": {
           "x": 0.05
          },
          "xaxis": {
           "automargin": true,
           "gridcolor": "white",
           "linecolor": "white",
           "ticks": "",
           "title": {
            "standoff": 15
           },
           "zerolinecolor": "white",
           "zerolinewidth": 2
          },
          "yaxis": {
           "automargin": true,
           "gridcolor": "white",
           "linecolor": "white",
           "ticks": "",
           "title": {
            "standoff": 15
           },
           "zerolinecolor": "white",
           "zerolinewidth": 2
          }
         }
        },
        "title": {
         "text": "Distribution of Salary Among Job Types and Location"
        },
        "width": 800,
        "xaxis": {
         "title": {
          "text": "Location"
         }
        },
        "yaxis": {
         "range": [
          0,
          375
         ],
         "title": {
          "text": "Salary (dollars)"
         }
        }
       }
      },
      "text/html": [
       "<div>                            <div id=\"36ec2330-99bd-4b39-ba8a-7d22e6c31e99\" class=\"plotly-graph-div\" style=\"height:500px; width:800px;\"></div>            <script type=\"text/javascript\">                require([\"plotly\"], function(Plotly) {                    window.PLOTLYENV=window.PLOTLYENV || {};                                    if (document.getElementById(\"36ec2330-99bd-4b39-ba8a-7d22e6c31e99\")) {                    Plotly.newPlot(                        \"36ec2330-99bd-4b39-ba8a-7d22e6c31e99\",                        [{\"boxpoints\":\"outliers\",\"customdata\":[\"The Lancet\",\"Booz Allen Hamilton\",\"Leidos\",\"Leidos\",\"Howard Hughes Medical Institute (HHMI)\",\"NTT DATA  Services\",\"Cargill\",\"Tendo Systems\",\"WEX\",\"Atmosfy, Inc\",\"Life.Church\",\"Robert Half\",\"ICF\",\"Invitae\",\"Nordstrom\",\"Scratch Financial, Inc.\",\"State of Oklahoma\"],\"hovertemplate\":\"Company: %{customdata}<br>Average Dollar Amount: %{y}<br><extra></extra>\",\"line\":{\"color\":\"#99CAFF\"},\"marker\":{\"color\":\"#99CAFF\"},\"name\":\"Data Analysis\",\"x\":[\"USA\",\"USA\",\"USA\",\"USA\",\"USA\",\"USA\",\"DC\",\"DC\",\"DC\",\"DC\",\"DC\",\"DC\"],\"y\":[142.5,95.5,120.0,181.5,114.5,115.5,59.5,120.0,113.0,75.0,160.0,102.5,78.0,85.5,129.0,100.0,65.0],\"type\":\"box\"},{\"boxpoints\":\"outliers\",\"customdata\":[\"Booz Allen Hamilton\",\"Gryphon Scientific\",\"Booz Allen Hamilton\",\"Booz Allen Hamilton\",\"Booz Allen Hamilton\",\"ICF\",\"SRI International\",\"Cogent Security Consulting\",\"SAIC\",\"ClearanceJobs\",\"ManTech International\",\"Booz Allen Hamilton\",\"Gryphon Scientific\",\"ManTech International\",\"Booz Allen Hamilton\",\"Blend360\",\"LandOLakes\",\"Sam's Club\",\"ISSAC LLC\",\"Cottonwood Financial\",\"Reddit\",\"Booz Allen Hamilton\",\"Colgate-Palmolive Company\",\"Caterpillar\",\"Dave Inc.\",\"CoreLogic\",\"Curriculum Associates\",\"SPECTRUM\",\"Cottonwood Financial\",\"Peraton\",\"Reddit\",\"MCKESSON\",\"Northwestern Mutual\",\"Trustees of University of Pennsylvania\",\"Parsons Corporation\"],\"hovertemplate\":\"Company: %{customdata}<br>Average Dollar Amount: %{y}<br><extra></extra>\",\"line\":{\"color\":\"#A4CCB6\"},\"marker\":{\"color\":\"#A4CCB6\"},\"name\":\"Data Science\",\"x\":[\"USA\",\"USA\",\"USA\",\"USA\",\"USA\",\"USA\",\"DC\",\"DC\",\"DC\",\"DC\",\"DC\",\"DC\"],\"y\":[119.5,62.5,152.5,152.5,119.5,148.5,113.0,150.0,350.0,119.5,125.0,119.5,62.5,163.5,119.5,122.5,124.0,152.0,112.5,121.0,229.0,119.5,117.5,114.0,220.0,135.0,179.5,136.5,121.0,86.0,229.0,156.0,173.5,96.5,111.5],\"type\":\"box\"},{\"boxpoints\":\"outliers\",\"customdata\":[\"Booz Allen Hamilton\",\"Booking.com\",\"Peraton\",\"Scale AI\",\"Deloitte\",\"Simplebet\",\"Fable\",\"Chime\",\"Genentech\",\"Apple\",\"Snap Inc.\",\"DoorDash\",\"Curai\",\"Tala\",\"Meetup\",\"Apple\",\"Warner Bros. Discovery\",\"L3Harris\",\"Expedia Group\",\"Genentech\",\"Apple\",\"Facebook\",\"Dropbox\",\"DoorDash\",\"Tala\",\"Chime\",\"2100 NVIDIA USA\",\"ServiceTitan\",\"JR Software Solutions\",\"Booz Allen Hamilton\",\"Lockheed Martin\",\"GSK\",\"Lawrence Livermore National Laboratory\",\"Expedia Group\",\"Genentech\",\"Warner Bros. Discovery\",\"Google\"],\"hovertemplate\":\"Company: %{customdata}<br>Average Dollar Amount: %{y}<br><extra></extra>\",\"line\":{\"color\":\"#AECE6D\"},\"marker\":{\"color\":\"#AECE6D\"},\"name\":\"Machine Learning\",\"x\":[\"USA\",\"USA\",\"USA\",\"USA\",\"USA\",\"USA\",\"DC\",\"DC\",\"DC\",\"DC\",\"DC\",\"DC\"],\"y\":[152.5,236.0,145.5,225.5,122.5,150.0,150.0,199.5,196.0,186.0,265.5,245.0,175.0,192.5,105.0,186.0,133.5,90.0,205.0,196.0,286.0,207.0,324.5,245.0,192.5,199.5,207.0,222.0,130.0,152.5,159.0,174.0,117.0,205.0,196.0,133.5,257.0],\"type\":\"box\"}],                        {\"template\":{\"data\":{\"histogram2dcontour\":[{\"type\":\"histogram2dcontour\",\"colorbar\":{\"outlinewidth\":0,\"ticks\":\"\"},\"colorscale\":[[0.0,\"#0d0887\"],[0.1111111111111111,\"#46039f\"],[0.2222222222222222,\"#7201a8\"],[0.3333333333333333,\"#9c179e\"],[0.4444444444444444,\"#bd3786\"],[0.5555555555555556,\"#d8576b\"],[0.6666666666666666,\"#ed7953\"],[0.7777777777777778,\"#fb9f3a\"],[0.8888888888888888,\"#fdca26\"],[1.0,\"#f0f921\"]]}],\"choropleth\":[{\"type\":\"choropleth\",\"colorbar\":{\"outlinewidth\":0,\"ticks\":\"\"}}],\"histogram2d\":[{\"type\":\"histogram2d\",\"colorbar\":{\"outlinewidth\":0,\"ticks\":\"\"},\"colorscale\":[[0.0,\"#0d0887\"],[0.1111111111111111,\"#46039f\"],[0.2222222222222222,\"#7201a8\"],[0.3333333333333333,\"#9c179e\"],[0.4444444444444444,\"#bd3786\"],[0.5555555555555556,\"#d8576b\"],[0.6666666666666666,\"#ed7953\"],[0.7777777777777778,\"#fb9f3a\"],[0.8888888888888888,\"#fdca26\"],[1.0,\"#f0f921\"]]}],\"heatmap\":[{\"type\":\"heatmap\",\"colorbar\":{\"outlinewidth\":0,\"ticks\":\"\"},\"colorscale\":[[0.0,\"#0d0887\"],[0.1111111111111111,\"#46039f\"],[0.2222222222222222,\"#7201a8\"],[0.3333333333333333,\"#9c179e\"],[0.4444444444444444,\"#bd3786\"],[0.5555555555555556,\"#d8576b\"],[0.6666666666666666,\"#ed7953\"],[0.7777777777777778,\"#fb9f3a\"],[0.8888888888888888,\"#fdca26\"],[1.0,\"#f0f921\"]]}],\"heatmapgl\":[{\"type\":\"heatmapgl\",\"colorbar\":{\"outlinewidth\":0,\"ticks\":\"\"},\"colorscale\":[[0.0,\"#0d0887\"],[0.1111111111111111,\"#46039f\"],[0.2222222222222222,\"#7201a8\"],[0.3333333333333333,\"#9c179e\"],[0.4444444444444444,\"#bd3786\"],[0.5555555555555556,\"#d8576b\"],[0.6666666666666666,\"#ed7953\"],[0.7777777777777778,\"#fb9f3a\"],[0.8888888888888888,\"#fdca26\"],[1.0,\"#f0f921\"]]}],\"contourcarpet\":[{\"type\":\"contourcarpet\",\"colorbar\":{\"outlinewidth\":0,\"ticks\":\"\"}}],\"contour\":[{\"type\":\"contour\",\"colorbar\":{\"outlinewidth\":0,\"ticks\":\"\"},\"colorscale\":[[0.0,\"#0d0887\"],[0.1111111111111111,\"#46039f\"],[0.2222222222222222,\"#7201a8\"],[0.3333333333333333,\"#9c179e\"],[0.4444444444444444,\"#bd3786\"],[0.5555555555555556,\"#d8576b\"],[0.6666666666666666,\"#ed7953\"],[0.7777777777777778,\"#fb9f3a\"],[0.8888888888888888,\"#fdca26\"],[1.0,\"#f0f921\"]]}],\"surface\":[{\"type\":\"surface\",\"colorbar\":{\"outlinewidth\":0,\"ticks\":\"\"},\"colorscale\":[[0.0,\"#0d0887\"],[0.1111111111111111,\"#46039f\"],[0.2222222222222222,\"#7201a8\"],[0.3333333333333333,\"#9c179e\"],[0.4444444444444444,\"#bd3786\"],[0.5555555555555556,\"#d8576b\"],[0.6666666666666666,\"#ed7953\"],[0.7777777777777778,\"#fb9f3a\"],[0.8888888888888888,\"#fdca26\"],[1.0,\"#f0f921\"]]}],\"mesh3d\":[{\"type\":\"mesh3d\",\"colorbar\":{\"outlinewidth\":0,\"ticks\":\"\"}}],\"scatter\":[{\"fillpattern\":{\"fillmode\":\"overlay\",\"size\":10,\"solidity\":0.2},\"type\":\"scatter\"}],\"parcoords\":[{\"type\":\"parcoords\",\"line\":{\"colorbar\":{\"outlinewidth\":0,\"ticks\":\"\"}}}],\"scatterpolargl\":[{\"type\":\"scatterpolargl\",\"marker\":{\"colorbar\":{\"outlinewidth\":0,\"ticks\":\"\"}}}],\"bar\":[{\"error_x\":{\"color\":\"#2a3f5f\"},\"error_y\":{\"color\":\"#2a3f5f\"},\"marker\":{\"line\":{\"color\":\"#E5ECF6\",\"width\":0.5},\"pattern\":{\"fillmode\":\"overlay\",\"size\":10,\"solidity\":0.2}},\"type\":\"bar\"}],\"scattergeo\":[{\"type\":\"scattergeo\",\"marker\":{\"colorbar\":{\"outlinewidth\":0,\"ticks\":\"\"}}}],\"scatterpolar\":[{\"type\":\"scatterpolar\",\"marker\":{\"colorbar\":{\"outlinewidth\":0,\"ticks\":\"\"}}}],\"histogram\":[{\"marker\":{\"pattern\":{\"fillmode\":\"overlay\",\"size\":10,\"solidity\":0.2}},\"type\":\"histogram\"}],\"scattergl\":[{\"type\":\"scattergl\",\"marker\":{\"colorbar\":{\"outlinewidth\":0,\"ticks\":\"\"}}}],\"scatter3d\":[{\"type\":\"scatter3d\",\"line\":{\"colorbar\":{\"outlinewidth\":0,\"ticks\":\"\"}},\"marker\":{\"colorbar\":{\"outlinewidth\":0,\"ticks\":\"\"}}}],\"scattermapbox\":[{\"type\":\"scattermapbox\",\"marker\":{\"colorbar\":{\"outlinewidth\":0,\"ticks\":\"\"}}}],\"scatterternary\":[{\"type\":\"scatterternary\",\"marker\":{\"colorbar\":{\"outlinewidth\":0,\"ticks\":\"\"}}}],\"scattercarpet\":[{\"type\":\"scattercarpet\",\"marker\":{\"colorbar\":{\"outlinewidth\":0,\"ticks\":\"\"}}}],\"carpet\":[{\"aaxis\":{\"endlinecolor\":\"#2a3f5f\",\"gridcolor\":\"white\",\"linecolor\":\"white\",\"minorgridcolor\":\"white\",\"startlinecolor\":\"#2a3f5f\"},\"baxis\":{\"endlinecolor\":\"#2a3f5f\",\"gridcolor\":\"white\",\"linecolor\":\"white\",\"minorgridcolor\":\"white\",\"startlinecolor\":\"#2a3f5f\"},\"type\":\"carpet\"}],\"table\":[{\"cells\":{\"fill\":{\"color\":\"#EBF0F8\"},\"line\":{\"color\":\"white\"}},\"header\":{\"fill\":{\"color\":\"#C8D4E3\"},\"line\":{\"color\":\"white\"}},\"type\":\"table\"}],\"barpolar\":[{\"marker\":{\"line\":{\"color\":\"#E5ECF6\",\"width\":0.5},\"pattern\":{\"fillmode\":\"overlay\",\"size\":10,\"solidity\":0.2}},\"type\":\"barpolar\"}],\"pie\":[{\"automargin\":true,\"type\":\"pie\"}]},\"layout\":{\"autotypenumbers\":\"strict\",\"colorway\":[\"#636efa\",\"#EF553B\",\"#00cc96\",\"#ab63fa\",\"#FFA15A\",\"#19d3f3\",\"#FF6692\",\"#B6E880\",\"#FF97FF\",\"#FECB52\"],\"font\":{\"color\":\"#2a3f5f\"},\"hovermode\":\"closest\",\"hoverlabel\":{\"align\":\"left\"},\"paper_bgcolor\":\"white\",\"plot_bgcolor\":\"#E5ECF6\",\"polar\":{\"bgcolor\":\"#E5ECF6\",\"angularaxis\":{\"gridcolor\":\"white\",\"linecolor\":\"white\",\"ticks\":\"\"},\"radialaxis\":{\"gridcolor\":\"white\",\"linecolor\":\"white\",\"ticks\":\"\"}},\"ternary\":{\"bgcolor\":\"#E5ECF6\",\"aaxis\":{\"gridcolor\":\"white\",\"linecolor\":\"white\",\"ticks\":\"\"},\"baxis\":{\"gridcolor\":\"white\",\"linecolor\":\"white\",\"ticks\":\"\"},\"caxis\":{\"gridcolor\":\"white\",\"linecolor\":\"white\",\"ticks\":\"\"}},\"coloraxis\":{\"colorbar\":{\"outlinewidth\":0,\"ticks\":\"\"}},\"colorscale\":{\"sequential\":[[0.0,\"#0d0887\"],[0.1111111111111111,\"#46039f\"],[0.2222222222222222,\"#7201a8\"],[0.3333333333333333,\"#9c179e\"],[0.4444444444444444,\"#bd3786\"],[0.5555555555555556,\"#d8576b\"],[0.6666666666666666,\"#ed7953\"],[0.7777777777777778,\"#fb9f3a\"],[0.8888888888888888,\"#fdca26\"],[1.0,\"#f0f921\"]],\"sequentialminus\":[[0.0,\"#0d0887\"],[0.1111111111111111,\"#46039f\"],[0.2222222222222222,\"#7201a8\"],[0.3333333333333333,\"#9c179e\"],[0.4444444444444444,\"#bd3786\"],[0.5555555555555556,\"#d8576b\"],[0.6666666666666666,\"#ed7953\"],[0.7777777777777778,\"#fb9f3a\"],[0.8888888888888888,\"#fdca26\"],[1.0,\"#f0f921\"]],\"diverging\":[[0,\"#8e0152\"],[0.1,\"#c51b7d\"],[0.2,\"#de77ae\"],[0.3,\"#f1b6da\"],[0.4,\"#fde0ef\"],[0.5,\"#f7f7f7\"],[0.6,\"#e6f5d0\"],[0.7,\"#b8e186\"],[0.8,\"#7fbc41\"],[0.9,\"#4d9221\"],[1,\"#276419\"]]},\"xaxis\":{\"gridcolor\":\"white\",\"linecolor\":\"white\",\"ticks\":\"\",\"title\":{\"standoff\":15},\"zerolinecolor\":\"white\",\"automargin\":true,\"zerolinewidth\":2},\"yaxis\":{\"gridcolor\":\"white\",\"linecolor\":\"white\",\"ticks\":\"\",\"title\":{\"standoff\":15},\"zerolinecolor\":\"white\",\"automargin\":true,\"zerolinewidth\":2},\"scene\":{\"xaxis\":{\"backgroundcolor\":\"#E5ECF6\",\"gridcolor\":\"white\",\"linecolor\":\"white\",\"showbackground\":true,\"ticks\":\"\",\"zerolinecolor\":\"white\",\"gridwidth\":2},\"yaxis\":{\"backgroundcolor\":\"#E5ECF6\",\"gridcolor\":\"white\",\"linecolor\":\"white\",\"showbackground\":true,\"ticks\":\"\",\"zerolinecolor\":\"white\",\"gridwidth\":2},\"zaxis\":{\"backgroundcolor\":\"#E5ECF6\",\"gridcolor\":\"white\",\"linecolor\":\"white\",\"showbackground\":true,\"ticks\":\"\",\"zerolinecolor\":\"white\",\"gridwidth\":2}},\"shapedefaults\":{\"line\":{\"color\":\"#2a3f5f\"}},\"annotationdefaults\":{\"arrowcolor\":\"#2a3f5f\",\"arrowhead\":0,\"arrowwidth\":1},\"geo\":{\"bgcolor\":\"white\",\"landcolor\":\"#E5ECF6\",\"subunitcolor\":\"white\",\"showland\":true,\"showlakes\":true,\"lakecolor\":\"white\"},\"title\":{\"x\":0.05},\"mapbox\":{\"style\":\"light\"}}},\"font\":{\"size\":16,\"color\":\"white\"},\"yaxis\":{\"title\":{\"text\":\"Salary (dollars)\"},\"range\":[0,375]},\"xaxis\":{\"title\":{\"text\":\"Location\"}},\"title\":{\"text\":\"Distribution of Salary Among Job Types and Location\"},\"boxmode\":\"group\",\"width\":800,\"height\":500,\"paper_bgcolor\":\"#272b2e\"},                        {\"responsive\": true}                    ).then(function(){\n",
       "                            \n",
       "var gd = document.getElementById('36ec2330-99bd-4b39-ba8a-7d22e6c31e99');\n",
       "var x = new MutationObserver(function (mutations, observer) {{\n",
       "        var display = window.getComputedStyle(gd).display;\n",
       "        if (!display || display === 'none') {{\n",
       "            console.log([gd, 'removed!']);\n",
       "            Plotly.purge(gd);\n",
       "            observer.disconnect();\n",
       "        }}\n",
       "}});\n",
       "\n",
       "// Listen for the removal of the full notebook cells\n",
       "var notebookContainer = gd.closest('#notebook-container');\n",
       "if (notebookContainer) {{\n",
       "    x.observe(notebookContainer, {childList: true});\n",
       "}}\n",
       "\n",
       "// Listen for the clearing of the current output cell\n",
       "var outputEl = gd.closest('.output');\n",
       "if (outputEl) {{\n",
       "    x.observe(outputEl, {childList: true});\n",
       "}}\n",
       "\n",
       "                        })                };                });            </script>        </div>"
      ]
     },
     "metadata": {},
     "output_type": "display_data"
    }
   ],
   "source": [
    "import plotly.graph_objects as go\n",
    "\n",
    "df_dollar_da = df_dollar_da[~((df_dollar_da['location'].str.contains('DC')) & (df_dollar_da['location_overall'] == 'USA'))]\n",
    "df_dollar_ds = df_dollar_ds[~((df_dollar_ds['location'].str.contains('DC')) & (df_dollar_ds['location_overall'] == 'USA'))]\n",
    "df_dollar_ml = df_dollar_ml[~((df_dollar_ml['location'].str.contains('DC')) & (df_dollar_ml['location_overall'] == 'USA'))]\n",
    "\n",
    "x = ['USA', 'USA', 'USA', 'USA', 'USA', 'USA',\n",
    "     'DC', 'DC', 'DC', 'DC', 'DC', 'DC']\n",
    "\n",
    "fig = go.Figure()\n",
    "\n",
    "fig.add_trace(go.Box(\n",
    "    y=df_dollar_da['avg_dollar_amount'],\n",
    "    x=x,\n",
    "    name=\"Data Analysis\",\n",
    "    boxpoints='outliers', # only outliers\n",
    "    marker_color='#99CAFF',\n",
    "    line_color='#99CAFF',\n",
    "    hovertemplate='Company: %{customdata}<br>' +\n",
    "                  'Average Dollar Amount: %{y}<br>' +\n",
    "                  '<extra></extra>',\n",
    "    customdata=df_dollar_da['company_name'].tolist()\n",
    "))\n",
    "fig.add_trace(go.Box(\n",
    "    y=df_dollar_ds['avg_dollar_amount'],\n",
    "    x = x,\n",
    "    name=\"Data Science\",\n",
    "    boxpoints='outliers', # only outliers\n",
    "    marker_color='#A4CCB6',\n",
    "    line_color='#A4CCB6',\n",
    "    hovertemplate='Company: %{customdata}<br>' +\n",
    "                  'Average Dollar Amount: %{y}<br>' +\n",
    "                  '<extra></extra>',\n",
    "    customdata=df_dollar_ds['company_name'].tolist()\n",
    "))\n",
    "fig.add_trace(go.Box(\n",
    "    y=df_dollar_ml['avg_dollar_amount'],\n",
    "    x = x,\n",
    "    name=\"Machine Learning\",\n",
    "    boxpoints='outliers', # only outliers\n",
    "    marker_color='#AECE6D',\n",
    "    line_color='#AECE6D',\n",
    "    hovertemplate='Company: %{customdata}<br>' +\n",
    "                  'Average Dollar Amount: %{y}<br>' +\n",
    "                  '<extra></extra>',\n",
    "    customdata=df_dollar_ml['company_name'].tolist()\n",
    "))\n",
    "\n",
    "fig.update_layout(\n",
    "    yaxis_title='Salary (dollars)',\n",
    "    xaxis_title='Location',\n",
    "    title='Distribution of Salary Among Job Types and Location',\n",
    "    boxmode='group',\n",
    "    width=800,\n",
    "    height=500,\n",
    "    paper_bgcolor = \"#272b2e\",\n",
    "    font=dict(size = 16, color = 'white')\n",
    ")\n",
    "\n",
    "fig.update_yaxes(range=[0, 375])\n",
    "\n",
    "fig.show()\n",
    "fig.write_html('../images/boxplot2.html')"
   ]
  },
  {
   "cell_type": "code",
   "execution_count": 131,
   "metadata": {},
   "outputs": [
    {
     "data": {
      "application/vnd.plotly.v1+json": {
       "config": {
        "plotlyServerURL": "https://plot.ly"
       },
       "data": [
        {
         "branchvalues": "total",
         "customdata": [
          [
           35,
           "analytics"
          ],
          [
           86,
           "degree"
          ],
          [
           124,
           "skills"
          ],
          [
           246,
           "experience"
          ],
          [
           31,
           "excel"
          ],
          [
           35,
           "must"
          ],
          [
           33,
           "field"
          ],
          [
           70,
           "analysis"
          ],
          [
           45,
           "communication"
          ],
          [
           32,
           "statistics"
          ],
          [
           46,
           "working"
          ],
          [
           113,
           "years"
          ],
          [
           146,
           "ability"
          ],
          [
           73,
           "strong"
          ],
          [
           32,
           "science"
          ],
          [
           39,
           "required"
          ],
          [
           37,
           "information"
          ],
          [
           45,
           "management"
          ],
          [
           45,
           "sql"
          ],
          [
           33,
           "environment"
          ],
          [
           69,
           "related"
          ],
          [
           80,
           "work"
          ],
          [
           48,
           "bachelors"
          ],
          [
           46,
           "knowledge"
          ],
          [
           50,
           "tools"
          ],
          [
           223,
           "data"
          ],
          [
           29,
           "excellent"
          ],
          [
           48,
           "computer"
          ],
          [
           36,
           "including"
          ],
          [
           67,
           "business"
          ],
          [
           2042,
           "(?)"
          ]
         ],
         "domain": {
          "x": [
           0,
           1
          ],
          "y": [
           0,
           1
          ]
         },
         "hovertemplate": "<b>%{label}</b><br>Frequency:%{customdata[0]:.0f}",
         "ids": [
          "data_analysis/analytics",
          "data_analysis/degree",
          "data_analysis/skills",
          "data_analysis/experience",
          "data_analysis/excel",
          "data_analysis/must",
          "data_analysis/field",
          "data_analysis/analysis",
          "data_analysis/communication",
          "data_analysis/statistics",
          "data_analysis/working",
          "data_analysis/years",
          "data_analysis/ability",
          "data_analysis/strong",
          "data_analysis/science",
          "data_analysis/required",
          "data_analysis/information",
          "data_analysis/management",
          "data_analysis/sql",
          "data_analysis/environment",
          "data_analysis/related",
          "data_analysis/work",
          "data_analysis/bachelors",
          "data_analysis/knowledge",
          "data_analysis/tools",
          "data_analysis/data",
          "data_analysis/excellent",
          "data_analysis/computer",
          "data_analysis/including",
          "data_analysis/business",
          "data_analysis"
         ],
         "labels": [
          "analytics",
          "degree",
          "skills",
          "experience",
          "excel",
          "must",
          "field",
          "analysis",
          "communication",
          "statistics",
          "working",
          "years",
          "ability",
          "strong",
          "science",
          "required",
          "information",
          "management",
          "sql",
          "environment",
          "related",
          "work",
          "bachelors",
          "knowledge",
          "tools",
          "data",
          "excellent",
          "computer",
          "including",
          "business",
          "data_analysis"
         ],
         "marker": {
          "colors": [
           "#86B4E6",
           "#73952F",
           "#C7D3AB",
           "#AECE6D",
           "#3A6194",
           "#697E53",
           "#1F3053",
           "#3B5873",
           "#86B4E6",
           "#73952F",
           "#C7D3AB",
           "#AECE6D",
           "#3A6194",
           "#697E53",
           "#1F3053",
           "#3B5873",
           "#86B4E6",
           "#73952F",
           "#C7D3AB",
           "#AECE6D",
           "#3A6194",
           "#697E53",
           "#1F3053",
           "#3B5873",
           "#86B4E6",
           "#73952F",
           "#C7D3AB",
           "#AECE6D",
           "#3A6194",
           "#697E53",
           "#1F3053"
          ],
          "line": {
           "width": 0
          }
         },
         "name": "",
         "parents": [
          "data_analysis",
          "data_analysis",
          "data_analysis",
          "data_analysis",
          "data_analysis",
          "data_analysis",
          "data_analysis",
          "data_analysis",
          "data_analysis",
          "data_analysis",
          "data_analysis",
          "data_analysis",
          "data_analysis",
          "data_analysis",
          "data_analysis",
          "data_analysis",
          "data_analysis",
          "data_analysis",
          "data_analysis",
          "data_analysis",
          "data_analysis",
          "data_analysis",
          "data_analysis",
          "data_analysis",
          "data_analysis",
          "data_analysis",
          "data_analysis",
          "data_analysis",
          "data_analysis",
          "data_analysis",
          ""
         ],
         "textfont": {
          "color": "white"
         },
         "type": "treemap",
         "values": [
          35,
          86,
          124,
          246,
          31,
          35,
          33,
          70,
          45,
          32,
          46,
          113,
          146,
          73,
          32,
          39,
          37,
          45,
          45,
          33,
          69,
          80,
          48,
          46,
          50,
          223,
          29,
          48,
          36,
          67,
          2042
         ]
        }
       ],
       "layout": {
        "font": {
         "color": "white",
         "size": 16
        },
        "height": 600,
        "legend": {
         "tracegroupgap": 0
        },
        "margin": {
         "b": 25,
         "l": 25,
         "r": 25,
         "t": 85
        },
        "paper_bgcolor": "#272b2e",
        "plot_bgcolor": "#272b2e",
        "template": {
         "data": {
          "bar": [
           {
            "error_x": {
             "color": "#2a3f5f"
            },
            "error_y": {
             "color": "#2a3f5f"
            },
            "marker": {
             "line": {
              "color": "#E5ECF6",
              "width": 0.5
             },
             "pattern": {
              "fillmode": "overlay",
              "size": 10,
              "solidity": 0.2
             }
            },
            "type": "bar"
           }
          ],
          "barpolar": [
           {
            "marker": {
             "line": {
              "color": "#E5ECF6",
              "width": 0.5
             },
             "pattern": {
              "fillmode": "overlay",
              "size": 10,
              "solidity": 0.2
             }
            },
            "type": "barpolar"
           }
          ],
          "carpet": [
           {
            "aaxis": {
             "endlinecolor": "#2a3f5f",
             "gridcolor": "white",
             "linecolor": "white",
             "minorgridcolor": "white",
             "startlinecolor": "#2a3f5f"
            },
            "baxis": {
             "endlinecolor": "#2a3f5f",
             "gridcolor": "white",
             "linecolor": "white",
             "minorgridcolor": "white",
             "startlinecolor": "#2a3f5f"
            },
            "type": "carpet"
           }
          ],
          "choropleth": [
           {
            "colorbar": {
             "outlinewidth": 0,
             "ticks": ""
            },
            "type": "choropleth"
           }
          ],
          "contour": [
           {
            "colorbar": {
             "outlinewidth": 0,
             "ticks": ""
            },
            "colorscale": [
             [
              0,
              "#0d0887"
             ],
             [
              0.1111111111111111,
              "#46039f"
             ],
             [
              0.2222222222222222,
              "#7201a8"
             ],
             [
              0.3333333333333333,
              "#9c179e"
             ],
             [
              0.4444444444444444,
              "#bd3786"
             ],
             [
              0.5555555555555556,
              "#d8576b"
             ],
             [
              0.6666666666666666,
              "#ed7953"
             ],
             [
              0.7777777777777778,
              "#fb9f3a"
             ],
             [
              0.8888888888888888,
              "#fdca26"
             ],
             [
              1,
              "#f0f921"
             ]
            ],
            "type": "contour"
           }
          ],
          "contourcarpet": [
           {
            "colorbar": {
             "outlinewidth": 0,
             "ticks": ""
            },
            "type": "contourcarpet"
           }
          ],
          "heatmap": [
           {
            "colorbar": {
             "outlinewidth": 0,
             "ticks": ""
            },
            "colorscale": [
             [
              0,
              "#0d0887"
             ],
             [
              0.1111111111111111,
              "#46039f"
             ],
             [
              0.2222222222222222,
              "#7201a8"
             ],
             [
              0.3333333333333333,
              "#9c179e"
             ],
             [
              0.4444444444444444,
              "#bd3786"
             ],
             [
              0.5555555555555556,
              "#d8576b"
             ],
             [
              0.6666666666666666,
              "#ed7953"
             ],
             [
              0.7777777777777778,
              "#fb9f3a"
             ],
             [
              0.8888888888888888,
              "#fdca26"
             ],
             [
              1,
              "#f0f921"
             ]
            ],
            "type": "heatmap"
           }
          ],
          "heatmapgl": [
           {
            "colorbar": {
             "outlinewidth": 0,
             "ticks": ""
            },
            "colorscale": [
             [
              0,
              "#0d0887"
             ],
             [
              0.1111111111111111,
              "#46039f"
             ],
             [
              0.2222222222222222,
              "#7201a8"
             ],
             [
              0.3333333333333333,
              "#9c179e"
             ],
             [
              0.4444444444444444,
              "#bd3786"
             ],
             [
              0.5555555555555556,
              "#d8576b"
             ],
             [
              0.6666666666666666,
              "#ed7953"
             ],
             [
              0.7777777777777778,
              "#fb9f3a"
             ],
             [
              0.8888888888888888,
              "#fdca26"
             ],
             [
              1,
              "#f0f921"
             ]
            ],
            "type": "heatmapgl"
           }
          ],
          "histogram": [
           {
            "marker": {
             "pattern": {
              "fillmode": "overlay",
              "size": 10,
              "solidity": 0.2
             }
            },
            "type": "histogram"
           }
          ],
          "histogram2d": [
           {
            "colorbar": {
             "outlinewidth": 0,
             "ticks": ""
            },
            "colorscale": [
             [
              0,
              "#0d0887"
             ],
             [
              0.1111111111111111,
              "#46039f"
             ],
             [
              0.2222222222222222,
              "#7201a8"
             ],
             [
              0.3333333333333333,
              "#9c179e"
             ],
             [
              0.4444444444444444,
              "#bd3786"
             ],
             [
              0.5555555555555556,
              "#d8576b"
             ],
             [
              0.6666666666666666,
              "#ed7953"
             ],
             [
              0.7777777777777778,
              "#fb9f3a"
             ],
             [
              0.8888888888888888,
              "#fdca26"
             ],
             [
              1,
              "#f0f921"
             ]
            ],
            "type": "histogram2d"
           }
          ],
          "histogram2dcontour": [
           {
            "colorbar": {
             "outlinewidth": 0,
             "ticks": ""
            },
            "colorscale": [
             [
              0,
              "#0d0887"
             ],
             [
              0.1111111111111111,
              "#46039f"
             ],
             [
              0.2222222222222222,
              "#7201a8"
             ],
             [
              0.3333333333333333,
              "#9c179e"
             ],
             [
              0.4444444444444444,
              "#bd3786"
             ],
             [
              0.5555555555555556,
              "#d8576b"
             ],
             [
              0.6666666666666666,
              "#ed7953"
             ],
             [
              0.7777777777777778,
              "#fb9f3a"
             ],
             [
              0.8888888888888888,
              "#fdca26"
             ],
             [
              1,
              "#f0f921"
             ]
            ],
            "type": "histogram2dcontour"
           }
          ],
          "mesh3d": [
           {
            "colorbar": {
             "outlinewidth": 0,
             "ticks": ""
            },
            "type": "mesh3d"
           }
          ],
          "parcoords": [
           {
            "line": {
             "colorbar": {
              "outlinewidth": 0,
              "ticks": ""
             }
            },
            "type": "parcoords"
           }
          ],
          "pie": [
           {
            "automargin": true,
            "type": "pie"
           }
          ],
          "scatter": [
           {
            "fillpattern": {
             "fillmode": "overlay",
             "size": 10,
             "solidity": 0.2
            },
            "type": "scatter"
           }
          ],
          "scatter3d": [
           {
            "line": {
             "colorbar": {
              "outlinewidth": 0,
              "ticks": ""
             }
            },
            "marker": {
             "colorbar": {
              "outlinewidth": 0,
              "ticks": ""
             }
            },
            "type": "scatter3d"
           }
          ],
          "scattercarpet": [
           {
            "marker": {
             "colorbar": {
              "outlinewidth": 0,
              "ticks": ""
             }
            },
            "type": "scattercarpet"
           }
          ],
          "scattergeo": [
           {
            "marker": {
             "colorbar": {
              "outlinewidth": 0,
              "ticks": ""
             }
            },
            "type": "scattergeo"
           }
          ],
          "scattergl": [
           {
            "marker": {
             "colorbar": {
              "outlinewidth": 0,
              "ticks": ""
             }
            },
            "type": "scattergl"
           }
          ],
          "scattermapbox": [
           {
            "marker": {
             "colorbar": {
              "outlinewidth": 0,
              "ticks": ""
             }
            },
            "type": "scattermapbox"
           }
          ],
          "scatterpolar": [
           {
            "marker": {
             "colorbar": {
              "outlinewidth": 0,
              "ticks": ""
             }
            },
            "type": "scatterpolar"
           }
          ],
          "scatterpolargl": [
           {
            "marker": {
             "colorbar": {
              "outlinewidth": 0,
              "ticks": ""
             }
            },
            "type": "scatterpolargl"
           }
          ],
          "scatterternary": [
           {
            "marker": {
             "colorbar": {
              "outlinewidth": 0,
              "ticks": ""
             }
            },
            "type": "scatterternary"
           }
          ],
          "surface": [
           {
            "colorbar": {
             "outlinewidth": 0,
             "ticks": ""
            },
            "colorscale": [
             [
              0,
              "#0d0887"
             ],
             [
              0.1111111111111111,
              "#46039f"
             ],
             [
              0.2222222222222222,
              "#7201a8"
             ],
             [
              0.3333333333333333,
              "#9c179e"
             ],
             [
              0.4444444444444444,
              "#bd3786"
             ],
             [
              0.5555555555555556,
              "#d8576b"
             ],
             [
              0.6666666666666666,
              "#ed7953"
             ],
             [
              0.7777777777777778,
              "#fb9f3a"
             ],
             [
              0.8888888888888888,
              "#fdca26"
             ],
             [
              1,
              "#f0f921"
             ]
            ],
            "type": "surface"
           }
          ],
          "table": [
           {
            "cells": {
             "fill": {
              "color": "#EBF0F8"
             },
             "line": {
              "color": "white"
             }
            },
            "header": {
             "fill": {
              "color": "#C8D4E3"
             },
             "line": {
              "color": "white"
             }
            },
            "type": "table"
           }
          ]
         },
         "layout": {
          "annotationdefaults": {
           "arrowcolor": "#2a3f5f",
           "arrowhead": 0,
           "arrowwidth": 1
          },
          "autotypenumbers": "strict",
          "coloraxis": {
           "colorbar": {
            "outlinewidth": 0,
            "ticks": ""
           }
          },
          "colorscale": {
           "diverging": [
            [
             0,
             "#8e0152"
            ],
            [
             0.1,
             "#c51b7d"
            ],
            [
             0.2,
             "#de77ae"
            ],
            [
             0.3,
             "#f1b6da"
            ],
            [
             0.4,
             "#fde0ef"
            ],
            [
             0.5,
             "#f7f7f7"
            ],
            [
             0.6,
             "#e6f5d0"
            ],
            [
             0.7,
             "#b8e186"
            ],
            [
             0.8,
             "#7fbc41"
            ],
            [
             0.9,
             "#4d9221"
            ],
            [
             1,
             "#276419"
            ]
           ],
           "sequential": [
            [
             0,
             "#0d0887"
            ],
            [
             0.1111111111111111,
             "#46039f"
            ],
            [
             0.2222222222222222,
             "#7201a8"
            ],
            [
             0.3333333333333333,
             "#9c179e"
            ],
            [
             0.4444444444444444,
             "#bd3786"
            ],
            [
             0.5555555555555556,
             "#d8576b"
            ],
            [
             0.6666666666666666,
             "#ed7953"
            ],
            [
             0.7777777777777778,
             "#fb9f3a"
            ],
            [
             0.8888888888888888,
             "#fdca26"
            ],
            [
             1,
             "#f0f921"
            ]
           ],
           "sequentialminus": [
            [
             0,
             "#0d0887"
            ],
            [
             0.1111111111111111,
             "#46039f"
            ],
            [
             0.2222222222222222,
             "#7201a8"
            ],
            [
             0.3333333333333333,
             "#9c179e"
            ],
            [
             0.4444444444444444,
             "#bd3786"
            ],
            [
             0.5555555555555556,
             "#d8576b"
            ],
            [
             0.6666666666666666,
             "#ed7953"
            ],
            [
             0.7777777777777778,
             "#fb9f3a"
            ],
            [
             0.8888888888888888,
             "#fdca26"
            ],
            [
             1,
             "#f0f921"
            ]
           ]
          },
          "colorway": [
           "#636efa",
           "#EF553B",
           "#00cc96",
           "#ab63fa",
           "#FFA15A",
           "#19d3f3",
           "#FF6692",
           "#B6E880",
           "#FF97FF",
           "#FECB52"
          ],
          "font": {
           "color": "#2a3f5f"
          },
          "geo": {
           "bgcolor": "white",
           "lakecolor": "white",
           "landcolor": "#E5ECF6",
           "showlakes": true,
           "showland": true,
           "subunitcolor": "white"
          },
          "hoverlabel": {
           "align": "left"
          },
          "hovermode": "closest",
          "mapbox": {
           "style": "light"
          },
          "paper_bgcolor": "white",
          "plot_bgcolor": "#E5ECF6",
          "polar": {
           "angularaxis": {
            "gridcolor": "white",
            "linecolor": "white",
            "ticks": ""
           },
           "bgcolor": "#E5ECF6",
           "radialaxis": {
            "gridcolor": "white",
            "linecolor": "white",
            "ticks": ""
           }
          },
          "scene": {
           "xaxis": {
            "backgroundcolor": "#E5ECF6",
            "gridcolor": "white",
            "gridwidth": 2,
            "linecolor": "white",
            "showbackground": true,
            "ticks": "",
            "zerolinecolor": "white"
           },
           "yaxis": {
            "backgroundcolor": "#E5ECF6",
            "gridcolor": "white",
            "gridwidth": 2,
            "linecolor": "white",
            "showbackground": true,
            "ticks": "",
            "zerolinecolor": "white"
           },
           "zaxis": {
            "backgroundcolor": "#E5ECF6",
            "gridcolor": "white",
            "gridwidth": 2,
            "linecolor": "white",
            "showbackground": true,
            "ticks": "",
            "zerolinecolor": "white"
           }
          },
          "shapedefaults": {
           "line": {
            "color": "#2a3f5f"
           }
          },
          "ternary": {
           "aaxis": {
            "gridcolor": "white",
            "linecolor": "white",
            "ticks": ""
           },
           "baxis": {
            "gridcolor": "white",
            "linecolor": "white",
            "ticks": ""
           },
           "bgcolor": "#E5ECF6",
           "caxis": {
            "gridcolor": "white",
            "linecolor": "white",
            "ticks": ""
           }
          },
          "title": {
           "x": 0.05
          },
          "xaxis": {
           "automargin": true,
           "gridcolor": "white",
           "linecolor": "white",
           "ticks": "",
           "title": {
            "standoff": 15
           },
           "zerolinecolor": "white",
           "zerolinewidth": 2
          },
          "yaxis": {
           "automargin": true,
           "gridcolor": "white",
           "linecolor": "white",
           "ticks": "",
           "title": {
            "standoff": 15
           },
           "zerolinecolor": "white",
           "zerolinewidth": 2
          }
         }
        },
        "title": {
         "font": {
          "size": 20
         },
         "pad": {
          "r": 10,
          "t": 10
         },
         "text": "Top 30 words describing<br>data analysis qualifications",
         "x": 0.5,
         "xanchor": "center",
         "y": 0.96,
         "yanchor": "top"
        },
        "treemapcolorway": [
         "#86B4E6",
         "#73952F",
         "#C7D3AB",
         "#AECE6D",
         "#3A6194",
         "#697E53",
         "#1F3053",
         "#3B5873"
        ],
        "width": 600
       }
      },
      "text/html": [
       "<div>                            <div id=\"85c60ecb-9b30-4eb1-a75e-2c14790681d3\" class=\"plotly-graph-div\" style=\"height:600px; width:600px;\"></div>            <script type=\"text/javascript\">                require([\"plotly\"], function(Plotly) {                    window.PLOTLYENV=window.PLOTLYENV || {};                                    if (document.getElementById(\"85c60ecb-9b30-4eb1-a75e-2c14790681d3\")) {                    Plotly.newPlot(                        \"85c60ecb-9b30-4eb1-a75e-2c14790681d3\",                        [{\"branchvalues\":\"total\",\"customdata\":[[35,\"analytics\"],[86,\"degree\"],[124,\"skills\"],[246,\"experience\"],[31,\"excel\"],[35,\"must\"],[33,\"field\"],[70,\"analysis\"],[45,\"communication\"],[32,\"statistics\"],[46,\"working\"],[113,\"years\"],[146,\"ability\"],[73,\"strong\"],[32,\"science\"],[39,\"required\"],[37,\"information\"],[45,\"management\"],[45,\"sql\"],[33,\"environment\"],[69,\"related\"],[80,\"work\"],[48,\"bachelors\"],[46,\"knowledge\"],[50,\"tools\"],[223,\"data\"],[29,\"excellent\"],[48,\"computer\"],[36,\"including\"],[67,\"business\"],[2042,\"(?)\"]],\"domain\":{\"x\":[0.0,1.0],\"y\":[0.0,1.0]},\"hovertemplate\":\"<b>%{label}</b><br>Frequency:%{customdata[0]:.0f}\",\"ids\":[\"data_analysis/analytics\",\"data_analysis/degree\",\"data_analysis/skills\",\"data_analysis/experience\",\"data_analysis/excel\",\"data_analysis/must\",\"data_analysis/field\",\"data_analysis/analysis\",\"data_analysis/communication\",\"data_analysis/statistics\",\"data_analysis/working\",\"data_analysis/years\",\"data_analysis/ability\",\"data_analysis/strong\",\"data_analysis/science\",\"data_analysis/required\",\"data_analysis/information\",\"data_analysis/management\",\"data_analysis/sql\",\"data_analysis/environment\",\"data_analysis/related\",\"data_analysis/work\",\"data_analysis/bachelors\",\"data_analysis/knowledge\",\"data_analysis/tools\",\"data_analysis/data\",\"data_analysis/excellent\",\"data_analysis/computer\",\"data_analysis/including\",\"data_analysis/business\",\"data_analysis\"],\"labels\":[\"analytics\",\"degree\",\"skills\",\"experience\",\"excel\",\"must\",\"field\",\"analysis\",\"communication\",\"statistics\",\"working\",\"years\",\"ability\",\"strong\",\"science\",\"required\",\"information\",\"management\",\"sql\",\"environment\",\"related\",\"work\",\"bachelors\",\"knowledge\",\"tools\",\"data\",\"excellent\",\"computer\",\"including\",\"business\",\"data_analysis\"],\"marker\":{\"colors\":[\"#86B4E6\",\"#73952F\",\"#C7D3AB\",\"#AECE6D\",\"#3A6194\",\"#697E53\",\"#1F3053\",\"#3B5873\",\"#86B4E6\",\"#73952F\",\"#C7D3AB\",\"#AECE6D\",\"#3A6194\",\"#697E53\",\"#1F3053\",\"#3B5873\",\"#86B4E6\",\"#73952F\",\"#C7D3AB\",\"#AECE6D\",\"#3A6194\",\"#697E53\",\"#1F3053\",\"#3B5873\",\"#86B4E6\",\"#73952F\",\"#C7D3AB\",\"#AECE6D\",\"#3A6194\",\"#697E53\",\"#1F3053\"],\"line\":{\"width\":0}},\"name\":\"\",\"parents\":[\"data_analysis\",\"data_analysis\",\"data_analysis\",\"data_analysis\",\"data_analysis\",\"data_analysis\",\"data_analysis\",\"data_analysis\",\"data_analysis\",\"data_analysis\",\"data_analysis\",\"data_analysis\",\"data_analysis\",\"data_analysis\",\"data_analysis\",\"data_analysis\",\"data_analysis\",\"data_analysis\",\"data_analysis\",\"data_analysis\",\"data_analysis\",\"data_analysis\",\"data_analysis\",\"data_analysis\",\"data_analysis\",\"data_analysis\",\"data_analysis\",\"data_analysis\",\"data_analysis\",\"data_analysis\",\"\"],\"values\":[35,86,124,246,31,35,33,70,45,32,46,113,146,73,32,39,37,45,45,33,69,80,48,46,50,223,29,48,36,67,2042],\"type\":\"treemap\",\"textfont\":{\"color\":\"white\"}}],                        {\"template\":{\"data\":{\"histogram2dcontour\":[{\"type\":\"histogram2dcontour\",\"colorbar\":{\"outlinewidth\":0,\"ticks\":\"\"},\"colorscale\":[[0.0,\"#0d0887\"],[0.1111111111111111,\"#46039f\"],[0.2222222222222222,\"#7201a8\"],[0.3333333333333333,\"#9c179e\"],[0.4444444444444444,\"#bd3786\"],[0.5555555555555556,\"#d8576b\"],[0.6666666666666666,\"#ed7953\"],[0.7777777777777778,\"#fb9f3a\"],[0.8888888888888888,\"#fdca26\"],[1.0,\"#f0f921\"]]}],\"choropleth\":[{\"type\":\"choropleth\",\"colorbar\":{\"outlinewidth\":0,\"ticks\":\"\"}}],\"histogram2d\":[{\"type\":\"histogram2d\",\"colorbar\":{\"outlinewidth\":0,\"ticks\":\"\"},\"colorscale\":[[0.0,\"#0d0887\"],[0.1111111111111111,\"#46039f\"],[0.2222222222222222,\"#7201a8\"],[0.3333333333333333,\"#9c179e\"],[0.4444444444444444,\"#bd3786\"],[0.5555555555555556,\"#d8576b\"],[0.6666666666666666,\"#ed7953\"],[0.7777777777777778,\"#fb9f3a\"],[0.8888888888888888,\"#fdca26\"],[1.0,\"#f0f921\"]]}],\"heatmap\":[{\"type\":\"heatmap\",\"colorbar\":{\"outlinewidth\":0,\"ticks\":\"\"},\"colorscale\":[[0.0,\"#0d0887\"],[0.1111111111111111,\"#46039f\"],[0.2222222222222222,\"#7201a8\"],[0.3333333333333333,\"#9c179e\"],[0.4444444444444444,\"#bd3786\"],[0.5555555555555556,\"#d8576b\"],[0.6666666666666666,\"#ed7953\"],[0.7777777777777778,\"#fb9f3a\"],[0.8888888888888888,\"#fdca26\"],[1.0,\"#f0f921\"]]}],\"heatmapgl\":[{\"type\":\"heatmapgl\",\"colorbar\":{\"outlinewidth\":0,\"ticks\":\"\"},\"colorscale\":[[0.0,\"#0d0887\"],[0.1111111111111111,\"#46039f\"],[0.2222222222222222,\"#7201a8\"],[0.3333333333333333,\"#9c179e\"],[0.4444444444444444,\"#bd3786\"],[0.5555555555555556,\"#d8576b\"],[0.6666666666666666,\"#ed7953\"],[0.7777777777777778,\"#fb9f3a\"],[0.8888888888888888,\"#fdca26\"],[1.0,\"#f0f921\"]]}],\"contourcarpet\":[{\"type\":\"contourcarpet\",\"colorbar\":{\"outlinewidth\":0,\"ticks\":\"\"}}],\"contour\":[{\"type\":\"contour\",\"colorbar\":{\"outlinewidth\":0,\"ticks\":\"\"},\"colorscale\":[[0.0,\"#0d0887\"],[0.1111111111111111,\"#46039f\"],[0.2222222222222222,\"#7201a8\"],[0.3333333333333333,\"#9c179e\"],[0.4444444444444444,\"#bd3786\"],[0.5555555555555556,\"#d8576b\"],[0.6666666666666666,\"#ed7953\"],[0.7777777777777778,\"#fb9f3a\"],[0.8888888888888888,\"#fdca26\"],[1.0,\"#f0f921\"]]}],\"surface\":[{\"type\":\"surface\",\"colorbar\":{\"outlinewidth\":0,\"ticks\":\"\"},\"colorscale\":[[0.0,\"#0d0887\"],[0.1111111111111111,\"#46039f\"],[0.2222222222222222,\"#7201a8\"],[0.3333333333333333,\"#9c179e\"],[0.4444444444444444,\"#bd3786\"],[0.5555555555555556,\"#d8576b\"],[0.6666666666666666,\"#ed7953\"],[0.7777777777777778,\"#fb9f3a\"],[0.8888888888888888,\"#fdca26\"],[1.0,\"#f0f921\"]]}],\"mesh3d\":[{\"type\":\"mesh3d\",\"colorbar\":{\"outlinewidth\":0,\"ticks\":\"\"}}],\"scatter\":[{\"fillpattern\":{\"fillmode\":\"overlay\",\"size\":10,\"solidity\":0.2},\"type\":\"scatter\"}],\"parcoords\":[{\"type\":\"parcoords\",\"line\":{\"colorbar\":{\"outlinewidth\":0,\"ticks\":\"\"}}}],\"scatterpolargl\":[{\"type\":\"scatterpolargl\",\"marker\":{\"colorbar\":{\"outlinewidth\":0,\"ticks\":\"\"}}}],\"bar\":[{\"error_x\":{\"color\":\"#2a3f5f\"},\"error_y\":{\"color\":\"#2a3f5f\"},\"marker\":{\"line\":{\"color\":\"#E5ECF6\",\"width\":0.5},\"pattern\":{\"fillmode\":\"overlay\",\"size\":10,\"solidity\":0.2}},\"type\":\"bar\"}],\"scattergeo\":[{\"type\":\"scattergeo\",\"marker\":{\"colorbar\":{\"outlinewidth\":0,\"ticks\":\"\"}}}],\"scatterpolar\":[{\"type\":\"scatterpolar\",\"marker\":{\"colorbar\":{\"outlinewidth\":0,\"ticks\":\"\"}}}],\"histogram\":[{\"marker\":{\"pattern\":{\"fillmode\":\"overlay\",\"size\":10,\"solidity\":0.2}},\"type\":\"histogram\"}],\"scattergl\":[{\"type\":\"scattergl\",\"marker\":{\"colorbar\":{\"outlinewidth\":0,\"ticks\":\"\"}}}],\"scatter3d\":[{\"type\":\"scatter3d\",\"line\":{\"colorbar\":{\"outlinewidth\":0,\"ticks\":\"\"}},\"marker\":{\"colorbar\":{\"outlinewidth\":0,\"ticks\":\"\"}}}],\"scattermapbox\":[{\"type\":\"scattermapbox\",\"marker\":{\"colorbar\":{\"outlinewidth\":0,\"ticks\":\"\"}}}],\"scatterternary\":[{\"type\":\"scatterternary\",\"marker\":{\"colorbar\":{\"outlinewidth\":0,\"ticks\":\"\"}}}],\"scattercarpet\":[{\"type\":\"scattercarpet\",\"marker\":{\"colorbar\":{\"outlinewidth\":0,\"ticks\":\"\"}}}],\"carpet\":[{\"aaxis\":{\"endlinecolor\":\"#2a3f5f\",\"gridcolor\":\"white\",\"linecolor\":\"white\",\"minorgridcolor\":\"white\",\"startlinecolor\":\"#2a3f5f\"},\"baxis\":{\"endlinecolor\":\"#2a3f5f\",\"gridcolor\":\"white\",\"linecolor\":\"white\",\"minorgridcolor\":\"white\",\"startlinecolor\":\"#2a3f5f\"},\"type\":\"carpet\"}],\"table\":[{\"cells\":{\"fill\":{\"color\":\"#EBF0F8\"},\"line\":{\"color\":\"white\"}},\"header\":{\"fill\":{\"color\":\"#C8D4E3\"},\"line\":{\"color\":\"white\"}},\"type\":\"table\"}],\"barpolar\":[{\"marker\":{\"line\":{\"color\":\"#E5ECF6\",\"width\":0.5},\"pattern\":{\"fillmode\":\"overlay\",\"size\":10,\"solidity\":0.2}},\"type\":\"barpolar\"}],\"pie\":[{\"automargin\":true,\"type\":\"pie\"}]},\"layout\":{\"autotypenumbers\":\"strict\",\"colorway\":[\"#636efa\",\"#EF553B\",\"#00cc96\",\"#ab63fa\",\"#FFA15A\",\"#19d3f3\",\"#FF6692\",\"#B6E880\",\"#FF97FF\",\"#FECB52\"],\"font\":{\"color\":\"#2a3f5f\"},\"hovermode\":\"closest\",\"hoverlabel\":{\"align\":\"left\"},\"paper_bgcolor\":\"white\",\"plot_bgcolor\":\"#E5ECF6\",\"polar\":{\"bgcolor\":\"#E5ECF6\",\"angularaxis\":{\"gridcolor\":\"white\",\"linecolor\":\"white\",\"ticks\":\"\"},\"radialaxis\":{\"gridcolor\":\"white\",\"linecolor\":\"white\",\"ticks\":\"\"}},\"ternary\":{\"bgcolor\":\"#E5ECF6\",\"aaxis\":{\"gridcolor\":\"white\",\"linecolor\":\"white\",\"ticks\":\"\"},\"baxis\":{\"gridcolor\":\"white\",\"linecolor\":\"white\",\"ticks\":\"\"},\"caxis\":{\"gridcolor\":\"white\",\"linecolor\":\"white\",\"ticks\":\"\"}},\"coloraxis\":{\"colorbar\":{\"outlinewidth\":0,\"ticks\":\"\"}},\"colorscale\":{\"sequential\":[[0.0,\"#0d0887\"],[0.1111111111111111,\"#46039f\"],[0.2222222222222222,\"#7201a8\"],[0.3333333333333333,\"#9c179e\"],[0.4444444444444444,\"#bd3786\"],[0.5555555555555556,\"#d8576b\"],[0.6666666666666666,\"#ed7953\"],[0.7777777777777778,\"#fb9f3a\"],[0.8888888888888888,\"#fdca26\"],[1.0,\"#f0f921\"]],\"sequentialminus\":[[0.0,\"#0d0887\"],[0.1111111111111111,\"#46039f\"],[0.2222222222222222,\"#7201a8\"],[0.3333333333333333,\"#9c179e\"],[0.4444444444444444,\"#bd3786\"],[0.5555555555555556,\"#d8576b\"],[0.6666666666666666,\"#ed7953\"],[0.7777777777777778,\"#fb9f3a\"],[0.8888888888888888,\"#fdca26\"],[1.0,\"#f0f921\"]],\"diverging\":[[0,\"#8e0152\"],[0.1,\"#c51b7d\"],[0.2,\"#de77ae\"],[0.3,\"#f1b6da\"],[0.4,\"#fde0ef\"],[0.5,\"#f7f7f7\"],[0.6,\"#e6f5d0\"],[0.7,\"#b8e186\"],[0.8,\"#7fbc41\"],[0.9,\"#4d9221\"],[1,\"#276419\"]]},\"xaxis\":{\"gridcolor\":\"white\",\"linecolor\":\"white\",\"ticks\":\"\",\"title\":{\"standoff\":15},\"zerolinecolor\":\"white\",\"automargin\":true,\"zerolinewidth\":2},\"yaxis\":{\"gridcolor\":\"white\",\"linecolor\":\"white\",\"ticks\":\"\",\"title\":{\"standoff\":15},\"zerolinecolor\":\"white\",\"automargin\":true,\"zerolinewidth\":2},\"scene\":{\"xaxis\":{\"backgroundcolor\":\"#E5ECF6\",\"gridcolor\":\"white\",\"linecolor\":\"white\",\"showbackground\":true,\"ticks\":\"\",\"zerolinecolor\":\"white\",\"gridwidth\":2},\"yaxis\":{\"backgroundcolor\":\"#E5ECF6\",\"gridcolor\":\"white\",\"linecolor\":\"white\",\"showbackground\":true,\"ticks\":\"\",\"zerolinecolor\":\"white\",\"gridwidth\":2},\"zaxis\":{\"backgroundcolor\":\"#E5ECF6\",\"gridcolor\":\"white\",\"linecolor\":\"white\",\"showbackground\":true,\"ticks\":\"\",\"zerolinecolor\":\"white\",\"gridwidth\":2}},\"shapedefaults\":{\"line\":{\"color\":\"#2a3f5f\"}},\"annotationdefaults\":{\"arrowcolor\":\"#2a3f5f\",\"arrowhead\":0,\"arrowwidth\":1},\"geo\":{\"bgcolor\":\"white\",\"landcolor\":\"#E5ECF6\",\"subunitcolor\":\"white\",\"showland\":true,\"showlakes\":true,\"lakecolor\":\"white\"},\"title\":{\"x\":0.05},\"mapbox\":{\"style\":\"light\"}}},\"legend\":{\"tracegroupgap\":0},\"margin\":{\"t\":85,\"l\":25,\"r\":25,\"b\":25},\"treemapcolorway\":[\"#86B4E6\",\"#73952F\",\"#C7D3AB\",\"#AECE6D\",\"#3A6194\",\"#697E53\",\"#1F3053\",\"#3B5873\"],\"title\":{\"font\":{\"size\":20},\"text\":\"Top 30 words describing<br>data analysis qualifications\",\"pad\":{\"r\":10,\"t\":10},\"x\":0.5,\"y\":0.96,\"xanchor\":\"center\",\"yanchor\":\"top\"},\"font\":{\"size\":16,\"color\":\"white\"},\"width\":600,\"height\":600,\"plot_bgcolor\":\"#272b2e\",\"paper_bgcolor\":\"#272b2e\"},                        {\"responsive\": true}                    ).then(function(){\n",
       "                            \n",
       "var gd = document.getElementById('85c60ecb-9b30-4eb1-a75e-2c14790681d3');\n",
       "var x = new MutationObserver(function (mutations, observer) {{\n",
       "        var display = window.getComputedStyle(gd).display;\n",
       "        if (!display || display === 'none') {{\n",
       "            console.log([gd, 'removed!']);\n",
       "            Plotly.purge(gd);\n",
       "            observer.disconnect();\n",
       "        }}\n",
       "}});\n",
       "\n",
       "// Listen for the removal of the full notebook cells\n",
       "var notebookContainer = gd.closest('#notebook-container');\n",
       "if (notebookContainer) {{\n",
       "    x.observe(notebookContainer, {childList: true});\n",
       "}}\n",
       "\n",
       "// Listen for the clearing of the current output cell\n",
       "var outputEl = gd.closest('.output');\n",
       "if (outputEl) {{\n",
       "    x.observe(outputEl, {childList: true});\n",
       "}}\n",
       "\n",
       "                        })                };                });            </script>        </div>"
      ]
     },
     "metadata": {},
     "output_type": "display_data"
    }
   ],
   "source": [
    "df_word_count_res = df_word_count_res.sort_values(['job_type', 'frequency'], ascending=[True, False])\n",
    "df_word_count_res = df_word_count_res.groupby('job_type').head(30)\n",
    "df_word_count_qual = df_word_count_qual.sort_values(['job_type', 'frequency'], ascending=[True, False])\n",
    "df_word_count_qual = df_word_count_qual.groupby('job_type').head(30)\n",
    "\n",
    "df_word_count_qual_da = df_word_count_qual[df_word_count_qual['job_type']=='data_analysis']\n",
    "df_word_count_qual_ds = df_word_count_qual[df_word_count_qual['job_type']=='data_science']\n",
    "df_word_count_qual_ml = df_word_count_qual[df_word_count_qual['job_type']=='machine_learning']\n",
    "\n",
    "import plotly.express as px\n",
    "\n",
    "# Define a custom color scale\n",
    "custom_colors = ['#86B4E6','#73952F','#C7D3AB','#AECE6D','#3A6194','#697E53','#1F3053','#3B5873' ]\n",
    "\n",
    "# create the treemap figure with custom hover text and color scale\n",
    "fig = px.treemap(df_word_count_qual_da, path=['job_type', 'word'], values='frequency', color='word',\n",
    "                 color_discrete_sequence=custom_colors,\n",
    "                 hover_data={'frequency': ':f'},\n",
    "                 )\n",
    "\n",
    "# remove the treemap borders\n",
    "fig.update_traces(\n",
    "    go.Treemap(\n",
    "        marker=dict(line=dict(width=0))\n",
    "    )\n",
    ")\n",
    "fig.update_traces(textfont=dict(color='white'))\n",
    "fig.update_traces(hovertemplate='<b>%{label}</b><br>Frequency:%{customdata[0]:.0f}')\n",
    "\n",
    "# customize the font and size of the title and labels\n",
    "fig.update_layout(title={'text': \"Top 30 words describing<br>data analysis qualifications\", 'font': {'size': 24}},\n",
    "                  font={'size': 18})\n",
    "\n",
    "# customize the margins\n",
    "fig.update_layout(\n",
    "    title={\n",
    "        'x': 0.50,\n",
    "        'y': 0.96,\n",
    "        'xanchor': 'center',\n",
    "        'yanchor': 'top',\n",
    "        'pad': {'r': 10, 't': 10,},\n",
    "        'font': {'size': 20}\n",
    "    },\n",
    "    width=600,\n",
    "    height=600,\n",
    "    margin=dict(t=85, l=25, r=25, b=25),\n",
    "    plot_bgcolor = \"#272b2e\",\n",
    "    paper_bgcolor = \"#272b2e\",\n",
    "    font=dict(size = 16, color = 'white')\n",
    ") \n",
    "\n",
    "\n",
    "# show the figure\n",
    "fig.show()\n",
    "fig.write_html('../images/tree_map1.html')\n"
   ]
  },
  {
   "cell_type": "code",
   "execution_count": 132,
   "metadata": {},
   "outputs": [
    {
     "data": {
      "application/vnd.plotly.v1+json": {
       "config": {
        "plotlyServerURL": "https://plot.ly"
       },
       "data": [
        {
         "branchvalues": "total",
         "customdata": [
          [
           43,
           "field"
          ],
          [
           46,
           "engineering"
          ],
          [
           48,
           "knowledge"
          ],
          [
           45,
           "statistical"
          ],
          [
           81,
           "analysis"
          ],
          [
           81,
           "degree"
          ],
          [
           35,
           "required"
          ],
          [
           76,
           "ability"
          ],
          [
           49,
           "statistics"
          ],
          [
           79,
           "machine"
          ],
          [
           46,
           "r"
          ],
          [
           331,
           "data"
          ],
          [
           364,
           "experience"
          ],
          [
           46,
           "using"
          ],
          [
           34,
           "strong"
          ],
          [
           57,
           "including"
          ],
          [
           108,
           "science"
          ],
          [
           37,
           "mathematics"
          ],
          [
           37,
           "working"
          ],
          [
           43,
           "computer"
          ],
          [
           93,
           "learning"
          ],
          [
           53,
           "tools"
          ],
          [
           61,
           "skills"
          ],
          [
           68,
           "python"
          ],
          [
           134,
           "years"
          ],
          [
           42,
           "models"
          ],
          [
           54,
           "related"
          ],
          [
           39,
           "sql"
          ],
          [
           43,
           "work"
          ],
          [
           65,
           "analytics"
          ],
          [
           2338,
           "(?)"
          ]
         ],
         "domain": {
          "x": [
           0,
           1
          ],
          "y": [
           0,
           1
          ]
         },
         "hovertemplate": "<b>%{label}</b><br>Frequency:%{customdata[0]:.0f}",
         "ids": [
          "data_science/field",
          "data_science/engineering",
          "data_science/knowledge",
          "data_science/statistical",
          "data_science/analysis",
          "data_science/degree",
          "data_science/required",
          "data_science/ability",
          "data_science/statistics",
          "data_science/machine",
          "data_science/r",
          "data_science/data",
          "data_science/experience",
          "data_science/using",
          "data_science/strong",
          "data_science/including",
          "data_science/science",
          "data_science/mathematics",
          "data_science/working",
          "data_science/computer",
          "data_science/learning",
          "data_science/tools",
          "data_science/skills",
          "data_science/python",
          "data_science/years",
          "data_science/models",
          "data_science/related",
          "data_science/sql",
          "data_science/work",
          "data_science/analytics",
          "data_science"
         ],
         "labels": [
          "field",
          "engineering",
          "knowledge",
          "statistical",
          "analysis",
          "degree",
          "required",
          "ability",
          "statistics",
          "machine",
          "r",
          "data",
          "experience",
          "using",
          "strong",
          "including",
          "science",
          "mathematics",
          "working",
          "computer",
          "learning",
          "tools",
          "skills",
          "python",
          "years",
          "models",
          "related",
          "sql",
          "work",
          "analytics",
          "data_science"
         ],
         "marker": {
          "colors": [
           "#86B4E6",
           "#73952F",
           "#C7D3AB",
           "#AECE6D",
           "#3A6194",
           "#697E53",
           "#1F3053",
           "#3B5873",
           "#86B4E6",
           "#73952F",
           "#C7D3AB",
           "#AECE6D",
           "#3A6194",
           "#697E53",
           "#1F3053",
           "#3B5873",
           "#86B4E6",
           "#73952F",
           "#C7D3AB",
           "#AECE6D",
           "#3A6194",
           "#697E53",
           "#1F3053",
           "#3B5873",
           "#86B4E6",
           "#73952F",
           "#C7D3AB",
           "#AECE6D",
           "#3A6194",
           "#697E53",
           "#1F3053"
          ],
          "line": {
           "width": 0
          }
         },
         "name": "",
         "parents": [
          "data_science",
          "data_science",
          "data_science",
          "data_science",
          "data_science",
          "data_science",
          "data_science",
          "data_science",
          "data_science",
          "data_science",
          "data_science",
          "data_science",
          "data_science",
          "data_science",
          "data_science",
          "data_science",
          "data_science",
          "data_science",
          "data_science",
          "data_science",
          "data_science",
          "data_science",
          "data_science",
          "data_science",
          "data_science",
          "data_science",
          "data_science",
          "data_science",
          "data_science",
          "data_science",
          ""
         ],
         "textfont": {
          "color": "white"
         },
         "type": "treemap",
         "values": [
          43,
          46,
          48,
          45,
          81,
          81,
          35,
          76,
          49,
          79,
          46,
          331,
          364,
          46,
          34,
          57,
          108,
          37,
          37,
          43,
          93,
          53,
          61,
          68,
          134,
          42,
          54,
          39,
          43,
          65,
          2338
         ]
        }
       ],
       "layout": {
        "font": {
         "color": "white",
         "size": 16
        },
        "height": 600,
        "legend": {
         "tracegroupgap": 0
        },
        "margin": {
         "b": 25,
         "l": 25,
         "r": 25,
         "t": 85
        },
        "paper_bgcolor": "#272b2e",
        "plot_bgcolor": "#272b2e",
        "template": {
         "data": {
          "bar": [
           {
            "error_x": {
             "color": "#2a3f5f"
            },
            "error_y": {
             "color": "#2a3f5f"
            },
            "marker": {
             "line": {
              "color": "#E5ECF6",
              "width": 0.5
             },
             "pattern": {
              "fillmode": "overlay",
              "size": 10,
              "solidity": 0.2
             }
            },
            "type": "bar"
           }
          ],
          "barpolar": [
           {
            "marker": {
             "line": {
              "color": "#E5ECF6",
              "width": 0.5
             },
             "pattern": {
              "fillmode": "overlay",
              "size": 10,
              "solidity": 0.2
             }
            },
            "type": "barpolar"
           }
          ],
          "carpet": [
           {
            "aaxis": {
             "endlinecolor": "#2a3f5f",
             "gridcolor": "white",
             "linecolor": "white",
             "minorgridcolor": "white",
             "startlinecolor": "#2a3f5f"
            },
            "baxis": {
             "endlinecolor": "#2a3f5f",
             "gridcolor": "white",
             "linecolor": "white",
             "minorgridcolor": "white",
             "startlinecolor": "#2a3f5f"
            },
            "type": "carpet"
           }
          ],
          "choropleth": [
           {
            "colorbar": {
             "outlinewidth": 0,
             "ticks": ""
            },
            "type": "choropleth"
           }
          ],
          "contour": [
           {
            "colorbar": {
             "outlinewidth": 0,
             "ticks": ""
            },
            "colorscale": [
             [
              0,
              "#0d0887"
             ],
             [
              0.1111111111111111,
              "#46039f"
             ],
             [
              0.2222222222222222,
              "#7201a8"
             ],
             [
              0.3333333333333333,
              "#9c179e"
             ],
             [
              0.4444444444444444,
              "#bd3786"
             ],
             [
              0.5555555555555556,
              "#d8576b"
             ],
             [
              0.6666666666666666,
              "#ed7953"
             ],
             [
              0.7777777777777778,
              "#fb9f3a"
             ],
             [
              0.8888888888888888,
              "#fdca26"
             ],
             [
              1,
              "#f0f921"
             ]
            ],
            "type": "contour"
           }
          ],
          "contourcarpet": [
           {
            "colorbar": {
             "outlinewidth": 0,
             "ticks": ""
            },
            "type": "contourcarpet"
           }
          ],
          "heatmap": [
           {
            "colorbar": {
             "outlinewidth": 0,
             "ticks": ""
            },
            "colorscale": [
             [
              0,
              "#0d0887"
             ],
             [
              0.1111111111111111,
              "#46039f"
             ],
             [
              0.2222222222222222,
              "#7201a8"
             ],
             [
              0.3333333333333333,
              "#9c179e"
             ],
             [
              0.4444444444444444,
              "#bd3786"
             ],
             [
              0.5555555555555556,
              "#d8576b"
             ],
             [
              0.6666666666666666,
              "#ed7953"
             ],
             [
              0.7777777777777778,
              "#fb9f3a"
             ],
             [
              0.8888888888888888,
              "#fdca26"
             ],
             [
              1,
              "#f0f921"
             ]
            ],
            "type": "heatmap"
           }
          ],
          "heatmapgl": [
           {
            "colorbar": {
             "outlinewidth": 0,
             "ticks": ""
            },
            "colorscale": [
             [
              0,
              "#0d0887"
             ],
             [
              0.1111111111111111,
              "#46039f"
             ],
             [
              0.2222222222222222,
              "#7201a8"
             ],
             [
              0.3333333333333333,
              "#9c179e"
             ],
             [
              0.4444444444444444,
              "#bd3786"
             ],
             [
              0.5555555555555556,
              "#d8576b"
             ],
             [
              0.6666666666666666,
              "#ed7953"
             ],
             [
              0.7777777777777778,
              "#fb9f3a"
             ],
             [
              0.8888888888888888,
              "#fdca26"
             ],
             [
              1,
              "#f0f921"
             ]
            ],
            "type": "heatmapgl"
           }
          ],
          "histogram": [
           {
            "marker": {
             "pattern": {
              "fillmode": "overlay",
              "size": 10,
              "solidity": 0.2
             }
            },
            "type": "histogram"
           }
          ],
          "histogram2d": [
           {
            "colorbar": {
             "outlinewidth": 0,
             "ticks": ""
            },
            "colorscale": [
             [
              0,
              "#0d0887"
             ],
             [
              0.1111111111111111,
              "#46039f"
             ],
             [
              0.2222222222222222,
              "#7201a8"
             ],
             [
              0.3333333333333333,
              "#9c179e"
             ],
             [
              0.4444444444444444,
              "#bd3786"
             ],
             [
              0.5555555555555556,
              "#d8576b"
             ],
             [
              0.6666666666666666,
              "#ed7953"
             ],
             [
              0.7777777777777778,
              "#fb9f3a"
             ],
             [
              0.8888888888888888,
              "#fdca26"
             ],
             [
              1,
              "#f0f921"
             ]
            ],
            "type": "histogram2d"
           }
          ],
          "histogram2dcontour": [
           {
            "colorbar": {
             "outlinewidth": 0,
             "ticks": ""
            },
            "colorscale": [
             [
              0,
              "#0d0887"
             ],
             [
              0.1111111111111111,
              "#46039f"
             ],
             [
              0.2222222222222222,
              "#7201a8"
             ],
             [
              0.3333333333333333,
              "#9c179e"
             ],
             [
              0.4444444444444444,
              "#bd3786"
             ],
             [
              0.5555555555555556,
              "#d8576b"
             ],
             [
              0.6666666666666666,
              "#ed7953"
             ],
             [
              0.7777777777777778,
              "#fb9f3a"
             ],
             [
              0.8888888888888888,
              "#fdca26"
             ],
             [
              1,
              "#f0f921"
             ]
            ],
            "type": "histogram2dcontour"
           }
          ],
          "mesh3d": [
           {
            "colorbar": {
             "outlinewidth": 0,
             "ticks": ""
            },
            "type": "mesh3d"
           }
          ],
          "parcoords": [
           {
            "line": {
             "colorbar": {
              "outlinewidth": 0,
              "ticks": ""
             }
            },
            "type": "parcoords"
           }
          ],
          "pie": [
           {
            "automargin": true,
            "type": "pie"
           }
          ],
          "scatter": [
           {
            "fillpattern": {
             "fillmode": "overlay",
             "size": 10,
             "solidity": 0.2
            },
            "type": "scatter"
           }
          ],
          "scatter3d": [
           {
            "line": {
             "colorbar": {
              "outlinewidth": 0,
              "ticks": ""
             }
            },
            "marker": {
             "colorbar": {
              "outlinewidth": 0,
              "ticks": ""
             }
            },
            "type": "scatter3d"
           }
          ],
          "scattercarpet": [
           {
            "marker": {
             "colorbar": {
              "outlinewidth": 0,
              "ticks": ""
             }
            },
            "type": "scattercarpet"
           }
          ],
          "scattergeo": [
           {
            "marker": {
             "colorbar": {
              "outlinewidth": 0,
              "ticks": ""
             }
            },
            "type": "scattergeo"
           }
          ],
          "scattergl": [
           {
            "marker": {
             "colorbar": {
              "outlinewidth": 0,
              "ticks": ""
             }
            },
            "type": "scattergl"
           }
          ],
          "scattermapbox": [
           {
            "marker": {
             "colorbar": {
              "outlinewidth": 0,
              "ticks": ""
             }
            },
            "type": "scattermapbox"
           }
          ],
          "scatterpolar": [
           {
            "marker": {
             "colorbar": {
              "outlinewidth": 0,
              "ticks": ""
             }
            },
            "type": "scatterpolar"
           }
          ],
          "scatterpolargl": [
           {
            "marker": {
             "colorbar": {
              "outlinewidth": 0,
              "ticks": ""
             }
            },
            "type": "scatterpolargl"
           }
          ],
          "scatterternary": [
           {
            "marker": {
             "colorbar": {
              "outlinewidth": 0,
              "ticks": ""
             }
            },
            "type": "scatterternary"
           }
          ],
          "surface": [
           {
            "colorbar": {
             "outlinewidth": 0,
             "ticks": ""
            },
            "colorscale": [
             [
              0,
              "#0d0887"
             ],
             [
              0.1111111111111111,
              "#46039f"
             ],
             [
              0.2222222222222222,
              "#7201a8"
             ],
             [
              0.3333333333333333,
              "#9c179e"
             ],
             [
              0.4444444444444444,
              "#bd3786"
             ],
             [
              0.5555555555555556,
              "#d8576b"
             ],
             [
              0.6666666666666666,
              "#ed7953"
             ],
             [
              0.7777777777777778,
              "#fb9f3a"
             ],
             [
              0.8888888888888888,
              "#fdca26"
             ],
             [
              1,
              "#f0f921"
             ]
            ],
            "type": "surface"
           }
          ],
          "table": [
           {
            "cells": {
             "fill": {
              "color": "#EBF0F8"
             },
             "line": {
              "color": "white"
             }
            },
            "header": {
             "fill": {
              "color": "#C8D4E3"
             },
             "line": {
              "color": "white"
             }
            },
            "type": "table"
           }
          ]
         },
         "layout": {
          "annotationdefaults": {
           "arrowcolor": "#2a3f5f",
           "arrowhead": 0,
           "arrowwidth": 1
          },
          "autotypenumbers": "strict",
          "coloraxis": {
           "colorbar": {
            "outlinewidth": 0,
            "ticks": ""
           }
          },
          "colorscale": {
           "diverging": [
            [
             0,
             "#8e0152"
            ],
            [
             0.1,
             "#c51b7d"
            ],
            [
             0.2,
             "#de77ae"
            ],
            [
             0.3,
             "#f1b6da"
            ],
            [
             0.4,
             "#fde0ef"
            ],
            [
             0.5,
             "#f7f7f7"
            ],
            [
             0.6,
             "#e6f5d0"
            ],
            [
             0.7,
             "#b8e186"
            ],
            [
             0.8,
             "#7fbc41"
            ],
            [
             0.9,
             "#4d9221"
            ],
            [
             1,
             "#276419"
            ]
           ],
           "sequential": [
            [
             0,
             "#0d0887"
            ],
            [
             0.1111111111111111,
             "#46039f"
            ],
            [
             0.2222222222222222,
             "#7201a8"
            ],
            [
             0.3333333333333333,
             "#9c179e"
            ],
            [
             0.4444444444444444,
             "#bd3786"
            ],
            [
             0.5555555555555556,
             "#d8576b"
            ],
            [
             0.6666666666666666,
             "#ed7953"
            ],
            [
             0.7777777777777778,
             "#fb9f3a"
            ],
            [
             0.8888888888888888,
             "#fdca26"
            ],
            [
             1,
             "#f0f921"
            ]
           ],
           "sequentialminus": [
            [
             0,
             "#0d0887"
            ],
            [
             0.1111111111111111,
             "#46039f"
            ],
            [
             0.2222222222222222,
             "#7201a8"
            ],
            [
             0.3333333333333333,
             "#9c179e"
            ],
            [
             0.4444444444444444,
             "#bd3786"
            ],
            [
             0.5555555555555556,
             "#d8576b"
            ],
            [
             0.6666666666666666,
             "#ed7953"
            ],
            [
             0.7777777777777778,
             "#fb9f3a"
            ],
            [
             0.8888888888888888,
             "#fdca26"
            ],
            [
             1,
             "#f0f921"
            ]
           ]
          },
          "colorway": [
           "#636efa",
           "#EF553B",
           "#00cc96",
           "#ab63fa",
           "#FFA15A",
           "#19d3f3",
           "#FF6692",
           "#B6E880",
           "#FF97FF",
           "#FECB52"
          ],
          "font": {
           "color": "#2a3f5f"
          },
          "geo": {
           "bgcolor": "white",
           "lakecolor": "white",
           "landcolor": "#E5ECF6",
           "showlakes": true,
           "showland": true,
           "subunitcolor": "white"
          },
          "hoverlabel": {
           "align": "left"
          },
          "hovermode": "closest",
          "mapbox": {
           "style": "light"
          },
          "paper_bgcolor": "white",
          "plot_bgcolor": "#E5ECF6",
          "polar": {
           "angularaxis": {
            "gridcolor": "white",
            "linecolor": "white",
            "ticks": ""
           },
           "bgcolor": "#E5ECF6",
           "radialaxis": {
            "gridcolor": "white",
            "linecolor": "white",
            "ticks": ""
           }
          },
          "scene": {
           "xaxis": {
            "backgroundcolor": "#E5ECF6",
            "gridcolor": "white",
            "gridwidth": 2,
            "linecolor": "white",
            "showbackground": true,
            "ticks": "",
            "zerolinecolor": "white"
           },
           "yaxis": {
            "backgroundcolor": "#E5ECF6",
            "gridcolor": "white",
            "gridwidth": 2,
            "linecolor": "white",
            "showbackground": true,
            "ticks": "",
            "zerolinecolor": "white"
           },
           "zaxis": {
            "backgroundcolor": "#E5ECF6",
            "gridcolor": "white",
            "gridwidth": 2,
            "linecolor": "white",
            "showbackground": true,
            "ticks": "",
            "zerolinecolor": "white"
           }
          },
          "shapedefaults": {
           "line": {
            "color": "#2a3f5f"
           }
          },
          "ternary": {
           "aaxis": {
            "gridcolor": "white",
            "linecolor": "white",
            "ticks": ""
           },
           "baxis": {
            "gridcolor": "white",
            "linecolor": "white",
            "ticks": ""
           },
           "bgcolor": "#E5ECF6",
           "caxis": {
            "gridcolor": "white",
            "linecolor": "white",
            "ticks": ""
           }
          },
          "title": {
           "x": 0.05
          },
          "xaxis": {
           "automargin": true,
           "gridcolor": "white",
           "linecolor": "white",
           "ticks": "",
           "title": {
            "standoff": 15
           },
           "zerolinecolor": "white",
           "zerolinewidth": 2
          },
          "yaxis": {
           "automargin": true,
           "gridcolor": "white",
           "linecolor": "white",
           "ticks": "",
           "title": {
            "standoff": 15
           },
           "zerolinecolor": "white",
           "zerolinewidth": 2
          }
         }
        },
        "title": {
         "font": {
          "size": 20
         },
         "pad": {
          "r": 10,
          "t": 10
         },
         "text": "Top 30 words describing<br>data science qualifications",
         "x": 0.5,
         "xanchor": "center",
         "y": 0.96,
         "yanchor": "top"
        },
        "treemapcolorway": [
         "#86B4E6",
         "#73952F",
         "#C7D3AB",
         "#AECE6D",
         "#3A6194",
         "#697E53",
         "#1F3053",
         "#3B5873"
        ],
        "width": 600
       }
      },
      "text/html": [
       "<div>                            <div id=\"41d510ea-ee01-457c-9268-1ae776e46bfc\" class=\"plotly-graph-div\" style=\"height:600px; width:600px;\"></div>            <script type=\"text/javascript\">                require([\"plotly\"], function(Plotly) {                    window.PLOTLYENV=window.PLOTLYENV || {};                                    if (document.getElementById(\"41d510ea-ee01-457c-9268-1ae776e46bfc\")) {                    Plotly.newPlot(                        \"41d510ea-ee01-457c-9268-1ae776e46bfc\",                        [{\"branchvalues\":\"total\",\"customdata\":[[43,\"field\"],[46,\"engineering\"],[48,\"knowledge\"],[45,\"statistical\"],[81,\"analysis\"],[81,\"degree\"],[35,\"required\"],[76,\"ability\"],[49,\"statistics\"],[79,\"machine\"],[46,\"r\"],[331,\"data\"],[364,\"experience\"],[46,\"using\"],[34,\"strong\"],[57,\"including\"],[108,\"science\"],[37,\"mathematics\"],[37,\"working\"],[43,\"computer\"],[93,\"learning\"],[53,\"tools\"],[61,\"skills\"],[68,\"python\"],[134,\"years\"],[42,\"models\"],[54,\"related\"],[39,\"sql\"],[43,\"work\"],[65,\"analytics\"],[2338,\"(?)\"]],\"domain\":{\"x\":[0.0,1.0],\"y\":[0.0,1.0]},\"hovertemplate\":\"<b>%{label}</b><br>Frequency:%{customdata[0]:.0f}\",\"ids\":[\"data_science/field\",\"data_science/engineering\",\"data_science/knowledge\",\"data_science/statistical\",\"data_science/analysis\",\"data_science/degree\",\"data_science/required\",\"data_science/ability\",\"data_science/statistics\",\"data_science/machine\",\"data_science/r\",\"data_science/data\",\"data_science/experience\",\"data_science/using\",\"data_science/strong\",\"data_science/including\",\"data_science/science\",\"data_science/mathematics\",\"data_science/working\",\"data_science/computer\",\"data_science/learning\",\"data_science/tools\",\"data_science/skills\",\"data_science/python\",\"data_science/years\",\"data_science/models\",\"data_science/related\",\"data_science/sql\",\"data_science/work\",\"data_science/analytics\",\"data_science\"],\"labels\":[\"field\",\"engineering\",\"knowledge\",\"statistical\",\"analysis\",\"degree\",\"required\",\"ability\",\"statistics\",\"machine\",\"r\",\"data\",\"experience\",\"using\",\"strong\",\"including\",\"science\",\"mathematics\",\"working\",\"computer\",\"learning\",\"tools\",\"skills\",\"python\",\"years\",\"models\",\"related\",\"sql\",\"work\",\"analytics\",\"data_science\"],\"marker\":{\"colors\":[\"#86B4E6\",\"#73952F\",\"#C7D3AB\",\"#AECE6D\",\"#3A6194\",\"#697E53\",\"#1F3053\",\"#3B5873\",\"#86B4E6\",\"#73952F\",\"#C7D3AB\",\"#AECE6D\",\"#3A6194\",\"#697E53\",\"#1F3053\",\"#3B5873\",\"#86B4E6\",\"#73952F\",\"#C7D3AB\",\"#AECE6D\",\"#3A6194\",\"#697E53\",\"#1F3053\",\"#3B5873\",\"#86B4E6\",\"#73952F\",\"#C7D3AB\",\"#AECE6D\",\"#3A6194\",\"#697E53\",\"#1F3053\"],\"line\":{\"width\":0}},\"name\":\"\",\"parents\":[\"data_science\",\"data_science\",\"data_science\",\"data_science\",\"data_science\",\"data_science\",\"data_science\",\"data_science\",\"data_science\",\"data_science\",\"data_science\",\"data_science\",\"data_science\",\"data_science\",\"data_science\",\"data_science\",\"data_science\",\"data_science\",\"data_science\",\"data_science\",\"data_science\",\"data_science\",\"data_science\",\"data_science\",\"data_science\",\"data_science\",\"data_science\",\"data_science\",\"data_science\",\"data_science\",\"\"],\"values\":[43,46,48,45,81,81,35,76,49,79,46,331,364,46,34,57,108,37,37,43,93,53,61,68,134,42,54,39,43,65,2338],\"type\":\"treemap\",\"textfont\":{\"color\":\"white\"}}],                        {\"template\":{\"data\":{\"histogram2dcontour\":[{\"type\":\"histogram2dcontour\",\"colorbar\":{\"outlinewidth\":0,\"ticks\":\"\"},\"colorscale\":[[0.0,\"#0d0887\"],[0.1111111111111111,\"#46039f\"],[0.2222222222222222,\"#7201a8\"],[0.3333333333333333,\"#9c179e\"],[0.4444444444444444,\"#bd3786\"],[0.5555555555555556,\"#d8576b\"],[0.6666666666666666,\"#ed7953\"],[0.7777777777777778,\"#fb9f3a\"],[0.8888888888888888,\"#fdca26\"],[1.0,\"#f0f921\"]]}],\"choropleth\":[{\"type\":\"choropleth\",\"colorbar\":{\"outlinewidth\":0,\"ticks\":\"\"}}],\"histogram2d\":[{\"type\":\"histogram2d\",\"colorbar\":{\"outlinewidth\":0,\"ticks\":\"\"},\"colorscale\":[[0.0,\"#0d0887\"],[0.1111111111111111,\"#46039f\"],[0.2222222222222222,\"#7201a8\"],[0.3333333333333333,\"#9c179e\"],[0.4444444444444444,\"#bd3786\"],[0.5555555555555556,\"#d8576b\"],[0.6666666666666666,\"#ed7953\"],[0.7777777777777778,\"#fb9f3a\"],[0.8888888888888888,\"#fdca26\"],[1.0,\"#f0f921\"]]}],\"heatmap\":[{\"type\":\"heatmap\",\"colorbar\":{\"outlinewidth\":0,\"ticks\":\"\"},\"colorscale\":[[0.0,\"#0d0887\"],[0.1111111111111111,\"#46039f\"],[0.2222222222222222,\"#7201a8\"],[0.3333333333333333,\"#9c179e\"],[0.4444444444444444,\"#bd3786\"],[0.5555555555555556,\"#d8576b\"],[0.6666666666666666,\"#ed7953\"],[0.7777777777777778,\"#fb9f3a\"],[0.8888888888888888,\"#fdca26\"],[1.0,\"#f0f921\"]]}],\"heatmapgl\":[{\"type\":\"heatmapgl\",\"colorbar\":{\"outlinewidth\":0,\"ticks\":\"\"},\"colorscale\":[[0.0,\"#0d0887\"],[0.1111111111111111,\"#46039f\"],[0.2222222222222222,\"#7201a8\"],[0.3333333333333333,\"#9c179e\"],[0.4444444444444444,\"#bd3786\"],[0.5555555555555556,\"#d8576b\"],[0.6666666666666666,\"#ed7953\"],[0.7777777777777778,\"#fb9f3a\"],[0.8888888888888888,\"#fdca26\"],[1.0,\"#f0f921\"]]}],\"contourcarpet\":[{\"type\":\"contourcarpet\",\"colorbar\":{\"outlinewidth\":0,\"ticks\":\"\"}}],\"contour\":[{\"type\":\"contour\",\"colorbar\":{\"outlinewidth\":0,\"ticks\":\"\"},\"colorscale\":[[0.0,\"#0d0887\"],[0.1111111111111111,\"#46039f\"],[0.2222222222222222,\"#7201a8\"],[0.3333333333333333,\"#9c179e\"],[0.4444444444444444,\"#bd3786\"],[0.5555555555555556,\"#d8576b\"],[0.6666666666666666,\"#ed7953\"],[0.7777777777777778,\"#fb9f3a\"],[0.8888888888888888,\"#fdca26\"],[1.0,\"#f0f921\"]]}],\"surface\":[{\"type\":\"surface\",\"colorbar\":{\"outlinewidth\":0,\"ticks\":\"\"},\"colorscale\":[[0.0,\"#0d0887\"],[0.1111111111111111,\"#46039f\"],[0.2222222222222222,\"#7201a8\"],[0.3333333333333333,\"#9c179e\"],[0.4444444444444444,\"#bd3786\"],[0.5555555555555556,\"#d8576b\"],[0.6666666666666666,\"#ed7953\"],[0.7777777777777778,\"#fb9f3a\"],[0.8888888888888888,\"#fdca26\"],[1.0,\"#f0f921\"]]}],\"mesh3d\":[{\"type\":\"mesh3d\",\"colorbar\":{\"outlinewidth\":0,\"ticks\":\"\"}}],\"scatter\":[{\"fillpattern\":{\"fillmode\":\"overlay\",\"size\":10,\"solidity\":0.2},\"type\":\"scatter\"}],\"parcoords\":[{\"type\":\"parcoords\",\"line\":{\"colorbar\":{\"outlinewidth\":0,\"ticks\":\"\"}}}],\"scatterpolargl\":[{\"type\":\"scatterpolargl\",\"marker\":{\"colorbar\":{\"outlinewidth\":0,\"ticks\":\"\"}}}],\"bar\":[{\"error_x\":{\"color\":\"#2a3f5f\"},\"error_y\":{\"color\":\"#2a3f5f\"},\"marker\":{\"line\":{\"color\":\"#E5ECF6\",\"width\":0.5},\"pattern\":{\"fillmode\":\"overlay\",\"size\":10,\"solidity\":0.2}},\"type\":\"bar\"}],\"scattergeo\":[{\"type\":\"scattergeo\",\"marker\":{\"colorbar\":{\"outlinewidth\":0,\"ticks\":\"\"}}}],\"scatterpolar\":[{\"type\":\"scatterpolar\",\"marker\":{\"colorbar\":{\"outlinewidth\":0,\"ticks\":\"\"}}}],\"histogram\":[{\"marker\":{\"pattern\":{\"fillmode\":\"overlay\",\"size\":10,\"solidity\":0.2}},\"type\":\"histogram\"}],\"scattergl\":[{\"type\":\"scattergl\",\"marker\":{\"colorbar\":{\"outlinewidth\":0,\"ticks\":\"\"}}}],\"scatter3d\":[{\"type\":\"scatter3d\",\"line\":{\"colorbar\":{\"outlinewidth\":0,\"ticks\":\"\"}},\"marker\":{\"colorbar\":{\"outlinewidth\":0,\"ticks\":\"\"}}}],\"scattermapbox\":[{\"type\":\"scattermapbox\",\"marker\":{\"colorbar\":{\"outlinewidth\":0,\"ticks\":\"\"}}}],\"scatterternary\":[{\"type\":\"scatterternary\",\"marker\":{\"colorbar\":{\"outlinewidth\":0,\"ticks\":\"\"}}}],\"scattercarpet\":[{\"type\":\"scattercarpet\",\"marker\":{\"colorbar\":{\"outlinewidth\":0,\"ticks\":\"\"}}}],\"carpet\":[{\"aaxis\":{\"endlinecolor\":\"#2a3f5f\",\"gridcolor\":\"white\",\"linecolor\":\"white\",\"minorgridcolor\":\"white\",\"startlinecolor\":\"#2a3f5f\"},\"baxis\":{\"endlinecolor\":\"#2a3f5f\",\"gridcolor\":\"white\",\"linecolor\":\"white\",\"minorgridcolor\":\"white\",\"startlinecolor\":\"#2a3f5f\"},\"type\":\"carpet\"}],\"table\":[{\"cells\":{\"fill\":{\"color\":\"#EBF0F8\"},\"line\":{\"color\":\"white\"}},\"header\":{\"fill\":{\"color\":\"#C8D4E3\"},\"line\":{\"color\":\"white\"}},\"type\":\"table\"}],\"barpolar\":[{\"marker\":{\"line\":{\"color\":\"#E5ECF6\",\"width\":0.5},\"pattern\":{\"fillmode\":\"overlay\",\"size\":10,\"solidity\":0.2}},\"type\":\"barpolar\"}],\"pie\":[{\"automargin\":true,\"type\":\"pie\"}]},\"layout\":{\"autotypenumbers\":\"strict\",\"colorway\":[\"#636efa\",\"#EF553B\",\"#00cc96\",\"#ab63fa\",\"#FFA15A\",\"#19d3f3\",\"#FF6692\",\"#B6E880\",\"#FF97FF\",\"#FECB52\"],\"font\":{\"color\":\"#2a3f5f\"},\"hovermode\":\"closest\",\"hoverlabel\":{\"align\":\"left\"},\"paper_bgcolor\":\"white\",\"plot_bgcolor\":\"#E5ECF6\",\"polar\":{\"bgcolor\":\"#E5ECF6\",\"angularaxis\":{\"gridcolor\":\"white\",\"linecolor\":\"white\",\"ticks\":\"\"},\"radialaxis\":{\"gridcolor\":\"white\",\"linecolor\":\"white\",\"ticks\":\"\"}},\"ternary\":{\"bgcolor\":\"#E5ECF6\",\"aaxis\":{\"gridcolor\":\"white\",\"linecolor\":\"white\",\"ticks\":\"\"},\"baxis\":{\"gridcolor\":\"white\",\"linecolor\":\"white\",\"ticks\":\"\"},\"caxis\":{\"gridcolor\":\"white\",\"linecolor\":\"white\",\"ticks\":\"\"}},\"coloraxis\":{\"colorbar\":{\"outlinewidth\":0,\"ticks\":\"\"}},\"colorscale\":{\"sequential\":[[0.0,\"#0d0887\"],[0.1111111111111111,\"#46039f\"],[0.2222222222222222,\"#7201a8\"],[0.3333333333333333,\"#9c179e\"],[0.4444444444444444,\"#bd3786\"],[0.5555555555555556,\"#d8576b\"],[0.6666666666666666,\"#ed7953\"],[0.7777777777777778,\"#fb9f3a\"],[0.8888888888888888,\"#fdca26\"],[1.0,\"#f0f921\"]],\"sequentialminus\":[[0.0,\"#0d0887\"],[0.1111111111111111,\"#46039f\"],[0.2222222222222222,\"#7201a8\"],[0.3333333333333333,\"#9c179e\"],[0.4444444444444444,\"#bd3786\"],[0.5555555555555556,\"#d8576b\"],[0.6666666666666666,\"#ed7953\"],[0.7777777777777778,\"#fb9f3a\"],[0.8888888888888888,\"#fdca26\"],[1.0,\"#f0f921\"]],\"diverging\":[[0,\"#8e0152\"],[0.1,\"#c51b7d\"],[0.2,\"#de77ae\"],[0.3,\"#f1b6da\"],[0.4,\"#fde0ef\"],[0.5,\"#f7f7f7\"],[0.6,\"#e6f5d0\"],[0.7,\"#b8e186\"],[0.8,\"#7fbc41\"],[0.9,\"#4d9221\"],[1,\"#276419\"]]},\"xaxis\":{\"gridcolor\":\"white\",\"linecolor\":\"white\",\"ticks\":\"\",\"title\":{\"standoff\":15},\"zerolinecolor\":\"white\",\"automargin\":true,\"zerolinewidth\":2},\"yaxis\":{\"gridcolor\":\"white\",\"linecolor\":\"white\",\"ticks\":\"\",\"title\":{\"standoff\":15},\"zerolinecolor\":\"white\",\"automargin\":true,\"zerolinewidth\":2},\"scene\":{\"xaxis\":{\"backgroundcolor\":\"#E5ECF6\",\"gridcolor\":\"white\",\"linecolor\":\"white\",\"showbackground\":true,\"ticks\":\"\",\"zerolinecolor\":\"white\",\"gridwidth\":2},\"yaxis\":{\"backgroundcolor\":\"#E5ECF6\",\"gridcolor\":\"white\",\"linecolor\":\"white\",\"showbackground\":true,\"ticks\":\"\",\"zerolinecolor\":\"white\",\"gridwidth\":2},\"zaxis\":{\"backgroundcolor\":\"#E5ECF6\",\"gridcolor\":\"white\",\"linecolor\":\"white\",\"showbackground\":true,\"ticks\":\"\",\"zerolinecolor\":\"white\",\"gridwidth\":2}},\"shapedefaults\":{\"line\":{\"color\":\"#2a3f5f\"}},\"annotationdefaults\":{\"arrowcolor\":\"#2a3f5f\",\"arrowhead\":0,\"arrowwidth\":1},\"geo\":{\"bgcolor\":\"white\",\"landcolor\":\"#E5ECF6\",\"subunitcolor\":\"white\",\"showland\":true,\"showlakes\":true,\"lakecolor\":\"white\"},\"title\":{\"x\":0.05},\"mapbox\":{\"style\":\"light\"}}},\"legend\":{\"tracegroupgap\":0},\"margin\":{\"t\":85,\"l\":25,\"r\":25,\"b\":25},\"treemapcolorway\":[\"#86B4E6\",\"#73952F\",\"#C7D3AB\",\"#AECE6D\",\"#3A6194\",\"#697E53\",\"#1F3053\",\"#3B5873\"],\"title\":{\"font\":{\"size\":20},\"text\":\"Top 30 words describing<br>data science qualifications\",\"pad\":{\"r\":10,\"t\":10},\"x\":0.5,\"y\":0.96,\"xanchor\":\"center\",\"yanchor\":\"top\"},\"font\":{\"size\":16,\"color\":\"white\"},\"width\":600,\"height\":600,\"plot_bgcolor\":\"#272b2e\",\"paper_bgcolor\":\"#272b2e\"},                        {\"responsive\": true}                    ).then(function(){\n",
       "                            \n",
       "var gd = document.getElementById('41d510ea-ee01-457c-9268-1ae776e46bfc');\n",
       "var x = new MutationObserver(function (mutations, observer) {{\n",
       "        var display = window.getComputedStyle(gd).display;\n",
       "        if (!display || display === 'none') {{\n",
       "            console.log([gd, 'removed!']);\n",
       "            Plotly.purge(gd);\n",
       "            observer.disconnect();\n",
       "        }}\n",
       "}});\n",
       "\n",
       "// Listen for the removal of the full notebook cells\n",
       "var notebookContainer = gd.closest('#notebook-container');\n",
       "if (notebookContainer) {{\n",
       "    x.observe(notebookContainer, {childList: true});\n",
       "}}\n",
       "\n",
       "// Listen for the clearing of the current output cell\n",
       "var outputEl = gd.closest('.output');\n",
       "if (outputEl) {{\n",
       "    x.observe(outputEl, {childList: true});\n",
       "}}\n",
       "\n",
       "                        })                };                });            </script>        </div>"
      ]
     },
     "metadata": {},
     "output_type": "display_data"
    }
   ],
   "source": [
    "df_word_count_qual_da = df_word_count_qual[df_word_count_qual['job_type']=='data_analysis']\n",
    "df_word_count_qual_ds = df_word_count_qual[df_word_count_qual['job_type']=='data_science']\n",
    "df_word_count_qual_ml = df_word_count_qual[df_word_count_qual['job_type']=='machine_learning']\n",
    "\n",
    "# Define a custom color scale\n",
    "custom_colors = ['#86B4E6','#73952F','#C7D3AB','#AECE6D','#3A6194','#697E53','#1F3053','#3B5873' ]\n",
    "\n",
    "# create the treemap figure with custom hover text and color scale\n",
    "fig = px.treemap(df_word_count_qual_ds, path=['job_type', 'word'], values='frequency', color='word',\n",
    "                 color_discrete_sequence=custom_colors,\n",
    "                 hover_data={'frequency': ':f'},\n",
    "                 )\n",
    "\n",
    "# remove the treemap borders\n",
    "fig.update_traces(\n",
    "    go.Treemap(\n",
    "        marker=dict(line=dict(width=0))\n",
    "    )\n",
    ")\n",
    "fig.update_traces(textfont=dict(color='white'))\n",
    "fig.update_traces(hovertemplate='<b>%{label}</b><br>Frequency:%{customdata[0]:.0f}')\n",
    "\n",
    "# customize the font and size of the title and labels\n",
    "fig.update_layout(title={'text': \"Top 30 words describing<br>data science qualifications\", 'font': {'size': 24}},\n",
    "                  font={'size': 18})\n",
    "\n",
    "# customize the margins\n",
    "fig.update_layout(\n",
    "    title={\n",
    "        'x': 0.50,\n",
    "        'y': 0.96,\n",
    "        'xanchor': 'center',\n",
    "        'yanchor': 'top',\n",
    "        'pad': {'r': 10, 't': 10,},\n",
    "        'font': {'size': 20}\n",
    "    },\n",
    "    width=600,\n",
    "    height=600,\n",
    "    margin=dict(t=85, l=25, r=25, b=25),\n",
    "    plot_bgcolor = \"#272b2e\",\n",
    "    paper_bgcolor = \"#272b2e\",\n",
    "    font=dict(size = 16, color = 'white')\n",
    ") \n",
    "\n",
    "\n",
    "# show the figure\n",
    "fig.show()\n",
    "fig.write_html('../images/tree_map2.html')\n"
   ]
  },
  {
   "cell_type": "code",
   "execution_count": 133,
   "metadata": {},
   "outputs": [
    {
     "data": {
      "application/vnd.plotly.v1+json": {
       "config": {
        "plotlyServerURL": "https://plot.ly"
       },
       "data": [
        {
         "branchvalues": "total",
         "customdata": [
          [
           63,
           "python"
          ],
          [
           34,
           "tensorflow"
          ],
          [
           35,
           "development"
          ],
          [
           105,
           "data"
          ],
          [
           46,
           "knowledge"
          ],
          [
           188,
           "learning"
          ],
          [
           32,
           "technical"
          ],
          [
           52,
           "software"
          ],
          [
           42,
           "field"
          ],
          [
           43,
           "ability"
          ],
          [
           32,
           "pytorch"
          ],
          [
           36,
           "models"
          ],
          [
           34,
           "bachelors"
          ],
          [
           77,
           "computer"
          ],
          [
           47,
           "ml"
          ],
          [
           82,
           "skills"
          ],
          [
           73,
           "strong"
          ],
          [
           323,
           "experience"
          ],
          [
           39,
           "working"
          ],
          [
           35,
           "programming"
          ],
          [
           36,
           "eg"
          ],
          [
           55,
           "degree"
          ],
          [
           120,
           "machine"
          ],
          [
           59,
           "engineering"
          ],
          [
           101,
           "years"
          ],
          [
           40,
           "using"
          ],
          [
           45,
           "related"
          ],
          [
           33,
           "work"
          ],
          [
           75,
           "science"
          ],
          [
           58,
           "deep"
          ],
          [
           2040,
           "(?)"
          ]
         ],
         "domain": {
          "x": [
           0,
           1
          ],
          "y": [
           0,
           1
          ]
         },
         "hovertemplate": "<b>%{label}</b><br>Frequency:%{customdata[0]:.0f}",
         "ids": [
          "machine_learning/python",
          "machine_learning/tensorflow",
          "machine_learning/development",
          "machine_learning/data",
          "machine_learning/knowledge",
          "machine_learning/learning",
          "machine_learning/technical",
          "machine_learning/software",
          "machine_learning/field",
          "machine_learning/ability",
          "machine_learning/pytorch",
          "machine_learning/models",
          "machine_learning/bachelors",
          "machine_learning/computer",
          "machine_learning/ml",
          "machine_learning/skills",
          "machine_learning/strong",
          "machine_learning/experience",
          "machine_learning/working",
          "machine_learning/programming",
          "machine_learning/eg",
          "machine_learning/degree",
          "machine_learning/machine",
          "machine_learning/engineering",
          "machine_learning/years",
          "machine_learning/using",
          "machine_learning/related",
          "machine_learning/work",
          "machine_learning/science",
          "machine_learning/deep",
          "machine_learning"
         ],
         "labels": [
          "python",
          "tensorflow",
          "development",
          "data",
          "knowledge",
          "learning",
          "technical",
          "software",
          "field",
          "ability",
          "pytorch",
          "models",
          "bachelors",
          "computer",
          "ml",
          "skills",
          "strong",
          "experience",
          "working",
          "programming",
          "eg",
          "degree",
          "machine",
          "engineering",
          "years",
          "using",
          "related",
          "work",
          "science",
          "deep",
          "machine_learning"
         ],
         "marker": {
          "colors": [
           "#86B4E6",
           "#73952F",
           "#C7D3AB",
           "#AECE6D",
           "#3A6194",
           "#697E53",
           "#1F3053",
           "#3B5873",
           "#86B4E6",
           "#73952F",
           "#C7D3AB",
           "#AECE6D",
           "#3A6194",
           "#697E53",
           "#1F3053",
           "#3B5873",
           "#86B4E6",
           "#73952F",
           "#C7D3AB",
           "#AECE6D",
           "#3A6194",
           "#697E53",
           "#1F3053",
           "#3B5873",
           "#86B4E6",
           "#73952F",
           "#C7D3AB",
           "#AECE6D",
           "#3A6194",
           "#697E53",
           "#1F3053"
          ],
          "line": {
           "width": 0
          }
         },
         "name": "",
         "parents": [
          "machine_learning",
          "machine_learning",
          "machine_learning",
          "machine_learning",
          "machine_learning",
          "machine_learning",
          "machine_learning",
          "machine_learning",
          "machine_learning",
          "machine_learning",
          "machine_learning",
          "machine_learning",
          "machine_learning",
          "machine_learning",
          "machine_learning",
          "machine_learning",
          "machine_learning",
          "machine_learning",
          "machine_learning",
          "machine_learning",
          "machine_learning",
          "machine_learning",
          "machine_learning",
          "machine_learning",
          "machine_learning",
          "machine_learning",
          "machine_learning",
          "machine_learning",
          "machine_learning",
          "machine_learning",
          ""
         ],
         "textfont": {
          "color": "white"
         },
         "type": "treemap",
         "values": [
          63,
          34,
          35,
          105,
          46,
          188,
          32,
          52,
          42,
          43,
          32,
          36,
          34,
          77,
          47,
          82,
          73,
          323,
          39,
          35,
          36,
          55,
          120,
          59,
          101,
          40,
          45,
          33,
          75,
          58,
          2040
         ]
        }
       ],
       "layout": {
        "font": {
         "color": "white",
         "size": 16
        },
        "height": 600,
        "legend": {
         "tracegroupgap": 0
        },
        "margin": {
         "b": 25,
         "l": 25,
         "r": 25,
         "t": 85
        },
        "paper_bgcolor": "#272b2e",
        "plot_bgcolor": "#272b2e",
        "template": {
         "data": {
          "bar": [
           {
            "error_x": {
             "color": "#2a3f5f"
            },
            "error_y": {
             "color": "#2a3f5f"
            },
            "marker": {
             "line": {
              "color": "#E5ECF6",
              "width": 0.5
             },
             "pattern": {
              "fillmode": "overlay",
              "size": 10,
              "solidity": 0.2
             }
            },
            "type": "bar"
           }
          ],
          "barpolar": [
           {
            "marker": {
             "line": {
              "color": "#E5ECF6",
              "width": 0.5
             },
             "pattern": {
              "fillmode": "overlay",
              "size": 10,
              "solidity": 0.2
             }
            },
            "type": "barpolar"
           }
          ],
          "carpet": [
           {
            "aaxis": {
             "endlinecolor": "#2a3f5f",
             "gridcolor": "white",
             "linecolor": "white",
             "minorgridcolor": "white",
             "startlinecolor": "#2a3f5f"
            },
            "baxis": {
             "endlinecolor": "#2a3f5f",
             "gridcolor": "white",
             "linecolor": "white",
             "minorgridcolor": "white",
             "startlinecolor": "#2a3f5f"
            },
            "type": "carpet"
           }
          ],
          "choropleth": [
           {
            "colorbar": {
             "outlinewidth": 0,
             "ticks": ""
            },
            "type": "choropleth"
           }
          ],
          "contour": [
           {
            "colorbar": {
             "outlinewidth": 0,
             "ticks": ""
            },
            "colorscale": [
             [
              0,
              "#0d0887"
             ],
             [
              0.1111111111111111,
              "#46039f"
             ],
             [
              0.2222222222222222,
              "#7201a8"
             ],
             [
              0.3333333333333333,
              "#9c179e"
             ],
             [
              0.4444444444444444,
              "#bd3786"
             ],
             [
              0.5555555555555556,
              "#d8576b"
             ],
             [
              0.6666666666666666,
              "#ed7953"
             ],
             [
              0.7777777777777778,
              "#fb9f3a"
             ],
             [
              0.8888888888888888,
              "#fdca26"
             ],
             [
              1,
              "#f0f921"
             ]
            ],
            "type": "contour"
           }
          ],
          "contourcarpet": [
           {
            "colorbar": {
             "outlinewidth": 0,
             "ticks": ""
            },
            "type": "contourcarpet"
           }
          ],
          "heatmap": [
           {
            "colorbar": {
             "outlinewidth": 0,
             "ticks": ""
            },
            "colorscale": [
             [
              0,
              "#0d0887"
             ],
             [
              0.1111111111111111,
              "#46039f"
             ],
             [
              0.2222222222222222,
              "#7201a8"
             ],
             [
              0.3333333333333333,
              "#9c179e"
             ],
             [
              0.4444444444444444,
              "#bd3786"
             ],
             [
              0.5555555555555556,
              "#d8576b"
             ],
             [
              0.6666666666666666,
              "#ed7953"
             ],
             [
              0.7777777777777778,
              "#fb9f3a"
             ],
             [
              0.8888888888888888,
              "#fdca26"
             ],
             [
              1,
              "#f0f921"
             ]
            ],
            "type": "heatmap"
           }
          ],
          "heatmapgl": [
           {
            "colorbar": {
             "outlinewidth": 0,
             "ticks": ""
            },
            "colorscale": [
             [
              0,
              "#0d0887"
             ],
             [
              0.1111111111111111,
              "#46039f"
             ],
             [
              0.2222222222222222,
              "#7201a8"
             ],
             [
              0.3333333333333333,
              "#9c179e"
             ],
             [
              0.4444444444444444,
              "#bd3786"
             ],
             [
              0.5555555555555556,
              "#d8576b"
             ],
             [
              0.6666666666666666,
              "#ed7953"
             ],
             [
              0.7777777777777778,
              "#fb9f3a"
             ],
             [
              0.8888888888888888,
              "#fdca26"
             ],
             [
              1,
              "#f0f921"
             ]
            ],
            "type": "heatmapgl"
           }
          ],
          "histogram": [
           {
            "marker": {
             "pattern": {
              "fillmode": "overlay",
              "size": 10,
              "solidity": 0.2
             }
            },
            "type": "histogram"
           }
          ],
          "histogram2d": [
           {
            "colorbar": {
             "outlinewidth": 0,
             "ticks": ""
            },
            "colorscale": [
             [
              0,
              "#0d0887"
             ],
             [
              0.1111111111111111,
              "#46039f"
             ],
             [
              0.2222222222222222,
              "#7201a8"
             ],
             [
              0.3333333333333333,
              "#9c179e"
             ],
             [
              0.4444444444444444,
              "#bd3786"
             ],
             [
              0.5555555555555556,
              "#d8576b"
             ],
             [
              0.6666666666666666,
              "#ed7953"
             ],
             [
              0.7777777777777778,
              "#fb9f3a"
             ],
             [
              0.8888888888888888,
              "#fdca26"
             ],
             [
              1,
              "#f0f921"
             ]
            ],
            "type": "histogram2d"
           }
          ],
          "histogram2dcontour": [
           {
            "colorbar": {
             "outlinewidth": 0,
             "ticks": ""
            },
            "colorscale": [
             [
              0,
              "#0d0887"
             ],
             [
              0.1111111111111111,
              "#46039f"
             ],
             [
              0.2222222222222222,
              "#7201a8"
             ],
             [
              0.3333333333333333,
              "#9c179e"
             ],
             [
              0.4444444444444444,
              "#bd3786"
             ],
             [
              0.5555555555555556,
              "#d8576b"
             ],
             [
              0.6666666666666666,
              "#ed7953"
             ],
             [
              0.7777777777777778,
              "#fb9f3a"
             ],
             [
              0.8888888888888888,
              "#fdca26"
             ],
             [
              1,
              "#f0f921"
             ]
            ],
            "type": "histogram2dcontour"
           }
          ],
          "mesh3d": [
           {
            "colorbar": {
             "outlinewidth": 0,
             "ticks": ""
            },
            "type": "mesh3d"
           }
          ],
          "parcoords": [
           {
            "line": {
             "colorbar": {
              "outlinewidth": 0,
              "ticks": ""
             }
            },
            "type": "parcoords"
           }
          ],
          "pie": [
           {
            "automargin": true,
            "type": "pie"
           }
          ],
          "scatter": [
           {
            "fillpattern": {
             "fillmode": "overlay",
             "size": 10,
             "solidity": 0.2
            },
            "type": "scatter"
           }
          ],
          "scatter3d": [
           {
            "line": {
             "colorbar": {
              "outlinewidth": 0,
              "ticks": ""
             }
            },
            "marker": {
             "colorbar": {
              "outlinewidth": 0,
              "ticks": ""
             }
            },
            "type": "scatter3d"
           }
          ],
          "scattercarpet": [
           {
            "marker": {
             "colorbar": {
              "outlinewidth": 0,
              "ticks": ""
             }
            },
            "type": "scattercarpet"
           }
          ],
          "scattergeo": [
           {
            "marker": {
             "colorbar": {
              "outlinewidth": 0,
              "ticks": ""
             }
            },
            "type": "scattergeo"
           }
          ],
          "scattergl": [
           {
            "marker": {
             "colorbar": {
              "outlinewidth": 0,
              "ticks": ""
             }
            },
            "type": "scattergl"
           }
          ],
          "scattermapbox": [
           {
            "marker": {
             "colorbar": {
              "outlinewidth": 0,
              "ticks": ""
             }
            },
            "type": "scattermapbox"
           }
          ],
          "scatterpolar": [
           {
            "marker": {
             "colorbar": {
              "outlinewidth": 0,
              "ticks": ""
             }
            },
            "type": "scatterpolar"
           }
          ],
          "scatterpolargl": [
           {
            "marker": {
             "colorbar": {
              "outlinewidth": 0,
              "ticks": ""
             }
            },
            "type": "scatterpolargl"
           }
          ],
          "scatterternary": [
           {
            "marker": {
             "colorbar": {
              "outlinewidth": 0,
              "ticks": ""
             }
            },
            "type": "scatterternary"
           }
          ],
          "surface": [
           {
            "colorbar": {
             "outlinewidth": 0,
             "ticks": ""
            },
            "colorscale": [
             [
              0,
              "#0d0887"
             ],
             [
              0.1111111111111111,
              "#46039f"
             ],
             [
              0.2222222222222222,
              "#7201a8"
             ],
             [
              0.3333333333333333,
              "#9c179e"
             ],
             [
              0.4444444444444444,
              "#bd3786"
             ],
             [
              0.5555555555555556,
              "#d8576b"
             ],
             [
              0.6666666666666666,
              "#ed7953"
             ],
             [
              0.7777777777777778,
              "#fb9f3a"
             ],
             [
              0.8888888888888888,
              "#fdca26"
             ],
             [
              1,
              "#f0f921"
             ]
            ],
            "type": "surface"
           }
          ],
          "table": [
           {
            "cells": {
             "fill": {
              "color": "#EBF0F8"
             },
             "line": {
              "color": "white"
             }
            },
            "header": {
             "fill": {
              "color": "#C8D4E3"
             },
             "line": {
              "color": "white"
             }
            },
            "type": "table"
           }
          ]
         },
         "layout": {
          "annotationdefaults": {
           "arrowcolor": "#2a3f5f",
           "arrowhead": 0,
           "arrowwidth": 1
          },
          "autotypenumbers": "strict",
          "coloraxis": {
           "colorbar": {
            "outlinewidth": 0,
            "ticks": ""
           }
          },
          "colorscale": {
           "diverging": [
            [
             0,
             "#8e0152"
            ],
            [
             0.1,
             "#c51b7d"
            ],
            [
             0.2,
             "#de77ae"
            ],
            [
             0.3,
             "#f1b6da"
            ],
            [
             0.4,
             "#fde0ef"
            ],
            [
             0.5,
             "#f7f7f7"
            ],
            [
             0.6,
             "#e6f5d0"
            ],
            [
             0.7,
             "#b8e186"
            ],
            [
             0.8,
             "#7fbc41"
            ],
            [
             0.9,
             "#4d9221"
            ],
            [
             1,
             "#276419"
            ]
           ],
           "sequential": [
            [
             0,
             "#0d0887"
            ],
            [
             0.1111111111111111,
             "#46039f"
            ],
            [
             0.2222222222222222,
             "#7201a8"
            ],
            [
             0.3333333333333333,
             "#9c179e"
            ],
            [
             0.4444444444444444,
             "#bd3786"
            ],
            [
             0.5555555555555556,
             "#d8576b"
            ],
            [
             0.6666666666666666,
             "#ed7953"
            ],
            [
             0.7777777777777778,
             "#fb9f3a"
            ],
            [
             0.8888888888888888,
             "#fdca26"
            ],
            [
             1,
             "#f0f921"
            ]
           ],
           "sequentialminus": [
            [
             0,
             "#0d0887"
            ],
            [
             0.1111111111111111,
             "#46039f"
            ],
            [
             0.2222222222222222,
             "#7201a8"
            ],
            [
             0.3333333333333333,
             "#9c179e"
            ],
            [
             0.4444444444444444,
             "#bd3786"
            ],
            [
             0.5555555555555556,
             "#d8576b"
            ],
            [
             0.6666666666666666,
             "#ed7953"
            ],
            [
             0.7777777777777778,
             "#fb9f3a"
            ],
            [
             0.8888888888888888,
             "#fdca26"
            ],
            [
             1,
             "#f0f921"
            ]
           ]
          },
          "colorway": [
           "#636efa",
           "#EF553B",
           "#00cc96",
           "#ab63fa",
           "#FFA15A",
           "#19d3f3",
           "#FF6692",
           "#B6E880",
           "#FF97FF",
           "#FECB52"
          ],
          "font": {
           "color": "#2a3f5f"
          },
          "geo": {
           "bgcolor": "white",
           "lakecolor": "white",
           "landcolor": "#E5ECF6",
           "showlakes": true,
           "showland": true,
           "subunitcolor": "white"
          },
          "hoverlabel": {
           "align": "left"
          },
          "hovermode": "closest",
          "mapbox": {
           "style": "light"
          },
          "paper_bgcolor": "white",
          "plot_bgcolor": "#E5ECF6",
          "polar": {
           "angularaxis": {
            "gridcolor": "white",
            "linecolor": "white",
            "ticks": ""
           },
           "bgcolor": "#E5ECF6",
           "radialaxis": {
            "gridcolor": "white",
            "linecolor": "white",
            "ticks": ""
           }
          },
          "scene": {
           "xaxis": {
            "backgroundcolor": "#E5ECF6",
            "gridcolor": "white",
            "gridwidth": 2,
            "linecolor": "white",
            "showbackground": true,
            "ticks": "",
            "zerolinecolor": "white"
           },
           "yaxis": {
            "backgroundcolor": "#E5ECF6",
            "gridcolor": "white",
            "gridwidth": 2,
            "linecolor": "white",
            "showbackground": true,
            "ticks": "",
            "zerolinecolor": "white"
           },
           "zaxis": {
            "backgroundcolor": "#E5ECF6",
            "gridcolor": "white",
            "gridwidth": 2,
            "linecolor": "white",
            "showbackground": true,
            "ticks": "",
            "zerolinecolor": "white"
           }
          },
          "shapedefaults": {
           "line": {
            "color": "#2a3f5f"
           }
          },
          "ternary": {
           "aaxis": {
            "gridcolor": "white",
            "linecolor": "white",
            "ticks": ""
           },
           "baxis": {
            "gridcolor": "white",
            "linecolor": "white",
            "ticks": ""
           },
           "bgcolor": "#E5ECF6",
           "caxis": {
            "gridcolor": "white",
            "linecolor": "white",
            "ticks": ""
           }
          },
          "title": {
           "x": 0.05
          },
          "xaxis": {
           "automargin": true,
           "gridcolor": "white",
           "linecolor": "white",
           "ticks": "",
           "title": {
            "standoff": 15
           },
           "zerolinecolor": "white",
           "zerolinewidth": 2
          },
          "yaxis": {
           "automargin": true,
           "gridcolor": "white",
           "linecolor": "white",
           "ticks": "",
           "title": {
            "standoff": 15
           },
           "zerolinecolor": "white",
           "zerolinewidth": 2
          }
         }
        },
        "title": {
         "font": {
          "size": 20
         },
         "pad": {
          "r": 10,
          "t": 10
         },
         "text": "Top 30 words describing<br>machine learning qualifications",
         "x": 0.5,
         "xanchor": "center",
         "y": 0.96,
         "yanchor": "top"
        },
        "treemapcolorway": [
         "#86B4E6",
         "#73952F",
         "#C7D3AB",
         "#AECE6D",
         "#3A6194",
         "#697E53",
         "#1F3053",
         "#3B5873"
        ],
        "width": 600
       }
      },
      "text/html": [
       "<div>                            <div id=\"7c0e511d-13bf-4660-892a-dd32b5a0adf8\" class=\"plotly-graph-div\" style=\"height:600px; width:600px;\"></div>            <script type=\"text/javascript\">                require([\"plotly\"], function(Plotly) {                    window.PLOTLYENV=window.PLOTLYENV || {};                                    if (document.getElementById(\"7c0e511d-13bf-4660-892a-dd32b5a0adf8\")) {                    Plotly.newPlot(                        \"7c0e511d-13bf-4660-892a-dd32b5a0adf8\",                        [{\"branchvalues\":\"total\",\"customdata\":[[63,\"python\"],[34,\"tensorflow\"],[35,\"development\"],[105,\"data\"],[46,\"knowledge\"],[188,\"learning\"],[32,\"technical\"],[52,\"software\"],[42,\"field\"],[43,\"ability\"],[32,\"pytorch\"],[36,\"models\"],[34,\"bachelors\"],[77,\"computer\"],[47,\"ml\"],[82,\"skills\"],[73,\"strong\"],[323,\"experience\"],[39,\"working\"],[35,\"programming\"],[36,\"eg\"],[55,\"degree\"],[120,\"machine\"],[59,\"engineering\"],[101,\"years\"],[40,\"using\"],[45,\"related\"],[33,\"work\"],[75,\"science\"],[58,\"deep\"],[2040,\"(?)\"]],\"domain\":{\"x\":[0.0,1.0],\"y\":[0.0,1.0]},\"hovertemplate\":\"<b>%{label}</b><br>Frequency:%{customdata[0]:.0f}\",\"ids\":[\"machine_learning/python\",\"machine_learning/tensorflow\",\"machine_learning/development\",\"machine_learning/data\",\"machine_learning/knowledge\",\"machine_learning/learning\",\"machine_learning/technical\",\"machine_learning/software\",\"machine_learning/field\",\"machine_learning/ability\",\"machine_learning/pytorch\",\"machine_learning/models\",\"machine_learning/bachelors\",\"machine_learning/computer\",\"machine_learning/ml\",\"machine_learning/skills\",\"machine_learning/strong\",\"machine_learning/experience\",\"machine_learning/working\",\"machine_learning/programming\",\"machine_learning/eg\",\"machine_learning/degree\",\"machine_learning/machine\",\"machine_learning/engineering\",\"machine_learning/years\",\"machine_learning/using\",\"machine_learning/related\",\"machine_learning/work\",\"machine_learning/science\",\"machine_learning/deep\",\"machine_learning\"],\"labels\":[\"python\",\"tensorflow\",\"development\",\"data\",\"knowledge\",\"learning\",\"technical\",\"software\",\"field\",\"ability\",\"pytorch\",\"models\",\"bachelors\",\"computer\",\"ml\",\"skills\",\"strong\",\"experience\",\"working\",\"programming\",\"eg\",\"degree\",\"machine\",\"engineering\",\"years\",\"using\",\"related\",\"work\",\"science\",\"deep\",\"machine_learning\"],\"marker\":{\"colors\":[\"#86B4E6\",\"#73952F\",\"#C7D3AB\",\"#AECE6D\",\"#3A6194\",\"#697E53\",\"#1F3053\",\"#3B5873\",\"#86B4E6\",\"#73952F\",\"#C7D3AB\",\"#AECE6D\",\"#3A6194\",\"#697E53\",\"#1F3053\",\"#3B5873\",\"#86B4E6\",\"#73952F\",\"#C7D3AB\",\"#AECE6D\",\"#3A6194\",\"#697E53\",\"#1F3053\",\"#3B5873\",\"#86B4E6\",\"#73952F\",\"#C7D3AB\",\"#AECE6D\",\"#3A6194\",\"#697E53\",\"#1F3053\"],\"line\":{\"width\":0}},\"name\":\"\",\"parents\":[\"machine_learning\",\"machine_learning\",\"machine_learning\",\"machine_learning\",\"machine_learning\",\"machine_learning\",\"machine_learning\",\"machine_learning\",\"machine_learning\",\"machine_learning\",\"machine_learning\",\"machine_learning\",\"machine_learning\",\"machine_learning\",\"machine_learning\",\"machine_learning\",\"machine_learning\",\"machine_learning\",\"machine_learning\",\"machine_learning\",\"machine_learning\",\"machine_learning\",\"machine_learning\",\"machine_learning\",\"machine_learning\",\"machine_learning\",\"machine_learning\",\"machine_learning\",\"machine_learning\",\"machine_learning\",\"\"],\"values\":[63,34,35,105,46,188,32,52,42,43,32,36,34,77,47,82,73,323,39,35,36,55,120,59,101,40,45,33,75,58,2040],\"type\":\"treemap\",\"textfont\":{\"color\":\"white\"}}],                        {\"template\":{\"data\":{\"histogram2dcontour\":[{\"type\":\"histogram2dcontour\",\"colorbar\":{\"outlinewidth\":0,\"ticks\":\"\"},\"colorscale\":[[0.0,\"#0d0887\"],[0.1111111111111111,\"#46039f\"],[0.2222222222222222,\"#7201a8\"],[0.3333333333333333,\"#9c179e\"],[0.4444444444444444,\"#bd3786\"],[0.5555555555555556,\"#d8576b\"],[0.6666666666666666,\"#ed7953\"],[0.7777777777777778,\"#fb9f3a\"],[0.8888888888888888,\"#fdca26\"],[1.0,\"#f0f921\"]]}],\"choropleth\":[{\"type\":\"choropleth\",\"colorbar\":{\"outlinewidth\":0,\"ticks\":\"\"}}],\"histogram2d\":[{\"type\":\"histogram2d\",\"colorbar\":{\"outlinewidth\":0,\"ticks\":\"\"},\"colorscale\":[[0.0,\"#0d0887\"],[0.1111111111111111,\"#46039f\"],[0.2222222222222222,\"#7201a8\"],[0.3333333333333333,\"#9c179e\"],[0.4444444444444444,\"#bd3786\"],[0.5555555555555556,\"#d8576b\"],[0.6666666666666666,\"#ed7953\"],[0.7777777777777778,\"#fb9f3a\"],[0.8888888888888888,\"#fdca26\"],[1.0,\"#f0f921\"]]}],\"heatmap\":[{\"type\":\"heatmap\",\"colorbar\":{\"outlinewidth\":0,\"ticks\":\"\"},\"colorscale\":[[0.0,\"#0d0887\"],[0.1111111111111111,\"#46039f\"],[0.2222222222222222,\"#7201a8\"],[0.3333333333333333,\"#9c179e\"],[0.4444444444444444,\"#bd3786\"],[0.5555555555555556,\"#d8576b\"],[0.6666666666666666,\"#ed7953\"],[0.7777777777777778,\"#fb9f3a\"],[0.8888888888888888,\"#fdca26\"],[1.0,\"#f0f921\"]]}],\"heatmapgl\":[{\"type\":\"heatmapgl\",\"colorbar\":{\"outlinewidth\":0,\"ticks\":\"\"},\"colorscale\":[[0.0,\"#0d0887\"],[0.1111111111111111,\"#46039f\"],[0.2222222222222222,\"#7201a8\"],[0.3333333333333333,\"#9c179e\"],[0.4444444444444444,\"#bd3786\"],[0.5555555555555556,\"#d8576b\"],[0.6666666666666666,\"#ed7953\"],[0.7777777777777778,\"#fb9f3a\"],[0.8888888888888888,\"#fdca26\"],[1.0,\"#f0f921\"]]}],\"contourcarpet\":[{\"type\":\"contourcarpet\",\"colorbar\":{\"outlinewidth\":0,\"ticks\":\"\"}}],\"contour\":[{\"type\":\"contour\",\"colorbar\":{\"outlinewidth\":0,\"ticks\":\"\"},\"colorscale\":[[0.0,\"#0d0887\"],[0.1111111111111111,\"#46039f\"],[0.2222222222222222,\"#7201a8\"],[0.3333333333333333,\"#9c179e\"],[0.4444444444444444,\"#bd3786\"],[0.5555555555555556,\"#d8576b\"],[0.6666666666666666,\"#ed7953\"],[0.7777777777777778,\"#fb9f3a\"],[0.8888888888888888,\"#fdca26\"],[1.0,\"#f0f921\"]]}],\"surface\":[{\"type\":\"surface\",\"colorbar\":{\"outlinewidth\":0,\"ticks\":\"\"},\"colorscale\":[[0.0,\"#0d0887\"],[0.1111111111111111,\"#46039f\"],[0.2222222222222222,\"#7201a8\"],[0.3333333333333333,\"#9c179e\"],[0.4444444444444444,\"#bd3786\"],[0.5555555555555556,\"#d8576b\"],[0.6666666666666666,\"#ed7953\"],[0.7777777777777778,\"#fb9f3a\"],[0.8888888888888888,\"#fdca26\"],[1.0,\"#f0f921\"]]}],\"mesh3d\":[{\"type\":\"mesh3d\",\"colorbar\":{\"outlinewidth\":0,\"ticks\":\"\"}}],\"scatter\":[{\"fillpattern\":{\"fillmode\":\"overlay\",\"size\":10,\"solidity\":0.2},\"type\":\"scatter\"}],\"parcoords\":[{\"type\":\"parcoords\",\"line\":{\"colorbar\":{\"outlinewidth\":0,\"ticks\":\"\"}}}],\"scatterpolargl\":[{\"type\":\"scatterpolargl\",\"marker\":{\"colorbar\":{\"outlinewidth\":0,\"ticks\":\"\"}}}],\"bar\":[{\"error_x\":{\"color\":\"#2a3f5f\"},\"error_y\":{\"color\":\"#2a3f5f\"},\"marker\":{\"line\":{\"color\":\"#E5ECF6\",\"width\":0.5},\"pattern\":{\"fillmode\":\"overlay\",\"size\":10,\"solidity\":0.2}},\"type\":\"bar\"}],\"scattergeo\":[{\"type\":\"scattergeo\",\"marker\":{\"colorbar\":{\"outlinewidth\":0,\"ticks\":\"\"}}}],\"scatterpolar\":[{\"type\":\"scatterpolar\",\"marker\":{\"colorbar\":{\"outlinewidth\":0,\"ticks\":\"\"}}}],\"histogram\":[{\"marker\":{\"pattern\":{\"fillmode\":\"overlay\",\"size\":10,\"solidity\":0.2}},\"type\":\"histogram\"}],\"scattergl\":[{\"type\":\"scattergl\",\"marker\":{\"colorbar\":{\"outlinewidth\":0,\"ticks\":\"\"}}}],\"scatter3d\":[{\"type\":\"scatter3d\",\"line\":{\"colorbar\":{\"outlinewidth\":0,\"ticks\":\"\"}},\"marker\":{\"colorbar\":{\"outlinewidth\":0,\"ticks\":\"\"}}}],\"scattermapbox\":[{\"type\":\"scattermapbox\",\"marker\":{\"colorbar\":{\"outlinewidth\":0,\"ticks\":\"\"}}}],\"scatterternary\":[{\"type\":\"scatterternary\",\"marker\":{\"colorbar\":{\"outlinewidth\":0,\"ticks\":\"\"}}}],\"scattercarpet\":[{\"type\":\"scattercarpet\",\"marker\":{\"colorbar\":{\"outlinewidth\":0,\"ticks\":\"\"}}}],\"carpet\":[{\"aaxis\":{\"endlinecolor\":\"#2a3f5f\",\"gridcolor\":\"white\",\"linecolor\":\"white\",\"minorgridcolor\":\"white\",\"startlinecolor\":\"#2a3f5f\"},\"baxis\":{\"endlinecolor\":\"#2a3f5f\",\"gridcolor\":\"white\",\"linecolor\":\"white\",\"minorgridcolor\":\"white\",\"startlinecolor\":\"#2a3f5f\"},\"type\":\"carpet\"}],\"table\":[{\"cells\":{\"fill\":{\"color\":\"#EBF0F8\"},\"line\":{\"color\":\"white\"}},\"header\":{\"fill\":{\"color\":\"#C8D4E3\"},\"line\":{\"color\":\"white\"}},\"type\":\"table\"}],\"barpolar\":[{\"marker\":{\"line\":{\"color\":\"#E5ECF6\",\"width\":0.5},\"pattern\":{\"fillmode\":\"overlay\",\"size\":10,\"solidity\":0.2}},\"type\":\"barpolar\"}],\"pie\":[{\"automargin\":true,\"type\":\"pie\"}]},\"layout\":{\"autotypenumbers\":\"strict\",\"colorway\":[\"#636efa\",\"#EF553B\",\"#00cc96\",\"#ab63fa\",\"#FFA15A\",\"#19d3f3\",\"#FF6692\",\"#B6E880\",\"#FF97FF\",\"#FECB52\"],\"font\":{\"color\":\"#2a3f5f\"},\"hovermode\":\"closest\",\"hoverlabel\":{\"align\":\"left\"},\"paper_bgcolor\":\"white\",\"plot_bgcolor\":\"#E5ECF6\",\"polar\":{\"bgcolor\":\"#E5ECF6\",\"angularaxis\":{\"gridcolor\":\"white\",\"linecolor\":\"white\",\"ticks\":\"\"},\"radialaxis\":{\"gridcolor\":\"white\",\"linecolor\":\"white\",\"ticks\":\"\"}},\"ternary\":{\"bgcolor\":\"#E5ECF6\",\"aaxis\":{\"gridcolor\":\"white\",\"linecolor\":\"white\",\"ticks\":\"\"},\"baxis\":{\"gridcolor\":\"white\",\"linecolor\":\"white\",\"ticks\":\"\"},\"caxis\":{\"gridcolor\":\"white\",\"linecolor\":\"white\",\"ticks\":\"\"}},\"coloraxis\":{\"colorbar\":{\"outlinewidth\":0,\"ticks\":\"\"}},\"colorscale\":{\"sequential\":[[0.0,\"#0d0887\"],[0.1111111111111111,\"#46039f\"],[0.2222222222222222,\"#7201a8\"],[0.3333333333333333,\"#9c179e\"],[0.4444444444444444,\"#bd3786\"],[0.5555555555555556,\"#d8576b\"],[0.6666666666666666,\"#ed7953\"],[0.7777777777777778,\"#fb9f3a\"],[0.8888888888888888,\"#fdca26\"],[1.0,\"#f0f921\"]],\"sequentialminus\":[[0.0,\"#0d0887\"],[0.1111111111111111,\"#46039f\"],[0.2222222222222222,\"#7201a8\"],[0.3333333333333333,\"#9c179e\"],[0.4444444444444444,\"#bd3786\"],[0.5555555555555556,\"#d8576b\"],[0.6666666666666666,\"#ed7953\"],[0.7777777777777778,\"#fb9f3a\"],[0.8888888888888888,\"#fdca26\"],[1.0,\"#f0f921\"]],\"diverging\":[[0,\"#8e0152\"],[0.1,\"#c51b7d\"],[0.2,\"#de77ae\"],[0.3,\"#f1b6da\"],[0.4,\"#fde0ef\"],[0.5,\"#f7f7f7\"],[0.6,\"#e6f5d0\"],[0.7,\"#b8e186\"],[0.8,\"#7fbc41\"],[0.9,\"#4d9221\"],[1,\"#276419\"]]},\"xaxis\":{\"gridcolor\":\"white\",\"linecolor\":\"white\",\"ticks\":\"\",\"title\":{\"standoff\":15},\"zerolinecolor\":\"white\",\"automargin\":true,\"zerolinewidth\":2},\"yaxis\":{\"gridcolor\":\"white\",\"linecolor\":\"white\",\"ticks\":\"\",\"title\":{\"standoff\":15},\"zerolinecolor\":\"white\",\"automargin\":true,\"zerolinewidth\":2},\"scene\":{\"xaxis\":{\"backgroundcolor\":\"#E5ECF6\",\"gridcolor\":\"white\",\"linecolor\":\"white\",\"showbackground\":true,\"ticks\":\"\",\"zerolinecolor\":\"white\",\"gridwidth\":2},\"yaxis\":{\"backgroundcolor\":\"#E5ECF6\",\"gridcolor\":\"white\",\"linecolor\":\"white\",\"showbackground\":true,\"ticks\":\"\",\"zerolinecolor\":\"white\",\"gridwidth\":2},\"zaxis\":{\"backgroundcolor\":\"#E5ECF6\",\"gridcolor\":\"white\",\"linecolor\":\"white\",\"showbackground\":true,\"ticks\":\"\",\"zerolinecolor\":\"white\",\"gridwidth\":2}},\"shapedefaults\":{\"line\":{\"color\":\"#2a3f5f\"}},\"annotationdefaults\":{\"arrowcolor\":\"#2a3f5f\",\"arrowhead\":0,\"arrowwidth\":1},\"geo\":{\"bgcolor\":\"white\",\"landcolor\":\"#E5ECF6\",\"subunitcolor\":\"white\",\"showland\":true,\"showlakes\":true,\"lakecolor\":\"white\"},\"title\":{\"x\":0.05},\"mapbox\":{\"style\":\"light\"}}},\"legend\":{\"tracegroupgap\":0},\"margin\":{\"t\":85,\"l\":25,\"r\":25,\"b\":25},\"treemapcolorway\":[\"#86B4E6\",\"#73952F\",\"#C7D3AB\",\"#AECE6D\",\"#3A6194\",\"#697E53\",\"#1F3053\",\"#3B5873\"],\"title\":{\"font\":{\"size\":20},\"text\":\"Top 30 words describing<br>machine learning qualifications\",\"pad\":{\"r\":10,\"t\":10},\"x\":0.5,\"y\":0.96,\"xanchor\":\"center\",\"yanchor\":\"top\"},\"font\":{\"size\":16,\"color\":\"white\"},\"width\":600,\"height\":600,\"plot_bgcolor\":\"#272b2e\",\"paper_bgcolor\":\"#272b2e\"},                        {\"responsive\": true}                    ).then(function(){\n",
       "                            \n",
       "var gd = document.getElementById('7c0e511d-13bf-4660-892a-dd32b5a0adf8');\n",
       "var x = new MutationObserver(function (mutations, observer) {{\n",
       "        var display = window.getComputedStyle(gd).display;\n",
       "        if (!display || display === 'none') {{\n",
       "            console.log([gd, 'removed!']);\n",
       "            Plotly.purge(gd);\n",
       "            observer.disconnect();\n",
       "        }}\n",
       "}});\n",
       "\n",
       "// Listen for the removal of the full notebook cells\n",
       "var notebookContainer = gd.closest('#notebook-container');\n",
       "if (notebookContainer) {{\n",
       "    x.observe(notebookContainer, {childList: true});\n",
       "}}\n",
       "\n",
       "// Listen for the clearing of the current output cell\n",
       "var outputEl = gd.closest('.output');\n",
       "if (outputEl) {{\n",
       "    x.observe(outputEl, {childList: true});\n",
       "}}\n",
       "\n",
       "                        })                };                });            </script>        </div>"
      ]
     },
     "metadata": {},
     "output_type": "display_data"
    }
   ],
   "source": [
    "df_word_count_qual_da = df_word_count_qual[df_word_count_qual['job_type']=='data_analysis']\n",
    "df_word_count_qual_ds = df_word_count_qual[df_word_count_qual['job_type']=='data_science']\n",
    "df_word_count_qual_ml = df_word_count_qual[df_word_count_qual['job_type']=='machine_learning']\n",
    "\n",
    "# Define a custom color scale\n",
    "custom_colors = ['#86B4E6','#73952F','#C7D3AB','#AECE6D','#3A6194','#697E53','#1F3053','#3B5873' ]\n",
    "\n",
    "# create the treemap figure with custom hover text and color scale\n",
    "fig = px.treemap(df_word_count_qual_ml, path=['job_type', 'word'], values='frequency', color='word',\n",
    "                 color_discrete_sequence=custom_colors,\n",
    "                 hover_data={'frequency': ':f'},\n",
    "                 )\n",
    "\n",
    "# remove the treemap borders\n",
    "fig.update_traces(\n",
    "    go.Treemap(\n",
    "        marker=dict(line=dict(width=0))\n",
    "    )\n",
    ")\n",
    "fig.update_traces(textfont=dict(color='white'))\n",
    "fig.update_traces(hovertemplate='<b>%{label}</b><br>Frequency:%{customdata[0]:.0f}')\n",
    "\n",
    "# customize the font and size of the title and labels\n",
    "fig.update_layout(title={'text': \"Top 30 words describing<br>machine learning qualifications\", 'font': {'size': 24}},\n",
    "                  font={'size': 18})\n",
    "\n",
    "# customize the margins\n",
    "fig.update_layout(\n",
    "    title={\n",
    "        'x': 0.50,\n",
    "        'y': 0.96,\n",
    "        'xanchor': 'center',\n",
    "        'yanchor': 'top',\n",
    "        'pad': {'r': 10, 't': 10,},\n",
    "        'font': {'size': 20}\n",
    "    },\n",
    "    width=600,\n",
    "    height=600,\n",
    "    margin=dict(t=85, l=25, r=25, b=25),\n",
    "    plot_bgcolor = \"#272b2e\",\n",
    "    paper_bgcolor = \"#272b2e\",\n",
    "    font=dict(size = 16, color = 'white')\n",
    ") \n",
    "\n",
    "\n",
    "# show the figure\n",
    "fig.show()\n",
    "fig.write_html('../images/tree_map3.html')\n"
   ]
  },
  {
   "cell_type": "code",
   "execution_count": 32,
   "metadata": {},
   "outputs": [
    {
     "data": {
      "application/vnd.plotly.v1+json": {
       "config": {
        "plotlyServerURL": "https://plot.ly"
       },
       "data": [
        {
         "domain": {
          "x": [
           0,
           1
          ],
          "y": [
           0.7333333333333333,
           1
          ]
         },
         "hole": 0.6,
         "hovertemplate": "percent=%{percent:.0%}<br>frequency=%{value}",
         "insidetextorientation": "auto",
         "labels": [
          "data",
          "business",
          "support",
          "reporting",
          "team",
          "analysis",
          "reports",
          "work",
          "management",
          "develop",
          "ensure",
          "insights",
          "analyst",
          "issues",
          "analytics",
          "internal",
          "information",
          "identify",
          "perform",
          "teams"
         ],
         "marker": {
          "colors": [
           "#083c7d",
           "#084990",
           "#0b559f",
           "#1561a9",
           "#1e6db2",
           "#2b7bba",
           "#3787c0",
           "#4493c7",
           "#539ecd",
           "#63a8d3",
           "#75b4d8",
           "#89bedc",
           "#9cc9e1",
           "#abd0e6",
           "#bad6eb",
           "#c9ddf0",
           "#d2e3f3",
           "#dbe9f6",
           "#e4eff9",
           "#eef5fc"
          ]
         },
         "showlegend": false,
         "textposition": "outside",
         "texttemplate": "%{label}",
         "title": {
          "text": "Data Analysis"
         },
         "type": "pie",
         "values": [
          510,
          134,
          108,
          98,
          92,
          92,
          86,
          82,
          68,
          66,
          60,
          60,
          54,
          54,
          52,
          52,
          50,
          50,
          50,
          50
         ]
        },
        {
         "domain": {
          "x": [
           0,
           1
          ],
          "y": [
           0.36666666666666664,
           0.6333333333333333
          ]
         },
         "hole": 0.6,
         "hovertemplate": "percent=%{percent:.0%}<br>frequency=%{value}",
         "labels": [
          "data",
          "business",
          "analysis",
          "develop",
          "team",
          "development",
          "work",
          "support",
          "analytics",
          "models",
          "learning",
          "solutions",
          "machine",
          "science",
          "techniques",
          "statistical",
          "provide",
          "tools",
          "new",
          "algorithms"
         ],
         "marker": {
          "colors": [
           "#083c7d",
           "#084990",
           "#0b559f",
           "#1561a9",
           "#1e6db2",
           "#2b7bba",
           "#3787c0",
           "#4493c7",
           "#539ecd",
           "#63a8d3",
           "#75b4d8",
           "#89bedc",
           "#9cc9e1",
           "#abd0e6",
           "#bad6eb",
           "#c9ddf0",
           "#d2e3f3",
           "#dbe9f6",
           "#e4eff9",
           "#eef5fc"
          ]
         },
         "showlegend": false,
         "textposition": "outside",
         "texttemplate": "%{label}",
         "title": {
          "text": "Data Science"
         },
         "type": "pie",
         "values": [
          482,
          140,
          110,
          89,
          84,
          79,
          77,
          75,
          73,
          73,
          71,
          66,
          64,
          63,
          61,
          57,
          55,
          53,
          52,
          49
         ]
        },
        {
         "domain": {
          "x": [
           0,
           1
          ],
          "y": [
           0,
           0.26666666666666666
          ]
         },
         "hole": 0.6,
         "hovertemplate": "percent=%{percent:.0%}<br>frequency=%{value}",
         "labels": [
          "learning",
          "data",
          "machine",
          "ml",
          "models",
          "team",
          "technical",
          "design",
          "develop",
          "engineering",
          "development",
          "model",
          "build",
          "software",
          "product",
          "work",
          "systems",
          "solutions",
          "across",
          "business"
         ],
         "marker": {
          "colors": [
           "#083c7d",
           "#084990",
           "#0b559f",
           "#1561a9",
           "#1e6db2",
           "#2b7bba",
           "#3787c0",
           "#4493c7",
           "#539ecd",
           "#63a8d3",
           "#75b4d8",
           "#89bedc",
           "#9cc9e1",
           "#abd0e6",
           "#bad6eb",
           "#c9ddf0",
           "#d2e3f3",
           "#dbe9f6",
           "#e4eff9",
           "#eef5fc"
          ]
         },
         "showlegend": false,
         "textposition": "outside",
         "texttemplate": "%{label}",
         "title": {
          "text": "Machine Learning"
         },
         "type": "pie",
         "values": [
          174,
          160,
          148,
          113,
          106,
          83,
          67,
          65,
          59,
          57,
          56,
          52,
          51,
          47,
          47,
          44,
          43,
          43,
          40,
          39
         ]
        }
       ],
       "layout": {
        "height": 1000,
        "margin": {
         "t": 130
        },
        "template": {
         "data": {
          "bar": [
           {
            "error_x": {
             "color": "#2a3f5f"
            },
            "error_y": {
             "color": "#2a3f5f"
            },
            "marker": {
             "line": {
              "color": "#E5ECF6",
              "width": 0.5
             },
             "pattern": {
              "fillmode": "overlay",
              "size": 10,
              "solidity": 0.2
             }
            },
            "type": "bar"
           }
          ],
          "barpolar": [
           {
            "marker": {
             "line": {
              "color": "#E5ECF6",
              "width": 0.5
             },
             "pattern": {
              "fillmode": "overlay",
              "size": 10,
              "solidity": 0.2
             }
            },
            "type": "barpolar"
           }
          ],
          "carpet": [
           {
            "aaxis": {
             "endlinecolor": "#2a3f5f",
             "gridcolor": "white",
             "linecolor": "white",
             "minorgridcolor": "white",
             "startlinecolor": "#2a3f5f"
            },
            "baxis": {
             "endlinecolor": "#2a3f5f",
             "gridcolor": "white",
             "linecolor": "white",
             "minorgridcolor": "white",
             "startlinecolor": "#2a3f5f"
            },
            "type": "carpet"
           }
          ],
          "choropleth": [
           {
            "colorbar": {
             "outlinewidth": 0,
             "ticks": ""
            },
            "type": "choropleth"
           }
          ],
          "contour": [
           {
            "colorbar": {
             "outlinewidth": 0,
             "ticks": ""
            },
            "colorscale": [
             [
              0,
              "#0d0887"
             ],
             [
              0.1111111111111111,
              "#46039f"
             ],
             [
              0.2222222222222222,
              "#7201a8"
             ],
             [
              0.3333333333333333,
              "#9c179e"
             ],
             [
              0.4444444444444444,
              "#bd3786"
             ],
             [
              0.5555555555555556,
              "#d8576b"
             ],
             [
              0.6666666666666666,
              "#ed7953"
             ],
             [
              0.7777777777777778,
              "#fb9f3a"
             ],
             [
              0.8888888888888888,
              "#fdca26"
             ],
             [
              1,
              "#f0f921"
             ]
            ],
            "type": "contour"
           }
          ],
          "contourcarpet": [
           {
            "colorbar": {
             "outlinewidth": 0,
             "ticks": ""
            },
            "type": "contourcarpet"
           }
          ],
          "heatmap": [
           {
            "colorbar": {
             "outlinewidth": 0,
             "ticks": ""
            },
            "colorscale": [
             [
              0,
              "#0d0887"
             ],
             [
              0.1111111111111111,
              "#46039f"
             ],
             [
              0.2222222222222222,
              "#7201a8"
             ],
             [
              0.3333333333333333,
              "#9c179e"
             ],
             [
              0.4444444444444444,
              "#bd3786"
             ],
             [
              0.5555555555555556,
              "#d8576b"
             ],
             [
              0.6666666666666666,
              "#ed7953"
             ],
             [
              0.7777777777777778,
              "#fb9f3a"
             ],
             [
              0.8888888888888888,
              "#fdca26"
             ],
             [
              1,
              "#f0f921"
             ]
            ],
            "type": "heatmap"
           }
          ],
          "heatmapgl": [
           {
            "colorbar": {
             "outlinewidth": 0,
             "ticks": ""
            },
            "colorscale": [
             [
              0,
              "#0d0887"
             ],
             [
              0.1111111111111111,
              "#46039f"
             ],
             [
              0.2222222222222222,
              "#7201a8"
             ],
             [
              0.3333333333333333,
              "#9c179e"
             ],
             [
              0.4444444444444444,
              "#bd3786"
             ],
             [
              0.5555555555555556,
              "#d8576b"
             ],
             [
              0.6666666666666666,
              "#ed7953"
             ],
             [
              0.7777777777777778,
              "#fb9f3a"
             ],
             [
              0.8888888888888888,
              "#fdca26"
             ],
             [
              1,
              "#f0f921"
             ]
            ],
            "type": "heatmapgl"
           }
          ],
          "histogram": [
           {
            "marker": {
             "pattern": {
              "fillmode": "overlay",
              "size": 10,
              "solidity": 0.2
             }
            },
            "type": "histogram"
           }
          ],
          "histogram2d": [
           {
            "colorbar": {
             "outlinewidth": 0,
             "ticks": ""
            },
            "colorscale": [
             [
              0,
              "#0d0887"
             ],
             [
              0.1111111111111111,
              "#46039f"
             ],
             [
              0.2222222222222222,
              "#7201a8"
             ],
             [
              0.3333333333333333,
              "#9c179e"
             ],
             [
              0.4444444444444444,
              "#bd3786"
             ],
             [
              0.5555555555555556,
              "#d8576b"
             ],
             [
              0.6666666666666666,
              "#ed7953"
             ],
             [
              0.7777777777777778,
              "#fb9f3a"
             ],
             [
              0.8888888888888888,
              "#fdca26"
             ],
             [
              1,
              "#f0f921"
             ]
            ],
            "type": "histogram2d"
           }
          ],
          "histogram2dcontour": [
           {
            "colorbar": {
             "outlinewidth": 0,
             "ticks": ""
            },
            "colorscale": [
             [
              0,
              "#0d0887"
             ],
             [
              0.1111111111111111,
              "#46039f"
             ],
             [
              0.2222222222222222,
              "#7201a8"
             ],
             [
              0.3333333333333333,
              "#9c179e"
             ],
             [
              0.4444444444444444,
              "#bd3786"
             ],
             [
              0.5555555555555556,
              "#d8576b"
             ],
             [
              0.6666666666666666,
              "#ed7953"
             ],
             [
              0.7777777777777778,
              "#fb9f3a"
             ],
             [
              0.8888888888888888,
              "#fdca26"
             ],
             [
              1,
              "#f0f921"
             ]
            ],
            "type": "histogram2dcontour"
           }
          ],
          "mesh3d": [
           {
            "colorbar": {
             "outlinewidth": 0,
             "ticks": ""
            },
            "type": "mesh3d"
           }
          ],
          "parcoords": [
           {
            "line": {
             "colorbar": {
              "outlinewidth": 0,
              "ticks": ""
             }
            },
            "type": "parcoords"
           }
          ],
          "pie": [
           {
            "automargin": true,
            "type": "pie"
           }
          ],
          "scatter": [
           {
            "fillpattern": {
             "fillmode": "overlay",
             "size": 10,
             "solidity": 0.2
            },
            "type": "scatter"
           }
          ],
          "scatter3d": [
           {
            "line": {
             "colorbar": {
              "outlinewidth": 0,
              "ticks": ""
             }
            },
            "marker": {
             "colorbar": {
              "outlinewidth": 0,
              "ticks": ""
             }
            },
            "type": "scatter3d"
           }
          ],
          "scattercarpet": [
           {
            "marker": {
             "colorbar": {
              "outlinewidth": 0,
              "ticks": ""
             }
            },
            "type": "scattercarpet"
           }
          ],
          "scattergeo": [
           {
            "marker": {
             "colorbar": {
              "outlinewidth": 0,
              "ticks": ""
             }
            },
            "type": "scattergeo"
           }
          ],
          "scattergl": [
           {
            "marker": {
             "colorbar": {
              "outlinewidth": 0,
              "ticks": ""
             }
            },
            "type": "scattergl"
           }
          ],
          "scattermapbox": [
           {
            "marker": {
             "colorbar": {
              "outlinewidth": 0,
              "ticks": ""
             }
            },
            "type": "scattermapbox"
           }
          ],
          "scatterpolar": [
           {
            "marker": {
             "colorbar": {
              "outlinewidth": 0,
              "ticks": ""
             }
            },
            "type": "scatterpolar"
           }
          ],
          "scatterpolargl": [
           {
            "marker": {
             "colorbar": {
              "outlinewidth": 0,
              "ticks": ""
             }
            },
            "type": "scatterpolargl"
           }
          ],
          "scatterternary": [
           {
            "marker": {
             "colorbar": {
              "outlinewidth": 0,
              "ticks": ""
             }
            },
            "type": "scatterternary"
           }
          ],
          "surface": [
           {
            "colorbar": {
             "outlinewidth": 0,
             "ticks": ""
            },
            "colorscale": [
             [
              0,
              "#0d0887"
             ],
             [
              0.1111111111111111,
              "#46039f"
             ],
             [
              0.2222222222222222,
              "#7201a8"
             ],
             [
              0.3333333333333333,
              "#9c179e"
             ],
             [
              0.4444444444444444,
              "#bd3786"
             ],
             [
              0.5555555555555556,
              "#d8576b"
             ],
             [
              0.6666666666666666,
              "#ed7953"
             ],
             [
              0.7777777777777778,
              "#fb9f3a"
             ],
             [
              0.8888888888888888,
              "#fdca26"
             ],
             [
              1,
              "#f0f921"
             ]
            ],
            "type": "surface"
           }
          ],
          "table": [
           {
            "cells": {
             "fill": {
              "color": "#EBF0F8"
             },
             "line": {
              "color": "white"
             }
            },
            "header": {
             "fill": {
              "color": "#C8D4E3"
             },
             "line": {
              "color": "white"
             }
            },
            "type": "table"
           }
          ]
         },
         "layout": {
          "annotationdefaults": {
           "arrowcolor": "#2a3f5f",
           "arrowhead": 0,
           "arrowwidth": 1
          },
          "autotypenumbers": "strict",
          "coloraxis": {
           "colorbar": {
            "outlinewidth": 0,
            "ticks": ""
           }
          },
          "colorscale": {
           "diverging": [
            [
             0,
             "#8e0152"
            ],
            [
             0.1,
             "#c51b7d"
            ],
            [
             0.2,
             "#de77ae"
            ],
            [
             0.3,
             "#f1b6da"
            ],
            [
             0.4,
             "#fde0ef"
            ],
            [
             0.5,
             "#f7f7f7"
            ],
            [
             0.6,
             "#e6f5d0"
            ],
            [
             0.7,
             "#b8e186"
            ],
            [
             0.8,
             "#7fbc41"
            ],
            [
             0.9,
             "#4d9221"
            ],
            [
             1,
             "#276419"
            ]
           ],
           "sequential": [
            [
             0,
             "#0d0887"
            ],
            [
             0.1111111111111111,
             "#46039f"
            ],
            [
             0.2222222222222222,
             "#7201a8"
            ],
            [
             0.3333333333333333,
             "#9c179e"
            ],
            [
             0.4444444444444444,
             "#bd3786"
            ],
            [
             0.5555555555555556,
             "#d8576b"
            ],
            [
             0.6666666666666666,
             "#ed7953"
            ],
            [
             0.7777777777777778,
             "#fb9f3a"
            ],
            [
             0.8888888888888888,
             "#fdca26"
            ],
            [
             1,
             "#f0f921"
            ]
           ],
           "sequentialminus": [
            [
             0,
             "#0d0887"
            ],
            [
             0.1111111111111111,
             "#46039f"
            ],
            [
             0.2222222222222222,
             "#7201a8"
            ],
            [
             0.3333333333333333,
             "#9c179e"
            ],
            [
             0.4444444444444444,
             "#bd3786"
            ],
            [
             0.5555555555555556,
             "#d8576b"
            ],
            [
             0.6666666666666666,
             "#ed7953"
            ],
            [
             0.7777777777777778,
             "#fb9f3a"
            ],
            [
             0.8888888888888888,
             "#fdca26"
            ],
            [
             1,
             "#f0f921"
            ]
           ]
          },
          "colorway": [
           "#636efa",
           "#EF553B",
           "#00cc96",
           "#ab63fa",
           "#FFA15A",
           "#19d3f3",
           "#FF6692",
           "#B6E880",
           "#FF97FF",
           "#FECB52"
          ],
          "font": {
           "color": "#2a3f5f"
          },
          "geo": {
           "bgcolor": "white",
           "lakecolor": "white",
           "landcolor": "#E5ECF6",
           "showlakes": true,
           "showland": true,
           "subunitcolor": "white"
          },
          "hoverlabel": {
           "align": "left"
          },
          "hovermode": "closest",
          "mapbox": {
           "style": "light"
          },
          "paper_bgcolor": "white",
          "plot_bgcolor": "#E5ECF6",
          "polar": {
           "angularaxis": {
            "gridcolor": "white",
            "linecolor": "white",
            "ticks": ""
           },
           "bgcolor": "#E5ECF6",
           "radialaxis": {
            "gridcolor": "white",
            "linecolor": "white",
            "ticks": ""
           }
          },
          "scene": {
           "xaxis": {
            "backgroundcolor": "#E5ECF6",
            "gridcolor": "white",
            "gridwidth": 2,
            "linecolor": "white",
            "showbackground": true,
            "ticks": "",
            "zerolinecolor": "white"
           },
           "yaxis": {
            "backgroundcolor": "#E5ECF6",
            "gridcolor": "white",
            "gridwidth": 2,
            "linecolor": "white",
            "showbackground": true,
            "ticks": "",
            "zerolinecolor": "white"
           },
           "zaxis": {
            "backgroundcolor": "#E5ECF6",
            "gridcolor": "white",
            "gridwidth": 2,
            "linecolor": "white",
            "showbackground": true,
            "ticks": "",
            "zerolinecolor": "white"
           }
          },
          "shapedefaults": {
           "line": {
            "color": "#2a3f5f"
           }
          },
          "ternary": {
           "aaxis": {
            "gridcolor": "white",
            "linecolor": "white",
            "ticks": ""
           },
           "baxis": {
            "gridcolor": "white",
            "linecolor": "white",
            "ticks": ""
           },
           "bgcolor": "#E5ECF6",
           "caxis": {
            "gridcolor": "white",
            "linecolor": "white",
            "ticks": ""
           }
          },
          "title": {
           "x": 0.05
          },
          "xaxis": {
           "automargin": true,
           "gridcolor": "white",
           "linecolor": "white",
           "ticks": "",
           "title": {
            "standoff": 15
           },
           "zerolinecolor": "white",
           "zerolinewidth": 2
          },
          "yaxis": {
           "automargin": true,
           "gridcolor": "white",
           "linecolor": "white",
           "ticks": "",
           "title": {
            "standoff": 15
           },
           "zerolinecolor": "white",
           "zerolinewidth": 2
          }
         }
        },
        "title": {
         "font": {
          "size": 20
         },
         "pad": {
          "b": 80,
          "r": 10,
          "t": 10
         },
         "text": "Top 20 words describing responsibilities<br>by job type",
         "x": 0.5,
         "xanchor": "center",
         "y": 0.96,
         "yanchor": "top"
        },
        "width": 600
       }
      },
      "text/html": [
       "<div>                            <div id=\"5c541cb4-8801-4fcc-88bd-11c5ccba9832\" class=\"plotly-graph-div\" style=\"height:1000px; width:600px;\"></div>            <script type=\"text/javascript\">                require([\"plotly\"], function(Plotly) {                    window.PLOTLYENV=window.PLOTLYENV || {};                                    if (document.getElementById(\"5c541cb4-8801-4fcc-88bd-11c5ccba9832\")) {                    Plotly.newPlot(                        \"5c541cb4-8801-4fcc-88bd-11c5ccba9832\",                        [{\"hole\":0.6,\"hovertemplate\":\"percent=%{percent:.0%}<br>frequency=%{value}\",\"insidetextorientation\":\"auto\",\"labels\":[\"data\",\"business\",\"support\",\"reporting\",\"team\",\"analysis\",\"reports\",\"work\",\"management\",\"develop\",\"ensure\",\"insights\",\"analyst\",\"issues\",\"analytics\",\"internal\",\"information\",\"identify\",\"perform\",\"teams\"],\"marker\":{\"colors\":[\"#083c7d\",\"#084990\",\"#0b559f\",\"#1561a9\",\"#1e6db2\",\"#2b7bba\",\"#3787c0\",\"#4493c7\",\"#539ecd\",\"#63a8d3\",\"#75b4d8\",\"#89bedc\",\"#9cc9e1\",\"#abd0e6\",\"#bad6eb\",\"#c9ddf0\",\"#d2e3f3\",\"#dbe9f6\",\"#e4eff9\",\"#eef5fc\"]},\"showlegend\":false,\"textposition\":\"outside\",\"texttemplate\":\"%{label}\",\"title\":{\"text\":\"Data Analysis\"},\"values\":[510,134,108,98,92,92,86,82,68,66,60,60,54,54,52,52,50,50,50,50],\"type\":\"pie\",\"domain\":{\"x\":[0.0,1.0],\"y\":[0.7333333333333333,1.0]}},{\"hole\":0.6,\"hovertemplate\":\"percent=%{percent:.0%}<br>frequency=%{value}\",\"labels\":[\"data\",\"business\",\"analysis\",\"develop\",\"team\",\"development\",\"work\",\"support\",\"analytics\",\"models\",\"learning\",\"solutions\",\"machine\",\"science\",\"techniques\",\"statistical\",\"provide\",\"tools\",\"new\",\"algorithms\"],\"marker\":{\"colors\":[\"#083c7d\",\"#084990\",\"#0b559f\",\"#1561a9\",\"#1e6db2\",\"#2b7bba\",\"#3787c0\",\"#4493c7\",\"#539ecd\",\"#63a8d3\",\"#75b4d8\",\"#89bedc\",\"#9cc9e1\",\"#abd0e6\",\"#bad6eb\",\"#c9ddf0\",\"#d2e3f3\",\"#dbe9f6\",\"#e4eff9\",\"#eef5fc\"]},\"showlegend\":false,\"textposition\":\"outside\",\"texttemplate\":\"%{label}\",\"title\":{\"text\":\"Data Science\"},\"values\":[482,140,110,89,84,79,77,75,73,73,71,66,64,63,61,57,55,53,52,49],\"type\":\"pie\",\"domain\":{\"x\":[0.0,1.0],\"y\":[0.36666666666666664,0.6333333333333333]}},{\"hole\":0.6,\"hovertemplate\":\"percent=%{percent:.0%}<br>frequency=%{value}\",\"labels\":[\"learning\",\"data\",\"machine\",\"ml\",\"models\",\"team\",\"technical\",\"design\",\"develop\",\"engineering\",\"development\",\"model\",\"build\",\"software\",\"product\",\"work\",\"systems\",\"solutions\",\"across\",\"business\"],\"marker\":{\"colors\":[\"#083c7d\",\"#084990\",\"#0b559f\",\"#1561a9\",\"#1e6db2\",\"#2b7bba\",\"#3787c0\",\"#4493c7\",\"#539ecd\",\"#63a8d3\",\"#75b4d8\",\"#89bedc\",\"#9cc9e1\",\"#abd0e6\",\"#bad6eb\",\"#c9ddf0\",\"#d2e3f3\",\"#dbe9f6\",\"#e4eff9\",\"#eef5fc\"]},\"showlegend\":false,\"textposition\":\"outside\",\"texttemplate\":\"%{label}\",\"title\":{\"text\":\"Machine Learning\"},\"values\":[174,160,148,113,106,83,67,65,59,57,56,52,51,47,47,44,43,43,40,39],\"type\":\"pie\",\"domain\":{\"x\":[0.0,1.0],\"y\":[0.0,0.26666666666666666]}}],                        {\"template\":{\"data\":{\"histogram2dcontour\":[{\"type\":\"histogram2dcontour\",\"colorbar\":{\"outlinewidth\":0,\"ticks\":\"\"},\"colorscale\":[[0.0,\"#0d0887\"],[0.1111111111111111,\"#46039f\"],[0.2222222222222222,\"#7201a8\"],[0.3333333333333333,\"#9c179e\"],[0.4444444444444444,\"#bd3786\"],[0.5555555555555556,\"#d8576b\"],[0.6666666666666666,\"#ed7953\"],[0.7777777777777778,\"#fb9f3a\"],[0.8888888888888888,\"#fdca26\"],[1.0,\"#f0f921\"]]}],\"choropleth\":[{\"type\":\"choropleth\",\"colorbar\":{\"outlinewidth\":0,\"ticks\":\"\"}}],\"histogram2d\":[{\"type\":\"histogram2d\",\"colorbar\":{\"outlinewidth\":0,\"ticks\":\"\"},\"colorscale\":[[0.0,\"#0d0887\"],[0.1111111111111111,\"#46039f\"],[0.2222222222222222,\"#7201a8\"],[0.3333333333333333,\"#9c179e\"],[0.4444444444444444,\"#bd3786\"],[0.5555555555555556,\"#d8576b\"],[0.6666666666666666,\"#ed7953\"],[0.7777777777777778,\"#fb9f3a\"],[0.8888888888888888,\"#fdca26\"],[1.0,\"#f0f921\"]]}],\"heatmap\":[{\"type\":\"heatmap\",\"colorbar\":{\"outlinewidth\":0,\"ticks\":\"\"},\"colorscale\":[[0.0,\"#0d0887\"],[0.1111111111111111,\"#46039f\"],[0.2222222222222222,\"#7201a8\"],[0.3333333333333333,\"#9c179e\"],[0.4444444444444444,\"#bd3786\"],[0.5555555555555556,\"#d8576b\"],[0.6666666666666666,\"#ed7953\"],[0.7777777777777778,\"#fb9f3a\"],[0.8888888888888888,\"#fdca26\"],[1.0,\"#f0f921\"]]}],\"heatmapgl\":[{\"type\":\"heatmapgl\",\"colorbar\":{\"outlinewidth\":0,\"ticks\":\"\"},\"colorscale\":[[0.0,\"#0d0887\"],[0.1111111111111111,\"#46039f\"],[0.2222222222222222,\"#7201a8\"],[0.3333333333333333,\"#9c179e\"],[0.4444444444444444,\"#bd3786\"],[0.5555555555555556,\"#d8576b\"],[0.6666666666666666,\"#ed7953\"],[0.7777777777777778,\"#fb9f3a\"],[0.8888888888888888,\"#fdca26\"],[1.0,\"#f0f921\"]]}],\"contourcarpet\":[{\"type\":\"contourcarpet\",\"colorbar\":{\"outlinewidth\":0,\"ticks\":\"\"}}],\"contour\":[{\"type\":\"contour\",\"colorbar\":{\"outlinewidth\":0,\"ticks\":\"\"},\"colorscale\":[[0.0,\"#0d0887\"],[0.1111111111111111,\"#46039f\"],[0.2222222222222222,\"#7201a8\"],[0.3333333333333333,\"#9c179e\"],[0.4444444444444444,\"#bd3786\"],[0.5555555555555556,\"#d8576b\"],[0.6666666666666666,\"#ed7953\"],[0.7777777777777778,\"#fb9f3a\"],[0.8888888888888888,\"#fdca26\"],[1.0,\"#f0f921\"]]}],\"surface\":[{\"type\":\"surface\",\"colorbar\":{\"outlinewidth\":0,\"ticks\":\"\"},\"colorscale\":[[0.0,\"#0d0887\"],[0.1111111111111111,\"#46039f\"],[0.2222222222222222,\"#7201a8\"],[0.3333333333333333,\"#9c179e\"],[0.4444444444444444,\"#bd3786\"],[0.5555555555555556,\"#d8576b\"],[0.6666666666666666,\"#ed7953\"],[0.7777777777777778,\"#fb9f3a\"],[0.8888888888888888,\"#fdca26\"],[1.0,\"#f0f921\"]]}],\"mesh3d\":[{\"type\":\"mesh3d\",\"colorbar\":{\"outlinewidth\":0,\"ticks\":\"\"}}],\"scatter\":[{\"fillpattern\":{\"fillmode\":\"overlay\",\"size\":10,\"solidity\":0.2},\"type\":\"scatter\"}],\"parcoords\":[{\"type\":\"parcoords\",\"line\":{\"colorbar\":{\"outlinewidth\":0,\"ticks\":\"\"}}}],\"scatterpolargl\":[{\"type\":\"scatterpolargl\",\"marker\":{\"colorbar\":{\"outlinewidth\":0,\"ticks\":\"\"}}}],\"bar\":[{\"error_x\":{\"color\":\"#2a3f5f\"},\"error_y\":{\"color\":\"#2a3f5f\"},\"marker\":{\"line\":{\"color\":\"#E5ECF6\",\"width\":0.5},\"pattern\":{\"fillmode\":\"overlay\",\"size\":10,\"solidity\":0.2}},\"type\":\"bar\"}],\"scattergeo\":[{\"type\":\"scattergeo\",\"marker\":{\"colorbar\":{\"outlinewidth\":0,\"ticks\":\"\"}}}],\"scatterpolar\":[{\"type\":\"scatterpolar\",\"marker\":{\"colorbar\":{\"outlinewidth\":0,\"ticks\":\"\"}}}],\"histogram\":[{\"marker\":{\"pattern\":{\"fillmode\":\"overlay\",\"size\":10,\"solidity\":0.2}},\"type\":\"histogram\"}],\"scattergl\":[{\"type\":\"scattergl\",\"marker\":{\"colorbar\":{\"outlinewidth\":0,\"ticks\":\"\"}}}],\"scatter3d\":[{\"type\":\"scatter3d\",\"line\":{\"colorbar\":{\"outlinewidth\":0,\"ticks\":\"\"}},\"marker\":{\"colorbar\":{\"outlinewidth\":0,\"ticks\":\"\"}}}],\"scattermapbox\":[{\"type\":\"scattermapbox\",\"marker\":{\"colorbar\":{\"outlinewidth\":0,\"ticks\":\"\"}}}],\"scatterternary\":[{\"type\":\"scatterternary\",\"marker\":{\"colorbar\":{\"outlinewidth\":0,\"ticks\":\"\"}}}],\"scattercarpet\":[{\"type\":\"scattercarpet\",\"marker\":{\"colorbar\":{\"outlinewidth\":0,\"ticks\":\"\"}}}],\"carpet\":[{\"aaxis\":{\"endlinecolor\":\"#2a3f5f\",\"gridcolor\":\"white\",\"linecolor\":\"white\",\"minorgridcolor\":\"white\",\"startlinecolor\":\"#2a3f5f\"},\"baxis\":{\"endlinecolor\":\"#2a3f5f\",\"gridcolor\":\"white\",\"linecolor\":\"white\",\"minorgridcolor\":\"white\",\"startlinecolor\":\"#2a3f5f\"},\"type\":\"carpet\"}],\"table\":[{\"cells\":{\"fill\":{\"color\":\"#EBF0F8\"},\"line\":{\"color\":\"white\"}},\"header\":{\"fill\":{\"color\":\"#C8D4E3\"},\"line\":{\"color\":\"white\"}},\"type\":\"table\"}],\"barpolar\":[{\"marker\":{\"line\":{\"color\":\"#E5ECF6\",\"width\":0.5},\"pattern\":{\"fillmode\":\"overlay\",\"size\":10,\"solidity\":0.2}},\"type\":\"barpolar\"}],\"pie\":[{\"automargin\":true,\"type\":\"pie\"}]},\"layout\":{\"autotypenumbers\":\"strict\",\"colorway\":[\"#636efa\",\"#EF553B\",\"#00cc96\",\"#ab63fa\",\"#FFA15A\",\"#19d3f3\",\"#FF6692\",\"#B6E880\",\"#FF97FF\",\"#FECB52\"],\"font\":{\"color\":\"#2a3f5f\"},\"hovermode\":\"closest\",\"hoverlabel\":{\"align\":\"left\"},\"paper_bgcolor\":\"white\",\"plot_bgcolor\":\"#E5ECF6\",\"polar\":{\"bgcolor\":\"#E5ECF6\",\"angularaxis\":{\"gridcolor\":\"white\",\"linecolor\":\"white\",\"ticks\":\"\"},\"radialaxis\":{\"gridcolor\":\"white\",\"linecolor\":\"white\",\"ticks\":\"\"}},\"ternary\":{\"bgcolor\":\"#E5ECF6\",\"aaxis\":{\"gridcolor\":\"white\",\"linecolor\":\"white\",\"ticks\":\"\"},\"baxis\":{\"gridcolor\":\"white\",\"linecolor\":\"white\",\"ticks\":\"\"},\"caxis\":{\"gridcolor\":\"white\",\"linecolor\":\"white\",\"ticks\":\"\"}},\"coloraxis\":{\"colorbar\":{\"outlinewidth\":0,\"ticks\":\"\"}},\"colorscale\":{\"sequential\":[[0.0,\"#0d0887\"],[0.1111111111111111,\"#46039f\"],[0.2222222222222222,\"#7201a8\"],[0.3333333333333333,\"#9c179e\"],[0.4444444444444444,\"#bd3786\"],[0.5555555555555556,\"#d8576b\"],[0.6666666666666666,\"#ed7953\"],[0.7777777777777778,\"#fb9f3a\"],[0.8888888888888888,\"#fdca26\"],[1.0,\"#f0f921\"]],\"sequentialminus\":[[0.0,\"#0d0887\"],[0.1111111111111111,\"#46039f\"],[0.2222222222222222,\"#7201a8\"],[0.3333333333333333,\"#9c179e\"],[0.4444444444444444,\"#bd3786\"],[0.5555555555555556,\"#d8576b\"],[0.6666666666666666,\"#ed7953\"],[0.7777777777777778,\"#fb9f3a\"],[0.8888888888888888,\"#fdca26\"],[1.0,\"#f0f921\"]],\"diverging\":[[0,\"#8e0152\"],[0.1,\"#c51b7d\"],[0.2,\"#de77ae\"],[0.3,\"#f1b6da\"],[0.4,\"#fde0ef\"],[0.5,\"#f7f7f7\"],[0.6,\"#e6f5d0\"],[0.7,\"#b8e186\"],[0.8,\"#7fbc41\"],[0.9,\"#4d9221\"],[1,\"#276419\"]]},\"xaxis\":{\"gridcolor\":\"white\",\"linecolor\":\"white\",\"ticks\":\"\",\"title\":{\"standoff\":15},\"zerolinecolor\":\"white\",\"automargin\":true,\"zerolinewidth\":2},\"yaxis\":{\"gridcolor\":\"white\",\"linecolor\":\"white\",\"ticks\":\"\",\"title\":{\"standoff\":15},\"zerolinecolor\":\"white\",\"automargin\":true,\"zerolinewidth\":2},\"scene\":{\"xaxis\":{\"backgroundcolor\":\"#E5ECF6\",\"gridcolor\":\"white\",\"linecolor\":\"white\",\"showbackground\":true,\"ticks\":\"\",\"zerolinecolor\":\"white\",\"gridwidth\":2},\"yaxis\":{\"backgroundcolor\":\"#E5ECF6\",\"gridcolor\":\"white\",\"linecolor\":\"white\",\"showbackground\":true,\"ticks\":\"\",\"zerolinecolor\":\"white\",\"gridwidth\":2},\"zaxis\":{\"backgroundcolor\":\"#E5ECF6\",\"gridcolor\":\"white\",\"linecolor\":\"white\",\"showbackground\":true,\"ticks\":\"\",\"zerolinecolor\":\"white\",\"gridwidth\":2}},\"shapedefaults\":{\"line\":{\"color\":\"#2a3f5f\"}},\"annotationdefaults\":{\"arrowcolor\":\"#2a3f5f\",\"arrowhead\":0,\"arrowwidth\":1},\"geo\":{\"bgcolor\":\"white\",\"landcolor\":\"#E5ECF6\",\"subunitcolor\":\"white\",\"showland\":true,\"showlakes\":true,\"lakecolor\":\"white\"},\"title\":{\"x\":0.05},\"mapbox\":{\"style\":\"light\"}}},\"title\":{\"pad\":{\"r\":10,\"t\":10,\"b\":80},\"font\":{\"size\":20},\"text\":\"Top 20 words describing responsibilities<br>by job type\",\"x\":0.5,\"y\":0.96,\"xanchor\":\"center\",\"yanchor\":\"top\"},\"margin\":{\"t\":130},\"width\":600,\"height\":1000},                        {\"responsive\": true}                    ).then(function(){\n",
       "                            \n",
       "var gd = document.getElementById('5c541cb4-8801-4fcc-88bd-11c5ccba9832');\n",
       "var x = new MutationObserver(function (mutations, observer) {{\n",
       "        var display = window.getComputedStyle(gd).display;\n",
       "        if (!display || display === 'none') {{\n",
       "            console.log([gd, 'removed!']);\n",
       "            Plotly.purge(gd);\n",
       "            observer.disconnect();\n",
       "        }}\n",
       "}});\n",
       "\n",
       "// Listen for the removal of the full notebook cells\n",
       "var notebookContainer = gd.closest('#notebook-container');\n",
       "if (notebookContainer) {{\n",
       "    x.observe(notebookContainer, {childList: true});\n",
       "}}\n",
       "\n",
       "// Listen for the clearing of the current output cell\n",
       "var outputEl = gd.closest('.output');\n",
       "if (outputEl) {{\n",
       "    x.observe(outputEl, {childList: true});\n",
       "}}\n",
       "\n",
       "                        })                };                });            </script>        </div>"
      ]
     },
     "metadata": {},
     "output_type": "display_data"
    }
   ],
   "source": [
    "# create unique list of job types for dropdown menu\n",
    "job_types = df_word_count_res['job_type'].unique().tolist()\n",
    "\n",
    "from plotly.subplots import make_subplots\n",
    "pal = list(sns.color_palette(palette='Blues_r', n_colors=20).as_hex())\n",
    "# create three subplots, each with one donut chart\n",
    "specs = [[{'type': 'pie'}]] * 3\n",
    "fig = make_subplots(rows=3, cols=1, specs=specs)\n",
    "# add the first donut chart to the left subplot\n",
    "fig.add_trace(go.Pie(labels=df_word_count_res[df_word_count_res['job_type'] == job_types[0]]['word'],\n",
    "                     values=df_word_count_res[df_word_count_res['job_type'] == job_types[0]]['frequency'],\n",
    "                     textposition='outside', \n",
    "                     hole=.6,\n",
    "                     insidetextorientation='auto',\n",
    "                     hovertemplate='percent=%{percent:.0%}<br>frequency=%{value}',\n",
    "                     marker=dict(colors=pal),\n",
    "                     showlegend=False,\n",
    "                     title='Data Analysis',\n",
    "                     texttemplate=\"%{label}\"),\n",
    "              row=1, col=1)\n",
    "\n",
    "# add the second donut chart to the right subplot\n",
    "fig.add_trace(go.Pie(labels=df_word_count_res[df_word_count_res['job_type'] == job_types[1]]['word'],\n",
    "                     values=df_word_count_res[df_word_count_res['job_type'] == job_types[1]]['frequency'],\n",
    "                     textposition='outside', \n",
    "                     hole=.6,\n",
    "                     hovertemplate='percent=%{percent:.0%}<br>frequency=%{value}',\n",
    "                     marker=dict(colors=pal),\n",
    "                     showlegend=False,\n",
    "                     title='Data Science',\n",
    "                     texttemplate=\"%{label}\"),\n",
    "              row=2, col=1)\n",
    "\n",
    "# add the second donut chart to the right subplot\n",
    "fig.add_trace(go.Pie(labels=df_word_count_res[df_word_count_res['job_type'] == job_types[2]]['word'],\n",
    "                     values=df_word_count_res[df_word_count_res['job_type'] == job_types[2]]['frequency'],\n",
    "                     textposition='outside', \n",
    "                     hole=.6,\n",
    "                     hovertemplate='percent=%{percent:.0%}<br>frequency=%{value}',\n",
    "                     marker=dict(colors=pal),\n",
    "                     title='Machine Learning',\n",
    "                     showlegend=False,\n",
    "                     texttemplate=\"%{label}\"),\n",
    "              row=3, col=1)\n",
    "\n",
    "# set the layout options for the entire figure\n",
    "fig.update_layout(\n",
    "    title={\n",
    "        'text': f\"Top 20 words describing responsibilities<br>by job type\",\n",
    "        'x': 0.50,\n",
    "        'y': 0.96,\n",
    "        'xanchor': 'center',\n",
    "        'yanchor': 'top',\n",
    "        'pad': {'r': 10, 't': 10, 'b':80},\n",
    "        'font': {'size': 20}\n",
    "    },\n",
    "    width=600,\n",
    "    height=1000,\n",
    "    margin=dict(t=130),\n",
    ")\n",
    "\n",
    "fig.show()\n",
    "fig.write_html('../images/donut_chart.html')\n"
   ]
  },
  {
   "cell_type": "code",
   "execution_count": 136,
   "metadata": {},
   "outputs": [
    {
     "data": {
      "application/vnd.plotly.v1+json": {
       "config": {
        "plotlyServerURL": "https://plot.ly"
       },
       "data": [
        {
         "hole": 0.4,
         "hovertemplate": "percent=%{percent:.0%}<br>frequency=%{value}",
         "insidetextorientation": "auto",
         "labels": [
          "data",
          "business",
          "support",
          "analysis",
          "management",
          "team",
          "work",
          "reports",
          "develop",
          "reporting",
          "provide",
          "ensure",
          "analyst",
          "program",
          "analytics",
          "maintain",
          "quality",
          "processes",
          "assist",
          "information",
          "teams",
          "requirements",
          "perform",
          "development",
          "issues",
          "identify",
          "insights",
          "customer",
          "including",
          "performance"
         ],
         "marker": {
          "colors": [
           "#083877",
           "#084184",
           "#084990",
           "#09529d",
           "#0f5aa3",
           "#1562a9",
           "#1c6ab0",
           "#2373b6",
           "#2c7cba",
           "#3484bf",
           "#3c8cc3",
           "#4695c8",
           "#519ccc",
           "#5ba3d0",
           "#65aad4",
           "#72b2d8",
           "#7fb9da",
           "#8cc0dd",
           "#99c7e0",
           "#a5cde3",
           "#afd1e7",
           "#b9d6ea",
           "#c3daee",
           "#cbdef1",
           "#d1e2f3",
           "#d7e6f5",
           "#ddeaf7",
           "#e4eff9",
           "#eaf3fb",
           "#f1f7fd"
          ]
         },
         "showlegend": false,
         "textposition": "outside",
         "texttemplate": "%{label}",
         "type": "pie",
         "values": [
          503,
          113,
          101,
          99,
          83,
          80,
          74,
          74,
          66,
          66,
          56,
          52,
          49,
          47,
          46,
          45,
          44,
          44,
          43,
          43,
          43,
          42,
          42,
          41,
          41,
          40,
          39,
          37,
          36,
          36
         ]
        }
       ],
       "layout": {
        "font": {
         "color": "white",
         "size": 16
        },
        "height": 600,
        "margin": {
         "t": 130
        },
        "paper_bgcolor": "#272b2e",
        "plot_bgcolor": "#272b2e",
        "template": {
         "data": {
          "bar": [
           {
            "error_x": {
             "color": "#2a3f5f"
            },
            "error_y": {
             "color": "#2a3f5f"
            },
            "marker": {
             "line": {
              "color": "#E5ECF6",
              "width": 0.5
             },
             "pattern": {
              "fillmode": "overlay",
              "size": 10,
              "solidity": 0.2
             }
            },
            "type": "bar"
           }
          ],
          "barpolar": [
           {
            "marker": {
             "line": {
              "color": "#E5ECF6",
              "width": 0.5
             },
             "pattern": {
              "fillmode": "overlay",
              "size": 10,
              "solidity": 0.2
             }
            },
            "type": "barpolar"
           }
          ],
          "carpet": [
           {
            "aaxis": {
             "endlinecolor": "#2a3f5f",
             "gridcolor": "white",
             "linecolor": "white",
             "minorgridcolor": "white",
             "startlinecolor": "#2a3f5f"
            },
            "baxis": {
             "endlinecolor": "#2a3f5f",
             "gridcolor": "white",
             "linecolor": "white",
             "minorgridcolor": "white",
             "startlinecolor": "#2a3f5f"
            },
            "type": "carpet"
           }
          ],
          "choropleth": [
           {
            "colorbar": {
             "outlinewidth": 0,
             "ticks": ""
            },
            "type": "choropleth"
           }
          ],
          "contour": [
           {
            "colorbar": {
             "outlinewidth": 0,
             "ticks": ""
            },
            "colorscale": [
             [
              0,
              "#0d0887"
             ],
             [
              0.1111111111111111,
              "#46039f"
             ],
             [
              0.2222222222222222,
              "#7201a8"
             ],
             [
              0.3333333333333333,
              "#9c179e"
             ],
             [
              0.4444444444444444,
              "#bd3786"
             ],
             [
              0.5555555555555556,
              "#d8576b"
             ],
             [
              0.6666666666666666,
              "#ed7953"
             ],
             [
              0.7777777777777778,
              "#fb9f3a"
             ],
             [
              0.8888888888888888,
              "#fdca26"
             ],
             [
              1,
              "#f0f921"
             ]
            ],
            "type": "contour"
           }
          ],
          "contourcarpet": [
           {
            "colorbar": {
             "outlinewidth": 0,
             "ticks": ""
            },
            "type": "contourcarpet"
           }
          ],
          "heatmap": [
           {
            "colorbar": {
             "outlinewidth": 0,
             "ticks": ""
            },
            "colorscale": [
             [
              0,
              "#0d0887"
             ],
             [
              0.1111111111111111,
              "#46039f"
             ],
             [
              0.2222222222222222,
              "#7201a8"
             ],
             [
              0.3333333333333333,
              "#9c179e"
             ],
             [
              0.4444444444444444,
              "#bd3786"
             ],
             [
              0.5555555555555556,
              "#d8576b"
             ],
             [
              0.6666666666666666,
              "#ed7953"
             ],
             [
              0.7777777777777778,
              "#fb9f3a"
             ],
             [
              0.8888888888888888,
              "#fdca26"
             ],
             [
              1,
              "#f0f921"
             ]
            ],
            "type": "heatmap"
           }
          ],
          "heatmapgl": [
           {
            "colorbar": {
             "outlinewidth": 0,
             "ticks": ""
            },
            "colorscale": [
             [
              0,
              "#0d0887"
             ],
             [
              0.1111111111111111,
              "#46039f"
             ],
             [
              0.2222222222222222,
              "#7201a8"
             ],
             [
              0.3333333333333333,
              "#9c179e"
             ],
             [
              0.4444444444444444,
              "#bd3786"
             ],
             [
              0.5555555555555556,
              "#d8576b"
             ],
             [
              0.6666666666666666,
              "#ed7953"
             ],
             [
              0.7777777777777778,
              "#fb9f3a"
             ],
             [
              0.8888888888888888,
              "#fdca26"
             ],
             [
              1,
              "#f0f921"
             ]
            ],
            "type": "heatmapgl"
           }
          ],
          "histogram": [
           {
            "marker": {
             "pattern": {
              "fillmode": "overlay",
              "size": 10,
              "solidity": 0.2
             }
            },
            "type": "histogram"
           }
          ],
          "histogram2d": [
           {
            "colorbar": {
             "outlinewidth": 0,
             "ticks": ""
            },
            "colorscale": [
             [
              0,
              "#0d0887"
             ],
             [
              0.1111111111111111,
              "#46039f"
             ],
             [
              0.2222222222222222,
              "#7201a8"
             ],
             [
              0.3333333333333333,
              "#9c179e"
             ],
             [
              0.4444444444444444,
              "#bd3786"
             ],
             [
              0.5555555555555556,
              "#d8576b"
             ],
             [
              0.6666666666666666,
              "#ed7953"
             ],
             [
              0.7777777777777778,
              "#fb9f3a"
             ],
             [
              0.8888888888888888,
              "#fdca26"
             ],
             [
              1,
              "#f0f921"
             ]
            ],
            "type": "histogram2d"
           }
          ],
          "histogram2dcontour": [
           {
            "colorbar": {
             "outlinewidth": 0,
             "ticks": ""
            },
            "colorscale": [
             [
              0,
              "#0d0887"
             ],
             [
              0.1111111111111111,
              "#46039f"
             ],
             [
              0.2222222222222222,
              "#7201a8"
             ],
             [
              0.3333333333333333,
              "#9c179e"
             ],
             [
              0.4444444444444444,
              "#bd3786"
             ],
             [
              0.5555555555555556,
              "#d8576b"
             ],
             [
              0.6666666666666666,
              "#ed7953"
             ],
             [
              0.7777777777777778,
              "#fb9f3a"
             ],
             [
              0.8888888888888888,
              "#fdca26"
             ],
             [
              1,
              "#f0f921"
             ]
            ],
            "type": "histogram2dcontour"
           }
          ],
          "mesh3d": [
           {
            "colorbar": {
             "outlinewidth": 0,
             "ticks": ""
            },
            "type": "mesh3d"
           }
          ],
          "parcoords": [
           {
            "line": {
             "colorbar": {
              "outlinewidth": 0,
              "ticks": ""
             }
            },
            "type": "parcoords"
           }
          ],
          "pie": [
           {
            "automargin": true,
            "type": "pie"
           }
          ],
          "scatter": [
           {
            "fillpattern": {
             "fillmode": "overlay",
             "size": 10,
             "solidity": 0.2
            },
            "type": "scatter"
           }
          ],
          "scatter3d": [
           {
            "line": {
             "colorbar": {
              "outlinewidth": 0,
              "ticks": ""
             }
            },
            "marker": {
             "colorbar": {
              "outlinewidth": 0,
              "ticks": ""
             }
            },
            "type": "scatter3d"
           }
          ],
          "scattercarpet": [
           {
            "marker": {
             "colorbar": {
              "outlinewidth": 0,
              "ticks": ""
             }
            },
            "type": "scattercarpet"
           }
          ],
          "scattergeo": [
           {
            "marker": {
             "colorbar": {
              "outlinewidth": 0,
              "ticks": ""
             }
            },
            "type": "scattergeo"
           }
          ],
          "scattergl": [
           {
            "marker": {
             "colorbar": {
              "outlinewidth": 0,
              "ticks": ""
             }
            },
            "type": "scattergl"
           }
          ],
          "scattermapbox": [
           {
            "marker": {
             "colorbar": {
              "outlinewidth": 0,
              "ticks": ""
             }
            },
            "type": "scattermapbox"
           }
          ],
          "scatterpolar": [
           {
            "marker": {
             "colorbar": {
              "outlinewidth": 0,
              "ticks": ""
             }
            },
            "type": "scatterpolar"
           }
          ],
          "scatterpolargl": [
           {
            "marker": {
             "colorbar": {
              "outlinewidth": 0,
              "ticks": ""
             }
            },
            "type": "scatterpolargl"
           }
          ],
          "scatterternary": [
           {
            "marker": {
             "colorbar": {
              "outlinewidth": 0,
              "ticks": ""
             }
            },
            "type": "scatterternary"
           }
          ],
          "surface": [
           {
            "colorbar": {
             "outlinewidth": 0,
             "ticks": ""
            },
            "colorscale": [
             [
              0,
              "#0d0887"
             ],
             [
              0.1111111111111111,
              "#46039f"
             ],
             [
              0.2222222222222222,
              "#7201a8"
             ],
             [
              0.3333333333333333,
              "#9c179e"
             ],
             [
              0.4444444444444444,
              "#bd3786"
             ],
             [
              0.5555555555555556,
              "#d8576b"
             ],
             [
              0.6666666666666666,
              "#ed7953"
             ],
             [
              0.7777777777777778,
              "#fb9f3a"
             ],
             [
              0.8888888888888888,
              "#fdca26"
             ],
             [
              1,
              "#f0f921"
             ]
            ],
            "type": "surface"
           }
          ],
          "table": [
           {
            "cells": {
             "fill": {
              "color": "#EBF0F8"
             },
             "line": {
              "color": "white"
             }
            },
            "header": {
             "fill": {
              "color": "#C8D4E3"
             },
             "line": {
              "color": "white"
             }
            },
            "type": "table"
           }
          ]
         },
         "layout": {
          "annotationdefaults": {
           "arrowcolor": "#2a3f5f",
           "arrowhead": 0,
           "arrowwidth": 1
          },
          "autotypenumbers": "strict",
          "coloraxis": {
           "colorbar": {
            "outlinewidth": 0,
            "ticks": ""
           }
          },
          "colorscale": {
           "diverging": [
            [
             0,
             "#8e0152"
            ],
            [
             0.1,
             "#c51b7d"
            ],
            [
             0.2,
             "#de77ae"
            ],
            [
             0.3,
             "#f1b6da"
            ],
            [
             0.4,
             "#fde0ef"
            ],
            [
             0.5,
             "#f7f7f7"
            ],
            [
             0.6,
             "#e6f5d0"
            ],
            [
             0.7,
             "#b8e186"
            ],
            [
             0.8,
             "#7fbc41"
            ],
            [
             0.9,
             "#4d9221"
            ],
            [
             1,
             "#276419"
            ]
           ],
           "sequential": [
            [
             0,
             "#0d0887"
            ],
            [
             0.1111111111111111,
             "#46039f"
            ],
            [
             0.2222222222222222,
             "#7201a8"
            ],
            [
             0.3333333333333333,
             "#9c179e"
            ],
            [
             0.4444444444444444,
             "#bd3786"
            ],
            [
             0.5555555555555556,
             "#d8576b"
            ],
            [
             0.6666666666666666,
             "#ed7953"
            ],
            [
             0.7777777777777778,
             "#fb9f3a"
            ],
            [
             0.8888888888888888,
             "#fdca26"
            ],
            [
             1,
             "#f0f921"
            ]
           ],
           "sequentialminus": [
            [
             0,
             "#0d0887"
            ],
            [
             0.1111111111111111,
             "#46039f"
            ],
            [
             0.2222222222222222,
             "#7201a8"
            ],
            [
             0.3333333333333333,
             "#9c179e"
            ],
            [
             0.4444444444444444,
             "#bd3786"
            ],
            [
             0.5555555555555556,
             "#d8576b"
            ],
            [
             0.6666666666666666,
             "#ed7953"
            ],
            [
             0.7777777777777778,
             "#fb9f3a"
            ],
            [
             0.8888888888888888,
             "#fdca26"
            ],
            [
             1,
             "#f0f921"
            ]
           ]
          },
          "colorway": [
           "#636efa",
           "#EF553B",
           "#00cc96",
           "#ab63fa",
           "#FFA15A",
           "#19d3f3",
           "#FF6692",
           "#B6E880",
           "#FF97FF",
           "#FECB52"
          ],
          "font": {
           "color": "#2a3f5f"
          },
          "geo": {
           "bgcolor": "white",
           "lakecolor": "white",
           "landcolor": "#E5ECF6",
           "showlakes": true,
           "showland": true,
           "subunitcolor": "white"
          },
          "hoverlabel": {
           "align": "left"
          },
          "hovermode": "closest",
          "mapbox": {
           "style": "light"
          },
          "paper_bgcolor": "white",
          "plot_bgcolor": "#E5ECF6",
          "polar": {
           "angularaxis": {
            "gridcolor": "white",
            "linecolor": "white",
            "ticks": ""
           },
           "bgcolor": "#E5ECF6",
           "radialaxis": {
            "gridcolor": "white",
            "linecolor": "white",
            "ticks": ""
           }
          },
          "scene": {
           "xaxis": {
            "backgroundcolor": "#E5ECF6",
            "gridcolor": "white",
            "gridwidth": 2,
            "linecolor": "white",
            "showbackground": true,
            "ticks": "",
            "zerolinecolor": "white"
           },
           "yaxis": {
            "backgroundcolor": "#E5ECF6",
            "gridcolor": "white",
            "gridwidth": 2,
            "linecolor": "white",
            "showbackground": true,
            "ticks": "",
            "zerolinecolor": "white"
           },
           "zaxis": {
            "backgroundcolor": "#E5ECF6",
            "gridcolor": "white",
            "gridwidth": 2,
            "linecolor": "white",
            "showbackground": true,
            "ticks": "",
            "zerolinecolor": "white"
           }
          },
          "shapedefaults": {
           "line": {
            "color": "#2a3f5f"
           }
          },
          "ternary": {
           "aaxis": {
            "gridcolor": "white",
            "linecolor": "white",
            "ticks": ""
           },
           "baxis": {
            "gridcolor": "white",
            "linecolor": "white",
            "ticks": ""
           },
           "bgcolor": "#E5ECF6",
           "caxis": {
            "gridcolor": "white",
            "linecolor": "white",
            "ticks": ""
           }
          },
          "title": {
           "x": 0.05
          },
          "xaxis": {
           "automargin": true,
           "gridcolor": "white",
           "linecolor": "white",
           "ticks": "",
           "title": {
            "standoff": 15
           },
           "zerolinecolor": "white",
           "zerolinewidth": 2
          },
          "yaxis": {
           "automargin": true,
           "gridcolor": "white",
           "linecolor": "white",
           "ticks": "",
           "title": {
            "standoff": 15
           },
           "zerolinecolor": "white",
           "zerolinewidth": 2
          }
         }
        },
        "title": {
         "font": {
          "size": 24
         },
         "pad": {
          "b": 80,
          "r": 10,
          "t": 10
         },
         "text": "Top 30 words describing<br>data analysis responsibilities",
         "x": 0.5,
         "xanchor": "center",
         "y": 0.96,
         "yanchor": "top"
        },
        "width": 600
       }
      },
      "text/html": [
       "<div>                            <div id=\"de788568-0c71-443b-a1d2-e844bc8ab56f\" class=\"plotly-graph-div\" style=\"height:600px; width:600px;\"></div>            <script type=\"text/javascript\">                require([\"plotly\"], function(Plotly) {                    window.PLOTLYENV=window.PLOTLYENV || {};                                    if (document.getElementById(\"de788568-0c71-443b-a1d2-e844bc8ab56f\")) {                    Plotly.newPlot(                        \"de788568-0c71-443b-a1d2-e844bc8ab56f\",                        [{\"hole\":0.4,\"hovertemplate\":\"percent=%{percent:.0%}<br>frequency=%{value}\",\"insidetextorientation\":\"auto\",\"labels\":[\"data\",\"business\",\"support\",\"analysis\",\"management\",\"team\",\"work\",\"reports\",\"develop\",\"reporting\",\"provide\",\"ensure\",\"analyst\",\"program\",\"analytics\",\"maintain\",\"quality\",\"processes\",\"assist\",\"information\",\"teams\",\"requirements\",\"perform\",\"development\",\"issues\",\"identify\",\"insights\",\"customer\",\"including\",\"performance\"],\"marker\":{\"colors\":[\"#083877\",\"#084184\",\"#084990\",\"#09529d\",\"#0f5aa3\",\"#1562a9\",\"#1c6ab0\",\"#2373b6\",\"#2c7cba\",\"#3484bf\",\"#3c8cc3\",\"#4695c8\",\"#519ccc\",\"#5ba3d0\",\"#65aad4\",\"#72b2d8\",\"#7fb9da\",\"#8cc0dd\",\"#99c7e0\",\"#a5cde3\",\"#afd1e7\",\"#b9d6ea\",\"#c3daee\",\"#cbdef1\",\"#d1e2f3\",\"#d7e6f5\",\"#ddeaf7\",\"#e4eff9\",\"#eaf3fb\",\"#f1f7fd\"]},\"showlegend\":false,\"textposition\":\"outside\",\"texttemplate\":\"%{label}\",\"values\":[503,113,101,99,83,80,74,74,66,66,56,52,49,47,46,45,44,44,43,43,43,42,42,41,41,40,39,37,36,36],\"type\":\"pie\"}],                        {\"template\":{\"data\":{\"histogram2dcontour\":[{\"type\":\"histogram2dcontour\",\"colorbar\":{\"outlinewidth\":0,\"ticks\":\"\"},\"colorscale\":[[0.0,\"#0d0887\"],[0.1111111111111111,\"#46039f\"],[0.2222222222222222,\"#7201a8\"],[0.3333333333333333,\"#9c179e\"],[0.4444444444444444,\"#bd3786\"],[0.5555555555555556,\"#d8576b\"],[0.6666666666666666,\"#ed7953\"],[0.7777777777777778,\"#fb9f3a\"],[0.8888888888888888,\"#fdca26\"],[1.0,\"#f0f921\"]]}],\"choropleth\":[{\"type\":\"choropleth\",\"colorbar\":{\"outlinewidth\":0,\"ticks\":\"\"}}],\"histogram2d\":[{\"type\":\"histogram2d\",\"colorbar\":{\"outlinewidth\":0,\"ticks\":\"\"},\"colorscale\":[[0.0,\"#0d0887\"],[0.1111111111111111,\"#46039f\"],[0.2222222222222222,\"#7201a8\"],[0.3333333333333333,\"#9c179e\"],[0.4444444444444444,\"#bd3786\"],[0.5555555555555556,\"#d8576b\"],[0.6666666666666666,\"#ed7953\"],[0.7777777777777778,\"#fb9f3a\"],[0.8888888888888888,\"#fdca26\"],[1.0,\"#f0f921\"]]}],\"heatmap\":[{\"type\":\"heatmap\",\"colorbar\":{\"outlinewidth\":0,\"ticks\":\"\"},\"colorscale\":[[0.0,\"#0d0887\"],[0.1111111111111111,\"#46039f\"],[0.2222222222222222,\"#7201a8\"],[0.3333333333333333,\"#9c179e\"],[0.4444444444444444,\"#bd3786\"],[0.5555555555555556,\"#d8576b\"],[0.6666666666666666,\"#ed7953\"],[0.7777777777777778,\"#fb9f3a\"],[0.8888888888888888,\"#fdca26\"],[1.0,\"#f0f921\"]]}],\"heatmapgl\":[{\"type\":\"heatmapgl\",\"colorbar\":{\"outlinewidth\":0,\"ticks\":\"\"},\"colorscale\":[[0.0,\"#0d0887\"],[0.1111111111111111,\"#46039f\"],[0.2222222222222222,\"#7201a8\"],[0.3333333333333333,\"#9c179e\"],[0.4444444444444444,\"#bd3786\"],[0.5555555555555556,\"#d8576b\"],[0.6666666666666666,\"#ed7953\"],[0.7777777777777778,\"#fb9f3a\"],[0.8888888888888888,\"#fdca26\"],[1.0,\"#f0f921\"]]}],\"contourcarpet\":[{\"type\":\"contourcarpet\",\"colorbar\":{\"outlinewidth\":0,\"ticks\":\"\"}}],\"contour\":[{\"type\":\"contour\",\"colorbar\":{\"outlinewidth\":0,\"ticks\":\"\"},\"colorscale\":[[0.0,\"#0d0887\"],[0.1111111111111111,\"#46039f\"],[0.2222222222222222,\"#7201a8\"],[0.3333333333333333,\"#9c179e\"],[0.4444444444444444,\"#bd3786\"],[0.5555555555555556,\"#d8576b\"],[0.6666666666666666,\"#ed7953\"],[0.7777777777777778,\"#fb9f3a\"],[0.8888888888888888,\"#fdca26\"],[1.0,\"#f0f921\"]]}],\"surface\":[{\"type\":\"surface\",\"colorbar\":{\"outlinewidth\":0,\"ticks\":\"\"},\"colorscale\":[[0.0,\"#0d0887\"],[0.1111111111111111,\"#46039f\"],[0.2222222222222222,\"#7201a8\"],[0.3333333333333333,\"#9c179e\"],[0.4444444444444444,\"#bd3786\"],[0.5555555555555556,\"#d8576b\"],[0.6666666666666666,\"#ed7953\"],[0.7777777777777778,\"#fb9f3a\"],[0.8888888888888888,\"#fdca26\"],[1.0,\"#f0f921\"]]}],\"mesh3d\":[{\"type\":\"mesh3d\",\"colorbar\":{\"outlinewidth\":0,\"ticks\":\"\"}}],\"scatter\":[{\"fillpattern\":{\"fillmode\":\"overlay\",\"size\":10,\"solidity\":0.2},\"type\":\"scatter\"}],\"parcoords\":[{\"type\":\"parcoords\",\"line\":{\"colorbar\":{\"outlinewidth\":0,\"ticks\":\"\"}}}],\"scatterpolargl\":[{\"type\":\"scatterpolargl\",\"marker\":{\"colorbar\":{\"outlinewidth\":0,\"ticks\":\"\"}}}],\"bar\":[{\"error_x\":{\"color\":\"#2a3f5f\"},\"error_y\":{\"color\":\"#2a3f5f\"},\"marker\":{\"line\":{\"color\":\"#E5ECF6\",\"width\":0.5},\"pattern\":{\"fillmode\":\"overlay\",\"size\":10,\"solidity\":0.2}},\"type\":\"bar\"}],\"scattergeo\":[{\"type\":\"scattergeo\",\"marker\":{\"colorbar\":{\"outlinewidth\":0,\"ticks\":\"\"}}}],\"scatterpolar\":[{\"type\":\"scatterpolar\",\"marker\":{\"colorbar\":{\"outlinewidth\":0,\"ticks\":\"\"}}}],\"histogram\":[{\"marker\":{\"pattern\":{\"fillmode\":\"overlay\",\"size\":10,\"solidity\":0.2}},\"type\":\"histogram\"}],\"scattergl\":[{\"type\":\"scattergl\",\"marker\":{\"colorbar\":{\"outlinewidth\":0,\"ticks\":\"\"}}}],\"scatter3d\":[{\"type\":\"scatter3d\",\"line\":{\"colorbar\":{\"outlinewidth\":0,\"ticks\":\"\"}},\"marker\":{\"colorbar\":{\"outlinewidth\":0,\"ticks\":\"\"}}}],\"scattermapbox\":[{\"type\":\"scattermapbox\",\"marker\":{\"colorbar\":{\"outlinewidth\":0,\"ticks\":\"\"}}}],\"scatterternary\":[{\"type\":\"scatterternary\",\"marker\":{\"colorbar\":{\"outlinewidth\":0,\"ticks\":\"\"}}}],\"scattercarpet\":[{\"type\":\"scattercarpet\",\"marker\":{\"colorbar\":{\"outlinewidth\":0,\"ticks\":\"\"}}}],\"carpet\":[{\"aaxis\":{\"endlinecolor\":\"#2a3f5f\",\"gridcolor\":\"white\",\"linecolor\":\"white\",\"minorgridcolor\":\"white\",\"startlinecolor\":\"#2a3f5f\"},\"baxis\":{\"endlinecolor\":\"#2a3f5f\",\"gridcolor\":\"white\",\"linecolor\":\"white\",\"minorgridcolor\":\"white\",\"startlinecolor\":\"#2a3f5f\"},\"type\":\"carpet\"}],\"table\":[{\"cells\":{\"fill\":{\"color\":\"#EBF0F8\"},\"line\":{\"color\":\"white\"}},\"header\":{\"fill\":{\"color\":\"#C8D4E3\"},\"line\":{\"color\":\"white\"}},\"type\":\"table\"}],\"barpolar\":[{\"marker\":{\"line\":{\"color\":\"#E5ECF6\",\"width\":0.5},\"pattern\":{\"fillmode\":\"overlay\",\"size\":10,\"solidity\":0.2}},\"type\":\"barpolar\"}],\"pie\":[{\"automargin\":true,\"type\":\"pie\"}]},\"layout\":{\"autotypenumbers\":\"strict\",\"colorway\":[\"#636efa\",\"#EF553B\",\"#00cc96\",\"#ab63fa\",\"#FFA15A\",\"#19d3f3\",\"#FF6692\",\"#B6E880\",\"#FF97FF\",\"#FECB52\"],\"font\":{\"color\":\"#2a3f5f\"},\"hovermode\":\"closest\",\"hoverlabel\":{\"align\":\"left\"},\"paper_bgcolor\":\"white\",\"plot_bgcolor\":\"#E5ECF6\",\"polar\":{\"bgcolor\":\"#E5ECF6\",\"angularaxis\":{\"gridcolor\":\"white\",\"linecolor\":\"white\",\"ticks\":\"\"},\"radialaxis\":{\"gridcolor\":\"white\",\"linecolor\":\"white\",\"ticks\":\"\"}},\"ternary\":{\"bgcolor\":\"#E5ECF6\",\"aaxis\":{\"gridcolor\":\"white\",\"linecolor\":\"white\",\"ticks\":\"\"},\"baxis\":{\"gridcolor\":\"white\",\"linecolor\":\"white\",\"ticks\":\"\"},\"caxis\":{\"gridcolor\":\"white\",\"linecolor\":\"white\",\"ticks\":\"\"}},\"coloraxis\":{\"colorbar\":{\"outlinewidth\":0,\"ticks\":\"\"}},\"colorscale\":{\"sequential\":[[0.0,\"#0d0887\"],[0.1111111111111111,\"#46039f\"],[0.2222222222222222,\"#7201a8\"],[0.3333333333333333,\"#9c179e\"],[0.4444444444444444,\"#bd3786\"],[0.5555555555555556,\"#d8576b\"],[0.6666666666666666,\"#ed7953\"],[0.7777777777777778,\"#fb9f3a\"],[0.8888888888888888,\"#fdca26\"],[1.0,\"#f0f921\"]],\"sequentialminus\":[[0.0,\"#0d0887\"],[0.1111111111111111,\"#46039f\"],[0.2222222222222222,\"#7201a8\"],[0.3333333333333333,\"#9c179e\"],[0.4444444444444444,\"#bd3786\"],[0.5555555555555556,\"#d8576b\"],[0.6666666666666666,\"#ed7953\"],[0.7777777777777778,\"#fb9f3a\"],[0.8888888888888888,\"#fdca26\"],[1.0,\"#f0f921\"]],\"diverging\":[[0,\"#8e0152\"],[0.1,\"#c51b7d\"],[0.2,\"#de77ae\"],[0.3,\"#f1b6da\"],[0.4,\"#fde0ef\"],[0.5,\"#f7f7f7\"],[0.6,\"#e6f5d0\"],[0.7,\"#b8e186\"],[0.8,\"#7fbc41\"],[0.9,\"#4d9221\"],[1,\"#276419\"]]},\"xaxis\":{\"gridcolor\":\"white\",\"linecolor\":\"white\",\"ticks\":\"\",\"title\":{\"standoff\":15},\"zerolinecolor\":\"white\",\"automargin\":true,\"zerolinewidth\":2},\"yaxis\":{\"gridcolor\":\"white\",\"linecolor\":\"white\",\"ticks\":\"\",\"title\":{\"standoff\":15},\"zerolinecolor\":\"white\",\"automargin\":true,\"zerolinewidth\":2},\"scene\":{\"xaxis\":{\"backgroundcolor\":\"#E5ECF6\",\"gridcolor\":\"white\",\"linecolor\":\"white\",\"showbackground\":true,\"ticks\":\"\",\"zerolinecolor\":\"white\",\"gridwidth\":2},\"yaxis\":{\"backgroundcolor\":\"#E5ECF6\",\"gridcolor\":\"white\",\"linecolor\":\"white\",\"showbackground\":true,\"ticks\":\"\",\"zerolinecolor\":\"white\",\"gridwidth\":2},\"zaxis\":{\"backgroundcolor\":\"#E5ECF6\",\"gridcolor\":\"white\",\"linecolor\":\"white\",\"showbackground\":true,\"ticks\":\"\",\"zerolinecolor\":\"white\",\"gridwidth\":2}},\"shapedefaults\":{\"line\":{\"color\":\"#2a3f5f\"}},\"annotationdefaults\":{\"arrowcolor\":\"#2a3f5f\",\"arrowhead\":0,\"arrowwidth\":1},\"geo\":{\"bgcolor\":\"white\",\"landcolor\":\"#E5ECF6\",\"subunitcolor\":\"white\",\"showland\":true,\"showlakes\":true,\"lakecolor\":\"white\"},\"title\":{\"x\":0.05},\"mapbox\":{\"style\":\"light\"}}},\"title\":{\"pad\":{\"r\":10,\"t\":10,\"b\":80},\"font\":{\"size\":24},\"text\":\"Top 30 words describing<br>data analysis responsibilities\",\"x\":0.5,\"y\":0.96,\"xanchor\":\"center\",\"yanchor\":\"top\"},\"margin\":{\"t\":130},\"font\":{\"size\":16,\"color\":\"white\"},\"width\":600,\"height\":600,\"plot_bgcolor\":\"#272b2e\",\"paper_bgcolor\":\"#272b2e\"},                        {\"responsive\": true}                    ).then(function(){\n",
       "                            \n",
       "var gd = document.getElementById('de788568-0c71-443b-a1d2-e844bc8ab56f');\n",
       "var x = new MutationObserver(function (mutations, observer) {{\n",
       "        var display = window.getComputedStyle(gd).display;\n",
       "        if (!display || display === 'none') {{\n",
       "            console.log([gd, 'removed!']);\n",
       "            Plotly.purge(gd);\n",
       "            observer.disconnect();\n",
       "        }}\n",
       "}});\n",
       "\n",
       "// Listen for the removal of the full notebook cells\n",
       "var notebookContainer = gd.closest('#notebook-container');\n",
       "if (notebookContainer) {{\n",
       "    x.observe(notebookContainer, {childList: true});\n",
       "}}\n",
       "\n",
       "// Listen for the clearing of the current output cell\n",
       "var outputEl = gd.closest('.output');\n",
       "if (outputEl) {{\n",
       "    x.observe(outputEl, {childList: true});\n",
       "}}\n",
       "\n",
       "                        })                };                });            </script>        </div>"
      ]
     },
     "metadata": {},
     "output_type": "display_data"
    }
   ],
   "source": [
    "# create unique list of job types for dropdown menu\n",
    "job_types = df_word_count_res['job_type'].unique().tolist()\n",
    "\n",
    "from plotly.subplots import make_subplots\n",
    "pal = list(sns.color_palette(palette='Blues_r', n_colors=30).as_hex())\n",
    "\n",
    "# add the pie chart to the figure\n",
    "fig = go.Figure(go.Pie(labels=df_word_count_res[df_word_count_res['job_type'] == job_types[0]]['word'],\n",
    "                     values=df_word_count_res[df_word_count_res['job_type'] == job_types[0]]['frequency'],\n",
    "                     textposition='outside', \n",
    "                     hole=.4,\n",
    "                     insidetextorientation='auto',\n",
    "                     hovertemplate='percent=%{percent:.0%}<br>frequency=%{value}',\n",
    "                     marker=dict(colors=pal),\n",
    "                     showlegend=False,\n",
    "                     #title='Data Analysis',\n",
    "                     texttemplate=\"%{label}\"))\n",
    "\n",
    "# set the layout options for the entire figure\n",
    "fig.update_layout(\n",
    "    title={\n",
    "        'text': f\"Top 30 words describing<br>data analysis responsibilities\",\n",
    "        'x': 0.50,\n",
    "        'y': 0.96,\n",
    "        'xanchor': 'center',\n",
    "        'yanchor': 'top',\n",
    "        'pad': {'r': 10, 't': 10, 'b':80},\n",
    "        'font': {'size': 24}\n",
    "    },\n",
    "    width=600,\n",
    "    height=600,\n",
    "    margin=dict(t=130),\n",
    "    plot_bgcolor = \"#272b2e\",\n",
    "    paper_bgcolor = \"#272b2e\",\n",
    "    font=dict(size = 16, color = 'white')\n",
    ")\n",
    "\n",
    "fig.show()\n",
    "fig.write_html('../images/donut_chart1.html')\n"
   ]
  },
  {
   "cell_type": "code",
   "execution_count": 137,
   "metadata": {},
   "outputs": [
    {
     "data": {
      "application/vnd.plotly.v1+json": {
       "config": {
        "plotlyServerURL": "https://plot.ly"
       },
       "data": [
        {
         "hole": 0.4,
         "hovertemplate": "percent=%{percent:.0%}<br>frequency=%{value}",
         "insidetextorientation": "auto",
         "labels": [
          "data",
          "business",
          "analysis",
          "develop",
          "team",
          "development",
          "work",
          "support",
          "analytics",
          "models",
          "learning",
          "solutions",
          "machine",
          "science",
          "techniques",
          "statistical",
          "provide",
          "tools",
          "new",
          "algorithms",
          "predictive",
          "complex",
          "using",
          "projects",
          "product",
          "modeling",
          "insights",
          "technical",
          "information",
          "design"
         ],
         "marker": {
          "colors": [
           "#083877",
           "#084184",
           "#084990",
           "#09529d",
           "#0f5aa3",
           "#1562a9",
           "#1c6ab0",
           "#2373b6",
           "#2c7cba",
           "#3484bf",
           "#3c8cc3",
           "#4695c8",
           "#519ccc",
           "#5ba3d0",
           "#65aad4",
           "#72b2d8",
           "#7fb9da",
           "#8cc0dd",
           "#99c7e0",
           "#a5cde3",
           "#afd1e7",
           "#b9d6ea",
           "#c3daee",
           "#cbdef1",
           "#d1e2f3",
           "#d7e6f5",
           "#ddeaf7",
           "#e4eff9",
           "#eaf3fb",
           "#f1f7fd"
          ]
         },
         "showlegend": false,
         "textposition": "outside",
         "texttemplate": "%{label}",
         "type": "pie",
         "values": [
          482,
          140,
          110,
          89,
          84,
          79,
          77,
          75,
          73,
          73,
          71,
          66,
          64,
          63,
          61,
          57,
          55,
          53,
          52,
          49,
          48,
          44,
          42,
          42,
          42,
          41,
          41,
          39,
          39,
          38
         ]
        }
       ],
       "layout": {
        "font": {
         "color": "white",
         "size": 16
        },
        "height": 600,
        "margin": {
         "t": 130
        },
        "paper_bgcolor": "#272b2e",
        "plot_bgcolor": "#272b2e",
        "template": {
         "data": {
          "bar": [
           {
            "error_x": {
             "color": "#2a3f5f"
            },
            "error_y": {
             "color": "#2a3f5f"
            },
            "marker": {
             "line": {
              "color": "#E5ECF6",
              "width": 0.5
             },
             "pattern": {
              "fillmode": "overlay",
              "size": 10,
              "solidity": 0.2
             }
            },
            "type": "bar"
           }
          ],
          "barpolar": [
           {
            "marker": {
             "line": {
              "color": "#E5ECF6",
              "width": 0.5
             },
             "pattern": {
              "fillmode": "overlay",
              "size": 10,
              "solidity": 0.2
             }
            },
            "type": "barpolar"
           }
          ],
          "carpet": [
           {
            "aaxis": {
             "endlinecolor": "#2a3f5f",
             "gridcolor": "white",
             "linecolor": "white",
             "minorgridcolor": "white",
             "startlinecolor": "#2a3f5f"
            },
            "baxis": {
             "endlinecolor": "#2a3f5f",
             "gridcolor": "white",
             "linecolor": "white",
             "minorgridcolor": "white",
             "startlinecolor": "#2a3f5f"
            },
            "type": "carpet"
           }
          ],
          "choropleth": [
           {
            "colorbar": {
             "outlinewidth": 0,
             "ticks": ""
            },
            "type": "choropleth"
           }
          ],
          "contour": [
           {
            "colorbar": {
             "outlinewidth": 0,
             "ticks": ""
            },
            "colorscale": [
             [
              0,
              "#0d0887"
             ],
             [
              0.1111111111111111,
              "#46039f"
             ],
             [
              0.2222222222222222,
              "#7201a8"
             ],
             [
              0.3333333333333333,
              "#9c179e"
             ],
             [
              0.4444444444444444,
              "#bd3786"
             ],
             [
              0.5555555555555556,
              "#d8576b"
             ],
             [
              0.6666666666666666,
              "#ed7953"
             ],
             [
              0.7777777777777778,
              "#fb9f3a"
             ],
             [
              0.8888888888888888,
              "#fdca26"
             ],
             [
              1,
              "#f0f921"
             ]
            ],
            "type": "contour"
           }
          ],
          "contourcarpet": [
           {
            "colorbar": {
             "outlinewidth": 0,
             "ticks": ""
            },
            "type": "contourcarpet"
           }
          ],
          "heatmap": [
           {
            "colorbar": {
             "outlinewidth": 0,
             "ticks": ""
            },
            "colorscale": [
             [
              0,
              "#0d0887"
             ],
             [
              0.1111111111111111,
              "#46039f"
             ],
             [
              0.2222222222222222,
              "#7201a8"
             ],
             [
              0.3333333333333333,
              "#9c179e"
             ],
             [
              0.4444444444444444,
              "#bd3786"
             ],
             [
              0.5555555555555556,
              "#d8576b"
             ],
             [
              0.6666666666666666,
              "#ed7953"
             ],
             [
              0.7777777777777778,
              "#fb9f3a"
             ],
             [
              0.8888888888888888,
              "#fdca26"
             ],
             [
              1,
              "#f0f921"
             ]
            ],
            "type": "heatmap"
           }
          ],
          "heatmapgl": [
           {
            "colorbar": {
             "outlinewidth": 0,
             "ticks": ""
            },
            "colorscale": [
             [
              0,
              "#0d0887"
             ],
             [
              0.1111111111111111,
              "#46039f"
             ],
             [
              0.2222222222222222,
              "#7201a8"
             ],
             [
              0.3333333333333333,
              "#9c179e"
             ],
             [
              0.4444444444444444,
              "#bd3786"
             ],
             [
              0.5555555555555556,
              "#d8576b"
             ],
             [
              0.6666666666666666,
              "#ed7953"
             ],
             [
              0.7777777777777778,
              "#fb9f3a"
             ],
             [
              0.8888888888888888,
              "#fdca26"
             ],
             [
              1,
              "#f0f921"
             ]
            ],
            "type": "heatmapgl"
           }
          ],
          "histogram": [
           {
            "marker": {
             "pattern": {
              "fillmode": "overlay",
              "size": 10,
              "solidity": 0.2
             }
            },
            "type": "histogram"
           }
          ],
          "histogram2d": [
           {
            "colorbar": {
             "outlinewidth": 0,
             "ticks": ""
            },
            "colorscale": [
             [
              0,
              "#0d0887"
             ],
             [
              0.1111111111111111,
              "#46039f"
             ],
             [
              0.2222222222222222,
              "#7201a8"
             ],
             [
              0.3333333333333333,
              "#9c179e"
             ],
             [
              0.4444444444444444,
              "#bd3786"
             ],
             [
              0.5555555555555556,
              "#d8576b"
             ],
             [
              0.6666666666666666,
              "#ed7953"
             ],
             [
              0.7777777777777778,
              "#fb9f3a"
             ],
             [
              0.8888888888888888,
              "#fdca26"
             ],
             [
              1,
              "#f0f921"
             ]
            ],
            "type": "histogram2d"
           }
          ],
          "histogram2dcontour": [
           {
            "colorbar": {
             "outlinewidth": 0,
             "ticks": ""
            },
            "colorscale": [
             [
              0,
              "#0d0887"
             ],
             [
              0.1111111111111111,
              "#46039f"
             ],
             [
              0.2222222222222222,
              "#7201a8"
             ],
             [
              0.3333333333333333,
              "#9c179e"
             ],
             [
              0.4444444444444444,
              "#bd3786"
             ],
             [
              0.5555555555555556,
              "#d8576b"
             ],
             [
              0.6666666666666666,
              "#ed7953"
             ],
             [
              0.7777777777777778,
              "#fb9f3a"
             ],
             [
              0.8888888888888888,
              "#fdca26"
             ],
             [
              1,
              "#f0f921"
             ]
            ],
            "type": "histogram2dcontour"
           }
          ],
          "mesh3d": [
           {
            "colorbar": {
             "outlinewidth": 0,
             "ticks": ""
            },
            "type": "mesh3d"
           }
          ],
          "parcoords": [
           {
            "line": {
             "colorbar": {
              "outlinewidth": 0,
              "ticks": ""
             }
            },
            "type": "parcoords"
           }
          ],
          "pie": [
           {
            "automargin": true,
            "type": "pie"
           }
          ],
          "scatter": [
           {
            "fillpattern": {
             "fillmode": "overlay",
             "size": 10,
             "solidity": 0.2
            },
            "type": "scatter"
           }
          ],
          "scatter3d": [
           {
            "line": {
             "colorbar": {
              "outlinewidth": 0,
              "ticks": ""
             }
            },
            "marker": {
             "colorbar": {
              "outlinewidth": 0,
              "ticks": ""
             }
            },
            "type": "scatter3d"
           }
          ],
          "scattercarpet": [
           {
            "marker": {
             "colorbar": {
              "outlinewidth": 0,
              "ticks": ""
             }
            },
            "type": "scattercarpet"
           }
          ],
          "scattergeo": [
           {
            "marker": {
             "colorbar": {
              "outlinewidth": 0,
              "ticks": ""
             }
            },
            "type": "scattergeo"
           }
          ],
          "scattergl": [
           {
            "marker": {
             "colorbar": {
              "outlinewidth": 0,
              "ticks": ""
             }
            },
            "type": "scattergl"
           }
          ],
          "scattermapbox": [
           {
            "marker": {
             "colorbar": {
              "outlinewidth": 0,
              "ticks": ""
             }
            },
            "type": "scattermapbox"
           }
          ],
          "scatterpolar": [
           {
            "marker": {
             "colorbar": {
              "outlinewidth": 0,
              "ticks": ""
             }
            },
            "type": "scatterpolar"
           }
          ],
          "scatterpolargl": [
           {
            "marker": {
             "colorbar": {
              "outlinewidth": 0,
              "ticks": ""
             }
            },
            "type": "scatterpolargl"
           }
          ],
          "scatterternary": [
           {
            "marker": {
             "colorbar": {
              "outlinewidth": 0,
              "ticks": ""
             }
            },
            "type": "scatterternary"
           }
          ],
          "surface": [
           {
            "colorbar": {
             "outlinewidth": 0,
             "ticks": ""
            },
            "colorscale": [
             [
              0,
              "#0d0887"
             ],
             [
              0.1111111111111111,
              "#46039f"
             ],
             [
              0.2222222222222222,
              "#7201a8"
             ],
             [
              0.3333333333333333,
              "#9c179e"
             ],
             [
              0.4444444444444444,
              "#bd3786"
             ],
             [
              0.5555555555555556,
              "#d8576b"
             ],
             [
              0.6666666666666666,
              "#ed7953"
             ],
             [
              0.7777777777777778,
              "#fb9f3a"
             ],
             [
              0.8888888888888888,
              "#fdca26"
             ],
             [
              1,
              "#f0f921"
             ]
            ],
            "type": "surface"
           }
          ],
          "table": [
           {
            "cells": {
             "fill": {
              "color": "#EBF0F8"
             },
             "line": {
              "color": "white"
             }
            },
            "header": {
             "fill": {
              "color": "#C8D4E3"
             },
             "line": {
              "color": "white"
             }
            },
            "type": "table"
           }
          ]
         },
         "layout": {
          "annotationdefaults": {
           "arrowcolor": "#2a3f5f",
           "arrowhead": 0,
           "arrowwidth": 1
          },
          "autotypenumbers": "strict",
          "coloraxis": {
           "colorbar": {
            "outlinewidth": 0,
            "ticks": ""
           }
          },
          "colorscale": {
           "diverging": [
            [
             0,
             "#8e0152"
            ],
            [
             0.1,
             "#c51b7d"
            ],
            [
             0.2,
             "#de77ae"
            ],
            [
             0.3,
             "#f1b6da"
            ],
            [
             0.4,
             "#fde0ef"
            ],
            [
             0.5,
             "#f7f7f7"
            ],
            [
             0.6,
             "#e6f5d0"
            ],
            [
             0.7,
             "#b8e186"
            ],
            [
             0.8,
             "#7fbc41"
            ],
            [
             0.9,
             "#4d9221"
            ],
            [
             1,
             "#276419"
            ]
           ],
           "sequential": [
            [
             0,
             "#0d0887"
            ],
            [
             0.1111111111111111,
             "#46039f"
            ],
            [
             0.2222222222222222,
             "#7201a8"
            ],
            [
             0.3333333333333333,
             "#9c179e"
            ],
            [
             0.4444444444444444,
             "#bd3786"
            ],
            [
             0.5555555555555556,
             "#d8576b"
            ],
            [
             0.6666666666666666,
             "#ed7953"
            ],
            [
             0.7777777777777778,
             "#fb9f3a"
            ],
            [
             0.8888888888888888,
             "#fdca26"
            ],
            [
             1,
             "#f0f921"
            ]
           ],
           "sequentialminus": [
            [
             0,
             "#0d0887"
            ],
            [
             0.1111111111111111,
             "#46039f"
            ],
            [
             0.2222222222222222,
             "#7201a8"
            ],
            [
             0.3333333333333333,
             "#9c179e"
            ],
            [
             0.4444444444444444,
             "#bd3786"
            ],
            [
             0.5555555555555556,
             "#d8576b"
            ],
            [
             0.6666666666666666,
             "#ed7953"
            ],
            [
             0.7777777777777778,
             "#fb9f3a"
            ],
            [
             0.8888888888888888,
             "#fdca26"
            ],
            [
             1,
             "#f0f921"
            ]
           ]
          },
          "colorway": [
           "#636efa",
           "#EF553B",
           "#00cc96",
           "#ab63fa",
           "#FFA15A",
           "#19d3f3",
           "#FF6692",
           "#B6E880",
           "#FF97FF",
           "#FECB52"
          ],
          "font": {
           "color": "#2a3f5f"
          },
          "geo": {
           "bgcolor": "white",
           "lakecolor": "white",
           "landcolor": "#E5ECF6",
           "showlakes": true,
           "showland": true,
           "subunitcolor": "white"
          },
          "hoverlabel": {
           "align": "left"
          },
          "hovermode": "closest",
          "mapbox": {
           "style": "light"
          },
          "paper_bgcolor": "white",
          "plot_bgcolor": "#E5ECF6",
          "polar": {
           "angularaxis": {
            "gridcolor": "white",
            "linecolor": "white",
            "ticks": ""
           },
           "bgcolor": "#E5ECF6",
           "radialaxis": {
            "gridcolor": "white",
            "linecolor": "white",
            "ticks": ""
           }
          },
          "scene": {
           "xaxis": {
            "backgroundcolor": "#E5ECF6",
            "gridcolor": "white",
            "gridwidth": 2,
            "linecolor": "white",
            "showbackground": true,
            "ticks": "",
            "zerolinecolor": "white"
           },
           "yaxis": {
            "backgroundcolor": "#E5ECF6",
            "gridcolor": "white",
            "gridwidth": 2,
            "linecolor": "white",
            "showbackground": true,
            "ticks": "",
            "zerolinecolor": "white"
           },
           "zaxis": {
            "backgroundcolor": "#E5ECF6",
            "gridcolor": "white",
            "gridwidth": 2,
            "linecolor": "white",
            "showbackground": true,
            "ticks": "",
            "zerolinecolor": "white"
           }
          },
          "shapedefaults": {
           "line": {
            "color": "#2a3f5f"
           }
          },
          "ternary": {
           "aaxis": {
            "gridcolor": "white",
            "linecolor": "white",
            "ticks": ""
           },
           "baxis": {
            "gridcolor": "white",
            "linecolor": "white",
            "ticks": ""
           },
           "bgcolor": "#E5ECF6",
           "caxis": {
            "gridcolor": "white",
            "linecolor": "white",
            "ticks": ""
           }
          },
          "title": {
           "x": 0.05
          },
          "xaxis": {
           "automargin": true,
           "gridcolor": "white",
           "linecolor": "white",
           "ticks": "",
           "title": {
            "standoff": 15
           },
           "zerolinecolor": "white",
           "zerolinewidth": 2
          },
          "yaxis": {
           "automargin": true,
           "gridcolor": "white",
           "linecolor": "white",
           "ticks": "",
           "title": {
            "standoff": 15
           },
           "zerolinecolor": "white",
           "zerolinewidth": 2
          }
         }
        },
        "title": {
         "font": {
          "size": 24
         },
         "pad": {
          "b": 80,
          "r": 10,
          "t": 10
         },
         "text": "Top 30 words describing<br>data science responsibilities",
         "x": 0.5,
         "xanchor": "center",
         "y": 0.96,
         "yanchor": "top"
        },
        "width": 600
       }
      },
      "text/html": [
       "<div>                            <div id=\"d6266c2b-1578-4081-b318-aec7bc498450\" class=\"plotly-graph-div\" style=\"height:600px; width:600px;\"></div>            <script type=\"text/javascript\">                require([\"plotly\"], function(Plotly) {                    window.PLOTLYENV=window.PLOTLYENV || {};                                    if (document.getElementById(\"d6266c2b-1578-4081-b318-aec7bc498450\")) {                    Plotly.newPlot(                        \"d6266c2b-1578-4081-b318-aec7bc498450\",                        [{\"hole\":0.4,\"hovertemplate\":\"percent=%{percent:.0%}<br>frequency=%{value}\",\"insidetextorientation\":\"auto\",\"labels\":[\"data\",\"business\",\"analysis\",\"develop\",\"team\",\"development\",\"work\",\"support\",\"analytics\",\"models\",\"learning\",\"solutions\",\"machine\",\"science\",\"techniques\",\"statistical\",\"provide\",\"tools\",\"new\",\"algorithms\",\"predictive\",\"complex\",\"using\",\"projects\",\"product\",\"modeling\",\"insights\",\"technical\",\"information\",\"design\"],\"marker\":{\"colors\":[\"#083877\",\"#084184\",\"#084990\",\"#09529d\",\"#0f5aa3\",\"#1562a9\",\"#1c6ab0\",\"#2373b6\",\"#2c7cba\",\"#3484bf\",\"#3c8cc3\",\"#4695c8\",\"#519ccc\",\"#5ba3d0\",\"#65aad4\",\"#72b2d8\",\"#7fb9da\",\"#8cc0dd\",\"#99c7e0\",\"#a5cde3\",\"#afd1e7\",\"#b9d6ea\",\"#c3daee\",\"#cbdef1\",\"#d1e2f3\",\"#d7e6f5\",\"#ddeaf7\",\"#e4eff9\",\"#eaf3fb\",\"#f1f7fd\"]},\"showlegend\":false,\"textposition\":\"outside\",\"texttemplate\":\"%{label}\",\"values\":[482,140,110,89,84,79,77,75,73,73,71,66,64,63,61,57,55,53,52,49,48,44,42,42,42,41,41,39,39,38],\"type\":\"pie\"}],                        {\"template\":{\"data\":{\"histogram2dcontour\":[{\"type\":\"histogram2dcontour\",\"colorbar\":{\"outlinewidth\":0,\"ticks\":\"\"},\"colorscale\":[[0.0,\"#0d0887\"],[0.1111111111111111,\"#46039f\"],[0.2222222222222222,\"#7201a8\"],[0.3333333333333333,\"#9c179e\"],[0.4444444444444444,\"#bd3786\"],[0.5555555555555556,\"#d8576b\"],[0.6666666666666666,\"#ed7953\"],[0.7777777777777778,\"#fb9f3a\"],[0.8888888888888888,\"#fdca26\"],[1.0,\"#f0f921\"]]}],\"choropleth\":[{\"type\":\"choropleth\",\"colorbar\":{\"outlinewidth\":0,\"ticks\":\"\"}}],\"histogram2d\":[{\"type\":\"histogram2d\",\"colorbar\":{\"outlinewidth\":0,\"ticks\":\"\"},\"colorscale\":[[0.0,\"#0d0887\"],[0.1111111111111111,\"#46039f\"],[0.2222222222222222,\"#7201a8\"],[0.3333333333333333,\"#9c179e\"],[0.4444444444444444,\"#bd3786\"],[0.5555555555555556,\"#d8576b\"],[0.6666666666666666,\"#ed7953\"],[0.7777777777777778,\"#fb9f3a\"],[0.8888888888888888,\"#fdca26\"],[1.0,\"#f0f921\"]]}],\"heatmap\":[{\"type\":\"heatmap\",\"colorbar\":{\"outlinewidth\":0,\"ticks\":\"\"},\"colorscale\":[[0.0,\"#0d0887\"],[0.1111111111111111,\"#46039f\"],[0.2222222222222222,\"#7201a8\"],[0.3333333333333333,\"#9c179e\"],[0.4444444444444444,\"#bd3786\"],[0.5555555555555556,\"#d8576b\"],[0.6666666666666666,\"#ed7953\"],[0.7777777777777778,\"#fb9f3a\"],[0.8888888888888888,\"#fdca26\"],[1.0,\"#f0f921\"]]}],\"heatmapgl\":[{\"type\":\"heatmapgl\",\"colorbar\":{\"outlinewidth\":0,\"ticks\":\"\"},\"colorscale\":[[0.0,\"#0d0887\"],[0.1111111111111111,\"#46039f\"],[0.2222222222222222,\"#7201a8\"],[0.3333333333333333,\"#9c179e\"],[0.4444444444444444,\"#bd3786\"],[0.5555555555555556,\"#d8576b\"],[0.6666666666666666,\"#ed7953\"],[0.7777777777777778,\"#fb9f3a\"],[0.8888888888888888,\"#fdca26\"],[1.0,\"#f0f921\"]]}],\"contourcarpet\":[{\"type\":\"contourcarpet\",\"colorbar\":{\"outlinewidth\":0,\"ticks\":\"\"}}],\"contour\":[{\"type\":\"contour\",\"colorbar\":{\"outlinewidth\":0,\"ticks\":\"\"},\"colorscale\":[[0.0,\"#0d0887\"],[0.1111111111111111,\"#46039f\"],[0.2222222222222222,\"#7201a8\"],[0.3333333333333333,\"#9c179e\"],[0.4444444444444444,\"#bd3786\"],[0.5555555555555556,\"#d8576b\"],[0.6666666666666666,\"#ed7953\"],[0.7777777777777778,\"#fb9f3a\"],[0.8888888888888888,\"#fdca26\"],[1.0,\"#f0f921\"]]}],\"surface\":[{\"type\":\"surface\",\"colorbar\":{\"outlinewidth\":0,\"ticks\":\"\"},\"colorscale\":[[0.0,\"#0d0887\"],[0.1111111111111111,\"#46039f\"],[0.2222222222222222,\"#7201a8\"],[0.3333333333333333,\"#9c179e\"],[0.4444444444444444,\"#bd3786\"],[0.5555555555555556,\"#d8576b\"],[0.6666666666666666,\"#ed7953\"],[0.7777777777777778,\"#fb9f3a\"],[0.8888888888888888,\"#fdca26\"],[1.0,\"#f0f921\"]]}],\"mesh3d\":[{\"type\":\"mesh3d\",\"colorbar\":{\"outlinewidth\":0,\"ticks\":\"\"}}],\"scatter\":[{\"fillpattern\":{\"fillmode\":\"overlay\",\"size\":10,\"solidity\":0.2},\"type\":\"scatter\"}],\"parcoords\":[{\"type\":\"parcoords\",\"line\":{\"colorbar\":{\"outlinewidth\":0,\"ticks\":\"\"}}}],\"scatterpolargl\":[{\"type\":\"scatterpolargl\",\"marker\":{\"colorbar\":{\"outlinewidth\":0,\"ticks\":\"\"}}}],\"bar\":[{\"error_x\":{\"color\":\"#2a3f5f\"},\"error_y\":{\"color\":\"#2a3f5f\"},\"marker\":{\"line\":{\"color\":\"#E5ECF6\",\"width\":0.5},\"pattern\":{\"fillmode\":\"overlay\",\"size\":10,\"solidity\":0.2}},\"type\":\"bar\"}],\"scattergeo\":[{\"type\":\"scattergeo\",\"marker\":{\"colorbar\":{\"outlinewidth\":0,\"ticks\":\"\"}}}],\"scatterpolar\":[{\"type\":\"scatterpolar\",\"marker\":{\"colorbar\":{\"outlinewidth\":0,\"ticks\":\"\"}}}],\"histogram\":[{\"marker\":{\"pattern\":{\"fillmode\":\"overlay\",\"size\":10,\"solidity\":0.2}},\"type\":\"histogram\"}],\"scattergl\":[{\"type\":\"scattergl\",\"marker\":{\"colorbar\":{\"outlinewidth\":0,\"ticks\":\"\"}}}],\"scatter3d\":[{\"type\":\"scatter3d\",\"line\":{\"colorbar\":{\"outlinewidth\":0,\"ticks\":\"\"}},\"marker\":{\"colorbar\":{\"outlinewidth\":0,\"ticks\":\"\"}}}],\"scattermapbox\":[{\"type\":\"scattermapbox\",\"marker\":{\"colorbar\":{\"outlinewidth\":0,\"ticks\":\"\"}}}],\"scatterternary\":[{\"type\":\"scatterternary\",\"marker\":{\"colorbar\":{\"outlinewidth\":0,\"ticks\":\"\"}}}],\"scattercarpet\":[{\"type\":\"scattercarpet\",\"marker\":{\"colorbar\":{\"outlinewidth\":0,\"ticks\":\"\"}}}],\"carpet\":[{\"aaxis\":{\"endlinecolor\":\"#2a3f5f\",\"gridcolor\":\"white\",\"linecolor\":\"white\",\"minorgridcolor\":\"white\",\"startlinecolor\":\"#2a3f5f\"},\"baxis\":{\"endlinecolor\":\"#2a3f5f\",\"gridcolor\":\"white\",\"linecolor\":\"white\",\"minorgridcolor\":\"white\",\"startlinecolor\":\"#2a3f5f\"},\"type\":\"carpet\"}],\"table\":[{\"cells\":{\"fill\":{\"color\":\"#EBF0F8\"},\"line\":{\"color\":\"white\"}},\"header\":{\"fill\":{\"color\":\"#C8D4E3\"},\"line\":{\"color\":\"white\"}},\"type\":\"table\"}],\"barpolar\":[{\"marker\":{\"line\":{\"color\":\"#E5ECF6\",\"width\":0.5},\"pattern\":{\"fillmode\":\"overlay\",\"size\":10,\"solidity\":0.2}},\"type\":\"barpolar\"}],\"pie\":[{\"automargin\":true,\"type\":\"pie\"}]},\"layout\":{\"autotypenumbers\":\"strict\",\"colorway\":[\"#636efa\",\"#EF553B\",\"#00cc96\",\"#ab63fa\",\"#FFA15A\",\"#19d3f3\",\"#FF6692\",\"#B6E880\",\"#FF97FF\",\"#FECB52\"],\"font\":{\"color\":\"#2a3f5f\"},\"hovermode\":\"closest\",\"hoverlabel\":{\"align\":\"left\"},\"paper_bgcolor\":\"white\",\"plot_bgcolor\":\"#E5ECF6\",\"polar\":{\"bgcolor\":\"#E5ECF6\",\"angularaxis\":{\"gridcolor\":\"white\",\"linecolor\":\"white\",\"ticks\":\"\"},\"radialaxis\":{\"gridcolor\":\"white\",\"linecolor\":\"white\",\"ticks\":\"\"}},\"ternary\":{\"bgcolor\":\"#E5ECF6\",\"aaxis\":{\"gridcolor\":\"white\",\"linecolor\":\"white\",\"ticks\":\"\"},\"baxis\":{\"gridcolor\":\"white\",\"linecolor\":\"white\",\"ticks\":\"\"},\"caxis\":{\"gridcolor\":\"white\",\"linecolor\":\"white\",\"ticks\":\"\"}},\"coloraxis\":{\"colorbar\":{\"outlinewidth\":0,\"ticks\":\"\"}},\"colorscale\":{\"sequential\":[[0.0,\"#0d0887\"],[0.1111111111111111,\"#46039f\"],[0.2222222222222222,\"#7201a8\"],[0.3333333333333333,\"#9c179e\"],[0.4444444444444444,\"#bd3786\"],[0.5555555555555556,\"#d8576b\"],[0.6666666666666666,\"#ed7953\"],[0.7777777777777778,\"#fb9f3a\"],[0.8888888888888888,\"#fdca26\"],[1.0,\"#f0f921\"]],\"sequentialminus\":[[0.0,\"#0d0887\"],[0.1111111111111111,\"#46039f\"],[0.2222222222222222,\"#7201a8\"],[0.3333333333333333,\"#9c179e\"],[0.4444444444444444,\"#bd3786\"],[0.5555555555555556,\"#d8576b\"],[0.6666666666666666,\"#ed7953\"],[0.7777777777777778,\"#fb9f3a\"],[0.8888888888888888,\"#fdca26\"],[1.0,\"#f0f921\"]],\"diverging\":[[0,\"#8e0152\"],[0.1,\"#c51b7d\"],[0.2,\"#de77ae\"],[0.3,\"#f1b6da\"],[0.4,\"#fde0ef\"],[0.5,\"#f7f7f7\"],[0.6,\"#e6f5d0\"],[0.7,\"#b8e186\"],[0.8,\"#7fbc41\"],[0.9,\"#4d9221\"],[1,\"#276419\"]]},\"xaxis\":{\"gridcolor\":\"white\",\"linecolor\":\"white\",\"ticks\":\"\",\"title\":{\"standoff\":15},\"zerolinecolor\":\"white\",\"automargin\":true,\"zerolinewidth\":2},\"yaxis\":{\"gridcolor\":\"white\",\"linecolor\":\"white\",\"ticks\":\"\",\"title\":{\"standoff\":15},\"zerolinecolor\":\"white\",\"automargin\":true,\"zerolinewidth\":2},\"scene\":{\"xaxis\":{\"backgroundcolor\":\"#E5ECF6\",\"gridcolor\":\"white\",\"linecolor\":\"white\",\"showbackground\":true,\"ticks\":\"\",\"zerolinecolor\":\"white\",\"gridwidth\":2},\"yaxis\":{\"backgroundcolor\":\"#E5ECF6\",\"gridcolor\":\"white\",\"linecolor\":\"white\",\"showbackground\":true,\"ticks\":\"\",\"zerolinecolor\":\"white\",\"gridwidth\":2},\"zaxis\":{\"backgroundcolor\":\"#E5ECF6\",\"gridcolor\":\"white\",\"linecolor\":\"white\",\"showbackground\":true,\"ticks\":\"\",\"zerolinecolor\":\"white\",\"gridwidth\":2}},\"shapedefaults\":{\"line\":{\"color\":\"#2a3f5f\"}},\"annotationdefaults\":{\"arrowcolor\":\"#2a3f5f\",\"arrowhead\":0,\"arrowwidth\":1},\"geo\":{\"bgcolor\":\"white\",\"landcolor\":\"#E5ECF6\",\"subunitcolor\":\"white\",\"showland\":true,\"showlakes\":true,\"lakecolor\":\"white\"},\"title\":{\"x\":0.05},\"mapbox\":{\"style\":\"light\"}}},\"title\":{\"pad\":{\"r\":10,\"t\":10,\"b\":80},\"font\":{\"size\":24},\"text\":\"Top 30 words describing<br>data science responsibilities\",\"x\":0.5,\"y\":0.96,\"xanchor\":\"center\",\"yanchor\":\"top\"},\"margin\":{\"t\":130},\"font\":{\"size\":16,\"color\":\"white\"},\"width\":600,\"height\":600,\"plot_bgcolor\":\"#272b2e\",\"paper_bgcolor\":\"#272b2e\"},                        {\"responsive\": true}                    ).then(function(){\n",
       "                            \n",
       "var gd = document.getElementById('d6266c2b-1578-4081-b318-aec7bc498450');\n",
       "var x = new MutationObserver(function (mutations, observer) {{\n",
       "        var display = window.getComputedStyle(gd).display;\n",
       "        if (!display || display === 'none') {{\n",
       "            console.log([gd, 'removed!']);\n",
       "            Plotly.purge(gd);\n",
       "            observer.disconnect();\n",
       "        }}\n",
       "}});\n",
       "\n",
       "// Listen for the removal of the full notebook cells\n",
       "var notebookContainer = gd.closest('#notebook-container');\n",
       "if (notebookContainer) {{\n",
       "    x.observe(notebookContainer, {childList: true});\n",
       "}}\n",
       "\n",
       "// Listen for the clearing of the current output cell\n",
       "var outputEl = gd.closest('.output');\n",
       "if (outputEl) {{\n",
       "    x.observe(outputEl, {childList: true});\n",
       "}}\n",
       "\n",
       "                        })                };                });            </script>        </div>"
      ]
     },
     "metadata": {},
     "output_type": "display_data"
    }
   ],
   "source": [
    "# create unique list of job types for dropdown menu\n",
    "job_types = df_word_count_res['job_type'].unique().tolist()\n",
    "\n",
    "from plotly.subplots import make_subplots\n",
    "pal = list(sns.color_palette(palette='Blues_r', n_colors=30).as_hex())\n",
    "\n",
    "# add the pie chart to the figure\n",
    "fig = go.Figure(go.Pie(labels=df_word_count_res[df_word_count_res['job_type'] == job_types[1]]['word'],\n",
    "                     values=df_word_count_res[df_word_count_res['job_type'] == job_types[1]]['frequency'],\n",
    "                     textposition='outside', \n",
    "                     hole=.4,\n",
    "                     insidetextorientation='auto',\n",
    "                     hovertemplate='percent=%{percent:.0%}<br>frequency=%{value}',\n",
    "                     marker=dict(colors=pal),\n",
    "                     showlegend=False,\n",
    "                     #title='Data Analysis',\n",
    "                     texttemplate=\"%{label}\"))\n",
    "\n",
    "# set the layout options for the entire figure\n",
    "fig.update_layout(\n",
    "    title={\n",
    "        'text': f\"Top 30 words describing<br>data science responsibilities\",\n",
    "        'x': 0.50,\n",
    "        'y': 0.96,\n",
    "        'xanchor': 'center',\n",
    "        'yanchor': 'top',\n",
    "        'pad': {'r': 10, 't': 10, 'b':80},\n",
    "        'font': {'size': 24}\n",
    "    },\n",
    "    width=600,\n",
    "    height=600,\n",
    "    margin=dict(t=130),\n",
    "    plot_bgcolor = \"#272b2e\",\n",
    "    paper_bgcolor = \"#272b2e\",\n",
    "    font=dict(size = 16, color = 'white')\n",
    ")\n",
    "\n",
    "fig.show()\n",
    "fig.write_html('../images/donut_chart2.html')\n"
   ]
  },
  {
   "cell_type": "code",
   "execution_count": 138,
   "metadata": {},
   "outputs": [
    {
     "data": {
      "application/vnd.plotly.v1+json": {
       "config": {
        "plotlyServerURL": "https://plot.ly"
       },
       "data": [
        {
         "hole": 0.4,
         "hovertemplate": "percent=%{percent:.0%}<br>frequency=%{value}",
         "insidetextorientation": "auto",
         "labels": [
          "learning",
          "data",
          "machine",
          "ml",
          "models",
          "team",
          "technical",
          "design",
          "develop",
          "engineering",
          "development",
          "model",
          "build",
          "software",
          "product",
          "work",
          "systems",
          "solutions",
          "across",
          "business",
          "science",
          "problems",
          "teams",
          "new",
          "including",
          "collaborate",
          "code",
          "research",
          "engineers",
          "practices"
         ],
         "marker": {
          "colors": [
           "#083877",
           "#084184",
           "#084990",
           "#09529d",
           "#0f5aa3",
           "#1562a9",
           "#1c6ab0",
           "#2373b6",
           "#2c7cba",
           "#3484bf",
           "#3c8cc3",
           "#4695c8",
           "#519ccc",
           "#5ba3d0",
           "#65aad4",
           "#72b2d8",
           "#7fb9da",
           "#8cc0dd",
           "#99c7e0",
           "#a5cde3",
           "#afd1e7",
           "#b9d6ea",
           "#c3daee",
           "#cbdef1",
           "#d1e2f3",
           "#d7e6f5",
           "#ddeaf7",
           "#e4eff9",
           "#eaf3fb",
           "#f1f7fd"
          ]
         },
         "showlegend": false,
         "textposition": "outside",
         "texttemplate": "%{label}",
         "type": "pie",
         "values": [
          174,
          160,
          148,
          113,
          106,
          83,
          67,
          65,
          59,
          57,
          56,
          52,
          51,
          47,
          47,
          44,
          43,
          43,
          40,
          39,
          38,
          34,
          34,
          34,
          32,
          32,
          32,
          32,
          32,
          31
         ]
        }
       ],
       "layout": {
        "font": {
         "color": "white",
         "size": 16
        },
        "height": 600,
        "margin": {
         "t": 130
        },
        "paper_bgcolor": "#272b2e",
        "plot_bgcolor": "#272b2e",
        "template": {
         "data": {
          "bar": [
           {
            "error_x": {
             "color": "#2a3f5f"
            },
            "error_y": {
             "color": "#2a3f5f"
            },
            "marker": {
             "line": {
              "color": "#E5ECF6",
              "width": 0.5
             },
             "pattern": {
              "fillmode": "overlay",
              "size": 10,
              "solidity": 0.2
             }
            },
            "type": "bar"
           }
          ],
          "barpolar": [
           {
            "marker": {
             "line": {
              "color": "#E5ECF6",
              "width": 0.5
             },
             "pattern": {
              "fillmode": "overlay",
              "size": 10,
              "solidity": 0.2
             }
            },
            "type": "barpolar"
           }
          ],
          "carpet": [
           {
            "aaxis": {
             "endlinecolor": "#2a3f5f",
             "gridcolor": "white",
             "linecolor": "white",
             "minorgridcolor": "white",
             "startlinecolor": "#2a3f5f"
            },
            "baxis": {
             "endlinecolor": "#2a3f5f",
             "gridcolor": "white",
             "linecolor": "white",
             "minorgridcolor": "white",
             "startlinecolor": "#2a3f5f"
            },
            "type": "carpet"
           }
          ],
          "choropleth": [
           {
            "colorbar": {
             "outlinewidth": 0,
             "ticks": ""
            },
            "type": "choropleth"
           }
          ],
          "contour": [
           {
            "colorbar": {
             "outlinewidth": 0,
             "ticks": ""
            },
            "colorscale": [
             [
              0,
              "#0d0887"
             ],
             [
              0.1111111111111111,
              "#46039f"
             ],
             [
              0.2222222222222222,
              "#7201a8"
             ],
             [
              0.3333333333333333,
              "#9c179e"
             ],
             [
              0.4444444444444444,
              "#bd3786"
             ],
             [
              0.5555555555555556,
              "#d8576b"
             ],
             [
              0.6666666666666666,
              "#ed7953"
             ],
             [
              0.7777777777777778,
              "#fb9f3a"
             ],
             [
              0.8888888888888888,
              "#fdca26"
             ],
             [
              1,
              "#f0f921"
             ]
            ],
            "type": "contour"
           }
          ],
          "contourcarpet": [
           {
            "colorbar": {
             "outlinewidth": 0,
             "ticks": ""
            },
            "type": "contourcarpet"
           }
          ],
          "heatmap": [
           {
            "colorbar": {
             "outlinewidth": 0,
             "ticks": ""
            },
            "colorscale": [
             [
              0,
              "#0d0887"
             ],
             [
              0.1111111111111111,
              "#46039f"
             ],
             [
              0.2222222222222222,
              "#7201a8"
             ],
             [
              0.3333333333333333,
              "#9c179e"
             ],
             [
              0.4444444444444444,
              "#bd3786"
             ],
             [
              0.5555555555555556,
              "#d8576b"
             ],
             [
              0.6666666666666666,
              "#ed7953"
             ],
             [
              0.7777777777777778,
              "#fb9f3a"
             ],
             [
              0.8888888888888888,
              "#fdca26"
             ],
             [
              1,
              "#f0f921"
             ]
            ],
            "type": "heatmap"
           }
          ],
          "heatmapgl": [
           {
            "colorbar": {
             "outlinewidth": 0,
             "ticks": ""
            },
            "colorscale": [
             [
              0,
              "#0d0887"
             ],
             [
              0.1111111111111111,
              "#46039f"
             ],
             [
              0.2222222222222222,
              "#7201a8"
             ],
             [
              0.3333333333333333,
              "#9c179e"
             ],
             [
              0.4444444444444444,
              "#bd3786"
             ],
             [
              0.5555555555555556,
              "#d8576b"
             ],
             [
              0.6666666666666666,
              "#ed7953"
             ],
             [
              0.7777777777777778,
              "#fb9f3a"
             ],
             [
              0.8888888888888888,
              "#fdca26"
             ],
             [
              1,
              "#f0f921"
             ]
            ],
            "type": "heatmapgl"
           }
          ],
          "histogram": [
           {
            "marker": {
             "pattern": {
              "fillmode": "overlay",
              "size": 10,
              "solidity": 0.2
             }
            },
            "type": "histogram"
           }
          ],
          "histogram2d": [
           {
            "colorbar": {
             "outlinewidth": 0,
             "ticks": ""
            },
            "colorscale": [
             [
              0,
              "#0d0887"
             ],
             [
              0.1111111111111111,
              "#46039f"
             ],
             [
              0.2222222222222222,
              "#7201a8"
             ],
             [
              0.3333333333333333,
              "#9c179e"
             ],
             [
              0.4444444444444444,
              "#bd3786"
             ],
             [
              0.5555555555555556,
              "#d8576b"
             ],
             [
              0.6666666666666666,
              "#ed7953"
             ],
             [
              0.7777777777777778,
              "#fb9f3a"
             ],
             [
              0.8888888888888888,
              "#fdca26"
             ],
             [
              1,
              "#f0f921"
             ]
            ],
            "type": "histogram2d"
           }
          ],
          "histogram2dcontour": [
           {
            "colorbar": {
             "outlinewidth": 0,
             "ticks": ""
            },
            "colorscale": [
             [
              0,
              "#0d0887"
             ],
             [
              0.1111111111111111,
              "#46039f"
             ],
             [
              0.2222222222222222,
              "#7201a8"
             ],
             [
              0.3333333333333333,
              "#9c179e"
             ],
             [
              0.4444444444444444,
              "#bd3786"
             ],
             [
              0.5555555555555556,
              "#d8576b"
             ],
             [
              0.6666666666666666,
              "#ed7953"
             ],
             [
              0.7777777777777778,
              "#fb9f3a"
             ],
             [
              0.8888888888888888,
              "#fdca26"
             ],
             [
              1,
              "#f0f921"
             ]
            ],
            "type": "histogram2dcontour"
           }
          ],
          "mesh3d": [
           {
            "colorbar": {
             "outlinewidth": 0,
             "ticks": ""
            },
            "type": "mesh3d"
           }
          ],
          "parcoords": [
           {
            "line": {
             "colorbar": {
              "outlinewidth": 0,
              "ticks": ""
             }
            },
            "type": "parcoords"
           }
          ],
          "pie": [
           {
            "automargin": true,
            "type": "pie"
           }
          ],
          "scatter": [
           {
            "fillpattern": {
             "fillmode": "overlay",
             "size": 10,
             "solidity": 0.2
            },
            "type": "scatter"
           }
          ],
          "scatter3d": [
           {
            "line": {
             "colorbar": {
              "outlinewidth": 0,
              "ticks": ""
             }
            },
            "marker": {
             "colorbar": {
              "outlinewidth": 0,
              "ticks": ""
             }
            },
            "type": "scatter3d"
           }
          ],
          "scattercarpet": [
           {
            "marker": {
             "colorbar": {
              "outlinewidth": 0,
              "ticks": ""
             }
            },
            "type": "scattercarpet"
           }
          ],
          "scattergeo": [
           {
            "marker": {
             "colorbar": {
              "outlinewidth": 0,
              "ticks": ""
             }
            },
            "type": "scattergeo"
           }
          ],
          "scattergl": [
           {
            "marker": {
             "colorbar": {
              "outlinewidth": 0,
              "ticks": ""
             }
            },
            "type": "scattergl"
           }
          ],
          "scattermapbox": [
           {
            "marker": {
             "colorbar": {
              "outlinewidth": 0,
              "ticks": ""
             }
            },
            "type": "scattermapbox"
           }
          ],
          "scatterpolar": [
           {
            "marker": {
             "colorbar": {
              "outlinewidth": 0,
              "ticks": ""
             }
            },
            "type": "scatterpolar"
           }
          ],
          "scatterpolargl": [
           {
            "marker": {
             "colorbar": {
              "outlinewidth": 0,
              "ticks": ""
             }
            },
            "type": "scatterpolargl"
           }
          ],
          "scatterternary": [
           {
            "marker": {
             "colorbar": {
              "outlinewidth": 0,
              "ticks": ""
             }
            },
            "type": "scatterternary"
           }
          ],
          "surface": [
           {
            "colorbar": {
             "outlinewidth": 0,
             "ticks": ""
            },
            "colorscale": [
             [
              0,
              "#0d0887"
             ],
             [
              0.1111111111111111,
              "#46039f"
             ],
             [
              0.2222222222222222,
              "#7201a8"
             ],
             [
              0.3333333333333333,
              "#9c179e"
             ],
             [
              0.4444444444444444,
              "#bd3786"
             ],
             [
              0.5555555555555556,
              "#d8576b"
             ],
             [
              0.6666666666666666,
              "#ed7953"
             ],
             [
              0.7777777777777778,
              "#fb9f3a"
             ],
             [
              0.8888888888888888,
              "#fdca26"
             ],
             [
              1,
              "#f0f921"
             ]
            ],
            "type": "surface"
           }
          ],
          "table": [
           {
            "cells": {
             "fill": {
              "color": "#EBF0F8"
             },
             "line": {
              "color": "white"
             }
            },
            "header": {
             "fill": {
              "color": "#C8D4E3"
             },
             "line": {
              "color": "white"
             }
            },
            "type": "table"
           }
          ]
         },
         "layout": {
          "annotationdefaults": {
           "arrowcolor": "#2a3f5f",
           "arrowhead": 0,
           "arrowwidth": 1
          },
          "autotypenumbers": "strict",
          "coloraxis": {
           "colorbar": {
            "outlinewidth": 0,
            "ticks": ""
           }
          },
          "colorscale": {
           "diverging": [
            [
             0,
             "#8e0152"
            ],
            [
             0.1,
             "#c51b7d"
            ],
            [
             0.2,
             "#de77ae"
            ],
            [
             0.3,
             "#f1b6da"
            ],
            [
             0.4,
             "#fde0ef"
            ],
            [
             0.5,
             "#f7f7f7"
            ],
            [
             0.6,
             "#e6f5d0"
            ],
            [
             0.7,
             "#b8e186"
            ],
            [
             0.8,
             "#7fbc41"
            ],
            [
             0.9,
             "#4d9221"
            ],
            [
             1,
             "#276419"
            ]
           ],
           "sequential": [
            [
             0,
             "#0d0887"
            ],
            [
             0.1111111111111111,
             "#46039f"
            ],
            [
             0.2222222222222222,
             "#7201a8"
            ],
            [
             0.3333333333333333,
             "#9c179e"
            ],
            [
             0.4444444444444444,
             "#bd3786"
            ],
            [
             0.5555555555555556,
             "#d8576b"
            ],
            [
             0.6666666666666666,
             "#ed7953"
            ],
            [
             0.7777777777777778,
             "#fb9f3a"
            ],
            [
             0.8888888888888888,
             "#fdca26"
            ],
            [
             1,
             "#f0f921"
            ]
           ],
           "sequentialminus": [
            [
             0,
             "#0d0887"
            ],
            [
             0.1111111111111111,
             "#46039f"
            ],
            [
             0.2222222222222222,
             "#7201a8"
            ],
            [
             0.3333333333333333,
             "#9c179e"
            ],
            [
             0.4444444444444444,
             "#bd3786"
            ],
            [
             0.5555555555555556,
             "#d8576b"
            ],
            [
             0.6666666666666666,
             "#ed7953"
            ],
            [
             0.7777777777777778,
             "#fb9f3a"
            ],
            [
             0.8888888888888888,
             "#fdca26"
            ],
            [
             1,
             "#f0f921"
            ]
           ]
          },
          "colorway": [
           "#636efa",
           "#EF553B",
           "#00cc96",
           "#ab63fa",
           "#FFA15A",
           "#19d3f3",
           "#FF6692",
           "#B6E880",
           "#FF97FF",
           "#FECB52"
          ],
          "font": {
           "color": "#2a3f5f"
          },
          "geo": {
           "bgcolor": "white",
           "lakecolor": "white",
           "landcolor": "#E5ECF6",
           "showlakes": true,
           "showland": true,
           "subunitcolor": "white"
          },
          "hoverlabel": {
           "align": "left"
          },
          "hovermode": "closest",
          "mapbox": {
           "style": "light"
          },
          "paper_bgcolor": "white",
          "plot_bgcolor": "#E5ECF6",
          "polar": {
           "angularaxis": {
            "gridcolor": "white",
            "linecolor": "white",
            "ticks": ""
           },
           "bgcolor": "#E5ECF6",
           "radialaxis": {
            "gridcolor": "white",
            "linecolor": "white",
            "ticks": ""
           }
          },
          "scene": {
           "xaxis": {
            "backgroundcolor": "#E5ECF6",
            "gridcolor": "white",
            "gridwidth": 2,
            "linecolor": "white",
            "showbackground": true,
            "ticks": "",
            "zerolinecolor": "white"
           },
           "yaxis": {
            "backgroundcolor": "#E5ECF6",
            "gridcolor": "white",
            "gridwidth": 2,
            "linecolor": "white",
            "showbackground": true,
            "ticks": "",
            "zerolinecolor": "white"
           },
           "zaxis": {
            "backgroundcolor": "#E5ECF6",
            "gridcolor": "white",
            "gridwidth": 2,
            "linecolor": "white",
            "showbackground": true,
            "ticks": "",
            "zerolinecolor": "white"
           }
          },
          "shapedefaults": {
           "line": {
            "color": "#2a3f5f"
           }
          },
          "ternary": {
           "aaxis": {
            "gridcolor": "white",
            "linecolor": "white",
            "ticks": ""
           },
           "baxis": {
            "gridcolor": "white",
            "linecolor": "white",
            "ticks": ""
           },
           "bgcolor": "#E5ECF6",
           "caxis": {
            "gridcolor": "white",
            "linecolor": "white",
            "ticks": ""
           }
          },
          "title": {
           "x": 0.05
          },
          "xaxis": {
           "automargin": true,
           "gridcolor": "white",
           "linecolor": "white",
           "ticks": "",
           "title": {
            "standoff": 15
           },
           "zerolinecolor": "white",
           "zerolinewidth": 2
          },
          "yaxis": {
           "automargin": true,
           "gridcolor": "white",
           "linecolor": "white",
           "ticks": "",
           "title": {
            "standoff": 15
           },
           "zerolinecolor": "white",
           "zerolinewidth": 2
          }
         }
        },
        "title": {
         "font": {
          "size": 24
         },
         "pad": {
          "b": 80,
          "r": 10,
          "t": 10
         },
         "text": "Top 30 words describing<br>machine learning responsibilities",
         "x": 0.5,
         "xanchor": "center",
         "y": 0.96,
         "yanchor": "top"
        },
        "width": 600
       }
      },
      "text/html": [
       "<div>                            <div id=\"b843ea1f-e98c-41f0-a40e-8d9565241ad5\" class=\"plotly-graph-div\" style=\"height:600px; width:600px;\"></div>            <script type=\"text/javascript\">                require([\"plotly\"], function(Plotly) {                    window.PLOTLYENV=window.PLOTLYENV || {};                                    if (document.getElementById(\"b843ea1f-e98c-41f0-a40e-8d9565241ad5\")) {                    Plotly.newPlot(                        \"b843ea1f-e98c-41f0-a40e-8d9565241ad5\",                        [{\"hole\":0.4,\"hovertemplate\":\"percent=%{percent:.0%}<br>frequency=%{value}\",\"insidetextorientation\":\"auto\",\"labels\":[\"learning\",\"data\",\"machine\",\"ml\",\"models\",\"team\",\"technical\",\"design\",\"develop\",\"engineering\",\"development\",\"model\",\"build\",\"software\",\"product\",\"work\",\"systems\",\"solutions\",\"across\",\"business\",\"science\",\"problems\",\"teams\",\"new\",\"including\",\"collaborate\",\"code\",\"research\",\"engineers\",\"practices\"],\"marker\":{\"colors\":[\"#083877\",\"#084184\",\"#084990\",\"#09529d\",\"#0f5aa3\",\"#1562a9\",\"#1c6ab0\",\"#2373b6\",\"#2c7cba\",\"#3484bf\",\"#3c8cc3\",\"#4695c8\",\"#519ccc\",\"#5ba3d0\",\"#65aad4\",\"#72b2d8\",\"#7fb9da\",\"#8cc0dd\",\"#99c7e0\",\"#a5cde3\",\"#afd1e7\",\"#b9d6ea\",\"#c3daee\",\"#cbdef1\",\"#d1e2f3\",\"#d7e6f5\",\"#ddeaf7\",\"#e4eff9\",\"#eaf3fb\",\"#f1f7fd\"]},\"showlegend\":false,\"textposition\":\"outside\",\"texttemplate\":\"%{label}\",\"values\":[174,160,148,113,106,83,67,65,59,57,56,52,51,47,47,44,43,43,40,39,38,34,34,34,32,32,32,32,32,31],\"type\":\"pie\"}],                        {\"template\":{\"data\":{\"histogram2dcontour\":[{\"type\":\"histogram2dcontour\",\"colorbar\":{\"outlinewidth\":0,\"ticks\":\"\"},\"colorscale\":[[0.0,\"#0d0887\"],[0.1111111111111111,\"#46039f\"],[0.2222222222222222,\"#7201a8\"],[0.3333333333333333,\"#9c179e\"],[0.4444444444444444,\"#bd3786\"],[0.5555555555555556,\"#d8576b\"],[0.6666666666666666,\"#ed7953\"],[0.7777777777777778,\"#fb9f3a\"],[0.8888888888888888,\"#fdca26\"],[1.0,\"#f0f921\"]]}],\"choropleth\":[{\"type\":\"choropleth\",\"colorbar\":{\"outlinewidth\":0,\"ticks\":\"\"}}],\"histogram2d\":[{\"type\":\"histogram2d\",\"colorbar\":{\"outlinewidth\":0,\"ticks\":\"\"},\"colorscale\":[[0.0,\"#0d0887\"],[0.1111111111111111,\"#46039f\"],[0.2222222222222222,\"#7201a8\"],[0.3333333333333333,\"#9c179e\"],[0.4444444444444444,\"#bd3786\"],[0.5555555555555556,\"#d8576b\"],[0.6666666666666666,\"#ed7953\"],[0.7777777777777778,\"#fb9f3a\"],[0.8888888888888888,\"#fdca26\"],[1.0,\"#f0f921\"]]}],\"heatmap\":[{\"type\":\"heatmap\",\"colorbar\":{\"outlinewidth\":0,\"ticks\":\"\"},\"colorscale\":[[0.0,\"#0d0887\"],[0.1111111111111111,\"#46039f\"],[0.2222222222222222,\"#7201a8\"],[0.3333333333333333,\"#9c179e\"],[0.4444444444444444,\"#bd3786\"],[0.5555555555555556,\"#d8576b\"],[0.6666666666666666,\"#ed7953\"],[0.7777777777777778,\"#fb9f3a\"],[0.8888888888888888,\"#fdca26\"],[1.0,\"#f0f921\"]]}],\"heatmapgl\":[{\"type\":\"heatmapgl\",\"colorbar\":{\"outlinewidth\":0,\"ticks\":\"\"},\"colorscale\":[[0.0,\"#0d0887\"],[0.1111111111111111,\"#46039f\"],[0.2222222222222222,\"#7201a8\"],[0.3333333333333333,\"#9c179e\"],[0.4444444444444444,\"#bd3786\"],[0.5555555555555556,\"#d8576b\"],[0.6666666666666666,\"#ed7953\"],[0.7777777777777778,\"#fb9f3a\"],[0.8888888888888888,\"#fdca26\"],[1.0,\"#f0f921\"]]}],\"contourcarpet\":[{\"type\":\"contourcarpet\",\"colorbar\":{\"outlinewidth\":0,\"ticks\":\"\"}}],\"contour\":[{\"type\":\"contour\",\"colorbar\":{\"outlinewidth\":0,\"ticks\":\"\"},\"colorscale\":[[0.0,\"#0d0887\"],[0.1111111111111111,\"#46039f\"],[0.2222222222222222,\"#7201a8\"],[0.3333333333333333,\"#9c179e\"],[0.4444444444444444,\"#bd3786\"],[0.5555555555555556,\"#d8576b\"],[0.6666666666666666,\"#ed7953\"],[0.7777777777777778,\"#fb9f3a\"],[0.8888888888888888,\"#fdca26\"],[1.0,\"#f0f921\"]]}],\"surface\":[{\"type\":\"surface\",\"colorbar\":{\"outlinewidth\":0,\"ticks\":\"\"},\"colorscale\":[[0.0,\"#0d0887\"],[0.1111111111111111,\"#46039f\"],[0.2222222222222222,\"#7201a8\"],[0.3333333333333333,\"#9c179e\"],[0.4444444444444444,\"#bd3786\"],[0.5555555555555556,\"#d8576b\"],[0.6666666666666666,\"#ed7953\"],[0.7777777777777778,\"#fb9f3a\"],[0.8888888888888888,\"#fdca26\"],[1.0,\"#f0f921\"]]}],\"mesh3d\":[{\"type\":\"mesh3d\",\"colorbar\":{\"outlinewidth\":0,\"ticks\":\"\"}}],\"scatter\":[{\"fillpattern\":{\"fillmode\":\"overlay\",\"size\":10,\"solidity\":0.2},\"type\":\"scatter\"}],\"parcoords\":[{\"type\":\"parcoords\",\"line\":{\"colorbar\":{\"outlinewidth\":0,\"ticks\":\"\"}}}],\"scatterpolargl\":[{\"type\":\"scatterpolargl\",\"marker\":{\"colorbar\":{\"outlinewidth\":0,\"ticks\":\"\"}}}],\"bar\":[{\"error_x\":{\"color\":\"#2a3f5f\"},\"error_y\":{\"color\":\"#2a3f5f\"},\"marker\":{\"line\":{\"color\":\"#E5ECF6\",\"width\":0.5},\"pattern\":{\"fillmode\":\"overlay\",\"size\":10,\"solidity\":0.2}},\"type\":\"bar\"}],\"scattergeo\":[{\"type\":\"scattergeo\",\"marker\":{\"colorbar\":{\"outlinewidth\":0,\"ticks\":\"\"}}}],\"scatterpolar\":[{\"type\":\"scatterpolar\",\"marker\":{\"colorbar\":{\"outlinewidth\":0,\"ticks\":\"\"}}}],\"histogram\":[{\"marker\":{\"pattern\":{\"fillmode\":\"overlay\",\"size\":10,\"solidity\":0.2}},\"type\":\"histogram\"}],\"scattergl\":[{\"type\":\"scattergl\",\"marker\":{\"colorbar\":{\"outlinewidth\":0,\"ticks\":\"\"}}}],\"scatter3d\":[{\"type\":\"scatter3d\",\"line\":{\"colorbar\":{\"outlinewidth\":0,\"ticks\":\"\"}},\"marker\":{\"colorbar\":{\"outlinewidth\":0,\"ticks\":\"\"}}}],\"scattermapbox\":[{\"type\":\"scattermapbox\",\"marker\":{\"colorbar\":{\"outlinewidth\":0,\"ticks\":\"\"}}}],\"scatterternary\":[{\"type\":\"scatterternary\",\"marker\":{\"colorbar\":{\"outlinewidth\":0,\"ticks\":\"\"}}}],\"scattercarpet\":[{\"type\":\"scattercarpet\",\"marker\":{\"colorbar\":{\"outlinewidth\":0,\"ticks\":\"\"}}}],\"carpet\":[{\"aaxis\":{\"endlinecolor\":\"#2a3f5f\",\"gridcolor\":\"white\",\"linecolor\":\"white\",\"minorgridcolor\":\"white\",\"startlinecolor\":\"#2a3f5f\"},\"baxis\":{\"endlinecolor\":\"#2a3f5f\",\"gridcolor\":\"white\",\"linecolor\":\"white\",\"minorgridcolor\":\"white\",\"startlinecolor\":\"#2a3f5f\"},\"type\":\"carpet\"}],\"table\":[{\"cells\":{\"fill\":{\"color\":\"#EBF0F8\"},\"line\":{\"color\":\"white\"}},\"header\":{\"fill\":{\"color\":\"#C8D4E3\"},\"line\":{\"color\":\"white\"}},\"type\":\"table\"}],\"barpolar\":[{\"marker\":{\"line\":{\"color\":\"#E5ECF6\",\"width\":0.5},\"pattern\":{\"fillmode\":\"overlay\",\"size\":10,\"solidity\":0.2}},\"type\":\"barpolar\"}],\"pie\":[{\"automargin\":true,\"type\":\"pie\"}]},\"layout\":{\"autotypenumbers\":\"strict\",\"colorway\":[\"#636efa\",\"#EF553B\",\"#00cc96\",\"#ab63fa\",\"#FFA15A\",\"#19d3f3\",\"#FF6692\",\"#B6E880\",\"#FF97FF\",\"#FECB52\"],\"font\":{\"color\":\"#2a3f5f\"},\"hovermode\":\"closest\",\"hoverlabel\":{\"align\":\"left\"},\"paper_bgcolor\":\"white\",\"plot_bgcolor\":\"#E5ECF6\",\"polar\":{\"bgcolor\":\"#E5ECF6\",\"angularaxis\":{\"gridcolor\":\"white\",\"linecolor\":\"white\",\"ticks\":\"\"},\"radialaxis\":{\"gridcolor\":\"white\",\"linecolor\":\"white\",\"ticks\":\"\"}},\"ternary\":{\"bgcolor\":\"#E5ECF6\",\"aaxis\":{\"gridcolor\":\"white\",\"linecolor\":\"white\",\"ticks\":\"\"},\"baxis\":{\"gridcolor\":\"white\",\"linecolor\":\"white\",\"ticks\":\"\"},\"caxis\":{\"gridcolor\":\"white\",\"linecolor\":\"white\",\"ticks\":\"\"}},\"coloraxis\":{\"colorbar\":{\"outlinewidth\":0,\"ticks\":\"\"}},\"colorscale\":{\"sequential\":[[0.0,\"#0d0887\"],[0.1111111111111111,\"#46039f\"],[0.2222222222222222,\"#7201a8\"],[0.3333333333333333,\"#9c179e\"],[0.4444444444444444,\"#bd3786\"],[0.5555555555555556,\"#d8576b\"],[0.6666666666666666,\"#ed7953\"],[0.7777777777777778,\"#fb9f3a\"],[0.8888888888888888,\"#fdca26\"],[1.0,\"#f0f921\"]],\"sequentialminus\":[[0.0,\"#0d0887\"],[0.1111111111111111,\"#46039f\"],[0.2222222222222222,\"#7201a8\"],[0.3333333333333333,\"#9c179e\"],[0.4444444444444444,\"#bd3786\"],[0.5555555555555556,\"#d8576b\"],[0.6666666666666666,\"#ed7953\"],[0.7777777777777778,\"#fb9f3a\"],[0.8888888888888888,\"#fdca26\"],[1.0,\"#f0f921\"]],\"diverging\":[[0,\"#8e0152\"],[0.1,\"#c51b7d\"],[0.2,\"#de77ae\"],[0.3,\"#f1b6da\"],[0.4,\"#fde0ef\"],[0.5,\"#f7f7f7\"],[0.6,\"#e6f5d0\"],[0.7,\"#b8e186\"],[0.8,\"#7fbc41\"],[0.9,\"#4d9221\"],[1,\"#276419\"]]},\"xaxis\":{\"gridcolor\":\"white\",\"linecolor\":\"white\",\"ticks\":\"\",\"title\":{\"standoff\":15},\"zerolinecolor\":\"white\",\"automargin\":true,\"zerolinewidth\":2},\"yaxis\":{\"gridcolor\":\"white\",\"linecolor\":\"white\",\"ticks\":\"\",\"title\":{\"standoff\":15},\"zerolinecolor\":\"white\",\"automargin\":true,\"zerolinewidth\":2},\"scene\":{\"xaxis\":{\"backgroundcolor\":\"#E5ECF6\",\"gridcolor\":\"white\",\"linecolor\":\"white\",\"showbackground\":true,\"ticks\":\"\",\"zerolinecolor\":\"white\",\"gridwidth\":2},\"yaxis\":{\"backgroundcolor\":\"#E5ECF6\",\"gridcolor\":\"white\",\"linecolor\":\"white\",\"showbackground\":true,\"ticks\":\"\",\"zerolinecolor\":\"white\",\"gridwidth\":2},\"zaxis\":{\"backgroundcolor\":\"#E5ECF6\",\"gridcolor\":\"white\",\"linecolor\":\"white\",\"showbackground\":true,\"ticks\":\"\",\"zerolinecolor\":\"white\",\"gridwidth\":2}},\"shapedefaults\":{\"line\":{\"color\":\"#2a3f5f\"}},\"annotationdefaults\":{\"arrowcolor\":\"#2a3f5f\",\"arrowhead\":0,\"arrowwidth\":1},\"geo\":{\"bgcolor\":\"white\",\"landcolor\":\"#E5ECF6\",\"subunitcolor\":\"white\",\"showland\":true,\"showlakes\":true,\"lakecolor\":\"white\"},\"title\":{\"x\":0.05},\"mapbox\":{\"style\":\"light\"}}},\"title\":{\"pad\":{\"r\":10,\"t\":10,\"b\":80},\"font\":{\"size\":24},\"text\":\"Top 30 words describing<br>machine learning responsibilities\",\"x\":0.5,\"y\":0.96,\"xanchor\":\"center\",\"yanchor\":\"top\"},\"margin\":{\"t\":130},\"font\":{\"size\":16,\"color\":\"white\"},\"width\":600,\"height\":600,\"plot_bgcolor\":\"#272b2e\",\"paper_bgcolor\":\"#272b2e\"},                        {\"responsive\": true}                    ).then(function(){\n",
       "                            \n",
       "var gd = document.getElementById('b843ea1f-e98c-41f0-a40e-8d9565241ad5');\n",
       "var x = new MutationObserver(function (mutations, observer) {{\n",
       "        var display = window.getComputedStyle(gd).display;\n",
       "        if (!display || display === 'none') {{\n",
       "            console.log([gd, 'removed!']);\n",
       "            Plotly.purge(gd);\n",
       "            observer.disconnect();\n",
       "        }}\n",
       "}});\n",
       "\n",
       "// Listen for the removal of the full notebook cells\n",
       "var notebookContainer = gd.closest('#notebook-container');\n",
       "if (notebookContainer) {{\n",
       "    x.observe(notebookContainer, {childList: true});\n",
       "}}\n",
       "\n",
       "// Listen for the clearing of the current output cell\n",
       "var outputEl = gd.closest('.output');\n",
       "if (outputEl) {{\n",
       "    x.observe(outputEl, {childList: true});\n",
       "}}\n",
       "\n",
       "                        })                };                });            </script>        </div>"
      ]
     },
     "metadata": {},
     "output_type": "display_data"
    }
   ],
   "source": [
    "# create unique list of job types for dropdown menu\n",
    "job_types = df_word_count_res['job_type'].unique().tolist()\n",
    "\n",
    "from plotly.subplots import make_subplots\n",
    "pal = list(sns.color_palette(palette='Blues_r', n_colors=30).as_hex())\n",
    "\n",
    "# add the pie chart to the figure\n",
    "fig = go.Figure(go.Pie(labels=df_word_count_res[df_word_count_res['job_type'] == job_types[2]]['word'],\n",
    "                     values=df_word_count_res[df_word_count_res['job_type'] == job_types[2]]['frequency'],\n",
    "                     textposition='outside', \n",
    "                     hole=.4,\n",
    "                     insidetextorientation='auto',\n",
    "                     hovertemplate='percent=%{percent:.0%}<br>frequency=%{value}',\n",
    "                     marker=dict(colors=pal),\n",
    "                     showlegend=False,\n",
    "                     #title='Data Analysis',\n",
    "                     texttemplate=\"%{label}\"))\n",
    "\n",
    "# set the layout options for the entire figure\n",
    "fig.update_layout(\n",
    "    title={\n",
    "        'text': f\"Top 30 words describing<br>machine learning responsibilities\",\n",
    "        'x': 0.50,\n",
    "        'y': 0.96,\n",
    "        'xanchor': 'center',\n",
    "        'yanchor': 'top',\n",
    "        'pad': {'r': 10, 't': 10, 'b':80},\n",
    "        'font': {'size': 24}\n",
    "    },\n",
    "    width=600,\n",
    "    height=600,\n",
    "    margin=dict(t=130),\n",
    "    plot_bgcolor = \"#272b2e\",\n",
    "    paper_bgcolor = \"#272b2e\",\n",
    "    font=dict(size = 16, color = 'white')\n",
    ")\n",
    "\n",
    "fig.show()\n",
    "fig.write_html('../images/donut_chart3.html')\n"
   ]
  },
  {
   "cell_type": "code",
   "execution_count": 174,
   "metadata": {},
   "outputs": [
    {
     "name": "stderr",
     "output_type": "stream",
     "text": [
      "/var/folders/79/jdv69xcs22z7cyxln5rsbzzh0000gn/T/ipykernel_11963/3206138413.py:8: SettingWithCopyWarning:\n",
      "\n",
      "\n",
      "A value is trying to be set on a copy of a slice from a DataFrame.\n",
      "Try using .loc[row_indexer,col_indexer] = value instead\n",
      "\n",
      "See the caveats in the documentation: https://pandas.pydata.org/pandas-docs/stable/user_guide/indexing.html#returning-a-view-versus-a-copy\n",
      "\n"
     ]
    },
    {
     "data": {
      "application/vnd.plotly.v1+json": {
       "config": {
        "plotlyServerURL": "https://plot.ly"
       },
       "data": [
        {
         "link": {
          "color": [
           "#99CAFF",
           "#99CAFF",
           "#99CAFF",
           "#AECE6D",
           "#AECE6D",
           "#AECE6D"
          ],
          "source": [
           2,
           3,
           4,
           2,
           3,
           4
          ],
          "target": [
           0,
           0,
           0,
           1,
           1,
           1
          ],
          "value": [
           24,
           34,
           39,
           26,
           16,
           11
          ]
         },
         "node": {
          "color": [
           "#6F902F",
           "#6F902F",
           "#3A6194",
           "#3A6194",
           "#3A6194"
          ],
          "label": [
           "Not remote",
           "Remote",
           "data_analysis",
           "data_science",
           "machine_learning"
          ],
          "pad": 15,
          "thickness": 20
         },
         "type": "sankey"
        }
       ],
       "layout": {
        "font": {
         "color": "white",
         "size": 14
        },
        "height": 550,
        "margin": {
         "b": 25,
         "l": 25,
         "r": 25,
         "t": 85
        },
        "paper_bgcolor": "#272b2e",
        "plot_bgcolor": "#272b2e",
        "template": {
         "data": {
          "bar": [
           {
            "error_x": {
             "color": "#2a3f5f"
            },
            "error_y": {
             "color": "#2a3f5f"
            },
            "marker": {
             "line": {
              "color": "#E5ECF6",
              "width": 0.5
             },
             "pattern": {
              "fillmode": "overlay",
              "size": 10,
              "solidity": 0.2
             }
            },
            "type": "bar"
           }
          ],
          "barpolar": [
           {
            "marker": {
             "line": {
              "color": "#E5ECF6",
              "width": 0.5
             },
             "pattern": {
              "fillmode": "overlay",
              "size": 10,
              "solidity": 0.2
             }
            },
            "type": "barpolar"
           }
          ],
          "carpet": [
           {
            "aaxis": {
             "endlinecolor": "#2a3f5f",
             "gridcolor": "white",
             "linecolor": "white",
             "minorgridcolor": "white",
             "startlinecolor": "#2a3f5f"
            },
            "baxis": {
             "endlinecolor": "#2a3f5f",
             "gridcolor": "white",
             "linecolor": "white",
             "minorgridcolor": "white",
             "startlinecolor": "#2a3f5f"
            },
            "type": "carpet"
           }
          ],
          "choropleth": [
           {
            "colorbar": {
             "outlinewidth": 0,
             "ticks": ""
            },
            "type": "choropleth"
           }
          ],
          "contour": [
           {
            "colorbar": {
             "outlinewidth": 0,
             "ticks": ""
            },
            "colorscale": [
             [
              0,
              "#0d0887"
             ],
             [
              0.1111111111111111,
              "#46039f"
             ],
             [
              0.2222222222222222,
              "#7201a8"
             ],
             [
              0.3333333333333333,
              "#9c179e"
             ],
             [
              0.4444444444444444,
              "#bd3786"
             ],
             [
              0.5555555555555556,
              "#d8576b"
             ],
             [
              0.6666666666666666,
              "#ed7953"
             ],
             [
              0.7777777777777778,
              "#fb9f3a"
             ],
             [
              0.8888888888888888,
              "#fdca26"
             ],
             [
              1,
              "#f0f921"
             ]
            ],
            "type": "contour"
           }
          ],
          "contourcarpet": [
           {
            "colorbar": {
             "outlinewidth": 0,
             "ticks": ""
            },
            "type": "contourcarpet"
           }
          ],
          "heatmap": [
           {
            "colorbar": {
             "outlinewidth": 0,
             "ticks": ""
            },
            "colorscale": [
             [
              0,
              "#0d0887"
             ],
             [
              0.1111111111111111,
              "#46039f"
             ],
             [
              0.2222222222222222,
              "#7201a8"
             ],
             [
              0.3333333333333333,
              "#9c179e"
             ],
             [
              0.4444444444444444,
              "#bd3786"
             ],
             [
              0.5555555555555556,
              "#d8576b"
             ],
             [
              0.6666666666666666,
              "#ed7953"
             ],
             [
              0.7777777777777778,
              "#fb9f3a"
             ],
             [
              0.8888888888888888,
              "#fdca26"
             ],
             [
              1,
              "#f0f921"
             ]
            ],
            "type": "heatmap"
           }
          ],
          "heatmapgl": [
           {
            "colorbar": {
             "outlinewidth": 0,
             "ticks": ""
            },
            "colorscale": [
             [
              0,
              "#0d0887"
             ],
             [
              0.1111111111111111,
              "#46039f"
             ],
             [
              0.2222222222222222,
              "#7201a8"
             ],
             [
              0.3333333333333333,
              "#9c179e"
             ],
             [
              0.4444444444444444,
              "#bd3786"
             ],
             [
              0.5555555555555556,
              "#d8576b"
             ],
             [
              0.6666666666666666,
              "#ed7953"
             ],
             [
              0.7777777777777778,
              "#fb9f3a"
             ],
             [
              0.8888888888888888,
              "#fdca26"
             ],
             [
              1,
              "#f0f921"
             ]
            ],
            "type": "heatmapgl"
           }
          ],
          "histogram": [
           {
            "marker": {
             "pattern": {
              "fillmode": "overlay",
              "size": 10,
              "solidity": 0.2
             }
            },
            "type": "histogram"
           }
          ],
          "histogram2d": [
           {
            "colorbar": {
             "outlinewidth": 0,
             "ticks": ""
            },
            "colorscale": [
             [
              0,
              "#0d0887"
             ],
             [
              0.1111111111111111,
              "#46039f"
             ],
             [
              0.2222222222222222,
              "#7201a8"
             ],
             [
              0.3333333333333333,
              "#9c179e"
             ],
             [
              0.4444444444444444,
              "#bd3786"
             ],
             [
              0.5555555555555556,
              "#d8576b"
             ],
             [
              0.6666666666666666,
              "#ed7953"
             ],
             [
              0.7777777777777778,
              "#fb9f3a"
             ],
             [
              0.8888888888888888,
              "#fdca26"
             ],
             [
              1,
              "#f0f921"
             ]
            ],
            "type": "histogram2d"
           }
          ],
          "histogram2dcontour": [
           {
            "colorbar": {
             "outlinewidth": 0,
             "ticks": ""
            },
            "colorscale": [
             [
              0,
              "#0d0887"
             ],
             [
              0.1111111111111111,
              "#46039f"
             ],
             [
              0.2222222222222222,
              "#7201a8"
             ],
             [
              0.3333333333333333,
              "#9c179e"
             ],
             [
              0.4444444444444444,
              "#bd3786"
             ],
             [
              0.5555555555555556,
              "#d8576b"
             ],
             [
              0.6666666666666666,
              "#ed7953"
             ],
             [
              0.7777777777777778,
              "#fb9f3a"
             ],
             [
              0.8888888888888888,
              "#fdca26"
             ],
             [
              1,
              "#f0f921"
             ]
            ],
            "type": "histogram2dcontour"
           }
          ],
          "mesh3d": [
           {
            "colorbar": {
             "outlinewidth": 0,
             "ticks": ""
            },
            "type": "mesh3d"
           }
          ],
          "parcoords": [
           {
            "line": {
             "colorbar": {
              "outlinewidth": 0,
              "ticks": ""
             }
            },
            "type": "parcoords"
           }
          ],
          "pie": [
           {
            "automargin": true,
            "type": "pie"
           }
          ],
          "scatter": [
           {
            "fillpattern": {
             "fillmode": "overlay",
             "size": 10,
             "solidity": 0.2
            },
            "type": "scatter"
           }
          ],
          "scatter3d": [
           {
            "line": {
             "colorbar": {
              "outlinewidth": 0,
              "ticks": ""
             }
            },
            "marker": {
             "colorbar": {
              "outlinewidth": 0,
              "ticks": ""
             }
            },
            "type": "scatter3d"
           }
          ],
          "scattercarpet": [
           {
            "marker": {
             "colorbar": {
              "outlinewidth": 0,
              "ticks": ""
             }
            },
            "type": "scattercarpet"
           }
          ],
          "scattergeo": [
           {
            "marker": {
             "colorbar": {
              "outlinewidth": 0,
              "ticks": ""
             }
            },
            "type": "scattergeo"
           }
          ],
          "scattergl": [
           {
            "marker": {
             "colorbar": {
              "outlinewidth": 0,
              "ticks": ""
             }
            },
            "type": "scattergl"
           }
          ],
          "scattermapbox": [
           {
            "marker": {
             "colorbar": {
              "outlinewidth": 0,
              "ticks": ""
             }
            },
            "type": "scattermapbox"
           }
          ],
          "scatterpolar": [
           {
            "marker": {
             "colorbar": {
              "outlinewidth": 0,
              "ticks": ""
             }
            },
            "type": "scatterpolar"
           }
          ],
          "scatterpolargl": [
           {
            "marker": {
             "colorbar": {
              "outlinewidth": 0,
              "ticks": ""
             }
            },
            "type": "scatterpolargl"
           }
          ],
          "scatterternary": [
           {
            "marker": {
             "colorbar": {
              "outlinewidth": 0,
              "ticks": ""
             }
            },
            "type": "scatterternary"
           }
          ],
          "surface": [
           {
            "colorbar": {
             "outlinewidth": 0,
             "ticks": ""
            },
            "colorscale": [
             [
              0,
              "#0d0887"
             ],
             [
              0.1111111111111111,
              "#46039f"
             ],
             [
              0.2222222222222222,
              "#7201a8"
             ],
             [
              0.3333333333333333,
              "#9c179e"
             ],
             [
              0.4444444444444444,
              "#bd3786"
             ],
             [
              0.5555555555555556,
              "#d8576b"
             ],
             [
              0.6666666666666666,
              "#ed7953"
             ],
             [
              0.7777777777777778,
              "#fb9f3a"
             ],
             [
              0.8888888888888888,
              "#fdca26"
             ],
             [
              1,
              "#f0f921"
             ]
            ],
            "type": "surface"
           }
          ],
          "table": [
           {
            "cells": {
             "fill": {
              "color": "#EBF0F8"
             },
             "line": {
              "color": "white"
             }
            },
            "header": {
             "fill": {
              "color": "#C8D4E3"
             },
             "line": {
              "color": "white"
             }
            },
            "type": "table"
           }
          ]
         },
         "layout": {
          "annotationdefaults": {
           "arrowcolor": "#2a3f5f",
           "arrowhead": 0,
           "arrowwidth": 1
          },
          "autotypenumbers": "strict",
          "coloraxis": {
           "colorbar": {
            "outlinewidth": 0,
            "ticks": ""
           }
          },
          "colorscale": {
           "diverging": [
            [
             0,
             "#8e0152"
            ],
            [
             0.1,
             "#c51b7d"
            ],
            [
             0.2,
             "#de77ae"
            ],
            [
             0.3,
             "#f1b6da"
            ],
            [
             0.4,
             "#fde0ef"
            ],
            [
             0.5,
             "#f7f7f7"
            ],
            [
             0.6,
             "#e6f5d0"
            ],
            [
             0.7,
             "#b8e186"
            ],
            [
             0.8,
             "#7fbc41"
            ],
            [
             0.9,
             "#4d9221"
            ],
            [
             1,
             "#276419"
            ]
           ],
           "sequential": [
            [
             0,
             "#0d0887"
            ],
            [
             0.1111111111111111,
             "#46039f"
            ],
            [
             0.2222222222222222,
             "#7201a8"
            ],
            [
             0.3333333333333333,
             "#9c179e"
            ],
            [
             0.4444444444444444,
             "#bd3786"
            ],
            [
             0.5555555555555556,
             "#d8576b"
            ],
            [
             0.6666666666666666,
             "#ed7953"
            ],
            [
             0.7777777777777778,
             "#fb9f3a"
            ],
            [
             0.8888888888888888,
             "#fdca26"
            ],
            [
             1,
             "#f0f921"
            ]
           ],
           "sequentialminus": [
            [
             0,
             "#0d0887"
            ],
            [
             0.1111111111111111,
             "#46039f"
            ],
            [
             0.2222222222222222,
             "#7201a8"
            ],
            [
             0.3333333333333333,
             "#9c179e"
            ],
            [
             0.4444444444444444,
             "#bd3786"
            ],
            [
             0.5555555555555556,
             "#d8576b"
            ],
            [
             0.6666666666666666,
             "#ed7953"
            ],
            [
             0.7777777777777778,
             "#fb9f3a"
            ],
            [
             0.8888888888888888,
             "#fdca26"
            ],
            [
             1,
             "#f0f921"
            ]
           ]
          },
          "colorway": [
           "#636efa",
           "#EF553B",
           "#00cc96",
           "#ab63fa",
           "#FFA15A",
           "#19d3f3",
           "#FF6692",
           "#B6E880",
           "#FF97FF",
           "#FECB52"
          ],
          "font": {
           "color": "#2a3f5f"
          },
          "geo": {
           "bgcolor": "white",
           "lakecolor": "white",
           "landcolor": "#E5ECF6",
           "showlakes": true,
           "showland": true,
           "subunitcolor": "white"
          },
          "hoverlabel": {
           "align": "left"
          },
          "hovermode": "closest",
          "mapbox": {
           "style": "light"
          },
          "paper_bgcolor": "white",
          "plot_bgcolor": "#E5ECF6",
          "polar": {
           "angularaxis": {
            "gridcolor": "white",
            "linecolor": "white",
            "ticks": ""
           },
           "bgcolor": "#E5ECF6",
           "radialaxis": {
            "gridcolor": "white",
            "linecolor": "white",
            "ticks": ""
           }
          },
          "scene": {
           "xaxis": {
            "backgroundcolor": "#E5ECF6",
            "gridcolor": "white",
            "gridwidth": 2,
            "linecolor": "white",
            "showbackground": true,
            "ticks": "",
            "zerolinecolor": "white"
           },
           "yaxis": {
            "backgroundcolor": "#E5ECF6",
            "gridcolor": "white",
            "gridwidth": 2,
            "linecolor": "white",
            "showbackground": true,
            "ticks": "",
            "zerolinecolor": "white"
           },
           "zaxis": {
            "backgroundcolor": "#E5ECF6",
            "gridcolor": "white",
            "gridwidth": 2,
            "linecolor": "white",
            "showbackground": true,
            "ticks": "",
            "zerolinecolor": "white"
           }
          },
          "shapedefaults": {
           "line": {
            "color": "#2a3f5f"
           }
          },
          "ternary": {
           "aaxis": {
            "gridcolor": "white",
            "linecolor": "white",
            "ticks": ""
           },
           "baxis": {
            "gridcolor": "white",
            "linecolor": "white",
            "ticks": ""
           },
           "bgcolor": "#E5ECF6",
           "caxis": {
            "gridcolor": "white",
            "linecolor": "white",
            "ticks": ""
           }
          },
          "title": {
           "x": 0.05
          },
          "xaxis": {
           "automargin": true,
           "gridcolor": "white",
           "linecolor": "white",
           "ticks": "",
           "title": {
            "standoff": 15
           },
           "zerolinecolor": "white",
           "zerolinewidth": 2
          },
          "yaxis": {
           "automargin": true,
           "gridcolor": "white",
           "linecolor": "white",
           "ticks": "",
           "title": {
            "standoff": 15
           },
           "zerolinecolor": "white",
           "zerolinewidth": 2
          }
         }
        },
        "title": {
         "font": {
          "color": "white",
          "size": 20
         },
         "pad": {
          "r": 10,
          "t": 10
         },
         "text": "Distribution of remote work across job titles<br>in data analysis, data science and machine learning",
         "x": 0.5,
         "xanchor": "center",
         "y": 0.96,
         "yanchor": "top"
        },
        "width": 700
       }
      },
      "text/html": [
       "<div>                            <div id=\"05a67cbe-40f1-47d0-8dc8-0660345214a4\" class=\"plotly-graph-div\" style=\"height:550px; width:700px;\"></div>            <script type=\"text/javascript\">                require([\"plotly\"], function(Plotly) {                    window.PLOTLYENV=window.PLOTLYENV || {};                                    if (document.getElementById(\"05a67cbe-40f1-47d0-8dc8-0660345214a4\")) {                    Plotly.newPlot(                        \"05a67cbe-40f1-47d0-8dc8-0660345214a4\",                        [{\"link\":{\"color\":[\"#99CAFF\",\"#99CAFF\",\"#99CAFF\",\"#AECE6D\",\"#AECE6D\",\"#AECE6D\"],\"source\":[2,3,4,2,3,4],\"target\":[0,0,0,1,1,1],\"value\":[24,34,39,26,16,11]},\"node\":{\"color\":[\"#6F902F\",\"#6F902F\",\"#3A6194\",\"#3A6194\",\"#3A6194\"],\"label\":[\"Not remote\",\"Remote\",\"data_analysis\",\"data_science\",\"machine_learning\"],\"pad\":15,\"thickness\":20},\"type\":\"sankey\"}],                        {\"template\":{\"data\":{\"histogram2dcontour\":[{\"type\":\"histogram2dcontour\",\"colorbar\":{\"outlinewidth\":0,\"ticks\":\"\"},\"colorscale\":[[0.0,\"#0d0887\"],[0.1111111111111111,\"#46039f\"],[0.2222222222222222,\"#7201a8\"],[0.3333333333333333,\"#9c179e\"],[0.4444444444444444,\"#bd3786\"],[0.5555555555555556,\"#d8576b\"],[0.6666666666666666,\"#ed7953\"],[0.7777777777777778,\"#fb9f3a\"],[0.8888888888888888,\"#fdca26\"],[1.0,\"#f0f921\"]]}],\"choropleth\":[{\"type\":\"choropleth\",\"colorbar\":{\"outlinewidth\":0,\"ticks\":\"\"}}],\"histogram2d\":[{\"type\":\"histogram2d\",\"colorbar\":{\"outlinewidth\":0,\"ticks\":\"\"},\"colorscale\":[[0.0,\"#0d0887\"],[0.1111111111111111,\"#46039f\"],[0.2222222222222222,\"#7201a8\"],[0.3333333333333333,\"#9c179e\"],[0.4444444444444444,\"#bd3786\"],[0.5555555555555556,\"#d8576b\"],[0.6666666666666666,\"#ed7953\"],[0.7777777777777778,\"#fb9f3a\"],[0.8888888888888888,\"#fdca26\"],[1.0,\"#f0f921\"]]}],\"heatmap\":[{\"type\":\"heatmap\",\"colorbar\":{\"outlinewidth\":0,\"ticks\":\"\"},\"colorscale\":[[0.0,\"#0d0887\"],[0.1111111111111111,\"#46039f\"],[0.2222222222222222,\"#7201a8\"],[0.3333333333333333,\"#9c179e\"],[0.4444444444444444,\"#bd3786\"],[0.5555555555555556,\"#d8576b\"],[0.6666666666666666,\"#ed7953\"],[0.7777777777777778,\"#fb9f3a\"],[0.8888888888888888,\"#fdca26\"],[1.0,\"#f0f921\"]]}],\"heatmapgl\":[{\"type\":\"heatmapgl\",\"colorbar\":{\"outlinewidth\":0,\"ticks\":\"\"},\"colorscale\":[[0.0,\"#0d0887\"],[0.1111111111111111,\"#46039f\"],[0.2222222222222222,\"#7201a8\"],[0.3333333333333333,\"#9c179e\"],[0.4444444444444444,\"#bd3786\"],[0.5555555555555556,\"#d8576b\"],[0.6666666666666666,\"#ed7953\"],[0.7777777777777778,\"#fb9f3a\"],[0.8888888888888888,\"#fdca26\"],[1.0,\"#f0f921\"]]}],\"contourcarpet\":[{\"type\":\"contourcarpet\",\"colorbar\":{\"outlinewidth\":0,\"ticks\":\"\"}}],\"contour\":[{\"type\":\"contour\",\"colorbar\":{\"outlinewidth\":0,\"ticks\":\"\"},\"colorscale\":[[0.0,\"#0d0887\"],[0.1111111111111111,\"#46039f\"],[0.2222222222222222,\"#7201a8\"],[0.3333333333333333,\"#9c179e\"],[0.4444444444444444,\"#bd3786\"],[0.5555555555555556,\"#d8576b\"],[0.6666666666666666,\"#ed7953\"],[0.7777777777777778,\"#fb9f3a\"],[0.8888888888888888,\"#fdca26\"],[1.0,\"#f0f921\"]]}],\"surface\":[{\"type\":\"surface\",\"colorbar\":{\"outlinewidth\":0,\"ticks\":\"\"},\"colorscale\":[[0.0,\"#0d0887\"],[0.1111111111111111,\"#46039f\"],[0.2222222222222222,\"#7201a8\"],[0.3333333333333333,\"#9c179e\"],[0.4444444444444444,\"#bd3786\"],[0.5555555555555556,\"#d8576b\"],[0.6666666666666666,\"#ed7953\"],[0.7777777777777778,\"#fb9f3a\"],[0.8888888888888888,\"#fdca26\"],[1.0,\"#f0f921\"]]}],\"mesh3d\":[{\"type\":\"mesh3d\",\"colorbar\":{\"outlinewidth\":0,\"ticks\":\"\"}}],\"scatter\":[{\"fillpattern\":{\"fillmode\":\"overlay\",\"size\":10,\"solidity\":0.2},\"type\":\"scatter\"}],\"parcoords\":[{\"type\":\"parcoords\",\"line\":{\"colorbar\":{\"outlinewidth\":0,\"ticks\":\"\"}}}],\"scatterpolargl\":[{\"type\":\"scatterpolargl\",\"marker\":{\"colorbar\":{\"outlinewidth\":0,\"ticks\":\"\"}}}],\"bar\":[{\"error_x\":{\"color\":\"#2a3f5f\"},\"error_y\":{\"color\":\"#2a3f5f\"},\"marker\":{\"line\":{\"color\":\"#E5ECF6\",\"width\":0.5},\"pattern\":{\"fillmode\":\"overlay\",\"size\":10,\"solidity\":0.2}},\"type\":\"bar\"}],\"scattergeo\":[{\"type\":\"scattergeo\",\"marker\":{\"colorbar\":{\"outlinewidth\":0,\"ticks\":\"\"}}}],\"scatterpolar\":[{\"type\":\"scatterpolar\",\"marker\":{\"colorbar\":{\"outlinewidth\":0,\"ticks\":\"\"}}}],\"histogram\":[{\"marker\":{\"pattern\":{\"fillmode\":\"overlay\",\"size\":10,\"solidity\":0.2}},\"type\":\"histogram\"}],\"scattergl\":[{\"type\":\"scattergl\",\"marker\":{\"colorbar\":{\"outlinewidth\":0,\"ticks\":\"\"}}}],\"scatter3d\":[{\"type\":\"scatter3d\",\"line\":{\"colorbar\":{\"outlinewidth\":0,\"ticks\":\"\"}},\"marker\":{\"colorbar\":{\"outlinewidth\":0,\"ticks\":\"\"}}}],\"scattermapbox\":[{\"type\":\"scattermapbox\",\"marker\":{\"colorbar\":{\"outlinewidth\":0,\"ticks\":\"\"}}}],\"scatterternary\":[{\"type\":\"scatterternary\",\"marker\":{\"colorbar\":{\"outlinewidth\":0,\"ticks\":\"\"}}}],\"scattercarpet\":[{\"type\":\"scattercarpet\",\"marker\":{\"colorbar\":{\"outlinewidth\":0,\"ticks\":\"\"}}}],\"carpet\":[{\"aaxis\":{\"endlinecolor\":\"#2a3f5f\",\"gridcolor\":\"white\",\"linecolor\":\"white\",\"minorgridcolor\":\"white\",\"startlinecolor\":\"#2a3f5f\"},\"baxis\":{\"endlinecolor\":\"#2a3f5f\",\"gridcolor\":\"white\",\"linecolor\":\"white\",\"minorgridcolor\":\"white\",\"startlinecolor\":\"#2a3f5f\"},\"type\":\"carpet\"}],\"table\":[{\"cells\":{\"fill\":{\"color\":\"#EBF0F8\"},\"line\":{\"color\":\"white\"}},\"header\":{\"fill\":{\"color\":\"#C8D4E3\"},\"line\":{\"color\":\"white\"}},\"type\":\"table\"}],\"barpolar\":[{\"marker\":{\"line\":{\"color\":\"#E5ECF6\",\"width\":0.5},\"pattern\":{\"fillmode\":\"overlay\",\"size\":10,\"solidity\":0.2}},\"type\":\"barpolar\"}],\"pie\":[{\"automargin\":true,\"type\":\"pie\"}]},\"layout\":{\"autotypenumbers\":\"strict\",\"colorway\":[\"#636efa\",\"#EF553B\",\"#00cc96\",\"#ab63fa\",\"#FFA15A\",\"#19d3f3\",\"#FF6692\",\"#B6E880\",\"#FF97FF\",\"#FECB52\"],\"font\":{\"color\":\"#2a3f5f\"},\"hovermode\":\"closest\",\"hoverlabel\":{\"align\":\"left\"},\"paper_bgcolor\":\"white\",\"plot_bgcolor\":\"#E5ECF6\",\"polar\":{\"bgcolor\":\"#E5ECF6\",\"angularaxis\":{\"gridcolor\":\"white\",\"linecolor\":\"white\",\"ticks\":\"\"},\"radialaxis\":{\"gridcolor\":\"white\",\"linecolor\":\"white\",\"ticks\":\"\"}},\"ternary\":{\"bgcolor\":\"#E5ECF6\",\"aaxis\":{\"gridcolor\":\"white\",\"linecolor\":\"white\",\"ticks\":\"\"},\"baxis\":{\"gridcolor\":\"white\",\"linecolor\":\"white\",\"ticks\":\"\"},\"caxis\":{\"gridcolor\":\"white\",\"linecolor\":\"white\",\"ticks\":\"\"}},\"coloraxis\":{\"colorbar\":{\"outlinewidth\":0,\"ticks\":\"\"}},\"colorscale\":{\"sequential\":[[0.0,\"#0d0887\"],[0.1111111111111111,\"#46039f\"],[0.2222222222222222,\"#7201a8\"],[0.3333333333333333,\"#9c179e\"],[0.4444444444444444,\"#bd3786\"],[0.5555555555555556,\"#d8576b\"],[0.6666666666666666,\"#ed7953\"],[0.7777777777777778,\"#fb9f3a\"],[0.8888888888888888,\"#fdca26\"],[1.0,\"#f0f921\"]],\"sequentialminus\":[[0.0,\"#0d0887\"],[0.1111111111111111,\"#46039f\"],[0.2222222222222222,\"#7201a8\"],[0.3333333333333333,\"#9c179e\"],[0.4444444444444444,\"#bd3786\"],[0.5555555555555556,\"#d8576b\"],[0.6666666666666666,\"#ed7953\"],[0.7777777777777778,\"#fb9f3a\"],[0.8888888888888888,\"#fdca26\"],[1.0,\"#f0f921\"]],\"diverging\":[[0,\"#8e0152\"],[0.1,\"#c51b7d\"],[0.2,\"#de77ae\"],[0.3,\"#f1b6da\"],[0.4,\"#fde0ef\"],[0.5,\"#f7f7f7\"],[0.6,\"#e6f5d0\"],[0.7,\"#b8e186\"],[0.8,\"#7fbc41\"],[0.9,\"#4d9221\"],[1,\"#276419\"]]},\"xaxis\":{\"gridcolor\":\"white\",\"linecolor\":\"white\",\"ticks\":\"\",\"title\":{\"standoff\":15},\"zerolinecolor\":\"white\",\"automargin\":true,\"zerolinewidth\":2},\"yaxis\":{\"gridcolor\":\"white\",\"linecolor\":\"white\",\"ticks\":\"\",\"title\":{\"standoff\":15},\"zerolinecolor\":\"white\",\"automargin\":true,\"zerolinewidth\":2},\"scene\":{\"xaxis\":{\"backgroundcolor\":\"#E5ECF6\",\"gridcolor\":\"white\",\"linecolor\":\"white\",\"showbackground\":true,\"ticks\":\"\",\"zerolinecolor\":\"white\",\"gridwidth\":2},\"yaxis\":{\"backgroundcolor\":\"#E5ECF6\",\"gridcolor\":\"white\",\"linecolor\":\"white\",\"showbackground\":true,\"ticks\":\"\",\"zerolinecolor\":\"white\",\"gridwidth\":2},\"zaxis\":{\"backgroundcolor\":\"#E5ECF6\",\"gridcolor\":\"white\",\"linecolor\":\"white\",\"showbackground\":true,\"ticks\":\"\",\"zerolinecolor\":\"white\",\"gridwidth\":2}},\"shapedefaults\":{\"line\":{\"color\":\"#2a3f5f\"}},\"annotationdefaults\":{\"arrowcolor\":\"#2a3f5f\",\"arrowhead\":0,\"arrowwidth\":1},\"geo\":{\"bgcolor\":\"white\",\"landcolor\":\"#E5ECF6\",\"subunitcolor\":\"white\",\"showland\":true,\"showlakes\":true,\"lakecolor\":\"white\"},\"title\":{\"x\":0.05},\"mapbox\":{\"style\":\"light\"}}},\"title\":{\"pad\":{\"r\":10,\"t\":10},\"font\":{\"size\":20,\"color\":\"white\"},\"text\":\"Distribution of remote work across job titles<br>in data analysis, data science and machine learning\",\"x\":0.5,\"y\":0.96,\"xanchor\":\"center\",\"yanchor\":\"top\"},\"margin\":{\"t\":85,\"l\":25,\"r\":25,\"b\":25},\"font\":{\"size\":14,\"color\":\"white\"},\"width\":700,\"height\":550,\"plot_bgcolor\":\"#272b2e\",\"paper_bgcolor\":\"#272b2e\"},                        {\"responsive\": true}                    ).then(function(){\n",
       "                            \n",
       "var gd = document.getElementById('05a67cbe-40f1-47d0-8dc8-0660345214a4');\n",
       "var x = new MutationObserver(function (mutations, observer) {{\n",
       "        var display = window.getComputedStyle(gd).display;\n",
       "        if (!display || display === 'none') {{\n",
       "            console.log([gd, 'removed!']);\n",
       "            Plotly.purge(gd);\n",
       "            observer.disconnect();\n",
       "        }}\n",
       "}});\n",
       "\n",
       "// Listen for the removal of the full notebook cells\n",
       "var notebookContainer = gd.closest('#notebook-container');\n",
       "if (notebookContainer) {{\n",
       "    x.observe(notebookContainer, {childList: true});\n",
       "}}\n",
       "\n",
       "// Listen for the clearing of the current output cell\n",
       "var outputEl = gd.closest('.output');\n",
       "if (outputEl) {{\n",
       "    x.observe(outputEl, {childList: true});\n",
       "}}\n",
       "\n",
       "                        })                };                });            </script>        </div>"
      ]
     },
     "metadata": {},
     "output_type": "display_data"
    }
   ],
   "source": [
    "# sankey\n",
    "# what about location? this is tech so what's the split between remote and non remote? (next vis: for those that aren't remote\n",
    "# where are they in the us?) \n",
    "import pandas as pd\n",
    "import plotly.graph_objects as go\n",
    "\n",
    "df_us = df[df['location_overall']=='USA']\n",
    "df_us['location'] = df_us['location'].str.strip()\n",
    "\n",
    "df_sankey = df_us.copy()\n",
    "df_sankey['remote_status'] = df_sankey['remote_status'].replace(True, 'Remote').fillna('Not remote')\n",
    "df_sankey.loc[df_sankey['location'] == 'United States', 'remote_status'] = 'Remote'\n",
    "\n",
    "# Define the data as a Pandas dataframe\n",
    "data = df_sankey.groupby(['remote_status', 'job_type']).size().reset_index(name='count')\n",
    "\n",
    "# Create a dictionary of node colors\n",
    "node_colors = {\n",
    "    'data_analysis': '#3A6194',\n",
    "    'data_science': '#3A6194',\n",
    "    'machine_learning': '#3A6194',\n",
    "    'Not remote': '#6F902F',\n",
    "    'Remote': '#6F902F',\n",
    "}\n",
    "\n",
    "# create labels\n",
    "labels = ['Not remote', 'Remote', 'data_analysis', 'data_science', 'machine_learning']\n",
    "\n",
    "# Create a dictionary that maps each label to its index\n",
    "node_indices = {'Not remote': 0,\n",
    " 'Remote': 1,\n",
    " 'data_analysis': 2,\n",
    " 'data_science': 3,\n",
    " 'machine_learning': 4}\n",
    "\n",
    "link_colors = ['#99CAFF', '#99CAFF', '#99CAFF','#AECE6D', '#AECE6D', '#AECE6D']\n",
    "\n",
    "# Create the Sankey diagram\n",
    "fig = go.Figure(go.Sankey(\n",
    "    node = dict(\n",
    "        pad = 15,\n",
    "        thickness = 20,\n",
    "        #line = dict(color = \"white\", width = 0.5),\n",
    "        label = labels,\n",
    "        color = [node_colors[label] for label in labels],\n",
    "    ),\n",
    "    link = dict(\n",
    "        source = [node_indices[status] for status in data['job_type']],\n",
    "        target = [node_indices[job] for job in data['remote_status']],\n",
    "        value = data['count'],\n",
    "        color=link_colors\n",
    "    )))\n",
    "\n",
    "\n",
    "fig.update_layout(\n",
    "    title={'text': f\"Distribution of remote work across job titles<br>in data analysis, data science and machine learning\",\n",
    "        'x': 0.50,\n",
    "        'y': 0.96,\n",
    "        'xanchor': 'center',\n",
    "        'yanchor': 'top',\n",
    "        'pad': {'r': 10, 't': 10,},\n",
    "        'font': {'size': 20, 'color':\"white\"}\n",
    "    },\n",
    "    width=700,\n",
    "    height=550,\n",
    "    plot_bgcolor = \"#272b2e\",\n",
    "    paper_bgcolor = \"#272b2e\",\n",
    "    margin=dict(t=85, l=25, r=25, b=25),\n",
    "    font=dict(size = 14, color = 'white')\n",
    ") \n",
    "\n",
    "fig.show()\n",
    "fig.write_html('../images/smooth.html')\n"
   ]
  },
  {
   "cell_type": "code",
   "execution_count": 140,
   "metadata": {},
   "outputs": [
    {
     "data": {
      "application/vnd.plotly.v1+json": {
       "config": {
        "plotlyServerURL": "https://plot.ly"
       },
       "data": [
        {
         "colorscale": [
          [
           0,
           "white"
          ],
          [
           0.5,
           "#99CAFF"
          ],
          [
           1,
           "#1F3053"
          ]
         ],
         "type": "heatmap",
         "x": [
          "Contractor",
          "Full-time",
          "Internship",
          "Part-time"
         ],
         "y": [
          "data_analysis",
          "data_science",
          "machine_learning"
         ],
         "z": [
          [
           6,
           83,
           0,
           0
          ],
          [
           0,
           89,
           1,
           0
          ],
          [
           5,
           81,
           2,
           2
          ]
         ]
        }
       ],
       "layout": {
        "font": {
         "color": "white",
         "size": 16
        },
        "height": 500,
        "margin": {
         "b": 25,
         "l": 25,
         "r": 25,
         "t": 85
        },
        "paper_bgcolor": "#272b2e",
        "plot_bgcolor": "#272b2e",
        "template": {
         "data": {
          "bar": [
           {
            "error_x": {
             "color": "#2a3f5f"
            },
            "error_y": {
             "color": "#2a3f5f"
            },
            "marker": {
             "line": {
              "color": "#E5ECF6",
              "width": 0.5
             },
             "pattern": {
              "fillmode": "overlay",
              "size": 10,
              "solidity": 0.2
             }
            },
            "type": "bar"
           }
          ],
          "barpolar": [
           {
            "marker": {
             "line": {
              "color": "#E5ECF6",
              "width": 0.5
             },
             "pattern": {
              "fillmode": "overlay",
              "size": 10,
              "solidity": 0.2
             }
            },
            "type": "barpolar"
           }
          ],
          "carpet": [
           {
            "aaxis": {
             "endlinecolor": "#2a3f5f",
             "gridcolor": "white",
             "linecolor": "white",
             "minorgridcolor": "white",
             "startlinecolor": "#2a3f5f"
            },
            "baxis": {
             "endlinecolor": "#2a3f5f",
             "gridcolor": "white",
             "linecolor": "white",
             "minorgridcolor": "white",
             "startlinecolor": "#2a3f5f"
            },
            "type": "carpet"
           }
          ],
          "choropleth": [
           {
            "colorbar": {
             "outlinewidth": 0,
             "ticks": ""
            },
            "type": "choropleth"
           }
          ],
          "contour": [
           {
            "colorbar": {
             "outlinewidth": 0,
             "ticks": ""
            },
            "colorscale": [
             [
              0,
              "#0d0887"
             ],
             [
              0.1111111111111111,
              "#46039f"
             ],
             [
              0.2222222222222222,
              "#7201a8"
             ],
             [
              0.3333333333333333,
              "#9c179e"
             ],
             [
              0.4444444444444444,
              "#bd3786"
             ],
             [
              0.5555555555555556,
              "#d8576b"
             ],
             [
              0.6666666666666666,
              "#ed7953"
             ],
             [
              0.7777777777777778,
              "#fb9f3a"
             ],
             [
              0.8888888888888888,
              "#fdca26"
             ],
             [
              1,
              "#f0f921"
             ]
            ],
            "type": "contour"
           }
          ],
          "contourcarpet": [
           {
            "colorbar": {
             "outlinewidth": 0,
             "ticks": ""
            },
            "type": "contourcarpet"
           }
          ],
          "heatmap": [
           {
            "colorbar": {
             "outlinewidth": 0,
             "ticks": ""
            },
            "colorscale": [
             [
              0,
              "#0d0887"
             ],
             [
              0.1111111111111111,
              "#46039f"
             ],
             [
              0.2222222222222222,
              "#7201a8"
             ],
             [
              0.3333333333333333,
              "#9c179e"
             ],
             [
              0.4444444444444444,
              "#bd3786"
             ],
             [
              0.5555555555555556,
              "#d8576b"
             ],
             [
              0.6666666666666666,
              "#ed7953"
             ],
             [
              0.7777777777777778,
              "#fb9f3a"
             ],
             [
              0.8888888888888888,
              "#fdca26"
             ],
             [
              1,
              "#f0f921"
             ]
            ],
            "type": "heatmap"
           }
          ],
          "heatmapgl": [
           {
            "colorbar": {
             "outlinewidth": 0,
             "ticks": ""
            },
            "colorscale": [
             [
              0,
              "#0d0887"
             ],
             [
              0.1111111111111111,
              "#46039f"
             ],
             [
              0.2222222222222222,
              "#7201a8"
             ],
             [
              0.3333333333333333,
              "#9c179e"
             ],
             [
              0.4444444444444444,
              "#bd3786"
             ],
             [
              0.5555555555555556,
              "#d8576b"
             ],
             [
              0.6666666666666666,
              "#ed7953"
             ],
             [
              0.7777777777777778,
              "#fb9f3a"
             ],
             [
              0.8888888888888888,
              "#fdca26"
             ],
             [
              1,
              "#f0f921"
             ]
            ],
            "type": "heatmapgl"
           }
          ],
          "histogram": [
           {
            "marker": {
             "pattern": {
              "fillmode": "overlay",
              "size": 10,
              "solidity": 0.2
             }
            },
            "type": "histogram"
           }
          ],
          "histogram2d": [
           {
            "colorbar": {
             "outlinewidth": 0,
             "ticks": ""
            },
            "colorscale": [
             [
              0,
              "#0d0887"
             ],
             [
              0.1111111111111111,
              "#46039f"
             ],
             [
              0.2222222222222222,
              "#7201a8"
             ],
             [
              0.3333333333333333,
              "#9c179e"
             ],
             [
              0.4444444444444444,
              "#bd3786"
             ],
             [
              0.5555555555555556,
              "#d8576b"
             ],
             [
              0.6666666666666666,
              "#ed7953"
             ],
             [
              0.7777777777777778,
              "#fb9f3a"
             ],
             [
              0.8888888888888888,
              "#fdca26"
             ],
             [
              1,
              "#f0f921"
             ]
            ],
            "type": "histogram2d"
           }
          ],
          "histogram2dcontour": [
           {
            "colorbar": {
             "outlinewidth": 0,
             "ticks": ""
            },
            "colorscale": [
             [
              0,
              "#0d0887"
             ],
             [
              0.1111111111111111,
              "#46039f"
             ],
             [
              0.2222222222222222,
              "#7201a8"
             ],
             [
              0.3333333333333333,
              "#9c179e"
             ],
             [
              0.4444444444444444,
              "#bd3786"
             ],
             [
              0.5555555555555556,
              "#d8576b"
             ],
             [
              0.6666666666666666,
              "#ed7953"
             ],
             [
              0.7777777777777778,
              "#fb9f3a"
             ],
             [
              0.8888888888888888,
              "#fdca26"
             ],
             [
              1,
              "#f0f921"
             ]
            ],
            "type": "histogram2dcontour"
           }
          ],
          "mesh3d": [
           {
            "colorbar": {
             "outlinewidth": 0,
             "ticks": ""
            },
            "type": "mesh3d"
           }
          ],
          "parcoords": [
           {
            "line": {
             "colorbar": {
              "outlinewidth": 0,
              "ticks": ""
             }
            },
            "type": "parcoords"
           }
          ],
          "pie": [
           {
            "automargin": true,
            "type": "pie"
           }
          ],
          "scatter": [
           {
            "fillpattern": {
             "fillmode": "overlay",
             "size": 10,
             "solidity": 0.2
            },
            "type": "scatter"
           }
          ],
          "scatter3d": [
           {
            "line": {
             "colorbar": {
              "outlinewidth": 0,
              "ticks": ""
             }
            },
            "marker": {
             "colorbar": {
              "outlinewidth": 0,
              "ticks": ""
             }
            },
            "type": "scatter3d"
           }
          ],
          "scattercarpet": [
           {
            "marker": {
             "colorbar": {
              "outlinewidth": 0,
              "ticks": ""
             }
            },
            "type": "scattercarpet"
           }
          ],
          "scattergeo": [
           {
            "marker": {
             "colorbar": {
              "outlinewidth": 0,
              "ticks": ""
             }
            },
            "type": "scattergeo"
           }
          ],
          "scattergl": [
           {
            "marker": {
             "colorbar": {
              "outlinewidth": 0,
              "ticks": ""
             }
            },
            "type": "scattergl"
           }
          ],
          "scattermapbox": [
           {
            "marker": {
             "colorbar": {
              "outlinewidth": 0,
              "ticks": ""
             }
            },
            "type": "scattermapbox"
           }
          ],
          "scatterpolar": [
           {
            "marker": {
             "colorbar": {
              "outlinewidth": 0,
              "ticks": ""
             }
            },
            "type": "scatterpolar"
           }
          ],
          "scatterpolargl": [
           {
            "marker": {
             "colorbar": {
              "outlinewidth": 0,
              "ticks": ""
             }
            },
            "type": "scatterpolargl"
           }
          ],
          "scatterternary": [
           {
            "marker": {
             "colorbar": {
              "outlinewidth": 0,
              "ticks": ""
             }
            },
            "type": "scatterternary"
           }
          ],
          "surface": [
           {
            "colorbar": {
             "outlinewidth": 0,
             "ticks": ""
            },
            "colorscale": [
             [
              0,
              "#0d0887"
             ],
             [
              0.1111111111111111,
              "#46039f"
             ],
             [
              0.2222222222222222,
              "#7201a8"
             ],
             [
              0.3333333333333333,
              "#9c179e"
             ],
             [
              0.4444444444444444,
              "#bd3786"
             ],
             [
              0.5555555555555556,
              "#d8576b"
             ],
             [
              0.6666666666666666,
              "#ed7953"
             ],
             [
              0.7777777777777778,
              "#fb9f3a"
             ],
             [
              0.8888888888888888,
              "#fdca26"
             ],
             [
              1,
              "#f0f921"
             ]
            ],
            "type": "surface"
           }
          ],
          "table": [
           {
            "cells": {
             "fill": {
              "color": "#EBF0F8"
             },
             "line": {
              "color": "white"
             }
            },
            "header": {
             "fill": {
              "color": "#C8D4E3"
             },
             "line": {
              "color": "white"
             }
            },
            "type": "table"
           }
          ]
         },
         "layout": {
          "annotationdefaults": {
           "arrowcolor": "#2a3f5f",
           "arrowhead": 0,
           "arrowwidth": 1
          },
          "autotypenumbers": "strict",
          "coloraxis": {
           "colorbar": {
            "outlinewidth": 0,
            "ticks": ""
           }
          },
          "colorscale": {
           "diverging": [
            [
             0,
             "#8e0152"
            ],
            [
             0.1,
             "#c51b7d"
            ],
            [
             0.2,
             "#de77ae"
            ],
            [
             0.3,
             "#f1b6da"
            ],
            [
             0.4,
             "#fde0ef"
            ],
            [
             0.5,
             "#f7f7f7"
            ],
            [
             0.6,
             "#e6f5d0"
            ],
            [
             0.7,
             "#b8e186"
            ],
            [
             0.8,
             "#7fbc41"
            ],
            [
             0.9,
             "#4d9221"
            ],
            [
             1,
             "#276419"
            ]
           ],
           "sequential": [
            [
             0,
             "#0d0887"
            ],
            [
             0.1111111111111111,
             "#46039f"
            ],
            [
             0.2222222222222222,
             "#7201a8"
            ],
            [
             0.3333333333333333,
             "#9c179e"
            ],
            [
             0.4444444444444444,
             "#bd3786"
            ],
            [
             0.5555555555555556,
             "#d8576b"
            ],
            [
             0.6666666666666666,
             "#ed7953"
            ],
            [
             0.7777777777777778,
             "#fb9f3a"
            ],
            [
             0.8888888888888888,
             "#fdca26"
            ],
            [
             1,
             "#f0f921"
            ]
           ],
           "sequentialminus": [
            [
             0,
             "#0d0887"
            ],
            [
             0.1111111111111111,
             "#46039f"
            ],
            [
             0.2222222222222222,
             "#7201a8"
            ],
            [
             0.3333333333333333,
             "#9c179e"
            ],
            [
             0.4444444444444444,
             "#bd3786"
            ],
            [
             0.5555555555555556,
             "#d8576b"
            ],
            [
             0.6666666666666666,
             "#ed7953"
            ],
            [
             0.7777777777777778,
             "#fb9f3a"
            ],
            [
             0.8888888888888888,
             "#fdca26"
            ],
            [
             1,
             "#f0f921"
            ]
           ]
          },
          "colorway": [
           "#636efa",
           "#EF553B",
           "#00cc96",
           "#ab63fa",
           "#FFA15A",
           "#19d3f3",
           "#FF6692",
           "#B6E880",
           "#FF97FF",
           "#FECB52"
          ],
          "font": {
           "color": "#2a3f5f"
          },
          "geo": {
           "bgcolor": "white",
           "lakecolor": "white",
           "landcolor": "#E5ECF6",
           "showlakes": true,
           "showland": true,
           "subunitcolor": "white"
          },
          "hoverlabel": {
           "align": "left"
          },
          "hovermode": "closest",
          "mapbox": {
           "style": "light"
          },
          "paper_bgcolor": "white",
          "plot_bgcolor": "#E5ECF6",
          "polar": {
           "angularaxis": {
            "gridcolor": "white",
            "linecolor": "white",
            "ticks": ""
           },
           "bgcolor": "#E5ECF6",
           "radialaxis": {
            "gridcolor": "white",
            "linecolor": "white",
            "ticks": ""
           }
          },
          "scene": {
           "xaxis": {
            "backgroundcolor": "#E5ECF6",
            "gridcolor": "white",
            "gridwidth": 2,
            "linecolor": "white",
            "showbackground": true,
            "ticks": "",
            "zerolinecolor": "white"
           },
           "yaxis": {
            "backgroundcolor": "#E5ECF6",
            "gridcolor": "white",
            "gridwidth": 2,
            "linecolor": "white",
            "showbackground": true,
            "ticks": "",
            "zerolinecolor": "white"
           },
           "zaxis": {
            "backgroundcolor": "#E5ECF6",
            "gridcolor": "white",
            "gridwidth": 2,
            "linecolor": "white",
            "showbackground": true,
            "ticks": "",
            "zerolinecolor": "white"
           }
          },
          "shapedefaults": {
           "line": {
            "color": "#2a3f5f"
           }
          },
          "ternary": {
           "aaxis": {
            "gridcolor": "white",
            "linecolor": "white",
            "ticks": ""
           },
           "baxis": {
            "gridcolor": "white",
            "linecolor": "white",
            "ticks": ""
           },
           "bgcolor": "#E5ECF6",
           "caxis": {
            "gridcolor": "white",
            "linecolor": "white",
            "ticks": ""
           }
          },
          "title": {
           "x": 0.05
          },
          "xaxis": {
           "automargin": true,
           "gridcolor": "white",
           "linecolor": "white",
           "ticks": "",
           "title": {
            "standoff": 15
           },
           "zerolinecolor": "white",
           "zerolinewidth": 2
          },
          "yaxis": {
           "automargin": true,
           "gridcolor": "white",
           "linecolor": "white",
           "ticks": "",
           "title": {
            "standoff": 15
           },
           "zerolinecolor": "white",
           "zerolinewidth": 2
          }
         }
        },
        "title": {
         "text": "Job Types by Schedule Type"
        },
        "width": 750,
        "xaxis": {
         "title": {
          "text": "Schedule Type"
         }
        },
        "yaxis": {
         "tickmode": "array",
         "ticktext": [
          "Data Analysis",
          "Data Science",
          "Machine Learning"
         ],
         "tickvals": [
          0,
          1,
          2
         ],
         "title": {
          "text": "Job Type"
         }
        }
       }
      },
      "text/html": [
       "<div>                            <div id=\"300584fd-1d86-4d9c-a299-6c4e159d5782\" class=\"plotly-graph-div\" style=\"height:500px; width:750px;\"></div>            <script type=\"text/javascript\">                require([\"plotly\"], function(Plotly) {                    window.PLOTLYENV=window.PLOTLYENV || {};                                    if (document.getElementById(\"300584fd-1d86-4d9c-a299-6c4e159d5782\")) {                    Plotly.newPlot(                        \"300584fd-1d86-4d9c-a299-6c4e159d5782\",                        [{\"colorscale\":[[0,\"white\"],[0.5,\"#99CAFF\"],[1,\"#1F3053\"]],\"x\":[\"Contractor\",\"Full-time\",\"Internship\",\"Part-time\"],\"y\":[\"data_analysis\",\"data_science\",\"machine_learning\"],\"z\":[[6.0,83.0,0.0,0.0],[0.0,89.0,1.0,0.0],[5.0,81.0,2.0,2.0]],\"type\":\"heatmap\"}],                        {\"template\":{\"data\":{\"histogram2dcontour\":[{\"type\":\"histogram2dcontour\",\"colorbar\":{\"outlinewidth\":0,\"ticks\":\"\"},\"colorscale\":[[0.0,\"#0d0887\"],[0.1111111111111111,\"#46039f\"],[0.2222222222222222,\"#7201a8\"],[0.3333333333333333,\"#9c179e\"],[0.4444444444444444,\"#bd3786\"],[0.5555555555555556,\"#d8576b\"],[0.6666666666666666,\"#ed7953\"],[0.7777777777777778,\"#fb9f3a\"],[0.8888888888888888,\"#fdca26\"],[1.0,\"#f0f921\"]]}],\"choropleth\":[{\"type\":\"choropleth\",\"colorbar\":{\"outlinewidth\":0,\"ticks\":\"\"}}],\"histogram2d\":[{\"type\":\"histogram2d\",\"colorbar\":{\"outlinewidth\":0,\"ticks\":\"\"},\"colorscale\":[[0.0,\"#0d0887\"],[0.1111111111111111,\"#46039f\"],[0.2222222222222222,\"#7201a8\"],[0.3333333333333333,\"#9c179e\"],[0.4444444444444444,\"#bd3786\"],[0.5555555555555556,\"#d8576b\"],[0.6666666666666666,\"#ed7953\"],[0.7777777777777778,\"#fb9f3a\"],[0.8888888888888888,\"#fdca26\"],[1.0,\"#f0f921\"]]}],\"heatmap\":[{\"type\":\"heatmap\",\"colorbar\":{\"outlinewidth\":0,\"ticks\":\"\"},\"colorscale\":[[0.0,\"#0d0887\"],[0.1111111111111111,\"#46039f\"],[0.2222222222222222,\"#7201a8\"],[0.3333333333333333,\"#9c179e\"],[0.4444444444444444,\"#bd3786\"],[0.5555555555555556,\"#d8576b\"],[0.6666666666666666,\"#ed7953\"],[0.7777777777777778,\"#fb9f3a\"],[0.8888888888888888,\"#fdca26\"],[1.0,\"#f0f921\"]]}],\"heatmapgl\":[{\"type\":\"heatmapgl\",\"colorbar\":{\"outlinewidth\":0,\"ticks\":\"\"},\"colorscale\":[[0.0,\"#0d0887\"],[0.1111111111111111,\"#46039f\"],[0.2222222222222222,\"#7201a8\"],[0.3333333333333333,\"#9c179e\"],[0.4444444444444444,\"#bd3786\"],[0.5555555555555556,\"#d8576b\"],[0.6666666666666666,\"#ed7953\"],[0.7777777777777778,\"#fb9f3a\"],[0.8888888888888888,\"#fdca26\"],[1.0,\"#f0f921\"]]}],\"contourcarpet\":[{\"type\":\"contourcarpet\",\"colorbar\":{\"outlinewidth\":0,\"ticks\":\"\"}}],\"contour\":[{\"type\":\"contour\",\"colorbar\":{\"outlinewidth\":0,\"ticks\":\"\"},\"colorscale\":[[0.0,\"#0d0887\"],[0.1111111111111111,\"#46039f\"],[0.2222222222222222,\"#7201a8\"],[0.3333333333333333,\"#9c179e\"],[0.4444444444444444,\"#bd3786\"],[0.5555555555555556,\"#d8576b\"],[0.6666666666666666,\"#ed7953\"],[0.7777777777777778,\"#fb9f3a\"],[0.8888888888888888,\"#fdca26\"],[1.0,\"#f0f921\"]]}],\"surface\":[{\"type\":\"surface\",\"colorbar\":{\"outlinewidth\":0,\"ticks\":\"\"},\"colorscale\":[[0.0,\"#0d0887\"],[0.1111111111111111,\"#46039f\"],[0.2222222222222222,\"#7201a8\"],[0.3333333333333333,\"#9c179e\"],[0.4444444444444444,\"#bd3786\"],[0.5555555555555556,\"#d8576b\"],[0.6666666666666666,\"#ed7953\"],[0.7777777777777778,\"#fb9f3a\"],[0.8888888888888888,\"#fdca26\"],[1.0,\"#f0f921\"]]}],\"mesh3d\":[{\"type\":\"mesh3d\",\"colorbar\":{\"outlinewidth\":0,\"ticks\":\"\"}}],\"scatter\":[{\"fillpattern\":{\"fillmode\":\"overlay\",\"size\":10,\"solidity\":0.2},\"type\":\"scatter\"}],\"parcoords\":[{\"type\":\"parcoords\",\"line\":{\"colorbar\":{\"outlinewidth\":0,\"ticks\":\"\"}}}],\"scatterpolargl\":[{\"type\":\"scatterpolargl\",\"marker\":{\"colorbar\":{\"outlinewidth\":0,\"ticks\":\"\"}}}],\"bar\":[{\"error_x\":{\"color\":\"#2a3f5f\"},\"error_y\":{\"color\":\"#2a3f5f\"},\"marker\":{\"line\":{\"color\":\"#E5ECF6\",\"width\":0.5},\"pattern\":{\"fillmode\":\"overlay\",\"size\":10,\"solidity\":0.2}},\"type\":\"bar\"}],\"scattergeo\":[{\"type\":\"scattergeo\",\"marker\":{\"colorbar\":{\"outlinewidth\":0,\"ticks\":\"\"}}}],\"scatterpolar\":[{\"type\":\"scatterpolar\",\"marker\":{\"colorbar\":{\"outlinewidth\":0,\"ticks\":\"\"}}}],\"histogram\":[{\"marker\":{\"pattern\":{\"fillmode\":\"overlay\",\"size\":10,\"solidity\":0.2}},\"type\":\"histogram\"}],\"scattergl\":[{\"type\":\"scattergl\",\"marker\":{\"colorbar\":{\"outlinewidth\":0,\"ticks\":\"\"}}}],\"scatter3d\":[{\"type\":\"scatter3d\",\"line\":{\"colorbar\":{\"outlinewidth\":0,\"ticks\":\"\"}},\"marker\":{\"colorbar\":{\"outlinewidth\":0,\"ticks\":\"\"}}}],\"scattermapbox\":[{\"type\":\"scattermapbox\",\"marker\":{\"colorbar\":{\"outlinewidth\":0,\"ticks\":\"\"}}}],\"scatterternary\":[{\"type\":\"scatterternary\",\"marker\":{\"colorbar\":{\"outlinewidth\":0,\"ticks\":\"\"}}}],\"scattercarpet\":[{\"type\":\"scattercarpet\",\"marker\":{\"colorbar\":{\"outlinewidth\":0,\"ticks\":\"\"}}}],\"carpet\":[{\"aaxis\":{\"endlinecolor\":\"#2a3f5f\",\"gridcolor\":\"white\",\"linecolor\":\"white\",\"minorgridcolor\":\"white\",\"startlinecolor\":\"#2a3f5f\"},\"baxis\":{\"endlinecolor\":\"#2a3f5f\",\"gridcolor\":\"white\",\"linecolor\":\"white\",\"minorgridcolor\":\"white\",\"startlinecolor\":\"#2a3f5f\"},\"type\":\"carpet\"}],\"table\":[{\"cells\":{\"fill\":{\"color\":\"#EBF0F8\"},\"line\":{\"color\":\"white\"}},\"header\":{\"fill\":{\"color\":\"#C8D4E3\"},\"line\":{\"color\":\"white\"}},\"type\":\"table\"}],\"barpolar\":[{\"marker\":{\"line\":{\"color\":\"#E5ECF6\",\"width\":0.5},\"pattern\":{\"fillmode\":\"overlay\",\"size\":10,\"solidity\":0.2}},\"type\":\"barpolar\"}],\"pie\":[{\"automargin\":true,\"type\":\"pie\"}]},\"layout\":{\"autotypenumbers\":\"strict\",\"colorway\":[\"#636efa\",\"#EF553B\",\"#00cc96\",\"#ab63fa\",\"#FFA15A\",\"#19d3f3\",\"#FF6692\",\"#B6E880\",\"#FF97FF\",\"#FECB52\"],\"font\":{\"color\":\"#2a3f5f\"},\"hovermode\":\"closest\",\"hoverlabel\":{\"align\":\"left\"},\"paper_bgcolor\":\"white\",\"plot_bgcolor\":\"#E5ECF6\",\"polar\":{\"bgcolor\":\"#E5ECF6\",\"angularaxis\":{\"gridcolor\":\"white\",\"linecolor\":\"white\",\"ticks\":\"\"},\"radialaxis\":{\"gridcolor\":\"white\",\"linecolor\":\"white\",\"ticks\":\"\"}},\"ternary\":{\"bgcolor\":\"#E5ECF6\",\"aaxis\":{\"gridcolor\":\"white\",\"linecolor\":\"white\",\"ticks\":\"\"},\"baxis\":{\"gridcolor\":\"white\",\"linecolor\":\"white\",\"ticks\":\"\"},\"caxis\":{\"gridcolor\":\"white\",\"linecolor\":\"white\",\"ticks\":\"\"}},\"coloraxis\":{\"colorbar\":{\"outlinewidth\":0,\"ticks\":\"\"}},\"colorscale\":{\"sequential\":[[0.0,\"#0d0887\"],[0.1111111111111111,\"#46039f\"],[0.2222222222222222,\"#7201a8\"],[0.3333333333333333,\"#9c179e\"],[0.4444444444444444,\"#bd3786\"],[0.5555555555555556,\"#d8576b\"],[0.6666666666666666,\"#ed7953\"],[0.7777777777777778,\"#fb9f3a\"],[0.8888888888888888,\"#fdca26\"],[1.0,\"#f0f921\"]],\"sequentialminus\":[[0.0,\"#0d0887\"],[0.1111111111111111,\"#46039f\"],[0.2222222222222222,\"#7201a8\"],[0.3333333333333333,\"#9c179e\"],[0.4444444444444444,\"#bd3786\"],[0.5555555555555556,\"#d8576b\"],[0.6666666666666666,\"#ed7953\"],[0.7777777777777778,\"#fb9f3a\"],[0.8888888888888888,\"#fdca26\"],[1.0,\"#f0f921\"]],\"diverging\":[[0,\"#8e0152\"],[0.1,\"#c51b7d\"],[0.2,\"#de77ae\"],[0.3,\"#f1b6da\"],[0.4,\"#fde0ef\"],[0.5,\"#f7f7f7\"],[0.6,\"#e6f5d0\"],[0.7,\"#b8e186\"],[0.8,\"#7fbc41\"],[0.9,\"#4d9221\"],[1,\"#276419\"]]},\"xaxis\":{\"gridcolor\":\"white\",\"linecolor\":\"white\",\"ticks\":\"\",\"title\":{\"standoff\":15},\"zerolinecolor\":\"white\",\"automargin\":true,\"zerolinewidth\":2},\"yaxis\":{\"gridcolor\":\"white\",\"linecolor\":\"white\",\"ticks\":\"\",\"title\":{\"standoff\":15},\"zerolinecolor\":\"white\",\"automargin\":true,\"zerolinewidth\":2},\"scene\":{\"xaxis\":{\"backgroundcolor\":\"#E5ECF6\",\"gridcolor\":\"white\",\"linecolor\":\"white\",\"showbackground\":true,\"ticks\":\"\",\"zerolinecolor\":\"white\",\"gridwidth\":2},\"yaxis\":{\"backgroundcolor\":\"#E5ECF6\",\"gridcolor\":\"white\",\"linecolor\":\"white\",\"showbackground\":true,\"ticks\":\"\",\"zerolinecolor\":\"white\",\"gridwidth\":2},\"zaxis\":{\"backgroundcolor\":\"#E5ECF6\",\"gridcolor\":\"white\",\"linecolor\":\"white\",\"showbackground\":true,\"ticks\":\"\",\"zerolinecolor\":\"white\",\"gridwidth\":2}},\"shapedefaults\":{\"line\":{\"color\":\"#2a3f5f\"}},\"annotationdefaults\":{\"arrowcolor\":\"#2a3f5f\",\"arrowhead\":0,\"arrowwidth\":1},\"geo\":{\"bgcolor\":\"white\",\"landcolor\":\"#E5ECF6\",\"subunitcolor\":\"white\",\"showland\":true,\"showlakes\":true,\"lakecolor\":\"white\"},\"title\":{\"x\":0.05},\"mapbox\":{\"style\":\"light\"}}},\"yaxis\":{\"title\":{\"text\":\"Job Type\"},\"tickmode\":\"array\",\"tickvals\":[0,1,2],\"ticktext\":[\"Data Analysis\",\"Data Science\",\"Machine Learning\"]},\"title\":{\"text\":\"Job Types by Schedule Type\"},\"xaxis\":{\"title\":{\"text\":\"Schedule Type\"}},\"margin\":{\"t\":85,\"l\":25,\"r\":25,\"b\":25},\"font\":{\"size\":16,\"color\":\"white\"},\"width\":750,\"height\":500,\"plot_bgcolor\":\"#272b2e\",\"paper_bgcolor\":\"#272b2e\"},                        {\"responsive\": true}                    ).then(function(){\n",
       "                            \n",
       "var gd = document.getElementById('300584fd-1d86-4d9c-a299-6c4e159d5782');\n",
       "var x = new MutationObserver(function (mutations, observer) {{\n",
       "        var display = window.getComputedStyle(gd).display;\n",
       "        if (!display || display === 'none') {{\n",
       "            console.log([gd, 'removed!']);\n",
       "            Plotly.purge(gd);\n",
       "            observer.disconnect();\n",
       "        }}\n",
       "}});\n",
       "\n",
       "// Listen for the removal of the full notebook cells\n",
       "var notebookContainer = gd.closest('#notebook-container');\n",
       "if (notebookContainer) {{\n",
       "    x.observe(notebookContainer, {childList: true});\n",
       "}}\n",
       "\n",
       "// Listen for the clearing of the current output cell\n",
       "var outputEl = gd.closest('.output');\n",
       "if (outputEl) {{\n",
       "    x.observe(outputEl, {childList: true});\n",
       "}}\n",
       "\n",
       "                        })                };                });            </script>        </div>"
      ]
     },
     "metadata": {},
     "output_type": "display_data"
    }
   ],
   "source": [
    "import plotly.graph_objects as go\n",
    "import pandas as pd\n",
    "\n",
    "# define custom colors\n",
    "custom_colors = [[0, 'white'], [0.5, '#99CAFF'], [1, '#1F3053']]\n",
    "#99CAFF\n",
    "#AECE6D\n",
    "# group data \n",
    "heatmap = df.groupby(['job_type','schedule_type']).size().reset_index(name='count')\n",
    "heatmap = heatmap.pivot(index='job_type', columns='schedule_type', values='count').fillna(0)\n",
    "\n",
    "# create a heatmap with custom colors\n",
    "fig = go.Figure(data=go.Heatmap(\n",
    "                   z=heatmap.values.tolist(),\n",
    "                   x=heatmap.columns.tolist(),\n",
    "                   y=heatmap.index.tolist(),\n",
    "                   colorscale=custom_colors))\n",
    "\n",
    "fig.update_layout(title='Job Types by Schedule Type', \n",
    "                  xaxis_title='Schedule Type', yaxis_title='Job Type',\n",
    "                  yaxis=dict(tickmode='array', tickvals=[0,1,2], ticktext=['Data Analysis', 'Data Science', 'Machine Learning']))\n",
    "\n",
    "fig.update_layout(\n",
    "    width=750,\n",
    "    height=500,\n",
    "    margin=dict(t=85, l=25, r=25, b=25),\n",
    "    plot_bgcolor = \"#272b2e\",\n",
    "    paper_bgcolor = \"#272b2e\",\n",
    "    font=dict(size = 16, color = 'white')\n",
    ") \n",
    "fig.show()\n",
    "fig.write_html('../images/heatmap.html')\n"
   ]
  },
  {
   "cell_type": "code",
   "execution_count": 220,
   "metadata": {},
   "outputs": [
    {
     "name": "stderr",
     "output_type": "stream",
     "text": [
      "/Users/ameliabaier/opt/anaconda3/envs/anly503/lib/python3.10/site-packages/altair/utils/core.py:317: FutureWarning:\n",
      "\n",
      "iteritems is deprecated and will be removed in a future version. Use .items instead.\n",
      "\n"
     ]
    },
    {
     "data": {
      "text/html": [
       "\n",
       "<div id=\"altair-viz-17893f9963b14ae0b0a3e14c7cc45fab\"></div>\n",
       "<script type=\"text/javascript\">\n",
       "  var VEGA_DEBUG = (typeof VEGA_DEBUG == \"undefined\") ? {} : VEGA_DEBUG;\n",
       "  (function(spec, embedOpt){\n",
       "    let outputDiv = document.currentScript.previousElementSibling;\n",
       "    if (outputDiv.id !== \"altair-viz-17893f9963b14ae0b0a3e14c7cc45fab\") {\n",
       "      outputDiv = document.getElementById(\"altair-viz-17893f9963b14ae0b0a3e14c7cc45fab\");\n",
       "    }\n",
       "    const paths = {\n",
       "      \"vega\": \"https://cdn.jsdelivr.net/npm//vega@5?noext\",\n",
       "      \"vega-lib\": \"https://cdn.jsdelivr.net/npm//vega-lib?noext\",\n",
       "      \"vega-lite\": \"https://cdn.jsdelivr.net/npm//vega-lite@4.17.0?noext\",\n",
       "      \"vega-embed\": \"https://cdn.jsdelivr.net/npm//vega-embed@6?noext\",\n",
       "    };\n",
       "\n",
       "    function maybeLoadScript(lib, version) {\n",
       "      var key = `${lib.replace(\"-\", \"\")}_version`;\n",
       "      return (VEGA_DEBUG[key] == version) ?\n",
       "        Promise.resolve(paths[lib]) :\n",
       "        new Promise(function(resolve, reject) {\n",
       "          var s = document.createElement('script');\n",
       "          document.getElementsByTagName(\"head\")[0].appendChild(s);\n",
       "          s.async = true;\n",
       "          s.onload = () => {\n",
       "            VEGA_DEBUG[key] = version;\n",
       "            return resolve(paths[lib]);\n",
       "          };\n",
       "          s.onerror = () => reject(`Error loading script: ${paths[lib]}`);\n",
       "          s.src = paths[lib];\n",
       "        });\n",
       "    }\n",
       "\n",
       "    function showError(err) {\n",
       "      outputDiv.innerHTML = `<div class=\"error\" style=\"color:red;\">${err}</div>`;\n",
       "      throw err;\n",
       "    }\n",
       "\n",
       "    function displayChart(vegaEmbed) {\n",
       "      vegaEmbed(outputDiv, spec, embedOpt)\n",
       "        .catch(err => showError(`Javascript Error: ${err.message}<br>This usually means there's a typo in your chart specification. See the javascript console for the full traceback.`));\n",
       "    }\n",
       "\n",
       "    if(typeof define === \"function\" && define.amd) {\n",
       "      requirejs.config({paths});\n",
       "      require([\"vega-embed\"], displayChart, err => showError(`Error loading script: ${err.message}`));\n",
       "    } else {\n",
       "      maybeLoadScript(\"vega\", \"5\")\n",
       "        .then(() => maybeLoadScript(\"vega-lite\", \"4.17.0\"))\n",
       "        .then(() => maybeLoadScript(\"vega-embed\", \"6\"))\n",
       "        .catch(showError)\n",
       "        .then(() => displayChart(vegaEmbed));\n",
       "    }\n",
       "  })({\"config\": {\"view\": {\"continuousWidth\": 400, \"continuousHeight\": 300}}, \"hconcat\": [{\"mark\": \"geoshape\", \"encoding\": {\"color\": {\"field\": \"data_analysis\", \"legend\": {\"title\": \"Job titles\"}, \"type\": \"quantitative\"}, \"tooltip\": [{\"field\": \"state\", \"type\": \"nominal\"}, {\"field\": \"data_analysis\", \"type\": \"quantitative\"}]}, \"height\": 300, \"projection\": {\"type\": \"albersUsa\"}, \"title\": \"Number of Data Analysis Job Titles\", \"transform\": [{\"lookup\": \"id\", \"from\": {\"data\": {\"name\": \"data-bca756ab24e8cb02912375470125a665\"}, \"key\": \"id\", \"fields\": [\"state\", \"data_analysis\"]}}], \"width\": 500}, {\"mark\": \"geoshape\", \"encoding\": {\"color\": {\"field\": \"data_science\", \"legend\": {\"title\": \"Job titles\"}, \"type\": \"quantitative\"}, \"tooltip\": [{\"field\": \"state\", \"type\": \"nominal\"}, {\"field\": \"data_science\", \"type\": \"quantitative\"}]}, \"height\": 300, \"projection\": {\"type\": \"albersUsa\"}, \"title\": \"Number of Data Science Job Titles\", \"transform\": [{\"lookup\": \"id\", \"from\": {\"data\": {\"name\": \"data-bca756ab24e8cb02912375470125a665\"}, \"key\": \"id\", \"fields\": [\"state\", \"data_science\"]}}], \"width\": 500}, {\"mark\": \"geoshape\", \"encoding\": {\"color\": {\"field\": \"machine_learning\", \"legend\": {\"title\": \"Job titles\"}, \"type\": \"quantitative\"}, \"tooltip\": [{\"field\": \"state\", \"type\": \"nominal\"}, {\"field\": \"machine_learning\", \"type\": \"quantitative\"}]}, \"height\": 300, \"projection\": {\"type\": \"albersUsa\"}, \"title\": \"Number of Data Science Job Titles\", \"transform\": [{\"lookup\": \"id\", \"from\": {\"data\": {\"name\": \"data-bca756ab24e8cb02912375470125a665\"}, \"key\": \"id\", \"fields\": [\"state\", \"machine_learning\"]}}], \"width\": 500}], \"data\": {\"url\": \"https://cdn.jsdelivr.net/npm/vega-datasets@v1.29.0/data/us-10m.json\", \"format\": {\"feature\": \"states\", \"type\": \"topojson\"}}, \"$schema\": \"https://vega.github.io/schema/vega-lite/v4.17.0.json\", \"datasets\": {\"data-bca756ab24e8cb02912375470125a665\": [{\"Unnamed: 0\": 0, \"state\": \"Alabama\", \"data_analysis\": 0.0, \"data_science\": 1.0, \"machine_learning\": 0.0}, {\"Unnamed: 0\": 1, \"state\": \"Arkansas\", \"data_analysis\": 5.0, \"data_science\": 2.0, \"machine_learning\": 0.0}, {\"Unnamed: 0\": 2, \"state\": \"California\", \"data_analysis\": 0.0, \"data_science\": 0.0, \"machine_learning\": 14.0}, {\"Unnamed: 0\": 3, \"state\": \"Colorado\", \"data_analysis\": 0.0, \"data_science\": 2.0, \"machine_learning\": 2.0}, {\"Unnamed: 0\": 4, \"state\": \"Illinois\", \"data_analysis\": 0.0, \"data_science\": 8.0, \"machine_learning\": 2.0}, {\"Unnamed: 0\": 5, \"state\": \"Indiana\", \"data_analysis\": 0.0, \"data_science\": 3.0, \"machine_learning\": 0.0}, {\"Unnamed: 0\": 6, \"state\": \"Kansas\", \"data_analysis\": 4.0, \"data_science\": 1.0, \"machine_learning\": 0.0}, {\"Unnamed: 0\": 7, \"state\": \"Massachusetts\", \"data_analysis\": 0.0, \"data_science\": 0.0, \"machine_learning\": 3.0}, {\"Unnamed: 0\": 8, \"state\": \"Maryland\", \"data_analysis\": 0.0, \"data_science\": 0.0, \"machine_learning\": 3.0}, {\"Unnamed: 0\": 9, \"state\": \"Michigan\", \"data_analysis\": 0.0, \"data_science\": 0.0, \"machine_learning\": 1.0}, {\"Unnamed: 0\": 10, \"state\": \"Minnesota\", \"data_analysis\": 0.0, \"data_science\": 3.0, \"machine_learning\": 0.0}, {\"Unnamed: 0\": 11, \"state\": \"Missouri\", \"data_analysis\": 2.0, \"data_science\": 0.0, \"machine_learning\": 0.0}, {\"Unnamed: 0\": 12, \"state\": \"Nebraska\", \"data_analysis\": 2.0, \"data_science\": 0.0, \"machine_learning\": 0.0}, {\"Unnamed: 0\": 13, \"state\": \"New York\", \"data_analysis\": 0.0, \"data_science\": 0.0, \"machine_learning\": 4.0}, {\"Unnamed: 0\": 14, \"state\": \"Oklahoma\", \"data_analysis\": 5.0, \"data_science\": 1.0, \"machine_learning\": 0.0}, {\"Unnamed: 0\": 15, \"state\": \"Tennessee\", \"data_analysis\": 0.0, \"data_science\": 0.0, \"machine_learning\": 1.0}, {\"Unnamed: 0\": 16, \"state\": \"Texas\", \"data_analysis\": 1.0, \"data_science\": 8.0, \"machine_learning\": 6.0}, {\"Unnamed: 0\": 17, \"state\": \"Washington\", \"data_analysis\": 0.0, \"data_science\": 0.0, \"machine_learning\": 2.0}, {\"Unnamed: 0\": 18, \"state\": \"Wisconsin\", \"data_analysis\": 0.0, \"data_science\": 2.0, \"machine_learning\": 0.0}]}}, {\"mode\": \"vega-lite\"});\n",
       "</script>"
      ],
      "text/plain": [
       "alt.HConcatChart(...)"
      ]
     },
     "execution_count": 220,
     "metadata": {},
     "output_type": "execute_result"
    }
   ],
   "source": [
    "# chloropleths for job types and number of jobs that came up for that job type\n",
    "import altair as alt\n",
    "from vega_datasets import data\n",
    "\n",
    "states = alt.topo_feature(data.us_10m.url, 'states')\n",
    "\n",
    "# strip the spaces in the city column\n",
    "df_us[['city', 'state']] = df_us['location'].str.split(',', expand=True)\n",
    "df_us['city'] = df_us['city'].str.strip()\n",
    "df_us['state'] = df_us['state'].str.strip()\n",
    "\n",
    "df_us['state']=df_us['state'].replace('TX  (+1 other)','TX')\n",
    "df_us['state']=df_us['state'].replace('IL   (+12 others)','IL')\n",
    "df_us['state']=df_us['state'].replace('NY   (+2 others)','NY')\n",
    "\n",
    "# create a pivot table with state as the index and job types as columns\n",
    "pivot_df = pd.pivot_table(df_us, index='state', columns='job_type', values='title', aggfunc='count').reset_index()\n",
    "pivot_df.state.unique()\n",
    "\n",
    "pivot_df['state']=pivot_df['state'].replace('AL','Alabama')\n",
    "pivot_df['state']=pivot_df['state'].replace('AR','Arkansas')\n",
    "pivot_df['state']=pivot_df['state'].replace('CA','California')\n",
    "pivot_df['state']=pivot_df['state'].replace('CO','Colorado')\n",
    "pivot_df['state']=pivot_df['state'].replace('IL','Illinois')\n",
    "pivot_df['state']=pivot_df['state'].replace('IN','Indiana')\n",
    "pivot_df['state']=pivot_df['state'].replace('KS','Kansas')\n",
    "pivot_df['state']=pivot_df['state'].replace('MA','Massachusetts')\n",
    "pivot_df['state']=pivot_df['state'].replace('MD','Maryland')\n",
    "pivot_df['state']=pivot_df['state'].replace('MI','Michigan')\n",
    "pivot_df['state']=pivot_df['state'].replace('MN','Minnesota')\n",
    "pivot_df['state']=pivot_df['state'].replace('MO','Missouri')\n",
    "pivot_df['state']=pivot_df['state'].replace('NE','Nebraska')\n",
    "pivot_df['state']=pivot_df['state'].replace('NY','New York')\n",
    "pivot_df['state']=pivot_df['state'].replace('OK','Oklahoma')\n",
    "pivot_df['state']=pivot_df['state'].replace('TN','Tennessee')\n",
    "pivot_df['state']=pivot_df['state'].replace('TX','Texas')\n",
    "pivot_df['state']=pivot_df['state'].replace('WA','Washington')\n",
    "pivot_df['state']=pivot_df['state'].replace('WI','Wisconsin')\n",
    "pivot_df.fillna(0,inplace=True)\n",
    "pivot_df.to_csv('pivot_df.csv')\n",
    "\n",
    "import altair as alt\n",
    "import pandas as pd\n",
    "from vega_datasets import data\n",
    "df_test = pd.read_csv('pivot_df.csv')\n",
    "\n",
    "states = alt.topo_feature(data.us_10m.url, 'states')\n",
    "source = df_test\n",
    "chart1 = alt.Chart(states).mark_geoshape().encode(\n",
    "    color=alt.Color('data_analysis:Q', legend=alt.Legend(title='Job titles')),\n",
    "    tooltip=['state:N', 'data_analysis:Q']\n",
    ").transform_lookup(\n",
    "    lookup='id',\n",
    "    from_=alt.LookupData(source, 'id', ['state','data_analysis'])\n",
    ").project(\n",
    "    type='albersUsa'\n",
    ").properties(\n",
    "    width=500,\n",
    "    height=300,\n",
    "    title='Number of Data Analysis Job Titles'\n",
    ")\n",
    "chart2 = alt.Chart(states).mark_geoshape().encode(\n",
    "    color=alt.Color('data_science:Q', legend=alt.Legend(title='Job titles')),\n",
    "    tooltip=['state:N', 'data_science:Q']\n",
    ").transform_lookup(\n",
    "    lookup='id',\n",
    "    from_=alt.LookupData(source, 'id', ['state','data_science'])\n",
    ").project(\n",
    "    type='albersUsa'\n",
    ").properties(\n",
    "    width=500,\n",
    "    height=300,\n",
    "    title='Number of Data Science Job Titles'\n",
    ")\n",
    "chart3 = alt.Chart(states).mark_geoshape().encode(\n",
    "    color=alt.Color('machine_learning:Q', legend=alt.Legend(title='Job titles')),\n",
    "    tooltip=['state:N', 'machine_learning:Q']\n",
    ").transform_lookup(\n",
    "    lookup='id',\n",
    "    from_=alt.LookupData(source, 'id', ['state','machine_learning'])\n",
    ").project(\n",
    "    type='albersUsa'\n",
    ").properties(\n",
    "    width=500,\n",
    "    height=300,\n",
    "    title='Number of Data Science Job Titles'\n",
    ")\n",
    "\n",
    "concat = (chart1 | chart2 | chart3)\n",
    "concat\n",
    "#concat.save('../images/chloropleth.html')\n"
   ]
  },
  {
   "cell_type": "code",
   "execution_count": 227,
   "metadata": {},
   "outputs": [
    {
     "name": "stderr",
     "output_type": "stream",
     "text": [
      "/Users/ameliabaier/opt/anaconda3/envs/anly503/lib/python3.10/site-packages/altair/utils/core.py:317: FutureWarning:\n",
      "\n",
      "iteritems is deprecated and will be removed in a future version. Use .items instead.\n",
      "\n"
     ]
    },
    {
     "data": {
      "text/html": [
       "\n",
       "<div id=\"altair-viz-8fd2b18964f74f28bf620539568036c1\"></div>\n",
       "<script type=\"text/javascript\">\n",
       "  var VEGA_DEBUG = (typeof VEGA_DEBUG == \"undefined\") ? {} : VEGA_DEBUG;\n",
       "  (function(spec, embedOpt){\n",
       "    let outputDiv = document.currentScript.previousElementSibling;\n",
       "    if (outputDiv.id !== \"altair-viz-8fd2b18964f74f28bf620539568036c1\") {\n",
       "      outputDiv = document.getElementById(\"altair-viz-8fd2b18964f74f28bf620539568036c1\");\n",
       "    }\n",
       "    const paths = {\n",
       "      \"vega\": \"https://cdn.jsdelivr.net/npm//vega@5?noext\",\n",
       "      \"vega-lib\": \"https://cdn.jsdelivr.net/npm//vega-lib?noext\",\n",
       "      \"vega-lite\": \"https://cdn.jsdelivr.net/npm//vega-lite@4.17.0?noext\",\n",
       "      \"vega-embed\": \"https://cdn.jsdelivr.net/npm//vega-embed@6?noext\",\n",
       "    };\n",
       "\n",
       "    function maybeLoadScript(lib, version) {\n",
       "      var key = `${lib.replace(\"-\", \"\")}_version`;\n",
       "      return (VEGA_DEBUG[key] == version) ?\n",
       "        Promise.resolve(paths[lib]) :\n",
       "        new Promise(function(resolve, reject) {\n",
       "          var s = document.createElement('script');\n",
       "          document.getElementsByTagName(\"head\")[0].appendChild(s);\n",
       "          s.async = true;\n",
       "          s.onload = () => {\n",
       "            VEGA_DEBUG[key] = version;\n",
       "            return resolve(paths[lib]);\n",
       "          };\n",
       "          s.onerror = () => reject(`Error loading script: ${paths[lib]}`);\n",
       "          s.src = paths[lib];\n",
       "        });\n",
       "    }\n",
       "\n",
       "    function showError(err) {\n",
       "      outputDiv.innerHTML = `<div class=\"error\" style=\"color:red;\">${err}</div>`;\n",
       "      throw err;\n",
       "    }\n",
       "\n",
       "    function displayChart(vegaEmbed) {\n",
       "      vegaEmbed(outputDiv, spec, embedOpt)\n",
       "        .catch(err => showError(`Javascript Error: ${err.message}<br>This usually means there's a typo in your chart specification. See the javascript console for the full traceback.`));\n",
       "    }\n",
       "\n",
       "    if(typeof define === \"function\" && define.amd) {\n",
       "      requirejs.config({paths});\n",
       "      require([\"vega-embed\"], displayChart, err => showError(`Error loading script: ${err.message}`));\n",
       "    } else {\n",
       "      maybeLoadScript(\"vega\", \"5\")\n",
       "        .then(() => maybeLoadScript(\"vega-lite\", \"4.17.0\"))\n",
       "        .then(() => maybeLoadScript(\"vega-embed\", \"6\"))\n",
       "        .catch(showError)\n",
       "        .then(() => displayChart(vegaEmbed));\n",
       "    }\n",
       "  })({\"config\": {\"view\": {\"continuousWidth\": 400, \"continuousHeight\": 300, \"stroke\": null}, \"legend\": {\"labelColor\": \"white\", \"labelFontSize\": 14, \"titleColor\": \"white\"}, \"title\": {\"anchor\": \"middle\", \"color\": \"white\", \"fontSize\": 22}}, \"data\": {\"url\": \"https://cdn.jsdelivr.net/npm/vega-datasets@v1.29.0/data/us-10m.json\", \"format\": {\"feature\": \"states\", \"type\": \"topojson\"}}, \"mark\": \"geoshape\", \"background\": \"#272b2e\", \"encoding\": {\"color\": {\"field\": \"data_analysis\", \"legend\": {\"title\": \"Job titles\"}, \"type\": \"quantitative\"}, \"tooltip\": [{\"field\": \"state\", \"type\": \"nominal\"}, {\"field\": \"data_analysis\", \"type\": \"quantitative\"}]}, \"height\": 450, \"projection\": {\"type\": \"albersUsa\"}, \"title\": \"A chroropleth map of data analysis job titles per state\", \"transform\": [{\"lookup\": \"id\", \"from\": {\"data\": {\"name\": \"data-ae5da510a9dc31372442ed3eed58eeb6\"}, \"key\": \"id\", \"fields\": [\"state\", \"data_analysis\"]}}], \"width\": 600, \"$schema\": \"https://vega.github.io/schema/vega-lite/v4.17.0.json\", \"datasets\": {\"data-ae5da510a9dc31372442ed3eed58eeb6\": [{\"state\": \"Alabama\", \"id\": 1, \"data_analysis\": 0, \"data_science\": 1, \"machine_learning\": 0}, {\"state\": \"Arkansas\", \"id\": 5, \"data_analysis\": 5, \"data_science\": 2, \"machine_learning\": 0}, {\"state\": \"California\", \"id\": 6, \"data_analysis\": 0, \"data_science\": 0, \"machine_learning\": 14}, {\"state\": \"Colorado\", \"id\": 8, \"data_analysis\": 0, \"data_science\": 2, \"machine_learning\": 2}, {\"state\": \"Illinois\", \"id\": 17, \"data_analysis\": 0, \"data_science\": 8, \"machine_learning\": 2}, {\"state\": \"Indiana\", \"id\": 18, \"data_analysis\": 0, \"data_science\": 3, \"machine_learning\": 0}, {\"state\": \"Kansas\", \"id\": 20, \"data_analysis\": 4, \"data_science\": 1, \"machine_learning\": 0}, {\"state\": \"Massachusetts\", \"id\": 25, \"data_analysis\": 0, \"data_science\": 0, \"machine_learning\": 3}, {\"state\": \"Maryland\", \"id\": 24, \"data_analysis\": 0, \"data_science\": 0, \"machine_learning\": 3}, {\"state\": \"Michigan\", \"id\": 26, \"data_analysis\": 0, \"data_science\": 0, \"machine_learning\": 1}, {\"state\": \"Minnesota\", \"id\": 27, \"data_analysis\": 0, \"data_science\": 3, \"machine_learning\": 0}, {\"state\": \"Missouri\", \"id\": 29, \"data_analysis\": 2, \"data_science\": 0, \"machine_learning\": 0}, {\"state\": \"Nebraska\", \"id\": 31, \"data_analysis\": 2, \"data_science\": 0, \"machine_learning\": 0}, {\"state\": \"New York\", \"id\": 36, \"data_analysis\": 0, \"data_science\": 0, \"machine_learning\": 4}, {\"state\": \"Oklahoma\", \"id\": 40, \"data_analysis\": 5, \"data_science\": 1, \"machine_learning\": 0}, {\"state\": \"Tennessee\", \"id\": 47, \"data_analysis\": 0, \"data_science\": 0, \"machine_learning\": 1}, {\"state\": \"Texas\", \"id\": 48, \"data_analysis\": 1, \"data_science\": 8, \"machine_learning\": 6}, {\"state\": \"Washington\", \"id\": 53, \"data_analysis\": 0, \"data_science\": 0, \"machine_learning\": 2}, {\"state\": \"Wisconsin\", \"id\": 55, \"data_analysis\": 0, \"data_science\": 2, \"machine_learning\": 0}, {\"state\": \"Alaska\", \"id\": 2, \"data_analysis\": 0, \"data_science\": 0, \"machine_learning\": 0}, {\"state\": \"Arizona\", \"id\": 4, \"data_analysis\": 0, \"data_science\": 0, \"machine_learning\": 0}, {\"state\": \"Connecticut\", \"id\": 9, \"data_analysis\": 0, \"data_science\": 0, \"machine_learning\": 0}, {\"state\": \"Delaware\", \"id\": 10, \"data_analysis\": 0, \"data_science\": 0, \"machine_learning\": 0}, {\"state\": \"District of Columbia\", \"id\": 11, \"data_analysis\": 0, \"data_science\": 0, \"machine_learning\": 0}, {\"state\": \"Florida\", \"id\": 12, \"data_analysis\": 0, \"data_science\": 0, \"machine_learning\": 0}, {\"state\": \"Georgia\", \"id\": 13, \"data_analysis\": 0, \"data_science\": 0, \"machine_learning\": 0}, {\"state\": \"Hawaii\", \"id\": 15, \"data_analysis\": 0, \"data_science\": 0, \"machine_learning\": 0}, {\"state\": \"Idaho\", \"id\": 16, \"data_analysis\": 0, \"data_science\": 0, \"machine_learning\": 0}, {\"state\": \"Iowa\", \"id\": 19, \"data_analysis\": 0, \"data_science\": 0, \"machine_learning\": 0}, {\"state\": \"Kentucky\", \"id\": 21, \"data_analysis\": 0, \"data_science\": 0, \"machine_learning\": 0}, {\"state\": \"Louisiana\", \"id\": 22, \"data_analysis\": 0, \"data_science\": 0, \"machine_learning\": 0}, {\"state\": \"Maine\", \"id\": 23, \"data_analysis\": 0, \"data_science\": 0, \"machine_learning\": 0}, {\"state\": \"Mississippi\", \"id\": 28, \"data_analysis\": 0, \"data_science\": 0, \"machine_learning\": 0}, {\"state\": \"Montana\", \"id\": 30, \"data_analysis\": 0, \"data_science\": 0, \"machine_learning\": 0}, {\"state\": \"Nevada\", \"id\": 32, \"data_analysis\": 0, \"data_science\": 0, \"machine_learning\": 0}, {\"state\": \"New Hampshire\", \"id\": 33, \"data_analysis\": 0, \"data_science\": 0, \"machine_learning\": 0}, {\"state\": \"New Jersey\", \"id\": 34, \"data_analysis\": 0, \"data_science\": 0, \"machine_learning\": 0}, {\"state\": \"New Mexico\", \"id\": 35, \"data_analysis\": 0, \"data_science\": 0, \"machine_learning\": 0}, {\"state\": \"North Carolina\", \"id\": 37, \"data_analysis\": 0, \"data_science\": 0, \"machine_learning\": 0}, {\"state\": \"North Dakota\", \"id\": 38, \"data_analysis\": 0, \"data_science\": 0, \"machine_learning\": 0}, {\"state\": \"Ohio\", \"id\": 39, \"data_analysis\": 0, \"data_science\": 0, \"machine_learning\": 0}, {\"state\": \"Oregon\", \"id\": 41, \"data_analysis\": 0, \"data_science\": 0, \"machine_learning\": 0}, {\"state\": \"Pennsylvania\", \"id\": 42, \"data_analysis\": 0, \"data_science\": 0, \"machine_learning\": 0}, {\"state\": \"Rhode Island\", \"id\": 44, \"data_analysis\": 0, \"data_science\": 0, \"machine_learning\": 0}, {\"state\": \"South Carolina\", \"id\": 45, \"data_analysis\": 0, \"data_science\": 0, \"machine_learning\": 0}, {\"state\": \"South Dakota\", \"id\": 46, \"data_analysis\": 0, \"data_science\": 0, \"machine_learning\": 0}, {\"state\": \"Utah\", \"id\": 49, \"data_analysis\": 0, \"data_science\": 0, \"machine_learning\": 0}, {\"state\": \"Vermont\", \"id\": 50, \"data_analysis\": 0, \"data_science\": 0, \"machine_learning\": 0}, {\"state\": \"Virginia\", \"id\": 51, \"data_analysis\": 0, \"data_science\": 0, \"machine_learning\": 0}, {\"state\": \"West Virginia\", \"id\": 54, \"data_analysis\": 0, \"data_science\": 0, \"machine_learning\": 0}, {\"state\": \"Wyoming\", \"id\": 56, \"data_analysis\": 0, \"data_science\": 0, \"machine_learning\": 0}, {\"state\": \"Puerto Rico\", \"id\": 72, \"data_analysis\": 0, \"data_science\": 0, \"machine_learning\": 0}]}}, {\"mode\": \"vega-lite\"});\n",
       "</script>"
      ],
      "text/plain": [
       "alt.Chart(...)"
      ]
     },
     "execution_count": 227,
     "metadata": {},
     "output_type": "execute_result"
    }
   ],
   "source": [
    "import altair as alt\n",
    "import pandas as pd\n",
    "from vega_datasets import data\n",
    "df_test = pd.read_csv('../data/pivot_df.csv')\n",
    "\n",
    "states = alt.topo_feature(data.us_10m.url, 'states')\n",
    "source = df_test\n",
    "chart1 = alt.Chart(states).mark_geoshape().encode(\n",
    "    color=alt.Color('data_analysis:Q', legend=alt.Legend(title='Job titles')),\n",
    "    tooltip=['state:N', 'data_analysis:Q']\n",
    ").transform_lookup(\n",
    "    lookup='id',\n",
    "    from_=alt.LookupData(source, 'id', ['state','data_analysis'])\n",
    ").project(\n",
    "    type='albersUsa'\n",
    ").properties(\n",
    "    width=600,\n",
    "    height=450,\n",
    "    title='A chroropleth map of data analysis job titles per state',\n",
    "    background='#272b2e'\n",
    ").configure_title(\n",
    "    fontSize=22,\n",
    "    color='white', # set the title font color to white\n",
    "    anchor='middle',\n",
    ").configure_legend(\n",
    "    labelColor='white',\n",
    "    titleColor='white',\n",
    "    labelFontSize=14, \n",
    ").configure_view(stroke=None)\n",
    "\n",
    "chart1.save('../images/chloropleth1.html')\n",
    "chart1"
   ]
  },
  {
   "cell_type": "code",
   "execution_count": 228,
   "metadata": {},
   "outputs": [
    {
     "name": "stderr",
     "output_type": "stream",
     "text": [
      "/Users/ameliabaier/opt/anaconda3/envs/anly503/lib/python3.10/site-packages/altair/utils/core.py:317: FutureWarning:\n",
      "\n",
      "iteritems is deprecated and will be removed in a future version. Use .items instead.\n",
      "\n"
     ]
    },
    {
     "data": {
      "text/html": [
       "\n",
       "<div id=\"altair-viz-6263d9e9c57748c39fb8ac75a72753bd\"></div>\n",
       "<script type=\"text/javascript\">\n",
       "  var VEGA_DEBUG = (typeof VEGA_DEBUG == \"undefined\") ? {} : VEGA_DEBUG;\n",
       "  (function(spec, embedOpt){\n",
       "    let outputDiv = document.currentScript.previousElementSibling;\n",
       "    if (outputDiv.id !== \"altair-viz-6263d9e9c57748c39fb8ac75a72753bd\") {\n",
       "      outputDiv = document.getElementById(\"altair-viz-6263d9e9c57748c39fb8ac75a72753bd\");\n",
       "    }\n",
       "    const paths = {\n",
       "      \"vega\": \"https://cdn.jsdelivr.net/npm//vega@5?noext\",\n",
       "      \"vega-lib\": \"https://cdn.jsdelivr.net/npm//vega-lib?noext\",\n",
       "      \"vega-lite\": \"https://cdn.jsdelivr.net/npm//vega-lite@4.17.0?noext\",\n",
       "      \"vega-embed\": \"https://cdn.jsdelivr.net/npm//vega-embed@6?noext\",\n",
       "    };\n",
       "\n",
       "    function maybeLoadScript(lib, version) {\n",
       "      var key = `${lib.replace(\"-\", \"\")}_version`;\n",
       "      return (VEGA_DEBUG[key] == version) ?\n",
       "        Promise.resolve(paths[lib]) :\n",
       "        new Promise(function(resolve, reject) {\n",
       "          var s = document.createElement('script');\n",
       "          document.getElementsByTagName(\"head\")[0].appendChild(s);\n",
       "          s.async = true;\n",
       "          s.onload = () => {\n",
       "            VEGA_DEBUG[key] = version;\n",
       "            return resolve(paths[lib]);\n",
       "          };\n",
       "          s.onerror = () => reject(`Error loading script: ${paths[lib]}`);\n",
       "          s.src = paths[lib];\n",
       "        });\n",
       "    }\n",
       "\n",
       "    function showError(err) {\n",
       "      outputDiv.innerHTML = `<div class=\"error\" style=\"color:red;\">${err}</div>`;\n",
       "      throw err;\n",
       "    }\n",
       "\n",
       "    function displayChart(vegaEmbed) {\n",
       "      vegaEmbed(outputDiv, spec, embedOpt)\n",
       "        .catch(err => showError(`Javascript Error: ${err.message}<br>This usually means there's a typo in your chart specification. See the javascript console for the full traceback.`));\n",
       "    }\n",
       "\n",
       "    if(typeof define === \"function\" && define.amd) {\n",
       "      requirejs.config({paths});\n",
       "      require([\"vega-embed\"], displayChart, err => showError(`Error loading script: ${err.message}`));\n",
       "    } else {\n",
       "      maybeLoadScript(\"vega\", \"5\")\n",
       "        .then(() => maybeLoadScript(\"vega-lite\", \"4.17.0\"))\n",
       "        .then(() => maybeLoadScript(\"vega-embed\", \"6\"))\n",
       "        .catch(showError)\n",
       "        .then(() => displayChart(vegaEmbed));\n",
       "    }\n",
       "  })({\"config\": {\"view\": {\"continuousWidth\": 400, \"continuousHeight\": 300, \"stroke\": null}, \"legend\": {\"labelColor\": \"white\", \"labelFontSize\": 14, \"titleColor\": \"white\"}, \"title\": {\"anchor\": \"middle\", \"color\": \"white\", \"fontSize\": 22}}, \"data\": {\"url\": \"https://cdn.jsdelivr.net/npm/vega-datasets@v1.29.0/data/us-10m.json\", \"format\": {\"feature\": \"states\", \"type\": \"topojson\"}}, \"mark\": \"geoshape\", \"background\": \"#272b2e\", \"encoding\": {\"color\": {\"field\": \"data_science\", \"legend\": {\"title\": \"Job titles\"}, \"type\": \"quantitative\"}, \"tooltip\": [{\"field\": \"state\", \"type\": \"nominal\"}, {\"field\": \"data_science\", \"type\": \"quantitative\"}]}, \"height\": 450, \"projection\": {\"type\": \"albersUsa\"}, \"title\": \"A chroropleth map of data analysis job titles per state\", \"transform\": [{\"lookup\": \"id\", \"from\": {\"data\": {\"name\": \"data-ae5da510a9dc31372442ed3eed58eeb6\"}, \"key\": \"id\", \"fields\": [\"state\", \"data_science\"]}}], \"width\": 600, \"$schema\": \"https://vega.github.io/schema/vega-lite/v4.17.0.json\", \"datasets\": {\"data-ae5da510a9dc31372442ed3eed58eeb6\": [{\"state\": \"Alabama\", \"id\": 1, \"data_analysis\": 0, \"data_science\": 1, \"machine_learning\": 0}, {\"state\": \"Arkansas\", \"id\": 5, \"data_analysis\": 5, \"data_science\": 2, \"machine_learning\": 0}, {\"state\": \"California\", \"id\": 6, \"data_analysis\": 0, \"data_science\": 0, \"machine_learning\": 14}, {\"state\": \"Colorado\", \"id\": 8, \"data_analysis\": 0, \"data_science\": 2, \"machine_learning\": 2}, {\"state\": \"Illinois\", \"id\": 17, \"data_analysis\": 0, \"data_science\": 8, \"machine_learning\": 2}, {\"state\": \"Indiana\", \"id\": 18, \"data_analysis\": 0, \"data_science\": 3, \"machine_learning\": 0}, {\"state\": \"Kansas\", \"id\": 20, \"data_analysis\": 4, \"data_science\": 1, \"machine_learning\": 0}, {\"state\": \"Massachusetts\", \"id\": 25, \"data_analysis\": 0, \"data_science\": 0, \"machine_learning\": 3}, {\"state\": \"Maryland\", \"id\": 24, \"data_analysis\": 0, \"data_science\": 0, \"machine_learning\": 3}, {\"state\": \"Michigan\", \"id\": 26, \"data_analysis\": 0, \"data_science\": 0, \"machine_learning\": 1}, {\"state\": \"Minnesota\", \"id\": 27, \"data_analysis\": 0, \"data_science\": 3, \"machine_learning\": 0}, {\"state\": \"Missouri\", \"id\": 29, \"data_analysis\": 2, \"data_science\": 0, \"machine_learning\": 0}, {\"state\": \"Nebraska\", \"id\": 31, \"data_analysis\": 2, \"data_science\": 0, \"machine_learning\": 0}, {\"state\": \"New York\", \"id\": 36, \"data_analysis\": 0, \"data_science\": 0, \"machine_learning\": 4}, {\"state\": \"Oklahoma\", \"id\": 40, \"data_analysis\": 5, \"data_science\": 1, \"machine_learning\": 0}, {\"state\": \"Tennessee\", \"id\": 47, \"data_analysis\": 0, \"data_science\": 0, \"machine_learning\": 1}, {\"state\": \"Texas\", \"id\": 48, \"data_analysis\": 1, \"data_science\": 8, \"machine_learning\": 6}, {\"state\": \"Washington\", \"id\": 53, \"data_analysis\": 0, \"data_science\": 0, \"machine_learning\": 2}, {\"state\": \"Wisconsin\", \"id\": 55, \"data_analysis\": 0, \"data_science\": 2, \"machine_learning\": 0}, {\"state\": \"Alaska\", \"id\": 2, \"data_analysis\": 0, \"data_science\": 0, \"machine_learning\": 0}, {\"state\": \"Arizona\", \"id\": 4, \"data_analysis\": 0, \"data_science\": 0, \"machine_learning\": 0}, {\"state\": \"Connecticut\", \"id\": 9, \"data_analysis\": 0, \"data_science\": 0, \"machine_learning\": 0}, {\"state\": \"Delaware\", \"id\": 10, \"data_analysis\": 0, \"data_science\": 0, \"machine_learning\": 0}, {\"state\": \"District of Columbia\", \"id\": 11, \"data_analysis\": 0, \"data_science\": 0, \"machine_learning\": 0}, {\"state\": \"Florida\", \"id\": 12, \"data_analysis\": 0, \"data_science\": 0, \"machine_learning\": 0}, {\"state\": \"Georgia\", \"id\": 13, \"data_analysis\": 0, \"data_science\": 0, \"machine_learning\": 0}, {\"state\": \"Hawaii\", \"id\": 15, \"data_analysis\": 0, \"data_science\": 0, \"machine_learning\": 0}, {\"state\": \"Idaho\", \"id\": 16, \"data_analysis\": 0, \"data_science\": 0, \"machine_learning\": 0}, {\"state\": \"Iowa\", \"id\": 19, \"data_analysis\": 0, \"data_science\": 0, \"machine_learning\": 0}, {\"state\": \"Kentucky\", \"id\": 21, \"data_analysis\": 0, \"data_science\": 0, \"machine_learning\": 0}, {\"state\": \"Louisiana\", \"id\": 22, \"data_analysis\": 0, \"data_science\": 0, \"machine_learning\": 0}, {\"state\": \"Maine\", \"id\": 23, \"data_analysis\": 0, \"data_science\": 0, \"machine_learning\": 0}, {\"state\": \"Mississippi\", \"id\": 28, \"data_analysis\": 0, \"data_science\": 0, \"machine_learning\": 0}, {\"state\": \"Montana\", \"id\": 30, \"data_analysis\": 0, \"data_science\": 0, \"machine_learning\": 0}, {\"state\": \"Nevada\", \"id\": 32, \"data_analysis\": 0, \"data_science\": 0, \"machine_learning\": 0}, {\"state\": \"New Hampshire\", \"id\": 33, \"data_analysis\": 0, \"data_science\": 0, \"machine_learning\": 0}, {\"state\": \"New Jersey\", \"id\": 34, \"data_analysis\": 0, \"data_science\": 0, \"machine_learning\": 0}, {\"state\": \"New Mexico\", \"id\": 35, \"data_analysis\": 0, \"data_science\": 0, \"machine_learning\": 0}, {\"state\": \"North Carolina\", \"id\": 37, \"data_analysis\": 0, \"data_science\": 0, \"machine_learning\": 0}, {\"state\": \"North Dakota\", \"id\": 38, \"data_analysis\": 0, \"data_science\": 0, \"machine_learning\": 0}, {\"state\": \"Ohio\", \"id\": 39, \"data_analysis\": 0, \"data_science\": 0, \"machine_learning\": 0}, {\"state\": \"Oregon\", \"id\": 41, \"data_analysis\": 0, \"data_science\": 0, \"machine_learning\": 0}, {\"state\": \"Pennsylvania\", \"id\": 42, \"data_analysis\": 0, \"data_science\": 0, \"machine_learning\": 0}, {\"state\": \"Rhode Island\", \"id\": 44, \"data_analysis\": 0, \"data_science\": 0, \"machine_learning\": 0}, {\"state\": \"South Carolina\", \"id\": 45, \"data_analysis\": 0, \"data_science\": 0, \"machine_learning\": 0}, {\"state\": \"South Dakota\", \"id\": 46, \"data_analysis\": 0, \"data_science\": 0, \"machine_learning\": 0}, {\"state\": \"Utah\", \"id\": 49, \"data_analysis\": 0, \"data_science\": 0, \"machine_learning\": 0}, {\"state\": \"Vermont\", \"id\": 50, \"data_analysis\": 0, \"data_science\": 0, \"machine_learning\": 0}, {\"state\": \"Virginia\", \"id\": 51, \"data_analysis\": 0, \"data_science\": 0, \"machine_learning\": 0}, {\"state\": \"West Virginia\", \"id\": 54, \"data_analysis\": 0, \"data_science\": 0, \"machine_learning\": 0}, {\"state\": \"Wyoming\", \"id\": 56, \"data_analysis\": 0, \"data_science\": 0, \"machine_learning\": 0}, {\"state\": \"Puerto Rico\", \"id\": 72, \"data_analysis\": 0, \"data_science\": 0, \"machine_learning\": 0}]}}, {\"mode\": \"vega-lite\"});\n",
       "</script>"
      ],
      "text/plain": [
       "alt.Chart(...)"
      ]
     },
     "execution_count": 228,
     "metadata": {},
     "output_type": "execute_result"
    }
   ],
   "source": [
    "import altair as alt\n",
    "import pandas as pd\n",
    "from vega_datasets import data\n",
    "df_test = pd.read_csv('../data/pivot_df.csv')\n",
    "\n",
    "states = alt.topo_feature(data.us_10m.url, 'states')\n",
    "source = df_test\n",
    "chart2 = alt.Chart(states).mark_geoshape().encode(\n",
    "    color=alt.Color('data_science:Q', legend=alt.Legend(title='Job titles')),\n",
    "    tooltip=['state:N', 'data_science:Q']\n",
    ").transform_lookup(\n",
    "    lookup='id',\n",
    "    from_=alt.LookupData(source, 'id', ['state','data_science'])\n",
    ").project(\n",
    "    type='albersUsa'\n",
    ").properties(\n",
    "    width=600,\n",
    "    height=450,\n",
    "    title='A chroropleth map of data analysis job titles per state',\n",
    "    background='#272b2e'\n",
    ").configure_title(\n",
    "    fontSize=22,\n",
    "    color='white', # set the title font color to white\n",
    "    anchor='middle',\n",
    ").configure_legend(\n",
    "    labelColor='white',\n",
    "    titleColor='white',\n",
    "    labelFontSize=14, \n",
    ").configure_view(stroke=None)\n",
    "\n",
    "chart2.save('../images/chloropleth2.html')\n",
    "chart2"
   ]
  },
  {
   "cell_type": "code",
   "execution_count": 229,
   "metadata": {},
   "outputs": [
    {
     "name": "stderr",
     "output_type": "stream",
     "text": [
      "/Users/ameliabaier/opt/anaconda3/envs/anly503/lib/python3.10/site-packages/altair/utils/core.py:317: FutureWarning:\n",
      "\n",
      "iteritems is deprecated and will be removed in a future version. Use .items instead.\n",
      "\n"
     ]
    },
    {
     "data": {
      "text/html": [
       "\n",
       "<div id=\"altair-viz-8db58798ba33464a8a459c015b8eaded\"></div>\n",
       "<script type=\"text/javascript\">\n",
       "  var VEGA_DEBUG = (typeof VEGA_DEBUG == \"undefined\") ? {} : VEGA_DEBUG;\n",
       "  (function(spec, embedOpt){\n",
       "    let outputDiv = document.currentScript.previousElementSibling;\n",
       "    if (outputDiv.id !== \"altair-viz-8db58798ba33464a8a459c015b8eaded\") {\n",
       "      outputDiv = document.getElementById(\"altair-viz-8db58798ba33464a8a459c015b8eaded\");\n",
       "    }\n",
       "    const paths = {\n",
       "      \"vega\": \"https://cdn.jsdelivr.net/npm//vega@5?noext\",\n",
       "      \"vega-lib\": \"https://cdn.jsdelivr.net/npm//vega-lib?noext\",\n",
       "      \"vega-lite\": \"https://cdn.jsdelivr.net/npm//vega-lite@4.17.0?noext\",\n",
       "      \"vega-embed\": \"https://cdn.jsdelivr.net/npm//vega-embed@6?noext\",\n",
       "    };\n",
       "\n",
       "    function maybeLoadScript(lib, version) {\n",
       "      var key = `${lib.replace(\"-\", \"\")}_version`;\n",
       "      return (VEGA_DEBUG[key] == version) ?\n",
       "        Promise.resolve(paths[lib]) :\n",
       "        new Promise(function(resolve, reject) {\n",
       "          var s = document.createElement('script');\n",
       "          document.getElementsByTagName(\"head\")[0].appendChild(s);\n",
       "          s.async = true;\n",
       "          s.onload = () => {\n",
       "            VEGA_DEBUG[key] = version;\n",
       "            return resolve(paths[lib]);\n",
       "          };\n",
       "          s.onerror = () => reject(`Error loading script: ${paths[lib]}`);\n",
       "          s.src = paths[lib];\n",
       "        });\n",
       "    }\n",
       "\n",
       "    function showError(err) {\n",
       "      outputDiv.innerHTML = `<div class=\"error\" style=\"color:red;\">${err}</div>`;\n",
       "      throw err;\n",
       "    }\n",
       "\n",
       "    function displayChart(vegaEmbed) {\n",
       "      vegaEmbed(outputDiv, spec, embedOpt)\n",
       "        .catch(err => showError(`Javascript Error: ${err.message}<br>This usually means there's a typo in your chart specification. See the javascript console for the full traceback.`));\n",
       "    }\n",
       "\n",
       "    if(typeof define === \"function\" && define.amd) {\n",
       "      requirejs.config({paths});\n",
       "      require([\"vega-embed\"], displayChart, err => showError(`Error loading script: ${err.message}`));\n",
       "    } else {\n",
       "      maybeLoadScript(\"vega\", \"5\")\n",
       "        .then(() => maybeLoadScript(\"vega-lite\", \"4.17.0\"))\n",
       "        .then(() => maybeLoadScript(\"vega-embed\", \"6\"))\n",
       "        .catch(showError)\n",
       "        .then(() => displayChart(vegaEmbed));\n",
       "    }\n",
       "  })({\"config\": {\"view\": {\"continuousWidth\": 400, \"continuousHeight\": 300, \"stroke\": null}, \"legend\": {\"labelColor\": \"white\", \"labelFontSize\": 14, \"titleColor\": \"white\"}, \"title\": {\"anchor\": \"middle\", \"color\": \"white\", \"fontSize\": 22}}, \"data\": {\"url\": \"https://cdn.jsdelivr.net/npm/vega-datasets@v1.29.0/data/us-10m.json\", \"format\": {\"feature\": \"states\", \"type\": \"topojson\"}}, \"mark\": \"geoshape\", \"background\": \"#272b2e\", \"encoding\": {\"color\": {\"field\": \"machine_learning\", \"legend\": {\"title\": \"Job titles\"}, \"type\": \"quantitative\"}, \"tooltip\": [{\"field\": \"state\", \"type\": \"nominal\"}, {\"field\": \"machine_learning\", \"type\": \"quantitative\"}]}, \"height\": 450, \"projection\": {\"type\": \"albersUsa\"}, \"title\": \"A chroropleth map of data analysis job titles per state\", \"transform\": [{\"lookup\": \"id\", \"from\": {\"data\": {\"name\": \"data-ae5da510a9dc31372442ed3eed58eeb6\"}, \"key\": \"id\", \"fields\": [\"state\", \"machine_learning\"]}}], \"width\": 600, \"$schema\": \"https://vega.github.io/schema/vega-lite/v4.17.0.json\", \"datasets\": {\"data-ae5da510a9dc31372442ed3eed58eeb6\": [{\"state\": \"Alabama\", \"id\": 1, \"data_analysis\": 0, \"data_science\": 1, \"machine_learning\": 0}, {\"state\": \"Arkansas\", \"id\": 5, \"data_analysis\": 5, \"data_science\": 2, \"machine_learning\": 0}, {\"state\": \"California\", \"id\": 6, \"data_analysis\": 0, \"data_science\": 0, \"machine_learning\": 14}, {\"state\": \"Colorado\", \"id\": 8, \"data_analysis\": 0, \"data_science\": 2, \"machine_learning\": 2}, {\"state\": \"Illinois\", \"id\": 17, \"data_analysis\": 0, \"data_science\": 8, \"machine_learning\": 2}, {\"state\": \"Indiana\", \"id\": 18, \"data_analysis\": 0, \"data_science\": 3, \"machine_learning\": 0}, {\"state\": \"Kansas\", \"id\": 20, \"data_analysis\": 4, \"data_science\": 1, \"machine_learning\": 0}, {\"state\": \"Massachusetts\", \"id\": 25, \"data_analysis\": 0, \"data_science\": 0, \"machine_learning\": 3}, {\"state\": \"Maryland\", \"id\": 24, \"data_analysis\": 0, \"data_science\": 0, \"machine_learning\": 3}, {\"state\": \"Michigan\", \"id\": 26, \"data_analysis\": 0, \"data_science\": 0, \"machine_learning\": 1}, {\"state\": \"Minnesota\", \"id\": 27, \"data_analysis\": 0, \"data_science\": 3, \"machine_learning\": 0}, {\"state\": \"Missouri\", \"id\": 29, \"data_analysis\": 2, \"data_science\": 0, \"machine_learning\": 0}, {\"state\": \"Nebraska\", \"id\": 31, \"data_analysis\": 2, \"data_science\": 0, \"machine_learning\": 0}, {\"state\": \"New York\", \"id\": 36, \"data_analysis\": 0, \"data_science\": 0, \"machine_learning\": 4}, {\"state\": \"Oklahoma\", \"id\": 40, \"data_analysis\": 5, \"data_science\": 1, \"machine_learning\": 0}, {\"state\": \"Tennessee\", \"id\": 47, \"data_analysis\": 0, \"data_science\": 0, \"machine_learning\": 1}, {\"state\": \"Texas\", \"id\": 48, \"data_analysis\": 1, \"data_science\": 8, \"machine_learning\": 6}, {\"state\": \"Washington\", \"id\": 53, \"data_analysis\": 0, \"data_science\": 0, \"machine_learning\": 2}, {\"state\": \"Wisconsin\", \"id\": 55, \"data_analysis\": 0, \"data_science\": 2, \"machine_learning\": 0}, {\"state\": \"Alaska\", \"id\": 2, \"data_analysis\": 0, \"data_science\": 0, \"machine_learning\": 0}, {\"state\": \"Arizona\", \"id\": 4, \"data_analysis\": 0, \"data_science\": 0, \"machine_learning\": 0}, {\"state\": \"Connecticut\", \"id\": 9, \"data_analysis\": 0, \"data_science\": 0, \"machine_learning\": 0}, {\"state\": \"Delaware\", \"id\": 10, \"data_analysis\": 0, \"data_science\": 0, \"machine_learning\": 0}, {\"state\": \"District of Columbia\", \"id\": 11, \"data_analysis\": 0, \"data_science\": 0, \"machine_learning\": 0}, {\"state\": \"Florida\", \"id\": 12, \"data_analysis\": 0, \"data_science\": 0, \"machine_learning\": 0}, {\"state\": \"Georgia\", \"id\": 13, \"data_analysis\": 0, \"data_science\": 0, \"machine_learning\": 0}, {\"state\": \"Hawaii\", \"id\": 15, \"data_analysis\": 0, \"data_science\": 0, \"machine_learning\": 0}, {\"state\": \"Idaho\", \"id\": 16, \"data_analysis\": 0, \"data_science\": 0, \"machine_learning\": 0}, {\"state\": \"Iowa\", \"id\": 19, \"data_analysis\": 0, \"data_science\": 0, \"machine_learning\": 0}, {\"state\": \"Kentucky\", \"id\": 21, \"data_analysis\": 0, \"data_science\": 0, \"machine_learning\": 0}, {\"state\": \"Louisiana\", \"id\": 22, \"data_analysis\": 0, \"data_science\": 0, \"machine_learning\": 0}, {\"state\": \"Maine\", \"id\": 23, \"data_analysis\": 0, \"data_science\": 0, \"machine_learning\": 0}, {\"state\": \"Mississippi\", \"id\": 28, \"data_analysis\": 0, \"data_science\": 0, \"machine_learning\": 0}, {\"state\": \"Montana\", \"id\": 30, \"data_analysis\": 0, \"data_science\": 0, \"machine_learning\": 0}, {\"state\": \"Nevada\", \"id\": 32, \"data_analysis\": 0, \"data_science\": 0, \"machine_learning\": 0}, {\"state\": \"New Hampshire\", \"id\": 33, \"data_analysis\": 0, \"data_science\": 0, \"machine_learning\": 0}, {\"state\": \"New Jersey\", \"id\": 34, \"data_analysis\": 0, \"data_science\": 0, \"machine_learning\": 0}, {\"state\": \"New Mexico\", \"id\": 35, \"data_analysis\": 0, \"data_science\": 0, \"machine_learning\": 0}, {\"state\": \"North Carolina\", \"id\": 37, \"data_analysis\": 0, \"data_science\": 0, \"machine_learning\": 0}, {\"state\": \"North Dakota\", \"id\": 38, \"data_analysis\": 0, \"data_science\": 0, \"machine_learning\": 0}, {\"state\": \"Ohio\", \"id\": 39, \"data_analysis\": 0, \"data_science\": 0, \"machine_learning\": 0}, {\"state\": \"Oregon\", \"id\": 41, \"data_analysis\": 0, \"data_science\": 0, \"machine_learning\": 0}, {\"state\": \"Pennsylvania\", \"id\": 42, \"data_analysis\": 0, \"data_science\": 0, \"machine_learning\": 0}, {\"state\": \"Rhode Island\", \"id\": 44, \"data_analysis\": 0, \"data_science\": 0, \"machine_learning\": 0}, {\"state\": \"South Carolina\", \"id\": 45, \"data_analysis\": 0, \"data_science\": 0, \"machine_learning\": 0}, {\"state\": \"South Dakota\", \"id\": 46, \"data_analysis\": 0, \"data_science\": 0, \"machine_learning\": 0}, {\"state\": \"Utah\", \"id\": 49, \"data_analysis\": 0, \"data_science\": 0, \"machine_learning\": 0}, {\"state\": \"Vermont\", \"id\": 50, \"data_analysis\": 0, \"data_science\": 0, \"machine_learning\": 0}, {\"state\": \"Virginia\", \"id\": 51, \"data_analysis\": 0, \"data_science\": 0, \"machine_learning\": 0}, {\"state\": \"West Virginia\", \"id\": 54, \"data_analysis\": 0, \"data_science\": 0, \"machine_learning\": 0}, {\"state\": \"Wyoming\", \"id\": 56, \"data_analysis\": 0, \"data_science\": 0, \"machine_learning\": 0}, {\"state\": \"Puerto Rico\", \"id\": 72, \"data_analysis\": 0, \"data_science\": 0, \"machine_learning\": 0}]}}, {\"mode\": \"vega-lite\"});\n",
       "</script>"
      ],
      "text/plain": [
       "alt.Chart(...)"
      ]
     },
     "execution_count": 229,
     "metadata": {},
     "output_type": "execute_result"
    }
   ],
   "source": [
    "import altair as alt\n",
    "import pandas as pd\n",
    "from vega_datasets import data\n",
    "df_test = pd.read_csv('../data/pivot_df.csv')\n",
    "\n",
    "states = alt.topo_feature(data.us_10m.url, 'states')\n",
    "source = df_test\n",
    "chart3 = alt.Chart(states).mark_geoshape().encode(\n",
    "    color=alt.Color('machine_learning:Q', legend=alt.Legend(title='Job titles')),\n",
    "    tooltip=['state:N', 'machine_learning:Q']\n",
    ").transform_lookup(\n",
    "    lookup='id',\n",
    "    from_=alt.LookupData(source, 'id', ['state','machine_learning'])\n",
    ").project(\n",
    "    type='albersUsa'\n",
    ").properties(\n",
    "    width=600,\n",
    "    height=450,\n",
    "    title='A chroropleth map of data analysis job titles per state',\n",
    "    background='#272b2e'\n",
    ").configure_title(\n",
    "    fontSize=22,\n",
    "    color='white', # set the title font color to white\n",
    "    anchor='middle',\n",
    ").configure_legend(\n",
    "    labelColor='white',\n",
    "    titleColor='white',\n",
    "    labelFontSize=14, \n",
    ").configure_view(stroke=None)\n",
    "\n",
    "chart3.save('../images/chloropleth3.html')\n",
    "chart3"
   ]
  },
  {
   "cell_type": "code",
   "execution_count": 148,
   "metadata": {},
   "outputs": [
    {
     "data": {
      "text/html": [
       "\n",
       "        <iframe\n",
       "            width=\"100%\"\n",
       "            height=\"700px\"\n",
       "            src=\"../images/my_network.html\"\n",
       "            frameborder=\"0\"\n",
       "            allowfullscreen\n",
       "            \n",
       "        ></iframe>\n",
       "        "
      ],
      "text/plain": [
       "<IPython.lib.display.IFrame at 0x168e957e0>"
      ]
     },
     "execution_count": 148,
     "metadata": {},
     "output_type": "execute_result"
    }
   ],
   "source": [
    "# companies and job types\n",
    "import pandas as pd\n",
    "from pyvis.network import Network\n",
    "\n",
    "df_company = df.groupby(['job_type','company_name']).size().reset_index(name='edge_weight')\n",
    "\n",
    "# Create object\n",
    "net = Network(height='700px', width='100%', bgcolor='#272B2E', font_color='white',\n",
    "              notebook=True, cdn_resources=\"remote\", select_menu=True, filter_menu=True)\n",
    "\n",
    "# Add nodes \n",
    "companies = df_company['company_name'].unique()\n",
    "for company in companies:\n",
    "    net.add_node(company, title=company, color='#C7D3AB', shape='dot', border_width=0)\n",
    "\n",
    "job_types = df_company['job_type'].unique()\n",
    "\n",
    "for jobtype in job_types:\n",
    "    net.add_node(jobtype, title=jobtype, color='#A3BCD6', shape='dot', size=40, border_width=0)\n",
    "\n",
    "# Add edges between the company and job title nodes based on the data\n",
    "for i, row in df_company.iterrows():\n",
    "    net.add_edge(row['company_name'], row['job_type'], value=row['edge_weight'], title=\"weight: {}\".format(row['edge_weight']))\n",
    "\n",
    "net.show('../images/my_network.html')\n"
   ]
  }
 ],
 "metadata": {
  "interpreter": {
   "hash": "20dd34bb65c455887199d6cb13dd1061eaaba2e960b7259bd6b1be1811da0914"
  },
  "kernelspec": {
   "display_name": "Python 3.10.8 ('anly503')",
   "language": "python",
   "name": "python3"
  },
  "language_info": {
   "codemirror_mode": {
    "name": "ipython",
    "version": 3
   },
   "file_extension": ".py",
   "mimetype": "text/x-python",
   "name": "python",
   "nbconvert_exporter": "python",
   "pygments_lexer": "ipython3",
   "version": "3.10.8"
  },
  "orig_nbformat": 4
 },
 "nbformat": 4,
 "nbformat_minor": 2
}
