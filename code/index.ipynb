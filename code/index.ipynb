{
 "cells": [
  {
   "cell_type": "code",
   "execution_count": 7,
   "metadata": {},
   "outputs": [
    {
     "data": {
      "text/html": [
       "<div>\n",
       "<style scoped>\n",
       "    .dataframe tbody tr th:only-of-type {\n",
       "        vertical-align: middle;\n",
       "    }\n",
       "\n",
       "    .dataframe tbody tr th {\n",
       "        vertical-align: top;\n",
       "    }\n",
       "\n",
       "    .dataframe thead th {\n",
       "        text-align: right;\n",
       "    }\n",
       "</style>\n",
       "<table border=\"1\" class=\"dataframe\">\n",
       "  <thead>\n",
       "    <tr style=\"text-align: right;\">\n",
       "      <th></th>\n",
       "      <th>title</th>\n",
       "      <th>company_name</th>\n",
       "      <th>location</th>\n",
       "      <th>via</th>\n",
       "      <th>description</th>\n",
       "      <th>job_highlights</th>\n",
       "      <th>related_links</th>\n",
       "      <th>extensions</th>\n",
       "      <th>detected_extensions</th>\n",
       "      <th>job_id</th>\n",
       "      <th>job_type</th>\n",
       "      <th>location_overall</th>\n",
       "    </tr>\n",
       "  </thead>\n",
       "  <tbody>\n",
       "    <tr>\n",
       "      <th>0</th>\n",
       "      <td>Master Data Analyst</td>\n",
       "      <td>Cargill</td>\n",
       "      <td>Olathe, KS</td>\n",
       "      <td>via Career At Cargill</td>\n",
       "      <td>Want to build a stronger, more sustainable fut...</td>\n",
       "      <td>[{'title': 'Qualifications', 'items': ['Bachel...</td>\n",
       "      <td>[{'link': 'http://www.cargill.com/', 'text': '...</td>\n",
       "      <td>[4 days ago, Full-time, Health insurance, Dent...</td>\n",
       "      <td>{'posted_at': '4 days ago', 'schedule_type': '...</td>\n",
       "      <td>eyJqb2JfdGl0bGUiOiJNYXN0ZXIgRGF0YSBBbmFseXN0Ii...</td>\n",
       "      <td>data_analysis</td>\n",
       "      <td>DC</td>\n",
       "    </tr>\n",
       "    <tr>\n",
       "      <th>1</th>\n",
       "      <td>Data Analyst</td>\n",
       "      <td>Rectangle Health</td>\n",
       "      <td>Anywhere</td>\n",
       "      <td>via LinkedIn</td>\n",
       "      <td>Data Analyst\\n\\nAt Rectangle Health, we believ...</td>\n",
       "      <td>[{'title': 'Qualifications', 'items': ['Bachel...</td>\n",
       "      <td>[{'link': 'https://www.google.com/search?q=Rec...</td>\n",
       "      <td>[1 day ago, Work from home, Full-time]</td>\n",
       "      <td>{'posted_at': '1 day ago', 'schedule_type': 'F...</td>\n",
       "      <td>eyJqb2JfdGl0bGUiOiJEYXRhIEFuYWx5c3QiLCJodGlkb2...</td>\n",
       "      <td>data_analysis</td>\n",
       "      <td>DC</td>\n",
       "    </tr>\n",
       "    <tr>\n",
       "      <th>2</th>\n",
       "      <td>Senior Data Analyst</td>\n",
       "      <td>Tendo Systems</td>\n",
       "      <td>Anywhere</td>\n",
       "      <td>via Startup Jobs</td>\n",
       "      <td>As a Senior Data Analyst, you will play a cruc...</td>\n",
       "      <td>[{'title': 'Qualifications', 'items': ['5+ yea...</td>\n",
       "      <td>[{'link': 'http://tendo.com/', 'text': 'tendo....</td>\n",
       "      <td>[4 days ago, Work from home, Full-time, Health...</td>\n",
       "      <td>{'posted_at': '4 days ago', 'schedule_type': '...</td>\n",
       "      <td>eyJqb2JfdGl0bGUiOiJTZW5pb3IgRGF0YSBBbmFseXN0Ii...</td>\n",
       "      <td>data_analysis</td>\n",
       "      <td>DC</td>\n",
       "    </tr>\n",
       "    <tr>\n",
       "      <th>3</th>\n",
       "      <td>Senior Data Analyst</td>\n",
       "      <td>Walmart</td>\n",
       "      <td>Bentonville, AR</td>\n",
       "      <td>via Walmart Careers</td>\n",
       "      <td>What you'll do...\\n\\nPosition: Senior Data Ana...</td>\n",
       "      <td>[{'items': ['What you'll do...\n",
       "\n",
       "Position: Seni...</td>\n",
       "      <td>[{'link': 'https://www.walmart.com/', 'text': ...</td>\n",
       "      <td>[6 days ago, Full-time]</td>\n",
       "      <td>{'posted_at': '6 days ago', 'schedule_type': '...</td>\n",
       "      <td>eyJqb2JfdGl0bGUiOiJTZW5pb3IgRGF0YSBBbmFseXN0Ii...</td>\n",
       "      <td>data_analysis</td>\n",
       "      <td>DC</td>\n",
       "    </tr>\n",
       "    <tr>\n",
       "      <th>4</th>\n",
       "      <td>Data Analyst</td>\n",
       "      <td>Robert Half</td>\n",
       "      <td>United States</td>\n",
       "      <td>via LinkedIn</td>\n",
       "      <td>This role will be once a week in DC and Remote...</td>\n",
       "      <td>[{'title': 'Qualifications', 'items': ['Micros...</td>\n",
       "      <td>[{'link': 'http://www.rhi.com/', 'text': 'rhi....</td>\n",
       "      <td>[3 hours ago, 75K–95K a year, Full-time]</td>\n",
       "      <td>{'posted_at': '3 hours ago', 'schedule_type': ...</td>\n",
       "      <td>eyJqb2JfdGl0bGUiOiJEYXRhIEFuYWx5c3QiLCJodGlkb2...</td>\n",
       "      <td>data_analysis</td>\n",
       "      <td>DC</td>\n",
       "    </tr>\n",
       "  </tbody>\n",
       "</table>\n",
       "</div>"
      ],
      "text/plain": [
       "                 title      company_name              location  \\\n",
       "0  Master Data Analyst           Cargill         Olathe, KS      \n",
       "1         Data Analyst  Rectangle Health             Anywhere    \n",
       "2  Senior Data Analyst     Tendo Systems             Anywhere    \n",
       "3  Senior Data Analyst           Walmart    Bentonville, AR      \n",
       "4         Data Analyst       Robert Half      United States      \n",
       "\n",
       "                     via                                        description  \\\n",
       "0  via Career At Cargill  Want to build a stronger, more sustainable fut...   \n",
       "1           via LinkedIn  Data Analyst\\n\\nAt Rectangle Health, we believ...   \n",
       "2       via Startup Jobs  As a Senior Data Analyst, you will play a cruc...   \n",
       "3    via Walmart Careers  What you'll do...\\n\\nPosition: Senior Data Ana...   \n",
       "4           via LinkedIn  This role will be once a week in DC and Remote...   \n",
       "\n",
       "                                      job_highlights  \\\n",
       "0  [{'title': 'Qualifications', 'items': ['Bachel...   \n",
       "1  [{'title': 'Qualifications', 'items': ['Bachel...   \n",
       "2  [{'title': 'Qualifications', 'items': ['5+ yea...   \n",
       "3  [{'items': ['What you'll do...\n",
       "\n",
       "Position: Seni...   \n",
       "4  [{'title': 'Qualifications', 'items': ['Micros...   \n",
       "\n",
       "                                       related_links  \\\n",
       "0  [{'link': 'http://www.cargill.com/', 'text': '...   \n",
       "1  [{'link': 'https://www.google.com/search?q=Rec...   \n",
       "2  [{'link': 'http://tendo.com/', 'text': 'tendo....   \n",
       "3  [{'link': 'https://www.walmart.com/', 'text': ...   \n",
       "4  [{'link': 'http://www.rhi.com/', 'text': 'rhi....   \n",
       "\n",
       "                                          extensions  \\\n",
       "0  [4 days ago, Full-time, Health insurance, Dent...   \n",
       "1             [1 day ago, Work from home, Full-time]   \n",
       "2  [4 days ago, Work from home, Full-time, Health...   \n",
       "3                            [6 days ago, Full-time]   \n",
       "4           [3 hours ago, 75K–95K a year, Full-time]   \n",
       "\n",
       "                                 detected_extensions  \\\n",
       "0  {'posted_at': '4 days ago', 'schedule_type': '...   \n",
       "1  {'posted_at': '1 day ago', 'schedule_type': 'F...   \n",
       "2  {'posted_at': '4 days ago', 'schedule_type': '...   \n",
       "3  {'posted_at': '6 days ago', 'schedule_type': '...   \n",
       "4  {'posted_at': '3 hours ago', 'schedule_type': ...   \n",
       "\n",
       "                                              job_id       job_type  \\\n",
       "0  eyJqb2JfdGl0bGUiOiJNYXN0ZXIgRGF0YSBBbmFseXN0Ii...  data_analysis   \n",
       "1  eyJqb2JfdGl0bGUiOiJEYXRhIEFuYWx5c3QiLCJodGlkb2...  data_analysis   \n",
       "2  eyJqb2JfdGl0bGUiOiJTZW5pb3IgRGF0YSBBbmFseXN0Ii...  data_analysis   \n",
       "3  eyJqb2JfdGl0bGUiOiJTZW5pb3IgRGF0YSBBbmFseXN0Ii...  data_analysis   \n",
       "4  eyJqb2JfdGl0bGUiOiJEYXRhIEFuYWx5c3QiLCJodGlkb2...  data_analysis   \n",
       "\n",
       "  location_overall  \n",
       "0               DC  \n",
       "1               DC  \n",
       "2               DC  \n",
       "3               DC  \n",
       "4               DC  "
      ]
     },
     "execution_count": 7,
     "metadata": {},
     "output_type": "execute_result"
    }
   ],
   "source": [
    "import numpy as np\n",
    "import os\n",
    "import json\n",
    "import pandas as pd\n",
    "import re\n",
    "from nltk.corpus import stopwords\n",
    "from nltk.tokenize import word_tokenize\n",
    "import contractions\n",
    "import plotly.io as pio\n",
    "import plotly.graph_objs as go\n",
    "import seaborn as sns\n",
    "pio.renderers.default = \"plotly_mimetype+notebook_connected\"\n",
    "\n",
    "# Load JSON data\n",
    "def read_json_data(folder_path):\n",
    "    data_list = []\n",
    "    for file in os.listdir(folder_path):\n",
    "        with open(os.path.join(folder_path, file), 'r') as f:\n",
    "            json_data = json.load(f)\n",
    "            jobs_results = json_data['jobs_results']\n",
    "            data_list.extend(jobs_results)\n",
    "    df = pd.DataFrame(data_list)\n",
    "    return df\n",
    "\n",
    "df_dc_da = read_json_data('../2023-04-14-job-search-location-USA/data_analysis')\n",
    "df_dc_ds = read_json_data('../2023-04-14-job-search-location-DC/data_science')\n",
    "df_dc_ml = read_json_data('../2023-04-14-job-search-location-DC/machine_learning')\n",
    "\n",
    "df_us_da = read_json_data('../2023-04-14-job-search-location-USA/data_analysis')\n",
    "df_us_ds = read_json_data('../2023-04-14-job-search-location-USA/data_science')\n",
    "df_us_ml = read_json_data('../2023-04-14-job-search-location-USA/machine_learning')\n",
    "\n",
    "# format each df accordingly\n",
    "df_dc_da['job_type']='data_analysis'\n",
    "df_dc_ds['job_type']='data_science'\n",
    "df_dc_ml['job_type']='machine_learning'\n",
    "df_us_da['job_type']='data_analysis'\n",
    "df_us_ds['job_type']='data_science'\n",
    "df_us_ml['job_type']='machine_learning'\n",
    "\n",
    "df_dc_da['location_overall']='DC'\n",
    "df_dc_ds['location_overall']='DC'\n",
    "df_dc_ml['location_overall']='DC'\n",
    "df_us_da['location_overall']='USA'\n",
    "df_us_ds['location_overall']='USA'\n",
    "df_us_ml['location_overall']='USA'\n",
    "\n",
    "df_us_da= df_us_da[~df_us_da['location'].str.contains('DC')]\n",
    "df_us_ds= df_us_ds[~df_us_ds['location'].str.contains('DC')]\n",
    "df_us_ml= df_us_ml[~df_us_ml['location'].str.contains('DC')]\n",
    "\n",
    "\n",
    "# concat dfs\n",
    "df = pd.concat([df_dc_da,df_dc_ds,df_dc_ml,df_us_da,df_us_ds,df_us_ml],axis=0)\n",
    "df.head()"
   ]
  },
  {
   "cell_type": "code",
   "execution_count": 106,
   "metadata": {},
   "outputs": [],
   "source": [
    "# extract qualifiations, responsibilities and benefits where possible\n",
    "qualifications = []\n",
    "responsibilities = []\n",
    "benefits = []\n",
    "for row in df['job_highlights']:\n",
    "    qual = []\n",
    "    res = []\n",
    "    ben = []\n",
    "    for dictionary in row:\n",
    "        if 'title' in dictionary:\n",
    "            if dictionary['title'] == 'Qualifications':\n",
    "                qual += dictionary['items']\n",
    "            elif dictionary['title'] == 'Responsibilities':\n",
    "                res += dictionary['items']\n",
    "            elif dictionary['title'] == 'Benefits':\n",
    "                ben += dictionary['items']\n",
    "    qualifications.append(qual)\n",
    "    responsibilities.append(res)\n",
    "    benefits.append(ben)\n",
    "\n",
    "\n",
    "schedule_types = []\n",
    "remote_booleans = []\n",
    "for row in df['detected_extensions']:\n",
    "    if 'schedule_type' in row:\n",
    "        schedule_types.append(row['schedule_type'])\n",
    "    else:\n",
    "        schedule_types.append(None) \n",
    "    if 'work_from_home' in row:\n",
    "        remote_booleans.append(row['work_from_home'])\n",
    "    else:\n",
    "        remote_booleans.append(None)\n",
    "\n",
    "\n",
    "# create two new columns\n",
    "df['qualification'] = qualifications\n",
    "df['responsibility'] = responsibilities\n",
    "df['benefits'] = benefits\n",
    "df['schedule_type'] = schedule_types\n",
    "df['remote_status'] = remote_booleans\n",
    "\n",
    "\n",
    "# Define a function to clean the text\n",
    "def clean_text(text):\n",
    "    # Convert the list of strings to a single string\n",
    "    text = ' '.join(text)\n",
    "    # Expand contractions\n",
    "    text = contractions.fix(text)\n",
    "    # Remove all the special characters\n",
    "    text = re.sub(r'[^\\w\\s]', '', text)\n",
    "    # Convert text to lowercase\n",
    "    text = text.lower()\n",
    "    # Tokenize the text into words\n",
    "    words = word_tokenize(text)\n",
    "    # Remove stop words\n",
    "    words = [word for word in words if word not in stopwords.words('english')]\n",
    "    # Join the words back into a string\n",
    "    text = ' '.join(words)\n",
    "    # remove non-English words\n",
    "    return text\n",
    "\n",
    "# Apply the function to the \"responsibilities\" column\n",
    "df['responsibility_n'] = df['responsibility'].apply(clean_text)\n",
    "df['qualification_n'] = df['qualification'].apply(clean_text)\n",
    "\n",
    "df.head()\n",
    "\n",
    "def word_count(df, column):\n",
    "    # create a list of unique job types\n",
    "    job_types = df['job_type'].unique()\n",
    "    # create an empty list to hold the results\n",
    "    results = []\n",
    "    # loop through each job type\n",
    "    for job_type in job_types:\n",
    "        # create a new dataframe with only the current job type\n",
    "        job_df = df[df['job_type'] == job_type]\n",
    "        # create a dictionary to hold the word counts\n",
    "        word_count_dict = {}\n",
    "        # loop through each row in the job dataframe\n",
    "        for index, row in job_df.iterrows():\n",
    "            # split the text into words\n",
    "            words = row[column].split()\n",
    "            # loop through each word and add it to the dictionary\n",
    "            for word in words:\n",
    "                if word not in word_count_dict:\n",
    "                    word_count_dict[word] = 1\n",
    "                else:\n",
    "                    word_count_dict[word] += 1\n",
    "        # loop through the dictionary and add the results to the list\n",
    "        for word, count in word_count_dict.items():\n",
    "            results.append({'job_type': job_type, 'word': word, 'frequency': count})\n",
    "    \n",
    "    # create a new dataframe from the results list and return it\n",
    "    return pd.DataFrame(results)\n",
    "\n",
    "df_word_count_res = word_count(df, 'responsibility_n')\n",
    "df_word_count_qual = word_count(df, 'qualification_n')\n"
   ]
  },
  {
   "cell_type": "code",
   "execution_count": 107,
   "metadata": {},
   "outputs": [],
   "source": [
    "df_word_count_res = df_word_count_res.sort_values(['job_type', 'frequency'], ascending=[True, False])\n",
    "df_word_count_res = df_word_count_res.groupby('job_type').head(30)\n",
    "df_word_count_qual = df_word_count_qual.sort_values(['job_type', 'frequency'], ascending=[True, False])\n",
    "df_word_count_qual = df_word_count_qual.groupby('job_type').head(30)\n"
   ]
  },
  {
   "cell_type": "code",
   "execution_count": 227,
   "metadata": {},
   "outputs": [
    {
     "data": {
      "application/vnd.plotly.v1+json": {
       "config": {
        "plotlyServerURL": "https://plot.ly"
       },
       "data": [
        {
         "branchvalues": "total",
         "customdata": [
          [
           92,
           "related"
          ],
          [
           58,
           "analysis"
          ],
          [
           30,
           "equivalent"
          ],
          [
           34,
           "science"
          ],
          [
           38,
           "excel"
          ],
          [
           42,
           "communication"
          ],
          [
           34,
           "management"
          ],
          [
           54,
           "field"
          ],
          [
           152,
           "ability"
          ],
          [
           54,
           "computer"
          ],
          [
           98,
           "years"
          ],
          [
           46,
           "working"
          ],
          [
           124,
           "skills"
          ],
          [
           40,
           "2"
          ],
          [
           228,
           "experience"
          ],
          [
           74,
           "work"
          ],
          [
           40,
           "knowledge"
          ],
          [
           32,
           "required"
          ],
          [
           62,
           "strong"
          ],
          [
           86,
           "business"
          ],
          [
           38,
           "tools"
          ],
          [
           46,
           "statistics"
          ],
          [
           38,
           "analytics"
          ],
          [
           30,
           "environment"
          ],
          [
           32,
           "including"
          ],
          [
           82,
           "degree"
          ],
          [
           58,
           "sql"
          ],
          [
           202,
           "data"
          ],
          [
           44,
           "information"
          ],
          [
           54,
           "bachelors"
          ],
          [
           2042,
           "(?)"
          ]
         ],
         "domain": {
          "x": [
           0,
           1
          ],
          "y": [
           0,
           1
          ]
         },
         "hovertemplate": "<b>%{label}</b><br>Frequency:%{customdata[0]:.0f}",
         "ids": [
          "data_analysis/related",
          "data_analysis/analysis",
          "data_analysis/equivalent",
          "data_analysis/science",
          "data_analysis/excel",
          "data_analysis/communication",
          "data_analysis/management",
          "data_analysis/field",
          "data_analysis/ability",
          "data_analysis/computer",
          "data_analysis/years",
          "data_analysis/working",
          "data_analysis/skills",
          "data_analysis/2",
          "data_analysis/experience",
          "data_analysis/work",
          "data_analysis/knowledge",
          "data_analysis/required",
          "data_analysis/strong",
          "data_analysis/business",
          "data_analysis/tools",
          "data_analysis/statistics",
          "data_analysis/analytics",
          "data_analysis/environment",
          "data_analysis/including",
          "data_analysis/degree",
          "data_analysis/sql",
          "data_analysis/data",
          "data_analysis/information",
          "data_analysis/bachelors",
          "data_analysis"
         ],
         "labels": [
          "related",
          "analysis",
          "equivalent",
          "science",
          "excel",
          "communication",
          "management",
          "field",
          "ability",
          "computer",
          "years",
          "working",
          "skills",
          "2",
          "experience",
          "work",
          "knowledge",
          "required",
          "strong",
          "business",
          "tools",
          "statistics",
          "analytics",
          "environment",
          "including",
          "degree",
          "sql",
          "data",
          "information",
          "bachelors",
          "data_analysis"
         ],
         "marker": {
          "colors": [
           "#3B5873",
           "#A3BCD6",
           "#343E29",
           "#82827C",
           "#C7D3AB",
           "#758373",
           "#1F3053",
           "#3B5873",
           "#A3BCD6",
           "#343E29",
           "#82827C",
           "#C7D3AB",
           "#758373",
           "#1F3053",
           "#3B5873",
           "#A3BCD6",
           "#343E29",
           "#82827C",
           "#C7D3AB",
           "#758373",
           "#1F3053",
           "#3B5873",
           "#A3BCD6",
           "#343E29",
           "#82827C",
           "#C7D3AB",
           "#758373",
           "#1F3053",
           "#3B5873",
           "#A3BCD6",
           "#343E29"
          ],
          "line": {
           "width": 0
          }
         },
         "name": "",
         "parents": [
          "data_analysis",
          "data_analysis",
          "data_analysis",
          "data_analysis",
          "data_analysis",
          "data_analysis",
          "data_analysis",
          "data_analysis",
          "data_analysis",
          "data_analysis",
          "data_analysis",
          "data_analysis",
          "data_analysis",
          "data_analysis",
          "data_analysis",
          "data_analysis",
          "data_analysis",
          "data_analysis",
          "data_analysis",
          "data_analysis",
          "data_analysis",
          "data_analysis",
          "data_analysis",
          "data_analysis",
          "data_analysis",
          "data_analysis",
          "data_analysis",
          "data_analysis",
          "data_analysis",
          "data_analysis",
          ""
         ],
         "textfont": {
          "color": "white"
         },
         "type": "treemap",
         "values": [
          92,
          58,
          30,
          34,
          38,
          42,
          34,
          54,
          152,
          54,
          98,
          46,
          124,
          40,
          228,
          74,
          40,
          32,
          62,
          86,
          38,
          46,
          38,
          30,
          32,
          82,
          58,
          202,
          44,
          54,
          2042
         ]
        }
       ],
       "layout": {
        "font": {
         "color": "white",
         "size": 16
        },
        "height": 600,
        "legend": {
         "tracegroupgap": 0
        },
        "margin": {
         "b": 25,
         "l": 25,
         "r": 25,
         "t": 85
        },
        "paper_bgcolor": "#272b2e",
        "plot_bgcolor": "#272b2e",
        "template": {
         "data": {
          "bar": [
           {
            "error_x": {
             "color": "#2a3f5f"
            },
            "error_y": {
             "color": "#2a3f5f"
            },
            "marker": {
             "line": {
              "color": "#E5ECF6",
              "width": 0.5
             },
             "pattern": {
              "fillmode": "overlay",
              "size": 10,
              "solidity": 0.2
             }
            },
            "type": "bar"
           }
          ],
          "barpolar": [
           {
            "marker": {
             "line": {
              "color": "#E5ECF6",
              "width": 0.5
             },
             "pattern": {
              "fillmode": "overlay",
              "size": 10,
              "solidity": 0.2
             }
            },
            "type": "barpolar"
           }
          ],
          "carpet": [
           {
            "aaxis": {
             "endlinecolor": "#2a3f5f",
             "gridcolor": "white",
             "linecolor": "white",
             "minorgridcolor": "white",
             "startlinecolor": "#2a3f5f"
            },
            "baxis": {
             "endlinecolor": "#2a3f5f",
             "gridcolor": "white",
             "linecolor": "white",
             "minorgridcolor": "white",
             "startlinecolor": "#2a3f5f"
            },
            "type": "carpet"
           }
          ],
          "choropleth": [
           {
            "colorbar": {
             "outlinewidth": 0,
             "ticks": ""
            },
            "type": "choropleth"
           }
          ],
          "contour": [
           {
            "colorbar": {
             "outlinewidth": 0,
             "ticks": ""
            },
            "colorscale": [
             [
              0,
              "#0d0887"
             ],
             [
              0.1111111111111111,
              "#46039f"
             ],
             [
              0.2222222222222222,
              "#7201a8"
             ],
             [
              0.3333333333333333,
              "#9c179e"
             ],
             [
              0.4444444444444444,
              "#bd3786"
             ],
             [
              0.5555555555555556,
              "#d8576b"
             ],
             [
              0.6666666666666666,
              "#ed7953"
             ],
             [
              0.7777777777777778,
              "#fb9f3a"
             ],
             [
              0.8888888888888888,
              "#fdca26"
             ],
             [
              1,
              "#f0f921"
             ]
            ],
            "type": "contour"
           }
          ],
          "contourcarpet": [
           {
            "colorbar": {
             "outlinewidth": 0,
             "ticks": ""
            },
            "type": "contourcarpet"
           }
          ],
          "heatmap": [
           {
            "colorbar": {
             "outlinewidth": 0,
             "ticks": ""
            },
            "colorscale": [
             [
              0,
              "#0d0887"
             ],
             [
              0.1111111111111111,
              "#46039f"
             ],
             [
              0.2222222222222222,
              "#7201a8"
             ],
             [
              0.3333333333333333,
              "#9c179e"
             ],
             [
              0.4444444444444444,
              "#bd3786"
             ],
             [
              0.5555555555555556,
              "#d8576b"
             ],
             [
              0.6666666666666666,
              "#ed7953"
             ],
             [
              0.7777777777777778,
              "#fb9f3a"
             ],
             [
              0.8888888888888888,
              "#fdca26"
             ],
             [
              1,
              "#f0f921"
             ]
            ],
            "type": "heatmap"
           }
          ],
          "heatmapgl": [
           {
            "colorbar": {
             "outlinewidth": 0,
             "ticks": ""
            },
            "colorscale": [
             [
              0,
              "#0d0887"
             ],
             [
              0.1111111111111111,
              "#46039f"
             ],
             [
              0.2222222222222222,
              "#7201a8"
             ],
             [
              0.3333333333333333,
              "#9c179e"
             ],
             [
              0.4444444444444444,
              "#bd3786"
             ],
             [
              0.5555555555555556,
              "#d8576b"
             ],
             [
              0.6666666666666666,
              "#ed7953"
             ],
             [
              0.7777777777777778,
              "#fb9f3a"
             ],
             [
              0.8888888888888888,
              "#fdca26"
             ],
             [
              1,
              "#f0f921"
             ]
            ],
            "type": "heatmapgl"
           }
          ],
          "histogram": [
           {
            "marker": {
             "pattern": {
              "fillmode": "overlay",
              "size": 10,
              "solidity": 0.2
             }
            },
            "type": "histogram"
           }
          ],
          "histogram2d": [
           {
            "colorbar": {
             "outlinewidth": 0,
             "ticks": ""
            },
            "colorscale": [
             [
              0,
              "#0d0887"
             ],
             [
              0.1111111111111111,
              "#46039f"
             ],
             [
              0.2222222222222222,
              "#7201a8"
             ],
             [
              0.3333333333333333,
              "#9c179e"
             ],
             [
              0.4444444444444444,
              "#bd3786"
             ],
             [
              0.5555555555555556,
              "#d8576b"
             ],
             [
              0.6666666666666666,
              "#ed7953"
             ],
             [
              0.7777777777777778,
              "#fb9f3a"
             ],
             [
              0.8888888888888888,
              "#fdca26"
             ],
             [
              1,
              "#f0f921"
             ]
            ],
            "type": "histogram2d"
           }
          ],
          "histogram2dcontour": [
           {
            "colorbar": {
             "outlinewidth": 0,
             "ticks": ""
            },
            "colorscale": [
             [
              0,
              "#0d0887"
             ],
             [
              0.1111111111111111,
              "#46039f"
             ],
             [
              0.2222222222222222,
              "#7201a8"
             ],
             [
              0.3333333333333333,
              "#9c179e"
             ],
             [
              0.4444444444444444,
              "#bd3786"
             ],
             [
              0.5555555555555556,
              "#d8576b"
             ],
             [
              0.6666666666666666,
              "#ed7953"
             ],
             [
              0.7777777777777778,
              "#fb9f3a"
             ],
             [
              0.8888888888888888,
              "#fdca26"
             ],
             [
              1,
              "#f0f921"
             ]
            ],
            "type": "histogram2dcontour"
           }
          ],
          "mesh3d": [
           {
            "colorbar": {
             "outlinewidth": 0,
             "ticks": ""
            },
            "type": "mesh3d"
           }
          ],
          "parcoords": [
           {
            "line": {
             "colorbar": {
              "outlinewidth": 0,
              "ticks": ""
             }
            },
            "type": "parcoords"
           }
          ],
          "pie": [
           {
            "automargin": true,
            "type": "pie"
           }
          ],
          "scatter": [
           {
            "fillpattern": {
             "fillmode": "overlay",
             "size": 10,
             "solidity": 0.2
            },
            "type": "scatter"
           }
          ],
          "scatter3d": [
           {
            "line": {
             "colorbar": {
              "outlinewidth": 0,
              "ticks": ""
             }
            },
            "marker": {
             "colorbar": {
              "outlinewidth": 0,
              "ticks": ""
             }
            },
            "type": "scatter3d"
           }
          ],
          "scattercarpet": [
           {
            "marker": {
             "colorbar": {
              "outlinewidth": 0,
              "ticks": ""
             }
            },
            "type": "scattercarpet"
           }
          ],
          "scattergeo": [
           {
            "marker": {
             "colorbar": {
              "outlinewidth": 0,
              "ticks": ""
             }
            },
            "type": "scattergeo"
           }
          ],
          "scattergl": [
           {
            "marker": {
             "colorbar": {
              "outlinewidth": 0,
              "ticks": ""
             }
            },
            "type": "scattergl"
           }
          ],
          "scattermapbox": [
           {
            "marker": {
             "colorbar": {
              "outlinewidth": 0,
              "ticks": ""
             }
            },
            "type": "scattermapbox"
           }
          ],
          "scatterpolar": [
           {
            "marker": {
             "colorbar": {
              "outlinewidth": 0,
              "ticks": ""
             }
            },
            "type": "scatterpolar"
           }
          ],
          "scatterpolargl": [
           {
            "marker": {
             "colorbar": {
              "outlinewidth": 0,
              "ticks": ""
             }
            },
            "type": "scatterpolargl"
           }
          ],
          "scatterternary": [
           {
            "marker": {
             "colorbar": {
              "outlinewidth": 0,
              "ticks": ""
             }
            },
            "type": "scatterternary"
           }
          ],
          "surface": [
           {
            "colorbar": {
             "outlinewidth": 0,
             "ticks": ""
            },
            "colorscale": [
             [
              0,
              "#0d0887"
             ],
             [
              0.1111111111111111,
              "#46039f"
             ],
             [
              0.2222222222222222,
              "#7201a8"
             ],
             [
              0.3333333333333333,
              "#9c179e"
             ],
             [
              0.4444444444444444,
              "#bd3786"
             ],
             [
              0.5555555555555556,
              "#d8576b"
             ],
             [
              0.6666666666666666,
              "#ed7953"
             ],
             [
              0.7777777777777778,
              "#fb9f3a"
             ],
             [
              0.8888888888888888,
              "#fdca26"
             ],
             [
              1,
              "#f0f921"
             ]
            ],
            "type": "surface"
           }
          ],
          "table": [
           {
            "cells": {
             "fill": {
              "color": "#EBF0F8"
             },
             "line": {
              "color": "white"
             }
            },
            "header": {
             "fill": {
              "color": "#C8D4E3"
             },
             "line": {
              "color": "white"
             }
            },
            "type": "table"
           }
          ]
         },
         "layout": {
          "annotationdefaults": {
           "arrowcolor": "#2a3f5f",
           "arrowhead": 0,
           "arrowwidth": 1
          },
          "autotypenumbers": "strict",
          "coloraxis": {
           "colorbar": {
            "outlinewidth": 0,
            "ticks": ""
           }
          },
          "colorscale": {
           "diverging": [
            [
             0,
             "#8e0152"
            ],
            [
             0.1,
             "#c51b7d"
            ],
            [
             0.2,
             "#de77ae"
            ],
            [
             0.3,
             "#f1b6da"
            ],
            [
             0.4,
             "#fde0ef"
            ],
            [
             0.5,
             "#f7f7f7"
            ],
            [
             0.6,
             "#e6f5d0"
            ],
            [
             0.7,
             "#b8e186"
            ],
            [
             0.8,
             "#7fbc41"
            ],
            [
             0.9,
             "#4d9221"
            ],
            [
             1,
             "#276419"
            ]
           ],
           "sequential": [
            [
             0,
             "#0d0887"
            ],
            [
             0.1111111111111111,
             "#46039f"
            ],
            [
             0.2222222222222222,
             "#7201a8"
            ],
            [
             0.3333333333333333,
             "#9c179e"
            ],
            [
             0.4444444444444444,
             "#bd3786"
            ],
            [
             0.5555555555555556,
             "#d8576b"
            ],
            [
             0.6666666666666666,
             "#ed7953"
            ],
            [
             0.7777777777777778,
             "#fb9f3a"
            ],
            [
             0.8888888888888888,
             "#fdca26"
            ],
            [
             1,
             "#f0f921"
            ]
           ],
           "sequentialminus": [
            [
             0,
             "#0d0887"
            ],
            [
             0.1111111111111111,
             "#46039f"
            ],
            [
             0.2222222222222222,
             "#7201a8"
            ],
            [
             0.3333333333333333,
             "#9c179e"
            ],
            [
             0.4444444444444444,
             "#bd3786"
            ],
            [
             0.5555555555555556,
             "#d8576b"
            ],
            [
             0.6666666666666666,
             "#ed7953"
            ],
            [
             0.7777777777777778,
             "#fb9f3a"
            ],
            [
             0.8888888888888888,
             "#fdca26"
            ],
            [
             1,
             "#f0f921"
            ]
           ]
          },
          "colorway": [
           "#636efa",
           "#EF553B",
           "#00cc96",
           "#ab63fa",
           "#FFA15A",
           "#19d3f3",
           "#FF6692",
           "#B6E880",
           "#FF97FF",
           "#FECB52"
          ],
          "font": {
           "color": "#2a3f5f"
          },
          "geo": {
           "bgcolor": "white",
           "lakecolor": "white",
           "landcolor": "#E5ECF6",
           "showlakes": true,
           "showland": true,
           "subunitcolor": "white"
          },
          "hoverlabel": {
           "align": "left"
          },
          "hovermode": "closest",
          "mapbox": {
           "style": "light"
          },
          "paper_bgcolor": "white",
          "plot_bgcolor": "#E5ECF6",
          "polar": {
           "angularaxis": {
            "gridcolor": "white",
            "linecolor": "white",
            "ticks": ""
           },
           "bgcolor": "#E5ECF6",
           "radialaxis": {
            "gridcolor": "white",
            "linecolor": "white",
            "ticks": ""
           }
          },
          "scene": {
           "xaxis": {
            "backgroundcolor": "#E5ECF6",
            "gridcolor": "white",
            "gridwidth": 2,
            "linecolor": "white",
            "showbackground": true,
            "ticks": "",
            "zerolinecolor": "white"
           },
           "yaxis": {
            "backgroundcolor": "#E5ECF6",
            "gridcolor": "white",
            "gridwidth": 2,
            "linecolor": "white",
            "showbackground": true,
            "ticks": "",
            "zerolinecolor": "white"
           },
           "zaxis": {
            "backgroundcolor": "#E5ECF6",
            "gridcolor": "white",
            "gridwidth": 2,
            "linecolor": "white",
            "showbackground": true,
            "ticks": "",
            "zerolinecolor": "white"
           }
          },
          "shapedefaults": {
           "line": {
            "color": "#2a3f5f"
           }
          },
          "ternary": {
           "aaxis": {
            "gridcolor": "white",
            "linecolor": "white",
            "ticks": ""
           },
           "baxis": {
            "gridcolor": "white",
            "linecolor": "white",
            "ticks": ""
           },
           "bgcolor": "#E5ECF6",
           "caxis": {
            "gridcolor": "white",
            "linecolor": "white",
            "ticks": ""
           }
          },
          "title": {
           "x": 0.05
          },
          "xaxis": {
           "automargin": true,
           "gridcolor": "white",
           "linecolor": "white",
           "ticks": "",
           "title": {
            "standoff": 15
           },
           "zerolinecolor": "white",
           "zerolinewidth": 2
          },
          "yaxis": {
           "automargin": true,
           "gridcolor": "white",
           "linecolor": "white",
           "ticks": "",
           "title": {
            "standoff": 15
           },
           "zerolinecolor": "white",
           "zerolinewidth": 2
          }
         }
        },
        "title": {
         "font": {
          "size": 20
         },
         "pad": {
          "r": 10,
          "t": 10
         },
         "text": "Top 30 words describing<br>data analysis qualifications",
         "x": 0.5,
         "xanchor": "center",
         "y": 0.96,
         "yanchor": "top"
        },
        "treemapcolorway": [
         "#3B5873",
         "#A3BCD6",
         "#343E29",
         "#82827C",
         "#C7D3AB",
         "#758373",
         "#1F3053"
        ],
        "width": 600
       }
      },
      "text/html": [
       "<div>                            <div id=\"5658f5df-2200-41f4-8e77-39b89ed15abd\" class=\"plotly-graph-div\" style=\"height:600px; width:600px;\"></div>            <script type=\"text/javascript\">                require([\"plotly\"], function(Plotly) {                    window.PLOTLYENV=window.PLOTLYENV || {};                                    if (document.getElementById(\"5658f5df-2200-41f4-8e77-39b89ed15abd\")) {                    Plotly.newPlot(                        \"5658f5df-2200-41f4-8e77-39b89ed15abd\",                        [{\"branchvalues\":\"total\",\"customdata\":[[92,\"related\"],[58,\"analysis\"],[30,\"equivalent\"],[34,\"science\"],[38,\"excel\"],[42,\"communication\"],[34,\"management\"],[54,\"field\"],[152,\"ability\"],[54,\"computer\"],[98,\"years\"],[46,\"working\"],[124,\"skills\"],[40,\"2\"],[228,\"experience\"],[74,\"work\"],[40,\"knowledge\"],[32,\"required\"],[62,\"strong\"],[86,\"business\"],[38,\"tools\"],[46,\"statistics\"],[38,\"analytics\"],[30,\"environment\"],[32,\"including\"],[82,\"degree\"],[58,\"sql\"],[202,\"data\"],[44,\"information\"],[54,\"bachelors\"],[2042,\"(?)\"]],\"domain\":{\"x\":[0.0,1.0],\"y\":[0.0,1.0]},\"hovertemplate\":\"<b>%{label}</b><br>Frequency:%{customdata[0]:.0f}\",\"ids\":[\"data_analysis/related\",\"data_analysis/analysis\",\"data_analysis/equivalent\",\"data_analysis/science\",\"data_analysis/excel\",\"data_analysis/communication\",\"data_analysis/management\",\"data_analysis/field\",\"data_analysis/ability\",\"data_analysis/computer\",\"data_analysis/years\",\"data_analysis/working\",\"data_analysis/skills\",\"data_analysis/2\",\"data_analysis/experience\",\"data_analysis/work\",\"data_analysis/knowledge\",\"data_analysis/required\",\"data_analysis/strong\",\"data_analysis/business\",\"data_analysis/tools\",\"data_analysis/statistics\",\"data_analysis/analytics\",\"data_analysis/environment\",\"data_analysis/including\",\"data_analysis/degree\",\"data_analysis/sql\",\"data_analysis/data\",\"data_analysis/information\",\"data_analysis/bachelors\",\"data_analysis\"],\"labels\":[\"related\",\"analysis\",\"equivalent\",\"science\",\"excel\",\"communication\",\"management\",\"field\",\"ability\",\"computer\",\"years\",\"working\",\"skills\",\"2\",\"experience\",\"work\",\"knowledge\",\"required\",\"strong\",\"business\",\"tools\",\"statistics\",\"analytics\",\"environment\",\"including\",\"degree\",\"sql\",\"data\",\"information\",\"bachelors\",\"data_analysis\"],\"marker\":{\"colors\":[\"#3B5873\",\"#A3BCD6\",\"#343E29\",\"#82827C\",\"#C7D3AB\",\"#758373\",\"#1F3053\",\"#3B5873\",\"#A3BCD6\",\"#343E29\",\"#82827C\",\"#C7D3AB\",\"#758373\",\"#1F3053\",\"#3B5873\",\"#A3BCD6\",\"#343E29\",\"#82827C\",\"#C7D3AB\",\"#758373\",\"#1F3053\",\"#3B5873\",\"#A3BCD6\",\"#343E29\",\"#82827C\",\"#C7D3AB\",\"#758373\",\"#1F3053\",\"#3B5873\",\"#A3BCD6\",\"#343E29\"],\"line\":{\"width\":0}},\"name\":\"\",\"parents\":[\"data_analysis\",\"data_analysis\",\"data_analysis\",\"data_analysis\",\"data_analysis\",\"data_analysis\",\"data_analysis\",\"data_analysis\",\"data_analysis\",\"data_analysis\",\"data_analysis\",\"data_analysis\",\"data_analysis\",\"data_analysis\",\"data_analysis\",\"data_analysis\",\"data_analysis\",\"data_analysis\",\"data_analysis\",\"data_analysis\",\"data_analysis\",\"data_analysis\",\"data_analysis\",\"data_analysis\",\"data_analysis\",\"data_analysis\",\"data_analysis\",\"data_analysis\",\"data_analysis\",\"data_analysis\",\"\"],\"values\":[92,58,30,34,38,42,34,54,152,54,98,46,124,40,228,74,40,32,62,86,38,46,38,30,32,82,58,202,44,54,2042],\"type\":\"treemap\",\"textfont\":{\"color\":\"white\"}}],                        {\"template\":{\"data\":{\"histogram2dcontour\":[{\"type\":\"histogram2dcontour\",\"colorbar\":{\"outlinewidth\":0,\"ticks\":\"\"},\"colorscale\":[[0.0,\"#0d0887\"],[0.1111111111111111,\"#46039f\"],[0.2222222222222222,\"#7201a8\"],[0.3333333333333333,\"#9c179e\"],[0.4444444444444444,\"#bd3786\"],[0.5555555555555556,\"#d8576b\"],[0.6666666666666666,\"#ed7953\"],[0.7777777777777778,\"#fb9f3a\"],[0.8888888888888888,\"#fdca26\"],[1.0,\"#f0f921\"]]}],\"choropleth\":[{\"type\":\"choropleth\",\"colorbar\":{\"outlinewidth\":0,\"ticks\":\"\"}}],\"histogram2d\":[{\"type\":\"histogram2d\",\"colorbar\":{\"outlinewidth\":0,\"ticks\":\"\"},\"colorscale\":[[0.0,\"#0d0887\"],[0.1111111111111111,\"#46039f\"],[0.2222222222222222,\"#7201a8\"],[0.3333333333333333,\"#9c179e\"],[0.4444444444444444,\"#bd3786\"],[0.5555555555555556,\"#d8576b\"],[0.6666666666666666,\"#ed7953\"],[0.7777777777777778,\"#fb9f3a\"],[0.8888888888888888,\"#fdca26\"],[1.0,\"#f0f921\"]]}],\"heatmap\":[{\"type\":\"heatmap\",\"colorbar\":{\"outlinewidth\":0,\"ticks\":\"\"},\"colorscale\":[[0.0,\"#0d0887\"],[0.1111111111111111,\"#46039f\"],[0.2222222222222222,\"#7201a8\"],[0.3333333333333333,\"#9c179e\"],[0.4444444444444444,\"#bd3786\"],[0.5555555555555556,\"#d8576b\"],[0.6666666666666666,\"#ed7953\"],[0.7777777777777778,\"#fb9f3a\"],[0.8888888888888888,\"#fdca26\"],[1.0,\"#f0f921\"]]}],\"heatmapgl\":[{\"type\":\"heatmapgl\",\"colorbar\":{\"outlinewidth\":0,\"ticks\":\"\"},\"colorscale\":[[0.0,\"#0d0887\"],[0.1111111111111111,\"#46039f\"],[0.2222222222222222,\"#7201a8\"],[0.3333333333333333,\"#9c179e\"],[0.4444444444444444,\"#bd3786\"],[0.5555555555555556,\"#d8576b\"],[0.6666666666666666,\"#ed7953\"],[0.7777777777777778,\"#fb9f3a\"],[0.8888888888888888,\"#fdca26\"],[1.0,\"#f0f921\"]]}],\"contourcarpet\":[{\"type\":\"contourcarpet\",\"colorbar\":{\"outlinewidth\":0,\"ticks\":\"\"}}],\"contour\":[{\"type\":\"contour\",\"colorbar\":{\"outlinewidth\":0,\"ticks\":\"\"},\"colorscale\":[[0.0,\"#0d0887\"],[0.1111111111111111,\"#46039f\"],[0.2222222222222222,\"#7201a8\"],[0.3333333333333333,\"#9c179e\"],[0.4444444444444444,\"#bd3786\"],[0.5555555555555556,\"#d8576b\"],[0.6666666666666666,\"#ed7953\"],[0.7777777777777778,\"#fb9f3a\"],[0.8888888888888888,\"#fdca26\"],[1.0,\"#f0f921\"]]}],\"surface\":[{\"type\":\"surface\",\"colorbar\":{\"outlinewidth\":0,\"ticks\":\"\"},\"colorscale\":[[0.0,\"#0d0887\"],[0.1111111111111111,\"#46039f\"],[0.2222222222222222,\"#7201a8\"],[0.3333333333333333,\"#9c179e\"],[0.4444444444444444,\"#bd3786\"],[0.5555555555555556,\"#d8576b\"],[0.6666666666666666,\"#ed7953\"],[0.7777777777777778,\"#fb9f3a\"],[0.8888888888888888,\"#fdca26\"],[1.0,\"#f0f921\"]]}],\"mesh3d\":[{\"type\":\"mesh3d\",\"colorbar\":{\"outlinewidth\":0,\"ticks\":\"\"}}],\"scatter\":[{\"fillpattern\":{\"fillmode\":\"overlay\",\"size\":10,\"solidity\":0.2},\"type\":\"scatter\"}],\"parcoords\":[{\"type\":\"parcoords\",\"line\":{\"colorbar\":{\"outlinewidth\":0,\"ticks\":\"\"}}}],\"scatterpolargl\":[{\"type\":\"scatterpolargl\",\"marker\":{\"colorbar\":{\"outlinewidth\":0,\"ticks\":\"\"}}}],\"bar\":[{\"error_x\":{\"color\":\"#2a3f5f\"},\"error_y\":{\"color\":\"#2a3f5f\"},\"marker\":{\"line\":{\"color\":\"#E5ECF6\",\"width\":0.5},\"pattern\":{\"fillmode\":\"overlay\",\"size\":10,\"solidity\":0.2}},\"type\":\"bar\"}],\"scattergeo\":[{\"type\":\"scattergeo\",\"marker\":{\"colorbar\":{\"outlinewidth\":0,\"ticks\":\"\"}}}],\"scatterpolar\":[{\"type\":\"scatterpolar\",\"marker\":{\"colorbar\":{\"outlinewidth\":0,\"ticks\":\"\"}}}],\"histogram\":[{\"marker\":{\"pattern\":{\"fillmode\":\"overlay\",\"size\":10,\"solidity\":0.2}},\"type\":\"histogram\"}],\"scattergl\":[{\"type\":\"scattergl\",\"marker\":{\"colorbar\":{\"outlinewidth\":0,\"ticks\":\"\"}}}],\"scatter3d\":[{\"type\":\"scatter3d\",\"line\":{\"colorbar\":{\"outlinewidth\":0,\"ticks\":\"\"}},\"marker\":{\"colorbar\":{\"outlinewidth\":0,\"ticks\":\"\"}}}],\"scattermapbox\":[{\"type\":\"scattermapbox\",\"marker\":{\"colorbar\":{\"outlinewidth\":0,\"ticks\":\"\"}}}],\"scatterternary\":[{\"type\":\"scatterternary\",\"marker\":{\"colorbar\":{\"outlinewidth\":0,\"ticks\":\"\"}}}],\"scattercarpet\":[{\"type\":\"scattercarpet\",\"marker\":{\"colorbar\":{\"outlinewidth\":0,\"ticks\":\"\"}}}],\"carpet\":[{\"aaxis\":{\"endlinecolor\":\"#2a3f5f\",\"gridcolor\":\"white\",\"linecolor\":\"white\",\"minorgridcolor\":\"white\",\"startlinecolor\":\"#2a3f5f\"},\"baxis\":{\"endlinecolor\":\"#2a3f5f\",\"gridcolor\":\"white\",\"linecolor\":\"white\",\"minorgridcolor\":\"white\",\"startlinecolor\":\"#2a3f5f\"},\"type\":\"carpet\"}],\"table\":[{\"cells\":{\"fill\":{\"color\":\"#EBF0F8\"},\"line\":{\"color\":\"white\"}},\"header\":{\"fill\":{\"color\":\"#C8D4E3\"},\"line\":{\"color\":\"white\"}},\"type\":\"table\"}],\"barpolar\":[{\"marker\":{\"line\":{\"color\":\"#E5ECF6\",\"width\":0.5},\"pattern\":{\"fillmode\":\"overlay\",\"size\":10,\"solidity\":0.2}},\"type\":\"barpolar\"}],\"pie\":[{\"automargin\":true,\"type\":\"pie\"}]},\"layout\":{\"autotypenumbers\":\"strict\",\"colorway\":[\"#636efa\",\"#EF553B\",\"#00cc96\",\"#ab63fa\",\"#FFA15A\",\"#19d3f3\",\"#FF6692\",\"#B6E880\",\"#FF97FF\",\"#FECB52\"],\"font\":{\"color\":\"#2a3f5f\"},\"hovermode\":\"closest\",\"hoverlabel\":{\"align\":\"left\"},\"paper_bgcolor\":\"white\",\"plot_bgcolor\":\"#E5ECF6\",\"polar\":{\"bgcolor\":\"#E5ECF6\",\"angularaxis\":{\"gridcolor\":\"white\",\"linecolor\":\"white\",\"ticks\":\"\"},\"radialaxis\":{\"gridcolor\":\"white\",\"linecolor\":\"white\",\"ticks\":\"\"}},\"ternary\":{\"bgcolor\":\"#E5ECF6\",\"aaxis\":{\"gridcolor\":\"white\",\"linecolor\":\"white\",\"ticks\":\"\"},\"baxis\":{\"gridcolor\":\"white\",\"linecolor\":\"white\",\"ticks\":\"\"},\"caxis\":{\"gridcolor\":\"white\",\"linecolor\":\"white\",\"ticks\":\"\"}},\"coloraxis\":{\"colorbar\":{\"outlinewidth\":0,\"ticks\":\"\"}},\"colorscale\":{\"sequential\":[[0.0,\"#0d0887\"],[0.1111111111111111,\"#46039f\"],[0.2222222222222222,\"#7201a8\"],[0.3333333333333333,\"#9c179e\"],[0.4444444444444444,\"#bd3786\"],[0.5555555555555556,\"#d8576b\"],[0.6666666666666666,\"#ed7953\"],[0.7777777777777778,\"#fb9f3a\"],[0.8888888888888888,\"#fdca26\"],[1.0,\"#f0f921\"]],\"sequentialminus\":[[0.0,\"#0d0887\"],[0.1111111111111111,\"#46039f\"],[0.2222222222222222,\"#7201a8\"],[0.3333333333333333,\"#9c179e\"],[0.4444444444444444,\"#bd3786\"],[0.5555555555555556,\"#d8576b\"],[0.6666666666666666,\"#ed7953\"],[0.7777777777777778,\"#fb9f3a\"],[0.8888888888888888,\"#fdca26\"],[1.0,\"#f0f921\"]],\"diverging\":[[0,\"#8e0152\"],[0.1,\"#c51b7d\"],[0.2,\"#de77ae\"],[0.3,\"#f1b6da\"],[0.4,\"#fde0ef\"],[0.5,\"#f7f7f7\"],[0.6,\"#e6f5d0\"],[0.7,\"#b8e186\"],[0.8,\"#7fbc41\"],[0.9,\"#4d9221\"],[1,\"#276419\"]]},\"xaxis\":{\"gridcolor\":\"white\",\"linecolor\":\"white\",\"ticks\":\"\",\"title\":{\"standoff\":15},\"zerolinecolor\":\"white\",\"automargin\":true,\"zerolinewidth\":2},\"yaxis\":{\"gridcolor\":\"white\",\"linecolor\":\"white\",\"ticks\":\"\",\"title\":{\"standoff\":15},\"zerolinecolor\":\"white\",\"automargin\":true,\"zerolinewidth\":2},\"scene\":{\"xaxis\":{\"backgroundcolor\":\"#E5ECF6\",\"gridcolor\":\"white\",\"linecolor\":\"white\",\"showbackground\":true,\"ticks\":\"\",\"zerolinecolor\":\"white\",\"gridwidth\":2},\"yaxis\":{\"backgroundcolor\":\"#E5ECF6\",\"gridcolor\":\"white\",\"linecolor\":\"white\",\"showbackground\":true,\"ticks\":\"\",\"zerolinecolor\":\"white\",\"gridwidth\":2},\"zaxis\":{\"backgroundcolor\":\"#E5ECF6\",\"gridcolor\":\"white\",\"linecolor\":\"white\",\"showbackground\":true,\"ticks\":\"\",\"zerolinecolor\":\"white\",\"gridwidth\":2}},\"shapedefaults\":{\"line\":{\"color\":\"#2a3f5f\"}},\"annotationdefaults\":{\"arrowcolor\":\"#2a3f5f\",\"arrowhead\":0,\"arrowwidth\":1},\"geo\":{\"bgcolor\":\"white\",\"landcolor\":\"#E5ECF6\",\"subunitcolor\":\"white\",\"showland\":true,\"showlakes\":true,\"lakecolor\":\"white\"},\"title\":{\"x\":0.05},\"mapbox\":{\"style\":\"light\"}}},\"legend\":{\"tracegroupgap\":0},\"margin\":{\"t\":85,\"l\":25,\"r\":25,\"b\":25},\"treemapcolorway\":[\"#3B5873\",\"#A3BCD6\",\"#343E29\",\"#82827C\",\"#C7D3AB\",\"#758373\",\"#1F3053\"],\"title\":{\"font\":{\"size\":20},\"text\":\"Top 30 words describing<br>data analysis qualifications\",\"pad\":{\"r\":10,\"t\":10},\"x\":0.5,\"y\":0.96,\"xanchor\":\"center\",\"yanchor\":\"top\"},\"font\":{\"size\":16,\"color\":\"white\"},\"width\":600,\"height\":600,\"plot_bgcolor\":\"#272b2e\",\"paper_bgcolor\":\"#272b2e\"},                        {\"responsive\": true}                    ).then(function(){\n",
       "                            \n",
       "var gd = document.getElementById('5658f5df-2200-41f4-8e77-39b89ed15abd');\n",
       "var x = new MutationObserver(function (mutations, observer) {{\n",
       "        var display = window.getComputedStyle(gd).display;\n",
       "        if (!display || display === 'none') {{\n",
       "            console.log([gd, 'removed!']);\n",
       "            Plotly.purge(gd);\n",
       "            observer.disconnect();\n",
       "        }}\n",
       "}});\n",
       "\n",
       "// Listen for the removal of the full notebook cells\n",
       "var notebookContainer = gd.closest('#notebook-container');\n",
       "if (notebookContainer) {{\n",
       "    x.observe(notebookContainer, {childList: true});\n",
       "}}\n",
       "\n",
       "// Listen for the clearing of the current output cell\n",
       "var outputEl = gd.closest('.output');\n",
       "if (outputEl) {{\n",
       "    x.observe(outputEl, {childList: true});\n",
       "}}\n",
       "\n",
       "                        })                };                });            </script>        </div>"
      ]
     },
     "metadata": {},
     "output_type": "display_data"
    }
   ],
   "source": [
    "df_word_count_qual_da = df_word_count_qual[df_word_count_qual['job_type']=='data_analysis']\n",
    "df_word_count_qual_ds = df_word_count_qual[df_word_count_qual['job_type']=='data_science']\n",
    "df_word_count_qual_ml = df_word_count_qual[df_word_count_qual['job_type']=='machine_learning']\n",
    "\n",
    "# Define a custom color scale\n",
    "custom_colors = ['#3B5873', '#A3BCD6', '#343E29', '#82827C', '#C7D3AB','#758373','#1F3053']\n",
    "\n",
    "# create the treemap figure with custom hover text and color scale\n",
    "fig = px.treemap(df_word_count_qual_da, path=['job_type', 'word'], values='frequency', color='word',\n",
    "                 color_discrete_sequence=custom_colors,\n",
    "                 hover_data={'frequency': ':f'},\n",
    "                 )\n",
    "\n",
    "# remove the treemap borders\n",
    "fig.update_traces(\n",
    "    go.Treemap(\n",
    "        marker=dict(line=dict(width=0))\n",
    "    )\n",
    ")\n",
    "fig.update_traces(textfont=dict(color='white'))\n",
    "fig.update_traces(hovertemplate='<b>%{label}</b><br>Frequency:%{customdata[0]:.0f}')\n",
    "\n",
    "# customize the font and size of the title and labels\n",
    "fig.update_layout(title={'text': \"Top 30 words describing<br>data analysis qualifications\", 'font': {'size': 24}},\n",
    "                  font={'size': 18})\n",
    "\n",
    "# customize the margins\n",
    "fig.update_layout(\n",
    "    title={\n",
    "        'x': 0.50,\n",
    "        'y': 0.96,\n",
    "        'xanchor': 'center',\n",
    "        'yanchor': 'top',\n",
    "        'pad': {'r': 10, 't': 10,},\n",
    "        'font': {'size': 20}\n",
    "    },\n",
    "    width=600,\n",
    "    height=600,\n",
    "    margin=dict(t=85, l=25, r=25, b=25),\n",
    "    plot_bgcolor = \"#272b2e\",\n",
    "    paper_bgcolor = \"#272b2e\",\n",
    "    font=dict(size = 16, color = 'white')\n",
    ") \n",
    "\n",
    "\n",
    "# show the figure\n",
    "fig.show()\n",
    "fig.write_html('../images/tree_map1.html')\n"
   ]
  },
  {
   "cell_type": "code",
   "execution_count": 225,
   "metadata": {},
   "outputs": [
    {
     "data": {
      "application/vnd.plotly.v1+json": {
       "config": {
        "plotlyServerURL": "https://plot.ly"
       },
       "data": [
        {
         "branchvalues": "total",
         "customdata": [
          [
           43,
           "field"
          ],
          [
           46,
           "engineering"
          ],
          [
           48,
           "knowledge"
          ],
          [
           45,
           "statistical"
          ],
          [
           81,
           "analysis"
          ],
          [
           81,
           "degree"
          ],
          [
           35,
           "required"
          ],
          [
           76,
           "ability"
          ],
          [
           49,
           "statistics"
          ],
          [
           79,
           "machine"
          ],
          [
           46,
           "r"
          ],
          [
           331,
           "data"
          ],
          [
           364,
           "experience"
          ],
          [
           46,
           "using"
          ],
          [
           34,
           "strong"
          ],
          [
           57,
           "including"
          ],
          [
           108,
           "science"
          ],
          [
           37,
           "mathematics"
          ],
          [
           37,
           "working"
          ],
          [
           43,
           "computer"
          ],
          [
           93,
           "learning"
          ],
          [
           53,
           "tools"
          ],
          [
           61,
           "skills"
          ],
          [
           68,
           "python"
          ],
          [
           134,
           "years"
          ],
          [
           42,
           "models"
          ],
          [
           54,
           "related"
          ],
          [
           39,
           "sql"
          ],
          [
           43,
           "work"
          ],
          [
           65,
           "analytics"
          ],
          [
           2338,
           "(?)"
          ]
         ],
         "domain": {
          "x": [
           0,
           1
          ],
          "y": [
           0,
           1
          ]
         },
         "hovertemplate": "<b>%{label}</b><br>Frequency:%{customdata[0]:.0f}",
         "ids": [
          "data_science/field",
          "data_science/engineering",
          "data_science/knowledge",
          "data_science/statistical",
          "data_science/analysis",
          "data_science/degree",
          "data_science/required",
          "data_science/ability",
          "data_science/statistics",
          "data_science/machine",
          "data_science/r",
          "data_science/data",
          "data_science/experience",
          "data_science/using",
          "data_science/strong",
          "data_science/including",
          "data_science/science",
          "data_science/mathematics",
          "data_science/working",
          "data_science/computer",
          "data_science/learning",
          "data_science/tools",
          "data_science/skills",
          "data_science/python",
          "data_science/years",
          "data_science/models",
          "data_science/related",
          "data_science/sql",
          "data_science/work",
          "data_science/analytics",
          "data_science"
         ],
         "labels": [
          "field",
          "engineering",
          "knowledge",
          "statistical",
          "analysis",
          "degree",
          "required",
          "ability",
          "statistics",
          "machine",
          "r",
          "data",
          "experience",
          "using",
          "strong",
          "including",
          "science",
          "mathematics",
          "working",
          "computer",
          "learning",
          "tools",
          "skills",
          "python",
          "years",
          "models",
          "related",
          "sql",
          "work",
          "analytics",
          "data_science"
         ],
         "marker": {
          "colors": [
           "#3B5873",
           "#A3BCD6",
           "#343E29",
           "#82827C",
           "#C7D3AB",
           "#758373",
           "#1F3053",
           "#3B5873",
           "#A3BCD6",
           "#343E29",
           "#82827C",
           "#C7D3AB",
           "#758373",
           "#1F3053",
           "#3B5873",
           "#A3BCD6",
           "#343E29",
           "#82827C",
           "#C7D3AB",
           "#758373",
           "#1F3053",
           "#3B5873",
           "#A3BCD6",
           "#343E29",
           "#82827C",
           "#C7D3AB",
           "#758373",
           "#1F3053",
           "#3B5873",
           "#A3BCD6",
           "#343E29"
          ],
          "line": {
           "width": 0
          }
         },
         "name": "",
         "parents": [
          "data_science",
          "data_science",
          "data_science",
          "data_science",
          "data_science",
          "data_science",
          "data_science",
          "data_science",
          "data_science",
          "data_science",
          "data_science",
          "data_science",
          "data_science",
          "data_science",
          "data_science",
          "data_science",
          "data_science",
          "data_science",
          "data_science",
          "data_science",
          "data_science",
          "data_science",
          "data_science",
          "data_science",
          "data_science",
          "data_science",
          "data_science",
          "data_science",
          "data_science",
          "data_science",
          ""
         ],
         "textfont": {
          "color": "white"
         },
         "type": "treemap",
         "values": [
          43,
          46,
          48,
          45,
          81,
          81,
          35,
          76,
          49,
          79,
          46,
          331,
          364,
          46,
          34,
          57,
          108,
          37,
          37,
          43,
          93,
          53,
          61,
          68,
          134,
          42,
          54,
          39,
          43,
          65,
          2338
         ]
        }
       ],
       "layout": {
        "font": {
         "color": "white",
         "size": 16
        },
        "height": 600,
        "legend": {
         "tracegroupgap": 0
        },
        "margin": {
         "b": 25,
         "l": 25,
         "r": 25,
         "t": 85
        },
        "paper_bgcolor": "#272b2e",
        "plot_bgcolor": "#272b2e",
        "template": {
         "data": {
          "bar": [
           {
            "error_x": {
             "color": "#2a3f5f"
            },
            "error_y": {
             "color": "#2a3f5f"
            },
            "marker": {
             "line": {
              "color": "#E5ECF6",
              "width": 0.5
             },
             "pattern": {
              "fillmode": "overlay",
              "size": 10,
              "solidity": 0.2
             }
            },
            "type": "bar"
           }
          ],
          "barpolar": [
           {
            "marker": {
             "line": {
              "color": "#E5ECF6",
              "width": 0.5
             },
             "pattern": {
              "fillmode": "overlay",
              "size": 10,
              "solidity": 0.2
             }
            },
            "type": "barpolar"
           }
          ],
          "carpet": [
           {
            "aaxis": {
             "endlinecolor": "#2a3f5f",
             "gridcolor": "white",
             "linecolor": "white",
             "minorgridcolor": "white",
             "startlinecolor": "#2a3f5f"
            },
            "baxis": {
             "endlinecolor": "#2a3f5f",
             "gridcolor": "white",
             "linecolor": "white",
             "minorgridcolor": "white",
             "startlinecolor": "#2a3f5f"
            },
            "type": "carpet"
           }
          ],
          "choropleth": [
           {
            "colorbar": {
             "outlinewidth": 0,
             "ticks": ""
            },
            "type": "choropleth"
           }
          ],
          "contour": [
           {
            "colorbar": {
             "outlinewidth": 0,
             "ticks": ""
            },
            "colorscale": [
             [
              0,
              "#0d0887"
             ],
             [
              0.1111111111111111,
              "#46039f"
             ],
             [
              0.2222222222222222,
              "#7201a8"
             ],
             [
              0.3333333333333333,
              "#9c179e"
             ],
             [
              0.4444444444444444,
              "#bd3786"
             ],
             [
              0.5555555555555556,
              "#d8576b"
             ],
             [
              0.6666666666666666,
              "#ed7953"
             ],
             [
              0.7777777777777778,
              "#fb9f3a"
             ],
             [
              0.8888888888888888,
              "#fdca26"
             ],
             [
              1,
              "#f0f921"
             ]
            ],
            "type": "contour"
           }
          ],
          "contourcarpet": [
           {
            "colorbar": {
             "outlinewidth": 0,
             "ticks": ""
            },
            "type": "contourcarpet"
           }
          ],
          "heatmap": [
           {
            "colorbar": {
             "outlinewidth": 0,
             "ticks": ""
            },
            "colorscale": [
             [
              0,
              "#0d0887"
             ],
             [
              0.1111111111111111,
              "#46039f"
             ],
             [
              0.2222222222222222,
              "#7201a8"
             ],
             [
              0.3333333333333333,
              "#9c179e"
             ],
             [
              0.4444444444444444,
              "#bd3786"
             ],
             [
              0.5555555555555556,
              "#d8576b"
             ],
             [
              0.6666666666666666,
              "#ed7953"
             ],
             [
              0.7777777777777778,
              "#fb9f3a"
             ],
             [
              0.8888888888888888,
              "#fdca26"
             ],
             [
              1,
              "#f0f921"
             ]
            ],
            "type": "heatmap"
           }
          ],
          "heatmapgl": [
           {
            "colorbar": {
             "outlinewidth": 0,
             "ticks": ""
            },
            "colorscale": [
             [
              0,
              "#0d0887"
             ],
             [
              0.1111111111111111,
              "#46039f"
             ],
             [
              0.2222222222222222,
              "#7201a8"
             ],
             [
              0.3333333333333333,
              "#9c179e"
             ],
             [
              0.4444444444444444,
              "#bd3786"
             ],
             [
              0.5555555555555556,
              "#d8576b"
             ],
             [
              0.6666666666666666,
              "#ed7953"
             ],
             [
              0.7777777777777778,
              "#fb9f3a"
             ],
             [
              0.8888888888888888,
              "#fdca26"
             ],
             [
              1,
              "#f0f921"
             ]
            ],
            "type": "heatmapgl"
           }
          ],
          "histogram": [
           {
            "marker": {
             "pattern": {
              "fillmode": "overlay",
              "size": 10,
              "solidity": 0.2
             }
            },
            "type": "histogram"
           }
          ],
          "histogram2d": [
           {
            "colorbar": {
             "outlinewidth": 0,
             "ticks": ""
            },
            "colorscale": [
             [
              0,
              "#0d0887"
             ],
             [
              0.1111111111111111,
              "#46039f"
             ],
             [
              0.2222222222222222,
              "#7201a8"
             ],
             [
              0.3333333333333333,
              "#9c179e"
             ],
             [
              0.4444444444444444,
              "#bd3786"
             ],
             [
              0.5555555555555556,
              "#d8576b"
             ],
             [
              0.6666666666666666,
              "#ed7953"
             ],
             [
              0.7777777777777778,
              "#fb9f3a"
             ],
             [
              0.8888888888888888,
              "#fdca26"
             ],
             [
              1,
              "#f0f921"
             ]
            ],
            "type": "histogram2d"
           }
          ],
          "histogram2dcontour": [
           {
            "colorbar": {
             "outlinewidth": 0,
             "ticks": ""
            },
            "colorscale": [
             [
              0,
              "#0d0887"
             ],
             [
              0.1111111111111111,
              "#46039f"
             ],
             [
              0.2222222222222222,
              "#7201a8"
             ],
             [
              0.3333333333333333,
              "#9c179e"
             ],
             [
              0.4444444444444444,
              "#bd3786"
             ],
             [
              0.5555555555555556,
              "#d8576b"
             ],
             [
              0.6666666666666666,
              "#ed7953"
             ],
             [
              0.7777777777777778,
              "#fb9f3a"
             ],
             [
              0.8888888888888888,
              "#fdca26"
             ],
             [
              1,
              "#f0f921"
             ]
            ],
            "type": "histogram2dcontour"
           }
          ],
          "mesh3d": [
           {
            "colorbar": {
             "outlinewidth": 0,
             "ticks": ""
            },
            "type": "mesh3d"
           }
          ],
          "parcoords": [
           {
            "line": {
             "colorbar": {
              "outlinewidth": 0,
              "ticks": ""
             }
            },
            "type": "parcoords"
           }
          ],
          "pie": [
           {
            "automargin": true,
            "type": "pie"
           }
          ],
          "scatter": [
           {
            "fillpattern": {
             "fillmode": "overlay",
             "size": 10,
             "solidity": 0.2
            },
            "type": "scatter"
           }
          ],
          "scatter3d": [
           {
            "line": {
             "colorbar": {
              "outlinewidth": 0,
              "ticks": ""
             }
            },
            "marker": {
             "colorbar": {
              "outlinewidth": 0,
              "ticks": ""
             }
            },
            "type": "scatter3d"
           }
          ],
          "scattercarpet": [
           {
            "marker": {
             "colorbar": {
              "outlinewidth": 0,
              "ticks": ""
             }
            },
            "type": "scattercarpet"
           }
          ],
          "scattergeo": [
           {
            "marker": {
             "colorbar": {
              "outlinewidth": 0,
              "ticks": ""
             }
            },
            "type": "scattergeo"
           }
          ],
          "scattergl": [
           {
            "marker": {
             "colorbar": {
              "outlinewidth": 0,
              "ticks": ""
             }
            },
            "type": "scattergl"
           }
          ],
          "scattermapbox": [
           {
            "marker": {
             "colorbar": {
              "outlinewidth": 0,
              "ticks": ""
             }
            },
            "type": "scattermapbox"
           }
          ],
          "scatterpolar": [
           {
            "marker": {
             "colorbar": {
              "outlinewidth": 0,
              "ticks": ""
             }
            },
            "type": "scatterpolar"
           }
          ],
          "scatterpolargl": [
           {
            "marker": {
             "colorbar": {
              "outlinewidth": 0,
              "ticks": ""
             }
            },
            "type": "scatterpolargl"
           }
          ],
          "scatterternary": [
           {
            "marker": {
             "colorbar": {
              "outlinewidth": 0,
              "ticks": ""
             }
            },
            "type": "scatterternary"
           }
          ],
          "surface": [
           {
            "colorbar": {
             "outlinewidth": 0,
             "ticks": ""
            },
            "colorscale": [
             [
              0,
              "#0d0887"
             ],
             [
              0.1111111111111111,
              "#46039f"
             ],
             [
              0.2222222222222222,
              "#7201a8"
             ],
             [
              0.3333333333333333,
              "#9c179e"
             ],
             [
              0.4444444444444444,
              "#bd3786"
             ],
             [
              0.5555555555555556,
              "#d8576b"
             ],
             [
              0.6666666666666666,
              "#ed7953"
             ],
             [
              0.7777777777777778,
              "#fb9f3a"
             ],
             [
              0.8888888888888888,
              "#fdca26"
             ],
             [
              1,
              "#f0f921"
             ]
            ],
            "type": "surface"
           }
          ],
          "table": [
           {
            "cells": {
             "fill": {
              "color": "#EBF0F8"
             },
             "line": {
              "color": "white"
             }
            },
            "header": {
             "fill": {
              "color": "#C8D4E3"
             },
             "line": {
              "color": "white"
             }
            },
            "type": "table"
           }
          ]
         },
         "layout": {
          "annotationdefaults": {
           "arrowcolor": "#2a3f5f",
           "arrowhead": 0,
           "arrowwidth": 1
          },
          "autotypenumbers": "strict",
          "coloraxis": {
           "colorbar": {
            "outlinewidth": 0,
            "ticks": ""
           }
          },
          "colorscale": {
           "diverging": [
            [
             0,
             "#8e0152"
            ],
            [
             0.1,
             "#c51b7d"
            ],
            [
             0.2,
             "#de77ae"
            ],
            [
             0.3,
             "#f1b6da"
            ],
            [
             0.4,
             "#fde0ef"
            ],
            [
             0.5,
             "#f7f7f7"
            ],
            [
             0.6,
             "#e6f5d0"
            ],
            [
             0.7,
             "#b8e186"
            ],
            [
             0.8,
             "#7fbc41"
            ],
            [
             0.9,
             "#4d9221"
            ],
            [
             1,
             "#276419"
            ]
           ],
           "sequential": [
            [
             0,
             "#0d0887"
            ],
            [
             0.1111111111111111,
             "#46039f"
            ],
            [
             0.2222222222222222,
             "#7201a8"
            ],
            [
             0.3333333333333333,
             "#9c179e"
            ],
            [
             0.4444444444444444,
             "#bd3786"
            ],
            [
             0.5555555555555556,
             "#d8576b"
            ],
            [
             0.6666666666666666,
             "#ed7953"
            ],
            [
             0.7777777777777778,
             "#fb9f3a"
            ],
            [
             0.8888888888888888,
             "#fdca26"
            ],
            [
             1,
             "#f0f921"
            ]
           ],
           "sequentialminus": [
            [
             0,
             "#0d0887"
            ],
            [
             0.1111111111111111,
             "#46039f"
            ],
            [
             0.2222222222222222,
             "#7201a8"
            ],
            [
             0.3333333333333333,
             "#9c179e"
            ],
            [
             0.4444444444444444,
             "#bd3786"
            ],
            [
             0.5555555555555556,
             "#d8576b"
            ],
            [
             0.6666666666666666,
             "#ed7953"
            ],
            [
             0.7777777777777778,
             "#fb9f3a"
            ],
            [
             0.8888888888888888,
             "#fdca26"
            ],
            [
             1,
             "#f0f921"
            ]
           ]
          },
          "colorway": [
           "#636efa",
           "#EF553B",
           "#00cc96",
           "#ab63fa",
           "#FFA15A",
           "#19d3f3",
           "#FF6692",
           "#B6E880",
           "#FF97FF",
           "#FECB52"
          ],
          "font": {
           "color": "#2a3f5f"
          },
          "geo": {
           "bgcolor": "white",
           "lakecolor": "white",
           "landcolor": "#E5ECF6",
           "showlakes": true,
           "showland": true,
           "subunitcolor": "white"
          },
          "hoverlabel": {
           "align": "left"
          },
          "hovermode": "closest",
          "mapbox": {
           "style": "light"
          },
          "paper_bgcolor": "white",
          "plot_bgcolor": "#E5ECF6",
          "polar": {
           "angularaxis": {
            "gridcolor": "white",
            "linecolor": "white",
            "ticks": ""
           },
           "bgcolor": "#E5ECF6",
           "radialaxis": {
            "gridcolor": "white",
            "linecolor": "white",
            "ticks": ""
           }
          },
          "scene": {
           "xaxis": {
            "backgroundcolor": "#E5ECF6",
            "gridcolor": "white",
            "gridwidth": 2,
            "linecolor": "white",
            "showbackground": true,
            "ticks": "",
            "zerolinecolor": "white"
           },
           "yaxis": {
            "backgroundcolor": "#E5ECF6",
            "gridcolor": "white",
            "gridwidth": 2,
            "linecolor": "white",
            "showbackground": true,
            "ticks": "",
            "zerolinecolor": "white"
           },
           "zaxis": {
            "backgroundcolor": "#E5ECF6",
            "gridcolor": "white",
            "gridwidth": 2,
            "linecolor": "white",
            "showbackground": true,
            "ticks": "",
            "zerolinecolor": "white"
           }
          },
          "shapedefaults": {
           "line": {
            "color": "#2a3f5f"
           }
          },
          "ternary": {
           "aaxis": {
            "gridcolor": "white",
            "linecolor": "white",
            "ticks": ""
           },
           "baxis": {
            "gridcolor": "white",
            "linecolor": "white",
            "ticks": ""
           },
           "bgcolor": "#E5ECF6",
           "caxis": {
            "gridcolor": "white",
            "linecolor": "white",
            "ticks": ""
           }
          },
          "title": {
           "x": 0.05
          },
          "xaxis": {
           "automargin": true,
           "gridcolor": "white",
           "linecolor": "white",
           "ticks": "",
           "title": {
            "standoff": 15
           },
           "zerolinecolor": "white",
           "zerolinewidth": 2
          },
          "yaxis": {
           "automargin": true,
           "gridcolor": "white",
           "linecolor": "white",
           "ticks": "",
           "title": {
            "standoff": 15
           },
           "zerolinecolor": "white",
           "zerolinewidth": 2
          }
         }
        },
        "title": {
         "font": {
          "size": 20
         },
         "pad": {
          "r": 10,
          "t": 10
         },
         "text": "Top 30 words describing<br>data science qualifications",
         "x": 0.5,
         "xanchor": "center",
         "y": 0.96,
         "yanchor": "top"
        },
        "treemapcolorway": [
         "#3B5873",
         "#A3BCD6",
         "#343E29",
         "#82827C",
         "#C7D3AB",
         "#758373",
         "#1F3053"
        ],
        "width": 600
       }
      },
      "text/html": [
       "<div>                            <div id=\"af1defa9-543b-4e07-ae75-9321a97c00c5\" class=\"plotly-graph-div\" style=\"height:600px; width:600px;\"></div>            <script type=\"text/javascript\">                require([\"plotly\"], function(Plotly) {                    window.PLOTLYENV=window.PLOTLYENV || {};                                    if (document.getElementById(\"af1defa9-543b-4e07-ae75-9321a97c00c5\")) {                    Plotly.newPlot(                        \"af1defa9-543b-4e07-ae75-9321a97c00c5\",                        [{\"branchvalues\":\"total\",\"customdata\":[[43,\"field\"],[46,\"engineering\"],[48,\"knowledge\"],[45,\"statistical\"],[81,\"analysis\"],[81,\"degree\"],[35,\"required\"],[76,\"ability\"],[49,\"statistics\"],[79,\"machine\"],[46,\"r\"],[331,\"data\"],[364,\"experience\"],[46,\"using\"],[34,\"strong\"],[57,\"including\"],[108,\"science\"],[37,\"mathematics\"],[37,\"working\"],[43,\"computer\"],[93,\"learning\"],[53,\"tools\"],[61,\"skills\"],[68,\"python\"],[134,\"years\"],[42,\"models\"],[54,\"related\"],[39,\"sql\"],[43,\"work\"],[65,\"analytics\"],[2338,\"(?)\"]],\"domain\":{\"x\":[0.0,1.0],\"y\":[0.0,1.0]},\"hovertemplate\":\"<b>%{label}</b><br>Frequency:%{customdata[0]:.0f}\",\"ids\":[\"data_science/field\",\"data_science/engineering\",\"data_science/knowledge\",\"data_science/statistical\",\"data_science/analysis\",\"data_science/degree\",\"data_science/required\",\"data_science/ability\",\"data_science/statistics\",\"data_science/machine\",\"data_science/r\",\"data_science/data\",\"data_science/experience\",\"data_science/using\",\"data_science/strong\",\"data_science/including\",\"data_science/science\",\"data_science/mathematics\",\"data_science/working\",\"data_science/computer\",\"data_science/learning\",\"data_science/tools\",\"data_science/skills\",\"data_science/python\",\"data_science/years\",\"data_science/models\",\"data_science/related\",\"data_science/sql\",\"data_science/work\",\"data_science/analytics\",\"data_science\"],\"labels\":[\"field\",\"engineering\",\"knowledge\",\"statistical\",\"analysis\",\"degree\",\"required\",\"ability\",\"statistics\",\"machine\",\"r\",\"data\",\"experience\",\"using\",\"strong\",\"including\",\"science\",\"mathematics\",\"working\",\"computer\",\"learning\",\"tools\",\"skills\",\"python\",\"years\",\"models\",\"related\",\"sql\",\"work\",\"analytics\",\"data_science\"],\"marker\":{\"colors\":[\"#3B5873\",\"#A3BCD6\",\"#343E29\",\"#82827C\",\"#C7D3AB\",\"#758373\",\"#1F3053\",\"#3B5873\",\"#A3BCD6\",\"#343E29\",\"#82827C\",\"#C7D3AB\",\"#758373\",\"#1F3053\",\"#3B5873\",\"#A3BCD6\",\"#343E29\",\"#82827C\",\"#C7D3AB\",\"#758373\",\"#1F3053\",\"#3B5873\",\"#A3BCD6\",\"#343E29\",\"#82827C\",\"#C7D3AB\",\"#758373\",\"#1F3053\",\"#3B5873\",\"#A3BCD6\",\"#343E29\"],\"line\":{\"width\":0}},\"name\":\"\",\"parents\":[\"data_science\",\"data_science\",\"data_science\",\"data_science\",\"data_science\",\"data_science\",\"data_science\",\"data_science\",\"data_science\",\"data_science\",\"data_science\",\"data_science\",\"data_science\",\"data_science\",\"data_science\",\"data_science\",\"data_science\",\"data_science\",\"data_science\",\"data_science\",\"data_science\",\"data_science\",\"data_science\",\"data_science\",\"data_science\",\"data_science\",\"data_science\",\"data_science\",\"data_science\",\"data_science\",\"\"],\"values\":[43,46,48,45,81,81,35,76,49,79,46,331,364,46,34,57,108,37,37,43,93,53,61,68,134,42,54,39,43,65,2338],\"type\":\"treemap\",\"textfont\":{\"color\":\"white\"}}],                        {\"template\":{\"data\":{\"histogram2dcontour\":[{\"type\":\"histogram2dcontour\",\"colorbar\":{\"outlinewidth\":0,\"ticks\":\"\"},\"colorscale\":[[0.0,\"#0d0887\"],[0.1111111111111111,\"#46039f\"],[0.2222222222222222,\"#7201a8\"],[0.3333333333333333,\"#9c179e\"],[0.4444444444444444,\"#bd3786\"],[0.5555555555555556,\"#d8576b\"],[0.6666666666666666,\"#ed7953\"],[0.7777777777777778,\"#fb9f3a\"],[0.8888888888888888,\"#fdca26\"],[1.0,\"#f0f921\"]]}],\"choropleth\":[{\"type\":\"choropleth\",\"colorbar\":{\"outlinewidth\":0,\"ticks\":\"\"}}],\"histogram2d\":[{\"type\":\"histogram2d\",\"colorbar\":{\"outlinewidth\":0,\"ticks\":\"\"},\"colorscale\":[[0.0,\"#0d0887\"],[0.1111111111111111,\"#46039f\"],[0.2222222222222222,\"#7201a8\"],[0.3333333333333333,\"#9c179e\"],[0.4444444444444444,\"#bd3786\"],[0.5555555555555556,\"#d8576b\"],[0.6666666666666666,\"#ed7953\"],[0.7777777777777778,\"#fb9f3a\"],[0.8888888888888888,\"#fdca26\"],[1.0,\"#f0f921\"]]}],\"heatmap\":[{\"type\":\"heatmap\",\"colorbar\":{\"outlinewidth\":0,\"ticks\":\"\"},\"colorscale\":[[0.0,\"#0d0887\"],[0.1111111111111111,\"#46039f\"],[0.2222222222222222,\"#7201a8\"],[0.3333333333333333,\"#9c179e\"],[0.4444444444444444,\"#bd3786\"],[0.5555555555555556,\"#d8576b\"],[0.6666666666666666,\"#ed7953\"],[0.7777777777777778,\"#fb9f3a\"],[0.8888888888888888,\"#fdca26\"],[1.0,\"#f0f921\"]]}],\"heatmapgl\":[{\"type\":\"heatmapgl\",\"colorbar\":{\"outlinewidth\":0,\"ticks\":\"\"},\"colorscale\":[[0.0,\"#0d0887\"],[0.1111111111111111,\"#46039f\"],[0.2222222222222222,\"#7201a8\"],[0.3333333333333333,\"#9c179e\"],[0.4444444444444444,\"#bd3786\"],[0.5555555555555556,\"#d8576b\"],[0.6666666666666666,\"#ed7953\"],[0.7777777777777778,\"#fb9f3a\"],[0.8888888888888888,\"#fdca26\"],[1.0,\"#f0f921\"]]}],\"contourcarpet\":[{\"type\":\"contourcarpet\",\"colorbar\":{\"outlinewidth\":0,\"ticks\":\"\"}}],\"contour\":[{\"type\":\"contour\",\"colorbar\":{\"outlinewidth\":0,\"ticks\":\"\"},\"colorscale\":[[0.0,\"#0d0887\"],[0.1111111111111111,\"#46039f\"],[0.2222222222222222,\"#7201a8\"],[0.3333333333333333,\"#9c179e\"],[0.4444444444444444,\"#bd3786\"],[0.5555555555555556,\"#d8576b\"],[0.6666666666666666,\"#ed7953\"],[0.7777777777777778,\"#fb9f3a\"],[0.8888888888888888,\"#fdca26\"],[1.0,\"#f0f921\"]]}],\"surface\":[{\"type\":\"surface\",\"colorbar\":{\"outlinewidth\":0,\"ticks\":\"\"},\"colorscale\":[[0.0,\"#0d0887\"],[0.1111111111111111,\"#46039f\"],[0.2222222222222222,\"#7201a8\"],[0.3333333333333333,\"#9c179e\"],[0.4444444444444444,\"#bd3786\"],[0.5555555555555556,\"#d8576b\"],[0.6666666666666666,\"#ed7953\"],[0.7777777777777778,\"#fb9f3a\"],[0.8888888888888888,\"#fdca26\"],[1.0,\"#f0f921\"]]}],\"mesh3d\":[{\"type\":\"mesh3d\",\"colorbar\":{\"outlinewidth\":0,\"ticks\":\"\"}}],\"scatter\":[{\"fillpattern\":{\"fillmode\":\"overlay\",\"size\":10,\"solidity\":0.2},\"type\":\"scatter\"}],\"parcoords\":[{\"type\":\"parcoords\",\"line\":{\"colorbar\":{\"outlinewidth\":0,\"ticks\":\"\"}}}],\"scatterpolargl\":[{\"type\":\"scatterpolargl\",\"marker\":{\"colorbar\":{\"outlinewidth\":0,\"ticks\":\"\"}}}],\"bar\":[{\"error_x\":{\"color\":\"#2a3f5f\"},\"error_y\":{\"color\":\"#2a3f5f\"},\"marker\":{\"line\":{\"color\":\"#E5ECF6\",\"width\":0.5},\"pattern\":{\"fillmode\":\"overlay\",\"size\":10,\"solidity\":0.2}},\"type\":\"bar\"}],\"scattergeo\":[{\"type\":\"scattergeo\",\"marker\":{\"colorbar\":{\"outlinewidth\":0,\"ticks\":\"\"}}}],\"scatterpolar\":[{\"type\":\"scatterpolar\",\"marker\":{\"colorbar\":{\"outlinewidth\":0,\"ticks\":\"\"}}}],\"histogram\":[{\"marker\":{\"pattern\":{\"fillmode\":\"overlay\",\"size\":10,\"solidity\":0.2}},\"type\":\"histogram\"}],\"scattergl\":[{\"type\":\"scattergl\",\"marker\":{\"colorbar\":{\"outlinewidth\":0,\"ticks\":\"\"}}}],\"scatter3d\":[{\"type\":\"scatter3d\",\"line\":{\"colorbar\":{\"outlinewidth\":0,\"ticks\":\"\"}},\"marker\":{\"colorbar\":{\"outlinewidth\":0,\"ticks\":\"\"}}}],\"scattermapbox\":[{\"type\":\"scattermapbox\",\"marker\":{\"colorbar\":{\"outlinewidth\":0,\"ticks\":\"\"}}}],\"scatterternary\":[{\"type\":\"scatterternary\",\"marker\":{\"colorbar\":{\"outlinewidth\":0,\"ticks\":\"\"}}}],\"scattercarpet\":[{\"type\":\"scattercarpet\",\"marker\":{\"colorbar\":{\"outlinewidth\":0,\"ticks\":\"\"}}}],\"carpet\":[{\"aaxis\":{\"endlinecolor\":\"#2a3f5f\",\"gridcolor\":\"white\",\"linecolor\":\"white\",\"minorgridcolor\":\"white\",\"startlinecolor\":\"#2a3f5f\"},\"baxis\":{\"endlinecolor\":\"#2a3f5f\",\"gridcolor\":\"white\",\"linecolor\":\"white\",\"minorgridcolor\":\"white\",\"startlinecolor\":\"#2a3f5f\"},\"type\":\"carpet\"}],\"table\":[{\"cells\":{\"fill\":{\"color\":\"#EBF0F8\"},\"line\":{\"color\":\"white\"}},\"header\":{\"fill\":{\"color\":\"#C8D4E3\"},\"line\":{\"color\":\"white\"}},\"type\":\"table\"}],\"barpolar\":[{\"marker\":{\"line\":{\"color\":\"#E5ECF6\",\"width\":0.5},\"pattern\":{\"fillmode\":\"overlay\",\"size\":10,\"solidity\":0.2}},\"type\":\"barpolar\"}],\"pie\":[{\"automargin\":true,\"type\":\"pie\"}]},\"layout\":{\"autotypenumbers\":\"strict\",\"colorway\":[\"#636efa\",\"#EF553B\",\"#00cc96\",\"#ab63fa\",\"#FFA15A\",\"#19d3f3\",\"#FF6692\",\"#B6E880\",\"#FF97FF\",\"#FECB52\"],\"font\":{\"color\":\"#2a3f5f\"},\"hovermode\":\"closest\",\"hoverlabel\":{\"align\":\"left\"},\"paper_bgcolor\":\"white\",\"plot_bgcolor\":\"#E5ECF6\",\"polar\":{\"bgcolor\":\"#E5ECF6\",\"angularaxis\":{\"gridcolor\":\"white\",\"linecolor\":\"white\",\"ticks\":\"\"},\"radialaxis\":{\"gridcolor\":\"white\",\"linecolor\":\"white\",\"ticks\":\"\"}},\"ternary\":{\"bgcolor\":\"#E5ECF6\",\"aaxis\":{\"gridcolor\":\"white\",\"linecolor\":\"white\",\"ticks\":\"\"},\"baxis\":{\"gridcolor\":\"white\",\"linecolor\":\"white\",\"ticks\":\"\"},\"caxis\":{\"gridcolor\":\"white\",\"linecolor\":\"white\",\"ticks\":\"\"}},\"coloraxis\":{\"colorbar\":{\"outlinewidth\":0,\"ticks\":\"\"}},\"colorscale\":{\"sequential\":[[0.0,\"#0d0887\"],[0.1111111111111111,\"#46039f\"],[0.2222222222222222,\"#7201a8\"],[0.3333333333333333,\"#9c179e\"],[0.4444444444444444,\"#bd3786\"],[0.5555555555555556,\"#d8576b\"],[0.6666666666666666,\"#ed7953\"],[0.7777777777777778,\"#fb9f3a\"],[0.8888888888888888,\"#fdca26\"],[1.0,\"#f0f921\"]],\"sequentialminus\":[[0.0,\"#0d0887\"],[0.1111111111111111,\"#46039f\"],[0.2222222222222222,\"#7201a8\"],[0.3333333333333333,\"#9c179e\"],[0.4444444444444444,\"#bd3786\"],[0.5555555555555556,\"#d8576b\"],[0.6666666666666666,\"#ed7953\"],[0.7777777777777778,\"#fb9f3a\"],[0.8888888888888888,\"#fdca26\"],[1.0,\"#f0f921\"]],\"diverging\":[[0,\"#8e0152\"],[0.1,\"#c51b7d\"],[0.2,\"#de77ae\"],[0.3,\"#f1b6da\"],[0.4,\"#fde0ef\"],[0.5,\"#f7f7f7\"],[0.6,\"#e6f5d0\"],[0.7,\"#b8e186\"],[0.8,\"#7fbc41\"],[0.9,\"#4d9221\"],[1,\"#276419\"]]},\"xaxis\":{\"gridcolor\":\"white\",\"linecolor\":\"white\",\"ticks\":\"\",\"title\":{\"standoff\":15},\"zerolinecolor\":\"white\",\"automargin\":true,\"zerolinewidth\":2},\"yaxis\":{\"gridcolor\":\"white\",\"linecolor\":\"white\",\"ticks\":\"\",\"title\":{\"standoff\":15},\"zerolinecolor\":\"white\",\"automargin\":true,\"zerolinewidth\":2},\"scene\":{\"xaxis\":{\"backgroundcolor\":\"#E5ECF6\",\"gridcolor\":\"white\",\"linecolor\":\"white\",\"showbackground\":true,\"ticks\":\"\",\"zerolinecolor\":\"white\",\"gridwidth\":2},\"yaxis\":{\"backgroundcolor\":\"#E5ECF6\",\"gridcolor\":\"white\",\"linecolor\":\"white\",\"showbackground\":true,\"ticks\":\"\",\"zerolinecolor\":\"white\",\"gridwidth\":2},\"zaxis\":{\"backgroundcolor\":\"#E5ECF6\",\"gridcolor\":\"white\",\"linecolor\":\"white\",\"showbackground\":true,\"ticks\":\"\",\"zerolinecolor\":\"white\",\"gridwidth\":2}},\"shapedefaults\":{\"line\":{\"color\":\"#2a3f5f\"}},\"annotationdefaults\":{\"arrowcolor\":\"#2a3f5f\",\"arrowhead\":0,\"arrowwidth\":1},\"geo\":{\"bgcolor\":\"white\",\"landcolor\":\"#E5ECF6\",\"subunitcolor\":\"white\",\"showland\":true,\"showlakes\":true,\"lakecolor\":\"white\"},\"title\":{\"x\":0.05},\"mapbox\":{\"style\":\"light\"}}},\"legend\":{\"tracegroupgap\":0},\"margin\":{\"t\":85,\"l\":25,\"r\":25,\"b\":25},\"treemapcolorway\":[\"#3B5873\",\"#A3BCD6\",\"#343E29\",\"#82827C\",\"#C7D3AB\",\"#758373\",\"#1F3053\"],\"title\":{\"font\":{\"size\":20},\"text\":\"Top 30 words describing<br>data science qualifications\",\"pad\":{\"r\":10,\"t\":10},\"x\":0.5,\"y\":0.96,\"xanchor\":\"center\",\"yanchor\":\"top\"},\"font\":{\"size\":16,\"color\":\"white\"},\"width\":600,\"height\":600,\"plot_bgcolor\":\"#272b2e\",\"paper_bgcolor\":\"#272b2e\"},                        {\"responsive\": true}                    ).then(function(){\n",
       "                            \n",
       "var gd = document.getElementById('af1defa9-543b-4e07-ae75-9321a97c00c5');\n",
       "var x = new MutationObserver(function (mutations, observer) {{\n",
       "        var display = window.getComputedStyle(gd).display;\n",
       "        if (!display || display === 'none') {{\n",
       "            console.log([gd, 'removed!']);\n",
       "            Plotly.purge(gd);\n",
       "            observer.disconnect();\n",
       "        }}\n",
       "}});\n",
       "\n",
       "// Listen for the removal of the full notebook cells\n",
       "var notebookContainer = gd.closest('#notebook-container');\n",
       "if (notebookContainer) {{\n",
       "    x.observe(notebookContainer, {childList: true});\n",
       "}}\n",
       "\n",
       "// Listen for the clearing of the current output cell\n",
       "var outputEl = gd.closest('.output');\n",
       "if (outputEl) {{\n",
       "    x.observe(outputEl, {childList: true});\n",
       "}}\n",
       "\n",
       "                        })                };                });            </script>        </div>"
      ]
     },
     "metadata": {},
     "output_type": "display_data"
    }
   ],
   "source": [
    "df_word_count_qual_da = df_word_count_qual[df_word_count_qual['job_type']=='data_analysis']\n",
    "df_word_count_qual_ds = df_word_count_qual[df_word_count_qual['job_type']=='data_science']\n",
    "df_word_count_qual_ml = df_word_count_qual[df_word_count_qual['job_type']=='machine_learning']\n",
    "\n",
    "# Define a custom color scale\n",
    "custom_colors = ['#3B5873', '#A3BCD6', '#343E29', '#82827C', '#C7D3AB','#758373','#1F3053']\n",
    "\n",
    "# create the treemap figure with custom hover text and color scale\n",
    "fig = px.treemap(df_word_count_qual_ds, path=['job_type', 'word'], values='frequency', color='word',\n",
    "                 color_discrete_sequence=custom_colors,\n",
    "                 hover_data={'frequency': ':f'},\n",
    "                 )\n",
    "\n",
    "# remove the treemap borders\n",
    "fig.update_traces(\n",
    "    go.Treemap(\n",
    "        marker=dict(line=dict(width=0))\n",
    "    )\n",
    ")\n",
    "fig.update_traces(textfont=dict(color='white'))\n",
    "fig.update_traces(hovertemplate='<b>%{label}</b><br>Frequency:%{customdata[0]:.0f}')\n",
    "\n",
    "# customize the font and size of the title and labels\n",
    "fig.update_layout(title={'text': \"Top 30 words describing<br>data science qualifications\", 'font': {'size': 24}},\n",
    "                  font={'size': 18})\n",
    "\n",
    "# customize the margins\n",
    "fig.update_layout(\n",
    "    title={\n",
    "        'x': 0.50,\n",
    "        'y': 0.96,\n",
    "        'xanchor': 'center',\n",
    "        'yanchor': 'top',\n",
    "        'pad': {'r': 10, 't': 10,},\n",
    "        'font': {'size': 20}\n",
    "    },\n",
    "    width=600,\n",
    "    height=600,\n",
    "    margin=dict(t=85, l=25, r=25, b=25),\n",
    "    plot_bgcolor = \"#272b2e\",\n",
    "    paper_bgcolor = \"#272b2e\",\n",
    "    font=dict(size = 16, color = 'white')\n",
    ") \n",
    "\n",
    "\n",
    "# show the figure\n",
    "fig.show()\n",
    "fig.write_html('../images/tree_map2.html')\n"
   ]
  },
  {
   "cell_type": "code",
   "execution_count": 224,
   "metadata": {},
   "outputs": [
    {
     "data": {
      "application/vnd.plotly.v1+json": {
       "config": {
        "plotlyServerURL": "https://plot.ly"
       },
       "data": [
        {
         "branchvalues": "total",
         "customdata": [
          [
           63,
           "python"
          ],
          [
           34,
           "tensorflow"
          ],
          [
           35,
           "development"
          ],
          [
           105,
           "data"
          ],
          [
           46,
           "knowledge"
          ],
          [
           188,
           "learning"
          ],
          [
           32,
           "technical"
          ],
          [
           52,
           "software"
          ],
          [
           42,
           "field"
          ],
          [
           43,
           "ability"
          ],
          [
           32,
           "pytorch"
          ],
          [
           36,
           "models"
          ],
          [
           34,
           "bachelors"
          ],
          [
           77,
           "computer"
          ],
          [
           47,
           "ml"
          ],
          [
           82,
           "skills"
          ],
          [
           73,
           "strong"
          ],
          [
           323,
           "experience"
          ],
          [
           39,
           "working"
          ],
          [
           35,
           "programming"
          ],
          [
           36,
           "eg"
          ],
          [
           55,
           "degree"
          ],
          [
           120,
           "machine"
          ],
          [
           59,
           "engineering"
          ],
          [
           101,
           "years"
          ],
          [
           40,
           "using"
          ],
          [
           45,
           "related"
          ],
          [
           33,
           "work"
          ],
          [
           75,
           "science"
          ],
          [
           58,
           "deep"
          ],
          [
           2040,
           "(?)"
          ]
         ],
         "domain": {
          "x": [
           0,
           1
          ],
          "y": [
           0,
           1
          ]
         },
         "hovertemplate": "<b>%{label}</b><br>Frequency:%{customdata[0]:.0f}",
         "ids": [
          "machine_learning/python",
          "machine_learning/tensorflow",
          "machine_learning/development",
          "machine_learning/data",
          "machine_learning/knowledge",
          "machine_learning/learning",
          "machine_learning/technical",
          "machine_learning/software",
          "machine_learning/field",
          "machine_learning/ability",
          "machine_learning/pytorch",
          "machine_learning/models",
          "machine_learning/bachelors",
          "machine_learning/computer",
          "machine_learning/ml",
          "machine_learning/skills",
          "machine_learning/strong",
          "machine_learning/experience",
          "machine_learning/working",
          "machine_learning/programming",
          "machine_learning/eg",
          "machine_learning/degree",
          "machine_learning/machine",
          "machine_learning/engineering",
          "machine_learning/years",
          "machine_learning/using",
          "machine_learning/related",
          "machine_learning/work",
          "machine_learning/science",
          "machine_learning/deep",
          "machine_learning"
         ],
         "labels": [
          "python",
          "tensorflow",
          "development",
          "data",
          "knowledge",
          "learning",
          "technical",
          "software",
          "field",
          "ability",
          "pytorch",
          "models",
          "bachelors",
          "computer",
          "ml",
          "skills",
          "strong",
          "experience",
          "working",
          "programming",
          "eg",
          "degree",
          "machine",
          "engineering",
          "years",
          "using",
          "related",
          "work",
          "science",
          "deep",
          "machine_learning"
         ],
         "marker": {
          "colors": [
           "#3B5873",
           "#A3BCD6",
           "#343E29",
           "#82827C",
           "#C7D3AB",
           "#758373",
           "#1F3053",
           "#3B5873",
           "#A3BCD6",
           "#343E29",
           "#82827C",
           "#C7D3AB",
           "#758373",
           "#1F3053",
           "#3B5873",
           "#A3BCD6",
           "#343E29",
           "#82827C",
           "#C7D3AB",
           "#758373",
           "#1F3053",
           "#3B5873",
           "#A3BCD6",
           "#343E29",
           "#82827C",
           "#C7D3AB",
           "#758373",
           "#1F3053",
           "#3B5873",
           "#A3BCD6",
           "#343E29"
          ],
          "line": {
           "width": 0
          }
         },
         "name": "",
         "parents": [
          "machine_learning",
          "machine_learning",
          "machine_learning",
          "machine_learning",
          "machine_learning",
          "machine_learning",
          "machine_learning",
          "machine_learning",
          "machine_learning",
          "machine_learning",
          "machine_learning",
          "machine_learning",
          "machine_learning",
          "machine_learning",
          "machine_learning",
          "machine_learning",
          "machine_learning",
          "machine_learning",
          "machine_learning",
          "machine_learning",
          "machine_learning",
          "machine_learning",
          "machine_learning",
          "machine_learning",
          "machine_learning",
          "machine_learning",
          "machine_learning",
          "machine_learning",
          "machine_learning",
          "machine_learning",
          ""
         ],
         "textfont": {
          "color": "white"
         },
         "type": "treemap",
         "values": [
          63,
          34,
          35,
          105,
          46,
          188,
          32,
          52,
          42,
          43,
          32,
          36,
          34,
          77,
          47,
          82,
          73,
          323,
          39,
          35,
          36,
          55,
          120,
          59,
          101,
          40,
          45,
          33,
          75,
          58,
          2040
         ]
        }
       ],
       "layout": {
        "font": {
         "color": "white",
         "size": 16
        },
        "height": 600,
        "legend": {
         "tracegroupgap": 0
        },
        "margin": {
         "b": 25,
         "l": 25,
         "r": 25,
         "t": 85
        },
        "paper_bgcolor": "#272b2e",
        "plot_bgcolor": "#272b2e",
        "template": {
         "data": {
          "bar": [
           {
            "error_x": {
             "color": "#2a3f5f"
            },
            "error_y": {
             "color": "#2a3f5f"
            },
            "marker": {
             "line": {
              "color": "#E5ECF6",
              "width": 0.5
             },
             "pattern": {
              "fillmode": "overlay",
              "size": 10,
              "solidity": 0.2
             }
            },
            "type": "bar"
           }
          ],
          "barpolar": [
           {
            "marker": {
             "line": {
              "color": "#E5ECF6",
              "width": 0.5
             },
             "pattern": {
              "fillmode": "overlay",
              "size": 10,
              "solidity": 0.2
             }
            },
            "type": "barpolar"
           }
          ],
          "carpet": [
           {
            "aaxis": {
             "endlinecolor": "#2a3f5f",
             "gridcolor": "white",
             "linecolor": "white",
             "minorgridcolor": "white",
             "startlinecolor": "#2a3f5f"
            },
            "baxis": {
             "endlinecolor": "#2a3f5f",
             "gridcolor": "white",
             "linecolor": "white",
             "minorgridcolor": "white",
             "startlinecolor": "#2a3f5f"
            },
            "type": "carpet"
           }
          ],
          "choropleth": [
           {
            "colorbar": {
             "outlinewidth": 0,
             "ticks": ""
            },
            "type": "choropleth"
           }
          ],
          "contour": [
           {
            "colorbar": {
             "outlinewidth": 0,
             "ticks": ""
            },
            "colorscale": [
             [
              0,
              "#0d0887"
             ],
             [
              0.1111111111111111,
              "#46039f"
             ],
             [
              0.2222222222222222,
              "#7201a8"
             ],
             [
              0.3333333333333333,
              "#9c179e"
             ],
             [
              0.4444444444444444,
              "#bd3786"
             ],
             [
              0.5555555555555556,
              "#d8576b"
             ],
             [
              0.6666666666666666,
              "#ed7953"
             ],
             [
              0.7777777777777778,
              "#fb9f3a"
             ],
             [
              0.8888888888888888,
              "#fdca26"
             ],
             [
              1,
              "#f0f921"
             ]
            ],
            "type": "contour"
           }
          ],
          "contourcarpet": [
           {
            "colorbar": {
             "outlinewidth": 0,
             "ticks": ""
            },
            "type": "contourcarpet"
           }
          ],
          "heatmap": [
           {
            "colorbar": {
             "outlinewidth": 0,
             "ticks": ""
            },
            "colorscale": [
             [
              0,
              "#0d0887"
             ],
             [
              0.1111111111111111,
              "#46039f"
             ],
             [
              0.2222222222222222,
              "#7201a8"
             ],
             [
              0.3333333333333333,
              "#9c179e"
             ],
             [
              0.4444444444444444,
              "#bd3786"
             ],
             [
              0.5555555555555556,
              "#d8576b"
             ],
             [
              0.6666666666666666,
              "#ed7953"
             ],
             [
              0.7777777777777778,
              "#fb9f3a"
             ],
             [
              0.8888888888888888,
              "#fdca26"
             ],
             [
              1,
              "#f0f921"
             ]
            ],
            "type": "heatmap"
           }
          ],
          "heatmapgl": [
           {
            "colorbar": {
             "outlinewidth": 0,
             "ticks": ""
            },
            "colorscale": [
             [
              0,
              "#0d0887"
             ],
             [
              0.1111111111111111,
              "#46039f"
             ],
             [
              0.2222222222222222,
              "#7201a8"
             ],
             [
              0.3333333333333333,
              "#9c179e"
             ],
             [
              0.4444444444444444,
              "#bd3786"
             ],
             [
              0.5555555555555556,
              "#d8576b"
             ],
             [
              0.6666666666666666,
              "#ed7953"
             ],
             [
              0.7777777777777778,
              "#fb9f3a"
             ],
             [
              0.8888888888888888,
              "#fdca26"
             ],
             [
              1,
              "#f0f921"
             ]
            ],
            "type": "heatmapgl"
           }
          ],
          "histogram": [
           {
            "marker": {
             "pattern": {
              "fillmode": "overlay",
              "size": 10,
              "solidity": 0.2
             }
            },
            "type": "histogram"
           }
          ],
          "histogram2d": [
           {
            "colorbar": {
             "outlinewidth": 0,
             "ticks": ""
            },
            "colorscale": [
             [
              0,
              "#0d0887"
             ],
             [
              0.1111111111111111,
              "#46039f"
             ],
             [
              0.2222222222222222,
              "#7201a8"
             ],
             [
              0.3333333333333333,
              "#9c179e"
             ],
             [
              0.4444444444444444,
              "#bd3786"
             ],
             [
              0.5555555555555556,
              "#d8576b"
             ],
             [
              0.6666666666666666,
              "#ed7953"
             ],
             [
              0.7777777777777778,
              "#fb9f3a"
             ],
             [
              0.8888888888888888,
              "#fdca26"
             ],
             [
              1,
              "#f0f921"
             ]
            ],
            "type": "histogram2d"
           }
          ],
          "histogram2dcontour": [
           {
            "colorbar": {
             "outlinewidth": 0,
             "ticks": ""
            },
            "colorscale": [
             [
              0,
              "#0d0887"
             ],
             [
              0.1111111111111111,
              "#46039f"
             ],
             [
              0.2222222222222222,
              "#7201a8"
             ],
             [
              0.3333333333333333,
              "#9c179e"
             ],
             [
              0.4444444444444444,
              "#bd3786"
             ],
             [
              0.5555555555555556,
              "#d8576b"
             ],
             [
              0.6666666666666666,
              "#ed7953"
             ],
             [
              0.7777777777777778,
              "#fb9f3a"
             ],
             [
              0.8888888888888888,
              "#fdca26"
             ],
             [
              1,
              "#f0f921"
             ]
            ],
            "type": "histogram2dcontour"
           }
          ],
          "mesh3d": [
           {
            "colorbar": {
             "outlinewidth": 0,
             "ticks": ""
            },
            "type": "mesh3d"
           }
          ],
          "parcoords": [
           {
            "line": {
             "colorbar": {
              "outlinewidth": 0,
              "ticks": ""
             }
            },
            "type": "parcoords"
           }
          ],
          "pie": [
           {
            "automargin": true,
            "type": "pie"
           }
          ],
          "scatter": [
           {
            "fillpattern": {
             "fillmode": "overlay",
             "size": 10,
             "solidity": 0.2
            },
            "type": "scatter"
           }
          ],
          "scatter3d": [
           {
            "line": {
             "colorbar": {
              "outlinewidth": 0,
              "ticks": ""
             }
            },
            "marker": {
             "colorbar": {
              "outlinewidth": 0,
              "ticks": ""
             }
            },
            "type": "scatter3d"
           }
          ],
          "scattercarpet": [
           {
            "marker": {
             "colorbar": {
              "outlinewidth": 0,
              "ticks": ""
             }
            },
            "type": "scattercarpet"
           }
          ],
          "scattergeo": [
           {
            "marker": {
             "colorbar": {
              "outlinewidth": 0,
              "ticks": ""
             }
            },
            "type": "scattergeo"
           }
          ],
          "scattergl": [
           {
            "marker": {
             "colorbar": {
              "outlinewidth": 0,
              "ticks": ""
             }
            },
            "type": "scattergl"
           }
          ],
          "scattermapbox": [
           {
            "marker": {
             "colorbar": {
              "outlinewidth": 0,
              "ticks": ""
             }
            },
            "type": "scattermapbox"
           }
          ],
          "scatterpolar": [
           {
            "marker": {
             "colorbar": {
              "outlinewidth": 0,
              "ticks": ""
             }
            },
            "type": "scatterpolar"
           }
          ],
          "scatterpolargl": [
           {
            "marker": {
             "colorbar": {
              "outlinewidth": 0,
              "ticks": ""
             }
            },
            "type": "scatterpolargl"
           }
          ],
          "scatterternary": [
           {
            "marker": {
             "colorbar": {
              "outlinewidth": 0,
              "ticks": ""
             }
            },
            "type": "scatterternary"
           }
          ],
          "surface": [
           {
            "colorbar": {
             "outlinewidth": 0,
             "ticks": ""
            },
            "colorscale": [
             [
              0,
              "#0d0887"
             ],
             [
              0.1111111111111111,
              "#46039f"
             ],
             [
              0.2222222222222222,
              "#7201a8"
             ],
             [
              0.3333333333333333,
              "#9c179e"
             ],
             [
              0.4444444444444444,
              "#bd3786"
             ],
             [
              0.5555555555555556,
              "#d8576b"
             ],
             [
              0.6666666666666666,
              "#ed7953"
             ],
             [
              0.7777777777777778,
              "#fb9f3a"
             ],
             [
              0.8888888888888888,
              "#fdca26"
             ],
             [
              1,
              "#f0f921"
             ]
            ],
            "type": "surface"
           }
          ],
          "table": [
           {
            "cells": {
             "fill": {
              "color": "#EBF0F8"
             },
             "line": {
              "color": "white"
             }
            },
            "header": {
             "fill": {
              "color": "#C8D4E3"
             },
             "line": {
              "color": "white"
             }
            },
            "type": "table"
           }
          ]
         },
         "layout": {
          "annotationdefaults": {
           "arrowcolor": "#2a3f5f",
           "arrowhead": 0,
           "arrowwidth": 1
          },
          "autotypenumbers": "strict",
          "coloraxis": {
           "colorbar": {
            "outlinewidth": 0,
            "ticks": ""
           }
          },
          "colorscale": {
           "diverging": [
            [
             0,
             "#8e0152"
            ],
            [
             0.1,
             "#c51b7d"
            ],
            [
             0.2,
             "#de77ae"
            ],
            [
             0.3,
             "#f1b6da"
            ],
            [
             0.4,
             "#fde0ef"
            ],
            [
             0.5,
             "#f7f7f7"
            ],
            [
             0.6,
             "#e6f5d0"
            ],
            [
             0.7,
             "#b8e186"
            ],
            [
             0.8,
             "#7fbc41"
            ],
            [
             0.9,
             "#4d9221"
            ],
            [
             1,
             "#276419"
            ]
           ],
           "sequential": [
            [
             0,
             "#0d0887"
            ],
            [
             0.1111111111111111,
             "#46039f"
            ],
            [
             0.2222222222222222,
             "#7201a8"
            ],
            [
             0.3333333333333333,
             "#9c179e"
            ],
            [
             0.4444444444444444,
             "#bd3786"
            ],
            [
             0.5555555555555556,
             "#d8576b"
            ],
            [
             0.6666666666666666,
             "#ed7953"
            ],
            [
             0.7777777777777778,
             "#fb9f3a"
            ],
            [
             0.8888888888888888,
             "#fdca26"
            ],
            [
             1,
             "#f0f921"
            ]
           ],
           "sequentialminus": [
            [
             0,
             "#0d0887"
            ],
            [
             0.1111111111111111,
             "#46039f"
            ],
            [
             0.2222222222222222,
             "#7201a8"
            ],
            [
             0.3333333333333333,
             "#9c179e"
            ],
            [
             0.4444444444444444,
             "#bd3786"
            ],
            [
             0.5555555555555556,
             "#d8576b"
            ],
            [
             0.6666666666666666,
             "#ed7953"
            ],
            [
             0.7777777777777778,
             "#fb9f3a"
            ],
            [
             0.8888888888888888,
             "#fdca26"
            ],
            [
             1,
             "#f0f921"
            ]
           ]
          },
          "colorway": [
           "#636efa",
           "#EF553B",
           "#00cc96",
           "#ab63fa",
           "#FFA15A",
           "#19d3f3",
           "#FF6692",
           "#B6E880",
           "#FF97FF",
           "#FECB52"
          ],
          "font": {
           "color": "#2a3f5f"
          },
          "geo": {
           "bgcolor": "white",
           "lakecolor": "white",
           "landcolor": "#E5ECF6",
           "showlakes": true,
           "showland": true,
           "subunitcolor": "white"
          },
          "hoverlabel": {
           "align": "left"
          },
          "hovermode": "closest",
          "mapbox": {
           "style": "light"
          },
          "paper_bgcolor": "white",
          "plot_bgcolor": "#E5ECF6",
          "polar": {
           "angularaxis": {
            "gridcolor": "white",
            "linecolor": "white",
            "ticks": ""
           },
           "bgcolor": "#E5ECF6",
           "radialaxis": {
            "gridcolor": "white",
            "linecolor": "white",
            "ticks": ""
           }
          },
          "scene": {
           "xaxis": {
            "backgroundcolor": "#E5ECF6",
            "gridcolor": "white",
            "gridwidth": 2,
            "linecolor": "white",
            "showbackground": true,
            "ticks": "",
            "zerolinecolor": "white"
           },
           "yaxis": {
            "backgroundcolor": "#E5ECF6",
            "gridcolor": "white",
            "gridwidth": 2,
            "linecolor": "white",
            "showbackground": true,
            "ticks": "",
            "zerolinecolor": "white"
           },
           "zaxis": {
            "backgroundcolor": "#E5ECF6",
            "gridcolor": "white",
            "gridwidth": 2,
            "linecolor": "white",
            "showbackground": true,
            "ticks": "",
            "zerolinecolor": "white"
           }
          },
          "shapedefaults": {
           "line": {
            "color": "#2a3f5f"
           }
          },
          "ternary": {
           "aaxis": {
            "gridcolor": "white",
            "linecolor": "white",
            "ticks": ""
           },
           "baxis": {
            "gridcolor": "white",
            "linecolor": "white",
            "ticks": ""
           },
           "bgcolor": "#E5ECF6",
           "caxis": {
            "gridcolor": "white",
            "linecolor": "white",
            "ticks": ""
           }
          },
          "title": {
           "x": 0.05
          },
          "xaxis": {
           "automargin": true,
           "gridcolor": "white",
           "linecolor": "white",
           "ticks": "",
           "title": {
            "standoff": 15
           },
           "zerolinecolor": "white",
           "zerolinewidth": 2
          },
          "yaxis": {
           "automargin": true,
           "gridcolor": "white",
           "linecolor": "white",
           "ticks": "",
           "title": {
            "standoff": 15
           },
           "zerolinecolor": "white",
           "zerolinewidth": 2
          }
         }
        },
        "title": {
         "font": {
          "size": 20
         },
         "pad": {
          "r": 10,
          "t": 10
         },
         "text": "Top 30 words describing<br>machine learning qualifications",
         "x": 0.5,
         "xanchor": "center",
         "y": 0.96,
         "yanchor": "top"
        },
        "treemapcolorway": [
         "#3B5873",
         "#A3BCD6",
         "#343E29",
         "#82827C",
         "#C7D3AB",
         "#758373",
         "#1F3053"
        ],
        "width": 600
       }
      },
      "text/html": [
       "<div>                            <div id=\"8d81e7f2-90f6-4c30-8db0-f9e718088af1\" class=\"plotly-graph-div\" style=\"height:600px; width:600px;\"></div>            <script type=\"text/javascript\">                require([\"plotly\"], function(Plotly) {                    window.PLOTLYENV=window.PLOTLYENV || {};                                    if (document.getElementById(\"8d81e7f2-90f6-4c30-8db0-f9e718088af1\")) {                    Plotly.newPlot(                        \"8d81e7f2-90f6-4c30-8db0-f9e718088af1\",                        [{\"branchvalues\":\"total\",\"customdata\":[[63,\"python\"],[34,\"tensorflow\"],[35,\"development\"],[105,\"data\"],[46,\"knowledge\"],[188,\"learning\"],[32,\"technical\"],[52,\"software\"],[42,\"field\"],[43,\"ability\"],[32,\"pytorch\"],[36,\"models\"],[34,\"bachelors\"],[77,\"computer\"],[47,\"ml\"],[82,\"skills\"],[73,\"strong\"],[323,\"experience\"],[39,\"working\"],[35,\"programming\"],[36,\"eg\"],[55,\"degree\"],[120,\"machine\"],[59,\"engineering\"],[101,\"years\"],[40,\"using\"],[45,\"related\"],[33,\"work\"],[75,\"science\"],[58,\"deep\"],[2040,\"(?)\"]],\"domain\":{\"x\":[0.0,1.0],\"y\":[0.0,1.0]},\"hovertemplate\":\"<b>%{label}</b><br>Frequency:%{customdata[0]:.0f}\",\"ids\":[\"machine_learning/python\",\"machine_learning/tensorflow\",\"machine_learning/development\",\"machine_learning/data\",\"machine_learning/knowledge\",\"machine_learning/learning\",\"machine_learning/technical\",\"machine_learning/software\",\"machine_learning/field\",\"machine_learning/ability\",\"machine_learning/pytorch\",\"machine_learning/models\",\"machine_learning/bachelors\",\"machine_learning/computer\",\"machine_learning/ml\",\"machine_learning/skills\",\"machine_learning/strong\",\"machine_learning/experience\",\"machine_learning/working\",\"machine_learning/programming\",\"machine_learning/eg\",\"machine_learning/degree\",\"machine_learning/machine\",\"machine_learning/engineering\",\"machine_learning/years\",\"machine_learning/using\",\"machine_learning/related\",\"machine_learning/work\",\"machine_learning/science\",\"machine_learning/deep\",\"machine_learning\"],\"labels\":[\"python\",\"tensorflow\",\"development\",\"data\",\"knowledge\",\"learning\",\"technical\",\"software\",\"field\",\"ability\",\"pytorch\",\"models\",\"bachelors\",\"computer\",\"ml\",\"skills\",\"strong\",\"experience\",\"working\",\"programming\",\"eg\",\"degree\",\"machine\",\"engineering\",\"years\",\"using\",\"related\",\"work\",\"science\",\"deep\",\"machine_learning\"],\"marker\":{\"colors\":[\"#3B5873\",\"#A3BCD6\",\"#343E29\",\"#82827C\",\"#C7D3AB\",\"#758373\",\"#1F3053\",\"#3B5873\",\"#A3BCD6\",\"#343E29\",\"#82827C\",\"#C7D3AB\",\"#758373\",\"#1F3053\",\"#3B5873\",\"#A3BCD6\",\"#343E29\",\"#82827C\",\"#C7D3AB\",\"#758373\",\"#1F3053\",\"#3B5873\",\"#A3BCD6\",\"#343E29\",\"#82827C\",\"#C7D3AB\",\"#758373\",\"#1F3053\",\"#3B5873\",\"#A3BCD6\",\"#343E29\"],\"line\":{\"width\":0}},\"name\":\"\",\"parents\":[\"machine_learning\",\"machine_learning\",\"machine_learning\",\"machine_learning\",\"machine_learning\",\"machine_learning\",\"machine_learning\",\"machine_learning\",\"machine_learning\",\"machine_learning\",\"machine_learning\",\"machine_learning\",\"machine_learning\",\"machine_learning\",\"machine_learning\",\"machine_learning\",\"machine_learning\",\"machine_learning\",\"machine_learning\",\"machine_learning\",\"machine_learning\",\"machine_learning\",\"machine_learning\",\"machine_learning\",\"machine_learning\",\"machine_learning\",\"machine_learning\",\"machine_learning\",\"machine_learning\",\"machine_learning\",\"\"],\"values\":[63,34,35,105,46,188,32,52,42,43,32,36,34,77,47,82,73,323,39,35,36,55,120,59,101,40,45,33,75,58,2040],\"type\":\"treemap\",\"textfont\":{\"color\":\"white\"}}],                        {\"template\":{\"data\":{\"histogram2dcontour\":[{\"type\":\"histogram2dcontour\",\"colorbar\":{\"outlinewidth\":0,\"ticks\":\"\"},\"colorscale\":[[0.0,\"#0d0887\"],[0.1111111111111111,\"#46039f\"],[0.2222222222222222,\"#7201a8\"],[0.3333333333333333,\"#9c179e\"],[0.4444444444444444,\"#bd3786\"],[0.5555555555555556,\"#d8576b\"],[0.6666666666666666,\"#ed7953\"],[0.7777777777777778,\"#fb9f3a\"],[0.8888888888888888,\"#fdca26\"],[1.0,\"#f0f921\"]]}],\"choropleth\":[{\"type\":\"choropleth\",\"colorbar\":{\"outlinewidth\":0,\"ticks\":\"\"}}],\"histogram2d\":[{\"type\":\"histogram2d\",\"colorbar\":{\"outlinewidth\":0,\"ticks\":\"\"},\"colorscale\":[[0.0,\"#0d0887\"],[0.1111111111111111,\"#46039f\"],[0.2222222222222222,\"#7201a8\"],[0.3333333333333333,\"#9c179e\"],[0.4444444444444444,\"#bd3786\"],[0.5555555555555556,\"#d8576b\"],[0.6666666666666666,\"#ed7953\"],[0.7777777777777778,\"#fb9f3a\"],[0.8888888888888888,\"#fdca26\"],[1.0,\"#f0f921\"]]}],\"heatmap\":[{\"type\":\"heatmap\",\"colorbar\":{\"outlinewidth\":0,\"ticks\":\"\"},\"colorscale\":[[0.0,\"#0d0887\"],[0.1111111111111111,\"#46039f\"],[0.2222222222222222,\"#7201a8\"],[0.3333333333333333,\"#9c179e\"],[0.4444444444444444,\"#bd3786\"],[0.5555555555555556,\"#d8576b\"],[0.6666666666666666,\"#ed7953\"],[0.7777777777777778,\"#fb9f3a\"],[0.8888888888888888,\"#fdca26\"],[1.0,\"#f0f921\"]]}],\"heatmapgl\":[{\"type\":\"heatmapgl\",\"colorbar\":{\"outlinewidth\":0,\"ticks\":\"\"},\"colorscale\":[[0.0,\"#0d0887\"],[0.1111111111111111,\"#46039f\"],[0.2222222222222222,\"#7201a8\"],[0.3333333333333333,\"#9c179e\"],[0.4444444444444444,\"#bd3786\"],[0.5555555555555556,\"#d8576b\"],[0.6666666666666666,\"#ed7953\"],[0.7777777777777778,\"#fb9f3a\"],[0.8888888888888888,\"#fdca26\"],[1.0,\"#f0f921\"]]}],\"contourcarpet\":[{\"type\":\"contourcarpet\",\"colorbar\":{\"outlinewidth\":0,\"ticks\":\"\"}}],\"contour\":[{\"type\":\"contour\",\"colorbar\":{\"outlinewidth\":0,\"ticks\":\"\"},\"colorscale\":[[0.0,\"#0d0887\"],[0.1111111111111111,\"#46039f\"],[0.2222222222222222,\"#7201a8\"],[0.3333333333333333,\"#9c179e\"],[0.4444444444444444,\"#bd3786\"],[0.5555555555555556,\"#d8576b\"],[0.6666666666666666,\"#ed7953\"],[0.7777777777777778,\"#fb9f3a\"],[0.8888888888888888,\"#fdca26\"],[1.0,\"#f0f921\"]]}],\"surface\":[{\"type\":\"surface\",\"colorbar\":{\"outlinewidth\":0,\"ticks\":\"\"},\"colorscale\":[[0.0,\"#0d0887\"],[0.1111111111111111,\"#46039f\"],[0.2222222222222222,\"#7201a8\"],[0.3333333333333333,\"#9c179e\"],[0.4444444444444444,\"#bd3786\"],[0.5555555555555556,\"#d8576b\"],[0.6666666666666666,\"#ed7953\"],[0.7777777777777778,\"#fb9f3a\"],[0.8888888888888888,\"#fdca26\"],[1.0,\"#f0f921\"]]}],\"mesh3d\":[{\"type\":\"mesh3d\",\"colorbar\":{\"outlinewidth\":0,\"ticks\":\"\"}}],\"scatter\":[{\"fillpattern\":{\"fillmode\":\"overlay\",\"size\":10,\"solidity\":0.2},\"type\":\"scatter\"}],\"parcoords\":[{\"type\":\"parcoords\",\"line\":{\"colorbar\":{\"outlinewidth\":0,\"ticks\":\"\"}}}],\"scatterpolargl\":[{\"type\":\"scatterpolargl\",\"marker\":{\"colorbar\":{\"outlinewidth\":0,\"ticks\":\"\"}}}],\"bar\":[{\"error_x\":{\"color\":\"#2a3f5f\"},\"error_y\":{\"color\":\"#2a3f5f\"},\"marker\":{\"line\":{\"color\":\"#E5ECF6\",\"width\":0.5},\"pattern\":{\"fillmode\":\"overlay\",\"size\":10,\"solidity\":0.2}},\"type\":\"bar\"}],\"scattergeo\":[{\"type\":\"scattergeo\",\"marker\":{\"colorbar\":{\"outlinewidth\":0,\"ticks\":\"\"}}}],\"scatterpolar\":[{\"type\":\"scatterpolar\",\"marker\":{\"colorbar\":{\"outlinewidth\":0,\"ticks\":\"\"}}}],\"histogram\":[{\"marker\":{\"pattern\":{\"fillmode\":\"overlay\",\"size\":10,\"solidity\":0.2}},\"type\":\"histogram\"}],\"scattergl\":[{\"type\":\"scattergl\",\"marker\":{\"colorbar\":{\"outlinewidth\":0,\"ticks\":\"\"}}}],\"scatter3d\":[{\"type\":\"scatter3d\",\"line\":{\"colorbar\":{\"outlinewidth\":0,\"ticks\":\"\"}},\"marker\":{\"colorbar\":{\"outlinewidth\":0,\"ticks\":\"\"}}}],\"scattermapbox\":[{\"type\":\"scattermapbox\",\"marker\":{\"colorbar\":{\"outlinewidth\":0,\"ticks\":\"\"}}}],\"scatterternary\":[{\"type\":\"scatterternary\",\"marker\":{\"colorbar\":{\"outlinewidth\":0,\"ticks\":\"\"}}}],\"scattercarpet\":[{\"type\":\"scattercarpet\",\"marker\":{\"colorbar\":{\"outlinewidth\":0,\"ticks\":\"\"}}}],\"carpet\":[{\"aaxis\":{\"endlinecolor\":\"#2a3f5f\",\"gridcolor\":\"white\",\"linecolor\":\"white\",\"minorgridcolor\":\"white\",\"startlinecolor\":\"#2a3f5f\"},\"baxis\":{\"endlinecolor\":\"#2a3f5f\",\"gridcolor\":\"white\",\"linecolor\":\"white\",\"minorgridcolor\":\"white\",\"startlinecolor\":\"#2a3f5f\"},\"type\":\"carpet\"}],\"table\":[{\"cells\":{\"fill\":{\"color\":\"#EBF0F8\"},\"line\":{\"color\":\"white\"}},\"header\":{\"fill\":{\"color\":\"#C8D4E3\"},\"line\":{\"color\":\"white\"}},\"type\":\"table\"}],\"barpolar\":[{\"marker\":{\"line\":{\"color\":\"#E5ECF6\",\"width\":0.5},\"pattern\":{\"fillmode\":\"overlay\",\"size\":10,\"solidity\":0.2}},\"type\":\"barpolar\"}],\"pie\":[{\"automargin\":true,\"type\":\"pie\"}]},\"layout\":{\"autotypenumbers\":\"strict\",\"colorway\":[\"#636efa\",\"#EF553B\",\"#00cc96\",\"#ab63fa\",\"#FFA15A\",\"#19d3f3\",\"#FF6692\",\"#B6E880\",\"#FF97FF\",\"#FECB52\"],\"font\":{\"color\":\"#2a3f5f\"},\"hovermode\":\"closest\",\"hoverlabel\":{\"align\":\"left\"},\"paper_bgcolor\":\"white\",\"plot_bgcolor\":\"#E5ECF6\",\"polar\":{\"bgcolor\":\"#E5ECF6\",\"angularaxis\":{\"gridcolor\":\"white\",\"linecolor\":\"white\",\"ticks\":\"\"},\"radialaxis\":{\"gridcolor\":\"white\",\"linecolor\":\"white\",\"ticks\":\"\"}},\"ternary\":{\"bgcolor\":\"#E5ECF6\",\"aaxis\":{\"gridcolor\":\"white\",\"linecolor\":\"white\",\"ticks\":\"\"},\"baxis\":{\"gridcolor\":\"white\",\"linecolor\":\"white\",\"ticks\":\"\"},\"caxis\":{\"gridcolor\":\"white\",\"linecolor\":\"white\",\"ticks\":\"\"}},\"coloraxis\":{\"colorbar\":{\"outlinewidth\":0,\"ticks\":\"\"}},\"colorscale\":{\"sequential\":[[0.0,\"#0d0887\"],[0.1111111111111111,\"#46039f\"],[0.2222222222222222,\"#7201a8\"],[0.3333333333333333,\"#9c179e\"],[0.4444444444444444,\"#bd3786\"],[0.5555555555555556,\"#d8576b\"],[0.6666666666666666,\"#ed7953\"],[0.7777777777777778,\"#fb9f3a\"],[0.8888888888888888,\"#fdca26\"],[1.0,\"#f0f921\"]],\"sequentialminus\":[[0.0,\"#0d0887\"],[0.1111111111111111,\"#46039f\"],[0.2222222222222222,\"#7201a8\"],[0.3333333333333333,\"#9c179e\"],[0.4444444444444444,\"#bd3786\"],[0.5555555555555556,\"#d8576b\"],[0.6666666666666666,\"#ed7953\"],[0.7777777777777778,\"#fb9f3a\"],[0.8888888888888888,\"#fdca26\"],[1.0,\"#f0f921\"]],\"diverging\":[[0,\"#8e0152\"],[0.1,\"#c51b7d\"],[0.2,\"#de77ae\"],[0.3,\"#f1b6da\"],[0.4,\"#fde0ef\"],[0.5,\"#f7f7f7\"],[0.6,\"#e6f5d0\"],[0.7,\"#b8e186\"],[0.8,\"#7fbc41\"],[0.9,\"#4d9221\"],[1,\"#276419\"]]},\"xaxis\":{\"gridcolor\":\"white\",\"linecolor\":\"white\",\"ticks\":\"\",\"title\":{\"standoff\":15},\"zerolinecolor\":\"white\",\"automargin\":true,\"zerolinewidth\":2},\"yaxis\":{\"gridcolor\":\"white\",\"linecolor\":\"white\",\"ticks\":\"\",\"title\":{\"standoff\":15},\"zerolinecolor\":\"white\",\"automargin\":true,\"zerolinewidth\":2},\"scene\":{\"xaxis\":{\"backgroundcolor\":\"#E5ECF6\",\"gridcolor\":\"white\",\"linecolor\":\"white\",\"showbackground\":true,\"ticks\":\"\",\"zerolinecolor\":\"white\",\"gridwidth\":2},\"yaxis\":{\"backgroundcolor\":\"#E5ECF6\",\"gridcolor\":\"white\",\"linecolor\":\"white\",\"showbackground\":true,\"ticks\":\"\",\"zerolinecolor\":\"white\",\"gridwidth\":2},\"zaxis\":{\"backgroundcolor\":\"#E5ECF6\",\"gridcolor\":\"white\",\"linecolor\":\"white\",\"showbackground\":true,\"ticks\":\"\",\"zerolinecolor\":\"white\",\"gridwidth\":2}},\"shapedefaults\":{\"line\":{\"color\":\"#2a3f5f\"}},\"annotationdefaults\":{\"arrowcolor\":\"#2a3f5f\",\"arrowhead\":0,\"arrowwidth\":1},\"geo\":{\"bgcolor\":\"white\",\"landcolor\":\"#E5ECF6\",\"subunitcolor\":\"white\",\"showland\":true,\"showlakes\":true,\"lakecolor\":\"white\"},\"title\":{\"x\":0.05},\"mapbox\":{\"style\":\"light\"}}},\"legend\":{\"tracegroupgap\":0},\"margin\":{\"t\":85,\"l\":25,\"r\":25,\"b\":25},\"treemapcolorway\":[\"#3B5873\",\"#A3BCD6\",\"#343E29\",\"#82827C\",\"#C7D3AB\",\"#758373\",\"#1F3053\"],\"title\":{\"font\":{\"size\":20},\"text\":\"Top 30 words describing<br>machine learning qualifications\",\"pad\":{\"r\":10,\"t\":10},\"x\":0.5,\"y\":0.96,\"xanchor\":\"center\",\"yanchor\":\"top\"},\"font\":{\"size\":16,\"color\":\"white\"},\"width\":600,\"height\":600,\"plot_bgcolor\":\"#272b2e\",\"paper_bgcolor\":\"#272b2e\"},                        {\"responsive\": true}                    ).then(function(){\n",
       "                            \n",
       "var gd = document.getElementById('8d81e7f2-90f6-4c30-8db0-f9e718088af1');\n",
       "var x = new MutationObserver(function (mutations, observer) {{\n",
       "        var display = window.getComputedStyle(gd).display;\n",
       "        if (!display || display === 'none') {{\n",
       "            console.log([gd, 'removed!']);\n",
       "            Plotly.purge(gd);\n",
       "            observer.disconnect();\n",
       "        }}\n",
       "}});\n",
       "\n",
       "// Listen for the removal of the full notebook cells\n",
       "var notebookContainer = gd.closest('#notebook-container');\n",
       "if (notebookContainer) {{\n",
       "    x.observe(notebookContainer, {childList: true});\n",
       "}}\n",
       "\n",
       "// Listen for the clearing of the current output cell\n",
       "var outputEl = gd.closest('.output');\n",
       "if (outputEl) {{\n",
       "    x.observe(outputEl, {childList: true});\n",
       "}}\n",
       "\n",
       "                        })                };                });            </script>        </div>"
      ]
     },
     "metadata": {},
     "output_type": "display_data"
    }
   ],
   "source": [
    "df_word_count_qual_da = df_word_count_qual[df_word_count_qual['job_type']=='data_analysis']\n",
    "df_word_count_qual_ds = df_word_count_qual[df_word_count_qual['job_type']=='data_science']\n",
    "df_word_count_qual_ml = df_word_count_qual[df_word_count_qual['job_type']=='machine_learning']\n",
    "\n",
    "# Define a custom color scale\n",
    "custom_colors = ['#3B5873', '#A3BCD6', '#343E29', '#82827C', '#C7D3AB','#758373','#1F3053']\n",
    "\n",
    "# create the treemap figure with custom hover text and color scale\n",
    "fig = px.treemap(df_word_count_qual_ml, path=['job_type', 'word'], values='frequency', color='word',\n",
    "                 color_discrete_sequence=custom_colors,\n",
    "                 hover_data={'frequency': ':f'},\n",
    "                 )\n",
    "\n",
    "# remove the treemap borders\n",
    "fig.update_traces(\n",
    "    go.Treemap(\n",
    "        marker=dict(line=dict(width=0))\n",
    "    )\n",
    ")\n",
    "fig.update_traces(textfont=dict(color='white'))\n",
    "fig.update_traces(hovertemplate='<b>%{label}</b><br>Frequency:%{customdata[0]:.0f}')\n",
    "\n",
    "# customize the font and size of the title and labels\n",
    "fig.update_layout(title={'text': \"Top 30 words describing<br>machine learning qualifications\", 'font': {'size': 24}},\n",
    "                  font={'size': 18})\n",
    "\n",
    "# customize the margins\n",
    "fig.update_layout(\n",
    "    title={\n",
    "        'x': 0.50,\n",
    "        'y': 0.96,\n",
    "        'xanchor': 'center',\n",
    "        'yanchor': 'top',\n",
    "        'pad': {'r': 10, 't': 10,},\n",
    "        'font': {'size': 20}\n",
    "    },\n",
    "    width=600,\n",
    "    height=600,\n",
    "    margin=dict(t=85, l=25, r=25, b=25),\n",
    "    plot_bgcolor = \"#272b2e\",\n",
    "    paper_bgcolor = \"#272b2e\",\n",
    "    font=dict(size = 16, color = 'white')\n",
    ") \n",
    "\n",
    "\n",
    "# show the figure\n",
    "fig.show()\n",
    "fig.write_html('../images/tree_map3.html')\n"
   ]
  },
  {
   "cell_type": "code",
   "execution_count": 52,
   "metadata": {},
   "outputs": [
    {
     "ename": "NameError",
     "evalue": "name 'df_word_count_qual_da' is not defined",
     "output_type": "error",
     "traceback": [
      "\u001b[0;31m---------------------------------------------------------------------------\u001b[0m",
      "\u001b[0;31mNameError\u001b[0m                                 Traceback (most recent call last)",
      "Cell \u001b[0;32mIn[52], line 9\u001b[0m\n\u001b[1;32m      6\u001b[0m custom_colors \u001b[38;5;241m=\u001b[39m [\u001b[38;5;124m'\u001b[39m\u001b[38;5;124m#1a1a1a\u001b[39m\u001b[38;5;124m'\u001b[39m, \u001b[38;5;124m'\u001b[39m\u001b[38;5;124m#333333\u001b[39m\u001b[38;5;124m'\u001b[39m, \u001b[38;5;124m'\u001b[39m\u001b[38;5;124m#4d4d4d\u001b[39m\u001b[38;5;124m'\u001b[39m, \u001b[38;5;124m'\u001b[39m\u001b[38;5;124m#666666\u001b[39m\u001b[38;5;124m'\u001b[39m, \u001b[38;5;124m'\u001b[39m\u001b[38;5;124m#7f7f7f\u001b[39m\u001b[38;5;124m'\u001b[39m, \u001b[38;5;124m'\u001b[39m\u001b[38;5;124m#999999\u001b[39m\u001b[38;5;124m'\u001b[39m, \u001b[38;5;124m'\u001b[39m\u001b[38;5;124m#b3b3b3\u001b[39m\u001b[38;5;124m'\u001b[39m, \u001b[38;5;124m'\u001b[39m\u001b[38;5;124m#cccccc\u001b[39m\u001b[38;5;124m'\u001b[39m]\n\u001b[1;32m      8\u001b[0m \u001b[38;5;66;03m# create the treemap figure with custom hover text and color scale\u001b[39;00m\n\u001b[0;32m----> 9\u001b[0m fig \u001b[38;5;241m=\u001b[39m px\u001b[38;5;241m.\u001b[39mtreemap(\u001b[43mdf_word_count_qual_da\u001b[49m, path\u001b[38;5;241m=\u001b[39m[\u001b[38;5;124m'\u001b[39m\u001b[38;5;124mjob_type\u001b[39m\u001b[38;5;124m'\u001b[39m, \u001b[38;5;124m'\u001b[39m\u001b[38;5;124mword\u001b[39m\u001b[38;5;124m'\u001b[39m], values\u001b[38;5;241m=\u001b[39m\u001b[38;5;124m'\u001b[39m\u001b[38;5;124mfrequency\u001b[39m\u001b[38;5;124m'\u001b[39m, color\u001b[38;5;241m=\u001b[39m\u001b[38;5;124m'\u001b[39m\u001b[38;5;124mword\u001b[39m\u001b[38;5;124m'\u001b[39m,\n\u001b[1;32m     10\u001b[0m                  color_continuous_scale\u001b[38;5;241m=\u001b[39mcustom_colors,\n\u001b[1;32m     11\u001b[0m                  hover_data\u001b[38;5;241m=\u001b[39m{\u001b[38;5;124m'\u001b[39m\u001b[38;5;124mfrequency\u001b[39m\u001b[38;5;124m'\u001b[39m: \u001b[38;5;124m'\u001b[39m\u001b[38;5;124m:.2f\u001b[39m\u001b[38;5;124m'\u001b[39m},\n\u001b[1;32m     12\u001b[0m                  hover_name\u001b[38;5;241m=\u001b[39m\u001b[38;5;124m'\u001b[39m\u001b[38;5;124mword\u001b[39m\u001b[38;5;124m'\u001b[39m, \u001b[38;5;66;03m#textinfo='label+value')\u001b[39;00m\n\u001b[1;32m     13\u001b[0m )\n\u001b[1;32m     16\u001b[0m \u001b[38;5;66;03m# customize the font and size of the title and labels\u001b[39;00m\n\u001b[1;32m     17\u001b[0m fig\u001b[38;5;241m.\u001b[39mupdate_layout(title\u001b[38;5;241m=\u001b[39m{\u001b[38;5;124m'\u001b[39m\u001b[38;5;124mtext\u001b[39m\u001b[38;5;124m'\u001b[39m: \u001b[38;5;124m\"\u001b[39m\u001b[38;5;124mWord Frequencies by Job Type\u001b[39m\u001b[38;5;124m\"\u001b[39m, \u001b[38;5;124m'\u001b[39m\u001b[38;5;124mfont\u001b[39m\u001b[38;5;124m'\u001b[39m: {\u001b[38;5;124m'\u001b[39m\u001b[38;5;124msize\u001b[39m\u001b[38;5;124m'\u001b[39m: \u001b[38;5;241m24\u001b[39m}},\n\u001b[1;32m     18\u001b[0m                   font\u001b[38;5;241m=\u001b[39m{\u001b[38;5;124m'\u001b[39m\u001b[38;5;124msize\u001b[39m\u001b[38;5;124m'\u001b[39m: \u001b[38;5;241m18\u001b[39m})\n",
      "\u001b[0;31mNameError\u001b[0m: name 'df_word_count_qual_da' is not defined"
     ]
    }
   ],
   "source": [
    "# treemap of qual or resp for job types \n",
    "import plotly.express as px\n",
    "import numpy as np\n",
    "\n",
    "# # Define a custom color scale\n",
    "# custom_colors = ['#1a1a1a', '#333333', '#4d4d4d', '#666666', '#7f7f7f', '#999999', '#b3b3b3', '#cccccc']\n",
    "\n",
    "# # create the treemap figure with custom hover text and color scale\n",
    "# fig = px.treemap(df_word_count_qual, path=['job_type', 'word'], values='frequency', color='word',\n",
    "#                  color_continuous_scale=custom_colors,\n",
    "#                  hover_data={'frequency': ':.2f'},\n",
    "#                  hover_name='word', #textinfo='label+value')\n",
    "# )\n",
    "\n",
    "# define custom colors for each category\n",
    "color_map = {'Category A': '#FF5733', 'Category B': '#FFC300', 'Category C': '#DAF7A6'}\n",
    "\n",
    "# create the treemap figure with custom hover text and color scale\n",
    "fig = px.treemap(df_word_count_qual, path=['job_type', 'word'], values='frequency', color='word',\n",
    "                 color_discrete_map=color_map,\n",
    "                 hover_data={'frequency': ':.2f'},\n",
    "                 hover_name='word',\n",
    "                 ) \n",
    "\n",
    "\n",
    "# customize the font and size of the title and labels\n",
    "fig.update_layout(title={'text': \"Word Frequencies by Job Type\", 'font': {'size': 24}},\n",
    "                  font={'size': 18})\n",
    "\n",
    "\n",
    "# customize the margins and background color\n",
    "fig.update_layout(margin=dict(t=50, l=25, r=25, b=25))\n",
    "# show the figure\n",
    "fig.show()\n",
    "fig.write_html('../images/tree_map.html')\n"
   ]
  },
  {
   "cell_type": "code",
   "execution_count": 32,
   "metadata": {},
   "outputs": [
    {
     "data": {
      "application/vnd.plotly.v1+json": {
       "config": {
        "plotlyServerURL": "https://plot.ly"
       },
       "data": [
        {
         "domain": {
          "x": [
           0,
           1
          ],
          "y": [
           0.7333333333333333,
           1
          ]
         },
         "hole": 0.6,
         "hovertemplate": "percent=%{percent:.0%}<br>frequency=%{value}",
         "insidetextorientation": "auto",
         "labels": [
          "data",
          "business",
          "support",
          "reporting",
          "team",
          "analysis",
          "reports",
          "work",
          "management",
          "develop",
          "ensure",
          "insights",
          "analyst",
          "issues",
          "analytics",
          "internal",
          "information",
          "identify",
          "perform",
          "teams"
         ],
         "marker": {
          "colors": [
           "#083c7d",
           "#084990",
           "#0b559f",
           "#1561a9",
           "#1e6db2",
           "#2b7bba",
           "#3787c0",
           "#4493c7",
           "#539ecd",
           "#63a8d3",
           "#75b4d8",
           "#89bedc",
           "#9cc9e1",
           "#abd0e6",
           "#bad6eb",
           "#c9ddf0",
           "#d2e3f3",
           "#dbe9f6",
           "#e4eff9",
           "#eef5fc"
          ]
         },
         "showlegend": false,
         "textposition": "outside",
         "texttemplate": "%{label}",
         "title": {
          "text": "Data Analysis"
         },
         "type": "pie",
         "values": [
          510,
          134,
          108,
          98,
          92,
          92,
          86,
          82,
          68,
          66,
          60,
          60,
          54,
          54,
          52,
          52,
          50,
          50,
          50,
          50
         ]
        },
        {
         "domain": {
          "x": [
           0,
           1
          ],
          "y": [
           0.36666666666666664,
           0.6333333333333333
          ]
         },
         "hole": 0.6,
         "hovertemplate": "percent=%{percent:.0%}<br>frequency=%{value}",
         "labels": [
          "data",
          "business",
          "analysis",
          "develop",
          "team",
          "development",
          "work",
          "support",
          "analytics",
          "models",
          "learning",
          "solutions",
          "machine",
          "science",
          "techniques",
          "statistical",
          "provide",
          "tools",
          "new",
          "algorithms"
         ],
         "marker": {
          "colors": [
           "#083c7d",
           "#084990",
           "#0b559f",
           "#1561a9",
           "#1e6db2",
           "#2b7bba",
           "#3787c0",
           "#4493c7",
           "#539ecd",
           "#63a8d3",
           "#75b4d8",
           "#89bedc",
           "#9cc9e1",
           "#abd0e6",
           "#bad6eb",
           "#c9ddf0",
           "#d2e3f3",
           "#dbe9f6",
           "#e4eff9",
           "#eef5fc"
          ]
         },
         "showlegend": false,
         "textposition": "outside",
         "texttemplate": "%{label}",
         "title": {
          "text": "Data Science"
         },
         "type": "pie",
         "values": [
          482,
          140,
          110,
          89,
          84,
          79,
          77,
          75,
          73,
          73,
          71,
          66,
          64,
          63,
          61,
          57,
          55,
          53,
          52,
          49
         ]
        },
        {
         "domain": {
          "x": [
           0,
           1
          ],
          "y": [
           0,
           0.26666666666666666
          ]
         },
         "hole": 0.6,
         "hovertemplate": "percent=%{percent:.0%}<br>frequency=%{value}",
         "labels": [
          "learning",
          "data",
          "machine",
          "ml",
          "models",
          "team",
          "technical",
          "design",
          "develop",
          "engineering",
          "development",
          "model",
          "build",
          "software",
          "product",
          "work",
          "systems",
          "solutions",
          "across",
          "business"
         ],
         "marker": {
          "colors": [
           "#083c7d",
           "#084990",
           "#0b559f",
           "#1561a9",
           "#1e6db2",
           "#2b7bba",
           "#3787c0",
           "#4493c7",
           "#539ecd",
           "#63a8d3",
           "#75b4d8",
           "#89bedc",
           "#9cc9e1",
           "#abd0e6",
           "#bad6eb",
           "#c9ddf0",
           "#d2e3f3",
           "#dbe9f6",
           "#e4eff9",
           "#eef5fc"
          ]
         },
         "showlegend": false,
         "textposition": "outside",
         "texttemplate": "%{label}",
         "title": {
          "text": "Machine Learning"
         },
         "type": "pie",
         "values": [
          174,
          160,
          148,
          113,
          106,
          83,
          67,
          65,
          59,
          57,
          56,
          52,
          51,
          47,
          47,
          44,
          43,
          43,
          40,
          39
         ]
        }
       ],
       "layout": {
        "height": 1000,
        "margin": {
         "t": 130
        },
        "template": {
         "data": {
          "bar": [
           {
            "error_x": {
             "color": "#2a3f5f"
            },
            "error_y": {
             "color": "#2a3f5f"
            },
            "marker": {
             "line": {
              "color": "#E5ECF6",
              "width": 0.5
             },
             "pattern": {
              "fillmode": "overlay",
              "size": 10,
              "solidity": 0.2
             }
            },
            "type": "bar"
           }
          ],
          "barpolar": [
           {
            "marker": {
             "line": {
              "color": "#E5ECF6",
              "width": 0.5
             },
             "pattern": {
              "fillmode": "overlay",
              "size": 10,
              "solidity": 0.2
             }
            },
            "type": "barpolar"
           }
          ],
          "carpet": [
           {
            "aaxis": {
             "endlinecolor": "#2a3f5f",
             "gridcolor": "white",
             "linecolor": "white",
             "minorgridcolor": "white",
             "startlinecolor": "#2a3f5f"
            },
            "baxis": {
             "endlinecolor": "#2a3f5f",
             "gridcolor": "white",
             "linecolor": "white",
             "minorgridcolor": "white",
             "startlinecolor": "#2a3f5f"
            },
            "type": "carpet"
           }
          ],
          "choropleth": [
           {
            "colorbar": {
             "outlinewidth": 0,
             "ticks": ""
            },
            "type": "choropleth"
           }
          ],
          "contour": [
           {
            "colorbar": {
             "outlinewidth": 0,
             "ticks": ""
            },
            "colorscale": [
             [
              0,
              "#0d0887"
             ],
             [
              0.1111111111111111,
              "#46039f"
             ],
             [
              0.2222222222222222,
              "#7201a8"
             ],
             [
              0.3333333333333333,
              "#9c179e"
             ],
             [
              0.4444444444444444,
              "#bd3786"
             ],
             [
              0.5555555555555556,
              "#d8576b"
             ],
             [
              0.6666666666666666,
              "#ed7953"
             ],
             [
              0.7777777777777778,
              "#fb9f3a"
             ],
             [
              0.8888888888888888,
              "#fdca26"
             ],
             [
              1,
              "#f0f921"
             ]
            ],
            "type": "contour"
           }
          ],
          "contourcarpet": [
           {
            "colorbar": {
             "outlinewidth": 0,
             "ticks": ""
            },
            "type": "contourcarpet"
           }
          ],
          "heatmap": [
           {
            "colorbar": {
             "outlinewidth": 0,
             "ticks": ""
            },
            "colorscale": [
             [
              0,
              "#0d0887"
             ],
             [
              0.1111111111111111,
              "#46039f"
             ],
             [
              0.2222222222222222,
              "#7201a8"
             ],
             [
              0.3333333333333333,
              "#9c179e"
             ],
             [
              0.4444444444444444,
              "#bd3786"
             ],
             [
              0.5555555555555556,
              "#d8576b"
             ],
             [
              0.6666666666666666,
              "#ed7953"
             ],
             [
              0.7777777777777778,
              "#fb9f3a"
             ],
             [
              0.8888888888888888,
              "#fdca26"
             ],
             [
              1,
              "#f0f921"
             ]
            ],
            "type": "heatmap"
           }
          ],
          "heatmapgl": [
           {
            "colorbar": {
             "outlinewidth": 0,
             "ticks": ""
            },
            "colorscale": [
             [
              0,
              "#0d0887"
             ],
             [
              0.1111111111111111,
              "#46039f"
             ],
             [
              0.2222222222222222,
              "#7201a8"
             ],
             [
              0.3333333333333333,
              "#9c179e"
             ],
             [
              0.4444444444444444,
              "#bd3786"
             ],
             [
              0.5555555555555556,
              "#d8576b"
             ],
             [
              0.6666666666666666,
              "#ed7953"
             ],
             [
              0.7777777777777778,
              "#fb9f3a"
             ],
             [
              0.8888888888888888,
              "#fdca26"
             ],
             [
              1,
              "#f0f921"
             ]
            ],
            "type": "heatmapgl"
           }
          ],
          "histogram": [
           {
            "marker": {
             "pattern": {
              "fillmode": "overlay",
              "size": 10,
              "solidity": 0.2
             }
            },
            "type": "histogram"
           }
          ],
          "histogram2d": [
           {
            "colorbar": {
             "outlinewidth": 0,
             "ticks": ""
            },
            "colorscale": [
             [
              0,
              "#0d0887"
             ],
             [
              0.1111111111111111,
              "#46039f"
             ],
             [
              0.2222222222222222,
              "#7201a8"
             ],
             [
              0.3333333333333333,
              "#9c179e"
             ],
             [
              0.4444444444444444,
              "#bd3786"
             ],
             [
              0.5555555555555556,
              "#d8576b"
             ],
             [
              0.6666666666666666,
              "#ed7953"
             ],
             [
              0.7777777777777778,
              "#fb9f3a"
             ],
             [
              0.8888888888888888,
              "#fdca26"
             ],
             [
              1,
              "#f0f921"
             ]
            ],
            "type": "histogram2d"
           }
          ],
          "histogram2dcontour": [
           {
            "colorbar": {
             "outlinewidth": 0,
             "ticks": ""
            },
            "colorscale": [
             [
              0,
              "#0d0887"
             ],
             [
              0.1111111111111111,
              "#46039f"
             ],
             [
              0.2222222222222222,
              "#7201a8"
             ],
             [
              0.3333333333333333,
              "#9c179e"
             ],
             [
              0.4444444444444444,
              "#bd3786"
             ],
             [
              0.5555555555555556,
              "#d8576b"
             ],
             [
              0.6666666666666666,
              "#ed7953"
             ],
             [
              0.7777777777777778,
              "#fb9f3a"
             ],
             [
              0.8888888888888888,
              "#fdca26"
             ],
             [
              1,
              "#f0f921"
             ]
            ],
            "type": "histogram2dcontour"
           }
          ],
          "mesh3d": [
           {
            "colorbar": {
             "outlinewidth": 0,
             "ticks": ""
            },
            "type": "mesh3d"
           }
          ],
          "parcoords": [
           {
            "line": {
             "colorbar": {
              "outlinewidth": 0,
              "ticks": ""
             }
            },
            "type": "parcoords"
           }
          ],
          "pie": [
           {
            "automargin": true,
            "type": "pie"
           }
          ],
          "scatter": [
           {
            "fillpattern": {
             "fillmode": "overlay",
             "size": 10,
             "solidity": 0.2
            },
            "type": "scatter"
           }
          ],
          "scatter3d": [
           {
            "line": {
             "colorbar": {
              "outlinewidth": 0,
              "ticks": ""
             }
            },
            "marker": {
             "colorbar": {
              "outlinewidth": 0,
              "ticks": ""
             }
            },
            "type": "scatter3d"
           }
          ],
          "scattercarpet": [
           {
            "marker": {
             "colorbar": {
              "outlinewidth": 0,
              "ticks": ""
             }
            },
            "type": "scattercarpet"
           }
          ],
          "scattergeo": [
           {
            "marker": {
             "colorbar": {
              "outlinewidth": 0,
              "ticks": ""
             }
            },
            "type": "scattergeo"
           }
          ],
          "scattergl": [
           {
            "marker": {
             "colorbar": {
              "outlinewidth": 0,
              "ticks": ""
             }
            },
            "type": "scattergl"
           }
          ],
          "scattermapbox": [
           {
            "marker": {
             "colorbar": {
              "outlinewidth": 0,
              "ticks": ""
             }
            },
            "type": "scattermapbox"
           }
          ],
          "scatterpolar": [
           {
            "marker": {
             "colorbar": {
              "outlinewidth": 0,
              "ticks": ""
             }
            },
            "type": "scatterpolar"
           }
          ],
          "scatterpolargl": [
           {
            "marker": {
             "colorbar": {
              "outlinewidth": 0,
              "ticks": ""
             }
            },
            "type": "scatterpolargl"
           }
          ],
          "scatterternary": [
           {
            "marker": {
             "colorbar": {
              "outlinewidth": 0,
              "ticks": ""
             }
            },
            "type": "scatterternary"
           }
          ],
          "surface": [
           {
            "colorbar": {
             "outlinewidth": 0,
             "ticks": ""
            },
            "colorscale": [
             [
              0,
              "#0d0887"
             ],
             [
              0.1111111111111111,
              "#46039f"
             ],
             [
              0.2222222222222222,
              "#7201a8"
             ],
             [
              0.3333333333333333,
              "#9c179e"
             ],
             [
              0.4444444444444444,
              "#bd3786"
             ],
             [
              0.5555555555555556,
              "#d8576b"
             ],
             [
              0.6666666666666666,
              "#ed7953"
             ],
             [
              0.7777777777777778,
              "#fb9f3a"
             ],
             [
              0.8888888888888888,
              "#fdca26"
             ],
             [
              1,
              "#f0f921"
             ]
            ],
            "type": "surface"
           }
          ],
          "table": [
           {
            "cells": {
             "fill": {
              "color": "#EBF0F8"
             },
             "line": {
              "color": "white"
             }
            },
            "header": {
             "fill": {
              "color": "#C8D4E3"
             },
             "line": {
              "color": "white"
             }
            },
            "type": "table"
           }
          ]
         },
         "layout": {
          "annotationdefaults": {
           "arrowcolor": "#2a3f5f",
           "arrowhead": 0,
           "arrowwidth": 1
          },
          "autotypenumbers": "strict",
          "coloraxis": {
           "colorbar": {
            "outlinewidth": 0,
            "ticks": ""
           }
          },
          "colorscale": {
           "diverging": [
            [
             0,
             "#8e0152"
            ],
            [
             0.1,
             "#c51b7d"
            ],
            [
             0.2,
             "#de77ae"
            ],
            [
             0.3,
             "#f1b6da"
            ],
            [
             0.4,
             "#fde0ef"
            ],
            [
             0.5,
             "#f7f7f7"
            ],
            [
             0.6,
             "#e6f5d0"
            ],
            [
             0.7,
             "#b8e186"
            ],
            [
             0.8,
             "#7fbc41"
            ],
            [
             0.9,
             "#4d9221"
            ],
            [
             1,
             "#276419"
            ]
           ],
           "sequential": [
            [
             0,
             "#0d0887"
            ],
            [
             0.1111111111111111,
             "#46039f"
            ],
            [
             0.2222222222222222,
             "#7201a8"
            ],
            [
             0.3333333333333333,
             "#9c179e"
            ],
            [
             0.4444444444444444,
             "#bd3786"
            ],
            [
             0.5555555555555556,
             "#d8576b"
            ],
            [
             0.6666666666666666,
             "#ed7953"
            ],
            [
             0.7777777777777778,
             "#fb9f3a"
            ],
            [
             0.8888888888888888,
             "#fdca26"
            ],
            [
             1,
             "#f0f921"
            ]
           ],
           "sequentialminus": [
            [
             0,
             "#0d0887"
            ],
            [
             0.1111111111111111,
             "#46039f"
            ],
            [
             0.2222222222222222,
             "#7201a8"
            ],
            [
             0.3333333333333333,
             "#9c179e"
            ],
            [
             0.4444444444444444,
             "#bd3786"
            ],
            [
             0.5555555555555556,
             "#d8576b"
            ],
            [
             0.6666666666666666,
             "#ed7953"
            ],
            [
             0.7777777777777778,
             "#fb9f3a"
            ],
            [
             0.8888888888888888,
             "#fdca26"
            ],
            [
             1,
             "#f0f921"
            ]
           ]
          },
          "colorway": [
           "#636efa",
           "#EF553B",
           "#00cc96",
           "#ab63fa",
           "#FFA15A",
           "#19d3f3",
           "#FF6692",
           "#B6E880",
           "#FF97FF",
           "#FECB52"
          ],
          "font": {
           "color": "#2a3f5f"
          },
          "geo": {
           "bgcolor": "white",
           "lakecolor": "white",
           "landcolor": "#E5ECF6",
           "showlakes": true,
           "showland": true,
           "subunitcolor": "white"
          },
          "hoverlabel": {
           "align": "left"
          },
          "hovermode": "closest",
          "mapbox": {
           "style": "light"
          },
          "paper_bgcolor": "white",
          "plot_bgcolor": "#E5ECF6",
          "polar": {
           "angularaxis": {
            "gridcolor": "white",
            "linecolor": "white",
            "ticks": ""
           },
           "bgcolor": "#E5ECF6",
           "radialaxis": {
            "gridcolor": "white",
            "linecolor": "white",
            "ticks": ""
           }
          },
          "scene": {
           "xaxis": {
            "backgroundcolor": "#E5ECF6",
            "gridcolor": "white",
            "gridwidth": 2,
            "linecolor": "white",
            "showbackground": true,
            "ticks": "",
            "zerolinecolor": "white"
           },
           "yaxis": {
            "backgroundcolor": "#E5ECF6",
            "gridcolor": "white",
            "gridwidth": 2,
            "linecolor": "white",
            "showbackground": true,
            "ticks": "",
            "zerolinecolor": "white"
           },
           "zaxis": {
            "backgroundcolor": "#E5ECF6",
            "gridcolor": "white",
            "gridwidth": 2,
            "linecolor": "white",
            "showbackground": true,
            "ticks": "",
            "zerolinecolor": "white"
           }
          },
          "shapedefaults": {
           "line": {
            "color": "#2a3f5f"
           }
          },
          "ternary": {
           "aaxis": {
            "gridcolor": "white",
            "linecolor": "white",
            "ticks": ""
           },
           "baxis": {
            "gridcolor": "white",
            "linecolor": "white",
            "ticks": ""
           },
           "bgcolor": "#E5ECF6",
           "caxis": {
            "gridcolor": "white",
            "linecolor": "white",
            "ticks": ""
           }
          },
          "title": {
           "x": 0.05
          },
          "xaxis": {
           "automargin": true,
           "gridcolor": "white",
           "linecolor": "white",
           "ticks": "",
           "title": {
            "standoff": 15
           },
           "zerolinecolor": "white",
           "zerolinewidth": 2
          },
          "yaxis": {
           "automargin": true,
           "gridcolor": "white",
           "linecolor": "white",
           "ticks": "",
           "title": {
            "standoff": 15
           },
           "zerolinecolor": "white",
           "zerolinewidth": 2
          }
         }
        },
        "title": {
         "font": {
          "size": 20
         },
         "pad": {
          "b": 80,
          "r": 10,
          "t": 10
         },
         "text": "Top 20 words describing responsibilities<br>by job type",
         "x": 0.5,
         "xanchor": "center",
         "y": 0.96,
         "yanchor": "top"
        },
        "width": 600
       }
      },
      "text/html": [
       "<div>                            <div id=\"5c541cb4-8801-4fcc-88bd-11c5ccba9832\" class=\"plotly-graph-div\" style=\"height:1000px; width:600px;\"></div>            <script type=\"text/javascript\">                require([\"plotly\"], function(Plotly) {                    window.PLOTLYENV=window.PLOTLYENV || {};                                    if (document.getElementById(\"5c541cb4-8801-4fcc-88bd-11c5ccba9832\")) {                    Plotly.newPlot(                        \"5c541cb4-8801-4fcc-88bd-11c5ccba9832\",                        [{\"hole\":0.6,\"hovertemplate\":\"percent=%{percent:.0%}<br>frequency=%{value}\",\"insidetextorientation\":\"auto\",\"labels\":[\"data\",\"business\",\"support\",\"reporting\",\"team\",\"analysis\",\"reports\",\"work\",\"management\",\"develop\",\"ensure\",\"insights\",\"analyst\",\"issues\",\"analytics\",\"internal\",\"information\",\"identify\",\"perform\",\"teams\"],\"marker\":{\"colors\":[\"#083c7d\",\"#084990\",\"#0b559f\",\"#1561a9\",\"#1e6db2\",\"#2b7bba\",\"#3787c0\",\"#4493c7\",\"#539ecd\",\"#63a8d3\",\"#75b4d8\",\"#89bedc\",\"#9cc9e1\",\"#abd0e6\",\"#bad6eb\",\"#c9ddf0\",\"#d2e3f3\",\"#dbe9f6\",\"#e4eff9\",\"#eef5fc\"]},\"showlegend\":false,\"textposition\":\"outside\",\"texttemplate\":\"%{label}\",\"title\":{\"text\":\"Data Analysis\"},\"values\":[510,134,108,98,92,92,86,82,68,66,60,60,54,54,52,52,50,50,50,50],\"type\":\"pie\",\"domain\":{\"x\":[0.0,1.0],\"y\":[0.7333333333333333,1.0]}},{\"hole\":0.6,\"hovertemplate\":\"percent=%{percent:.0%}<br>frequency=%{value}\",\"labels\":[\"data\",\"business\",\"analysis\",\"develop\",\"team\",\"development\",\"work\",\"support\",\"analytics\",\"models\",\"learning\",\"solutions\",\"machine\",\"science\",\"techniques\",\"statistical\",\"provide\",\"tools\",\"new\",\"algorithms\"],\"marker\":{\"colors\":[\"#083c7d\",\"#084990\",\"#0b559f\",\"#1561a9\",\"#1e6db2\",\"#2b7bba\",\"#3787c0\",\"#4493c7\",\"#539ecd\",\"#63a8d3\",\"#75b4d8\",\"#89bedc\",\"#9cc9e1\",\"#abd0e6\",\"#bad6eb\",\"#c9ddf0\",\"#d2e3f3\",\"#dbe9f6\",\"#e4eff9\",\"#eef5fc\"]},\"showlegend\":false,\"textposition\":\"outside\",\"texttemplate\":\"%{label}\",\"title\":{\"text\":\"Data Science\"},\"values\":[482,140,110,89,84,79,77,75,73,73,71,66,64,63,61,57,55,53,52,49],\"type\":\"pie\",\"domain\":{\"x\":[0.0,1.0],\"y\":[0.36666666666666664,0.6333333333333333]}},{\"hole\":0.6,\"hovertemplate\":\"percent=%{percent:.0%}<br>frequency=%{value}\",\"labels\":[\"learning\",\"data\",\"machine\",\"ml\",\"models\",\"team\",\"technical\",\"design\",\"develop\",\"engineering\",\"development\",\"model\",\"build\",\"software\",\"product\",\"work\",\"systems\",\"solutions\",\"across\",\"business\"],\"marker\":{\"colors\":[\"#083c7d\",\"#084990\",\"#0b559f\",\"#1561a9\",\"#1e6db2\",\"#2b7bba\",\"#3787c0\",\"#4493c7\",\"#539ecd\",\"#63a8d3\",\"#75b4d8\",\"#89bedc\",\"#9cc9e1\",\"#abd0e6\",\"#bad6eb\",\"#c9ddf0\",\"#d2e3f3\",\"#dbe9f6\",\"#e4eff9\",\"#eef5fc\"]},\"showlegend\":false,\"textposition\":\"outside\",\"texttemplate\":\"%{label}\",\"title\":{\"text\":\"Machine Learning\"},\"values\":[174,160,148,113,106,83,67,65,59,57,56,52,51,47,47,44,43,43,40,39],\"type\":\"pie\",\"domain\":{\"x\":[0.0,1.0],\"y\":[0.0,0.26666666666666666]}}],                        {\"template\":{\"data\":{\"histogram2dcontour\":[{\"type\":\"histogram2dcontour\",\"colorbar\":{\"outlinewidth\":0,\"ticks\":\"\"},\"colorscale\":[[0.0,\"#0d0887\"],[0.1111111111111111,\"#46039f\"],[0.2222222222222222,\"#7201a8\"],[0.3333333333333333,\"#9c179e\"],[0.4444444444444444,\"#bd3786\"],[0.5555555555555556,\"#d8576b\"],[0.6666666666666666,\"#ed7953\"],[0.7777777777777778,\"#fb9f3a\"],[0.8888888888888888,\"#fdca26\"],[1.0,\"#f0f921\"]]}],\"choropleth\":[{\"type\":\"choropleth\",\"colorbar\":{\"outlinewidth\":0,\"ticks\":\"\"}}],\"histogram2d\":[{\"type\":\"histogram2d\",\"colorbar\":{\"outlinewidth\":0,\"ticks\":\"\"},\"colorscale\":[[0.0,\"#0d0887\"],[0.1111111111111111,\"#46039f\"],[0.2222222222222222,\"#7201a8\"],[0.3333333333333333,\"#9c179e\"],[0.4444444444444444,\"#bd3786\"],[0.5555555555555556,\"#d8576b\"],[0.6666666666666666,\"#ed7953\"],[0.7777777777777778,\"#fb9f3a\"],[0.8888888888888888,\"#fdca26\"],[1.0,\"#f0f921\"]]}],\"heatmap\":[{\"type\":\"heatmap\",\"colorbar\":{\"outlinewidth\":0,\"ticks\":\"\"},\"colorscale\":[[0.0,\"#0d0887\"],[0.1111111111111111,\"#46039f\"],[0.2222222222222222,\"#7201a8\"],[0.3333333333333333,\"#9c179e\"],[0.4444444444444444,\"#bd3786\"],[0.5555555555555556,\"#d8576b\"],[0.6666666666666666,\"#ed7953\"],[0.7777777777777778,\"#fb9f3a\"],[0.8888888888888888,\"#fdca26\"],[1.0,\"#f0f921\"]]}],\"heatmapgl\":[{\"type\":\"heatmapgl\",\"colorbar\":{\"outlinewidth\":0,\"ticks\":\"\"},\"colorscale\":[[0.0,\"#0d0887\"],[0.1111111111111111,\"#46039f\"],[0.2222222222222222,\"#7201a8\"],[0.3333333333333333,\"#9c179e\"],[0.4444444444444444,\"#bd3786\"],[0.5555555555555556,\"#d8576b\"],[0.6666666666666666,\"#ed7953\"],[0.7777777777777778,\"#fb9f3a\"],[0.8888888888888888,\"#fdca26\"],[1.0,\"#f0f921\"]]}],\"contourcarpet\":[{\"type\":\"contourcarpet\",\"colorbar\":{\"outlinewidth\":0,\"ticks\":\"\"}}],\"contour\":[{\"type\":\"contour\",\"colorbar\":{\"outlinewidth\":0,\"ticks\":\"\"},\"colorscale\":[[0.0,\"#0d0887\"],[0.1111111111111111,\"#46039f\"],[0.2222222222222222,\"#7201a8\"],[0.3333333333333333,\"#9c179e\"],[0.4444444444444444,\"#bd3786\"],[0.5555555555555556,\"#d8576b\"],[0.6666666666666666,\"#ed7953\"],[0.7777777777777778,\"#fb9f3a\"],[0.8888888888888888,\"#fdca26\"],[1.0,\"#f0f921\"]]}],\"surface\":[{\"type\":\"surface\",\"colorbar\":{\"outlinewidth\":0,\"ticks\":\"\"},\"colorscale\":[[0.0,\"#0d0887\"],[0.1111111111111111,\"#46039f\"],[0.2222222222222222,\"#7201a8\"],[0.3333333333333333,\"#9c179e\"],[0.4444444444444444,\"#bd3786\"],[0.5555555555555556,\"#d8576b\"],[0.6666666666666666,\"#ed7953\"],[0.7777777777777778,\"#fb9f3a\"],[0.8888888888888888,\"#fdca26\"],[1.0,\"#f0f921\"]]}],\"mesh3d\":[{\"type\":\"mesh3d\",\"colorbar\":{\"outlinewidth\":0,\"ticks\":\"\"}}],\"scatter\":[{\"fillpattern\":{\"fillmode\":\"overlay\",\"size\":10,\"solidity\":0.2},\"type\":\"scatter\"}],\"parcoords\":[{\"type\":\"parcoords\",\"line\":{\"colorbar\":{\"outlinewidth\":0,\"ticks\":\"\"}}}],\"scatterpolargl\":[{\"type\":\"scatterpolargl\",\"marker\":{\"colorbar\":{\"outlinewidth\":0,\"ticks\":\"\"}}}],\"bar\":[{\"error_x\":{\"color\":\"#2a3f5f\"},\"error_y\":{\"color\":\"#2a3f5f\"},\"marker\":{\"line\":{\"color\":\"#E5ECF6\",\"width\":0.5},\"pattern\":{\"fillmode\":\"overlay\",\"size\":10,\"solidity\":0.2}},\"type\":\"bar\"}],\"scattergeo\":[{\"type\":\"scattergeo\",\"marker\":{\"colorbar\":{\"outlinewidth\":0,\"ticks\":\"\"}}}],\"scatterpolar\":[{\"type\":\"scatterpolar\",\"marker\":{\"colorbar\":{\"outlinewidth\":0,\"ticks\":\"\"}}}],\"histogram\":[{\"marker\":{\"pattern\":{\"fillmode\":\"overlay\",\"size\":10,\"solidity\":0.2}},\"type\":\"histogram\"}],\"scattergl\":[{\"type\":\"scattergl\",\"marker\":{\"colorbar\":{\"outlinewidth\":0,\"ticks\":\"\"}}}],\"scatter3d\":[{\"type\":\"scatter3d\",\"line\":{\"colorbar\":{\"outlinewidth\":0,\"ticks\":\"\"}},\"marker\":{\"colorbar\":{\"outlinewidth\":0,\"ticks\":\"\"}}}],\"scattermapbox\":[{\"type\":\"scattermapbox\",\"marker\":{\"colorbar\":{\"outlinewidth\":0,\"ticks\":\"\"}}}],\"scatterternary\":[{\"type\":\"scatterternary\",\"marker\":{\"colorbar\":{\"outlinewidth\":0,\"ticks\":\"\"}}}],\"scattercarpet\":[{\"type\":\"scattercarpet\",\"marker\":{\"colorbar\":{\"outlinewidth\":0,\"ticks\":\"\"}}}],\"carpet\":[{\"aaxis\":{\"endlinecolor\":\"#2a3f5f\",\"gridcolor\":\"white\",\"linecolor\":\"white\",\"minorgridcolor\":\"white\",\"startlinecolor\":\"#2a3f5f\"},\"baxis\":{\"endlinecolor\":\"#2a3f5f\",\"gridcolor\":\"white\",\"linecolor\":\"white\",\"minorgridcolor\":\"white\",\"startlinecolor\":\"#2a3f5f\"},\"type\":\"carpet\"}],\"table\":[{\"cells\":{\"fill\":{\"color\":\"#EBF0F8\"},\"line\":{\"color\":\"white\"}},\"header\":{\"fill\":{\"color\":\"#C8D4E3\"},\"line\":{\"color\":\"white\"}},\"type\":\"table\"}],\"barpolar\":[{\"marker\":{\"line\":{\"color\":\"#E5ECF6\",\"width\":0.5},\"pattern\":{\"fillmode\":\"overlay\",\"size\":10,\"solidity\":0.2}},\"type\":\"barpolar\"}],\"pie\":[{\"automargin\":true,\"type\":\"pie\"}]},\"layout\":{\"autotypenumbers\":\"strict\",\"colorway\":[\"#636efa\",\"#EF553B\",\"#00cc96\",\"#ab63fa\",\"#FFA15A\",\"#19d3f3\",\"#FF6692\",\"#B6E880\",\"#FF97FF\",\"#FECB52\"],\"font\":{\"color\":\"#2a3f5f\"},\"hovermode\":\"closest\",\"hoverlabel\":{\"align\":\"left\"},\"paper_bgcolor\":\"white\",\"plot_bgcolor\":\"#E5ECF6\",\"polar\":{\"bgcolor\":\"#E5ECF6\",\"angularaxis\":{\"gridcolor\":\"white\",\"linecolor\":\"white\",\"ticks\":\"\"},\"radialaxis\":{\"gridcolor\":\"white\",\"linecolor\":\"white\",\"ticks\":\"\"}},\"ternary\":{\"bgcolor\":\"#E5ECF6\",\"aaxis\":{\"gridcolor\":\"white\",\"linecolor\":\"white\",\"ticks\":\"\"},\"baxis\":{\"gridcolor\":\"white\",\"linecolor\":\"white\",\"ticks\":\"\"},\"caxis\":{\"gridcolor\":\"white\",\"linecolor\":\"white\",\"ticks\":\"\"}},\"coloraxis\":{\"colorbar\":{\"outlinewidth\":0,\"ticks\":\"\"}},\"colorscale\":{\"sequential\":[[0.0,\"#0d0887\"],[0.1111111111111111,\"#46039f\"],[0.2222222222222222,\"#7201a8\"],[0.3333333333333333,\"#9c179e\"],[0.4444444444444444,\"#bd3786\"],[0.5555555555555556,\"#d8576b\"],[0.6666666666666666,\"#ed7953\"],[0.7777777777777778,\"#fb9f3a\"],[0.8888888888888888,\"#fdca26\"],[1.0,\"#f0f921\"]],\"sequentialminus\":[[0.0,\"#0d0887\"],[0.1111111111111111,\"#46039f\"],[0.2222222222222222,\"#7201a8\"],[0.3333333333333333,\"#9c179e\"],[0.4444444444444444,\"#bd3786\"],[0.5555555555555556,\"#d8576b\"],[0.6666666666666666,\"#ed7953\"],[0.7777777777777778,\"#fb9f3a\"],[0.8888888888888888,\"#fdca26\"],[1.0,\"#f0f921\"]],\"diverging\":[[0,\"#8e0152\"],[0.1,\"#c51b7d\"],[0.2,\"#de77ae\"],[0.3,\"#f1b6da\"],[0.4,\"#fde0ef\"],[0.5,\"#f7f7f7\"],[0.6,\"#e6f5d0\"],[0.7,\"#b8e186\"],[0.8,\"#7fbc41\"],[0.9,\"#4d9221\"],[1,\"#276419\"]]},\"xaxis\":{\"gridcolor\":\"white\",\"linecolor\":\"white\",\"ticks\":\"\",\"title\":{\"standoff\":15},\"zerolinecolor\":\"white\",\"automargin\":true,\"zerolinewidth\":2},\"yaxis\":{\"gridcolor\":\"white\",\"linecolor\":\"white\",\"ticks\":\"\",\"title\":{\"standoff\":15},\"zerolinecolor\":\"white\",\"automargin\":true,\"zerolinewidth\":2},\"scene\":{\"xaxis\":{\"backgroundcolor\":\"#E5ECF6\",\"gridcolor\":\"white\",\"linecolor\":\"white\",\"showbackground\":true,\"ticks\":\"\",\"zerolinecolor\":\"white\",\"gridwidth\":2},\"yaxis\":{\"backgroundcolor\":\"#E5ECF6\",\"gridcolor\":\"white\",\"linecolor\":\"white\",\"showbackground\":true,\"ticks\":\"\",\"zerolinecolor\":\"white\",\"gridwidth\":2},\"zaxis\":{\"backgroundcolor\":\"#E5ECF6\",\"gridcolor\":\"white\",\"linecolor\":\"white\",\"showbackground\":true,\"ticks\":\"\",\"zerolinecolor\":\"white\",\"gridwidth\":2}},\"shapedefaults\":{\"line\":{\"color\":\"#2a3f5f\"}},\"annotationdefaults\":{\"arrowcolor\":\"#2a3f5f\",\"arrowhead\":0,\"arrowwidth\":1},\"geo\":{\"bgcolor\":\"white\",\"landcolor\":\"#E5ECF6\",\"subunitcolor\":\"white\",\"showland\":true,\"showlakes\":true,\"lakecolor\":\"white\"},\"title\":{\"x\":0.05},\"mapbox\":{\"style\":\"light\"}}},\"title\":{\"pad\":{\"r\":10,\"t\":10,\"b\":80},\"font\":{\"size\":20},\"text\":\"Top 20 words describing responsibilities<br>by job type\",\"x\":0.5,\"y\":0.96,\"xanchor\":\"center\",\"yanchor\":\"top\"},\"margin\":{\"t\":130},\"width\":600,\"height\":1000},                        {\"responsive\": true}                    ).then(function(){\n",
       "                            \n",
       "var gd = document.getElementById('5c541cb4-8801-4fcc-88bd-11c5ccba9832');\n",
       "var x = new MutationObserver(function (mutations, observer) {{\n",
       "        var display = window.getComputedStyle(gd).display;\n",
       "        if (!display || display === 'none') {{\n",
       "            console.log([gd, 'removed!']);\n",
       "            Plotly.purge(gd);\n",
       "            observer.disconnect();\n",
       "        }}\n",
       "}});\n",
       "\n",
       "// Listen for the removal of the full notebook cells\n",
       "var notebookContainer = gd.closest('#notebook-container');\n",
       "if (notebookContainer) {{\n",
       "    x.observe(notebookContainer, {childList: true});\n",
       "}}\n",
       "\n",
       "// Listen for the clearing of the current output cell\n",
       "var outputEl = gd.closest('.output');\n",
       "if (outputEl) {{\n",
       "    x.observe(outputEl, {childList: true});\n",
       "}}\n",
       "\n",
       "                        })                };                });            </script>        </div>"
      ]
     },
     "metadata": {},
     "output_type": "display_data"
    }
   ],
   "source": [
    "# create unique list of job types for dropdown menu\n",
    "job_types = df_word_count_res['job_type'].unique().tolist()\n",
    "\n",
    "from plotly.subplots import make_subplots\n",
    "pal = list(sns.color_palette(palette='Blues_r', n_colors=20).as_hex())\n",
    "# create three subplots, each with one donut chart\n",
    "specs = [[{'type': 'pie'}]] * 3\n",
    "fig = make_subplots(rows=3, cols=1, specs=specs)\n",
    "# add the first donut chart to the left subplot\n",
    "fig.add_trace(go.Pie(labels=df_word_count_res[df_word_count_res['job_type'] == job_types[0]]['word'],\n",
    "                     values=df_word_count_res[df_word_count_res['job_type'] == job_types[0]]['frequency'],\n",
    "                     textposition='outside', \n",
    "                     hole=.6,\n",
    "                     insidetextorientation='auto',\n",
    "                     hovertemplate='percent=%{percent:.0%}<br>frequency=%{value}',\n",
    "                     marker=dict(colors=pal),\n",
    "                     showlegend=False,\n",
    "                     title='Data Analysis',\n",
    "                     texttemplate=\"%{label}\"),\n",
    "              row=1, col=1)\n",
    "\n",
    "# add the second donut chart to the right subplot\n",
    "fig.add_trace(go.Pie(labels=df_word_count_res[df_word_count_res['job_type'] == job_types[1]]['word'],\n",
    "                     values=df_word_count_res[df_word_count_res['job_type'] == job_types[1]]['frequency'],\n",
    "                     textposition='outside', \n",
    "                     hole=.6,\n",
    "                     hovertemplate='percent=%{percent:.0%}<br>frequency=%{value}',\n",
    "                     marker=dict(colors=pal),\n",
    "                     showlegend=False,\n",
    "                     title='Data Science',\n",
    "                     texttemplate=\"%{label}\"),\n",
    "              row=2, col=1)\n",
    "\n",
    "# add the second donut chart to the right subplot\n",
    "fig.add_trace(go.Pie(labels=df_word_count_res[df_word_count_res['job_type'] == job_types[2]]['word'],\n",
    "                     values=df_word_count_res[df_word_count_res['job_type'] == job_types[2]]['frequency'],\n",
    "                     textposition='outside', \n",
    "                     hole=.6,\n",
    "                     hovertemplate='percent=%{percent:.0%}<br>frequency=%{value}',\n",
    "                     marker=dict(colors=pal),\n",
    "                     title='Machine Learning',\n",
    "                     showlegend=False,\n",
    "                     texttemplate=\"%{label}\"),\n",
    "              row=3, col=1)\n",
    "\n",
    "# set the layout options for the entire figure\n",
    "fig.update_layout(\n",
    "    title={\n",
    "        'text': f\"Top 20 words describing responsibilities<br>by job type\",\n",
    "        'x': 0.50,\n",
    "        'y': 0.96,\n",
    "        'xanchor': 'center',\n",
    "        'yanchor': 'top',\n",
    "        'pad': {'r': 10, 't': 10, 'b':80},\n",
    "        'font': {'size': 20}\n",
    "    },\n",
    "    width=600,\n",
    "    height=1000,\n",
    "    margin=dict(t=130),\n",
    ")\n",
    "\n",
    "fig.show()\n",
    "fig.write_html('../images/donut_chart.html')\n"
   ]
  },
  {
   "cell_type": "code",
   "execution_count": 203,
   "metadata": {},
   "outputs": [
    {
     "data": {
      "application/vnd.plotly.v1+json": {
       "config": {
        "plotlyServerURL": "https://plot.ly"
       },
       "data": [
        {
         "hole": 0.4,
         "hovertemplate": "percent=%{percent:.0%}<br>frequency=%{value}",
         "insidetextorientation": "auto",
         "labels": [
          "data",
          "business",
          "support",
          "reporting",
          "team",
          "analysis",
          "reports",
          "work",
          "management",
          "develop",
          "ensure",
          "insights",
          "analyst",
          "issues",
          "analytics",
          "internal",
          "information",
          "identify",
          "perform",
          "teams",
          "role",
          "processes",
          "quality",
          "build",
          "customer",
          "maintain",
          "system",
          "responsible",
          "systems",
          "key"
         ],
         "marker": {
          "colors": [
           "#083877",
           "#084184",
           "#084990",
           "#09529d",
           "#0f5aa3",
           "#1562a9",
           "#1c6ab0",
           "#2373b6",
           "#2c7cba",
           "#3484bf",
           "#3c8cc3",
           "#4695c8",
           "#519ccc",
           "#5ba3d0",
           "#65aad4",
           "#72b2d8",
           "#7fb9da",
           "#8cc0dd",
           "#99c7e0",
           "#a5cde3",
           "#afd1e7",
           "#b9d6ea",
           "#c3daee",
           "#cbdef1",
           "#d1e2f3",
           "#d7e6f5",
           "#ddeaf7",
           "#e4eff9",
           "#eaf3fb",
           "#f1f7fd"
          ]
         },
         "showlegend": false,
         "textposition": "outside",
         "texttemplate": "%{label}",
         "type": "pie",
         "values": [
          510,
          134,
          108,
          98,
          92,
          92,
          86,
          82,
          68,
          66,
          60,
          60,
          54,
          54,
          52,
          52,
          50,
          50,
          50,
          50,
          48,
          48,
          48,
          44,
          42,
          42,
          42,
          42,
          42,
          42
         ]
        }
       ],
       "layout": {
        "font": {
         "color": "white",
         "size": 16
        },
        "height": 600,
        "margin": {
         "t": 130
        },
        "paper_bgcolor": "#272b2e",
        "plot_bgcolor": "#272b2e",
        "template": {
         "data": {
          "bar": [
           {
            "error_x": {
             "color": "#2a3f5f"
            },
            "error_y": {
             "color": "#2a3f5f"
            },
            "marker": {
             "line": {
              "color": "#E5ECF6",
              "width": 0.5
             },
             "pattern": {
              "fillmode": "overlay",
              "size": 10,
              "solidity": 0.2
             }
            },
            "type": "bar"
           }
          ],
          "barpolar": [
           {
            "marker": {
             "line": {
              "color": "#E5ECF6",
              "width": 0.5
             },
             "pattern": {
              "fillmode": "overlay",
              "size": 10,
              "solidity": 0.2
             }
            },
            "type": "barpolar"
           }
          ],
          "carpet": [
           {
            "aaxis": {
             "endlinecolor": "#2a3f5f",
             "gridcolor": "white",
             "linecolor": "white",
             "minorgridcolor": "white",
             "startlinecolor": "#2a3f5f"
            },
            "baxis": {
             "endlinecolor": "#2a3f5f",
             "gridcolor": "white",
             "linecolor": "white",
             "minorgridcolor": "white",
             "startlinecolor": "#2a3f5f"
            },
            "type": "carpet"
           }
          ],
          "choropleth": [
           {
            "colorbar": {
             "outlinewidth": 0,
             "ticks": ""
            },
            "type": "choropleth"
           }
          ],
          "contour": [
           {
            "colorbar": {
             "outlinewidth": 0,
             "ticks": ""
            },
            "colorscale": [
             [
              0,
              "#0d0887"
             ],
             [
              0.1111111111111111,
              "#46039f"
             ],
             [
              0.2222222222222222,
              "#7201a8"
             ],
             [
              0.3333333333333333,
              "#9c179e"
             ],
             [
              0.4444444444444444,
              "#bd3786"
             ],
             [
              0.5555555555555556,
              "#d8576b"
             ],
             [
              0.6666666666666666,
              "#ed7953"
             ],
             [
              0.7777777777777778,
              "#fb9f3a"
             ],
             [
              0.8888888888888888,
              "#fdca26"
             ],
             [
              1,
              "#f0f921"
             ]
            ],
            "type": "contour"
           }
          ],
          "contourcarpet": [
           {
            "colorbar": {
             "outlinewidth": 0,
             "ticks": ""
            },
            "type": "contourcarpet"
           }
          ],
          "heatmap": [
           {
            "colorbar": {
             "outlinewidth": 0,
             "ticks": ""
            },
            "colorscale": [
             [
              0,
              "#0d0887"
             ],
             [
              0.1111111111111111,
              "#46039f"
             ],
             [
              0.2222222222222222,
              "#7201a8"
             ],
             [
              0.3333333333333333,
              "#9c179e"
             ],
             [
              0.4444444444444444,
              "#bd3786"
             ],
             [
              0.5555555555555556,
              "#d8576b"
             ],
             [
              0.6666666666666666,
              "#ed7953"
             ],
             [
              0.7777777777777778,
              "#fb9f3a"
             ],
             [
              0.8888888888888888,
              "#fdca26"
             ],
             [
              1,
              "#f0f921"
             ]
            ],
            "type": "heatmap"
           }
          ],
          "heatmapgl": [
           {
            "colorbar": {
             "outlinewidth": 0,
             "ticks": ""
            },
            "colorscale": [
             [
              0,
              "#0d0887"
             ],
             [
              0.1111111111111111,
              "#46039f"
             ],
             [
              0.2222222222222222,
              "#7201a8"
             ],
             [
              0.3333333333333333,
              "#9c179e"
             ],
             [
              0.4444444444444444,
              "#bd3786"
             ],
             [
              0.5555555555555556,
              "#d8576b"
             ],
             [
              0.6666666666666666,
              "#ed7953"
             ],
             [
              0.7777777777777778,
              "#fb9f3a"
             ],
             [
              0.8888888888888888,
              "#fdca26"
             ],
             [
              1,
              "#f0f921"
             ]
            ],
            "type": "heatmapgl"
           }
          ],
          "histogram": [
           {
            "marker": {
             "pattern": {
              "fillmode": "overlay",
              "size": 10,
              "solidity": 0.2
             }
            },
            "type": "histogram"
           }
          ],
          "histogram2d": [
           {
            "colorbar": {
             "outlinewidth": 0,
             "ticks": ""
            },
            "colorscale": [
             [
              0,
              "#0d0887"
             ],
             [
              0.1111111111111111,
              "#46039f"
             ],
             [
              0.2222222222222222,
              "#7201a8"
             ],
             [
              0.3333333333333333,
              "#9c179e"
             ],
             [
              0.4444444444444444,
              "#bd3786"
             ],
             [
              0.5555555555555556,
              "#d8576b"
             ],
             [
              0.6666666666666666,
              "#ed7953"
             ],
             [
              0.7777777777777778,
              "#fb9f3a"
             ],
             [
              0.8888888888888888,
              "#fdca26"
             ],
             [
              1,
              "#f0f921"
             ]
            ],
            "type": "histogram2d"
           }
          ],
          "histogram2dcontour": [
           {
            "colorbar": {
             "outlinewidth": 0,
             "ticks": ""
            },
            "colorscale": [
             [
              0,
              "#0d0887"
             ],
             [
              0.1111111111111111,
              "#46039f"
             ],
             [
              0.2222222222222222,
              "#7201a8"
             ],
             [
              0.3333333333333333,
              "#9c179e"
             ],
             [
              0.4444444444444444,
              "#bd3786"
             ],
             [
              0.5555555555555556,
              "#d8576b"
             ],
             [
              0.6666666666666666,
              "#ed7953"
             ],
             [
              0.7777777777777778,
              "#fb9f3a"
             ],
             [
              0.8888888888888888,
              "#fdca26"
             ],
             [
              1,
              "#f0f921"
             ]
            ],
            "type": "histogram2dcontour"
           }
          ],
          "mesh3d": [
           {
            "colorbar": {
             "outlinewidth": 0,
             "ticks": ""
            },
            "type": "mesh3d"
           }
          ],
          "parcoords": [
           {
            "line": {
             "colorbar": {
              "outlinewidth": 0,
              "ticks": ""
             }
            },
            "type": "parcoords"
           }
          ],
          "pie": [
           {
            "automargin": true,
            "type": "pie"
           }
          ],
          "scatter": [
           {
            "fillpattern": {
             "fillmode": "overlay",
             "size": 10,
             "solidity": 0.2
            },
            "type": "scatter"
           }
          ],
          "scatter3d": [
           {
            "line": {
             "colorbar": {
              "outlinewidth": 0,
              "ticks": ""
             }
            },
            "marker": {
             "colorbar": {
              "outlinewidth": 0,
              "ticks": ""
             }
            },
            "type": "scatter3d"
           }
          ],
          "scattercarpet": [
           {
            "marker": {
             "colorbar": {
              "outlinewidth": 0,
              "ticks": ""
             }
            },
            "type": "scattercarpet"
           }
          ],
          "scattergeo": [
           {
            "marker": {
             "colorbar": {
              "outlinewidth": 0,
              "ticks": ""
             }
            },
            "type": "scattergeo"
           }
          ],
          "scattergl": [
           {
            "marker": {
             "colorbar": {
              "outlinewidth": 0,
              "ticks": ""
             }
            },
            "type": "scattergl"
           }
          ],
          "scattermapbox": [
           {
            "marker": {
             "colorbar": {
              "outlinewidth": 0,
              "ticks": ""
             }
            },
            "type": "scattermapbox"
           }
          ],
          "scatterpolar": [
           {
            "marker": {
             "colorbar": {
              "outlinewidth": 0,
              "ticks": ""
             }
            },
            "type": "scatterpolar"
           }
          ],
          "scatterpolargl": [
           {
            "marker": {
             "colorbar": {
              "outlinewidth": 0,
              "ticks": ""
             }
            },
            "type": "scatterpolargl"
           }
          ],
          "scatterternary": [
           {
            "marker": {
             "colorbar": {
              "outlinewidth": 0,
              "ticks": ""
             }
            },
            "type": "scatterternary"
           }
          ],
          "surface": [
           {
            "colorbar": {
             "outlinewidth": 0,
             "ticks": ""
            },
            "colorscale": [
             [
              0,
              "#0d0887"
             ],
             [
              0.1111111111111111,
              "#46039f"
             ],
             [
              0.2222222222222222,
              "#7201a8"
             ],
             [
              0.3333333333333333,
              "#9c179e"
             ],
             [
              0.4444444444444444,
              "#bd3786"
             ],
             [
              0.5555555555555556,
              "#d8576b"
             ],
             [
              0.6666666666666666,
              "#ed7953"
             ],
             [
              0.7777777777777778,
              "#fb9f3a"
             ],
             [
              0.8888888888888888,
              "#fdca26"
             ],
             [
              1,
              "#f0f921"
             ]
            ],
            "type": "surface"
           }
          ],
          "table": [
           {
            "cells": {
             "fill": {
              "color": "#EBF0F8"
             },
             "line": {
              "color": "white"
             }
            },
            "header": {
             "fill": {
              "color": "#C8D4E3"
             },
             "line": {
              "color": "white"
             }
            },
            "type": "table"
           }
          ]
         },
         "layout": {
          "annotationdefaults": {
           "arrowcolor": "#2a3f5f",
           "arrowhead": 0,
           "arrowwidth": 1
          },
          "autotypenumbers": "strict",
          "coloraxis": {
           "colorbar": {
            "outlinewidth": 0,
            "ticks": ""
           }
          },
          "colorscale": {
           "diverging": [
            [
             0,
             "#8e0152"
            ],
            [
             0.1,
             "#c51b7d"
            ],
            [
             0.2,
             "#de77ae"
            ],
            [
             0.3,
             "#f1b6da"
            ],
            [
             0.4,
             "#fde0ef"
            ],
            [
             0.5,
             "#f7f7f7"
            ],
            [
             0.6,
             "#e6f5d0"
            ],
            [
             0.7,
             "#b8e186"
            ],
            [
             0.8,
             "#7fbc41"
            ],
            [
             0.9,
             "#4d9221"
            ],
            [
             1,
             "#276419"
            ]
           ],
           "sequential": [
            [
             0,
             "#0d0887"
            ],
            [
             0.1111111111111111,
             "#46039f"
            ],
            [
             0.2222222222222222,
             "#7201a8"
            ],
            [
             0.3333333333333333,
             "#9c179e"
            ],
            [
             0.4444444444444444,
             "#bd3786"
            ],
            [
             0.5555555555555556,
             "#d8576b"
            ],
            [
             0.6666666666666666,
             "#ed7953"
            ],
            [
             0.7777777777777778,
             "#fb9f3a"
            ],
            [
             0.8888888888888888,
             "#fdca26"
            ],
            [
             1,
             "#f0f921"
            ]
           ],
           "sequentialminus": [
            [
             0,
             "#0d0887"
            ],
            [
             0.1111111111111111,
             "#46039f"
            ],
            [
             0.2222222222222222,
             "#7201a8"
            ],
            [
             0.3333333333333333,
             "#9c179e"
            ],
            [
             0.4444444444444444,
             "#bd3786"
            ],
            [
             0.5555555555555556,
             "#d8576b"
            ],
            [
             0.6666666666666666,
             "#ed7953"
            ],
            [
             0.7777777777777778,
             "#fb9f3a"
            ],
            [
             0.8888888888888888,
             "#fdca26"
            ],
            [
             1,
             "#f0f921"
            ]
           ]
          },
          "colorway": [
           "#636efa",
           "#EF553B",
           "#00cc96",
           "#ab63fa",
           "#FFA15A",
           "#19d3f3",
           "#FF6692",
           "#B6E880",
           "#FF97FF",
           "#FECB52"
          ],
          "font": {
           "color": "#2a3f5f"
          },
          "geo": {
           "bgcolor": "white",
           "lakecolor": "white",
           "landcolor": "#E5ECF6",
           "showlakes": true,
           "showland": true,
           "subunitcolor": "white"
          },
          "hoverlabel": {
           "align": "left"
          },
          "hovermode": "closest",
          "mapbox": {
           "style": "light"
          },
          "paper_bgcolor": "white",
          "plot_bgcolor": "#E5ECF6",
          "polar": {
           "angularaxis": {
            "gridcolor": "white",
            "linecolor": "white",
            "ticks": ""
           },
           "bgcolor": "#E5ECF6",
           "radialaxis": {
            "gridcolor": "white",
            "linecolor": "white",
            "ticks": ""
           }
          },
          "scene": {
           "xaxis": {
            "backgroundcolor": "#E5ECF6",
            "gridcolor": "white",
            "gridwidth": 2,
            "linecolor": "white",
            "showbackground": true,
            "ticks": "",
            "zerolinecolor": "white"
           },
           "yaxis": {
            "backgroundcolor": "#E5ECF6",
            "gridcolor": "white",
            "gridwidth": 2,
            "linecolor": "white",
            "showbackground": true,
            "ticks": "",
            "zerolinecolor": "white"
           },
           "zaxis": {
            "backgroundcolor": "#E5ECF6",
            "gridcolor": "white",
            "gridwidth": 2,
            "linecolor": "white",
            "showbackground": true,
            "ticks": "",
            "zerolinecolor": "white"
           }
          },
          "shapedefaults": {
           "line": {
            "color": "#2a3f5f"
           }
          },
          "ternary": {
           "aaxis": {
            "gridcolor": "white",
            "linecolor": "white",
            "ticks": ""
           },
           "baxis": {
            "gridcolor": "white",
            "linecolor": "white",
            "ticks": ""
           },
           "bgcolor": "#E5ECF6",
           "caxis": {
            "gridcolor": "white",
            "linecolor": "white",
            "ticks": ""
           }
          },
          "title": {
           "x": 0.05
          },
          "xaxis": {
           "automargin": true,
           "gridcolor": "white",
           "linecolor": "white",
           "ticks": "",
           "title": {
            "standoff": 15
           },
           "zerolinecolor": "white",
           "zerolinewidth": 2
          },
          "yaxis": {
           "automargin": true,
           "gridcolor": "white",
           "linecolor": "white",
           "ticks": "",
           "title": {
            "standoff": 15
           },
           "zerolinecolor": "white",
           "zerolinewidth": 2
          }
         }
        },
        "title": {
         "font": {
          "size": 24
         },
         "pad": {
          "b": 80,
          "r": 10,
          "t": 10
         },
         "text": "Top 20 words describing<br>data analysis responsibilities",
         "x": 0.5,
         "xanchor": "center",
         "y": 0.96,
         "yanchor": "top"
        },
        "width": 600
       }
      },
      "text/html": [
       "<div>                            <div id=\"ff15151a-a795-4e3c-b2d6-154f27048440\" class=\"plotly-graph-div\" style=\"height:600px; width:600px;\"></div>            <script type=\"text/javascript\">                require([\"plotly\"], function(Plotly) {                    window.PLOTLYENV=window.PLOTLYENV || {};                                    if (document.getElementById(\"ff15151a-a795-4e3c-b2d6-154f27048440\")) {                    Plotly.newPlot(                        \"ff15151a-a795-4e3c-b2d6-154f27048440\",                        [{\"hole\":0.4,\"hovertemplate\":\"percent=%{percent:.0%}<br>frequency=%{value}\",\"insidetextorientation\":\"auto\",\"labels\":[\"data\",\"business\",\"support\",\"reporting\",\"team\",\"analysis\",\"reports\",\"work\",\"management\",\"develop\",\"ensure\",\"insights\",\"analyst\",\"issues\",\"analytics\",\"internal\",\"information\",\"identify\",\"perform\",\"teams\",\"role\",\"processes\",\"quality\",\"build\",\"customer\",\"maintain\",\"system\",\"responsible\",\"systems\",\"key\"],\"marker\":{\"colors\":[\"#083877\",\"#084184\",\"#084990\",\"#09529d\",\"#0f5aa3\",\"#1562a9\",\"#1c6ab0\",\"#2373b6\",\"#2c7cba\",\"#3484bf\",\"#3c8cc3\",\"#4695c8\",\"#519ccc\",\"#5ba3d0\",\"#65aad4\",\"#72b2d8\",\"#7fb9da\",\"#8cc0dd\",\"#99c7e0\",\"#a5cde3\",\"#afd1e7\",\"#b9d6ea\",\"#c3daee\",\"#cbdef1\",\"#d1e2f3\",\"#d7e6f5\",\"#ddeaf7\",\"#e4eff9\",\"#eaf3fb\",\"#f1f7fd\"]},\"showlegend\":false,\"textposition\":\"outside\",\"texttemplate\":\"%{label}\",\"values\":[510,134,108,98,92,92,86,82,68,66,60,60,54,54,52,52,50,50,50,50,48,48,48,44,42,42,42,42,42,42],\"type\":\"pie\"}],                        {\"template\":{\"data\":{\"histogram2dcontour\":[{\"type\":\"histogram2dcontour\",\"colorbar\":{\"outlinewidth\":0,\"ticks\":\"\"},\"colorscale\":[[0.0,\"#0d0887\"],[0.1111111111111111,\"#46039f\"],[0.2222222222222222,\"#7201a8\"],[0.3333333333333333,\"#9c179e\"],[0.4444444444444444,\"#bd3786\"],[0.5555555555555556,\"#d8576b\"],[0.6666666666666666,\"#ed7953\"],[0.7777777777777778,\"#fb9f3a\"],[0.8888888888888888,\"#fdca26\"],[1.0,\"#f0f921\"]]}],\"choropleth\":[{\"type\":\"choropleth\",\"colorbar\":{\"outlinewidth\":0,\"ticks\":\"\"}}],\"histogram2d\":[{\"type\":\"histogram2d\",\"colorbar\":{\"outlinewidth\":0,\"ticks\":\"\"},\"colorscale\":[[0.0,\"#0d0887\"],[0.1111111111111111,\"#46039f\"],[0.2222222222222222,\"#7201a8\"],[0.3333333333333333,\"#9c179e\"],[0.4444444444444444,\"#bd3786\"],[0.5555555555555556,\"#d8576b\"],[0.6666666666666666,\"#ed7953\"],[0.7777777777777778,\"#fb9f3a\"],[0.8888888888888888,\"#fdca26\"],[1.0,\"#f0f921\"]]}],\"heatmap\":[{\"type\":\"heatmap\",\"colorbar\":{\"outlinewidth\":0,\"ticks\":\"\"},\"colorscale\":[[0.0,\"#0d0887\"],[0.1111111111111111,\"#46039f\"],[0.2222222222222222,\"#7201a8\"],[0.3333333333333333,\"#9c179e\"],[0.4444444444444444,\"#bd3786\"],[0.5555555555555556,\"#d8576b\"],[0.6666666666666666,\"#ed7953\"],[0.7777777777777778,\"#fb9f3a\"],[0.8888888888888888,\"#fdca26\"],[1.0,\"#f0f921\"]]}],\"heatmapgl\":[{\"type\":\"heatmapgl\",\"colorbar\":{\"outlinewidth\":0,\"ticks\":\"\"},\"colorscale\":[[0.0,\"#0d0887\"],[0.1111111111111111,\"#46039f\"],[0.2222222222222222,\"#7201a8\"],[0.3333333333333333,\"#9c179e\"],[0.4444444444444444,\"#bd3786\"],[0.5555555555555556,\"#d8576b\"],[0.6666666666666666,\"#ed7953\"],[0.7777777777777778,\"#fb9f3a\"],[0.8888888888888888,\"#fdca26\"],[1.0,\"#f0f921\"]]}],\"contourcarpet\":[{\"type\":\"contourcarpet\",\"colorbar\":{\"outlinewidth\":0,\"ticks\":\"\"}}],\"contour\":[{\"type\":\"contour\",\"colorbar\":{\"outlinewidth\":0,\"ticks\":\"\"},\"colorscale\":[[0.0,\"#0d0887\"],[0.1111111111111111,\"#46039f\"],[0.2222222222222222,\"#7201a8\"],[0.3333333333333333,\"#9c179e\"],[0.4444444444444444,\"#bd3786\"],[0.5555555555555556,\"#d8576b\"],[0.6666666666666666,\"#ed7953\"],[0.7777777777777778,\"#fb9f3a\"],[0.8888888888888888,\"#fdca26\"],[1.0,\"#f0f921\"]]}],\"surface\":[{\"type\":\"surface\",\"colorbar\":{\"outlinewidth\":0,\"ticks\":\"\"},\"colorscale\":[[0.0,\"#0d0887\"],[0.1111111111111111,\"#46039f\"],[0.2222222222222222,\"#7201a8\"],[0.3333333333333333,\"#9c179e\"],[0.4444444444444444,\"#bd3786\"],[0.5555555555555556,\"#d8576b\"],[0.6666666666666666,\"#ed7953\"],[0.7777777777777778,\"#fb9f3a\"],[0.8888888888888888,\"#fdca26\"],[1.0,\"#f0f921\"]]}],\"mesh3d\":[{\"type\":\"mesh3d\",\"colorbar\":{\"outlinewidth\":0,\"ticks\":\"\"}}],\"scatter\":[{\"fillpattern\":{\"fillmode\":\"overlay\",\"size\":10,\"solidity\":0.2},\"type\":\"scatter\"}],\"parcoords\":[{\"type\":\"parcoords\",\"line\":{\"colorbar\":{\"outlinewidth\":0,\"ticks\":\"\"}}}],\"scatterpolargl\":[{\"type\":\"scatterpolargl\",\"marker\":{\"colorbar\":{\"outlinewidth\":0,\"ticks\":\"\"}}}],\"bar\":[{\"error_x\":{\"color\":\"#2a3f5f\"},\"error_y\":{\"color\":\"#2a3f5f\"},\"marker\":{\"line\":{\"color\":\"#E5ECF6\",\"width\":0.5},\"pattern\":{\"fillmode\":\"overlay\",\"size\":10,\"solidity\":0.2}},\"type\":\"bar\"}],\"scattergeo\":[{\"type\":\"scattergeo\",\"marker\":{\"colorbar\":{\"outlinewidth\":0,\"ticks\":\"\"}}}],\"scatterpolar\":[{\"type\":\"scatterpolar\",\"marker\":{\"colorbar\":{\"outlinewidth\":0,\"ticks\":\"\"}}}],\"histogram\":[{\"marker\":{\"pattern\":{\"fillmode\":\"overlay\",\"size\":10,\"solidity\":0.2}},\"type\":\"histogram\"}],\"scattergl\":[{\"type\":\"scattergl\",\"marker\":{\"colorbar\":{\"outlinewidth\":0,\"ticks\":\"\"}}}],\"scatter3d\":[{\"type\":\"scatter3d\",\"line\":{\"colorbar\":{\"outlinewidth\":0,\"ticks\":\"\"}},\"marker\":{\"colorbar\":{\"outlinewidth\":0,\"ticks\":\"\"}}}],\"scattermapbox\":[{\"type\":\"scattermapbox\",\"marker\":{\"colorbar\":{\"outlinewidth\":0,\"ticks\":\"\"}}}],\"scatterternary\":[{\"type\":\"scatterternary\",\"marker\":{\"colorbar\":{\"outlinewidth\":0,\"ticks\":\"\"}}}],\"scattercarpet\":[{\"type\":\"scattercarpet\",\"marker\":{\"colorbar\":{\"outlinewidth\":0,\"ticks\":\"\"}}}],\"carpet\":[{\"aaxis\":{\"endlinecolor\":\"#2a3f5f\",\"gridcolor\":\"white\",\"linecolor\":\"white\",\"minorgridcolor\":\"white\",\"startlinecolor\":\"#2a3f5f\"},\"baxis\":{\"endlinecolor\":\"#2a3f5f\",\"gridcolor\":\"white\",\"linecolor\":\"white\",\"minorgridcolor\":\"white\",\"startlinecolor\":\"#2a3f5f\"},\"type\":\"carpet\"}],\"table\":[{\"cells\":{\"fill\":{\"color\":\"#EBF0F8\"},\"line\":{\"color\":\"white\"}},\"header\":{\"fill\":{\"color\":\"#C8D4E3\"},\"line\":{\"color\":\"white\"}},\"type\":\"table\"}],\"barpolar\":[{\"marker\":{\"line\":{\"color\":\"#E5ECF6\",\"width\":0.5},\"pattern\":{\"fillmode\":\"overlay\",\"size\":10,\"solidity\":0.2}},\"type\":\"barpolar\"}],\"pie\":[{\"automargin\":true,\"type\":\"pie\"}]},\"layout\":{\"autotypenumbers\":\"strict\",\"colorway\":[\"#636efa\",\"#EF553B\",\"#00cc96\",\"#ab63fa\",\"#FFA15A\",\"#19d3f3\",\"#FF6692\",\"#B6E880\",\"#FF97FF\",\"#FECB52\"],\"font\":{\"color\":\"#2a3f5f\"},\"hovermode\":\"closest\",\"hoverlabel\":{\"align\":\"left\"},\"paper_bgcolor\":\"white\",\"plot_bgcolor\":\"#E5ECF6\",\"polar\":{\"bgcolor\":\"#E5ECF6\",\"angularaxis\":{\"gridcolor\":\"white\",\"linecolor\":\"white\",\"ticks\":\"\"},\"radialaxis\":{\"gridcolor\":\"white\",\"linecolor\":\"white\",\"ticks\":\"\"}},\"ternary\":{\"bgcolor\":\"#E5ECF6\",\"aaxis\":{\"gridcolor\":\"white\",\"linecolor\":\"white\",\"ticks\":\"\"},\"baxis\":{\"gridcolor\":\"white\",\"linecolor\":\"white\",\"ticks\":\"\"},\"caxis\":{\"gridcolor\":\"white\",\"linecolor\":\"white\",\"ticks\":\"\"}},\"coloraxis\":{\"colorbar\":{\"outlinewidth\":0,\"ticks\":\"\"}},\"colorscale\":{\"sequential\":[[0.0,\"#0d0887\"],[0.1111111111111111,\"#46039f\"],[0.2222222222222222,\"#7201a8\"],[0.3333333333333333,\"#9c179e\"],[0.4444444444444444,\"#bd3786\"],[0.5555555555555556,\"#d8576b\"],[0.6666666666666666,\"#ed7953\"],[0.7777777777777778,\"#fb9f3a\"],[0.8888888888888888,\"#fdca26\"],[1.0,\"#f0f921\"]],\"sequentialminus\":[[0.0,\"#0d0887\"],[0.1111111111111111,\"#46039f\"],[0.2222222222222222,\"#7201a8\"],[0.3333333333333333,\"#9c179e\"],[0.4444444444444444,\"#bd3786\"],[0.5555555555555556,\"#d8576b\"],[0.6666666666666666,\"#ed7953\"],[0.7777777777777778,\"#fb9f3a\"],[0.8888888888888888,\"#fdca26\"],[1.0,\"#f0f921\"]],\"diverging\":[[0,\"#8e0152\"],[0.1,\"#c51b7d\"],[0.2,\"#de77ae\"],[0.3,\"#f1b6da\"],[0.4,\"#fde0ef\"],[0.5,\"#f7f7f7\"],[0.6,\"#e6f5d0\"],[0.7,\"#b8e186\"],[0.8,\"#7fbc41\"],[0.9,\"#4d9221\"],[1,\"#276419\"]]},\"xaxis\":{\"gridcolor\":\"white\",\"linecolor\":\"white\",\"ticks\":\"\",\"title\":{\"standoff\":15},\"zerolinecolor\":\"white\",\"automargin\":true,\"zerolinewidth\":2},\"yaxis\":{\"gridcolor\":\"white\",\"linecolor\":\"white\",\"ticks\":\"\",\"title\":{\"standoff\":15},\"zerolinecolor\":\"white\",\"automargin\":true,\"zerolinewidth\":2},\"scene\":{\"xaxis\":{\"backgroundcolor\":\"#E5ECF6\",\"gridcolor\":\"white\",\"linecolor\":\"white\",\"showbackground\":true,\"ticks\":\"\",\"zerolinecolor\":\"white\",\"gridwidth\":2},\"yaxis\":{\"backgroundcolor\":\"#E5ECF6\",\"gridcolor\":\"white\",\"linecolor\":\"white\",\"showbackground\":true,\"ticks\":\"\",\"zerolinecolor\":\"white\",\"gridwidth\":2},\"zaxis\":{\"backgroundcolor\":\"#E5ECF6\",\"gridcolor\":\"white\",\"linecolor\":\"white\",\"showbackground\":true,\"ticks\":\"\",\"zerolinecolor\":\"white\",\"gridwidth\":2}},\"shapedefaults\":{\"line\":{\"color\":\"#2a3f5f\"}},\"annotationdefaults\":{\"arrowcolor\":\"#2a3f5f\",\"arrowhead\":0,\"arrowwidth\":1},\"geo\":{\"bgcolor\":\"white\",\"landcolor\":\"#E5ECF6\",\"subunitcolor\":\"white\",\"showland\":true,\"showlakes\":true,\"lakecolor\":\"white\"},\"title\":{\"x\":0.05},\"mapbox\":{\"style\":\"light\"}}},\"title\":{\"pad\":{\"r\":10,\"t\":10,\"b\":80},\"font\":{\"size\":24},\"text\":\"Top 20 words describing<br>data analysis responsibilities\",\"x\":0.5,\"y\":0.96,\"xanchor\":\"center\",\"yanchor\":\"top\"},\"margin\":{\"t\":130},\"font\":{\"size\":16,\"color\":\"white\"},\"width\":600,\"height\":600,\"plot_bgcolor\":\"#272b2e\",\"paper_bgcolor\":\"#272b2e\"},                        {\"responsive\": true}                    ).then(function(){\n",
       "                            \n",
       "var gd = document.getElementById('ff15151a-a795-4e3c-b2d6-154f27048440');\n",
       "var x = new MutationObserver(function (mutations, observer) {{\n",
       "        var display = window.getComputedStyle(gd).display;\n",
       "        if (!display || display === 'none') {{\n",
       "            console.log([gd, 'removed!']);\n",
       "            Plotly.purge(gd);\n",
       "            observer.disconnect();\n",
       "        }}\n",
       "}});\n",
       "\n",
       "// Listen for the removal of the full notebook cells\n",
       "var notebookContainer = gd.closest('#notebook-container');\n",
       "if (notebookContainer) {{\n",
       "    x.observe(notebookContainer, {childList: true});\n",
       "}}\n",
       "\n",
       "// Listen for the clearing of the current output cell\n",
       "var outputEl = gd.closest('.output');\n",
       "if (outputEl) {{\n",
       "    x.observe(outputEl, {childList: true});\n",
       "}}\n",
       "\n",
       "                        })                };                });            </script>        </div>"
      ]
     },
     "metadata": {},
     "output_type": "display_data"
    }
   ],
   "source": [
    "# create unique list of job types for dropdown menu\n",
    "job_types = df_word_count_res['job_type'].unique().tolist()\n",
    "\n",
    "from plotly.subplots import make_subplots\n",
    "pal = list(sns.color_palette(palette='Blues_r', n_colors=30).as_hex())\n",
    "\n",
    "# add the pie chart to the figure\n",
    "fig = go.Figure(go.Pie(labels=df_word_count_res[df_word_count_res['job_type'] == job_types[0]]['word'],\n",
    "                     values=df_word_count_res[df_word_count_res['job_type'] == job_types[0]]['frequency'],\n",
    "                     textposition='outside', \n",
    "                     hole=.4,\n",
    "                     insidetextorientation='auto',\n",
    "                     hovertemplate='percent=%{percent:.0%}<br>frequency=%{value}',\n",
    "                     marker=dict(colors=pal),\n",
    "                     showlegend=False,\n",
    "                     #title='Data Analysis',\n",
    "                     texttemplate=\"%{label}\"))\n",
    "\n",
    "# set the layout options for the entire figure\n",
    "fig.update_layout(\n",
    "    title={\n",
    "        'text': f\"Top 20 words describing<br>data analysis responsibilities\",\n",
    "        'x': 0.50,\n",
    "        'y': 0.96,\n",
    "        'xanchor': 'center',\n",
    "        'yanchor': 'top',\n",
    "        'pad': {'r': 10, 't': 10, 'b':80},\n",
    "        'font': {'size': 24}\n",
    "    },\n",
    "    width=600,\n",
    "    height=600,\n",
    "    margin=dict(t=130),\n",
    "    plot_bgcolor = \"#272b2e\",\n",
    "    paper_bgcolor = \"#272b2e\",\n",
    "    font=dict(size = 16, color = 'white')\n",
    ")\n",
    "\n",
    "fig.show()\n",
    "fig.write_html('../images/donut_chart1.html')\n"
   ]
  },
  {
   "cell_type": "code",
   "execution_count": 206,
   "metadata": {},
   "outputs": [
    {
     "data": {
      "application/vnd.plotly.v1+json": {
       "config": {
        "plotlyServerURL": "https://plot.ly"
       },
       "data": [
        {
         "hole": 0.4,
         "hovertemplate": "percent=%{percent:.0%}<br>frequency=%{value}",
         "insidetextorientation": "auto",
         "labels": [
          "data",
          "business",
          "analysis",
          "develop",
          "team",
          "development",
          "work",
          "support",
          "analytics",
          "models",
          "learning",
          "solutions",
          "machine",
          "science",
          "techniques",
          "statistical",
          "provide",
          "tools",
          "new",
          "algorithms",
          "predictive",
          "complex",
          "using",
          "projects",
          "product",
          "modeling",
          "insights",
          "technical",
          "information",
          "design"
         ],
         "marker": {
          "colors": [
           "#083877",
           "#084184",
           "#084990",
           "#09529d",
           "#0f5aa3",
           "#1562a9",
           "#1c6ab0",
           "#2373b6",
           "#2c7cba",
           "#3484bf",
           "#3c8cc3",
           "#4695c8",
           "#519ccc",
           "#5ba3d0",
           "#65aad4",
           "#72b2d8",
           "#7fb9da",
           "#8cc0dd",
           "#99c7e0",
           "#a5cde3",
           "#afd1e7",
           "#b9d6ea",
           "#c3daee",
           "#cbdef1",
           "#d1e2f3",
           "#d7e6f5",
           "#ddeaf7",
           "#e4eff9",
           "#eaf3fb",
           "#f1f7fd"
          ]
         },
         "showlegend": false,
         "textposition": "outside",
         "texttemplate": "%{label}",
         "type": "pie",
         "values": [
          482,
          140,
          110,
          89,
          84,
          79,
          77,
          75,
          73,
          73,
          71,
          66,
          64,
          63,
          61,
          57,
          55,
          53,
          52,
          49,
          48,
          44,
          42,
          42,
          42,
          41,
          41,
          39,
          39,
          38
         ]
        }
       ],
       "layout": {
        "font": {
         "color": "white",
         "size": 16
        },
        "height": 600,
        "margin": {
         "t": 130
        },
        "paper_bgcolor": "#272b2e",
        "plot_bgcolor": "#272b2e",
        "template": {
         "data": {
          "bar": [
           {
            "error_x": {
             "color": "#2a3f5f"
            },
            "error_y": {
             "color": "#2a3f5f"
            },
            "marker": {
             "line": {
              "color": "#E5ECF6",
              "width": 0.5
             },
             "pattern": {
              "fillmode": "overlay",
              "size": 10,
              "solidity": 0.2
             }
            },
            "type": "bar"
           }
          ],
          "barpolar": [
           {
            "marker": {
             "line": {
              "color": "#E5ECF6",
              "width": 0.5
             },
             "pattern": {
              "fillmode": "overlay",
              "size": 10,
              "solidity": 0.2
             }
            },
            "type": "barpolar"
           }
          ],
          "carpet": [
           {
            "aaxis": {
             "endlinecolor": "#2a3f5f",
             "gridcolor": "white",
             "linecolor": "white",
             "minorgridcolor": "white",
             "startlinecolor": "#2a3f5f"
            },
            "baxis": {
             "endlinecolor": "#2a3f5f",
             "gridcolor": "white",
             "linecolor": "white",
             "minorgridcolor": "white",
             "startlinecolor": "#2a3f5f"
            },
            "type": "carpet"
           }
          ],
          "choropleth": [
           {
            "colorbar": {
             "outlinewidth": 0,
             "ticks": ""
            },
            "type": "choropleth"
           }
          ],
          "contour": [
           {
            "colorbar": {
             "outlinewidth": 0,
             "ticks": ""
            },
            "colorscale": [
             [
              0,
              "#0d0887"
             ],
             [
              0.1111111111111111,
              "#46039f"
             ],
             [
              0.2222222222222222,
              "#7201a8"
             ],
             [
              0.3333333333333333,
              "#9c179e"
             ],
             [
              0.4444444444444444,
              "#bd3786"
             ],
             [
              0.5555555555555556,
              "#d8576b"
             ],
             [
              0.6666666666666666,
              "#ed7953"
             ],
             [
              0.7777777777777778,
              "#fb9f3a"
             ],
             [
              0.8888888888888888,
              "#fdca26"
             ],
             [
              1,
              "#f0f921"
             ]
            ],
            "type": "contour"
           }
          ],
          "contourcarpet": [
           {
            "colorbar": {
             "outlinewidth": 0,
             "ticks": ""
            },
            "type": "contourcarpet"
           }
          ],
          "heatmap": [
           {
            "colorbar": {
             "outlinewidth": 0,
             "ticks": ""
            },
            "colorscale": [
             [
              0,
              "#0d0887"
             ],
             [
              0.1111111111111111,
              "#46039f"
             ],
             [
              0.2222222222222222,
              "#7201a8"
             ],
             [
              0.3333333333333333,
              "#9c179e"
             ],
             [
              0.4444444444444444,
              "#bd3786"
             ],
             [
              0.5555555555555556,
              "#d8576b"
             ],
             [
              0.6666666666666666,
              "#ed7953"
             ],
             [
              0.7777777777777778,
              "#fb9f3a"
             ],
             [
              0.8888888888888888,
              "#fdca26"
             ],
             [
              1,
              "#f0f921"
             ]
            ],
            "type": "heatmap"
           }
          ],
          "heatmapgl": [
           {
            "colorbar": {
             "outlinewidth": 0,
             "ticks": ""
            },
            "colorscale": [
             [
              0,
              "#0d0887"
             ],
             [
              0.1111111111111111,
              "#46039f"
             ],
             [
              0.2222222222222222,
              "#7201a8"
             ],
             [
              0.3333333333333333,
              "#9c179e"
             ],
             [
              0.4444444444444444,
              "#bd3786"
             ],
             [
              0.5555555555555556,
              "#d8576b"
             ],
             [
              0.6666666666666666,
              "#ed7953"
             ],
             [
              0.7777777777777778,
              "#fb9f3a"
             ],
             [
              0.8888888888888888,
              "#fdca26"
             ],
             [
              1,
              "#f0f921"
             ]
            ],
            "type": "heatmapgl"
           }
          ],
          "histogram": [
           {
            "marker": {
             "pattern": {
              "fillmode": "overlay",
              "size": 10,
              "solidity": 0.2
             }
            },
            "type": "histogram"
           }
          ],
          "histogram2d": [
           {
            "colorbar": {
             "outlinewidth": 0,
             "ticks": ""
            },
            "colorscale": [
             [
              0,
              "#0d0887"
             ],
             [
              0.1111111111111111,
              "#46039f"
             ],
             [
              0.2222222222222222,
              "#7201a8"
             ],
             [
              0.3333333333333333,
              "#9c179e"
             ],
             [
              0.4444444444444444,
              "#bd3786"
             ],
             [
              0.5555555555555556,
              "#d8576b"
             ],
             [
              0.6666666666666666,
              "#ed7953"
             ],
             [
              0.7777777777777778,
              "#fb9f3a"
             ],
             [
              0.8888888888888888,
              "#fdca26"
             ],
             [
              1,
              "#f0f921"
             ]
            ],
            "type": "histogram2d"
           }
          ],
          "histogram2dcontour": [
           {
            "colorbar": {
             "outlinewidth": 0,
             "ticks": ""
            },
            "colorscale": [
             [
              0,
              "#0d0887"
             ],
             [
              0.1111111111111111,
              "#46039f"
             ],
             [
              0.2222222222222222,
              "#7201a8"
             ],
             [
              0.3333333333333333,
              "#9c179e"
             ],
             [
              0.4444444444444444,
              "#bd3786"
             ],
             [
              0.5555555555555556,
              "#d8576b"
             ],
             [
              0.6666666666666666,
              "#ed7953"
             ],
             [
              0.7777777777777778,
              "#fb9f3a"
             ],
             [
              0.8888888888888888,
              "#fdca26"
             ],
             [
              1,
              "#f0f921"
             ]
            ],
            "type": "histogram2dcontour"
           }
          ],
          "mesh3d": [
           {
            "colorbar": {
             "outlinewidth": 0,
             "ticks": ""
            },
            "type": "mesh3d"
           }
          ],
          "parcoords": [
           {
            "line": {
             "colorbar": {
              "outlinewidth": 0,
              "ticks": ""
             }
            },
            "type": "parcoords"
           }
          ],
          "pie": [
           {
            "automargin": true,
            "type": "pie"
           }
          ],
          "scatter": [
           {
            "fillpattern": {
             "fillmode": "overlay",
             "size": 10,
             "solidity": 0.2
            },
            "type": "scatter"
           }
          ],
          "scatter3d": [
           {
            "line": {
             "colorbar": {
              "outlinewidth": 0,
              "ticks": ""
             }
            },
            "marker": {
             "colorbar": {
              "outlinewidth": 0,
              "ticks": ""
             }
            },
            "type": "scatter3d"
           }
          ],
          "scattercarpet": [
           {
            "marker": {
             "colorbar": {
              "outlinewidth": 0,
              "ticks": ""
             }
            },
            "type": "scattercarpet"
           }
          ],
          "scattergeo": [
           {
            "marker": {
             "colorbar": {
              "outlinewidth": 0,
              "ticks": ""
             }
            },
            "type": "scattergeo"
           }
          ],
          "scattergl": [
           {
            "marker": {
             "colorbar": {
              "outlinewidth": 0,
              "ticks": ""
             }
            },
            "type": "scattergl"
           }
          ],
          "scattermapbox": [
           {
            "marker": {
             "colorbar": {
              "outlinewidth": 0,
              "ticks": ""
             }
            },
            "type": "scattermapbox"
           }
          ],
          "scatterpolar": [
           {
            "marker": {
             "colorbar": {
              "outlinewidth": 0,
              "ticks": ""
             }
            },
            "type": "scatterpolar"
           }
          ],
          "scatterpolargl": [
           {
            "marker": {
             "colorbar": {
              "outlinewidth": 0,
              "ticks": ""
             }
            },
            "type": "scatterpolargl"
           }
          ],
          "scatterternary": [
           {
            "marker": {
             "colorbar": {
              "outlinewidth": 0,
              "ticks": ""
             }
            },
            "type": "scatterternary"
           }
          ],
          "surface": [
           {
            "colorbar": {
             "outlinewidth": 0,
             "ticks": ""
            },
            "colorscale": [
             [
              0,
              "#0d0887"
             ],
             [
              0.1111111111111111,
              "#46039f"
             ],
             [
              0.2222222222222222,
              "#7201a8"
             ],
             [
              0.3333333333333333,
              "#9c179e"
             ],
             [
              0.4444444444444444,
              "#bd3786"
             ],
             [
              0.5555555555555556,
              "#d8576b"
             ],
             [
              0.6666666666666666,
              "#ed7953"
             ],
             [
              0.7777777777777778,
              "#fb9f3a"
             ],
             [
              0.8888888888888888,
              "#fdca26"
             ],
             [
              1,
              "#f0f921"
             ]
            ],
            "type": "surface"
           }
          ],
          "table": [
           {
            "cells": {
             "fill": {
              "color": "#EBF0F8"
             },
             "line": {
              "color": "white"
             }
            },
            "header": {
             "fill": {
              "color": "#C8D4E3"
             },
             "line": {
              "color": "white"
             }
            },
            "type": "table"
           }
          ]
         },
         "layout": {
          "annotationdefaults": {
           "arrowcolor": "#2a3f5f",
           "arrowhead": 0,
           "arrowwidth": 1
          },
          "autotypenumbers": "strict",
          "coloraxis": {
           "colorbar": {
            "outlinewidth": 0,
            "ticks": ""
           }
          },
          "colorscale": {
           "diverging": [
            [
             0,
             "#8e0152"
            ],
            [
             0.1,
             "#c51b7d"
            ],
            [
             0.2,
             "#de77ae"
            ],
            [
             0.3,
             "#f1b6da"
            ],
            [
             0.4,
             "#fde0ef"
            ],
            [
             0.5,
             "#f7f7f7"
            ],
            [
             0.6,
             "#e6f5d0"
            ],
            [
             0.7,
             "#b8e186"
            ],
            [
             0.8,
             "#7fbc41"
            ],
            [
             0.9,
             "#4d9221"
            ],
            [
             1,
             "#276419"
            ]
           ],
           "sequential": [
            [
             0,
             "#0d0887"
            ],
            [
             0.1111111111111111,
             "#46039f"
            ],
            [
             0.2222222222222222,
             "#7201a8"
            ],
            [
             0.3333333333333333,
             "#9c179e"
            ],
            [
             0.4444444444444444,
             "#bd3786"
            ],
            [
             0.5555555555555556,
             "#d8576b"
            ],
            [
             0.6666666666666666,
             "#ed7953"
            ],
            [
             0.7777777777777778,
             "#fb9f3a"
            ],
            [
             0.8888888888888888,
             "#fdca26"
            ],
            [
             1,
             "#f0f921"
            ]
           ],
           "sequentialminus": [
            [
             0,
             "#0d0887"
            ],
            [
             0.1111111111111111,
             "#46039f"
            ],
            [
             0.2222222222222222,
             "#7201a8"
            ],
            [
             0.3333333333333333,
             "#9c179e"
            ],
            [
             0.4444444444444444,
             "#bd3786"
            ],
            [
             0.5555555555555556,
             "#d8576b"
            ],
            [
             0.6666666666666666,
             "#ed7953"
            ],
            [
             0.7777777777777778,
             "#fb9f3a"
            ],
            [
             0.8888888888888888,
             "#fdca26"
            ],
            [
             1,
             "#f0f921"
            ]
           ]
          },
          "colorway": [
           "#636efa",
           "#EF553B",
           "#00cc96",
           "#ab63fa",
           "#FFA15A",
           "#19d3f3",
           "#FF6692",
           "#B6E880",
           "#FF97FF",
           "#FECB52"
          ],
          "font": {
           "color": "#2a3f5f"
          },
          "geo": {
           "bgcolor": "white",
           "lakecolor": "white",
           "landcolor": "#E5ECF6",
           "showlakes": true,
           "showland": true,
           "subunitcolor": "white"
          },
          "hoverlabel": {
           "align": "left"
          },
          "hovermode": "closest",
          "mapbox": {
           "style": "light"
          },
          "paper_bgcolor": "white",
          "plot_bgcolor": "#E5ECF6",
          "polar": {
           "angularaxis": {
            "gridcolor": "white",
            "linecolor": "white",
            "ticks": ""
           },
           "bgcolor": "#E5ECF6",
           "radialaxis": {
            "gridcolor": "white",
            "linecolor": "white",
            "ticks": ""
           }
          },
          "scene": {
           "xaxis": {
            "backgroundcolor": "#E5ECF6",
            "gridcolor": "white",
            "gridwidth": 2,
            "linecolor": "white",
            "showbackground": true,
            "ticks": "",
            "zerolinecolor": "white"
           },
           "yaxis": {
            "backgroundcolor": "#E5ECF6",
            "gridcolor": "white",
            "gridwidth": 2,
            "linecolor": "white",
            "showbackground": true,
            "ticks": "",
            "zerolinecolor": "white"
           },
           "zaxis": {
            "backgroundcolor": "#E5ECF6",
            "gridcolor": "white",
            "gridwidth": 2,
            "linecolor": "white",
            "showbackground": true,
            "ticks": "",
            "zerolinecolor": "white"
           }
          },
          "shapedefaults": {
           "line": {
            "color": "#2a3f5f"
           }
          },
          "ternary": {
           "aaxis": {
            "gridcolor": "white",
            "linecolor": "white",
            "ticks": ""
           },
           "baxis": {
            "gridcolor": "white",
            "linecolor": "white",
            "ticks": ""
           },
           "bgcolor": "#E5ECF6",
           "caxis": {
            "gridcolor": "white",
            "linecolor": "white",
            "ticks": ""
           }
          },
          "title": {
           "x": 0.05
          },
          "xaxis": {
           "automargin": true,
           "gridcolor": "white",
           "linecolor": "white",
           "ticks": "",
           "title": {
            "standoff": 15
           },
           "zerolinecolor": "white",
           "zerolinewidth": 2
          },
          "yaxis": {
           "automargin": true,
           "gridcolor": "white",
           "linecolor": "white",
           "ticks": "",
           "title": {
            "standoff": 15
           },
           "zerolinecolor": "white",
           "zerolinewidth": 2
          }
         }
        },
        "title": {
         "font": {
          "size": 24
         },
         "pad": {
          "b": 80,
          "r": 10,
          "t": 10
         },
         "text": "Top 20 words describing<br>data science responsibilities",
         "x": 0.5,
         "xanchor": "center",
         "y": 0.96,
         "yanchor": "top"
        },
        "width": 600
       }
      },
      "text/html": [
       "<div>                            <div id=\"362fcd85-cffd-45fb-befe-96159b2ad469\" class=\"plotly-graph-div\" style=\"height:600px; width:600px;\"></div>            <script type=\"text/javascript\">                require([\"plotly\"], function(Plotly) {                    window.PLOTLYENV=window.PLOTLYENV || {};                                    if (document.getElementById(\"362fcd85-cffd-45fb-befe-96159b2ad469\")) {                    Plotly.newPlot(                        \"362fcd85-cffd-45fb-befe-96159b2ad469\",                        [{\"hole\":0.4,\"hovertemplate\":\"percent=%{percent:.0%}<br>frequency=%{value}\",\"insidetextorientation\":\"auto\",\"labels\":[\"data\",\"business\",\"analysis\",\"develop\",\"team\",\"development\",\"work\",\"support\",\"analytics\",\"models\",\"learning\",\"solutions\",\"machine\",\"science\",\"techniques\",\"statistical\",\"provide\",\"tools\",\"new\",\"algorithms\",\"predictive\",\"complex\",\"using\",\"projects\",\"product\",\"modeling\",\"insights\",\"technical\",\"information\",\"design\"],\"marker\":{\"colors\":[\"#083877\",\"#084184\",\"#084990\",\"#09529d\",\"#0f5aa3\",\"#1562a9\",\"#1c6ab0\",\"#2373b6\",\"#2c7cba\",\"#3484bf\",\"#3c8cc3\",\"#4695c8\",\"#519ccc\",\"#5ba3d0\",\"#65aad4\",\"#72b2d8\",\"#7fb9da\",\"#8cc0dd\",\"#99c7e0\",\"#a5cde3\",\"#afd1e7\",\"#b9d6ea\",\"#c3daee\",\"#cbdef1\",\"#d1e2f3\",\"#d7e6f5\",\"#ddeaf7\",\"#e4eff9\",\"#eaf3fb\",\"#f1f7fd\"]},\"showlegend\":false,\"textposition\":\"outside\",\"texttemplate\":\"%{label}\",\"values\":[482,140,110,89,84,79,77,75,73,73,71,66,64,63,61,57,55,53,52,49,48,44,42,42,42,41,41,39,39,38],\"type\":\"pie\"}],                        {\"template\":{\"data\":{\"histogram2dcontour\":[{\"type\":\"histogram2dcontour\",\"colorbar\":{\"outlinewidth\":0,\"ticks\":\"\"},\"colorscale\":[[0.0,\"#0d0887\"],[0.1111111111111111,\"#46039f\"],[0.2222222222222222,\"#7201a8\"],[0.3333333333333333,\"#9c179e\"],[0.4444444444444444,\"#bd3786\"],[0.5555555555555556,\"#d8576b\"],[0.6666666666666666,\"#ed7953\"],[0.7777777777777778,\"#fb9f3a\"],[0.8888888888888888,\"#fdca26\"],[1.0,\"#f0f921\"]]}],\"choropleth\":[{\"type\":\"choropleth\",\"colorbar\":{\"outlinewidth\":0,\"ticks\":\"\"}}],\"histogram2d\":[{\"type\":\"histogram2d\",\"colorbar\":{\"outlinewidth\":0,\"ticks\":\"\"},\"colorscale\":[[0.0,\"#0d0887\"],[0.1111111111111111,\"#46039f\"],[0.2222222222222222,\"#7201a8\"],[0.3333333333333333,\"#9c179e\"],[0.4444444444444444,\"#bd3786\"],[0.5555555555555556,\"#d8576b\"],[0.6666666666666666,\"#ed7953\"],[0.7777777777777778,\"#fb9f3a\"],[0.8888888888888888,\"#fdca26\"],[1.0,\"#f0f921\"]]}],\"heatmap\":[{\"type\":\"heatmap\",\"colorbar\":{\"outlinewidth\":0,\"ticks\":\"\"},\"colorscale\":[[0.0,\"#0d0887\"],[0.1111111111111111,\"#46039f\"],[0.2222222222222222,\"#7201a8\"],[0.3333333333333333,\"#9c179e\"],[0.4444444444444444,\"#bd3786\"],[0.5555555555555556,\"#d8576b\"],[0.6666666666666666,\"#ed7953\"],[0.7777777777777778,\"#fb9f3a\"],[0.8888888888888888,\"#fdca26\"],[1.0,\"#f0f921\"]]}],\"heatmapgl\":[{\"type\":\"heatmapgl\",\"colorbar\":{\"outlinewidth\":0,\"ticks\":\"\"},\"colorscale\":[[0.0,\"#0d0887\"],[0.1111111111111111,\"#46039f\"],[0.2222222222222222,\"#7201a8\"],[0.3333333333333333,\"#9c179e\"],[0.4444444444444444,\"#bd3786\"],[0.5555555555555556,\"#d8576b\"],[0.6666666666666666,\"#ed7953\"],[0.7777777777777778,\"#fb9f3a\"],[0.8888888888888888,\"#fdca26\"],[1.0,\"#f0f921\"]]}],\"contourcarpet\":[{\"type\":\"contourcarpet\",\"colorbar\":{\"outlinewidth\":0,\"ticks\":\"\"}}],\"contour\":[{\"type\":\"contour\",\"colorbar\":{\"outlinewidth\":0,\"ticks\":\"\"},\"colorscale\":[[0.0,\"#0d0887\"],[0.1111111111111111,\"#46039f\"],[0.2222222222222222,\"#7201a8\"],[0.3333333333333333,\"#9c179e\"],[0.4444444444444444,\"#bd3786\"],[0.5555555555555556,\"#d8576b\"],[0.6666666666666666,\"#ed7953\"],[0.7777777777777778,\"#fb9f3a\"],[0.8888888888888888,\"#fdca26\"],[1.0,\"#f0f921\"]]}],\"surface\":[{\"type\":\"surface\",\"colorbar\":{\"outlinewidth\":0,\"ticks\":\"\"},\"colorscale\":[[0.0,\"#0d0887\"],[0.1111111111111111,\"#46039f\"],[0.2222222222222222,\"#7201a8\"],[0.3333333333333333,\"#9c179e\"],[0.4444444444444444,\"#bd3786\"],[0.5555555555555556,\"#d8576b\"],[0.6666666666666666,\"#ed7953\"],[0.7777777777777778,\"#fb9f3a\"],[0.8888888888888888,\"#fdca26\"],[1.0,\"#f0f921\"]]}],\"mesh3d\":[{\"type\":\"mesh3d\",\"colorbar\":{\"outlinewidth\":0,\"ticks\":\"\"}}],\"scatter\":[{\"fillpattern\":{\"fillmode\":\"overlay\",\"size\":10,\"solidity\":0.2},\"type\":\"scatter\"}],\"parcoords\":[{\"type\":\"parcoords\",\"line\":{\"colorbar\":{\"outlinewidth\":0,\"ticks\":\"\"}}}],\"scatterpolargl\":[{\"type\":\"scatterpolargl\",\"marker\":{\"colorbar\":{\"outlinewidth\":0,\"ticks\":\"\"}}}],\"bar\":[{\"error_x\":{\"color\":\"#2a3f5f\"},\"error_y\":{\"color\":\"#2a3f5f\"},\"marker\":{\"line\":{\"color\":\"#E5ECF6\",\"width\":0.5},\"pattern\":{\"fillmode\":\"overlay\",\"size\":10,\"solidity\":0.2}},\"type\":\"bar\"}],\"scattergeo\":[{\"type\":\"scattergeo\",\"marker\":{\"colorbar\":{\"outlinewidth\":0,\"ticks\":\"\"}}}],\"scatterpolar\":[{\"type\":\"scatterpolar\",\"marker\":{\"colorbar\":{\"outlinewidth\":0,\"ticks\":\"\"}}}],\"histogram\":[{\"marker\":{\"pattern\":{\"fillmode\":\"overlay\",\"size\":10,\"solidity\":0.2}},\"type\":\"histogram\"}],\"scattergl\":[{\"type\":\"scattergl\",\"marker\":{\"colorbar\":{\"outlinewidth\":0,\"ticks\":\"\"}}}],\"scatter3d\":[{\"type\":\"scatter3d\",\"line\":{\"colorbar\":{\"outlinewidth\":0,\"ticks\":\"\"}},\"marker\":{\"colorbar\":{\"outlinewidth\":0,\"ticks\":\"\"}}}],\"scattermapbox\":[{\"type\":\"scattermapbox\",\"marker\":{\"colorbar\":{\"outlinewidth\":0,\"ticks\":\"\"}}}],\"scatterternary\":[{\"type\":\"scatterternary\",\"marker\":{\"colorbar\":{\"outlinewidth\":0,\"ticks\":\"\"}}}],\"scattercarpet\":[{\"type\":\"scattercarpet\",\"marker\":{\"colorbar\":{\"outlinewidth\":0,\"ticks\":\"\"}}}],\"carpet\":[{\"aaxis\":{\"endlinecolor\":\"#2a3f5f\",\"gridcolor\":\"white\",\"linecolor\":\"white\",\"minorgridcolor\":\"white\",\"startlinecolor\":\"#2a3f5f\"},\"baxis\":{\"endlinecolor\":\"#2a3f5f\",\"gridcolor\":\"white\",\"linecolor\":\"white\",\"minorgridcolor\":\"white\",\"startlinecolor\":\"#2a3f5f\"},\"type\":\"carpet\"}],\"table\":[{\"cells\":{\"fill\":{\"color\":\"#EBF0F8\"},\"line\":{\"color\":\"white\"}},\"header\":{\"fill\":{\"color\":\"#C8D4E3\"},\"line\":{\"color\":\"white\"}},\"type\":\"table\"}],\"barpolar\":[{\"marker\":{\"line\":{\"color\":\"#E5ECF6\",\"width\":0.5},\"pattern\":{\"fillmode\":\"overlay\",\"size\":10,\"solidity\":0.2}},\"type\":\"barpolar\"}],\"pie\":[{\"automargin\":true,\"type\":\"pie\"}]},\"layout\":{\"autotypenumbers\":\"strict\",\"colorway\":[\"#636efa\",\"#EF553B\",\"#00cc96\",\"#ab63fa\",\"#FFA15A\",\"#19d3f3\",\"#FF6692\",\"#B6E880\",\"#FF97FF\",\"#FECB52\"],\"font\":{\"color\":\"#2a3f5f\"},\"hovermode\":\"closest\",\"hoverlabel\":{\"align\":\"left\"},\"paper_bgcolor\":\"white\",\"plot_bgcolor\":\"#E5ECF6\",\"polar\":{\"bgcolor\":\"#E5ECF6\",\"angularaxis\":{\"gridcolor\":\"white\",\"linecolor\":\"white\",\"ticks\":\"\"},\"radialaxis\":{\"gridcolor\":\"white\",\"linecolor\":\"white\",\"ticks\":\"\"}},\"ternary\":{\"bgcolor\":\"#E5ECF6\",\"aaxis\":{\"gridcolor\":\"white\",\"linecolor\":\"white\",\"ticks\":\"\"},\"baxis\":{\"gridcolor\":\"white\",\"linecolor\":\"white\",\"ticks\":\"\"},\"caxis\":{\"gridcolor\":\"white\",\"linecolor\":\"white\",\"ticks\":\"\"}},\"coloraxis\":{\"colorbar\":{\"outlinewidth\":0,\"ticks\":\"\"}},\"colorscale\":{\"sequential\":[[0.0,\"#0d0887\"],[0.1111111111111111,\"#46039f\"],[0.2222222222222222,\"#7201a8\"],[0.3333333333333333,\"#9c179e\"],[0.4444444444444444,\"#bd3786\"],[0.5555555555555556,\"#d8576b\"],[0.6666666666666666,\"#ed7953\"],[0.7777777777777778,\"#fb9f3a\"],[0.8888888888888888,\"#fdca26\"],[1.0,\"#f0f921\"]],\"sequentialminus\":[[0.0,\"#0d0887\"],[0.1111111111111111,\"#46039f\"],[0.2222222222222222,\"#7201a8\"],[0.3333333333333333,\"#9c179e\"],[0.4444444444444444,\"#bd3786\"],[0.5555555555555556,\"#d8576b\"],[0.6666666666666666,\"#ed7953\"],[0.7777777777777778,\"#fb9f3a\"],[0.8888888888888888,\"#fdca26\"],[1.0,\"#f0f921\"]],\"diverging\":[[0,\"#8e0152\"],[0.1,\"#c51b7d\"],[0.2,\"#de77ae\"],[0.3,\"#f1b6da\"],[0.4,\"#fde0ef\"],[0.5,\"#f7f7f7\"],[0.6,\"#e6f5d0\"],[0.7,\"#b8e186\"],[0.8,\"#7fbc41\"],[0.9,\"#4d9221\"],[1,\"#276419\"]]},\"xaxis\":{\"gridcolor\":\"white\",\"linecolor\":\"white\",\"ticks\":\"\",\"title\":{\"standoff\":15},\"zerolinecolor\":\"white\",\"automargin\":true,\"zerolinewidth\":2},\"yaxis\":{\"gridcolor\":\"white\",\"linecolor\":\"white\",\"ticks\":\"\",\"title\":{\"standoff\":15},\"zerolinecolor\":\"white\",\"automargin\":true,\"zerolinewidth\":2},\"scene\":{\"xaxis\":{\"backgroundcolor\":\"#E5ECF6\",\"gridcolor\":\"white\",\"linecolor\":\"white\",\"showbackground\":true,\"ticks\":\"\",\"zerolinecolor\":\"white\",\"gridwidth\":2},\"yaxis\":{\"backgroundcolor\":\"#E5ECF6\",\"gridcolor\":\"white\",\"linecolor\":\"white\",\"showbackground\":true,\"ticks\":\"\",\"zerolinecolor\":\"white\",\"gridwidth\":2},\"zaxis\":{\"backgroundcolor\":\"#E5ECF6\",\"gridcolor\":\"white\",\"linecolor\":\"white\",\"showbackground\":true,\"ticks\":\"\",\"zerolinecolor\":\"white\",\"gridwidth\":2}},\"shapedefaults\":{\"line\":{\"color\":\"#2a3f5f\"}},\"annotationdefaults\":{\"arrowcolor\":\"#2a3f5f\",\"arrowhead\":0,\"arrowwidth\":1},\"geo\":{\"bgcolor\":\"white\",\"landcolor\":\"#E5ECF6\",\"subunitcolor\":\"white\",\"showland\":true,\"showlakes\":true,\"lakecolor\":\"white\"},\"title\":{\"x\":0.05},\"mapbox\":{\"style\":\"light\"}}},\"title\":{\"pad\":{\"r\":10,\"t\":10,\"b\":80},\"font\":{\"size\":24},\"text\":\"Top 20 words describing<br>data science responsibilities\",\"x\":0.5,\"y\":0.96,\"xanchor\":\"center\",\"yanchor\":\"top\"},\"margin\":{\"t\":130},\"font\":{\"size\":16,\"color\":\"white\"},\"width\":600,\"height\":600,\"plot_bgcolor\":\"#272b2e\",\"paper_bgcolor\":\"#272b2e\"},                        {\"responsive\": true}                    ).then(function(){\n",
       "                            \n",
       "var gd = document.getElementById('362fcd85-cffd-45fb-befe-96159b2ad469');\n",
       "var x = new MutationObserver(function (mutations, observer) {{\n",
       "        var display = window.getComputedStyle(gd).display;\n",
       "        if (!display || display === 'none') {{\n",
       "            console.log([gd, 'removed!']);\n",
       "            Plotly.purge(gd);\n",
       "            observer.disconnect();\n",
       "        }}\n",
       "}});\n",
       "\n",
       "// Listen for the removal of the full notebook cells\n",
       "var notebookContainer = gd.closest('#notebook-container');\n",
       "if (notebookContainer) {{\n",
       "    x.observe(notebookContainer, {childList: true});\n",
       "}}\n",
       "\n",
       "// Listen for the clearing of the current output cell\n",
       "var outputEl = gd.closest('.output');\n",
       "if (outputEl) {{\n",
       "    x.observe(outputEl, {childList: true});\n",
       "}}\n",
       "\n",
       "                        })                };                });            </script>        </div>"
      ]
     },
     "metadata": {},
     "output_type": "display_data"
    }
   ],
   "source": [
    "# create unique list of job types for dropdown menu\n",
    "job_types = df_word_count_res['job_type'].unique().tolist()\n",
    "\n",
    "from plotly.subplots import make_subplots\n",
    "pal = list(sns.color_palette(palette='Blues_r', n_colors=30).as_hex())\n",
    "\n",
    "# add the pie chart to the figure\n",
    "fig = go.Figure(go.Pie(labels=df_word_count_res[df_word_count_res['job_type'] == job_types[1]]['word'],\n",
    "                     values=df_word_count_res[df_word_count_res['job_type'] == job_types[1]]['frequency'],\n",
    "                     textposition='outside', \n",
    "                     hole=.4,\n",
    "                     insidetextorientation='auto',\n",
    "                     hovertemplate='percent=%{percent:.0%}<br>frequency=%{value}',\n",
    "                     marker=dict(colors=pal),\n",
    "                     showlegend=False,\n",
    "                     #title='Data Analysis',\n",
    "                     texttemplate=\"%{label}\"))\n",
    "\n",
    "# set the layout options for the entire figure\n",
    "fig.update_layout(\n",
    "    title={\n",
    "        'text': f\"Top 20 words describing<br>data science responsibilities\",\n",
    "        'x': 0.50,\n",
    "        'y': 0.96,\n",
    "        'xanchor': 'center',\n",
    "        'yanchor': 'top',\n",
    "        'pad': {'r': 10, 't': 10, 'b':80},\n",
    "        'font': {'size': 24}\n",
    "    },\n",
    "    width=600,\n",
    "    height=600,\n",
    "    margin=dict(t=130),\n",
    "    plot_bgcolor = \"#272b2e\",\n",
    "    paper_bgcolor = \"#272b2e\",\n",
    "    font=dict(size = 16, color = 'white')\n",
    ")\n",
    "\n",
    "fig.show()\n",
    "fig.write_html('../images/donut_chart2.html')\n"
   ]
  },
  {
   "cell_type": "code",
   "execution_count": 207,
   "metadata": {},
   "outputs": [
    {
     "data": {
      "application/vnd.plotly.v1+json": {
       "config": {
        "plotlyServerURL": "https://plot.ly"
       },
       "data": [
        {
         "hole": 0.4,
         "hovertemplate": "percent=%{percent:.0%}<br>frequency=%{value}",
         "insidetextorientation": "auto",
         "labels": [
          "learning",
          "data",
          "machine",
          "ml",
          "models",
          "team",
          "technical",
          "design",
          "develop",
          "engineering",
          "development",
          "model",
          "build",
          "software",
          "product",
          "work",
          "systems",
          "solutions",
          "across",
          "business",
          "science",
          "problems",
          "teams",
          "new",
          "including",
          "collaborate",
          "code",
          "research",
          "engineers",
          "practices"
         ],
         "marker": {
          "colors": [
           "#083877",
           "#084184",
           "#084990",
           "#09529d",
           "#0f5aa3",
           "#1562a9",
           "#1c6ab0",
           "#2373b6",
           "#2c7cba",
           "#3484bf",
           "#3c8cc3",
           "#4695c8",
           "#519ccc",
           "#5ba3d0",
           "#65aad4",
           "#72b2d8",
           "#7fb9da",
           "#8cc0dd",
           "#99c7e0",
           "#a5cde3",
           "#afd1e7",
           "#b9d6ea",
           "#c3daee",
           "#cbdef1",
           "#d1e2f3",
           "#d7e6f5",
           "#ddeaf7",
           "#e4eff9",
           "#eaf3fb",
           "#f1f7fd"
          ]
         },
         "showlegend": false,
         "textposition": "outside",
         "texttemplate": "%{label}",
         "type": "pie",
         "values": [
          174,
          160,
          148,
          113,
          106,
          83,
          67,
          65,
          59,
          57,
          56,
          52,
          51,
          47,
          47,
          44,
          43,
          43,
          40,
          39,
          38,
          34,
          34,
          34,
          32,
          32,
          32,
          32,
          32,
          31
         ]
        }
       ],
       "layout": {
        "font": {
         "color": "white",
         "size": 16
        },
        "height": 600,
        "margin": {
         "t": 130
        },
        "paper_bgcolor": "#272b2e",
        "plot_bgcolor": "#272b2e",
        "template": {
         "data": {
          "bar": [
           {
            "error_x": {
             "color": "#2a3f5f"
            },
            "error_y": {
             "color": "#2a3f5f"
            },
            "marker": {
             "line": {
              "color": "#E5ECF6",
              "width": 0.5
             },
             "pattern": {
              "fillmode": "overlay",
              "size": 10,
              "solidity": 0.2
             }
            },
            "type": "bar"
           }
          ],
          "barpolar": [
           {
            "marker": {
             "line": {
              "color": "#E5ECF6",
              "width": 0.5
             },
             "pattern": {
              "fillmode": "overlay",
              "size": 10,
              "solidity": 0.2
             }
            },
            "type": "barpolar"
           }
          ],
          "carpet": [
           {
            "aaxis": {
             "endlinecolor": "#2a3f5f",
             "gridcolor": "white",
             "linecolor": "white",
             "minorgridcolor": "white",
             "startlinecolor": "#2a3f5f"
            },
            "baxis": {
             "endlinecolor": "#2a3f5f",
             "gridcolor": "white",
             "linecolor": "white",
             "minorgridcolor": "white",
             "startlinecolor": "#2a3f5f"
            },
            "type": "carpet"
           }
          ],
          "choropleth": [
           {
            "colorbar": {
             "outlinewidth": 0,
             "ticks": ""
            },
            "type": "choropleth"
           }
          ],
          "contour": [
           {
            "colorbar": {
             "outlinewidth": 0,
             "ticks": ""
            },
            "colorscale": [
             [
              0,
              "#0d0887"
             ],
             [
              0.1111111111111111,
              "#46039f"
             ],
             [
              0.2222222222222222,
              "#7201a8"
             ],
             [
              0.3333333333333333,
              "#9c179e"
             ],
             [
              0.4444444444444444,
              "#bd3786"
             ],
             [
              0.5555555555555556,
              "#d8576b"
             ],
             [
              0.6666666666666666,
              "#ed7953"
             ],
             [
              0.7777777777777778,
              "#fb9f3a"
             ],
             [
              0.8888888888888888,
              "#fdca26"
             ],
             [
              1,
              "#f0f921"
             ]
            ],
            "type": "contour"
           }
          ],
          "contourcarpet": [
           {
            "colorbar": {
             "outlinewidth": 0,
             "ticks": ""
            },
            "type": "contourcarpet"
           }
          ],
          "heatmap": [
           {
            "colorbar": {
             "outlinewidth": 0,
             "ticks": ""
            },
            "colorscale": [
             [
              0,
              "#0d0887"
             ],
             [
              0.1111111111111111,
              "#46039f"
             ],
             [
              0.2222222222222222,
              "#7201a8"
             ],
             [
              0.3333333333333333,
              "#9c179e"
             ],
             [
              0.4444444444444444,
              "#bd3786"
             ],
             [
              0.5555555555555556,
              "#d8576b"
             ],
             [
              0.6666666666666666,
              "#ed7953"
             ],
             [
              0.7777777777777778,
              "#fb9f3a"
             ],
             [
              0.8888888888888888,
              "#fdca26"
             ],
             [
              1,
              "#f0f921"
             ]
            ],
            "type": "heatmap"
           }
          ],
          "heatmapgl": [
           {
            "colorbar": {
             "outlinewidth": 0,
             "ticks": ""
            },
            "colorscale": [
             [
              0,
              "#0d0887"
             ],
             [
              0.1111111111111111,
              "#46039f"
             ],
             [
              0.2222222222222222,
              "#7201a8"
             ],
             [
              0.3333333333333333,
              "#9c179e"
             ],
             [
              0.4444444444444444,
              "#bd3786"
             ],
             [
              0.5555555555555556,
              "#d8576b"
             ],
             [
              0.6666666666666666,
              "#ed7953"
             ],
             [
              0.7777777777777778,
              "#fb9f3a"
             ],
             [
              0.8888888888888888,
              "#fdca26"
             ],
             [
              1,
              "#f0f921"
             ]
            ],
            "type": "heatmapgl"
           }
          ],
          "histogram": [
           {
            "marker": {
             "pattern": {
              "fillmode": "overlay",
              "size": 10,
              "solidity": 0.2
             }
            },
            "type": "histogram"
           }
          ],
          "histogram2d": [
           {
            "colorbar": {
             "outlinewidth": 0,
             "ticks": ""
            },
            "colorscale": [
             [
              0,
              "#0d0887"
             ],
             [
              0.1111111111111111,
              "#46039f"
             ],
             [
              0.2222222222222222,
              "#7201a8"
             ],
             [
              0.3333333333333333,
              "#9c179e"
             ],
             [
              0.4444444444444444,
              "#bd3786"
             ],
             [
              0.5555555555555556,
              "#d8576b"
             ],
             [
              0.6666666666666666,
              "#ed7953"
             ],
             [
              0.7777777777777778,
              "#fb9f3a"
             ],
             [
              0.8888888888888888,
              "#fdca26"
             ],
             [
              1,
              "#f0f921"
             ]
            ],
            "type": "histogram2d"
           }
          ],
          "histogram2dcontour": [
           {
            "colorbar": {
             "outlinewidth": 0,
             "ticks": ""
            },
            "colorscale": [
             [
              0,
              "#0d0887"
             ],
             [
              0.1111111111111111,
              "#46039f"
             ],
             [
              0.2222222222222222,
              "#7201a8"
             ],
             [
              0.3333333333333333,
              "#9c179e"
             ],
             [
              0.4444444444444444,
              "#bd3786"
             ],
             [
              0.5555555555555556,
              "#d8576b"
             ],
             [
              0.6666666666666666,
              "#ed7953"
             ],
             [
              0.7777777777777778,
              "#fb9f3a"
             ],
             [
              0.8888888888888888,
              "#fdca26"
             ],
             [
              1,
              "#f0f921"
             ]
            ],
            "type": "histogram2dcontour"
           }
          ],
          "mesh3d": [
           {
            "colorbar": {
             "outlinewidth": 0,
             "ticks": ""
            },
            "type": "mesh3d"
           }
          ],
          "parcoords": [
           {
            "line": {
             "colorbar": {
              "outlinewidth": 0,
              "ticks": ""
             }
            },
            "type": "parcoords"
           }
          ],
          "pie": [
           {
            "automargin": true,
            "type": "pie"
           }
          ],
          "scatter": [
           {
            "fillpattern": {
             "fillmode": "overlay",
             "size": 10,
             "solidity": 0.2
            },
            "type": "scatter"
           }
          ],
          "scatter3d": [
           {
            "line": {
             "colorbar": {
              "outlinewidth": 0,
              "ticks": ""
             }
            },
            "marker": {
             "colorbar": {
              "outlinewidth": 0,
              "ticks": ""
             }
            },
            "type": "scatter3d"
           }
          ],
          "scattercarpet": [
           {
            "marker": {
             "colorbar": {
              "outlinewidth": 0,
              "ticks": ""
             }
            },
            "type": "scattercarpet"
           }
          ],
          "scattergeo": [
           {
            "marker": {
             "colorbar": {
              "outlinewidth": 0,
              "ticks": ""
             }
            },
            "type": "scattergeo"
           }
          ],
          "scattergl": [
           {
            "marker": {
             "colorbar": {
              "outlinewidth": 0,
              "ticks": ""
             }
            },
            "type": "scattergl"
           }
          ],
          "scattermapbox": [
           {
            "marker": {
             "colorbar": {
              "outlinewidth": 0,
              "ticks": ""
             }
            },
            "type": "scattermapbox"
           }
          ],
          "scatterpolar": [
           {
            "marker": {
             "colorbar": {
              "outlinewidth": 0,
              "ticks": ""
             }
            },
            "type": "scatterpolar"
           }
          ],
          "scatterpolargl": [
           {
            "marker": {
             "colorbar": {
              "outlinewidth": 0,
              "ticks": ""
             }
            },
            "type": "scatterpolargl"
           }
          ],
          "scatterternary": [
           {
            "marker": {
             "colorbar": {
              "outlinewidth": 0,
              "ticks": ""
             }
            },
            "type": "scatterternary"
           }
          ],
          "surface": [
           {
            "colorbar": {
             "outlinewidth": 0,
             "ticks": ""
            },
            "colorscale": [
             [
              0,
              "#0d0887"
             ],
             [
              0.1111111111111111,
              "#46039f"
             ],
             [
              0.2222222222222222,
              "#7201a8"
             ],
             [
              0.3333333333333333,
              "#9c179e"
             ],
             [
              0.4444444444444444,
              "#bd3786"
             ],
             [
              0.5555555555555556,
              "#d8576b"
             ],
             [
              0.6666666666666666,
              "#ed7953"
             ],
             [
              0.7777777777777778,
              "#fb9f3a"
             ],
             [
              0.8888888888888888,
              "#fdca26"
             ],
             [
              1,
              "#f0f921"
             ]
            ],
            "type": "surface"
           }
          ],
          "table": [
           {
            "cells": {
             "fill": {
              "color": "#EBF0F8"
             },
             "line": {
              "color": "white"
             }
            },
            "header": {
             "fill": {
              "color": "#C8D4E3"
             },
             "line": {
              "color": "white"
             }
            },
            "type": "table"
           }
          ]
         },
         "layout": {
          "annotationdefaults": {
           "arrowcolor": "#2a3f5f",
           "arrowhead": 0,
           "arrowwidth": 1
          },
          "autotypenumbers": "strict",
          "coloraxis": {
           "colorbar": {
            "outlinewidth": 0,
            "ticks": ""
           }
          },
          "colorscale": {
           "diverging": [
            [
             0,
             "#8e0152"
            ],
            [
             0.1,
             "#c51b7d"
            ],
            [
             0.2,
             "#de77ae"
            ],
            [
             0.3,
             "#f1b6da"
            ],
            [
             0.4,
             "#fde0ef"
            ],
            [
             0.5,
             "#f7f7f7"
            ],
            [
             0.6,
             "#e6f5d0"
            ],
            [
             0.7,
             "#b8e186"
            ],
            [
             0.8,
             "#7fbc41"
            ],
            [
             0.9,
             "#4d9221"
            ],
            [
             1,
             "#276419"
            ]
           ],
           "sequential": [
            [
             0,
             "#0d0887"
            ],
            [
             0.1111111111111111,
             "#46039f"
            ],
            [
             0.2222222222222222,
             "#7201a8"
            ],
            [
             0.3333333333333333,
             "#9c179e"
            ],
            [
             0.4444444444444444,
             "#bd3786"
            ],
            [
             0.5555555555555556,
             "#d8576b"
            ],
            [
             0.6666666666666666,
             "#ed7953"
            ],
            [
             0.7777777777777778,
             "#fb9f3a"
            ],
            [
             0.8888888888888888,
             "#fdca26"
            ],
            [
             1,
             "#f0f921"
            ]
           ],
           "sequentialminus": [
            [
             0,
             "#0d0887"
            ],
            [
             0.1111111111111111,
             "#46039f"
            ],
            [
             0.2222222222222222,
             "#7201a8"
            ],
            [
             0.3333333333333333,
             "#9c179e"
            ],
            [
             0.4444444444444444,
             "#bd3786"
            ],
            [
             0.5555555555555556,
             "#d8576b"
            ],
            [
             0.6666666666666666,
             "#ed7953"
            ],
            [
             0.7777777777777778,
             "#fb9f3a"
            ],
            [
             0.8888888888888888,
             "#fdca26"
            ],
            [
             1,
             "#f0f921"
            ]
           ]
          },
          "colorway": [
           "#636efa",
           "#EF553B",
           "#00cc96",
           "#ab63fa",
           "#FFA15A",
           "#19d3f3",
           "#FF6692",
           "#B6E880",
           "#FF97FF",
           "#FECB52"
          ],
          "font": {
           "color": "#2a3f5f"
          },
          "geo": {
           "bgcolor": "white",
           "lakecolor": "white",
           "landcolor": "#E5ECF6",
           "showlakes": true,
           "showland": true,
           "subunitcolor": "white"
          },
          "hoverlabel": {
           "align": "left"
          },
          "hovermode": "closest",
          "mapbox": {
           "style": "light"
          },
          "paper_bgcolor": "white",
          "plot_bgcolor": "#E5ECF6",
          "polar": {
           "angularaxis": {
            "gridcolor": "white",
            "linecolor": "white",
            "ticks": ""
           },
           "bgcolor": "#E5ECF6",
           "radialaxis": {
            "gridcolor": "white",
            "linecolor": "white",
            "ticks": ""
           }
          },
          "scene": {
           "xaxis": {
            "backgroundcolor": "#E5ECF6",
            "gridcolor": "white",
            "gridwidth": 2,
            "linecolor": "white",
            "showbackground": true,
            "ticks": "",
            "zerolinecolor": "white"
           },
           "yaxis": {
            "backgroundcolor": "#E5ECF6",
            "gridcolor": "white",
            "gridwidth": 2,
            "linecolor": "white",
            "showbackground": true,
            "ticks": "",
            "zerolinecolor": "white"
           },
           "zaxis": {
            "backgroundcolor": "#E5ECF6",
            "gridcolor": "white",
            "gridwidth": 2,
            "linecolor": "white",
            "showbackground": true,
            "ticks": "",
            "zerolinecolor": "white"
           }
          },
          "shapedefaults": {
           "line": {
            "color": "#2a3f5f"
           }
          },
          "ternary": {
           "aaxis": {
            "gridcolor": "white",
            "linecolor": "white",
            "ticks": ""
           },
           "baxis": {
            "gridcolor": "white",
            "linecolor": "white",
            "ticks": ""
           },
           "bgcolor": "#E5ECF6",
           "caxis": {
            "gridcolor": "white",
            "linecolor": "white",
            "ticks": ""
           }
          },
          "title": {
           "x": 0.05
          },
          "xaxis": {
           "automargin": true,
           "gridcolor": "white",
           "linecolor": "white",
           "ticks": "",
           "title": {
            "standoff": 15
           },
           "zerolinecolor": "white",
           "zerolinewidth": 2
          },
          "yaxis": {
           "automargin": true,
           "gridcolor": "white",
           "linecolor": "white",
           "ticks": "",
           "title": {
            "standoff": 15
           },
           "zerolinecolor": "white",
           "zerolinewidth": 2
          }
         }
        },
        "title": {
         "font": {
          "size": 24
         },
         "pad": {
          "b": 80,
          "r": 10,
          "t": 10
         },
         "text": "Top 20 words describing<br>machine learning responsibilities",
         "x": 0.5,
         "xanchor": "center",
         "y": 0.96,
         "yanchor": "top"
        },
        "width": 600
       }
      },
      "text/html": [
       "<div>                            <div id=\"aa77ad89-d917-4c8e-8cc1-821b05df7d2e\" class=\"plotly-graph-div\" style=\"height:600px; width:600px;\"></div>            <script type=\"text/javascript\">                require([\"plotly\"], function(Plotly) {                    window.PLOTLYENV=window.PLOTLYENV || {};                                    if (document.getElementById(\"aa77ad89-d917-4c8e-8cc1-821b05df7d2e\")) {                    Plotly.newPlot(                        \"aa77ad89-d917-4c8e-8cc1-821b05df7d2e\",                        [{\"hole\":0.4,\"hovertemplate\":\"percent=%{percent:.0%}<br>frequency=%{value}\",\"insidetextorientation\":\"auto\",\"labels\":[\"learning\",\"data\",\"machine\",\"ml\",\"models\",\"team\",\"technical\",\"design\",\"develop\",\"engineering\",\"development\",\"model\",\"build\",\"software\",\"product\",\"work\",\"systems\",\"solutions\",\"across\",\"business\",\"science\",\"problems\",\"teams\",\"new\",\"including\",\"collaborate\",\"code\",\"research\",\"engineers\",\"practices\"],\"marker\":{\"colors\":[\"#083877\",\"#084184\",\"#084990\",\"#09529d\",\"#0f5aa3\",\"#1562a9\",\"#1c6ab0\",\"#2373b6\",\"#2c7cba\",\"#3484bf\",\"#3c8cc3\",\"#4695c8\",\"#519ccc\",\"#5ba3d0\",\"#65aad4\",\"#72b2d8\",\"#7fb9da\",\"#8cc0dd\",\"#99c7e0\",\"#a5cde3\",\"#afd1e7\",\"#b9d6ea\",\"#c3daee\",\"#cbdef1\",\"#d1e2f3\",\"#d7e6f5\",\"#ddeaf7\",\"#e4eff9\",\"#eaf3fb\",\"#f1f7fd\"]},\"showlegend\":false,\"textposition\":\"outside\",\"texttemplate\":\"%{label}\",\"values\":[174,160,148,113,106,83,67,65,59,57,56,52,51,47,47,44,43,43,40,39,38,34,34,34,32,32,32,32,32,31],\"type\":\"pie\"}],                        {\"template\":{\"data\":{\"histogram2dcontour\":[{\"type\":\"histogram2dcontour\",\"colorbar\":{\"outlinewidth\":0,\"ticks\":\"\"},\"colorscale\":[[0.0,\"#0d0887\"],[0.1111111111111111,\"#46039f\"],[0.2222222222222222,\"#7201a8\"],[0.3333333333333333,\"#9c179e\"],[0.4444444444444444,\"#bd3786\"],[0.5555555555555556,\"#d8576b\"],[0.6666666666666666,\"#ed7953\"],[0.7777777777777778,\"#fb9f3a\"],[0.8888888888888888,\"#fdca26\"],[1.0,\"#f0f921\"]]}],\"choropleth\":[{\"type\":\"choropleth\",\"colorbar\":{\"outlinewidth\":0,\"ticks\":\"\"}}],\"histogram2d\":[{\"type\":\"histogram2d\",\"colorbar\":{\"outlinewidth\":0,\"ticks\":\"\"},\"colorscale\":[[0.0,\"#0d0887\"],[0.1111111111111111,\"#46039f\"],[0.2222222222222222,\"#7201a8\"],[0.3333333333333333,\"#9c179e\"],[0.4444444444444444,\"#bd3786\"],[0.5555555555555556,\"#d8576b\"],[0.6666666666666666,\"#ed7953\"],[0.7777777777777778,\"#fb9f3a\"],[0.8888888888888888,\"#fdca26\"],[1.0,\"#f0f921\"]]}],\"heatmap\":[{\"type\":\"heatmap\",\"colorbar\":{\"outlinewidth\":0,\"ticks\":\"\"},\"colorscale\":[[0.0,\"#0d0887\"],[0.1111111111111111,\"#46039f\"],[0.2222222222222222,\"#7201a8\"],[0.3333333333333333,\"#9c179e\"],[0.4444444444444444,\"#bd3786\"],[0.5555555555555556,\"#d8576b\"],[0.6666666666666666,\"#ed7953\"],[0.7777777777777778,\"#fb9f3a\"],[0.8888888888888888,\"#fdca26\"],[1.0,\"#f0f921\"]]}],\"heatmapgl\":[{\"type\":\"heatmapgl\",\"colorbar\":{\"outlinewidth\":0,\"ticks\":\"\"},\"colorscale\":[[0.0,\"#0d0887\"],[0.1111111111111111,\"#46039f\"],[0.2222222222222222,\"#7201a8\"],[0.3333333333333333,\"#9c179e\"],[0.4444444444444444,\"#bd3786\"],[0.5555555555555556,\"#d8576b\"],[0.6666666666666666,\"#ed7953\"],[0.7777777777777778,\"#fb9f3a\"],[0.8888888888888888,\"#fdca26\"],[1.0,\"#f0f921\"]]}],\"contourcarpet\":[{\"type\":\"contourcarpet\",\"colorbar\":{\"outlinewidth\":0,\"ticks\":\"\"}}],\"contour\":[{\"type\":\"contour\",\"colorbar\":{\"outlinewidth\":0,\"ticks\":\"\"},\"colorscale\":[[0.0,\"#0d0887\"],[0.1111111111111111,\"#46039f\"],[0.2222222222222222,\"#7201a8\"],[0.3333333333333333,\"#9c179e\"],[0.4444444444444444,\"#bd3786\"],[0.5555555555555556,\"#d8576b\"],[0.6666666666666666,\"#ed7953\"],[0.7777777777777778,\"#fb9f3a\"],[0.8888888888888888,\"#fdca26\"],[1.0,\"#f0f921\"]]}],\"surface\":[{\"type\":\"surface\",\"colorbar\":{\"outlinewidth\":0,\"ticks\":\"\"},\"colorscale\":[[0.0,\"#0d0887\"],[0.1111111111111111,\"#46039f\"],[0.2222222222222222,\"#7201a8\"],[0.3333333333333333,\"#9c179e\"],[0.4444444444444444,\"#bd3786\"],[0.5555555555555556,\"#d8576b\"],[0.6666666666666666,\"#ed7953\"],[0.7777777777777778,\"#fb9f3a\"],[0.8888888888888888,\"#fdca26\"],[1.0,\"#f0f921\"]]}],\"mesh3d\":[{\"type\":\"mesh3d\",\"colorbar\":{\"outlinewidth\":0,\"ticks\":\"\"}}],\"scatter\":[{\"fillpattern\":{\"fillmode\":\"overlay\",\"size\":10,\"solidity\":0.2},\"type\":\"scatter\"}],\"parcoords\":[{\"type\":\"parcoords\",\"line\":{\"colorbar\":{\"outlinewidth\":0,\"ticks\":\"\"}}}],\"scatterpolargl\":[{\"type\":\"scatterpolargl\",\"marker\":{\"colorbar\":{\"outlinewidth\":0,\"ticks\":\"\"}}}],\"bar\":[{\"error_x\":{\"color\":\"#2a3f5f\"},\"error_y\":{\"color\":\"#2a3f5f\"},\"marker\":{\"line\":{\"color\":\"#E5ECF6\",\"width\":0.5},\"pattern\":{\"fillmode\":\"overlay\",\"size\":10,\"solidity\":0.2}},\"type\":\"bar\"}],\"scattergeo\":[{\"type\":\"scattergeo\",\"marker\":{\"colorbar\":{\"outlinewidth\":0,\"ticks\":\"\"}}}],\"scatterpolar\":[{\"type\":\"scatterpolar\",\"marker\":{\"colorbar\":{\"outlinewidth\":0,\"ticks\":\"\"}}}],\"histogram\":[{\"marker\":{\"pattern\":{\"fillmode\":\"overlay\",\"size\":10,\"solidity\":0.2}},\"type\":\"histogram\"}],\"scattergl\":[{\"type\":\"scattergl\",\"marker\":{\"colorbar\":{\"outlinewidth\":0,\"ticks\":\"\"}}}],\"scatter3d\":[{\"type\":\"scatter3d\",\"line\":{\"colorbar\":{\"outlinewidth\":0,\"ticks\":\"\"}},\"marker\":{\"colorbar\":{\"outlinewidth\":0,\"ticks\":\"\"}}}],\"scattermapbox\":[{\"type\":\"scattermapbox\",\"marker\":{\"colorbar\":{\"outlinewidth\":0,\"ticks\":\"\"}}}],\"scatterternary\":[{\"type\":\"scatterternary\",\"marker\":{\"colorbar\":{\"outlinewidth\":0,\"ticks\":\"\"}}}],\"scattercarpet\":[{\"type\":\"scattercarpet\",\"marker\":{\"colorbar\":{\"outlinewidth\":0,\"ticks\":\"\"}}}],\"carpet\":[{\"aaxis\":{\"endlinecolor\":\"#2a3f5f\",\"gridcolor\":\"white\",\"linecolor\":\"white\",\"minorgridcolor\":\"white\",\"startlinecolor\":\"#2a3f5f\"},\"baxis\":{\"endlinecolor\":\"#2a3f5f\",\"gridcolor\":\"white\",\"linecolor\":\"white\",\"minorgridcolor\":\"white\",\"startlinecolor\":\"#2a3f5f\"},\"type\":\"carpet\"}],\"table\":[{\"cells\":{\"fill\":{\"color\":\"#EBF0F8\"},\"line\":{\"color\":\"white\"}},\"header\":{\"fill\":{\"color\":\"#C8D4E3\"},\"line\":{\"color\":\"white\"}},\"type\":\"table\"}],\"barpolar\":[{\"marker\":{\"line\":{\"color\":\"#E5ECF6\",\"width\":0.5},\"pattern\":{\"fillmode\":\"overlay\",\"size\":10,\"solidity\":0.2}},\"type\":\"barpolar\"}],\"pie\":[{\"automargin\":true,\"type\":\"pie\"}]},\"layout\":{\"autotypenumbers\":\"strict\",\"colorway\":[\"#636efa\",\"#EF553B\",\"#00cc96\",\"#ab63fa\",\"#FFA15A\",\"#19d3f3\",\"#FF6692\",\"#B6E880\",\"#FF97FF\",\"#FECB52\"],\"font\":{\"color\":\"#2a3f5f\"},\"hovermode\":\"closest\",\"hoverlabel\":{\"align\":\"left\"},\"paper_bgcolor\":\"white\",\"plot_bgcolor\":\"#E5ECF6\",\"polar\":{\"bgcolor\":\"#E5ECF6\",\"angularaxis\":{\"gridcolor\":\"white\",\"linecolor\":\"white\",\"ticks\":\"\"},\"radialaxis\":{\"gridcolor\":\"white\",\"linecolor\":\"white\",\"ticks\":\"\"}},\"ternary\":{\"bgcolor\":\"#E5ECF6\",\"aaxis\":{\"gridcolor\":\"white\",\"linecolor\":\"white\",\"ticks\":\"\"},\"baxis\":{\"gridcolor\":\"white\",\"linecolor\":\"white\",\"ticks\":\"\"},\"caxis\":{\"gridcolor\":\"white\",\"linecolor\":\"white\",\"ticks\":\"\"}},\"coloraxis\":{\"colorbar\":{\"outlinewidth\":0,\"ticks\":\"\"}},\"colorscale\":{\"sequential\":[[0.0,\"#0d0887\"],[0.1111111111111111,\"#46039f\"],[0.2222222222222222,\"#7201a8\"],[0.3333333333333333,\"#9c179e\"],[0.4444444444444444,\"#bd3786\"],[0.5555555555555556,\"#d8576b\"],[0.6666666666666666,\"#ed7953\"],[0.7777777777777778,\"#fb9f3a\"],[0.8888888888888888,\"#fdca26\"],[1.0,\"#f0f921\"]],\"sequentialminus\":[[0.0,\"#0d0887\"],[0.1111111111111111,\"#46039f\"],[0.2222222222222222,\"#7201a8\"],[0.3333333333333333,\"#9c179e\"],[0.4444444444444444,\"#bd3786\"],[0.5555555555555556,\"#d8576b\"],[0.6666666666666666,\"#ed7953\"],[0.7777777777777778,\"#fb9f3a\"],[0.8888888888888888,\"#fdca26\"],[1.0,\"#f0f921\"]],\"diverging\":[[0,\"#8e0152\"],[0.1,\"#c51b7d\"],[0.2,\"#de77ae\"],[0.3,\"#f1b6da\"],[0.4,\"#fde0ef\"],[0.5,\"#f7f7f7\"],[0.6,\"#e6f5d0\"],[0.7,\"#b8e186\"],[0.8,\"#7fbc41\"],[0.9,\"#4d9221\"],[1,\"#276419\"]]},\"xaxis\":{\"gridcolor\":\"white\",\"linecolor\":\"white\",\"ticks\":\"\",\"title\":{\"standoff\":15},\"zerolinecolor\":\"white\",\"automargin\":true,\"zerolinewidth\":2},\"yaxis\":{\"gridcolor\":\"white\",\"linecolor\":\"white\",\"ticks\":\"\",\"title\":{\"standoff\":15},\"zerolinecolor\":\"white\",\"automargin\":true,\"zerolinewidth\":2},\"scene\":{\"xaxis\":{\"backgroundcolor\":\"#E5ECF6\",\"gridcolor\":\"white\",\"linecolor\":\"white\",\"showbackground\":true,\"ticks\":\"\",\"zerolinecolor\":\"white\",\"gridwidth\":2},\"yaxis\":{\"backgroundcolor\":\"#E5ECF6\",\"gridcolor\":\"white\",\"linecolor\":\"white\",\"showbackground\":true,\"ticks\":\"\",\"zerolinecolor\":\"white\",\"gridwidth\":2},\"zaxis\":{\"backgroundcolor\":\"#E5ECF6\",\"gridcolor\":\"white\",\"linecolor\":\"white\",\"showbackground\":true,\"ticks\":\"\",\"zerolinecolor\":\"white\",\"gridwidth\":2}},\"shapedefaults\":{\"line\":{\"color\":\"#2a3f5f\"}},\"annotationdefaults\":{\"arrowcolor\":\"#2a3f5f\",\"arrowhead\":0,\"arrowwidth\":1},\"geo\":{\"bgcolor\":\"white\",\"landcolor\":\"#E5ECF6\",\"subunitcolor\":\"white\",\"showland\":true,\"showlakes\":true,\"lakecolor\":\"white\"},\"title\":{\"x\":0.05},\"mapbox\":{\"style\":\"light\"}}},\"title\":{\"pad\":{\"r\":10,\"t\":10,\"b\":80},\"font\":{\"size\":24},\"text\":\"Top 20 words describing<br>machine learning responsibilities\",\"x\":0.5,\"y\":0.96,\"xanchor\":\"center\",\"yanchor\":\"top\"},\"margin\":{\"t\":130},\"font\":{\"size\":16,\"color\":\"white\"},\"width\":600,\"height\":600,\"plot_bgcolor\":\"#272b2e\",\"paper_bgcolor\":\"#272b2e\"},                        {\"responsive\": true}                    ).then(function(){\n",
       "                            \n",
       "var gd = document.getElementById('aa77ad89-d917-4c8e-8cc1-821b05df7d2e');\n",
       "var x = new MutationObserver(function (mutations, observer) {{\n",
       "        var display = window.getComputedStyle(gd).display;\n",
       "        if (!display || display === 'none') {{\n",
       "            console.log([gd, 'removed!']);\n",
       "            Plotly.purge(gd);\n",
       "            observer.disconnect();\n",
       "        }}\n",
       "}});\n",
       "\n",
       "// Listen for the removal of the full notebook cells\n",
       "var notebookContainer = gd.closest('#notebook-container');\n",
       "if (notebookContainer) {{\n",
       "    x.observe(notebookContainer, {childList: true});\n",
       "}}\n",
       "\n",
       "// Listen for the clearing of the current output cell\n",
       "var outputEl = gd.closest('.output');\n",
       "if (outputEl) {{\n",
       "    x.observe(outputEl, {childList: true});\n",
       "}}\n",
       "\n",
       "                        })                };                });            </script>        </div>"
      ]
     },
     "metadata": {},
     "output_type": "display_data"
    }
   ],
   "source": [
    "# create unique list of job types for dropdown menu\n",
    "job_types = df_word_count_res['job_type'].unique().tolist()\n",
    "\n",
    "from plotly.subplots import make_subplots\n",
    "pal = list(sns.color_palette(palette='Blues_r', n_colors=30).as_hex())\n",
    "\n",
    "# add the pie chart to the figure\n",
    "fig = go.Figure(go.Pie(labels=df_word_count_res[df_word_count_res['job_type'] == job_types[2]]['word'],\n",
    "                     values=df_word_count_res[df_word_count_res['job_type'] == job_types[2]]['frequency'],\n",
    "                     textposition='outside', \n",
    "                     hole=.4,\n",
    "                     insidetextorientation='auto',\n",
    "                     hovertemplate='percent=%{percent:.0%}<br>frequency=%{value}',\n",
    "                     marker=dict(colors=pal),\n",
    "                     showlegend=False,\n",
    "                     #title='Data Analysis',\n",
    "                     texttemplate=\"%{label}\"))\n",
    "\n",
    "# set the layout options for the entire figure\n",
    "fig.update_layout(\n",
    "    title={\n",
    "        'text': f\"Top 20 words describing<br>machine learning responsibilities\",\n",
    "        'x': 0.50,\n",
    "        'y': 0.96,\n",
    "        'xanchor': 'center',\n",
    "        'yanchor': 'top',\n",
    "        'pad': {'r': 10, 't': 10, 'b':80},\n",
    "        'font': {'size': 24}\n",
    "    },\n",
    "    width=600,\n",
    "    height=600,\n",
    "    margin=dict(t=130),\n",
    "    plot_bgcolor = \"#272b2e\",\n",
    "    paper_bgcolor = \"#272b2e\",\n",
    "    font=dict(size = 16, color = 'white')\n",
    ")\n",
    "\n",
    "fig.show()\n",
    "fig.write_html('../images/donut_chart3.html')\n"
   ]
  },
  {
   "cell_type": "code",
   "execution_count": 151,
   "metadata": {},
   "outputs": [
    {
     "name": "stderr",
     "output_type": "stream",
     "text": [
      "/var/folders/79/jdv69xcs22z7cyxln5rsbzzh0000gn/T/ipykernel_1313/3718907840.py:8: SettingWithCopyWarning:\n",
      "\n",
      "\n",
      "A value is trying to be set on a copy of a slice from a DataFrame.\n",
      "Try using .loc[row_indexer,col_indexer] = value instead\n",
      "\n",
      "See the caveats in the documentation: https://pandas.pydata.org/pandas-docs/stable/user_guide/indexing.html#returning-a-view-versus-a-copy\n",
      "\n"
     ]
    },
    {
     "data": {
      "application/vnd.plotly.v1+json": {
       "config": {
        "plotlyServerURL": "https://plot.ly"
       },
       "data": [
        {
         "link": {
          "color": [
           "#C7D3AB",
           "#C7D3AB",
           "#C7D3AB",
           "#CBBDB0",
           "#CBBDB0",
           "#CBBDB0"
          ],
          "source": [
           2,
           3,
           4,
           2,
           3,
           4
          ],
          "target": [
           0,
           0,
           0,
           1,
           1,
           1
          ],
          "value": [
           24,
           34,
           39,
           26,
           16,
           11
          ]
         },
         "node": {
          "color": [
           "#606A7F",
           "#606A7F",
           "#67615B",
           "#67615B",
           "#67615B"
          ],
          "label": [
           "Not remote",
           "Remote",
           "data_analysis",
           "data_science",
           "machine_learning"
          ],
          "pad": 15,
          "thickness": 20
         },
         "type": "sankey"
        }
       ],
       "layout": {
        "font": {
         "color": "white",
         "size": 14
        },
        "height": 550,
        "margin": {
         "b": 25,
         "l": 25,
         "r": 25,
         "t": 85
        },
        "paper_bgcolor": "#272b2e",
        "plot_bgcolor": "#272b2e",
        "template": {
         "data": {
          "bar": [
           {
            "error_x": {
             "color": "#2a3f5f"
            },
            "error_y": {
             "color": "#2a3f5f"
            },
            "marker": {
             "line": {
              "color": "#E5ECF6",
              "width": 0.5
             },
             "pattern": {
              "fillmode": "overlay",
              "size": 10,
              "solidity": 0.2
             }
            },
            "type": "bar"
           }
          ],
          "barpolar": [
           {
            "marker": {
             "line": {
              "color": "#E5ECF6",
              "width": 0.5
             },
             "pattern": {
              "fillmode": "overlay",
              "size": 10,
              "solidity": 0.2
             }
            },
            "type": "barpolar"
           }
          ],
          "carpet": [
           {
            "aaxis": {
             "endlinecolor": "#2a3f5f",
             "gridcolor": "white",
             "linecolor": "white",
             "minorgridcolor": "white",
             "startlinecolor": "#2a3f5f"
            },
            "baxis": {
             "endlinecolor": "#2a3f5f",
             "gridcolor": "white",
             "linecolor": "white",
             "minorgridcolor": "white",
             "startlinecolor": "#2a3f5f"
            },
            "type": "carpet"
           }
          ],
          "choropleth": [
           {
            "colorbar": {
             "outlinewidth": 0,
             "ticks": ""
            },
            "type": "choropleth"
           }
          ],
          "contour": [
           {
            "colorbar": {
             "outlinewidth": 0,
             "ticks": ""
            },
            "colorscale": [
             [
              0,
              "#0d0887"
             ],
             [
              0.1111111111111111,
              "#46039f"
             ],
             [
              0.2222222222222222,
              "#7201a8"
             ],
             [
              0.3333333333333333,
              "#9c179e"
             ],
             [
              0.4444444444444444,
              "#bd3786"
             ],
             [
              0.5555555555555556,
              "#d8576b"
             ],
             [
              0.6666666666666666,
              "#ed7953"
             ],
             [
              0.7777777777777778,
              "#fb9f3a"
             ],
             [
              0.8888888888888888,
              "#fdca26"
             ],
             [
              1,
              "#f0f921"
             ]
            ],
            "type": "contour"
           }
          ],
          "contourcarpet": [
           {
            "colorbar": {
             "outlinewidth": 0,
             "ticks": ""
            },
            "type": "contourcarpet"
           }
          ],
          "heatmap": [
           {
            "colorbar": {
             "outlinewidth": 0,
             "ticks": ""
            },
            "colorscale": [
             [
              0,
              "#0d0887"
             ],
             [
              0.1111111111111111,
              "#46039f"
             ],
             [
              0.2222222222222222,
              "#7201a8"
             ],
             [
              0.3333333333333333,
              "#9c179e"
             ],
             [
              0.4444444444444444,
              "#bd3786"
             ],
             [
              0.5555555555555556,
              "#d8576b"
             ],
             [
              0.6666666666666666,
              "#ed7953"
             ],
             [
              0.7777777777777778,
              "#fb9f3a"
             ],
             [
              0.8888888888888888,
              "#fdca26"
             ],
             [
              1,
              "#f0f921"
             ]
            ],
            "type": "heatmap"
           }
          ],
          "heatmapgl": [
           {
            "colorbar": {
             "outlinewidth": 0,
             "ticks": ""
            },
            "colorscale": [
             [
              0,
              "#0d0887"
             ],
             [
              0.1111111111111111,
              "#46039f"
             ],
             [
              0.2222222222222222,
              "#7201a8"
             ],
             [
              0.3333333333333333,
              "#9c179e"
             ],
             [
              0.4444444444444444,
              "#bd3786"
             ],
             [
              0.5555555555555556,
              "#d8576b"
             ],
             [
              0.6666666666666666,
              "#ed7953"
             ],
             [
              0.7777777777777778,
              "#fb9f3a"
             ],
             [
              0.8888888888888888,
              "#fdca26"
             ],
             [
              1,
              "#f0f921"
             ]
            ],
            "type": "heatmapgl"
           }
          ],
          "histogram": [
           {
            "marker": {
             "pattern": {
              "fillmode": "overlay",
              "size": 10,
              "solidity": 0.2
             }
            },
            "type": "histogram"
           }
          ],
          "histogram2d": [
           {
            "colorbar": {
             "outlinewidth": 0,
             "ticks": ""
            },
            "colorscale": [
             [
              0,
              "#0d0887"
             ],
             [
              0.1111111111111111,
              "#46039f"
             ],
             [
              0.2222222222222222,
              "#7201a8"
             ],
             [
              0.3333333333333333,
              "#9c179e"
             ],
             [
              0.4444444444444444,
              "#bd3786"
             ],
             [
              0.5555555555555556,
              "#d8576b"
             ],
             [
              0.6666666666666666,
              "#ed7953"
             ],
             [
              0.7777777777777778,
              "#fb9f3a"
             ],
             [
              0.8888888888888888,
              "#fdca26"
             ],
             [
              1,
              "#f0f921"
             ]
            ],
            "type": "histogram2d"
           }
          ],
          "histogram2dcontour": [
           {
            "colorbar": {
             "outlinewidth": 0,
             "ticks": ""
            },
            "colorscale": [
             [
              0,
              "#0d0887"
             ],
             [
              0.1111111111111111,
              "#46039f"
             ],
             [
              0.2222222222222222,
              "#7201a8"
             ],
             [
              0.3333333333333333,
              "#9c179e"
             ],
             [
              0.4444444444444444,
              "#bd3786"
             ],
             [
              0.5555555555555556,
              "#d8576b"
             ],
             [
              0.6666666666666666,
              "#ed7953"
             ],
             [
              0.7777777777777778,
              "#fb9f3a"
             ],
             [
              0.8888888888888888,
              "#fdca26"
             ],
             [
              1,
              "#f0f921"
             ]
            ],
            "type": "histogram2dcontour"
           }
          ],
          "mesh3d": [
           {
            "colorbar": {
             "outlinewidth": 0,
             "ticks": ""
            },
            "type": "mesh3d"
           }
          ],
          "parcoords": [
           {
            "line": {
             "colorbar": {
              "outlinewidth": 0,
              "ticks": ""
             }
            },
            "type": "parcoords"
           }
          ],
          "pie": [
           {
            "automargin": true,
            "type": "pie"
           }
          ],
          "scatter": [
           {
            "fillpattern": {
             "fillmode": "overlay",
             "size": 10,
             "solidity": 0.2
            },
            "type": "scatter"
           }
          ],
          "scatter3d": [
           {
            "line": {
             "colorbar": {
              "outlinewidth": 0,
              "ticks": ""
             }
            },
            "marker": {
             "colorbar": {
              "outlinewidth": 0,
              "ticks": ""
             }
            },
            "type": "scatter3d"
           }
          ],
          "scattercarpet": [
           {
            "marker": {
             "colorbar": {
              "outlinewidth": 0,
              "ticks": ""
             }
            },
            "type": "scattercarpet"
           }
          ],
          "scattergeo": [
           {
            "marker": {
             "colorbar": {
              "outlinewidth": 0,
              "ticks": ""
             }
            },
            "type": "scattergeo"
           }
          ],
          "scattergl": [
           {
            "marker": {
             "colorbar": {
              "outlinewidth": 0,
              "ticks": ""
             }
            },
            "type": "scattergl"
           }
          ],
          "scattermapbox": [
           {
            "marker": {
             "colorbar": {
              "outlinewidth": 0,
              "ticks": ""
             }
            },
            "type": "scattermapbox"
           }
          ],
          "scatterpolar": [
           {
            "marker": {
             "colorbar": {
              "outlinewidth": 0,
              "ticks": ""
             }
            },
            "type": "scatterpolar"
           }
          ],
          "scatterpolargl": [
           {
            "marker": {
             "colorbar": {
              "outlinewidth": 0,
              "ticks": ""
             }
            },
            "type": "scatterpolargl"
           }
          ],
          "scatterternary": [
           {
            "marker": {
             "colorbar": {
              "outlinewidth": 0,
              "ticks": ""
             }
            },
            "type": "scatterternary"
           }
          ],
          "surface": [
           {
            "colorbar": {
             "outlinewidth": 0,
             "ticks": ""
            },
            "colorscale": [
             [
              0,
              "#0d0887"
             ],
             [
              0.1111111111111111,
              "#46039f"
             ],
             [
              0.2222222222222222,
              "#7201a8"
             ],
             [
              0.3333333333333333,
              "#9c179e"
             ],
             [
              0.4444444444444444,
              "#bd3786"
             ],
             [
              0.5555555555555556,
              "#d8576b"
             ],
             [
              0.6666666666666666,
              "#ed7953"
             ],
             [
              0.7777777777777778,
              "#fb9f3a"
             ],
             [
              0.8888888888888888,
              "#fdca26"
             ],
             [
              1,
              "#f0f921"
             ]
            ],
            "type": "surface"
           }
          ],
          "table": [
           {
            "cells": {
             "fill": {
              "color": "#EBF0F8"
             },
             "line": {
              "color": "white"
             }
            },
            "header": {
             "fill": {
              "color": "#C8D4E3"
             },
             "line": {
              "color": "white"
             }
            },
            "type": "table"
           }
          ]
         },
         "layout": {
          "annotationdefaults": {
           "arrowcolor": "#2a3f5f",
           "arrowhead": 0,
           "arrowwidth": 1
          },
          "autotypenumbers": "strict",
          "coloraxis": {
           "colorbar": {
            "outlinewidth": 0,
            "ticks": ""
           }
          },
          "colorscale": {
           "diverging": [
            [
             0,
             "#8e0152"
            ],
            [
             0.1,
             "#c51b7d"
            ],
            [
             0.2,
             "#de77ae"
            ],
            [
             0.3,
             "#f1b6da"
            ],
            [
             0.4,
             "#fde0ef"
            ],
            [
             0.5,
             "#f7f7f7"
            ],
            [
             0.6,
             "#e6f5d0"
            ],
            [
             0.7,
             "#b8e186"
            ],
            [
             0.8,
             "#7fbc41"
            ],
            [
             0.9,
             "#4d9221"
            ],
            [
             1,
             "#276419"
            ]
           ],
           "sequential": [
            [
             0,
             "#0d0887"
            ],
            [
             0.1111111111111111,
             "#46039f"
            ],
            [
             0.2222222222222222,
             "#7201a8"
            ],
            [
             0.3333333333333333,
             "#9c179e"
            ],
            [
             0.4444444444444444,
             "#bd3786"
            ],
            [
             0.5555555555555556,
             "#d8576b"
            ],
            [
             0.6666666666666666,
             "#ed7953"
            ],
            [
             0.7777777777777778,
             "#fb9f3a"
            ],
            [
             0.8888888888888888,
             "#fdca26"
            ],
            [
             1,
             "#f0f921"
            ]
           ],
           "sequentialminus": [
            [
             0,
             "#0d0887"
            ],
            [
             0.1111111111111111,
             "#46039f"
            ],
            [
             0.2222222222222222,
             "#7201a8"
            ],
            [
             0.3333333333333333,
             "#9c179e"
            ],
            [
             0.4444444444444444,
             "#bd3786"
            ],
            [
             0.5555555555555556,
             "#d8576b"
            ],
            [
             0.6666666666666666,
             "#ed7953"
            ],
            [
             0.7777777777777778,
             "#fb9f3a"
            ],
            [
             0.8888888888888888,
             "#fdca26"
            ],
            [
             1,
             "#f0f921"
            ]
           ]
          },
          "colorway": [
           "#636efa",
           "#EF553B",
           "#00cc96",
           "#ab63fa",
           "#FFA15A",
           "#19d3f3",
           "#FF6692",
           "#B6E880",
           "#FF97FF",
           "#FECB52"
          ],
          "font": {
           "color": "#2a3f5f"
          },
          "geo": {
           "bgcolor": "white",
           "lakecolor": "white",
           "landcolor": "#E5ECF6",
           "showlakes": true,
           "showland": true,
           "subunitcolor": "white"
          },
          "hoverlabel": {
           "align": "left"
          },
          "hovermode": "closest",
          "mapbox": {
           "style": "light"
          },
          "paper_bgcolor": "white",
          "plot_bgcolor": "#E5ECF6",
          "polar": {
           "angularaxis": {
            "gridcolor": "white",
            "linecolor": "white",
            "ticks": ""
           },
           "bgcolor": "#E5ECF6",
           "radialaxis": {
            "gridcolor": "white",
            "linecolor": "white",
            "ticks": ""
           }
          },
          "scene": {
           "xaxis": {
            "backgroundcolor": "#E5ECF6",
            "gridcolor": "white",
            "gridwidth": 2,
            "linecolor": "white",
            "showbackground": true,
            "ticks": "",
            "zerolinecolor": "white"
           },
           "yaxis": {
            "backgroundcolor": "#E5ECF6",
            "gridcolor": "white",
            "gridwidth": 2,
            "linecolor": "white",
            "showbackground": true,
            "ticks": "",
            "zerolinecolor": "white"
           },
           "zaxis": {
            "backgroundcolor": "#E5ECF6",
            "gridcolor": "white",
            "gridwidth": 2,
            "linecolor": "white",
            "showbackground": true,
            "ticks": "",
            "zerolinecolor": "white"
           }
          },
          "shapedefaults": {
           "line": {
            "color": "#2a3f5f"
           }
          },
          "ternary": {
           "aaxis": {
            "gridcolor": "white",
            "linecolor": "white",
            "ticks": ""
           },
           "baxis": {
            "gridcolor": "white",
            "linecolor": "white",
            "ticks": ""
           },
           "bgcolor": "#E5ECF6",
           "caxis": {
            "gridcolor": "white",
            "linecolor": "white",
            "ticks": ""
           }
          },
          "title": {
           "x": 0.05
          },
          "xaxis": {
           "automargin": true,
           "gridcolor": "white",
           "linecolor": "white",
           "ticks": "",
           "title": {
            "standoff": 15
           },
           "zerolinecolor": "white",
           "zerolinewidth": 2
          },
          "yaxis": {
           "automargin": true,
           "gridcolor": "white",
           "linecolor": "white",
           "ticks": "",
           "title": {
            "standoff": 15
           },
           "zerolinecolor": "white",
           "zerolinewidth": 2
          }
         }
        },
        "title": {
         "font": {
          "color": "white",
          "size": 20
         },
         "pad": {
          "r": 10,
          "t": 10
         },
         "text": "Distribution of remote work across job titles<br>in data analysis, data science and machine learning",
         "x": 0.5,
         "xanchor": "center",
         "y": 0.96,
         "yanchor": "top"
        },
        "width": 700
       }
      },
      "text/html": [
       "<div>                            <div id=\"cb163f0b-f5b5-4c9f-9db3-9ab1a223574e\" class=\"plotly-graph-div\" style=\"height:550px; width:700px;\"></div>            <script type=\"text/javascript\">                require([\"plotly\"], function(Plotly) {                    window.PLOTLYENV=window.PLOTLYENV || {};                                    if (document.getElementById(\"cb163f0b-f5b5-4c9f-9db3-9ab1a223574e\")) {                    Plotly.newPlot(                        \"cb163f0b-f5b5-4c9f-9db3-9ab1a223574e\",                        [{\"link\":{\"color\":[\"#C7D3AB\",\"#C7D3AB\",\"#C7D3AB\",\"#CBBDB0\",\"#CBBDB0\",\"#CBBDB0\"],\"source\":[2,3,4,2,3,4],\"target\":[0,0,0,1,1,1],\"value\":[24,34,39,26,16,11]},\"node\":{\"color\":[\"#606A7F\",\"#606A7F\",\"#67615B\",\"#67615B\",\"#67615B\"],\"label\":[\"Not remote\",\"Remote\",\"data_analysis\",\"data_science\",\"machine_learning\"],\"pad\":15,\"thickness\":20},\"type\":\"sankey\"}],                        {\"template\":{\"data\":{\"histogram2dcontour\":[{\"type\":\"histogram2dcontour\",\"colorbar\":{\"outlinewidth\":0,\"ticks\":\"\"},\"colorscale\":[[0.0,\"#0d0887\"],[0.1111111111111111,\"#46039f\"],[0.2222222222222222,\"#7201a8\"],[0.3333333333333333,\"#9c179e\"],[0.4444444444444444,\"#bd3786\"],[0.5555555555555556,\"#d8576b\"],[0.6666666666666666,\"#ed7953\"],[0.7777777777777778,\"#fb9f3a\"],[0.8888888888888888,\"#fdca26\"],[1.0,\"#f0f921\"]]}],\"choropleth\":[{\"type\":\"choropleth\",\"colorbar\":{\"outlinewidth\":0,\"ticks\":\"\"}}],\"histogram2d\":[{\"type\":\"histogram2d\",\"colorbar\":{\"outlinewidth\":0,\"ticks\":\"\"},\"colorscale\":[[0.0,\"#0d0887\"],[0.1111111111111111,\"#46039f\"],[0.2222222222222222,\"#7201a8\"],[0.3333333333333333,\"#9c179e\"],[0.4444444444444444,\"#bd3786\"],[0.5555555555555556,\"#d8576b\"],[0.6666666666666666,\"#ed7953\"],[0.7777777777777778,\"#fb9f3a\"],[0.8888888888888888,\"#fdca26\"],[1.0,\"#f0f921\"]]}],\"heatmap\":[{\"type\":\"heatmap\",\"colorbar\":{\"outlinewidth\":0,\"ticks\":\"\"},\"colorscale\":[[0.0,\"#0d0887\"],[0.1111111111111111,\"#46039f\"],[0.2222222222222222,\"#7201a8\"],[0.3333333333333333,\"#9c179e\"],[0.4444444444444444,\"#bd3786\"],[0.5555555555555556,\"#d8576b\"],[0.6666666666666666,\"#ed7953\"],[0.7777777777777778,\"#fb9f3a\"],[0.8888888888888888,\"#fdca26\"],[1.0,\"#f0f921\"]]}],\"heatmapgl\":[{\"type\":\"heatmapgl\",\"colorbar\":{\"outlinewidth\":0,\"ticks\":\"\"},\"colorscale\":[[0.0,\"#0d0887\"],[0.1111111111111111,\"#46039f\"],[0.2222222222222222,\"#7201a8\"],[0.3333333333333333,\"#9c179e\"],[0.4444444444444444,\"#bd3786\"],[0.5555555555555556,\"#d8576b\"],[0.6666666666666666,\"#ed7953\"],[0.7777777777777778,\"#fb9f3a\"],[0.8888888888888888,\"#fdca26\"],[1.0,\"#f0f921\"]]}],\"contourcarpet\":[{\"type\":\"contourcarpet\",\"colorbar\":{\"outlinewidth\":0,\"ticks\":\"\"}}],\"contour\":[{\"type\":\"contour\",\"colorbar\":{\"outlinewidth\":0,\"ticks\":\"\"},\"colorscale\":[[0.0,\"#0d0887\"],[0.1111111111111111,\"#46039f\"],[0.2222222222222222,\"#7201a8\"],[0.3333333333333333,\"#9c179e\"],[0.4444444444444444,\"#bd3786\"],[0.5555555555555556,\"#d8576b\"],[0.6666666666666666,\"#ed7953\"],[0.7777777777777778,\"#fb9f3a\"],[0.8888888888888888,\"#fdca26\"],[1.0,\"#f0f921\"]]}],\"surface\":[{\"type\":\"surface\",\"colorbar\":{\"outlinewidth\":0,\"ticks\":\"\"},\"colorscale\":[[0.0,\"#0d0887\"],[0.1111111111111111,\"#46039f\"],[0.2222222222222222,\"#7201a8\"],[0.3333333333333333,\"#9c179e\"],[0.4444444444444444,\"#bd3786\"],[0.5555555555555556,\"#d8576b\"],[0.6666666666666666,\"#ed7953\"],[0.7777777777777778,\"#fb9f3a\"],[0.8888888888888888,\"#fdca26\"],[1.0,\"#f0f921\"]]}],\"mesh3d\":[{\"type\":\"mesh3d\",\"colorbar\":{\"outlinewidth\":0,\"ticks\":\"\"}}],\"scatter\":[{\"fillpattern\":{\"fillmode\":\"overlay\",\"size\":10,\"solidity\":0.2},\"type\":\"scatter\"}],\"parcoords\":[{\"type\":\"parcoords\",\"line\":{\"colorbar\":{\"outlinewidth\":0,\"ticks\":\"\"}}}],\"scatterpolargl\":[{\"type\":\"scatterpolargl\",\"marker\":{\"colorbar\":{\"outlinewidth\":0,\"ticks\":\"\"}}}],\"bar\":[{\"error_x\":{\"color\":\"#2a3f5f\"},\"error_y\":{\"color\":\"#2a3f5f\"},\"marker\":{\"line\":{\"color\":\"#E5ECF6\",\"width\":0.5},\"pattern\":{\"fillmode\":\"overlay\",\"size\":10,\"solidity\":0.2}},\"type\":\"bar\"}],\"scattergeo\":[{\"type\":\"scattergeo\",\"marker\":{\"colorbar\":{\"outlinewidth\":0,\"ticks\":\"\"}}}],\"scatterpolar\":[{\"type\":\"scatterpolar\",\"marker\":{\"colorbar\":{\"outlinewidth\":0,\"ticks\":\"\"}}}],\"histogram\":[{\"marker\":{\"pattern\":{\"fillmode\":\"overlay\",\"size\":10,\"solidity\":0.2}},\"type\":\"histogram\"}],\"scattergl\":[{\"type\":\"scattergl\",\"marker\":{\"colorbar\":{\"outlinewidth\":0,\"ticks\":\"\"}}}],\"scatter3d\":[{\"type\":\"scatter3d\",\"line\":{\"colorbar\":{\"outlinewidth\":0,\"ticks\":\"\"}},\"marker\":{\"colorbar\":{\"outlinewidth\":0,\"ticks\":\"\"}}}],\"scattermapbox\":[{\"type\":\"scattermapbox\",\"marker\":{\"colorbar\":{\"outlinewidth\":0,\"ticks\":\"\"}}}],\"scatterternary\":[{\"type\":\"scatterternary\",\"marker\":{\"colorbar\":{\"outlinewidth\":0,\"ticks\":\"\"}}}],\"scattercarpet\":[{\"type\":\"scattercarpet\",\"marker\":{\"colorbar\":{\"outlinewidth\":0,\"ticks\":\"\"}}}],\"carpet\":[{\"aaxis\":{\"endlinecolor\":\"#2a3f5f\",\"gridcolor\":\"white\",\"linecolor\":\"white\",\"minorgridcolor\":\"white\",\"startlinecolor\":\"#2a3f5f\"},\"baxis\":{\"endlinecolor\":\"#2a3f5f\",\"gridcolor\":\"white\",\"linecolor\":\"white\",\"minorgridcolor\":\"white\",\"startlinecolor\":\"#2a3f5f\"},\"type\":\"carpet\"}],\"table\":[{\"cells\":{\"fill\":{\"color\":\"#EBF0F8\"},\"line\":{\"color\":\"white\"}},\"header\":{\"fill\":{\"color\":\"#C8D4E3\"},\"line\":{\"color\":\"white\"}},\"type\":\"table\"}],\"barpolar\":[{\"marker\":{\"line\":{\"color\":\"#E5ECF6\",\"width\":0.5},\"pattern\":{\"fillmode\":\"overlay\",\"size\":10,\"solidity\":0.2}},\"type\":\"barpolar\"}],\"pie\":[{\"automargin\":true,\"type\":\"pie\"}]},\"layout\":{\"autotypenumbers\":\"strict\",\"colorway\":[\"#636efa\",\"#EF553B\",\"#00cc96\",\"#ab63fa\",\"#FFA15A\",\"#19d3f3\",\"#FF6692\",\"#B6E880\",\"#FF97FF\",\"#FECB52\"],\"font\":{\"color\":\"#2a3f5f\"},\"hovermode\":\"closest\",\"hoverlabel\":{\"align\":\"left\"},\"paper_bgcolor\":\"white\",\"plot_bgcolor\":\"#E5ECF6\",\"polar\":{\"bgcolor\":\"#E5ECF6\",\"angularaxis\":{\"gridcolor\":\"white\",\"linecolor\":\"white\",\"ticks\":\"\"},\"radialaxis\":{\"gridcolor\":\"white\",\"linecolor\":\"white\",\"ticks\":\"\"}},\"ternary\":{\"bgcolor\":\"#E5ECF6\",\"aaxis\":{\"gridcolor\":\"white\",\"linecolor\":\"white\",\"ticks\":\"\"},\"baxis\":{\"gridcolor\":\"white\",\"linecolor\":\"white\",\"ticks\":\"\"},\"caxis\":{\"gridcolor\":\"white\",\"linecolor\":\"white\",\"ticks\":\"\"}},\"coloraxis\":{\"colorbar\":{\"outlinewidth\":0,\"ticks\":\"\"}},\"colorscale\":{\"sequential\":[[0.0,\"#0d0887\"],[0.1111111111111111,\"#46039f\"],[0.2222222222222222,\"#7201a8\"],[0.3333333333333333,\"#9c179e\"],[0.4444444444444444,\"#bd3786\"],[0.5555555555555556,\"#d8576b\"],[0.6666666666666666,\"#ed7953\"],[0.7777777777777778,\"#fb9f3a\"],[0.8888888888888888,\"#fdca26\"],[1.0,\"#f0f921\"]],\"sequentialminus\":[[0.0,\"#0d0887\"],[0.1111111111111111,\"#46039f\"],[0.2222222222222222,\"#7201a8\"],[0.3333333333333333,\"#9c179e\"],[0.4444444444444444,\"#bd3786\"],[0.5555555555555556,\"#d8576b\"],[0.6666666666666666,\"#ed7953\"],[0.7777777777777778,\"#fb9f3a\"],[0.8888888888888888,\"#fdca26\"],[1.0,\"#f0f921\"]],\"diverging\":[[0,\"#8e0152\"],[0.1,\"#c51b7d\"],[0.2,\"#de77ae\"],[0.3,\"#f1b6da\"],[0.4,\"#fde0ef\"],[0.5,\"#f7f7f7\"],[0.6,\"#e6f5d0\"],[0.7,\"#b8e186\"],[0.8,\"#7fbc41\"],[0.9,\"#4d9221\"],[1,\"#276419\"]]},\"xaxis\":{\"gridcolor\":\"white\",\"linecolor\":\"white\",\"ticks\":\"\",\"title\":{\"standoff\":15},\"zerolinecolor\":\"white\",\"automargin\":true,\"zerolinewidth\":2},\"yaxis\":{\"gridcolor\":\"white\",\"linecolor\":\"white\",\"ticks\":\"\",\"title\":{\"standoff\":15},\"zerolinecolor\":\"white\",\"automargin\":true,\"zerolinewidth\":2},\"scene\":{\"xaxis\":{\"backgroundcolor\":\"#E5ECF6\",\"gridcolor\":\"white\",\"linecolor\":\"white\",\"showbackground\":true,\"ticks\":\"\",\"zerolinecolor\":\"white\",\"gridwidth\":2},\"yaxis\":{\"backgroundcolor\":\"#E5ECF6\",\"gridcolor\":\"white\",\"linecolor\":\"white\",\"showbackground\":true,\"ticks\":\"\",\"zerolinecolor\":\"white\",\"gridwidth\":2},\"zaxis\":{\"backgroundcolor\":\"#E5ECF6\",\"gridcolor\":\"white\",\"linecolor\":\"white\",\"showbackground\":true,\"ticks\":\"\",\"zerolinecolor\":\"white\",\"gridwidth\":2}},\"shapedefaults\":{\"line\":{\"color\":\"#2a3f5f\"}},\"annotationdefaults\":{\"arrowcolor\":\"#2a3f5f\",\"arrowhead\":0,\"arrowwidth\":1},\"geo\":{\"bgcolor\":\"white\",\"landcolor\":\"#E5ECF6\",\"subunitcolor\":\"white\",\"showland\":true,\"showlakes\":true,\"lakecolor\":\"white\"},\"title\":{\"x\":0.05},\"mapbox\":{\"style\":\"light\"}}},\"title\":{\"pad\":{\"r\":10,\"t\":10},\"font\":{\"size\":20,\"color\":\"white\"},\"text\":\"Distribution of remote work across job titles<br>in data analysis, data science and machine learning\",\"x\":0.5,\"y\":0.96,\"xanchor\":\"center\",\"yanchor\":\"top\"},\"margin\":{\"t\":85,\"l\":25,\"r\":25,\"b\":25},\"font\":{\"size\":14,\"color\":\"white\"},\"width\":700,\"height\":550,\"plot_bgcolor\":\"#272b2e\",\"paper_bgcolor\":\"#272b2e\"},                        {\"responsive\": true}                    ).then(function(){\n",
       "                            \n",
       "var gd = document.getElementById('cb163f0b-f5b5-4c9f-9db3-9ab1a223574e');\n",
       "var x = new MutationObserver(function (mutations, observer) {{\n",
       "        var display = window.getComputedStyle(gd).display;\n",
       "        if (!display || display === 'none') {{\n",
       "            console.log([gd, 'removed!']);\n",
       "            Plotly.purge(gd);\n",
       "            observer.disconnect();\n",
       "        }}\n",
       "}});\n",
       "\n",
       "// Listen for the removal of the full notebook cells\n",
       "var notebookContainer = gd.closest('#notebook-container');\n",
       "if (notebookContainer) {{\n",
       "    x.observe(notebookContainer, {childList: true});\n",
       "}}\n",
       "\n",
       "// Listen for the clearing of the current output cell\n",
       "var outputEl = gd.closest('.output');\n",
       "if (outputEl) {{\n",
       "    x.observe(outputEl, {childList: true});\n",
       "}}\n",
       "\n",
       "                        })                };                });            </script>        </div>"
      ]
     },
     "metadata": {},
     "output_type": "display_data"
    }
   ],
   "source": [
    "# sankey\n",
    "# what about location? this is tech so what's the split between remote and non remote? (next vis: for those that aren't remote\n",
    "# where are they in the us?) \n",
    "import pandas as pd\n",
    "import plotly.graph_objects as go\n",
    "\n",
    "df_us = df[df['location_overall']=='USA']\n",
    "df_us['location'] = df_us['location'].str.strip()\n",
    "\n",
    "df_sankey = df_us.copy()\n",
    "df_sankey['remote_status'] = df_sankey['remote_status'].replace(True, 'Remote').fillna('Not remote')\n",
    "df_sankey.loc[df_sankey['location'] == 'United States', 'remote_status'] = 'Remote'\n",
    "\n",
    "# Define the data as a Pandas dataframe\n",
    "data = df_sankey.groupby(['remote_status', 'job_type']).size().reset_index(name='count')\n",
    "\n",
    "# Create a dictionary of node colors\n",
    "node_colors = {\n",
    "    'data_analysis': '#67615B',\n",
    "    'data_science': '#67615B',\n",
    "    'machine_learning': '#67615B',\n",
    "    'Not remote': '#606A7F',\n",
    "    'Remote': '#606A7F',\n",
    "}\n",
    "\n",
    "# create labels\n",
    "labels = ['Not remote', 'Remote', 'data_analysis', 'data_science', 'machine_learning']\n",
    "\n",
    "# Create a dictionary that maps each label to its index\n",
    "node_indices = {'Not remote': 0,\n",
    " 'Remote': 1,\n",
    " 'data_analysis': 2,\n",
    " 'data_science': 3,\n",
    " 'machine_learning': 4}\n",
    "\n",
    "link_colors = ['#C7D3AB', '#C7D3AB', '#C7D3AB','#CBBDB0', '#CBBDB0', '#CBBDB0']\n",
    "\n",
    "# Create the Sankey diagram\n",
    "fig = go.Figure(go.Sankey(\n",
    "    node = dict(\n",
    "        pad = 15,\n",
    "        thickness = 20,\n",
    "        #line = dict(color = \"white\", width = 0.5),\n",
    "        label = labels,\n",
    "        color = [node_colors[label] for label in labels],\n",
    "    ),\n",
    "    link = dict(\n",
    "        source = [node_indices[status] for status in data['job_type']],\n",
    "        target = [node_indices[job] for job in data['remote_status']],\n",
    "        value = data['count'],\n",
    "        color=link_colors\n",
    "    )))\n",
    "\n",
    "\n",
    "fig.update_layout(\n",
    "    title={'text': f\"Distribution of remote work across job titles<br>in data analysis, data science and machine learning\",\n",
    "        'x': 0.50,\n",
    "        'y': 0.96,\n",
    "        'xanchor': 'center',\n",
    "        'yanchor': 'top',\n",
    "        'pad': {'r': 10, 't': 10,},\n",
    "        'font': {'size': 20, 'color':\"white\"}\n",
    "    },\n",
    "    width=700,\n",
    "    height=550,\n",
    "    plot_bgcolor = \"#272b2e\",\n",
    "    paper_bgcolor = \"#272b2e\",\n",
    "    margin=dict(t=85, l=25, r=25, b=25),\n",
    "    font=dict(size = 14, color = 'white')\n",
    ") \n",
    "\n",
    "fig.show()\n",
    "fig.write_html('../images/sankey.html')\n"
   ]
  },
  {
   "cell_type": "code",
   "execution_count": 154,
   "metadata": {},
   "outputs": [
    {
     "name": "stderr",
     "output_type": "stream",
     "text": [
      "/var/folders/79/jdv69xcs22z7cyxln5rsbzzh0000gn/T/ipykernel_1313/3806301166.py:8: SettingWithCopyWarning:\n",
      "\n",
      "\n",
      "A value is trying to be set on a copy of a slice from a DataFrame.\n",
      "Try using .loc[row_indexer,col_indexer] = value instead\n",
      "\n",
      "See the caveats in the documentation: https://pandas.pydata.org/pandas-docs/stable/user_guide/indexing.html#returning-a-view-versus-a-copy\n",
      "\n",
      "/var/folders/79/jdv69xcs22z7cyxln5rsbzzh0000gn/T/ipykernel_1313/3806301166.py:9: SettingWithCopyWarning:\n",
      "\n",
      "\n",
      "A value is trying to be set on a copy of a slice from a DataFrame.\n",
      "Try using .loc[row_indexer,col_indexer] = value instead\n",
      "\n",
      "See the caveats in the documentation: https://pandas.pydata.org/pandas-docs/stable/user_guide/indexing.html#returning-a-view-versus-a-copy\n",
      "\n",
      "/var/folders/79/jdv69xcs22z7cyxln5rsbzzh0000gn/T/ipykernel_1313/3806301166.py:10: SettingWithCopyWarning:\n",
      "\n",
      "\n",
      "A value is trying to be set on a copy of a slice from a DataFrame.\n",
      "Try using .loc[row_indexer,col_indexer] = value instead\n",
      "\n",
      "See the caveats in the documentation: https://pandas.pydata.org/pandas-docs/stable/user_guide/indexing.html#returning-a-view-versus-a-copy\n",
      "\n",
      "/var/folders/79/jdv69xcs22z7cyxln5rsbzzh0000gn/T/ipykernel_1313/3806301166.py:12: SettingWithCopyWarning:\n",
      "\n",
      "\n",
      "A value is trying to be set on a copy of a slice from a DataFrame.\n",
      "Try using .loc[row_indexer,col_indexer] = value instead\n",
      "\n",
      "See the caveats in the documentation: https://pandas.pydata.org/pandas-docs/stable/user_guide/indexing.html#returning-a-view-versus-a-copy\n",
      "\n",
      "/var/folders/79/jdv69xcs22z7cyxln5rsbzzh0000gn/T/ipykernel_1313/3806301166.py:13: SettingWithCopyWarning:\n",
      "\n",
      "\n",
      "A value is trying to be set on a copy of a slice from a DataFrame.\n",
      "Try using .loc[row_indexer,col_indexer] = value instead\n",
      "\n",
      "See the caveats in the documentation: https://pandas.pydata.org/pandas-docs/stable/user_guide/indexing.html#returning-a-view-versus-a-copy\n",
      "\n",
      "/var/folders/79/jdv69xcs22z7cyxln5rsbzzh0000gn/T/ipykernel_1313/3806301166.py:14: SettingWithCopyWarning:\n",
      "\n",
      "\n",
      "A value is trying to be set on a copy of a slice from a DataFrame.\n",
      "Try using .loc[row_indexer,col_indexer] = value instead\n",
      "\n",
      "See the caveats in the documentation: https://pandas.pydata.org/pandas-docs/stable/user_guide/indexing.html#returning-a-view-versus-a-copy\n",
      "\n",
      "/Users/ameliabaier/opt/anaconda3/envs/anly503/lib/python3.10/site-packages/altair/utils/core.py:317: FutureWarning:\n",
      "\n",
      "iteritems is deprecated and will be removed in a future version. Use .items instead.\n",
      "\n"
     ]
    },
    {
     "data": {
      "text/html": [
       "\n",
       "<div id=\"altair-viz-fbe360c982be47e2beb424c290fcdbcf\"></div>\n",
       "<script type=\"text/javascript\">\n",
       "  var VEGA_DEBUG = (typeof VEGA_DEBUG == \"undefined\") ? {} : VEGA_DEBUG;\n",
       "  (function(spec, embedOpt){\n",
       "    let outputDiv = document.currentScript.previousElementSibling;\n",
       "    if (outputDiv.id !== \"altair-viz-fbe360c982be47e2beb424c290fcdbcf\") {\n",
       "      outputDiv = document.getElementById(\"altair-viz-fbe360c982be47e2beb424c290fcdbcf\");\n",
       "    }\n",
       "    const paths = {\n",
       "      \"vega\": \"https://cdn.jsdelivr.net/npm//vega@5?noext\",\n",
       "      \"vega-lib\": \"https://cdn.jsdelivr.net/npm//vega-lib?noext\",\n",
       "      \"vega-lite\": \"https://cdn.jsdelivr.net/npm//vega-lite@4.17.0?noext\",\n",
       "      \"vega-embed\": \"https://cdn.jsdelivr.net/npm//vega-embed@6?noext\",\n",
       "    };\n",
       "\n",
       "    function maybeLoadScript(lib, version) {\n",
       "      var key = `${lib.replace(\"-\", \"\")}_version`;\n",
       "      return (VEGA_DEBUG[key] == version) ?\n",
       "        Promise.resolve(paths[lib]) :\n",
       "        new Promise(function(resolve, reject) {\n",
       "          var s = document.createElement('script');\n",
       "          document.getElementsByTagName(\"head\")[0].appendChild(s);\n",
       "          s.async = true;\n",
       "          s.onload = () => {\n",
       "            VEGA_DEBUG[key] = version;\n",
       "            return resolve(paths[lib]);\n",
       "          };\n",
       "          s.onerror = () => reject(`Error loading script: ${paths[lib]}`);\n",
       "          s.src = paths[lib];\n",
       "        });\n",
       "    }\n",
       "\n",
       "    function showError(err) {\n",
       "      outputDiv.innerHTML = `<div class=\"error\" style=\"color:red;\">${err}</div>`;\n",
       "      throw err;\n",
       "    }\n",
       "\n",
       "    function displayChart(vegaEmbed) {\n",
       "      vegaEmbed(outputDiv, spec, embedOpt)\n",
       "        .catch(err => showError(`Javascript Error: ${err.message}<br>This usually means there's a typo in your chart specification. See the javascript console for the full traceback.`));\n",
       "    }\n",
       "\n",
       "    if(typeof define === \"function\" && define.amd) {\n",
       "      requirejs.config({paths});\n",
       "      require([\"vega-embed\"], displayChart, err => showError(`Error loading script: ${err.message}`));\n",
       "    } else {\n",
       "      maybeLoadScript(\"vega\", \"5\")\n",
       "        .then(() => maybeLoadScript(\"vega-lite\", \"4.17.0\"))\n",
       "        .then(() => maybeLoadScript(\"vega-embed\", \"6\"))\n",
       "        .catch(showError)\n",
       "        .then(() => displayChart(vegaEmbed));\n",
       "    }\n",
       "  })({\"config\": {\"view\": {\"continuousWidth\": 400, \"continuousHeight\": 300}}, \"hconcat\": [{\"mark\": \"geoshape\", \"encoding\": {\"color\": {\"field\": \"data_analysis\", \"legend\": {\"title\": \"Job titles\"}, \"type\": \"quantitative\"}, \"tooltip\": [{\"field\": \"state\", \"type\": \"nominal\"}, {\"field\": \"data_analysis\", \"type\": \"quantitative\"}]}, \"height\": 300, \"projection\": {\"type\": \"albersUsa\"}, \"title\": \"Number of Data Analysis Job Titles\", \"transform\": [{\"lookup\": \"id\", \"from\": {\"data\": {\"name\": \"data-ae5da510a9dc31372442ed3eed58eeb6\"}, \"key\": \"id\", \"fields\": [\"state\", \"data_analysis\"]}}], \"width\": 500}, {\"mark\": \"geoshape\", \"encoding\": {\"color\": {\"field\": \"data_science\", \"legend\": {\"title\": \"Job titles\"}, \"type\": \"quantitative\"}, \"tooltip\": [{\"field\": \"state\", \"type\": \"nominal\"}, {\"field\": \"data_science\", \"type\": \"quantitative\"}]}, \"height\": 300, \"projection\": {\"type\": \"albersUsa\"}, \"title\": \"Number of Data Science Job Titles\", \"transform\": [{\"lookup\": \"id\", \"from\": {\"data\": {\"name\": \"data-ae5da510a9dc31372442ed3eed58eeb6\"}, \"key\": \"id\", \"fields\": [\"state\", \"data_science\"]}}], \"width\": 500}, {\"mark\": \"geoshape\", \"encoding\": {\"color\": {\"field\": \"machine_learning\", \"legend\": {\"title\": \"Job titles\"}, \"type\": \"quantitative\"}, \"tooltip\": [{\"field\": \"state\", \"type\": \"nominal\"}, {\"field\": \"machine_learning\", \"type\": \"quantitative\"}]}, \"height\": 300, \"projection\": {\"type\": \"albersUsa\"}, \"title\": \"Number of Machine Learning Job Titles\", \"transform\": [{\"lookup\": \"id\", \"from\": {\"data\": {\"name\": \"data-ae5da510a9dc31372442ed3eed58eeb6\"}, \"key\": \"id\", \"fields\": [\"state\", \"machine_learning\"]}}], \"width\": 500}], \"data\": {\"url\": \"https://cdn.jsdelivr.net/npm/vega-datasets@v1.29.0/data/us-10m.json\", \"format\": {\"feature\": \"states\", \"type\": \"topojson\"}}, \"$schema\": \"https://vega.github.io/schema/vega-lite/v4.17.0.json\", \"datasets\": {\"data-ae5da510a9dc31372442ed3eed58eeb6\": [{\"state\": \"Alabama\", \"id\": 1, \"data_analysis\": 0, \"data_science\": 1, \"machine_learning\": 0}, {\"state\": \"Arkansas\", \"id\": 5, \"data_analysis\": 5, \"data_science\": 2, \"machine_learning\": 0}, {\"state\": \"California\", \"id\": 6, \"data_analysis\": 0, \"data_science\": 0, \"machine_learning\": 14}, {\"state\": \"Colorado\", \"id\": 8, \"data_analysis\": 0, \"data_science\": 2, \"machine_learning\": 2}, {\"state\": \"Illinois\", \"id\": 17, \"data_analysis\": 0, \"data_science\": 8, \"machine_learning\": 2}, {\"state\": \"Indiana\", \"id\": 18, \"data_analysis\": 0, \"data_science\": 3, \"machine_learning\": 0}, {\"state\": \"Kansas\", \"id\": 20, \"data_analysis\": 4, \"data_science\": 1, \"machine_learning\": 0}, {\"state\": \"Massachusetts\", \"id\": 25, \"data_analysis\": 0, \"data_science\": 0, \"machine_learning\": 3}, {\"state\": \"Maryland\", \"id\": 24, \"data_analysis\": 0, \"data_science\": 0, \"machine_learning\": 3}, {\"state\": \"Michigan\", \"id\": 26, \"data_analysis\": 0, \"data_science\": 0, \"machine_learning\": 1}, {\"state\": \"Minnesota\", \"id\": 27, \"data_analysis\": 0, \"data_science\": 3, \"machine_learning\": 0}, {\"state\": \"Missouri\", \"id\": 29, \"data_analysis\": 2, \"data_science\": 0, \"machine_learning\": 0}, {\"state\": \"Nebraska\", \"id\": 31, \"data_analysis\": 2, \"data_science\": 0, \"machine_learning\": 0}, {\"state\": \"New York\", \"id\": 36, \"data_analysis\": 0, \"data_science\": 0, \"machine_learning\": 4}, {\"state\": \"Oklahoma\", \"id\": 40, \"data_analysis\": 5, \"data_science\": 1, \"machine_learning\": 0}, {\"state\": \"Tennessee\", \"id\": 47, \"data_analysis\": 0, \"data_science\": 0, \"machine_learning\": 1}, {\"state\": \"Texas\", \"id\": 48, \"data_analysis\": 1, \"data_science\": 8, \"machine_learning\": 6}, {\"state\": \"Washington\", \"id\": 53, \"data_analysis\": 0, \"data_science\": 0, \"machine_learning\": 2}, {\"state\": \"Wisconsin\", \"id\": 55, \"data_analysis\": 0, \"data_science\": 2, \"machine_learning\": 0}, {\"state\": \"Alaska\", \"id\": 2, \"data_analysis\": 0, \"data_science\": 0, \"machine_learning\": 0}, {\"state\": \"Arizona\", \"id\": 4, \"data_analysis\": 0, \"data_science\": 0, \"machine_learning\": 0}, {\"state\": \"Connecticut\", \"id\": 9, \"data_analysis\": 0, \"data_science\": 0, \"machine_learning\": 0}, {\"state\": \"Delaware\", \"id\": 10, \"data_analysis\": 0, \"data_science\": 0, \"machine_learning\": 0}, {\"state\": \"District of Columbia\", \"id\": 11, \"data_analysis\": 0, \"data_science\": 0, \"machine_learning\": 0}, {\"state\": \"Florida\", \"id\": 12, \"data_analysis\": 0, \"data_science\": 0, \"machine_learning\": 0}, {\"state\": \"Georgia\", \"id\": 13, \"data_analysis\": 0, \"data_science\": 0, \"machine_learning\": 0}, {\"state\": \"Hawaii\", \"id\": 15, \"data_analysis\": 0, \"data_science\": 0, \"machine_learning\": 0}, {\"state\": \"Idaho\", \"id\": 16, \"data_analysis\": 0, \"data_science\": 0, \"machine_learning\": 0}, {\"state\": \"Iowa\", \"id\": 19, \"data_analysis\": 0, \"data_science\": 0, \"machine_learning\": 0}, {\"state\": \"Kentucky\", \"id\": 21, \"data_analysis\": 0, \"data_science\": 0, \"machine_learning\": 0}, {\"state\": \"Louisiana\", \"id\": 22, \"data_analysis\": 0, \"data_science\": 0, \"machine_learning\": 0}, {\"state\": \"Maine\", \"id\": 23, \"data_analysis\": 0, \"data_science\": 0, \"machine_learning\": 0}, {\"state\": \"Mississippi\", \"id\": 28, \"data_analysis\": 0, \"data_science\": 0, \"machine_learning\": 0}, {\"state\": \"Montana\", \"id\": 30, \"data_analysis\": 0, \"data_science\": 0, \"machine_learning\": 0}, {\"state\": \"Nevada\", \"id\": 32, \"data_analysis\": 0, \"data_science\": 0, \"machine_learning\": 0}, {\"state\": \"New Hampshire\", \"id\": 33, \"data_analysis\": 0, \"data_science\": 0, \"machine_learning\": 0}, {\"state\": \"New Jersey\", \"id\": 34, \"data_analysis\": 0, \"data_science\": 0, \"machine_learning\": 0}, {\"state\": \"New Mexico\", \"id\": 35, \"data_analysis\": 0, \"data_science\": 0, \"machine_learning\": 0}, {\"state\": \"North Carolina\", \"id\": 37, \"data_analysis\": 0, \"data_science\": 0, \"machine_learning\": 0}, {\"state\": \"North Dakota\", \"id\": 38, \"data_analysis\": 0, \"data_science\": 0, \"machine_learning\": 0}, {\"state\": \"Ohio\", \"id\": 39, \"data_analysis\": 0, \"data_science\": 0, \"machine_learning\": 0}, {\"state\": \"Oregon\", \"id\": 41, \"data_analysis\": 0, \"data_science\": 0, \"machine_learning\": 0}, {\"state\": \"Pennsylvania\", \"id\": 42, \"data_analysis\": 0, \"data_science\": 0, \"machine_learning\": 0}, {\"state\": \"Rhode Island\", \"id\": 44, \"data_analysis\": 0, \"data_science\": 0, \"machine_learning\": 0}, {\"state\": \"South Carolina\", \"id\": 45, \"data_analysis\": 0, \"data_science\": 0, \"machine_learning\": 0}, {\"state\": \"South Dakota\", \"id\": 46, \"data_analysis\": 0, \"data_science\": 0, \"machine_learning\": 0}, {\"state\": \"Utah\", \"id\": 49, \"data_analysis\": 0, \"data_science\": 0, \"machine_learning\": 0}, {\"state\": \"Vermont\", \"id\": 50, \"data_analysis\": 0, \"data_science\": 0, \"machine_learning\": 0}, {\"state\": \"Virginia\", \"id\": 51, \"data_analysis\": 0, \"data_science\": 0, \"machine_learning\": 0}, {\"state\": \"West Virginia\", \"id\": 54, \"data_analysis\": 0, \"data_science\": 0, \"machine_learning\": 0}, {\"state\": \"Wyoming\", \"id\": 56, \"data_analysis\": 0, \"data_science\": 0, \"machine_learning\": 0}, {\"state\": \"Puerto Rico\", \"id\": 72, \"data_analysis\": 0, \"data_science\": 0, \"machine_learning\": 0}]}}, {\"mode\": \"vega-lite\"});\n",
       "</script>"
      ],
      "text/plain": [
       "alt.HConcatChart(...)"
      ]
     },
     "execution_count": 154,
     "metadata": {},
     "output_type": "execute_result"
    }
   ],
   "source": [
    "# chloropleths for job types and number of jobs that came up for that job type\n",
    "import altair as alt\n",
    "from vega_datasets import data\n",
    "\n",
    "states = alt.topo_feature(data.us_10m.url, 'states')\n",
    "\n",
    "# strip the spaces in the city column\n",
    "df_us[['city', 'state']] = df_us['location'].str.split(',', expand=True)\n",
    "df_us['city'] = df_us['city'].str.strip()\n",
    "df_us['state'] = df_us['state'].str.strip()\n",
    "\n",
    "df_us['state']=df_us['state'].replace('TX  (+1 other)','TX')\n",
    "df_us['state']=df_us['state'].replace('IL   (+12 others)','IL')\n",
    "df_us['state']=df_us['state'].replace('NY   (+2 others)','NY')\n",
    "\n",
    "# create a pivot table with state as the index and job types as columns\n",
    "pivot_df = pd.pivot_table(df_us, index='state', columns='job_type', values='title', aggfunc='count').reset_index()\n",
    "pivot_df.state.unique()\n",
    "\n",
    "pivot_df['state']=pivot_df['state'].replace('AL','Alabama')\n",
    "pivot_df['state']=pivot_df['state'].replace('AR','Arkansas')\n",
    "pivot_df['state']=pivot_df['state'].replace('CA','California')\n",
    "pivot_df['state']=pivot_df['state'].replace('CO','Colorado')\n",
    "pivot_df['state']=pivot_df['state'].replace('IL','Illinois')\n",
    "pivot_df['state']=pivot_df['state'].replace('IN','Indiana')\n",
    "pivot_df['state']=pivot_df['state'].replace('KS','Kansas')\n",
    "pivot_df['state']=pivot_df['state'].replace('MA','Massachusetts')\n",
    "pivot_df['state']=pivot_df['state'].replace('MD','Maryland')\n",
    "pivot_df['state']=pivot_df['state'].replace('MI','Michigan')\n",
    "pivot_df['state']=pivot_df['state'].replace('MN','Minnesota')\n",
    "pivot_df['state']=pivot_df['state'].replace('MO','Missouri')\n",
    "pivot_df['state']=pivot_df['state'].replace('NE','Nebraska')\n",
    "pivot_df['state']=pivot_df['state'].replace('NY','New York')\n",
    "pivot_df['state']=pivot_df['state'].replace('OK','Oklahoma')\n",
    "pivot_df['state']=pivot_df['state'].replace('TN','Tennessee')\n",
    "pivot_df['state']=pivot_df['state'].replace('TX','Texas')\n",
    "pivot_df['state']=pivot_df['state'].replace('WA','Washington')\n",
    "pivot_df['state']=pivot_df['state'].replace('WI','Wisconsin')\n",
    "pivot_df.fillna(0,inplace=True)\n",
    "\n",
    "import altair as alt\n",
    "import pandas as pd\n",
    "from vega_datasets import data\n",
    "df_test = pd.read_csv('../data/population_engineers_hurricanes.csv')\n",
    "\n",
    "states = alt.topo_feature(data.us_10m.url, 'states')\n",
    "source = df_test\n",
    "chart1 = alt.Chart(states).mark_geoshape().encode(\n",
    "    color=alt.Color('data_analysis:Q', legend=alt.Legend(title='Job titles')),\n",
    "    tooltip=['state:N', 'data_analysis:Q']\n",
    ").transform_lookup(\n",
    "    lookup='id',\n",
    "    from_=alt.LookupData(source, 'id', ['state','data_analysis'])\n",
    ").project(\n",
    "    type='albersUsa'\n",
    ").properties(\n",
    "    width=500,\n",
    "    height=300,\n",
    "    title='Number of Data Analysis Job Titles'\n",
    ")\n",
    "chart2 = alt.Chart(states).mark_geoshape().encode(\n",
    "    color=alt.Color('data_science:Q', legend=alt.Legend(title='Job titles')),\n",
    "    tooltip=['state:N', 'data_science:Q']\n",
    ").transform_lookup(\n",
    "    lookup='id',\n",
    "    from_=alt.LookupData(source, 'id', ['state','data_science'])\n",
    ").project(\n",
    "    type='albersUsa'\n",
    ").properties(\n",
    "    width=500,\n",
    "    height=300,\n",
    "    title='Number of Data Science Job Titles'\n",
    ")\n",
    "chart3 = alt.Chart(states).mark_geoshape().encode(\n",
    "    color=alt.Color('machine_learning:Q', legend=alt.Legend(title='Job titles')),\n",
    "    tooltip=['state:N', 'machine_learning:Q']\n",
    ").transform_lookup(\n",
    "    lookup='id',\n",
    "    from_=alt.LookupData(source, 'id', ['state','machine_learning'])\n",
    ").project(\n",
    "    type='albersUsa'\n",
    ").properties(\n",
    "    width=500,\n",
    "    height=300,\n",
    "    title='Number of Machine Learning Job Titles'\n",
    ")\n",
    "\n",
    "concat = (chart1 | chart2 | chart3)\n",
    "concat\n",
    "#concat.save('../images/chloropleth.html')\n"
   ]
  },
  {
   "cell_type": "code",
   "execution_count": 181,
   "metadata": {},
   "outputs": [
    {
     "name": "stderr",
     "output_type": "stream",
     "text": [
      "/Users/ameliabaier/opt/anaconda3/envs/anly503/lib/python3.10/site-packages/altair/utils/core.py:317: FutureWarning:\n",
      "\n",
      "iteritems is deprecated and will be removed in a future version. Use .items instead.\n",
      "\n"
     ]
    },
    {
     "data": {
      "text/html": [
       "\n",
       "<div id=\"altair-viz-ba2698e35a9048d99472e7fd5fc461f4\"></div>\n",
       "<script type=\"text/javascript\">\n",
       "  var VEGA_DEBUG = (typeof VEGA_DEBUG == \"undefined\") ? {} : VEGA_DEBUG;\n",
       "  (function(spec, embedOpt){\n",
       "    let outputDiv = document.currentScript.previousElementSibling;\n",
       "    if (outputDiv.id !== \"altair-viz-ba2698e35a9048d99472e7fd5fc461f4\") {\n",
       "      outputDiv = document.getElementById(\"altair-viz-ba2698e35a9048d99472e7fd5fc461f4\");\n",
       "    }\n",
       "    const paths = {\n",
       "      \"vega\": \"https://cdn.jsdelivr.net/npm//vega@5?noext\",\n",
       "      \"vega-lib\": \"https://cdn.jsdelivr.net/npm//vega-lib?noext\",\n",
       "      \"vega-lite\": \"https://cdn.jsdelivr.net/npm//vega-lite@4.17.0?noext\",\n",
       "      \"vega-embed\": \"https://cdn.jsdelivr.net/npm//vega-embed@6?noext\",\n",
       "    };\n",
       "\n",
       "    function maybeLoadScript(lib, version) {\n",
       "      var key = `${lib.replace(\"-\", \"\")}_version`;\n",
       "      return (VEGA_DEBUG[key] == version) ?\n",
       "        Promise.resolve(paths[lib]) :\n",
       "        new Promise(function(resolve, reject) {\n",
       "          var s = document.createElement('script');\n",
       "          document.getElementsByTagName(\"head\")[0].appendChild(s);\n",
       "          s.async = true;\n",
       "          s.onload = () => {\n",
       "            VEGA_DEBUG[key] = version;\n",
       "            return resolve(paths[lib]);\n",
       "          };\n",
       "          s.onerror = () => reject(`Error loading script: ${paths[lib]}`);\n",
       "          s.src = paths[lib];\n",
       "        });\n",
       "    }\n",
       "\n",
       "    function showError(err) {\n",
       "      outputDiv.innerHTML = `<div class=\"error\" style=\"color:red;\">${err}</div>`;\n",
       "      throw err;\n",
       "    }\n",
       "\n",
       "    function displayChart(vegaEmbed) {\n",
       "      vegaEmbed(outputDiv, spec, embedOpt)\n",
       "        .catch(err => showError(`Javascript Error: ${err.message}<br>This usually means there's a typo in your chart specification. See the javascript console for the full traceback.`));\n",
       "    }\n",
       "\n",
       "    if(typeof define === \"function\" && define.amd) {\n",
       "      requirejs.config({paths});\n",
       "      require([\"vega-embed\"], displayChart, err => showError(`Error loading script: ${err.message}`));\n",
       "    } else {\n",
       "      maybeLoadScript(\"vega\", \"5\")\n",
       "        .then(() => maybeLoadScript(\"vega-lite\", \"4.17.0\"))\n",
       "        .then(() => maybeLoadScript(\"vega-embed\", \"6\"))\n",
       "        .catch(showError)\n",
       "        .then(() => displayChart(vegaEmbed));\n",
       "    }\n",
       "  })({\"config\": {\"view\": {\"continuousWidth\": 400, \"continuousHeight\": 300, \"stroke\": null}, \"legend\": {\"labelColor\": \"white\", \"labelFontSize\": 14, \"titleColor\": \"white\"}, \"title\": {\"anchor\": \"middle\", \"color\": \"white\", \"fontSize\": 22}}, \"data\": {\"url\": \"https://cdn.jsdelivr.net/npm/vega-datasets@v1.29.0/data/us-10m.json\", \"format\": {\"feature\": \"states\", \"type\": \"topojson\"}}, \"mark\": \"geoshape\", \"background\": \"#272b2e\", \"encoding\": {\"color\": {\"field\": \"data_analysis\", \"legend\": {\"title\": \"Job titles\"}, \"type\": \"quantitative\"}, \"tooltip\": [{\"field\": \"state\", \"type\": \"nominal\"}, {\"field\": \"data_analysis\", \"type\": \"quantitative\"}]}, \"height\": 450, \"projection\": {\"type\": \"albersUsa\"}, \"title\": \"A chroropleth map of data analysis job titles per state\", \"transform\": [{\"lookup\": \"id\", \"from\": {\"data\": {\"name\": \"data-ae5da510a9dc31372442ed3eed58eeb6\"}, \"key\": \"id\", \"fields\": [\"state\", \"data_analysis\"]}}], \"width\": 600, \"$schema\": \"https://vega.github.io/schema/vega-lite/v4.17.0.json\", \"datasets\": {\"data-ae5da510a9dc31372442ed3eed58eeb6\": [{\"state\": \"Alabama\", \"id\": 1, \"data_analysis\": 0, \"data_science\": 1, \"machine_learning\": 0}, {\"state\": \"Arkansas\", \"id\": 5, \"data_analysis\": 5, \"data_science\": 2, \"machine_learning\": 0}, {\"state\": \"California\", \"id\": 6, \"data_analysis\": 0, \"data_science\": 0, \"machine_learning\": 14}, {\"state\": \"Colorado\", \"id\": 8, \"data_analysis\": 0, \"data_science\": 2, \"machine_learning\": 2}, {\"state\": \"Illinois\", \"id\": 17, \"data_analysis\": 0, \"data_science\": 8, \"machine_learning\": 2}, {\"state\": \"Indiana\", \"id\": 18, \"data_analysis\": 0, \"data_science\": 3, \"machine_learning\": 0}, {\"state\": \"Kansas\", \"id\": 20, \"data_analysis\": 4, \"data_science\": 1, \"machine_learning\": 0}, {\"state\": \"Massachusetts\", \"id\": 25, \"data_analysis\": 0, \"data_science\": 0, \"machine_learning\": 3}, {\"state\": \"Maryland\", \"id\": 24, \"data_analysis\": 0, \"data_science\": 0, \"machine_learning\": 3}, {\"state\": \"Michigan\", \"id\": 26, \"data_analysis\": 0, \"data_science\": 0, \"machine_learning\": 1}, {\"state\": \"Minnesota\", \"id\": 27, \"data_analysis\": 0, \"data_science\": 3, \"machine_learning\": 0}, {\"state\": \"Missouri\", \"id\": 29, \"data_analysis\": 2, \"data_science\": 0, \"machine_learning\": 0}, {\"state\": \"Nebraska\", \"id\": 31, \"data_analysis\": 2, \"data_science\": 0, \"machine_learning\": 0}, {\"state\": \"New York\", \"id\": 36, \"data_analysis\": 0, \"data_science\": 0, \"machine_learning\": 4}, {\"state\": \"Oklahoma\", \"id\": 40, \"data_analysis\": 5, \"data_science\": 1, \"machine_learning\": 0}, {\"state\": \"Tennessee\", \"id\": 47, \"data_analysis\": 0, \"data_science\": 0, \"machine_learning\": 1}, {\"state\": \"Texas\", \"id\": 48, \"data_analysis\": 1, \"data_science\": 8, \"machine_learning\": 6}, {\"state\": \"Washington\", \"id\": 53, \"data_analysis\": 0, \"data_science\": 0, \"machine_learning\": 2}, {\"state\": \"Wisconsin\", \"id\": 55, \"data_analysis\": 0, \"data_science\": 2, \"machine_learning\": 0}, {\"state\": \"Alaska\", \"id\": 2, \"data_analysis\": 0, \"data_science\": 0, \"machine_learning\": 0}, {\"state\": \"Arizona\", \"id\": 4, \"data_analysis\": 0, \"data_science\": 0, \"machine_learning\": 0}, {\"state\": \"Connecticut\", \"id\": 9, \"data_analysis\": 0, \"data_science\": 0, \"machine_learning\": 0}, {\"state\": \"Delaware\", \"id\": 10, \"data_analysis\": 0, \"data_science\": 0, \"machine_learning\": 0}, {\"state\": \"District of Columbia\", \"id\": 11, \"data_analysis\": 0, \"data_science\": 0, \"machine_learning\": 0}, {\"state\": \"Florida\", \"id\": 12, \"data_analysis\": 0, \"data_science\": 0, \"machine_learning\": 0}, {\"state\": \"Georgia\", \"id\": 13, \"data_analysis\": 0, \"data_science\": 0, \"machine_learning\": 0}, {\"state\": \"Hawaii\", \"id\": 15, \"data_analysis\": 0, \"data_science\": 0, \"machine_learning\": 0}, {\"state\": \"Idaho\", \"id\": 16, \"data_analysis\": 0, \"data_science\": 0, \"machine_learning\": 0}, {\"state\": \"Iowa\", \"id\": 19, \"data_analysis\": 0, \"data_science\": 0, \"machine_learning\": 0}, {\"state\": \"Kentucky\", \"id\": 21, \"data_analysis\": 0, \"data_science\": 0, \"machine_learning\": 0}, {\"state\": \"Louisiana\", \"id\": 22, \"data_analysis\": 0, \"data_science\": 0, \"machine_learning\": 0}, {\"state\": \"Maine\", \"id\": 23, \"data_analysis\": 0, \"data_science\": 0, \"machine_learning\": 0}, {\"state\": \"Mississippi\", \"id\": 28, \"data_analysis\": 0, \"data_science\": 0, \"machine_learning\": 0}, {\"state\": \"Montana\", \"id\": 30, \"data_analysis\": 0, \"data_science\": 0, \"machine_learning\": 0}, {\"state\": \"Nevada\", \"id\": 32, \"data_analysis\": 0, \"data_science\": 0, \"machine_learning\": 0}, {\"state\": \"New Hampshire\", \"id\": 33, \"data_analysis\": 0, \"data_science\": 0, \"machine_learning\": 0}, {\"state\": \"New Jersey\", \"id\": 34, \"data_analysis\": 0, \"data_science\": 0, \"machine_learning\": 0}, {\"state\": \"New Mexico\", \"id\": 35, \"data_analysis\": 0, \"data_science\": 0, \"machine_learning\": 0}, {\"state\": \"North Carolina\", \"id\": 37, \"data_analysis\": 0, \"data_science\": 0, \"machine_learning\": 0}, {\"state\": \"North Dakota\", \"id\": 38, \"data_analysis\": 0, \"data_science\": 0, \"machine_learning\": 0}, {\"state\": \"Ohio\", \"id\": 39, \"data_analysis\": 0, \"data_science\": 0, \"machine_learning\": 0}, {\"state\": \"Oregon\", \"id\": 41, \"data_analysis\": 0, \"data_science\": 0, \"machine_learning\": 0}, {\"state\": \"Pennsylvania\", \"id\": 42, \"data_analysis\": 0, \"data_science\": 0, \"machine_learning\": 0}, {\"state\": \"Rhode Island\", \"id\": 44, \"data_analysis\": 0, \"data_science\": 0, \"machine_learning\": 0}, {\"state\": \"South Carolina\", \"id\": 45, \"data_analysis\": 0, \"data_science\": 0, \"machine_learning\": 0}, {\"state\": \"South Dakota\", \"id\": 46, \"data_analysis\": 0, \"data_science\": 0, \"machine_learning\": 0}, {\"state\": \"Utah\", \"id\": 49, \"data_analysis\": 0, \"data_science\": 0, \"machine_learning\": 0}, {\"state\": \"Vermont\", \"id\": 50, \"data_analysis\": 0, \"data_science\": 0, \"machine_learning\": 0}, {\"state\": \"Virginia\", \"id\": 51, \"data_analysis\": 0, \"data_science\": 0, \"machine_learning\": 0}, {\"state\": \"West Virginia\", \"id\": 54, \"data_analysis\": 0, \"data_science\": 0, \"machine_learning\": 0}, {\"state\": \"Wyoming\", \"id\": 56, \"data_analysis\": 0, \"data_science\": 0, \"machine_learning\": 0}, {\"state\": \"Puerto Rico\", \"id\": 72, \"data_analysis\": 0, \"data_science\": 0, \"machine_learning\": 0}]}}, {\"mode\": \"vega-lite\"});\n",
       "</script>"
      ],
      "text/plain": [
       "alt.Chart(...)"
      ]
     },
     "execution_count": 181,
     "metadata": {},
     "output_type": "execute_result"
    }
   ],
   "source": [
    "import altair as alt\n",
    "import pandas as pd\n",
    "from vega_datasets import data\n",
    "df_test = pd.read_csv('../data/population_engineers_hurricanes.csv')\n",
    "\n",
    "states = alt.topo_feature(data.us_10m.url, 'states')\n",
    "source = df_test\n",
    "chart1 = alt.Chart(states).mark_geoshape().encode(\n",
    "    color=alt.Color('data_analysis:Q', legend=alt.Legend(title='Job titles')),\n",
    "    tooltip=['state:N', 'data_analysis:Q']\n",
    ").transform_lookup(\n",
    "    lookup='id',\n",
    "    from_=alt.LookupData(source, 'id', ['state','data_analysis'])\n",
    ").project(\n",
    "    type='albersUsa'\n",
    ").properties(\n",
    "    width=600,\n",
    "    height=450,\n",
    "    title='A chroropleth map of data analysis job titles per state',\n",
    "    background='#272b2e'\n",
    ").configure_title(\n",
    "    fontSize=22,\n",
    "    color='white', # set the title font color to white\n",
    "    anchor='middle',\n",
    ").configure_legend(\n",
    "    labelColor='white',\n",
    "    titleColor='white',\n",
    "    labelFontSize=14, \n",
    ").configure_view(stroke=None)\n",
    "\n",
    "chart1.save('../images/chloropleth1.html')\n",
    "chart1"
   ]
  },
  {
   "cell_type": "code",
   "execution_count": 183,
   "metadata": {},
   "outputs": [
    {
     "name": "stderr",
     "output_type": "stream",
     "text": [
      "/Users/ameliabaier/opt/anaconda3/envs/anly503/lib/python3.10/site-packages/altair/utils/core.py:317: FutureWarning:\n",
      "\n",
      "iteritems is deprecated and will be removed in a future version. Use .items instead.\n",
      "\n"
     ]
    },
    {
     "data": {
      "text/html": [
       "\n",
       "<div id=\"altair-viz-be58a24d08d1435f8e22b80dcc37d3d0\"></div>\n",
       "<script type=\"text/javascript\">\n",
       "  var VEGA_DEBUG = (typeof VEGA_DEBUG == \"undefined\") ? {} : VEGA_DEBUG;\n",
       "  (function(spec, embedOpt){\n",
       "    let outputDiv = document.currentScript.previousElementSibling;\n",
       "    if (outputDiv.id !== \"altair-viz-be58a24d08d1435f8e22b80dcc37d3d0\") {\n",
       "      outputDiv = document.getElementById(\"altair-viz-be58a24d08d1435f8e22b80dcc37d3d0\");\n",
       "    }\n",
       "    const paths = {\n",
       "      \"vega\": \"https://cdn.jsdelivr.net/npm//vega@5?noext\",\n",
       "      \"vega-lib\": \"https://cdn.jsdelivr.net/npm//vega-lib?noext\",\n",
       "      \"vega-lite\": \"https://cdn.jsdelivr.net/npm//vega-lite@4.17.0?noext\",\n",
       "      \"vega-embed\": \"https://cdn.jsdelivr.net/npm//vega-embed@6?noext\",\n",
       "    };\n",
       "\n",
       "    function maybeLoadScript(lib, version) {\n",
       "      var key = `${lib.replace(\"-\", \"\")}_version`;\n",
       "      return (VEGA_DEBUG[key] == version) ?\n",
       "        Promise.resolve(paths[lib]) :\n",
       "        new Promise(function(resolve, reject) {\n",
       "          var s = document.createElement('script');\n",
       "          document.getElementsByTagName(\"head\")[0].appendChild(s);\n",
       "          s.async = true;\n",
       "          s.onload = () => {\n",
       "            VEGA_DEBUG[key] = version;\n",
       "            return resolve(paths[lib]);\n",
       "          };\n",
       "          s.onerror = () => reject(`Error loading script: ${paths[lib]}`);\n",
       "          s.src = paths[lib];\n",
       "        });\n",
       "    }\n",
       "\n",
       "    function showError(err) {\n",
       "      outputDiv.innerHTML = `<div class=\"error\" style=\"color:red;\">${err}</div>`;\n",
       "      throw err;\n",
       "    }\n",
       "\n",
       "    function displayChart(vegaEmbed) {\n",
       "      vegaEmbed(outputDiv, spec, embedOpt)\n",
       "        .catch(err => showError(`Javascript Error: ${err.message}<br>This usually means there's a typo in your chart specification. See the javascript console for the full traceback.`));\n",
       "    }\n",
       "\n",
       "    if(typeof define === \"function\" && define.amd) {\n",
       "      requirejs.config({paths});\n",
       "      require([\"vega-embed\"], displayChart, err => showError(`Error loading script: ${err.message}`));\n",
       "    } else {\n",
       "      maybeLoadScript(\"vega\", \"5\")\n",
       "        .then(() => maybeLoadScript(\"vega-lite\", \"4.17.0\"))\n",
       "        .then(() => maybeLoadScript(\"vega-embed\", \"6\"))\n",
       "        .catch(showError)\n",
       "        .then(() => displayChart(vegaEmbed));\n",
       "    }\n",
       "  })({\"config\": {\"view\": {\"continuousWidth\": 400, \"continuousHeight\": 300, \"stroke\": null}, \"legend\": {\"labelColor\": \"white\", \"labelFontSize\": 14, \"titleColor\": \"white\"}, \"title\": {\"anchor\": \"middle\", \"color\": \"white\", \"fontSize\": 22}}, \"data\": {\"url\": \"https://cdn.jsdelivr.net/npm/vega-datasets@v1.29.0/data/us-10m.json\", \"format\": {\"feature\": \"states\", \"type\": \"topojson\"}}, \"mark\": \"geoshape\", \"background\": \"#272b2e\", \"encoding\": {\"color\": {\"field\": \"data_science\", \"legend\": {\"title\": \"Job titles\"}, \"type\": \"quantitative\"}, \"tooltip\": [{\"field\": \"state\", \"type\": \"nominal\"}, {\"field\": \"data_science\", \"type\": \"quantitative\"}]}, \"height\": 450, \"projection\": {\"type\": \"albersUsa\"}, \"title\": \"A chroropleth map of data science job titles per state\", \"transform\": [{\"lookup\": \"id\", \"from\": {\"data\": {\"name\": \"data-ae5da510a9dc31372442ed3eed58eeb6\"}, \"key\": \"id\", \"fields\": [\"state\", \"data_science\"]}}], \"width\": 600, \"$schema\": \"https://vega.github.io/schema/vega-lite/v4.17.0.json\", \"datasets\": {\"data-ae5da510a9dc31372442ed3eed58eeb6\": [{\"state\": \"Alabama\", \"id\": 1, \"data_analysis\": 0, \"data_science\": 1, \"machine_learning\": 0}, {\"state\": \"Arkansas\", \"id\": 5, \"data_analysis\": 5, \"data_science\": 2, \"machine_learning\": 0}, {\"state\": \"California\", \"id\": 6, \"data_analysis\": 0, \"data_science\": 0, \"machine_learning\": 14}, {\"state\": \"Colorado\", \"id\": 8, \"data_analysis\": 0, \"data_science\": 2, \"machine_learning\": 2}, {\"state\": \"Illinois\", \"id\": 17, \"data_analysis\": 0, \"data_science\": 8, \"machine_learning\": 2}, {\"state\": \"Indiana\", \"id\": 18, \"data_analysis\": 0, \"data_science\": 3, \"machine_learning\": 0}, {\"state\": \"Kansas\", \"id\": 20, \"data_analysis\": 4, \"data_science\": 1, \"machine_learning\": 0}, {\"state\": \"Massachusetts\", \"id\": 25, \"data_analysis\": 0, \"data_science\": 0, \"machine_learning\": 3}, {\"state\": \"Maryland\", \"id\": 24, \"data_analysis\": 0, \"data_science\": 0, \"machine_learning\": 3}, {\"state\": \"Michigan\", \"id\": 26, \"data_analysis\": 0, \"data_science\": 0, \"machine_learning\": 1}, {\"state\": \"Minnesota\", \"id\": 27, \"data_analysis\": 0, \"data_science\": 3, \"machine_learning\": 0}, {\"state\": \"Missouri\", \"id\": 29, \"data_analysis\": 2, \"data_science\": 0, \"machine_learning\": 0}, {\"state\": \"Nebraska\", \"id\": 31, \"data_analysis\": 2, \"data_science\": 0, \"machine_learning\": 0}, {\"state\": \"New York\", \"id\": 36, \"data_analysis\": 0, \"data_science\": 0, \"machine_learning\": 4}, {\"state\": \"Oklahoma\", \"id\": 40, \"data_analysis\": 5, \"data_science\": 1, \"machine_learning\": 0}, {\"state\": \"Tennessee\", \"id\": 47, \"data_analysis\": 0, \"data_science\": 0, \"machine_learning\": 1}, {\"state\": \"Texas\", \"id\": 48, \"data_analysis\": 1, \"data_science\": 8, \"machine_learning\": 6}, {\"state\": \"Washington\", \"id\": 53, \"data_analysis\": 0, \"data_science\": 0, \"machine_learning\": 2}, {\"state\": \"Wisconsin\", \"id\": 55, \"data_analysis\": 0, \"data_science\": 2, \"machine_learning\": 0}, {\"state\": \"Alaska\", \"id\": 2, \"data_analysis\": 0, \"data_science\": 0, \"machine_learning\": 0}, {\"state\": \"Arizona\", \"id\": 4, \"data_analysis\": 0, \"data_science\": 0, \"machine_learning\": 0}, {\"state\": \"Connecticut\", \"id\": 9, \"data_analysis\": 0, \"data_science\": 0, \"machine_learning\": 0}, {\"state\": \"Delaware\", \"id\": 10, \"data_analysis\": 0, \"data_science\": 0, \"machine_learning\": 0}, {\"state\": \"District of Columbia\", \"id\": 11, \"data_analysis\": 0, \"data_science\": 0, \"machine_learning\": 0}, {\"state\": \"Florida\", \"id\": 12, \"data_analysis\": 0, \"data_science\": 0, \"machine_learning\": 0}, {\"state\": \"Georgia\", \"id\": 13, \"data_analysis\": 0, \"data_science\": 0, \"machine_learning\": 0}, {\"state\": \"Hawaii\", \"id\": 15, \"data_analysis\": 0, \"data_science\": 0, \"machine_learning\": 0}, {\"state\": \"Idaho\", \"id\": 16, \"data_analysis\": 0, \"data_science\": 0, \"machine_learning\": 0}, {\"state\": \"Iowa\", \"id\": 19, \"data_analysis\": 0, \"data_science\": 0, \"machine_learning\": 0}, {\"state\": \"Kentucky\", \"id\": 21, \"data_analysis\": 0, \"data_science\": 0, \"machine_learning\": 0}, {\"state\": \"Louisiana\", \"id\": 22, \"data_analysis\": 0, \"data_science\": 0, \"machine_learning\": 0}, {\"state\": \"Maine\", \"id\": 23, \"data_analysis\": 0, \"data_science\": 0, \"machine_learning\": 0}, {\"state\": \"Mississippi\", \"id\": 28, \"data_analysis\": 0, \"data_science\": 0, \"machine_learning\": 0}, {\"state\": \"Montana\", \"id\": 30, \"data_analysis\": 0, \"data_science\": 0, \"machine_learning\": 0}, {\"state\": \"Nevada\", \"id\": 32, \"data_analysis\": 0, \"data_science\": 0, \"machine_learning\": 0}, {\"state\": \"New Hampshire\", \"id\": 33, \"data_analysis\": 0, \"data_science\": 0, \"machine_learning\": 0}, {\"state\": \"New Jersey\", \"id\": 34, \"data_analysis\": 0, \"data_science\": 0, \"machine_learning\": 0}, {\"state\": \"New Mexico\", \"id\": 35, \"data_analysis\": 0, \"data_science\": 0, \"machine_learning\": 0}, {\"state\": \"North Carolina\", \"id\": 37, \"data_analysis\": 0, \"data_science\": 0, \"machine_learning\": 0}, {\"state\": \"North Dakota\", \"id\": 38, \"data_analysis\": 0, \"data_science\": 0, \"machine_learning\": 0}, {\"state\": \"Ohio\", \"id\": 39, \"data_analysis\": 0, \"data_science\": 0, \"machine_learning\": 0}, {\"state\": \"Oregon\", \"id\": 41, \"data_analysis\": 0, \"data_science\": 0, \"machine_learning\": 0}, {\"state\": \"Pennsylvania\", \"id\": 42, \"data_analysis\": 0, \"data_science\": 0, \"machine_learning\": 0}, {\"state\": \"Rhode Island\", \"id\": 44, \"data_analysis\": 0, \"data_science\": 0, \"machine_learning\": 0}, {\"state\": \"South Carolina\", \"id\": 45, \"data_analysis\": 0, \"data_science\": 0, \"machine_learning\": 0}, {\"state\": \"South Dakota\", \"id\": 46, \"data_analysis\": 0, \"data_science\": 0, \"machine_learning\": 0}, {\"state\": \"Utah\", \"id\": 49, \"data_analysis\": 0, \"data_science\": 0, \"machine_learning\": 0}, {\"state\": \"Vermont\", \"id\": 50, \"data_analysis\": 0, \"data_science\": 0, \"machine_learning\": 0}, {\"state\": \"Virginia\", \"id\": 51, \"data_analysis\": 0, \"data_science\": 0, \"machine_learning\": 0}, {\"state\": \"West Virginia\", \"id\": 54, \"data_analysis\": 0, \"data_science\": 0, \"machine_learning\": 0}, {\"state\": \"Wyoming\", \"id\": 56, \"data_analysis\": 0, \"data_science\": 0, \"machine_learning\": 0}, {\"state\": \"Puerto Rico\", \"id\": 72, \"data_analysis\": 0, \"data_science\": 0, \"machine_learning\": 0}]}}, {\"mode\": \"vega-lite\"});\n",
       "</script>"
      ],
      "text/plain": [
       "alt.Chart(...)"
      ]
     },
     "execution_count": 183,
     "metadata": {},
     "output_type": "execute_result"
    }
   ],
   "source": [
    "import altair as alt\n",
    "import pandas as pd\n",
    "from vega_datasets import data\n",
    "df_test = pd.read_csv('../data/population_engineers_hurricanes.csv')\n",
    "\n",
    "states = alt.topo_feature(data.us_10m.url, 'states')\n",
    "source = df_test\n",
    "chart2 = alt.Chart(states).mark_geoshape().encode(\n",
    "    color=alt.Color('data_science:Q', legend=alt.Legend(title='Job titles')),\n",
    "    tooltip=['state:N', 'data_science:Q']\n",
    ").transform_lookup(\n",
    "    lookup='id',\n",
    "    from_=alt.LookupData(source, 'id', ['state','data_science'])\n",
    ").project(\n",
    "    type='albersUsa'\n",
    ").properties(\n",
    "    width=600,\n",
    "    height=450,\n",
    "    title='A chroropleth map of data science job titles per state',\n",
    "    background='#272b2e'\n",
    ").configure_title(\n",
    "    fontSize=22,\n",
    "    color='white', # set the title font color to white\n",
    "    anchor='middle',\n",
    ").configure_legend(\n",
    "    labelColor='white',\n",
    "    titleColor='white',\n",
    "    labelFontSize=14, \n",
    ").configure_view(stroke=None)\n",
    "\n",
    "chart2.save('../images/chloropleth2.html')\n",
    "chart2"
   ]
  },
  {
   "cell_type": "code",
   "execution_count": 192,
   "metadata": {},
   "outputs": [
    {
     "data": {
      "text/html": [
       "\n",
       "        <iframe\n",
       "            width=\"100%\"\n",
       "            height=\"700px\"\n",
       "            src=\"../images/my_network.html\"\n",
       "            frameborder=\"0\"\n",
       "            allowfullscreen\n",
       "            \n",
       "        ></iframe>\n",
       "        "
      ],
      "text/plain": [
       "<IPython.lib.display.IFrame at 0x1716ba0e0>"
      ]
     },
     "execution_count": 192,
     "metadata": {},
     "output_type": "execute_result"
    }
   ],
   "source": [
    "# companies and job types\n",
    "import pandas as pd\n",
    "from pyvis.network import Network\n",
    "\n",
    "df_company = df.groupby(['job_type','company_name']).size().reset_index(name='edge_weight')\n",
    "\n",
    "# Create object\n",
    "net = Network(height='700px', width='100%', bgcolor='#272B2E', font_color='white',\n",
    "              notebook=True, cdn_resources=\"remote\", select_menu=False, filter_menu=True)\n",
    "\n",
    "# Add nodes \n",
    "companies = df_company['company_name'].unique()\n",
    "for company in companies:\n",
    "    net.add_node(company, title=company, color='#C7D3AB', shape='dot', border_width=0)\n",
    "\n",
    "job_types = df_company['job_type'].unique()\n",
    "\n",
    "for jobtype in job_types:\n",
    "    net.add_node(jobtype, title=jobtype, color='#A3BCD6', shape='dot', size=40, border_width=0)\n",
    "\n",
    "# Add edges between the company and job title nodes based on the data\n",
    "for i, row in df_company.iterrows():\n",
    "    net.add_edge(row['company_name'], row['job_type'], value=row['edge_weight'], title=\"weight: {}\".format(row['edge_weight']))\n",
    "\n",
    "net.show('../images/my_network.html')\n"
   ]
  }
 ],
 "metadata": {
  "interpreter": {
   "hash": "20dd34bb65c455887199d6cb13dd1061eaaba2e960b7259bd6b1be1811da0914"
  },
  "kernelspec": {
   "display_name": "Python 3.10.8 ('anly503')",
   "language": "python",
   "name": "python3"
  },
  "language_info": {
   "codemirror_mode": {
    "name": "ipython",
    "version": 3
   },
   "file_extension": ".py",
   "mimetype": "text/x-python",
   "name": "python",
   "nbconvert_exporter": "python",
   "pygments_lexer": "ipython3",
   "version": "3.10.8"
  },
  "orig_nbformat": 4
 },
 "nbformat": 4,
 "nbformat_minor": 2
}
